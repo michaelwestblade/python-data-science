{
 "cells": [
  {
   "cell_type": "markdown",
   "metadata": {},
   "source": [
    "# Project 6: Importing & Merging many files (Baby Names Dataset) - Part 2"
   ]
  },
  {
   "cell_type": "markdown",
   "metadata": {},
   "source": [
    "# Project Brief for Self-Coders"
   ]
  },
  {
   "cell_type": "markdown",
   "metadata": {},
   "source": [
    "Here you´ll have the opportunity to code major parts of Project 6 (Part 2) on your own. If you need any help or inspiration, have a look at the Videos or the Jupyter Notebook with the full code. <br> <br>\n",
    "Keep in mind that it´s all about __getting the right results/conclusions__. It´s not about finding the identical code. Things can be coded in many different ways. Even if you come to the same conclusions, it´s very unlikely that we have the very same code. "
   ]
  },
  {
   "cell_type": "markdown",
   "metadata": {},
   "source": [
    "## Getting the Files from the Web"
   ]
  },
  {
   "cell_type": "markdown",
   "metadata": {},
   "source": [
    "1. __Go__ to https://catalog.data.gov/dataset/baby-names-from-social-security-card-applications-state-and-district-of-columbia-data and __download__ and __unzip__ the file."
   ]
  },
  {
   "cell_type": "code",
   "execution_count": null,
   "metadata": {},
   "outputs": [],
   "source": []
  },
  {
   "cell_type": "markdown",
   "metadata": {},
   "source": [
    "## Importing one File & Understanding the Data Structure "
   ]
  },
  {
   "cell_type": "markdown",
   "metadata": {},
   "source": [
    "2. __Load__ the file __\"AK.txt\"__ into Pandas and __inspect__."
   ]
  },
  {
   "cell_type": "code",
   "execution_count": 1,
   "metadata": {
    "ExecuteTime": {
     "end_time": "2023-07-19T00:28:09.339444500Z",
     "start_time": "2023-07-19T00:28:08.915499800Z"
    }
   },
   "outputs": [],
   "source": [
    "import pandas as pd"
   ]
  },
  {
   "cell_type": "code",
   "execution_count": 2,
   "outputs": [
    {
     "data": {
      "text/plain": "       AK  F  1910      Mary  14\n0      AK  F  1910     Annie  12\n1      AK  F  1910      Anna  10\n2      AK  F  1910  Margaret   8\n3      AK  F  1910     Helen   7\n4      AK  F  1910     Elsie   6\n...    .. ..   ...       ...  ..\n28522  AK  M  2018      Theo   5\n28523  AK  M  2018    Thorin   5\n28524  AK  M  2018   Trenton   5\n28525  AK  M  2018    Victor   5\n28526  AK  M  2018      Zion   5\n\n[28527 rows x 5 columns]",
      "text/html": "<div>\n<style scoped>\n    .dataframe tbody tr th:only-of-type {\n        vertical-align: middle;\n    }\n\n    .dataframe tbody tr th {\n        vertical-align: top;\n    }\n\n    .dataframe thead th {\n        text-align: right;\n    }\n</style>\n<table border=\"1\" class=\"dataframe\">\n  <thead>\n    <tr style=\"text-align: right;\">\n      <th></th>\n      <th>AK</th>\n      <th>F</th>\n      <th>1910</th>\n      <th>Mary</th>\n      <th>14</th>\n    </tr>\n  </thead>\n  <tbody>\n    <tr>\n      <th>0</th>\n      <td>AK</td>\n      <td>F</td>\n      <td>1910</td>\n      <td>Annie</td>\n      <td>12</td>\n    </tr>\n    <tr>\n      <th>1</th>\n      <td>AK</td>\n      <td>F</td>\n      <td>1910</td>\n      <td>Anna</td>\n      <td>10</td>\n    </tr>\n    <tr>\n      <th>2</th>\n      <td>AK</td>\n      <td>F</td>\n      <td>1910</td>\n      <td>Margaret</td>\n      <td>8</td>\n    </tr>\n    <tr>\n      <th>3</th>\n      <td>AK</td>\n      <td>F</td>\n      <td>1910</td>\n      <td>Helen</td>\n      <td>7</td>\n    </tr>\n    <tr>\n      <th>4</th>\n      <td>AK</td>\n      <td>F</td>\n      <td>1910</td>\n      <td>Elsie</td>\n      <td>6</td>\n    </tr>\n    <tr>\n      <th>...</th>\n      <td>...</td>\n      <td>...</td>\n      <td>...</td>\n      <td>...</td>\n      <td>...</td>\n    </tr>\n    <tr>\n      <th>28522</th>\n      <td>AK</td>\n      <td>M</td>\n      <td>2018</td>\n      <td>Theo</td>\n      <td>5</td>\n    </tr>\n    <tr>\n      <th>28523</th>\n      <td>AK</td>\n      <td>M</td>\n      <td>2018</td>\n      <td>Thorin</td>\n      <td>5</td>\n    </tr>\n    <tr>\n      <th>28524</th>\n      <td>AK</td>\n      <td>M</td>\n      <td>2018</td>\n      <td>Trenton</td>\n      <td>5</td>\n    </tr>\n    <tr>\n      <th>28525</th>\n      <td>AK</td>\n      <td>M</td>\n      <td>2018</td>\n      <td>Victor</td>\n      <td>5</td>\n    </tr>\n    <tr>\n      <th>28526</th>\n      <td>AK</td>\n      <td>M</td>\n      <td>2018</td>\n      <td>Zion</td>\n      <td>5</td>\n    </tr>\n  </tbody>\n</table>\n<p>28527 rows × 5 columns</p>\n</div>"
     },
     "execution_count": 2,
     "metadata": {},
     "output_type": "execute_result"
    }
   ],
   "source": [
    "pd.read_csv(\"AK.TXT\")"
   ],
   "metadata": {
    "collapsed": false,
    "ExecuteTime": {
     "end_time": "2023-07-19T00:28:24.192116400Z",
     "start_time": "2023-07-19T00:28:24.150954400Z"
    }
   }
  },
  {
   "cell_type": "code",
   "execution_count": 3,
   "outputs": [
    {
     "data": {
      "text/plain": "      State Gender  Year      Name  Count\n0        AK      F  1910      Mary     14\n1        AK      F  1910     Annie     12\n2        AK      F  1910      Anna     10\n3        AK      F  1910  Margaret      8\n4        AK      F  1910     Helen      7\n...     ...    ...   ...       ...    ...\n28523    AK      M  2018      Theo      5\n28524    AK      M  2018    Thorin      5\n28525    AK      M  2018   Trenton      5\n28526    AK      M  2018    Victor      5\n28527    AK      M  2018      Zion      5\n\n[28528 rows x 5 columns]",
      "text/html": "<div>\n<style scoped>\n    .dataframe tbody tr th:only-of-type {\n        vertical-align: middle;\n    }\n\n    .dataframe tbody tr th {\n        vertical-align: top;\n    }\n\n    .dataframe thead th {\n        text-align: right;\n    }\n</style>\n<table border=\"1\" class=\"dataframe\">\n  <thead>\n    <tr style=\"text-align: right;\">\n      <th></th>\n      <th>State</th>\n      <th>Gender</th>\n      <th>Year</th>\n      <th>Name</th>\n      <th>Count</th>\n    </tr>\n  </thead>\n  <tbody>\n    <tr>\n      <th>0</th>\n      <td>AK</td>\n      <td>F</td>\n      <td>1910</td>\n      <td>Mary</td>\n      <td>14</td>\n    </tr>\n    <tr>\n      <th>1</th>\n      <td>AK</td>\n      <td>F</td>\n      <td>1910</td>\n      <td>Annie</td>\n      <td>12</td>\n    </tr>\n    <tr>\n      <th>2</th>\n      <td>AK</td>\n      <td>F</td>\n      <td>1910</td>\n      <td>Anna</td>\n      <td>10</td>\n    </tr>\n    <tr>\n      <th>3</th>\n      <td>AK</td>\n      <td>F</td>\n      <td>1910</td>\n      <td>Margaret</td>\n      <td>8</td>\n    </tr>\n    <tr>\n      <th>4</th>\n      <td>AK</td>\n      <td>F</td>\n      <td>1910</td>\n      <td>Helen</td>\n      <td>7</td>\n    </tr>\n    <tr>\n      <th>...</th>\n      <td>...</td>\n      <td>...</td>\n      <td>...</td>\n      <td>...</td>\n      <td>...</td>\n    </tr>\n    <tr>\n      <th>28523</th>\n      <td>AK</td>\n      <td>M</td>\n      <td>2018</td>\n      <td>Theo</td>\n      <td>5</td>\n    </tr>\n    <tr>\n      <th>28524</th>\n      <td>AK</td>\n      <td>M</td>\n      <td>2018</td>\n      <td>Thorin</td>\n      <td>5</td>\n    </tr>\n    <tr>\n      <th>28525</th>\n      <td>AK</td>\n      <td>M</td>\n      <td>2018</td>\n      <td>Trenton</td>\n      <td>5</td>\n    </tr>\n    <tr>\n      <th>28526</th>\n      <td>AK</td>\n      <td>M</td>\n      <td>2018</td>\n      <td>Victor</td>\n      <td>5</td>\n    </tr>\n    <tr>\n      <th>28527</th>\n      <td>AK</td>\n      <td>M</td>\n      <td>2018</td>\n      <td>Zion</td>\n      <td>5</td>\n    </tr>\n  </tbody>\n</table>\n<p>28528 rows × 5 columns</p>\n</div>"
     },
     "execution_count": 3,
     "metadata": {},
     "output_type": "execute_result"
    }
   ],
   "source": [
    "pd.read_csv(\"AK.TXT\", header = None, names = [\"State\", \"Gender\", \"Year\", \"Name\", \"Count\"])"
   ],
   "metadata": {
    "collapsed": false,
    "ExecuteTime": {
     "end_time": "2023-07-19T00:28:33.111673400Z",
     "start_time": "2023-07-19T00:28:33.083414400Z"
    }
   }
  },
  {
   "cell_type": "code",
   "execution_count": null,
   "outputs": [],
   "source": [],
   "metadata": {
    "collapsed": false
   }
  },
  {
   "cell_type": "markdown",
   "metadata": {},
   "source": [
    "## The glob module"
   ]
  },
  {
   "cell_type": "markdown",
   "metadata": {},
   "source": [
    "3. From glob import glob."
   ]
  },
  {
   "cell_type": "markdown",
   "metadata": {},
   "source": [
    "4. __Find__ all filenames with the structure __\"A?.txt\"__ in your current directory (? is a single charcter wildcard)."
   ]
  },
  {
   "cell_type": "markdown",
   "metadata": {},
   "source": [
    "5. __Find__ all filenames with the following structure in your current directory and save the resulting list in a variable:"
   ]
  },
  {
   "cell_type": "code",
   "execution_count": null,
   "metadata": {},
   "outputs": [],
   "source": [
    "\"*.txt\" # (* is a wildcard for zero or many characters)"
   ]
  },
  {
   "cell_type": "code",
   "execution_count": 4,
   "metadata": {
    "ExecuteTime": {
     "end_time": "2023-07-19T00:28:55.362472500Z",
     "start_time": "2023-07-19T00:28:55.341914700Z"
    }
   },
   "outputs": [],
   "source": [
    "import pandas as pd\n",
    "from glob import glob"
   ]
  },
  {
   "cell_type": "code",
   "execution_count": 5,
   "outputs": [
    {
     "data": {
      "text/plain": "['AK.TXT', 'AL.TXT', 'AR.TXT', 'AZ.TXT']"
     },
     "execution_count": 5,
     "metadata": {},
     "output_type": "execute_result"
    }
   ],
   "source": [
    "glob(\"A?.TXT\")"
   ],
   "metadata": {
    "collapsed": false,
    "ExecuteTime": {
     "end_time": "2023-07-19T00:29:04.464758400Z",
     "start_time": "2023-07-19T00:29:04.436349700Z"
    }
   }
  },
  {
   "cell_type": "code",
   "execution_count": 6,
   "outputs": [
    {
     "data": {
      "text/plain": "['AK.TXT',\n 'AL.TXT',\n 'AR.TXT',\n 'AZ.TXT',\n 'CA.TXT',\n 'CO.TXT',\n 'CT.TXT',\n 'DC.TXT',\n 'DE.TXT',\n 'FL.TXT',\n 'GA.TXT',\n 'HI.TXT',\n 'IA.TXT',\n 'ID.TXT',\n 'IL.TXT',\n 'IN.TXT',\n 'KS.TXT',\n 'KY.TXT',\n 'LA.TXT',\n 'MA.TXT',\n 'MD.TXT',\n 'ME.TXT',\n 'MI.TXT',\n 'MN.TXT',\n 'MO.TXT',\n 'MS.TXT',\n 'MT.TXT',\n 'NC.TXT',\n 'ND.TXT',\n 'NE.TXT',\n 'NH.TXT',\n 'NJ.TXT',\n 'NM.TXT',\n 'NV.TXT',\n 'NY.TXT',\n 'OH.TXT',\n 'OK.TXT',\n 'OR.TXT',\n 'PA.TXT',\n 'RI.TXT',\n 'SC.TXT',\n 'SD.TXT',\n 'TN.TXT',\n 'TX.TXT',\n 'UT.TXT',\n 'VA.TXT',\n 'VT.TXT',\n 'WA.TXT',\n 'WI.TXT',\n 'WV.TXT',\n 'WY.TXT']"
     },
     "execution_count": 6,
     "metadata": {},
     "output_type": "execute_result"
    }
   ],
   "source": [
    "glob(\"*.TXT\")"
   ],
   "metadata": {
    "collapsed": false,
    "ExecuteTime": {
     "end_time": "2023-07-19T00:29:17.276848Z",
     "start_time": "2023-07-19T00:29:17.252664900Z"
    }
   }
  },
  {
   "cell_type": "code",
   "execution_count": 7,
   "outputs": [
    {
     "data": {
      "text/plain": "['subdir\\\\yob1880.txt', 'subdir\\\\yob1881.txt']"
     },
     "execution_count": 7,
     "metadata": {},
     "output_type": "execute_result"
    }
   ],
   "source": [
    "glob(\"subdir\\\\*.TXT\")"
   ],
   "metadata": {
    "collapsed": false,
    "ExecuteTime": {
     "end_time": "2023-07-19T00:29:24.267274100Z",
     "start_time": "2023-07-19T00:29:24.245872200Z"
    }
   }
  },
  {
   "cell_type": "code",
   "execution_count": 8,
   "outputs": [
    {
     "data": {
      "text/plain": "           Mary  F  7065\n0          Anna  F  2604\n1          Emma  F  2003\n2     Elizabeth  F  1939\n3        Minnie  F  1746\n4      Margaret  F  1578\n...         ... ..   ...\n1994     Woodie  M     5\n1995     Worthy  M     5\n1996     Wright  M     5\n1997       York  M     5\n1998  Zachariah  M     5\n\n[1999 rows x 3 columns]",
      "text/html": "<div>\n<style scoped>\n    .dataframe tbody tr th:only-of-type {\n        vertical-align: middle;\n    }\n\n    .dataframe tbody tr th {\n        vertical-align: top;\n    }\n\n    .dataframe thead th {\n        text-align: right;\n    }\n</style>\n<table border=\"1\" class=\"dataframe\">\n  <thead>\n    <tr style=\"text-align: right;\">\n      <th></th>\n      <th>Mary</th>\n      <th>F</th>\n      <th>7065</th>\n    </tr>\n  </thead>\n  <tbody>\n    <tr>\n      <th>0</th>\n      <td>Anna</td>\n      <td>F</td>\n      <td>2604</td>\n    </tr>\n    <tr>\n      <th>1</th>\n      <td>Emma</td>\n      <td>F</td>\n      <td>2003</td>\n    </tr>\n    <tr>\n      <th>2</th>\n      <td>Elizabeth</td>\n      <td>F</td>\n      <td>1939</td>\n    </tr>\n    <tr>\n      <th>3</th>\n      <td>Minnie</td>\n      <td>F</td>\n      <td>1746</td>\n    </tr>\n    <tr>\n      <th>4</th>\n      <td>Margaret</td>\n      <td>F</td>\n      <td>1578</td>\n    </tr>\n    <tr>\n      <th>...</th>\n      <td>...</td>\n      <td>...</td>\n      <td>...</td>\n    </tr>\n    <tr>\n      <th>1994</th>\n      <td>Woodie</td>\n      <td>M</td>\n      <td>5</td>\n    </tr>\n    <tr>\n      <th>1995</th>\n      <td>Worthy</td>\n      <td>M</td>\n      <td>5</td>\n    </tr>\n    <tr>\n      <th>1996</th>\n      <td>Wright</td>\n      <td>M</td>\n      <td>5</td>\n    </tr>\n    <tr>\n      <th>1997</th>\n      <td>York</td>\n      <td>M</td>\n      <td>5</td>\n    </tr>\n    <tr>\n      <th>1998</th>\n      <td>Zachariah</td>\n      <td>M</td>\n      <td>5</td>\n    </tr>\n  </tbody>\n</table>\n<p>1999 rows × 3 columns</p>\n</div>"
     },
     "execution_count": 8,
     "metadata": {},
     "output_type": "execute_result"
    }
   ],
   "source": [
    "pd.read_csv(\"subdir\\\\yob1880.txt\")"
   ],
   "metadata": {
    "collapsed": false,
    "ExecuteTime": {
     "end_time": "2023-07-19T00:29:32.453531400Z",
     "start_time": "2023-07-19T00:29:32.424577400Z"
    }
   }
  },
  {
   "cell_type": "code",
   "execution_count": 9,
   "outputs": [],
   "source": [
    "filenames = glob(\"*.TXT\")"
   ],
   "metadata": {
    "collapsed": false,
    "ExecuteTime": {
     "end_time": "2023-07-19T00:29:40.257134400Z",
     "start_time": "2023-07-19T00:29:40.234227600Z"
    }
   }
  },
  {
   "cell_type": "code",
   "execution_count": 10,
   "outputs": [
    {
     "data": {
      "text/plain": "['AK.TXT',\n 'AL.TXT',\n 'AR.TXT',\n 'AZ.TXT',\n 'CA.TXT',\n 'CO.TXT',\n 'CT.TXT',\n 'DC.TXT',\n 'DE.TXT',\n 'FL.TXT',\n 'GA.TXT',\n 'HI.TXT',\n 'IA.TXT',\n 'ID.TXT',\n 'IL.TXT',\n 'IN.TXT',\n 'KS.TXT',\n 'KY.TXT',\n 'LA.TXT',\n 'MA.TXT',\n 'MD.TXT',\n 'ME.TXT',\n 'MI.TXT',\n 'MN.TXT',\n 'MO.TXT',\n 'MS.TXT',\n 'MT.TXT',\n 'NC.TXT',\n 'ND.TXT',\n 'NE.TXT',\n 'NH.TXT',\n 'NJ.TXT',\n 'NM.TXT',\n 'NV.TXT',\n 'NY.TXT',\n 'OH.TXT',\n 'OK.TXT',\n 'OR.TXT',\n 'PA.TXT',\n 'RI.TXT',\n 'SC.TXT',\n 'SD.TXT',\n 'TN.TXT',\n 'TX.TXT',\n 'UT.TXT',\n 'VA.TXT',\n 'VT.TXT',\n 'WA.TXT',\n 'WI.TXT',\n 'WV.TXT',\n 'WY.TXT']"
     },
     "execution_count": 10,
     "metadata": {},
     "output_type": "execute_result"
    }
   ],
   "source": [
    "filenames"
   ],
   "metadata": {
    "collapsed": false,
    "ExecuteTime": {
     "end_time": "2023-07-19T00:29:44.163666600Z",
     "start_time": "2023-07-19T00:29:44.132289400Z"
    }
   }
  },
  {
   "cell_type": "code",
   "execution_count": 11,
   "outputs": [
    {
     "data": {
      "text/plain": "51"
     },
     "execution_count": 11,
     "metadata": {},
     "output_type": "execute_result"
    }
   ],
   "source": [
    "len(filenames)"
   ],
   "metadata": {
    "collapsed": false,
    "ExecuteTime": {
     "end_time": "2023-07-19T00:29:48.815540800Z",
     "start_time": "2023-07-19T00:29:48.798433500Z"
    }
   }
  },
  {
   "cell_type": "markdown",
   "metadata": {},
   "source": [
    "# Importing & merging many Files (complex case)"
   ]
  },
  {
   "cell_type": "markdown",
   "metadata": {},
   "source": [
    "6. __Load__ all files (*.txt) and __merge/concatenate__ all files into one Pandas DataFrame."
   ]
  },
  {
   "cell_type": "markdown",
   "metadata": {},
   "source": [
    "7. Create a __RangeIndex__ and __save__ the DataFrame (with columns \"State\", \"Gender\", \"Year\", \"Name\", \"Count\") in a new csv-file."
   ]
  },
  {
   "cell_type": "code",
   "execution_count": 12,
   "metadata": {
    "ExecuteTime": {
     "end_time": "2023-07-19T00:30:01.411186900Z",
     "start_time": "2023-07-19T00:30:01.389116Z"
    }
   },
   "outputs": [
    {
     "data": {
      "text/plain": "['AK.TXT',\n 'AL.TXT',\n 'AR.TXT',\n 'AZ.TXT',\n 'CA.TXT',\n 'CO.TXT',\n 'CT.TXT',\n 'DC.TXT',\n 'DE.TXT',\n 'FL.TXT',\n 'GA.TXT',\n 'HI.TXT',\n 'IA.TXT',\n 'ID.TXT',\n 'IL.TXT',\n 'IN.TXT',\n 'KS.TXT',\n 'KY.TXT',\n 'LA.TXT',\n 'MA.TXT',\n 'MD.TXT',\n 'ME.TXT',\n 'MI.TXT',\n 'MN.TXT',\n 'MO.TXT',\n 'MS.TXT',\n 'MT.TXT',\n 'NC.TXT',\n 'ND.TXT',\n 'NE.TXT',\n 'NH.TXT',\n 'NJ.TXT',\n 'NM.TXT',\n 'NV.TXT',\n 'NY.TXT',\n 'OH.TXT',\n 'OK.TXT',\n 'OR.TXT',\n 'PA.TXT',\n 'RI.TXT',\n 'SC.TXT',\n 'SD.TXT',\n 'TN.TXT',\n 'TX.TXT',\n 'UT.TXT',\n 'VA.TXT',\n 'VT.TXT',\n 'WA.TXT',\n 'WI.TXT',\n 'WV.TXT',\n 'WY.TXT']"
     },
     "execution_count": 12,
     "metadata": {},
     "output_type": "execute_result"
    }
   ],
   "source": [
    "filenames"
   ]
  },
  {
   "cell_type": "code",
   "execution_count": 13,
   "outputs": [],
   "source": [
    "dataframes = []\n",
    "for name in filenames:\n",
    "    df = pd.read_csv(name, header = None, names = [\"State\", \"Gender\", \"Year\", \"Name\", \"Count\"])\n",
    "    dataframes.append(df)"
   ],
   "metadata": {
    "collapsed": false,
    "ExecuteTime": {
     "end_time": "2023-07-19T00:30:07.665107300Z",
     "start_time": "2023-07-19T00:30:05.589239200Z"
    }
   }
  },
  {
   "cell_type": "code",
   "execution_count": 14,
   "outputs": [
    {
     "data": {
      "text/plain": "[      State Gender  Year      Name  Count\n 0        AK      F  1910      Mary     14\n 1        AK      F  1910     Annie     12\n 2        AK      F  1910      Anna     10\n 3        AK      F  1910  Margaret      8\n 4        AK      F  1910     Helen      7\n ...     ...    ...   ...       ...    ...\n 28523    AK      M  2018      Theo      5\n 28524    AK      M  2018    Thorin      5\n 28525    AK      M  2018   Trenton      5\n 28526    AK      M  2018    Victor      5\n 28527    AK      M  2018      Zion      5\n \n [28528 rows x 5 columns],\n        State Gender  Year       Name  Count\n 0         AL      F  1910       Mary    875\n 1         AL      F  1910      Annie    482\n 2         AL      F  1910     Willie    257\n 3         AL      F  1910     Mattie    232\n 4         AL      F  1910       Ruby    204\n ...      ...    ...   ...        ...    ...\n 133860    AL      M  2018    Wallace      5\n 133861    AL      M  2018     Westyn      5\n 133862    AL      M  2018      Yazan      5\n 133863    AL      M  2018     Yousef      5\n 133864    AL      M  2018  Zechariah      5\n \n [133865 rows x 5 columns],\n        State Gender  Year     Name  Count\n 0         AR      F  1910     Mary    408\n 1         AR      F  1910     Ruby    148\n 2         AR      F  1910     Ruth    140\n 3         AR      F  1910   Willie    132\n 4         AR      F  1910    Ethel    109\n ...      ...    ...   ...      ...    ...\n 101460    AR      M  2018   Watson      5\n 101461    AR      M  2018   Wesson      5\n 101462    AR      M  2018  Xzavier      5\n 101463    AR      M  2018    Yahir      5\n 101464    AR      M  2018    Yahya      5\n \n [101465 rows x 5 columns],\n        State Gender  Year       Name  Count\n 0         AZ      F  1910       Mary     74\n 1         AZ      F  1910      Maria     29\n 2         AZ      F  1910      Alice     27\n 3         AZ      F  1910   Margaret     19\n 4         AZ      F  1910      Helen     18\n ...      ...    ...   ...        ...    ...\n 115365    AZ      M  2018       Yael      5\n 115366    AZ      M  2018  Zacharias      5\n 115367    AZ      M  2018     Zaidyn      5\n 115368    AZ      M  2018       Zain      5\n 115369    AZ      M  2018     Zavian      5\n \n [115370 rows x 5 columns],\n        State Gender  Year      Name  Count\n 0         CA      F  1910      Mary    295\n 1         CA      F  1910     Helen    239\n 2         CA      F  1910   Dorothy    220\n 3         CA      F  1910  Margaret    163\n 4         CA      F  1910   Frances    134\n ...      ...    ...   ...       ...    ...\n 381209    CA      M  2018       Zed      5\n 381210    CA      M  2018      Zein      5\n 381211    CA      M  2018    Zhaire      5\n 381212    CA      M  2018    Zidane      5\n 381213    CA      M  2018    Zuriel      5\n \n [381214 rows x 5 columns],\n        State Gender  Year       Name  Count\n 0         CO      F  1910       Mary    193\n 1         CO      F  1910      Helen    112\n 2         CO      F  1910    Dorothy     87\n 3         CO      F  1910       Ruth     68\n 4         CO      F  1910   Margaret     67\n ...      ...    ...   ...        ...    ...\n 107218    CO      M  2018    Westley      5\n 107219    CO      M  2018     Westyn      5\n 107220    CO      M  2018     Yariel      5\n 107221    CO      M  2018     Zavian      5\n 107222    CO      M  2018  Zechariah      5\n \n [107223 rows x 5 columns],\n       State Gender  Year      Name  Count\n 0        CT      F  1910      Mary    304\n 1        CT      F  1910     Helen    170\n 2        CT      F  1910      Anna    131\n 3        CT      F  1910  Margaret     99\n 4        CT      F  1910   Dorothy     90\n ...     ...    ...   ...       ...    ...\n 81476    CT      M  2018      Wade      5\n 81477    CT      M  2018    Yadiel      5\n 81478    CT      M  2018     Zaire      5\n 81479    CT      M  2018    Zander      5\n 81480    CT      M  2018     Zayne      5\n \n [81481 rows x 5 columns],\n       State Gender  Year       Name  Count\n 0        DC      F  1910       Mary     80\n 1        DC      F  1910   Margaret     72\n 2        DC      F  1910      Helen     52\n 3        DC      F  1910    Dorothy     50\n 4        DC      F  1910  Elizabeth     34\n ...     ...    ...   ...        ...    ...\n 55644    DC      M  2018       Noel      5\n 55645    DC      M  2018     Sidney      5\n 55646    DC      M  2018      Tyson      5\n 55647    DC      M  2018      Zakai      5\n 55648    DC      M  2018       Zane      5\n \n [55649 rows x 5 columns],\n       State Gender  Year       Name  Count\n 0        DE      F  1910       Mary     59\n 1        DE      F  1910   Margaret     40\n 2        DE      F  1910      Helen     37\n 3        DE      F  1910  Elizabeth     27\n 4        DE      F  1910       Anna     20\n ...     ...    ...   ...        ...    ...\n 32308    DE      M  2018      Rocco      5\n 32309    DE      M  2018      Rylan      5\n 32310    DE      M  2018      Semaj      5\n 32311    DE      M  2018     Steven      5\n 32312    DE      M  2018     Thiago      5\n \n [32313 rows x 5 columns],\n        State Gender  Year     Name  Count\n 0         FL      F  1910     Mary    239\n 1         FL      F  1910    Annie    101\n 2         FL      F  1910    Ethel     82\n 3         FL      F  1910   Willie     71\n 4         FL      F  1910   Louise     70\n ...      ...    ...   ...      ...    ...\n 205060    FL      M  2018  Zackery      5\n 205061    FL      M  2018     Zael      5\n 205062    FL      M  2018   Zamari      5\n 205063    FL      M  2018    Ziggy      5\n 205064    FL      M  2018     Zyir      5\n \n [205065 rows x 5 columns],\n        State Gender  Year     Name  Count\n 0         GA      F  1910     Mary    841\n 1         GA      F  1910    Annie    553\n 2         GA      F  1910   Mattie    320\n 3         GA      F  1910     Ruby    279\n 4         GA      F  1910   Willie    275\n ...      ...    ...   ...      ...    ...\n 181658    GA      M  2018   Zacari      5\n 181659    GA      M  2018  Zachery      5\n 181660    GA      M  2018     Zack      5\n 181661    GA      M  2018    Zyion      5\n 181662    GA      M  2018     Zyir      5\n \n [181663 rows x 5 columns],\n       State Gender  Year      Name  Count\n 0        HI      F  1910      Mary     47\n 1        HI      F  1910     Helen     20\n 2        HI      F  1910     Alice     19\n 3        HI      F  1910      Rose     18\n 4        HI      F  1910    Violet     16\n ...     ...    ...   ...       ...    ...\n 54447    HI      M  2018      Sean      5\n 54448    HI      M  2018    Steven      5\n 54449    HI      M  2018  Thaddeus      5\n 54450    HI      M  2018    Tobias      5\n 54451    HI      M  2018    Waylon      5\n \n [54452 rows x 5 columns],\n       State Gender  Year     Name  Count\n 0        IA      F  1910    Helen    249\n 1        IA      F  1910     Mary    239\n 2        IA      F  1910  Dorothy    185\n 3        IA      F  1910  Mildred    162\n 4        IA      F  1910     Ruth    155\n ...     ...    ...   ...      ...    ...\n 93522    IA      M  2018   Trevor      5\n 93523    IA      M  2018  Tristen      5\n 93524    IA      M  2018      Van      5\n 93525    IA      M  2018  Wallace      5\n 93526    IA      M  2018   Witten      5\n \n [93527 rows x 5 columns],\n       State Gender  Year       Name  Count\n 0        ID      F  1910       Mary     53\n 1        ID      F  1910    Dorothy     31\n 2        ID      F  1910      Helen     30\n 3        ID      F  1910   Margaret     24\n 4        ID      F  1910       Ruth     24\n ...     ...    ...   ...        ...    ...\n 57717    ID      M  2018     Sutton      5\n 57718    ID      M  2018     Tayson      5\n 57719    ID      M  2018   Thatcher      5\n 57720    ID      M  2018     Wilder      5\n 57721    ID      M  2018  Zachariah      5\n \n [57722 rows x 5 columns],\n        State Gender  Year      Name  Count\n 0         IL      F  1910      Mary   1076\n 1         IL      F  1910     Helen    917\n 2         IL      F  1910   Dorothy    553\n 3         IL      F  1910  Margaret    501\n 4         IL      F  1910   Mildred    426\n ...      ...    ...   ...       ...    ...\n 228118    IL      M  2018    Yareth      5\n 228119    IL      M  2018     Yuvan      5\n 228120    IL      M  2018  Zamarion      5\n 228121    IL      M  2018    Zarion      5\n 228122    IL      M  2018    Zavion      5\n \n [228123 rows x 5 columns],\n        State Gender  Year     Name  Count\n 0         IN      F  1910     Mary    619\n 1         IN      F  1910    Helen    324\n 2         IN      F  1910     Ruth    238\n 3         IN      F  1910  Dorothy    215\n 4         IN      F  1910  Mildred    200\n ...      ...    ...   ...      ...    ...\n 138565    IN      M  2018   Willis      5\n 138566    IN      M  2018   Wilson      5\n 138567    IN      M  2018  Xzavier      5\n 138568    IN      M  2018   Yousef      5\n 138569    IN      M  2018     Zaid      5\n \n [138570 rows x 5 columns],\n       State Gender  Year       Name  Count\n 0        KS      F  1910       Mary    251\n 1        KS      F  1910      Helen    172\n 2        KS      F  1910    Dorothy    144\n 3        KS      F  1910       Ruth    144\n 4        KS      F  1910    Mildred    127\n ...     ...    ...   ...        ...    ...\n 93794    KS      M  2018      Tomas      5\n 93795    KS      M  2018  Valentino      5\n 93796    KS      M  2018       Whit      5\n 93797    KS      M  2018       Zaid      5\n 93798    KS      M  2018       Zain      5\n \n [93799 rows x 5 columns],\n        State Gender  Year       Name  Count\n 0         KY      F  1910       Mary    793\n 1         KY      F  1910       Anna    199\n 2         KY      F  1910  Elizabeth    191\n 3         KY      F  1910   Margaret    175\n 4         KY      F  1910       Edna    160\n ...      ...    ...   ...        ...    ...\n 117829    KY      M  2018      Yasin      5\n 117830    KY      M  2018     Yousef      5\n 117831    KY      M  2018      Zaire      5\n 117832    KY      M  2018     Zakari      5\n 117833    KY      M  2018   Zeppelin      5\n \n [117834 rows x 5 columns],\n        State Gender  Year     Name  Count\n 0         LA      F  1910     Mary    586\n 1         LA      F  1910    Annie    169\n 2         LA      F  1910   Louise    157\n 3         LA      F  1910    Marie    152\n 4         LA      F  1910    Ethel    140\n ...      ...    ...   ...      ...    ...\n 147963    LA      M  2018   Wilmer      5\n 147964    LA      M  2018  Xzavier      5\n 147965    LA      M  2018   Yousef      5\n 147966    LA      M  2018    Zakai      5\n 147967    LA      M  2018   Zavion      5\n \n [147968 rows x 5 columns],\n        State Gender  Year      Name  Count\n 0         MA      F  1910      Mary    989\n 1         MA      F  1910     Helen    473\n 2         MA      F  1910  Margaret    374\n 3         MA      F  1910   Dorothy    331\n 4         MA      F  1910     Alice    313\n ...      ...    ...   ...       ...    ...\n 118057    MA      M  2018   Youssef      5\n 118058    MA      M  2018    Zaidyn      5\n 118059    MA      M  2018    Zavian      5\n 118060    MA      M  2018   Zayvien      5\n 118061    MA      M  2018    Zyaire      5\n \n [118062 rows x 5 columns],\n        State Gender  Year       Name  Count\n 0         MD      F  1910       Mary    393\n 1         MD      F  1910   Margaret    208\n 2         MD      F  1910      Helen    174\n 3         MD      F  1910  Elizabeth    150\n 4         MD      F  1910       Anna    131\n ...      ...    ...   ...        ...    ...\n 110735    MD      M  2018       Yoel      5\n 110736    MD      M  2018      Zakai      5\n 110737    MD      M  2018     Zavier      5\n 110738    MD      M  2018  Zechariah      5\n 110739    MD      M  2018      Zymir      5\n \n [110740 rows x 5 columns],\n       State Gender  Year      Name  Count\n 0        ME      F  1910      Mary     92\n 1        ME      F  1910     Helen     60\n 2        ME      F  1910   Dorothy     55\n 3        ME      F  1910      Ruth     51\n 4        ME      F  1910  Margaret     49\n ...     ...    ...   ...       ...    ...\n 50306    ME      M  2018    Salman      5\n 50307    ME      M  2018     Simon      5\n 50308    ME      M  2018    Tobias      5\n 50309    ME      M  2018    Walker      5\n 50310    ME      M  2018    Warren      5\n \n [50311 rows x 5 columns],\n        State Gender  Year      Name  Count\n 0         MI      F  1910     Helen    368\n 1         MI      F  1910      Mary    349\n 2         MI      F  1910  Margaret    272\n 3         MI      F  1910   Dorothy    265\n 4         MI      F  1910      Ruth    212\n ...      ...    ...   ...       ...    ...\n 181877    MI      M  2018     Zaine      5\n 181878    MI      M  2018     Zamir      5\n 181879    MI      M  2018    Zavier      5\n 181880    MI      M  2018     Ziggy      5\n 181881    MI      M  2018     Zyion      5\n \n [181882 rows x 5 columns],\n        State Gender  Year       Name  Count\n 0         MN      F  1910       Mary    216\n 1         MN      F  1910      Helen    201\n 2         MN      F  1910   Margaret    184\n 3         MN      F  1910    Dorothy    163\n 4         MN      F  1910       Ruth    136\n ...      ...    ...   ...        ...    ...\n 113587    MN      M  2018      Wylie      5\n 113588    MN      M  2018     Zaiden      5\n 113589    MN      M  2018   Zakariye      5\n 113590    MN      M  2018       Zeke      5\n 113591    MN      M  2018  Zephaniah      5\n \n [113592 rows x 5 columns],\n        State Gender  Year     Name  Count\n 0         MO      F  1910     Mary    611\n 1         MO      F  1910    Helen    313\n 2         MO      F  1910  Dorothy    270\n 3         MO      F  1910  Mildred    267\n 4         MO      F  1910     Ruth    237\n ...      ...    ...   ...      ...    ...\n 137835    MO      M  2018    Yahya      5\n 137836    MO      M  2018    Zakai      5\n 137837    MO      M  2018   Zakari      5\n 137838    MO      M  2018  Zebulun      5\n 137839    MO      M  2018    Zyler      5\n \n [137840 rows x 5 columns],\n        State Gender  Year    Name  Count\n 0         MS      F  1910    Mary    762\n 1         MS      F  1910   Annie    354\n 2         MS      F  1910  Willie    208\n 3         MS      F  1910  Mattie    178\n 4         MS      F  1910  Lillie    158\n ...      ...    ...   ...     ...    ...\n 113523    MS      M  2018  Tyrone      5\n 113524    MS      M  2018  Westin      5\n 113525    MS      M  2018  Westyn      5\n 113526    MS      M  2018  Wilson      5\n 113527    MS      M  2018  Zaylen      5\n \n [113528 rows x 5 columns],\n       State Gender  Year       Name  Count\n 0        MT      F  1910       Mary     81\n 1        MT      F  1910      Helen     58\n 2        MT      F  1910   Margaret     51\n 3        MT      F  1910    Dorothy     41\n 4        MT      F  1910  Elizabeth     22\n ...     ...    ...   ...        ...    ...\n 45640    MT      M  2018         Ty      5\n 45641    MT      M  2018      Uriah      5\n 45642    MT      M  2018  Zachariah      5\n 45643    MT      M  2018     Zander      5\n 45644    MT      M  2018       Zeke      5\n \n [45645 rows x 5 columns],\n        State Gender  Year       Name  Count\n 0         NC      F  1910       Mary    837\n 1         NC      F  1910      Annie    401\n 2         NC      F  1910       Ruth    235\n 3         NC      F  1910      Ethel    199\n 4         NC      F  1910  Elizabeth    191\n ...      ...    ...   ...        ...    ...\n 172535    NC      M  2018     Yuvaan      5\n 172536    NC      M  2018      Yuvan      5\n 172537    NC      M  2018      Zahir      5\n 172538    NC      M  2018     Zaidyn      5\n 172539    NC      M  2018     Zephyr      5\n \n [172540 rows x 5 columns],\n       State Gender  Year      Name  Count\n 0        ND      F  1910      Mary     85\n 1        ND      F  1910     Alice     61\n 2        ND      F  1910  Margaret     61\n 3        ND      F  1910     Helen     59\n 4        ND      F  1910      Anna     58\n ...     ...    ...   ...       ...    ...\n 46064    ND      M  2018    Watson      5\n 46065    ND      M  2018     Wells      5\n 46066    ND      M  2018      Will      5\n 46067    ND      M  2018    Zayden      5\n 46068    ND      M  2018      Zion      5\n \n [46069 rows x 5 columns],\n       State Gender  Year      Name  Count\n 0        NE      F  1910      Mary    161\n 1        NE      F  1910     Helen    134\n 2        NE      F  1910      Ruth    114\n 3        NE      F  1910   Dorothy     99\n 4        NE      F  1910  Margaret     96\n ...     ...    ...   ...       ...    ...\n 71655    NE      M  2018    Thorin      5\n 71656    NE      M  2018    Travis      5\n 71657    NE      M  2018      Trey      5\n 71658    NE      M  2018    Zaiden      5\n 71659    NE      M  2018      Zeke      5\n \n [71660 rows x 5 columns],\n       State Gender  Year     Name  Count\n 0        NH      F  1910     Mary     50\n 1        NH      F  1910  Dorothy     39\n 2        NH      F  1910    Alice     35\n 3        NH      F  1910    Helen     30\n 4        NH      F  1910  Lillian     29\n ...     ...    ...   ...      ...    ...\n 38989    NH      M  2018   Trevor      5\n 38990    NH      M  2018     Wade      5\n 38991    NH      M  2018   Waylon      5\n 38992    NH      M  2018   Xander      5\n 38993    NH      M  2018    Yusuf      5\n \n [38994 rows x 5 columns],\n        State Gender  Year       Name  Count\n 0         NJ      F  1910       Mary    593\n 1         NJ      F  1910      Helen    438\n 2         NJ      F  1910       Anna    355\n 3         NJ      F  1910   Margaret    311\n 4         NJ      F  1910  Elizabeth    260\n ...      ...    ...   ...        ...    ...\n 152115    NJ      M  2018     Yeshua      5\n 152116    NJ      M  2018      Yunus      5\n 152117    NJ      M  2018       Zack      5\n 152118    NJ      M  2018     Zakari      5\n 152119    NJ      M  2018        Zvi      5\n \n [152120 rows x 5 columns],\n       State Gender  Year       Name  Count\n 0        NM      F  1910       Mary     98\n 1        NM      F  1910      Maria     40\n 2        NM      F  1910   Margaret     38\n 3        NM      F  1910  Josephine     35\n 4        NM      F  1910      Helen     26\n ...     ...    ...   ...        ...    ...\n 75233    NM      M  2018     Thiago      5\n 75234    NM      M  2018     Trevor      5\n 75235    NM      M  2018       Wade      5\n 75236    NM      M  2018     Walter      5\n 75237    NM      M  2018     Zander      5\n \n [75238 rows x 5 columns],\n       State Gender  Year      Name  Count\n 0        NV      F  1910      Mary     10\n 1        NV      F  1910   Mildred      6\n 2        NV      F  1910      Emma      5\n 3        NV      F  1910     Helen      5\n 4        NV      F  1911  Margaret      8\n ...     ...    ...   ...       ...    ...\n 47201    NV      M  2018       Van      5\n 47202    NV      M  2018   Vicente      5\n 47203    NV      M  2018      Yael      5\n 47204    NV      M  2018     Yahir      5\n 47205    NV      M  2018     Zaire      5\n \n [47206 rows x 5 columns],\n        State Gender  Year      Name  Count\n 0         NY      F  1910      Mary   1923\n 1         NY      F  1910     Helen   1290\n 2         NY      F  1910      Rose    990\n 3         NY      F  1910      Anna    951\n 4         NY      F  1910  Margaret    926\n ...      ...    ...   ...       ...    ...\n 296194    NY      M  2018    Zaidyn      5\n 296195    NY      M  2018     Zidan      5\n 296196    NY      M  2018    Zuhair      5\n 296197    NY      M  2018       Zvi      5\n 296198    NY      M  2018     Zyair      5\n \n [296199 rows x 5 columns],\n        State Gender  Year      Name  Count\n 0         OH      F  1910      Mary   1099\n 1         OH      F  1910     Helen    698\n 2         OH      F  1910   Dorothy    487\n 3         OH      F  1910      Ruth    457\n 4         OH      F  1910  Margaret    452\n ...      ...    ...   ...       ...    ...\n 194667    OH      M  2018     Yunus      5\n 194668    OH      M  2018   Zakaria      5\n 194669    OH      M  2018    Zavion      5\n 194670    OH      M  2018    Zaydon      5\n 194671    OH      M  2018    Ziaire      5\n \n [194672 rows x 5 columns],\n        State Gender  Year       Name  Count\n 0         OK      F  1910       Mary    326\n 1         OK      F  1910       Ruth    165\n 2         OK      F  1910       Ruby    159\n 3         OK      F  1910      Helen    131\n 4         OK      F  1910      Hazel    114\n ...      ...    ...   ...        ...    ...\n 116527    OK      M  2018       Tuff      5\n 116528    OK      M  2018    Woodrow      5\n 116529    OK      M  2018       Yael      5\n 116530    OK      M  2018       Zain      5\n 116531    OK      M  2018  Zechariah      5\n \n [116532 rows x 5 columns],\n       State Gender  Year      Name  Count\n 0        OR      F  1910   Dorothy     57\n 1        OR      F  1910      Mary     54\n 2        OR      F  1910     Helen     48\n 3        OR      F  1910      Ruth     46\n 4        OR      F  1910  Margaret     43\n ...     ...    ...   ...       ...    ...\n 88115    OR      M  2018      Trey      5\n 88116    OR      M  2018    Urijah      5\n 88117    OR      M  2018  Valentin      5\n 88118    OR      M  2018       Van      5\n 88119    OR      M  2018     Yahir      5\n \n [88120 rows x 5 columns],\n        State Gender  Year       Name  Count\n 0         PA      F  1910       Mary   2913\n 1         PA      F  1910      Helen   1604\n 2         PA      F  1910       Anna   1534\n 3         PA      F  1910   Margaret   1311\n 4         PA      F  1910  Elizabeth    891\n ...      ...    ...   ...        ...    ...\n 197781    PA      M  2018   Zeppelin      5\n 197782    PA      M  2018        Zev      5\n 197783    PA      M  2018       Ziad      5\n 197784    PA      M  2018     Zoltan      5\n 197785    PA      M  2018      Zyler      5\n \n [197786 rows x 5 columns],\n       State Gender  Year      Name  Count\n 0        RI      F  1910      Mary    141\n 1        RI      F  1910     Helen     63\n 2        RI      F  1910  Margaret     55\n 3        RI      F  1910   Dorothy     54\n 4        RI      F  1910     Alice     45\n ...     ...    ...   ...       ...    ...\n 40158    RI      M  2018    Ronald      5\n 40159    RI      M  2018     Tiago      5\n 40160    RI      M  2018    Tucker      5\n 40161    RI      M  2018    Victor      5\n 40162    RI      M  2018    Zander      5\n \n [40163 rows x 5 columns],\n        State Gender  Year       Name  Count\n 0         SC      F  1910       Mary    602\n 1         SC      F  1910      Annie    305\n 2         SC      F  1910     Louise    173\n 3         SC      F  1910       Rosa    145\n 4         SC      F  1910  Elizabeth    144\n ...      ...    ...   ...        ...    ...\n 117449    SC      M  2018   Valentin      5\n 117450    SC      M  2018      Wells      5\n 117451    SC      M  2018    Zayvion      5\n 117452    SC      M  2018  Zechariah      5\n 117453    SC      M  2018      Zyion      5\n \n [117454 rows x 5 columns],\n       State Gender  Year      Name  Count\n 0        SD      F  1910     Helen     60\n 1        SD      F  1910      Mary     58\n 2        SD      F  1910      Ruth     52\n 3        SD      F  1910   Dorothy     50\n 4        SD      F  1910  Florence     49\n ...     ...    ...   ...       ...    ...\n 47221    SD      M  2018     Ryken      5\n 47222    SD      M  2018      Sean      5\n 47223    SD      M  2018     Tatum      5\n 47224    SD      M  2018        Ty      5\n 47225    SD      M  2018    Zaiden      5\n \n [47226 rows x 5 columns],\n        State Gender  Year       Name  Count\n 0         TN      F  1910       Mary    735\n 1         TN      F  1910       Ruby    168\n 2         TN      F  1910      Annie    163\n 3         TN      F  1910       Ruth    163\n 4         TN      F  1910  Elizabeth    154\n ...      ...    ...   ...        ...    ...\n 139895    TN      M  2018      Yunus      5\n 139896    TN      M  2018    Zackery      5\n 139897    TN      M  2018     Zaelyn      5\n 139898    TN      M  2018      Zamir      5\n 139899    TN      M  2018     Zavier      5\n \n [139900 rows x 5 columns],\n        State Gender  Year     Name  Count\n 0         TX      F  1910     Mary    895\n 1         TX      F  1910     Ruby    314\n 2         TX      F  1910    Annie    277\n 3         TX      F  1910   Willie    260\n 4         TX      F  1910     Ruth    252\n ...      ...    ...   ...      ...    ...\n 349762    TX      M  2018   Zaryan      5\n 349763    TX      M  2018   Zaydan      5\n 349764    TX      M  2018   Zaylin      5\n 349765    TX      M  2018  Zayvian      5\n 349766    TX      M  2018   Zekiel      5\n \n [349767 rows x 5 columns],\n       State Gender  Year       Name  Count\n 0        UT      F  1910       Mary     57\n 1        UT      F  1910    Dorothy     38\n 2        UT      F  1910      Helen     36\n 3        UT      F  1910       Ruth     34\n 4        UT      F  1910   Margaret     32\n ...     ...    ...   ...        ...    ...\n 88991    UT      M  2018  Valentino      5\n 88992    UT      M  2018      Vance      5\n 88993    UT      M  2018      Wayne      5\n 88994    UT      M  2018      Yahir      5\n 88995    UT      M  2018      Zayne      5\n \n [88996 rows x 5 columns],\n        State Gender  Year       Name  Count\n 0         VA      F  1910       Mary    848\n 1         VA      F  1910   Virginia    270\n 2         VA      F  1910  Elizabeth    254\n 3         VA      F  1910       Ruth    218\n 4         VA      F  1910   Margaret    209\n ...      ...    ...   ...        ...    ...\n 146772    VA      M  2018      Yazan      5\n 146773    VA      M  2018       Zack      5\n 146774    VA      M  2018     Zakari      5\n 146775    VA      M  2018      Ziggy      5\n 146776    VA      M  2018      Zyair      5\n \n [146777 rows x 5 columns],\n       State Gender  Year      Name  Count\n 0        VT      F  1910      Mary     45\n 1        VT      F  1910     Helen     34\n 2        VT      F  1910   Dorothy     32\n 3        VT      F  1910     Alice     25\n 4        VT      F  1910  Margaret     25\n ...     ...    ...   ...       ...    ...\n 28772    VT      M  2018    Skyler      5\n 28773    VT      M  2018     Soren      5\n 28774    VT      M  2018    Tanner      5\n 28775    VT      M  2018   Tristan      5\n 28776    VT      M  2018      Zane      5\n \n [28777 rows x 5 columns],\n        State Gender  Year      Name  Count\n 0         WA      F  1910     Helen    156\n 1         WA      F  1910   Dorothy    122\n 2         WA      F  1910      Mary    112\n 3         WA      F  1910  Margaret    104\n 4         WA      F  1910      Ruth     94\n ...      ...    ...   ...       ...    ...\n 123770    WA      M  2018      Yair      5\n 123771    WA      M  2018    Yousuf      5\n 123772    WA      M  2018   Zackary      5\n 123773    WA      M  2018     Zakai      5\n 123774    WA      M  2018      Zeke      5\n \n [123775 rows x 5 columns],\n        State Gender  Year       Name  Count\n 0         WI      F  1910       Mary    260\n 1         WI      F  1910      Helen    252\n 2         WI      F  1910   Margaret    244\n 3         WI      F  1910    Dorothy    207\n 4         WI      F  1910     Evelyn    186\n ...      ...    ...   ...        ...    ...\n 115806    WI      M  2018      Wayne      5\n 115807    WI      M  2018     Wesson      5\n 115808    WI      M  2018     Willie      5\n 115809    WI      M  2018      Zaire      5\n 115810    WI      M  2018  Zechariah      5\n \n [115811 rows x 5 columns],\n       State Gender  Year      Name  Count\n 0        WV      F  1910      Mary    380\n 1        WV      F  1910  Virginia    144\n 2        WV      F  1910     Helen    124\n 3        WV      F  1910      Ruth    118\n 4        WV      F  1910  Margaret    115\n ...     ...    ...   ...       ...    ...\n 76913    WV      M  2018  Sullivan      5\n 76914    WV      M  2018      Theo      5\n 76915    WV      M  2018        Ty      5\n 76916    WV      M  2018    Walter      5\n 76917    WV      M  2018    Zaiden      5\n \n [76918 rows x 5 columns],\n       State Gender  Year      Name  Count\n 0        WY      F  1910      Mary     27\n 1        WY      F  1910  Margaret     22\n 2        WY      F  1910     Helen     13\n 3        WY      F  1910     Alice     10\n 4        WY      F  1910   Dorothy      9\n ...     ...    ...   ...       ...    ...\n 28015    WY      M  2018    Peyton      5\n 28016    WY      M  2018   Richard      5\n 28017    WY      M  2018     Titus      5\n 28018    WY      M  2018   Tristan      5\n 28019    WY      M  2018    Zander      5\n \n [28020 rows x 5 columns]]"
     },
     "execution_count": 14,
     "metadata": {},
     "output_type": "execute_result"
    }
   ],
   "source": [
    "dataframes"
   ],
   "metadata": {
    "collapsed": false,
    "ExecuteTime": {
     "end_time": "2023-07-19T00:30:14.435242900Z",
     "start_time": "2023-07-19T00:30:14.325153100Z"
    }
   }
  },
  {
   "cell_type": "code",
   "execution_count": 15,
   "outputs": [
    {
     "data": {
      "text/plain": "51"
     },
     "execution_count": 15,
     "metadata": {},
     "output_type": "execute_result"
    }
   ],
   "source": [
    "len(dataframes)"
   ],
   "metadata": {
    "collapsed": false,
    "ExecuteTime": {
     "end_time": "2023-07-19T00:30:17.826176800Z",
     "start_time": "2023-07-19T00:30:17.800550900Z"
    }
   }
  },
  {
   "cell_type": "code",
   "execution_count": 16,
   "outputs": [],
   "source": [
    "df = pd.concat(dataframes, ignore_index = True)"
   ],
   "metadata": {
    "collapsed": false,
    "ExecuteTime": {
     "end_time": "2023-07-19T00:30:24.966914200Z",
     "start_time": "2023-07-19T00:30:24.708944500Z"
    }
   }
  },
  {
   "cell_type": "code",
   "execution_count": 17,
   "outputs": [
    {
     "data": {
      "text/plain": "        State Gender  Year      Name  Count\n0          AK      F  1910      Mary     14\n1          AK      F  1910     Annie     12\n2          AK      F  1910      Anna     10\n3          AK      F  1910  Margaret      8\n4          AK      F  1910     Helen      7\n...       ...    ...   ...       ...    ...\n6028146    WY      M  2018    Peyton      5\n6028147    WY      M  2018   Richard      5\n6028148    WY      M  2018     Titus      5\n6028149    WY      M  2018   Tristan      5\n6028150    WY      M  2018    Zander      5\n\n[6028151 rows x 5 columns]",
      "text/html": "<div>\n<style scoped>\n    .dataframe tbody tr th:only-of-type {\n        vertical-align: middle;\n    }\n\n    .dataframe tbody tr th {\n        vertical-align: top;\n    }\n\n    .dataframe thead th {\n        text-align: right;\n    }\n</style>\n<table border=\"1\" class=\"dataframe\">\n  <thead>\n    <tr style=\"text-align: right;\">\n      <th></th>\n      <th>State</th>\n      <th>Gender</th>\n      <th>Year</th>\n      <th>Name</th>\n      <th>Count</th>\n    </tr>\n  </thead>\n  <tbody>\n    <tr>\n      <th>0</th>\n      <td>AK</td>\n      <td>F</td>\n      <td>1910</td>\n      <td>Mary</td>\n      <td>14</td>\n    </tr>\n    <tr>\n      <th>1</th>\n      <td>AK</td>\n      <td>F</td>\n      <td>1910</td>\n      <td>Annie</td>\n      <td>12</td>\n    </tr>\n    <tr>\n      <th>2</th>\n      <td>AK</td>\n      <td>F</td>\n      <td>1910</td>\n      <td>Anna</td>\n      <td>10</td>\n    </tr>\n    <tr>\n      <th>3</th>\n      <td>AK</td>\n      <td>F</td>\n      <td>1910</td>\n      <td>Margaret</td>\n      <td>8</td>\n    </tr>\n    <tr>\n      <th>4</th>\n      <td>AK</td>\n      <td>F</td>\n      <td>1910</td>\n      <td>Helen</td>\n      <td>7</td>\n    </tr>\n    <tr>\n      <th>...</th>\n      <td>...</td>\n      <td>...</td>\n      <td>...</td>\n      <td>...</td>\n      <td>...</td>\n    </tr>\n    <tr>\n      <th>6028146</th>\n      <td>WY</td>\n      <td>M</td>\n      <td>2018</td>\n      <td>Peyton</td>\n      <td>5</td>\n    </tr>\n    <tr>\n      <th>6028147</th>\n      <td>WY</td>\n      <td>M</td>\n      <td>2018</td>\n      <td>Richard</td>\n      <td>5</td>\n    </tr>\n    <tr>\n      <th>6028148</th>\n      <td>WY</td>\n      <td>M</td>\n      <td>2018</td>\n      <td>Titus</td>\n      <td>5</td>\n    </tr>\n    <tr>\n      <th>6028149</th>\n      <td>WY</td>\n      <td>M</td>\n      <td>2018</td>\n      <td>Tristan</td>\n      <td>5</td>\n    </tr>\n    <tr>\n      <th>6028150</th>\n      <td>WY</td>\n      <td>M</td>\n      <td>2018</td>\n      <td>Zander</td>\n      <td>5</td>\n    </tr>\n  </tbody>\n</table>\n<p>6028151 rows × 5 columns</p>\n</div>"
     },
     "execution_count": 17,
     "metadata": {},
     "output_type": "execute_result"
    }
   ],
   "source": [
    "df"
   ],
   "metadata": {
    "collapsed": false,
    "ExecuteTime": {
     "end_time": "2023-07-19T00:30:27.793521400Z",
     "start_time": "2023-07-19T00:30:27.775290400Z"
    }
   }
  },
  {
   "cell_type": "code",
   "execution_count": 18,
   "outputs": [
    {
     "name": "stdout",
     "output_type": "stream",
     "text": [
      "<class 'pandas.core.frame.DataFrame'>\n",
      "RangeIndex: 6028151 entries, 0 to 6028150\n",
      "Data columns (total 5 columns):\n",
      " #   Column  Dtype \n",
      "---  ------  ----- \n",
      " 0   State   object\n",
      " 1   Gender  object\n",
      " 2   Year    int64 \n",
      " 3   Name    object\n",
      " 4   Count   int64 \n",
      "dtypes: int64(2), object(3)\n",
      "memory usage: 230.0+ MB\n"
     ]
    }
   ],
   "source": [
    "df.info()"
   ],
   "metadata": {
    "collapsed": false,
    "ExecuteTime": {
     "end_time": "2023-07-19T00:30:38.176996300Z",
     "start_time": "2023-07-19T00:30:38.131009300Z"
    }
   }
  },
  {
   "cell_type": "code",
   "execution_count": 19,
   "outputs": [],
   "source": [
    "df.Gender = df.Gender.astype(\"category\")\n",
    "df.State = df.State.astype(\"category\")"
   ],
   "metadata": {
    "collapsed": false,
    "ExecuteTime": {
     "end_time": "2023-07-19T00:31:18.517831200Z",
     "start_time": "2023-07-19T00:31:18.094777300Z"
    }
   }
  },
  {
   "cell_type": "code",
   "execution_count": 20,
   "outputs": [
    {
     "data": {
      "text/plain": "        State Gender  Year      Name  Count\n0          AK      F  1910      Mary     14\n1          AK      F  1910     Annie     12\n2          AK      F  1910      Anna     10\n3          AK      F  1910  Margaret      8\n4          AK      F  1910     Helen      7\n...       ...    ...   ...       ...    ...\n6028146    WY      M  2018    Peyton      5\n6028147    WY      M  2018   Richard      5\n6028148    WY      M  2018     Titus      5\n6028149    WY      M  2018   Tristan      5\n6028150    WY      M  2018    Zander      5\n\n[6028151 rows x 5 columns]",
      "text/html": "<div>\n<style scoped>\n    .dataframe tbody tr th:only-of-type {\n        vertical-align: middle;\n    }\n\n    .dataframe tbody tr th {\n        vertical-align: top;\n    }\n\n    .dataframe thead th {\n        text-align: right;\n    }\n</style>\n<table border=\"1\" class=\"dataframe\">\n  <thead>\n    <tr style=\"text-align: right;\">\n      <th></th>\n      <th>State</th>\n      <th>Gender</th>\n      <th>Year</th>\n      <th>Name</th>\n      <th>Count</th>\n    </tr>\n  </thead>\n  <tbody>\n    <tr>\n      <th>0</th>\n      <td>AK</td>\n      <td>F</td>\n      <td>1910</td>\n      <td>Mary</td>\n      <td>14</td>\n    </tr>\n    <tr>\n      <th>1</th>\n      <td>AK</td>\n      <td>F</td>\n      <td>1910</td>\n      <td>Annie</td>\n      <td>12</td>\n    </tr>\n    <tr>\n      <th>2</th>\n      <td>AK</td>\n      <td>F</td>\n      <td>1910</td>\n      <td>Anna</td>\n      <td>10</td>\n    </tr>\n    <tr>\n      <th>3</th>\n      <td>AK</td>\n      <td>F</td>\n      <td>1910</td>\n      <td>Margaret</td>\n      <td>8</td>\n    </tr>\n    <tr>\n      <th>4</th>\n      <td>AK</td>\n      <td>F</td>\n      <td>1910</td>\n      <td>Helen</td>\n      <td>7</td>\n    </tr>\n    <tr>\n      <th>...</th>\n      <td>...</td>\n      <td>...</td>\n      <td>...</td>\n      <td>...</td>\n      <td>...</td>\n    </tr>\n    <tr>\n      <th>6028146</th>\n      <td>WY</td>\n      <td>M</td>\n      <td>2018</td>\n      <td>Peyton</td>\n      <td>5</td>\n    </tr>\n    <tr>\n      <th>6028147</th>\n      <td>WY</td>\n      <td>M</td>\n      <td>2018</td>\n      <td>Richard</td>\n      <td>5</td>\n    </tr>\n    <tr>\n      <th>6028148</th>\n      <td>WY</td>\n      <td>M</td>\n      <td>2018</td>\n      <td>Titus</td>\n      <td>5</td>\n    </tr>\n    <tr>\n      <th>6028149</th>\n      <td>WY</td>\n      <td>M</td>\n      <td>2018</td>\n      <td>Tristan</td>\n      <td>5</td>\n    </tr>\n    <tr>\n      <th>6028150</th>\n      <td>WY</td>\n      <td>M</td>\n      <td>2018</td>\n      <td>Zander</td>\n      <td>5</td>\n    </tr>\n  </tbody>\n</table>\n<p>6028151 rows × 5 columns</p>\n</div>"
     },
     "execution_count": 20,
     "metadata": {},
     "output_type": "execute_result"
    }
   ],
   "source": [
    "df"
   ],
   "metadata": {
    "collapsed": false,
    "ExecuteTime": {
     "end_time": "2023-07-19T00:31:20.955633800Z",
     "start_time": "2023-07-19T00:31:20.925109Z"
    }
   }
  },
  {
   "cell_type": "code",
   "execution_count": 21,
   "outputs": [
    {
     "data": {
      "text/plain": "0          F\n1          F\n2          F\n3          F\n4          F\n          ..\n6028146    M\n6028147    M\n6028148    M\n6028149    M\n6028150    M\nName: Gender, Length: 6028151, dtype: category\nCategories (2, object): ['F', 'M']"
     },
     "execution_count": 21,
     "metadata": {},
     "output_type": "execute_result"
    }
   ],
   "source": [
    "df.Gender"
   ],
   "metadata": {
    "collapsed": false,
    "ExecuteTime": {
     "end_time": "2023-07-19T00:31:34.806450700Z",
     "start_time": "2023-07-19T00:31:34.774836800Z"
    }
   }
  },
  {
   "cell_type": "code",
   "execution_count": 22,
   "outputs": [
    {
     "data": {
      "text/plain": "0          AK\n1          AK\n2          AK\n3          AK\n4          AK\n           ..\n6028146    WY\n6028147    WY\n6028148    WY\n6028149    WY\n6028150    WY\nName: State, Length: 6028151, dtype: category\nCategories (51, object): ['AK', 'AL', 'AR', 'AZ', ..., 'WA', 'WI', 'WV', 'WY']"
     },
     "execution_count": 22,
     "metadata": {},
     "output_type": "execute_result"
    }
   ],
   "source": [
    "df.State"
   ],
   "metadata": {
    "collapsed": false,
    "ExecuteTime": {
     "end_time": "2023-07-19T00:31:40.692612Z",
     "start_time": "2023-07-19T00:31:40.642661400Z"
    }
   }
  },
  {
   "cell_type": "markdown",
   "metadata": {},
   "source": [
    "# +++++++++ See some Hints below +++++++++++++"
   ]
  },
  {
   "cell_type": "code",
   "execution_count": null,
   "metadata": {},
   "outputs": [],
   "source": []
  },
  {
   "cell_type": "code",
   "execution_count": null,
   "metadata": {},
   "outputs": [],
   "source": []
  },
  {
   "cell_type": "code",
   "execution_count": null,
   "metadata": {},
   "outputs": [],
   "source": []
  },
  {
   "cell_type": "code",
   "execution_count": null,
   "metadata": {},
   "outputs": [],
   "source": []
  },
  {
   "cell_type": "markdown",
   "metadata": {},
   "source": [
    "# ++++++++++++++++ Hints++++++++++++++++++++"
   ]
  },
  {
   "cell_type": "code",
   "execution_count": null,
   "metadata": {},
   "outputs": [],
   "source": []
  },
  {
   "cell_type": "markdown",
   "metadata": {},
   "source": [
    "__Hints for 2.__ <br>\n",
    "You can use pd.read_csv(). You need to add appropriate column headers (e.g. \"State\", \"Gender\", \"Year\", \"Name\", \"Count\")"
   ]
  },
  {
   "cell_type": "code",
   "execution_count": null,
   "metadata": {},
   "outputs": [],
   "source": []
  },
  {
   "cell_type": "markdown",
   "metadata": {},
   "source": [
    "__Hints for 4. and 5.__<br>\n",
    "Use glob() "
   ]
  },
  {
   "cell_type": "code",
   "execution_count": null,
   "metadata": {},
   "outputs": [],
   "source": []
  },
  {
   "cell_type": "markdown",
   "metadata": {},
   "source": [
    "__Hints for 6.__<br>\n",
    "Use a for loop and pd.concat(). "
   ]
  },
  {
   "cell_type": "code",
   "execution_count": null,
   "metadata": {},
   "outputs": [],
   "source": []
  }
 ],
 "metadata": {
  "kernelspec": {
   "display_name": "Python 3 (ipykernel)",
   "language": "python",
   "name": "python3"
  },
  "language_info": {
   "codemirror_mode": {
    "name": "ipython",
    "version": 3
   },
   "file_extension": ".py",
   "mimetype": "text/x-python",
   "name": "python",
   "nbconvert_exporter": "python",
   "pygments_lexer": "ipython3",
   "version": "3.9.13"
  }
 },
 "nbformat": 4,
 "nbformat_minor": 2
}
