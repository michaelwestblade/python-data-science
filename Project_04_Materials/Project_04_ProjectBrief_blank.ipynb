{
 "cells": [
  {
   "cell_type": "markdown",
   "metadata": {},
   "source": [
    "# Project 4: Merging & Cleaning & Transforming Data (Movies Dataset)"
   ]
  },
  {
   "cell_type": "markdown",
   "metadata": {},
   "source": [
    "# Project Brief for Self-Coders"
   ]
  },
  {
   "cell_type": "markdown",
   "metadata": {},
   "source": [
    "Here you´ll have the opportunity to code major parts of Project 4 on your own. If you need any help or inspiration, have a look at the Videos or the Jupyter Notebook with the full code. <br> <br>\n",
    "Keep in mind that it´s all about __getting the right results/conclusions__. It´s not about finding the identical code. Things can be coded in many different ways. Even if you come to the same conclusions, it´s very unlikely that we have the very same code. "
   ]
  },
  {
   "cell_type": "markdown",
   "metadata": {},
   "source": [
    "## Introduction / Getting the Datasets"
   ]
  },
  {
   "cell_type": "markdown",
   "metadata": {},
   "source": [
    "1. __Load__ and __inspect__ the datasets \"movies_clean.csv\" and \"credits.csv\". __Identify__ stringified/nested __json columns__ in the __credits__ dataset."
   ]
  },
  {
   "cell_type": "code",
   "execution_count": 46,
   "metadata": {
    "ExecuteTime": {
     "end_time": "2023-07-11T00:43:24.400702400Z",
     "start_time": "2023-07-11T00:43:24.112481100Z"
    }
   },
   "outputs": [],
   "source": [
    "import pandas as pd"
   ]
  },
  {
   "cell_type": "code",
   "execution_count": 47,
   "outputs": [],
   "source": [
    "df = pd.read_csv(\"movies_clean.csv\", parse_dates=[\"release_date\"])"
   ],
   "metadata": {
    "collapsed": false,
    "ExecuteTime": {
     "end_time": "2023-07-11T00:43:24.828283200Z",
     "start_time": "2023-07-11T00:43:24.121988200Z"
    }
   }
  },
  {
   "cell_type": "code",
   "execution_count": 48,
   "outputs": [
    {
     "name": "stdout",
     "output_type": "stream",
     "text": [
      "<class 'pandas.core.frame.DataFrame'>\n",
      "RangeIndex: 44691 entries, 0 to 44690\n",
      "Data columns (total 18 columns):\n",
      " #   Column                 Non-Null Count  Dtype         \n",
      "---  ------                 --------------  -----         \n",
      " 0   id                     44691 non-null  int64         \n",
      " 1   title                  44691 non-null  object        \n",
      " 2   tagline                20284 non-null  object        \n",
      " 3   release_date           44657 non-null  datetime64[ns]\n",
      " 4   genres                 42586 non-null  object        \n",
      " 5   belongs_to_collection  4463 non-null   object        \n",
      " 6   original_language      44681 non-null  object        \n",
      " 7   budget_musd            8854 non-null   float64       \n",
      " 8   revenue_musd           7385 non-null   float64       \n",
      " 9   production_companies   33356 non-null  object        \n",
      " 10  production_countries   38835 non-null  object        \n",
      " 11  vote_count             44691 non-null  float64       \n",
      " 12  vote_average           42077 non-null  float64       \n",
      " 13  popularity             44691 non-null  float64       \n",
      " 14  runtime                43179 non-null  float64       \n",
      " 15  overview               43740 non-null  object        \n",
      " 16  spoken_languages       41094 non-null  object        \n",
      " 17  poster_path            44467 non-null  object        \n",
      "dtypes: datetime64[ns](1), float64(6), int64(1), object(10)\n",
      "memory usage: 6.1+ MB\n"
     ]
    }
   ],
   "source": [
    "df.info()"
   ],
   "metadata": {
    "collapsed": false,
    "ExecuteTime": {
     "end_time": "2023-07-11T00:43:24.828283200Z",
     "start_time": "2023-07-11T00:43:24.498353600Z"
    }
   }
  },
  {
   "cell_type": "code",
   "execution_count": 49,
   "outputs": [],
   "source": [
    "credits = pd.read_csv(\"credits.csv\")"
   ],
   "metadata": {
    "collapsed": false,
    "ExecuteTime": {
     "end_time": "2023-07-11T00:43:26.107445800Z",
     "start_time": "2023-07-11T00:43:24.561129900Z"
    }
   }
  },
  {
   "cell_type": "code",
   "execution_count": 50,
   "outputs": [
    {
     "name": "stdout",
     "output_type": "stream",
     "text": [
      "<class 'pandas.core.frame.DataFrame'>\n",
      "RangeIndex: 45476 entries, 0 to 45475\n",
      "Data columns (total 3 columns):\n",
      " #   Column  Non-Null Count  Dtype \n",
      "---  ------  --------------  ----- \n",
      " 0   cast    45476 non-null  object\n",
      " 1   crew    45476 non-null  object\n",
      " 2   id      45476 non-null  int64 \n",
      "dtypes: int64(1), object(2)\n",
      "memory usage: 1.0+ MB\n"
     ]
    }
   ],
   "source": [
    "credits.info()"
   ],
   "metadata": {
    "collapsed": false,
    "ExecuteTime": {
     "end_time": "2023-07-11T00:43:26.167318600Z",
     "start_time": "2023-07-11T00:43:26.108446Z"
    }
   }
  },
  {
   "cell_type": "code",
   "execution_count": 51,
   "outputs": [
    {
     "data": {
      "text/plain": "\"[{'cast_id': 14, 'character': 'Woody (voice)', 'credit_id': '52fe4284c3a36847f8024f95', 'gender': 2, 'id': 31, 'name': 'Tom Hanks', 'order': 0, 'profile_path': '/pQFoyx7rp09CJTAb932F2g8Nlho.jpg'}, {'cast_id': 15, 'character': 'Buzz Lightyear (voice)', 'credit_id': '52fe4284c3a36847f8024f99', 'gender': 2, 'id': 12898, 'name': 'Tim Allen', 'order': 1, 'profile_path': '/uX2xVf6pMmPepxnvFWyBtjexzgY.jpg'}, {'cast_id': 16, 'character': 'Mr. Potato Head (voice)', 'credit_id': '52fe4284c3a36847f8024f9d', 'gender': 2, 'id': 7167, 'name': 'Don Rickles', 'order': 2, 'profile_path': '/h5BcaDMPRVLHLDzbQavec4xfSdt.jpg'}, {'cast_id': 17, 'character': 'Slinky Dog (voice)', 'credit_id': '52fe4284c3a36847f8024fa1', 'gender': 2, 'id': 12899, 'name': 'Jim Varney', 'order': 3, 'profile_path': '/eIo2jVVXYgjDtaHoF19Ll9vtW7h.jpg'}, {'cast_id': 18, 'character': 'Rex (voice)', 'credit_id': '52fe4284c3a36847f8024fa5', 'gender': 2, 'id': 12900, 'name': 'Wallace Shawn', 'order': 4, 'profile_path': '/oGE6JqPP2xH4tNORKNqxbNPYi7u.jpg'}, {'cast_id': 19, 'character': 'Hamm (voice)', 'credit_id': '52fe4284c3a36847f8024fa9', 'gender': 2, 'id': 7907, 'name': 'John Ratzenberger', 'order': 5, 'profile_path': '/yGechiKWL6TJDfVE2KPSJYqdMsY.jpg'}, {'cast_id': 20, 'character': 'Bo Peep (voice)', 'credit_id': '52fe4284c3a36847f8024fad', 'gender': 1, 'id': 8873, 'name': 'Annie Potts', 'order': 6, 'profile_path': '/eryXT84RL41jHSJcMy4kS3u9y6w.jpg'}, {'cast_id': 26, 'character': 'Andy (voice)', 'credit_id': '52fe4284c3a36847f8024fc1', 'gender': 0, 'id': 1116442, 'name': 'John Morris', 'order': 7, 'profile_path': '/vYGyvK4LzeaUCoNSHtsuqJUY15M.jpg'}, {'cast_id': 22, 'character': 'Sid (voice)', 'credit_id': '52fe4284c3a36847f8024fb1', 'gender': 2, 'id': 12901, 'name': 'Erik von Detten', 'order': 8, 'profile_path': '/twnF1ZaJ1FUNUuo6xLXwcxjayBE.jpg'}, {'cast_id': 23, 'character': 'Mrs. Davis (voice)', 'credit_id': '52fe4284c3a36847f8024fb5', 'gender': 1, 'id': 12133, 'name': 'Laurie Metcalf', 'order': 9, 'profile_path': '/unMMIT60eoBM2sN2nyR7EZ2BvvD.jpg'}, {'cast_id': 24, 'character': 'Sergeant (voice)', 'credit_id': '52fe4284c3a36847f8024fb9', 'gender': 2, 'id': 8655, 'name': 'R. Lee Ermey', 'order': 10, 'profile_path': '/r8GBqFBjypLUP9VVqDqfZ7wYbSs.jpg'}, {'cast_id': 25, 'character': 'Hannah (voice)', 'credit_id': '52fe4284c3a36847f8024fbd', 'gender': 1, 'id': 12903, 'name': 'Sarah Freeman', 'order': 11, 'profile_path': None}, {'cast_id': 27, 'character': 'TV Announcer (voice)', 'credit_id': '52fe4284c3a36847f8024fc5', 'gender': 2, 'id': 37221, 'name': 'Penn Jillette', 'order': 12, 'profile_path': '/zmAaXUdx12NRsssgHbk1T31j2x9.jpg'}]\""
     },
     "execution_count": 51,
     "metadata": {},
     "output_type": "execute_result"
    }
   ],
   "source": [
    "credits.cast[0]"
   ],
   "metadata": {
    "collapsed": false,
    "ExecuteTime": {
     "end_time": "2023-07-11T00:43:26.167318600Z",
     "start_time": "2023-07-11T00:43:26.139184300Z"
    }
   }
  },
  {
   "cell_type": "code",
   "execution_count": 52,
   "outputs": [
    {
     "data": {
      "text/plain": "'[{\\'credit_id\\': \\'52fe4284c3a36847f8024f49\\', \\'department\\': \\'Directing\\', \\'gender\\': 2, \\'id\\': 7879, \\'job\\': \\'Director\\', \\'name\\': \\'John Lasseter\\', \\'profile_path\\': \\'/7EdqiNbr4FRjIhKHyPPdFfEEEFG.jpg\\'}, {\\'credit_id\\': \\'52fe4284c3a36847f8024f4f\\', \\'department\\': \\'Writing\\', \\'gender\\': 2, \\'id\\': 12891, \\'job\\': \\'Screenplay\\', \\'name\\': \\'Joss Whedon\\', \\'profile_path\\': \\'/dTiVsuaTVTeGmvkhcyJvKp2A5kr.jpg\\'}, {\\'credit_id\\': \\'52fe4284c3a36847f8024f55\\', \\'department\\': \\'Writing\\', \\'gender\\': 2, \\'id\\': 7, \\'job\\': \\'Screenplay\\', \\'name\\': \\'Andrew Stanton\\', \\'profile_path\\': \\'/pvQWsu0qc8JFQhMVJkTHuexUAa1.jpg\\'}, {\\'credit_id\\': \\'52fe4284c3a36847f8024f5b\\', \\'department\\': \\'Writing\\', \\'gender\\': 2, \\'id\\': 12892, \\'job\\': \\'Screenplay\\', \\'name\\': \\'Joel Cohen\\', \\'profile_path\\': \\'/dAubAiZcvKFbboWlj7oXOkZnTSu.jpg\\'}, {\\'credit_id\\': \\'52fe4284c3a36847f8024f61\\', \\'department\\': \\'Writing\\', \\'gender\\': 0, \\'id\\': 12893, \\'job\\': \\'Screenplay\\', \\'name\\': \\'Alec Sokolow\\', \\'profile_path\\': \\'/v79vlRYi94BZUQnkkyznbGUZLjT.jpg\\'}, {\\'credit_id\\': \\'52fe4284c3a36847f8024f67\\', \\'department\\': \\'Production\\', \\'gender\\': 1, \\'id\\': 12894, \\'job\\': \\'Producer\\', \\'name\\': \\'Bonnie Arnold\\', \\'profile_path\\': None}, {\\'credit_id\\': \\'52fe4284c3a36847f8024f6d\\', \\'department\\': \\'Production\\', \\'gender\\': 0, \\'id\\': 12895, \\'job\\': \\'Executive Producer\\', \\'name\\': \\'Ed Catmull\\', \\'profile_path\\': None}, {\\'credit_id\\': \\'52fe4284c3a36847f8024f73\\', \\'department\\': \\'Production\\', \\'gender\\': 2, \\'id\\': 12896, \\'job\\': \\'Producer\\', \\'name\\': \\'Ralph Guggenheim\\', \\'profile_path\\': None}, {\\'credit_id\\': \\'52fe4284c3a36847f8024f79\\', \\'department\\': \\'Production\\', \\'gender\\': 2, \\'id\\': 12897, \\'job\\': \\'Executive Producer\\', \\'name\\': \\'Steve Jobs\\', \\'profile_path\\': \\'/mOMP3SwD5qWQSR0ldCIByd3guTV.jpg\\'}, {\\'credit_id\\': \\'52fe4284c3a36847f8024f8b\\', \\'department\\': \\'Editing\\', \\'gender\\': 2, \\'id\\': 8, \\'job\\': \\'Editor\\', \\'name\\': \\'Lee Unkrich\\', \\'profile_path\\': \\'/bdTCCXjgOV3YyaNmLGYGOxFQMOc.jpg\\'}, {\\'credit_id\\': \\'52fe4284c3a36847f8024f91\\', \\'department\\': \\'Art\\', \\'gender\\': 2, \\'id\\': 7883, \\'job\\': \\'Art Direction\\', \\'name\\': \\'Ralph Eggleston\\', \\'profile_path\\': \\'/uUfcGKDsKO1aROMpXRs67Hn6RvR.jpg\\'}, {\\'credit_id\\': \\'598331bf925141421201044b\\', \\'department\\': \\'Editing\\', \\'gender\\': 2, \\'id\\': 1168870, \\'job\\': \\'Editor\\', \\'name\\': \\'Robert Gordon\\', \\'profile_path\\': None}, {\\'credit_id\\': \\'5892168cc3a36809660095f9\\', \\'department\\': \\'Sound\\', \\'gender\\': 0, \\'id\\': 1552883, \\'job\\': \\'Foley Editor\\', \\'name\\': \\'Mary Helen Leasman\\', \\'profile_path\\': None}, {\\'credit_id\\': \\'5531824d9251415289000945\\', \\'department\\': \\'Visual Effects\\', \\'gender\\': 0, \\'id\\': 1453514, \\'job\\': \\'Animation\\', \\'name\\': \\'Kim Blanchette\\', \\'profile_path\\': None}, {\\'credit_id\\': \\'589215969251412dcb009bf6\\', \\'department\\': \\'Sound\\', \\'gender\\': 0, \\'id\\': 1414182, \\'job\\': \\'ADR Editor\\', \\'name\\': \\'Marilyn McCoppen\\', \\'profile_path\\': None}, {\\'credit_id\\': \\'589217099251412dc500a018\\', \\'department\\': \\'Sound\\', \\'gender\\': 2, \\'id\\': 7885, \\'job\\': \\'Orchestrator\\', \\'name\\': \\'Randy Newman\\', \\'profile_path\\': \\'/w0JzfoiM25nrnxYOzosPHRq6mlE.jpg\\'}, {\\'credit_id\\': \\'5693e6b29251417b0e0000e3\\', \\'department\\': \\'Editing\\', \\'gender\\': 0, \\'id\\': 1429549, \\'job\\': \\'Color Timer\\', \\'name\\': \\'Dale E. Grahn\\', \\'profile_path\\': None}, {\\'credit_id\\': \\'572e2522c3a36869e6001a9c\\', \\'department\\': \\'Visual Effects\\', \\'gender\\': 0, \\'id\\': 7949, \\'job\\': \\'CG Painter\\', \\'name\\': \\'Robin Cooper\\', \\'profile_path\\': None}, {\\'credit_id\\': \\'574f12309251415ca1000012\\', \\'department\\': \\'Writing\\', \\'gender\\': 2, \\'id\\': 7879, \\'job\\': \\'Original Story\\', \\'name\\': \\'John Lasseter\\', \\'profile_path\\': \\'/7EdqiNbr4FRjIhKHyPPdFfEEEFG.jpg\\'}, {\\'credit_id\\': \\'574f1240c3a3682e7300001c\\', \\'department\\': \\'Writing\\', \\'gender\\': 2, \\'id\\': 12890, \\'job\\': \\'Original Story\\', \\'name\\': \\'Pete Docter\\', \\'profile_path\\': \\'/r6ngPgnReA3RHmKjmSoVsc6Awjp.jpg\\'}, {\\'credit_id\\': \\'574f12519251415c92000015\\', \\'department\\': \\'Writing\\', \\'gender\\': 0, \\'id\\': 7911, \\'job\\': \\'Original Story\\', \\'name\\': \\'Joe Ranft\\', \\'profile_path\\': \\'/f1BoWC2JbCcfP1e5hKfGsxkHzVU.jpg\\'}, {\\'credit_id\\': \\'574f12cec3a3682e82000022\\', \\'department\\': \\'Crew\\', \\'gender\\': 0, \\'id\\': 1629419, \\'job\\': \\'Post Production Supervisor\\', \\'name\\': \\'Patsy Bouge\\', \\'profile_path\\': None}, {\\'credit_id\\': \\'574f14f19251415ca1000082\\', \\'department\\': \\'Art\\', \\'gender\\': 0, \\'id\\': 7961, \\'job\\': \\'Sculptor\\', \\'name\\': \\'Norm DeCarlo\\', \\'profile_path\\': None}, {\\'credit_id\\': \\'5751ae4bc3a3683772002b7f\\', \\'department\\': \\'Visual Effects\\', \\'gender\\': 2, \\'id\\': 12905, \\'job\\': \\'Animation Director\\', \\'name\\': \\'Ash Brannon\\', \\'profile_path\\': \\'/6ueWgPEEBHvS3De2BHYQnYjRTig.jpg\\'}, {\\'credit_id\\': \\'5891edbe9251412dc5007cd6\\', \\'department\\': \\'Sound\\', \\'gender\\': 2, \\'id\\': 7885, \\'job\\': \\'Music\\', \\'name\\': \\'Randy Newman\\', \\'profile_path\\': \\'/w0JzfoiM25nrnxYOzosPHRq6mlE.jpg\\'}, {\\'credit_id\\': \\'589213d39251412dc8009832\\', \\'department\\': \\'Directing\\', \\'gender\\': 0, \\'id\\': 1748707, \\'job\\': \\'Layout\\', \\'name\\': \\'Roman Figun\\', \\'profile_path\\': None}, {\\'credit_id\\': \\'5892173dc3a3680968009351\\', \\'department\\': \\'Sound\\', \\'gender\\': 2, \\'id\\': 4949, \\'job\\': \\'Orchestrator\\', \\'name\\': \\'Don Davis\\', \\'profile_path\\': None}, {\\'credit_id\\': \\'589217cec3a3686b0a0052ba\\', \\'department\\': \\'Sound\\', \\'gender\\': 0, \\'id\\': 1372885, \\'job\\': \\'Music Editor\\', \\'name\\': \\'James Flamberg\\', \\'profile_path\\': None}, {\\'credit_id\\': \\'58921831c3a3686348004a64\\', \\'department\\': \\'Editing\\', \\'gender\\': 0, \\'id\\': 1739962, \\'job\\': \\'Negative Cutter\\', \\'name\\': \\'Mary Beth Smith\\', \\'profile_path\\': None}, {\\'credit_id\\': \\'58921838c3a36809700096c0\\', \\'department\\': \\'Editing\\', \\'gender\\': 0, \\'id\\': 1748513, \\'job\\': \\'Negative Cutter\\', \\'name\\': \\'Rick Mackay\\', \\'profile_path\\': None}, {\\'credit_id\\': \\'589218429251412dd1009d1b\\', \\'department\\': \\'Art\\', \\'gender\\': 0, \\'id\\': 1458006, \\'job\\': \\'Title Designer\\', \\'name\\': \\'Susan Bradley\\', \\'profile_path\\': None}, {\\'credit_id\\': \\'5891ed99c3a3680966007670\\', \\'department\\': \\'Crew\\', \\'gender\\': 0, \\'id\\': 1748557, \\'job\\': \\'Supervising Technical Director\\', \\'name\\': \\'William Reeves\\', \\'profile_path\\': None}, {\\'credit_id\\': \\'5891edcec3a3686b0a002eb2\\', \\'department\\': \\'Sound\\', \\'gender\\': 2, \\'id\\': 7885, \\'job\\': \\'Songs\\', \\'name\\': \\'Randy Newman\\', \\'profile_path\\': \\'/w0JzfoiM25nrnxYOzosPHRq6mlE.jpg\\'}, {\\'credit_id\\': \\'5891edf9c3a36809700075e6\\', \\'department\\': \\'Writing\\', \\'gender\\': 2, \\'id\\': 7, \\'job\\': \\'Original Story\\', \\'name\\': \\'Andrew Stanton\\', \\'profile_path\\': \\'/pvQWsu0qc8JFQhMVJkTHuexUAa1.jpg\\'}, {\\'credit_id\\': \\'58920f0b9251412dd7009104\\', \\'department\\': \\'Crew\\', \\'gender\\': 2, \\'id\\': 12890, \\'job\\': \\'Supervising Animator\\', \\'name\\': \\'Pete Docter\\', \\'profile_path\\': \\'/r6ngPgnReA3RHmKjmSoVsc6Awjp.jpg\\'}, {\\'credit_id\\': \\'58920f1fc3a3680977009021\\', \\'department\\': \\'Sound\\', \\'gender\\': 2, \\'id\\': 2216, \\'job\\': \\'Sound Designer\\', \\'name\\': \\'Gary Rydstrom\\', \\'profile_path\\': \\'/jZpr1nVfO7lldWI0YtmP1FGw7Rj.jpg\\'}, {\\'credit_id\\': \\'58920f389251412dd700912d\\', \\'department\\': \\'Production\\', \\'gender\\': 0, \\'id\\': 12909, \\'job\\': \\'Production Supervisor\\', \\'name\\': \\'Karen Robert Jackson\\', \\'profile_path\\': None}, {\\'credit_id\\': \\'58920fbd9251412dcb00969c\\', \\'department\\': \\'Crew\\', \\'gender\\': 0, \\'id\\': 953331, \\'job\\': \\'Executive Music Producer\\', \\'name\\': \\'Chris Montan\\', \\'profile_path\\': None}, {\\'credit_id\\': \\'589210069251412dd7009219\\', \\'department\\': \\'Visual Effects\\', \\'gender\\': 0, \\'id\\': 7893, \\'job\\': \\'Animation Director\\', \\'name\\': \\'Rich Quade\\', \\'profile_path\\': None}, {\\'credit_id\\': \\'589210329251412dcd00943b\\', \\'department\\': \\'Visual Effects\\', \\'gender\\': 0, \\'id\\': 8025, \\'job\\': \\'Animation\\', \\'name\\': \\'Michael Berenstein\\', \\'profile_path\\': None}, {\\'credit_id\\': \\'5892103bc3a368096a009180\\', \\'department\\': \\'Visual Effects\\', \\'gender\\': 0, \\'id\\': 78009, \\'job\\': \\'Animation\\', \\'name\\': \\'Colin Brady\\', \\'profile_path\\': None}, {\\'credit_id\\': \\'5892105dc3a3680968008db2\\', \\'department\\': \\'Visual Effects\\', \\'gender\\': 0, \\'id\\': 1748682, \\'job\\': \\'Animation\\', \\'name\\': \\'Davey Crockett Feiten\\', \\'profile_path\\': None}, {\\'credit_id\\': \\'589210669251412dcd009466\\', \\'department\\': \\'Visual Effects\\', \\'gender\\': 0, \\'id\\': 1454030, \\'job\\': \\'Animation\\', \\'name\\': \\'Angie Glocka\\', \\'profile_path\\': None}, {\\'credit_id\\': \\'5892107c9251412dd1009613\\', \\'department\\': \\'Visual Effects\\', \\'gender\\': 0, \\'id\\': 1748683, \\'job\\': \\'Animation\\', \\'name\\': \\'Rex Grignon\\', \\'profile_path\\': None}, {\\'credit_id\\': \\'5892108ac3a3680973008d3f\\', \\'department\\': \\'Visual Effects\\', \\'gender\\': 0, \\'id\\': 1748684, \\'job\\': \\'Animation\\', \\'name\\': \\'Tom K. Gurney\\', \\'profile_path\\': None}, {\\'credit_id\\': \\'58921093c3a3686348004477\\', \\'department\\': \\'Visual Effects\\', \\'gender\\': 2, \\'id\\': 8029, \\'job\\': \\'Animation\\', \\'name\\': \\'Jimmy Hayward\\', \\'profile_path\\': \\'/lTDRpudEY7BDwTefXbXzMlmb0ui.jpg\\'}, {\\'credit_id\\': \\'5892109b9251412dcd0094b0\\', \\'department\\': \\'Visual Effects\\', \\'gender\\': 0, \\'id\\': 1426773, \\'job\\': \\'Animation\\', \\'name\\': \\'Hal T. Hickel\\', \\'profile_path\\': None}, {\\'credit_id\\': \\'589210a29251412dc5009a29\\', \\'department\\': \\'Visual Effects\\', \\'gender\\': 0, \\'id\\': 8035, \\'job\\': \\'Animation\\', \\'name\\': \\'Karen Kiser\\', \\'profile_path\\': None}, {\\'credit_id\\': \\'589210ccc3a3680977009191\\', \\'department\\': \\'Visual Effects\\', \\'gender\\': 0, \\'id\\': 1748688, \\'job\\': \\'Animation\\', \\'name\\': \\'Anthony B. LaMolinara\\', \\'profile_path\\': None}, {\\'credit_id\\': \\'589210d7c3a3686b0a004c1f\\', \\'department\\': \\'Visual Effects\\', \\'gender\\': 0, \\'id\\': 587314, \\'job\\': \\'Animation\\', \\'name\\': \\'Guionne Leroy\\', \\'profile_path\\': None}, {\\'credit_id\\': \\'589210e1c3a36809770091a7\\', \\'department\\': \\'Visual Effects\\', \\'gender\\': 2, \\'id\\': 7918, \\'job\\': \\'Animation\\', \\'name\\': \\'Bud Luckey\\', \\'profile_path\\': \\'/pcCh7G19FKMNijmPQg1PMH1btic.jpg\\'}, {\\'credit_id\\': \\'589210ee9251412dc200978a\\', \\'department\\': \\'Visual Effects\\', \\'gender\\': 0, \\'id\\': 1748689, \\'job\\': \\'Animation\\', \\'name\\': \\'Les Major\\', \\'profile_path\\': None}, {\\'credit_id\\': \\'589210fa9251412dc8009595\\', \\'department\\': \\'Visual Effects\\', \\'gender\\': 2, \\'id\\': 7892, \\'job\\': \\'Animation\\', \\'name\\': \\'Glenn McQueen\\', \\'profile_path\\': None}, {\\'credit_id\\': \\'589211029251412dc8009598\\', \\'department\\': \\'Visual Effects\\', \\'gender\\': 0, \\'id\\': 555795, \\'job\\': \\'Animation\\', \\'name\\': \\'Mark Oftedal\\', \\'profile_path\\': None}, {\\'credit_id\\': \\'5892110b9251412dc800959d\\', \\'department\\': \\'Visual Effects\\', \\'gender\\': 2, \\'id\\': 7882, \\'job\\': \\'Animation\\', \\'name\\': \\'Jeff Pidgeon\\', \\'profile_path\\': \\'/yLddkg5HcgbJg00cS13GVBnP0HY.jpg\\'}, {\\'credit_id\\': \\'58921113c3a36863480044e4\\', \\'department\\': \\'Visual Effects\\', \\'gender\\': 0, \\'id\\': 8017, \\'job\\': \\'Animation\\', \\'name\\': \\'Jeff Pratt\\', \\'profile_path\\': None}, {\\'credit_id\\': \\'5892111c9251412dcb0097e9\\', \\'department\\': \\'Visual Effects\\', \\'gender\\': 0, \\'id\\': 1184140, \\'job\\': \\'Animation\\', \\'name\\': \\'Steve Rabatich\\', \\'profile_path\\': None}, {\\'credit_id\\': \\'58921123c3a36809700090f6\\', \\'department\\': \\'Visual Effects\\', \\'gender\\': 0, \\'id\\': 8049, \\'job\\': \\'Animation\\', \\'name\\': \\'Roger Rose\\', \\'profile_path\\': None}, {\\'credit_id\\': \\'5892112b9251412dcb0097fb\\', \\'department\\': \\'Visual Effects\\', \\'gender\\': 0, \\'id\\': 1509559, \\'job\\': \\'Animation\\', \\'name\\': \\'Steve Segal\\', \\'profile_path\\': None}, {\\'credit_id\\': \\'589211349251412dc80095c3\\', \\'department\\': \\'Visual Effects\\', \\'gender\\': 0, \\'id\\': 1748691, \\'job\\': \\'Animation\\', \\'name\\': \\'Doug Sheppeck\\', \\'profile_path\\': None}, {\\'credit_id\\': \\'5892113cc3a3680970009106\\', \\'department\\': \\'Visual Effects\\', \\'gender\\': 0, \\'id\\': 8050, \\'job\\': \\'Animation\\', \\'name\\': \\'Alan Sperling\\', \\'profile_path\\': None}, {\\'credit_id\\': \\'58921148c3a3686b0a004c99\\', \\'department\\': \\'Visual Effects\\', \\'gender\\': 0, \\'id\\': 8010, \\'job\\': \\'Animation\\', \\'name\\': \\'Doug Sweetland\\', \\'profile_path\\': None}, {\\'credit_id\\': \\'58921150c3a3680966009125\\', \\'department\\': \\'Visual Effects\\', \\'gender\\': 0, \\'id\\': 8044, \\'job\\': \\'Animation\\', \\'name\\': \\'David Tart\\', \\'profile_path\\': None}, {\\'credit_id\\': \\'589211629251412dc5009b00\\', \\'department\\': \\'Visual Effects\\', \\'gender\\': 0, \\'id\\': 1454034, \\'job\\': \\'Animation\\', \\'name\\': \\'Ken Willard\\', \\'profile_path\\': None}, {\\'credit_id\\': \\'589211c1c3a3686b0a004d28\\', \\'department\\': \\'Visual Effects\\', \\'gender\\': 0, \\'id\\': 7887, \\'job\\': \\'Visual Effects Supervisor\\', \\'name\\': \\'Thomas Porter\\', \\'profile_path\\': None}, {\\'credit_id\\': \\'589211d4c3a3680968008ed9\\', \\'department\\': \\'Visual Effects\\', \\'gender\\': 0, \\'id\\': 1406878, \\'job\\': \\'Visual Effects\\', \\'name\\': \\'Mark Thomas Henne\\', \\'profile_path\\': None}, {\\'credit_id\\': \\'589211f59251412dd4008e65\\', \\'department\\': \\'Visual Effects\\', \\'gender\\': 0, \\'id\\': 1748698, \\'job\\': \\'Visual Effects\\', \\'name\\': \\'Oren Jacob\\', \\'profile_path\\': None}, {\\'credit_id\\': \\'58921242c3a368096a00939b\\', \\'department\\': \\'Visual Effects\\', \\'gender\\': 0, \\'id\\': 1748699, \\'job\\': \\'Visual Effects\\', \\'name\\': \\'Darwyn Peachey\\', \\'profile_path\\': None}, {\\'credit_id\\': \\'5892124b9251412dc5009bd2\\', \\'department\\': \\'Visual Effects\\', \\'gender\\': 0, \\'id\\': 1748701, \\'job\\': \\'Visual Effects\\', \\'name\\': \\'Mitch Prater\\', \\'profile_path\\': None}, {\\'credit_id\\': \\'58921264c3a3686b0a004dbf\\', \\'department\\': \\'Visual Effects\\', \\'gender\\': 0, \\'id\\': 1748703, \\'job\\': \\'Visual Effects\\', \\'name\\': \\'Brian M. Rosen\\', \\'profile_path\\': None}, {\\'credit_id\\': \\'589212709251412dcd009676\\', \\'department\\': \\'Lighting\\', \\'gender\\': 1, \\'id\\': 12912, \\'job\\': \\'Lighting Supervisor\\', \\'name\\': \\'Sharon Calahan\\', \\'profile_path\\': None}, {\\'credit_id\\': \\'5892127fc3a3686b0a004de5\\', \\'department\\': \\'Lighting\\', \\'gender\\': 0, \\'id\\': 7899, \\'job\\': \\'Lighting Supervisor\\', \\'name\\': \\'Galyn Susman\\', \\'profile_path\\': None}, {\\'credit_id\\': \\'589212cdc3a3680970009268\\', \\'department\\': \\'Visual Effects\\', \\'gender\\': 0, \\'id\\': 12915, \\'job\\': \\'CG Painter\\', \\'name\\': \\'William Cone\\', \\'profile_path\\': None}, {\\'credit_id\\': \\'5892130f9251412dc8009791\\', \\'department\\': \\'Art\\', \\'gender\\': 0, \\'id\\': 1748705, \\'job\\': \\'Sculptor\\', \\'name\\': \\'Shelley Daniels Lekven\\', \\'profile_path\\': None}, {\\'credit_id\\': \\'5892131c9251412dd4008f4c\\', \\'department\\': \\'Visual Effects\\', \\'gender\\': 2, \\'id\\': 7889, \\'job\\': \\'Character Designer\\', \\'name\\': \\'Bob Pauley\\', \\'profile_path\\': None}, {\\'credit_id\\': \\'589213249251412dd100987b\\', \\'department\\': \\'Visual Effects\\', \\'gender\\': 2, \\'id\\': 7918, \\'job\\': \\'Character Designer\\', \\'name\\': \\'Bud Luckey\\', \\'profile_path\\': \\'/pcCh7G19FKMNijmPQg1PMH1btic.jpg\\'}, {\\'credit_id\\': \\'5892132b9251412dc80097b1\\', \\'department\\': \\'Visual Effects\\', \\'gender\\': 2, \\'id\\': 7, \\'job\\': \\'Character Designer\\', \\'name\\': \\'Andrew Stanton\\', \\'profile_path\\': \\'/pvQWsu0qc8JFQhMVJkTHuexUAa1.jpg\\'}, {\\'credit_id\\': \\'58921332c3a368634800467b\\', \\'department\\': \\'Visual Effects\\', \\'gender\\': 0, \\'id\\': 12915, \\'job\\': \\'Character Designer\\', \\'name\\': \\'William Cone\\', \\'profile_path\\': None}, {\\'credit_id\\': \\'5892135f9251412dd4008f90\\', \\'department\\': \\'Visual Effects\\', \\'gender\\': 0, \\'id\\': 1748706, \\'job\\': \\'Character Designer\\', \\'name\\': \\'Steve Johnson\\', \\'profile_path\\': None}, {\\'credit_id\\': \\'58921384c3a3680973008fd4\\', \\'department\\': \\'Visual Effects\\', \\'gender\\': 0, \\'id\\': 1176752, \\'job\\': \\'Character Designer\\', \\'name\\': \\'Dan Haskett\\', \\'profile_path\\': None}, {\\'credit_id\\': \\'5892138e9251412dc20099fc\\', \\'department\\': \\'Visual Effects\\', \\'gender\\': 0, \\'id\\': 1088034, \\'job\\': \\'Character Designer\\', \\'name\\': \\'Tom Holloway\\', \\'profile_path\\': \\'/a0r0T2usTBpgMI5aZbRBDW1fTl8.jpg\\'}, {\\'credit_id\\': \\'58921395c3a368097700942f\\', \\'department\\': \\'Visual Effects\\', \\'gender\\': 0, \\'id\\': 1447465, \\'job\\': \\'Character Designer\\', \\'name\\': \\'Jean Gillmore\\', \\'profile_path\\': None}, {\\'credit_id\\': \\'589213e2c3a3680973009026\\', \\'department\\': \\'Directing\\', \\'gender\\': 0, \\'id\\': 1748709, \\'job\\': \\'Layout\\', \\'name\\': \\'Desirée Mourad\\', \\'profile_path\\': None}, {\\'credit_id\\': \\'589214099251412dc5009d57\\', \\'department\\': \\'Art\\', \\'gender\\': 0, \\'id\\': 1748710, \\'job\\': \\'Set Dresser\\', \\'name\\': \"Kelly O\\'Connell\", \\'profile_path\\': None}, {\\'credit_id\\': \\'58921411c3a3686b0a004f70\\', \\'department\\': \\'Art\\', \\'gender\\': 0, \\'id\\': 1443471, \\'job\\': \\'Set Dresser\\', \\'name\\': \\'Sonoko Konishi\\', \\'profile_path\\': None}, {\\'credit_id\\': \\'58921434c3a368096a00956e\\', \\'department\\': \\'Art\\', \\'gender\\': 0, \\'id\\': 1748711, \\'job\\': \\'Set Dresser\\', \\'name\\': \\'Ann M. Rockwell\\', \\'profile_path\\': None}, {\\'credit_id\\': \\'5892144ac3a36809680090de\\', \\'department\\': \\'Editing\\', \\'gender\\': 0, \\'id\\': 1748712, \\'job\\': \\'Editorial Manager\\', \\'name\\': \\'Julie M. McDonald\\', \\'profile_path\\': None}, {\\'credit_id\\': \\'58921479c3a368096800910f\\', \\'department\\': \\'Editing\\', \\'gender\\': 0, \\'id\\': 1589729, \\'job\\': \\'Assistant Editor\\', \\'name\\': \\'Robin Lee\\', \\'profile_path\\': None}, {\\'credit_id\\': \\'5892148b9251412dd10099cc\\', \\'department\\': \\'Editing\\', \\'gender\\': 0, \\'id\\': 1748716, \\'job\\': \\'Assistant Editor\\', \\'name\\': \\'Tom Freeman\\', \\'profile_path\\': None}, {\\'credit_id\\': \\'589214959251412dcb009b1f\\', \\'department\\': \\'Editing\\', \\'gender\\': 0, \\'id\\': 1748717, \\'job\\': \\'Assistant Editor\\', \\'name\\': \\'Ada Cochavi\\', \\'profile_path\\': None}, {\\'credit_id\\': \\'5892149ec3a3686348004798\\', \\'department\\': \\'Editing\\', \\'gender\\': 0, \\'id\\': 1336438, \\'job\\': \\'Assistant Editor\\', \\'name\\': \\'Dana Mulligan\\', \\'profile_path\\': None}, {\\'credit_id\\': \\'589214adc3a368096a0095db\\', \\'department\\': \\'Editing\\', \\'gender\\': 0, \\'id\\': 1748718, \\'job\\': \\'Editorial Coordinator\\', \\'name\\': \\'Deirdre Morrison\\', \\'profile_path\\': None}, {\\'credit_id\\': \\'589214c7c3a368097700952b\\', \\'department\\': \\'Production\\', \\'gender\\': 0, \\'id\\': 1748719, \\'job\\': \\'Production Coordinator\\', \\'name\\': \\'Lori Lombardo\\', \\'profile_path\\': None}, {\\'credit_id\\': \\'589214cec3a368096a009603\\', \\'department\\': \\'Production\\', \\'gender\\': 0, \\'id\\': 1748720, \\'job\\': \\'Production Coordinator\\', \\'name\\': \\'Ellen Devine\\', \\'profile_path\\': None}, {\\'credit_id\\': \\'589214e39251412dc8009904\\', \\'department\\': \\'Crew\\', \\'gender\\': 0, \\'id\\': 1468014, \\'job\\': \\'Unit Publicist\\', \\'name\\': \\'Lauren Beth Strogoff\\', \\'profile_path\\': None}, {\\'credit_id\\': \\'58921544c3a3686b0a00507d\\', \\'department\\': \\'Sound\\', \\'gender\\': 2, \\'id\\': 2216, \\'job\\': \\'Sound Re-Recording Mixer\\', \\'name\\': \\'Gary Rydstrom\\', \\'profile_path\\': \\'/jZpr1nVfO7lldWI0YtmP1FGw7Rj.jpg\\'}, {\\'credit_id\\': \\'5892154c9251412dd1009a56\\', \\'department\\': \\'Sound\\', \\'gender\\': 0, \\'id\\': 1425978, \\'job\\': \\'Sound Re-Recording Mixer\\', \\'name\\': \\'Gary Summers\\', \\'profile_path\\': None}, {\\'credit_id\\': \\'58921555c3a36809680091bd\\', \\'department\\': \\'Sound\\', \\'gender\\': 2, \\'id\\': 8276, \\'job\\': \\'Supervising Sound Editor\\', \\'name\\': \\'Tim Holland\\', \\'profile_path\\': None}, {\\'credit_id\\': \\'589215c39251412dcb009c12\\', \\'department\\': \\'Sound\\', \\'gender\\': 0, \\'id\\': 7069, \\'job\\': \\'Sound Effects Editor\\', \\'name\\': \\'Pat Jackson\\', \\'profile_path\\': None}, {\\'credit_id\\': \\'58921698c3a368096a009788\\', \\'department\\': \\'Crew\\', \\'gender\\': 2, \\'id\\': 15894, \\'job\\': \\'Sound Design Assistant\\', \\'name\\': \\'Tom Myers\\', \\'profile_path\\': None}, {\\'credit_id\\': \\'589216a89251412dc2009ca4\\', \\'department\\': \\'Sound\\', \\'gender\\': 0, \\'id\\': 1414177, \\'job\\': \\'Assistant Sound Editor\\', \\'name\\': \\'J.R. Grubbs\\', \\'profile_path\\': None}, {\\'credit_id\\': \\'589216c19251412dc2009cb9\\', \\'department\\': \\'Sound\\', \\'gender\\': 1, \\'id\\': 1748724, \\'job\\': \\'Assistant Sound Editor\\', \\'name\\': \\'Susan Sanford\\', \\'profile_path\\': None}, {\\'credit_id\\': \\'589216ccc3a3680973009274\\', \\'department\\': \\'Sound\\', \\'gender\\': 0, \\'id\\': 1748725, \\'job\\': \\'Assistant Sound Editor\\', \\'name\\': \\'Susan Popovic\\', \\'profile_path\\': None}, {\\'credit_id\\': \\'589216d79251412dc8009aa0\\', \\'department\\': \\'Sound\\', \\'gender\\': 0, \\'id\\': 8067, \\'job\\': \\'Assistant Sound Editor\\', \\'name\\': \\'Dan Engstrom\\', \\'profile_path\\': None}, {\\'credit_id\\': \\'589216e49251412dcd009a4f\\', \\'department\\': \\'Production\\', \\'gender\\': 1, \\'id\\': 7902, \\'job\\': \\'Casting Consultant\\', \\'name\\': \\'Ruth Lambert\\', \\'profile_path\\': None}, {\\'credit_id\\': \\'589216f39251412dc2009cf3\\', \\'department\\': \\'Production\\', \\'gender\\': 0, \\'id\\': 84493, \\'job\\': \\'ADR Voice Casting\\', \\'name\\': \\'Mickie McGowan\\', \\'profile_path\\': \\'/k7TjJBfINsg8vLQxJwos6XObAD6.jpg\\'}]'"
     },
     "execution_count": 52,
     "metadata": {},
     "output_type": "execute_result"
    }
   ],
   "source": [
    "credits.crew[0]"
   ],
   "metadata": {
    "collapsed": false,
    "ExecuteTime": {
     "end_time": "2023-07-11T00:43:26.185828500Z",
     "start_time": "2023-07-11T00:43:26.154301900Z"
    }
   }
  },
  {
   "cell_type": "code",
   "execution_count": 52,
   "outputs": [],
   "source": [],
   "metadata": {
    "collapsed": false,
    "ExecuteTime": {
     "end_time": "2023-07-11T00:43:26.185828500Z",
     "start_time": "2023-07-11T00:43:26.169320200Z"
    }
   }
  },
  {
   "cell_type": "markdown",
   "metadata": {},
   "source": [
    "## Preparing the Data for Merge"
   ]
  },
  {
   "cell_type": "markdown",
   "metadata": {},
   "source": [
    "2. __Drop Duplicates__ in the credits datasets. (similar to Project 3)"
   ]
  },
  {
   "cell_type": "code",
   "execution_count": 53,
   "metadata": {
    "ExecuteTime": {
     "end_time": "2023-07-11T00:43:26.245396100Z",
     "start_time": "2023-07-11T00:43:26.185828500Z"
    }
   },
   "outputs": [
    {
     "data": {
      "text/plain": "                                                    cast  \\\n0      [{'cast_id': 14, 'character': 'Woody (voice)',...   \n1      [{'cast_id': 1, 'character': 'Alan Parrish', '...   \n2      [{'cast_id': 2, 'character': 'Max Goldman', 'c...   \n3      [{'cast_id': 1, 'character': \"Savannah 'Vannah...   \n4      [{'cast_id': 1, 'character': 'George Banks', '...   \n...                                                  ...   \n45471  [{'cast_id': 0, 'character': '', 'credit_id': ...   \n45472  [{'cast_id': 1002, 'character': 'Sister Angela...   \n45473  [{'cast_id': 6, 'character': 'Emily Shaw', 'cr...   \n45474  [{'cast_id': 2, 'character': '', 'credit_id': ...   \n45475                                                 []   \n\n                                                    crew      id  \n0      [{'credit_id': '52fe4284c3a36847f8024f49', 'de...     862  \n1      [{'credit_id': '52fe44bfc3a36847f80a7cd1', 'de...    8844  \n2      [{'credit_id': '52fe466a9251416c75077a89', 'de...   15602  \n3      [{'credit_id': '52fe44779251416c91011acb', 'de...   31357  \n4      [{'credit_id': '52fe44959251416c75039ed7', 'de...   11862  \n...                                                  ...     ...  \n45471  [{'credit_id': '5894a97d925141426c00818c', 'de...  439050  \n45472  [{'credit_id': '52fe4af1c3a36847f81e9b15', 'de...  111109  \n45473  [{'credit_id': '52fe4776c3a368484e0c8387', 'de...   67758  \n45474  [{'credit_id': '533bccebc3a36844cf0011a7', 'de...  227506  \n45475  [{'credit_id': '593e676c92514105b702e68e', 'de...  461257  \n\n[45476 rows x 3 columns]",
      "text/html": "<div>\n<style scoped>\n    .dataframe tbody tr th:only-of-type {\n        vertical-align: middle;\n    }\n\n    .dataframe tbody tr th {\n        vertical-align: top;\n    }\n\n    .dataframe thead th {\n        text-align: right;\n    }\n</style>\n<table border=\"1\" class=\"dataframe\">\n  <thead>\n    <tr style=\"text-align: right;\">\n      <th></th>\n      <th>cast</th>\n      <th>crew</th>\n      <th>id</th>\n    </tr>\n  </thead>\n  <tbody>\n    <tr>\n      <th>0</th>\n      <td>[{'cast_id': 14, 'character': 'Woody (voice)',...</td>\n      <td>[{'credit_id': '52fe4284c3a36847f8024f49', 'de...</td>\n      <td>862</td>\n    </tr>\n    <tr>\n      <th>1</th>\n      <td>[{'cast_id': 1, 'character': 'Alan Parrish', '...</td>\n      <td>[{'credit_id': '52fe44bfc3a36847f80a7cd1', 'de...</td>\n      <td>8844</td>\n    </tr>\n    <tr>\n      <th>2</th>\n      <td>[{'cast_id': 2, 'character': 'Max Goldman', 'c...</td>\n      <td>[{'credit_id': '52fe466a9251416c75077a89', 'de...</td>\n      <td>15602</td>\n    </tr>\n    <tr>\n      <th>3</th>\n      <td>[{'cast_id': 1, 'character': \"Savannah 'Vannah...</td>\n      <td>[{'credit_id': '52fe44779251416c91011acb', 'de...</td>\n      <td>31357</td>\n    </tr>\n    <tr>\n      <th>4</th>\n      <td>[{'cast_id': 1, 'character': 'George Banks', '...</td>\n      <td>[{'credit_id': '52fe44959251416c75039ed7', 'de...</td>\n      <td>11862</td>\n    </tr>\n    <tr>\n      <th>...</th>\n      <td>...</td>\n      <td>...</td>\n      <td>...</td>\n    </tr>\n    <tr>\n      <th>45471</th>\n      <td>[{'cast_id': 0, 'character': '', 'credit_id': ...</td>\n      <td>[{'credit_id': '5894a97d925141426c00818c', 'de...</td>\n      <td>439050</td>\n    </tr>\n    <tr>\n      <th>45472</th>\n      <td>[{'cast_id': 1002, 'character': 'Sister Angela...</td>\n      <td>[{'credit_id': '52fe4af1c3a36847f81e9b15', 'de...</td>\n      <td>111109</td>\n    </tr>\n    <tr>\n      <th>45473</th>\n      <td>[{'cast_id': 6, 'character': 'Emily Shaw', 'cr...</td>\n      <td>[{'credit_id': '52fe4776c3a368484e0c8387', 'de...</td>\n      <td>67758</td>\n    </tr>\n    <tr>\n      <th>45474</th>\n      <td>[{'cast_id': 2, 'character': '', 'credit_id': ...</td>\n      <td>[{'credit_id': '533bccebc3a36844cf0011a7', 'de...</td>\n      <td>227506</td>\n    </tr>\n    <tr>\n      <th>45475</th>\n      <td>[]</td>\n      <td>[{'credit_id': '593e676c92514105b702e68e', 'de...</td>\n      <td>461257</td>\n    </tr>\n  </tbody>\n</table>\n<p>45476 rows × 3 columns</p>\n</div>"
     },
     "execution_count": 53,
     "metadata": {},
     "output_type": "execute_result"
    }
   ],
   "source": [
    "credits"
   ]
  },
  {
   "cell_type": "code",
   "execution_count": 54,
   "outputs": [
    {
     "data": {
      "text/plain": "141971    3\n298721    2\n9755      2\n10991     2\n99080     2\n         ..\n55135     1\n15877     1\n72272     1\n1549      1\n461257    1\nName: id, Length: 45432, dtype: int64"
     },
     "execution_count": 54,
     "metadata": {},
     "output_type": "execute_result"
    }
   ],
   "source": [
    "credits.id.value_counts()"
   ],
   "metadata": {
    "collapsed": false,
    "ExecuteTime": {
     "end_time": "2023-07-11T00:43:26.268599700Z",
     "start_time": "2023-07-11T00:43:26.200843800Z"
    }
   }
  },
  {
   "cell_type": "code",
   "execution_count": 55,
   "outputs": [
    {
     "data": {
      "text/plain": "                                                    cast  \\\n25885  [{'cast_id': 12, 'character': 'The Creature', ...   \n25950  [{'cast_id': 12, 'character': 'The Creature', ...   \n33838  [{'cast_id': 15, 'character': 'Chuck Barris', ...   \n5865   [{'cast_id': 15, 'character': 'Chuck Barris', ...   \n9165   [{'cast_id': 11, 'character': 'Jef Costello', ...   \n...                                                  ...   \n25887  [{'cast_id': 7, 'character': 'Hollander', 'cre...   \n24163  [{'cast_id': 2, 'character': 'Ebba', 'credit_i...   \n45275  [{'cast_id': 2, 'character': 'Ebba', 'credit_i...   \n33196  [{'cast_id': 1, 'character': 'Jenjira', 'credi...   \n40051  [{'cast_id': 1, 'character': 'Jenjira', 'credi...   \n\n                                                    crew      id  \n25885  [{'credit_id': '52fe4380c3a36847f80590dd', 'de...    3057  \n25950  [{'credit_id': '52fe4380c3a36847f80590dd', 'de...    3057  \n33838  [{'credit_id': '52fe43e2c3a36847f80760a9', 'de...    4912  \n5865   [{'credit_id': '52fe43e2c3a36847f80760b5', 'de...    4912  \n9165   [{'credit_id': '52fe440ac3a36847f807ee01', 'de...    5511  \n...                                                  ...     ...  \n25887  [{'credit_id': '52fe4da29251416c9111ce5d', 'de...  199591  \n24163  [{'credit_id': '534fd1a80e0a267eb6000e32', 'de...  265189  \n45275  [{'credit_id': '534fd1a80e0a267eb6000e32', 'de...  265189  \n33196  [{'credit_id': '5448c8efc3a3680fb4001582', 'de...  298721  \n40051  [{'credit_id': '5739ceeac3a3683c9d000c12', 'de...  298721  \n\n[87 rows x 3 columns]",
      "text/html": "<div>\n<style scoped>\n    .dataframe tbody tr th:only-of-type {\n        vertical-align: middle;\n    }\n\n    .dataframe tbody tr th {\n        vertical-align: top;\n    }\n\n    .dataframe thead th {\n        text-align: right;\n    }\n</style>\n<table border=\"1\" class=\"dataframe\">\n  <thead>\n    <tr style=\"text-align: right;\">\n      <th></th>\n      <th>cast</th>\n      <th>crew</th>\n      <th>id</th>\n    </tr>\n  </thead>\n  <tbody>\n    <tr>\n      <th>25885</th>\n      <td>[{'cast_id': 12, 'character': 'The Creature', ...</td>\n      <td>[{'credit_id': '52fe4380c3a36847f80590dd', 'de...</td>\n      <td>3057</td>\n    </tr>\n    <tr>\n      <th>25950</th>\n      <td>[{'cast_id': 12, 'character': 'The Creature', ...</td>\n      <td>[{'credit_id': '52fe4380c3a36847f80590dd', 'de...</td>\n      <td>3057</td>\n    </tr>\n    <tr>\n      <th>33838</th>\n      <td>[{'cast_id': 15, 'character': 'Chuck Barris', ...</td>\n      <td>[{'credit_id': '52fe43e2c3a36847f80760a9', 'de...</td>\n      <td>4912</td>\n    </tr>\n    <tr>\n      <th>5865</th>\n      <td>[{'cast_id': 15, 'character': 'Chuck Barris', ...</td>\n      <td>[{'credit_id': '52fe43e2c3a36847f80760b5', 'de...</td>\n      <td>4912</td>\n    </tr>\n    <tr>\n      <th>9165</th>\n      <td>[{'cast_id': 11, 'character': 'Jef Costello', ...</td>\n      <td>[{'credit_id': '52fe440ac3a36847f807ee01', 'de...</td>\n      <td>5511</td>\n    </tr>\n    <tr>\n      <th>...</th>\n      <td>...</td>\n      <td>...</td>\n      <td>...</td>\n    </tr>\n    <tr>\n      <th>25887</th>\n      <td>[{'cast_id': 7, 'character': 'Hollander', 'cre...</td>\n      <td>[{'credit_id': '52fe4da29251416c9111ce5d', 'de...</td>\n      <td>199591</td>\n    </tr>\n    <tr>\n      <th>24163</th>\n      <td>[{'cast_id': 2, 'character': 'Ebba', 'credit_i...</td>\n      <td>[{'credit_id': '534fd1a80e0a267eb6000e32', 'de...</td>\n      <td>265189</td>\n    </tr>\n    <tr>\n      <th>45275</th>\n      <td>[{'cast_id': 2, 'character': 'Ebba', 'credit_i...</td>\n      <td>[{'credit_id': '534fd1a80e0a267eb6000e32', 'de...</td>\n      <td>265189</td>\n    </tr>\n    <tr>\n      <th>33196</th>\n      <td>[{'cast_id': 1, 'character': 'Jenjira', 'credi...</td>\n      <td>[{'credit_id': '5448c8efc3a3680fb4001582', 'de...</td>\n      <td>298721</td>\n    </tr>\n    <tr>\n      <th>40051</th>\n      <td>[{'cast_id': 1, 'character': 'Jenjira', 'credi...</td>\n      <td>[{'credit_id': '5739ceeac3a3683c9d000c12', 'de...</td>\n      <td>298721</td>\n    </tr>\n  </tbody>\n</table>\n<p>87 rows × 3 columns</p>\n</div>"
     },
     "execution_count": 55,
     "metadata": {},
     "output_type": "execute_result"
    }
   ],
   "source": [
    "credits[credits.duplicated(subset=[\"id\"], keep=False)].sort_values(\"id\")"
   ],
   "metadata": {
    "collapsed": false,
    "ExecuteTime": {
     "end_time": "2023-07-11T00:43:26.268599700Z",
     "start_time": "2023-07-11T00:43:26.217356700Z"
    }
   }
  },
  {
   "cell_type": "code",
   "execution_count": 56,
   "outputs": [],
   "source": [
    "credits.drop_duplicates(subset=\"id\", inplace=True)"
   ],
   "metadata": {
    "collapsed": false,
    "ExecuteTime": {
     "end_time": "2023-07-11T00:43:26.268599700Z",
     "start_time": "2023-07-11T00:43:26.233374300Z"
    }
   }
  },
  {
   "cell_type": "markdown",
   "metadata": {},
   "source": [
    "## Merging the Data"
   ]
  },
  {
   "cell_type": "markdown",
   "metadata": {},
   "source": [
    "3. __Merge/Join__ the datasets movies_clean and credits. -> Add the features __cast__ and __crew__ to the movies_clean dataset."
   ]
  },
  {
   "cell_type": "code",
   "execution_count": 57,
   "metadata": {
    "ExecuteTime": {
     "end_time": "2023-07-11T00:43:26.269599700Z",
     "start_time": "2023-07-11T00:43:26.248398300Z"
    }
   },
   "outputs": [
    {
     "data": {
      "text/plain": "Empty DataFrame\nColumns: [id, title, tagline, release_date, genres, belongs_to_collection, original_language, budget_musd, revenue_musd, production_companies, production_countries, vote_count, vote_average, popularity, runtime, overview, spoken_languages, poster_path]\nIndex: []",
      "text/html": "<div>\n<style scoped>\n    .dataframe tbody tr th:only-of-type {\n        vertical-align: middle;\n    }\n\n    .dataframe tbody tr th {\n        vertical-align: top;\n    }\n\n    .dataframe thead th {\n        text-align: right;\n    }\n</style>\n<table border=\"1\" class=\"dataframe\">\n  <thead>\n    <tr style=\"text-align: right;\">\n      <th></th>\n      <th>id</th>\n      <th>title</th>\n      <th>tagline</th>\n      <th>release_date</th>\n      <th>genres</th>\n      <th>belongs_to_collection</th>\n      <th>original_language</th>\n      <th>budget_musd</th>\n      <th>revenue_musd</th>\n      <th>production_companies</th>\n      <th>production_countries</th>\n      <th>vote_count</th>\n      <th>vote_average</th>\n      <th>popularity</th>\n      <th>runtime</th>\n      <th>overview</th>\n      <th>spoken_languages</th>\n      <th>poster_path</th>\n    </tr>\n  </thead>\n  <tbody>\n  </tbody>\n</table>\n</div>"
     },
     "execution_count": 57,
     "metadata": {},
     "output_type": "execute_result"
    }
   ],
   "source": [
    "df[~df.id.isin(credits.id)]"
   ]
  },
  {
   "cell_type": "code",
   "execution_count": 58,
   "outputs": [
    {
     "data": {
      "text/plain": "                                                    cast  \\\n189    [{'cast_id': 4, 'character': 'Himself', 'credi...   \n554    [{'cast_id': 3, 'character': '', 'credit_id': ...   \n682    [{'cast_id': 2, 'character': 'Eunice', 'credit...   \n685    [{'cast_id': 0, 'character': 'James Bird', 'cr...   \n711                                                   []   \n...                                                  ...   \n45320  [{'cast_id': 0, 'character': 'Mała metalowa dz...   \n45323  [{'cast_id': 0, 'character': 'Krzysiek Buk', '...   \n45348                                                 []   \n45420  [{'cast_id': 1, 'character': 'Aprel', 'credit_...   \n45452                                                 []   \n\n                                                    crew      id  \n189                                                   []   56088  \n554    [{'credit_id': '52fe4e4dc3a368484e21952d', 'de...  218473  \n682    [{'credit_id': '52fe475cc3a36847f81317f7', 'de...   48260  \n685    [{'credit_id': '57a321c6c3a3683fa70013d8', 'de...  277270  \n711                                                   []  365371  \n...                                                  ...     ...  \n45320  [{'credit_id': '57ee6832c3a3682a2d003ccd', 'de...  418757  \n45323  [{'credit_id': '564fd6a59251414b01005a8a', 'de...  369444  \n45348                                                 []  335251  \n45420  [{'credit_id': '58d83051c3a368126f0567fe', 'de...  449131  \n45452  [{'credit_id': '52fe4684c3a36847f81034f3', 'de...   44330  \n\n[741 rows x 3 columns]",
      "text/html": "<div>\n<style scoped>\n    .dataframe tbody tr th:only-of-type {\n        vertical-align: middle;\n    }\n\n    .dataframe tbody tr th {\n        vertical-align: top;\n    }\n\n    .dataframe thead th {\n        text-align: right;\n    }\n</style>\n<table border=\"1\" class=\"dataframe\">\n  <thead>\n    <tr style=\"text-align: right;\">\n      <th></th>\n      <th>cast</th>\n      <th>crew</th>\n      <th>id</th>\n    </tr>\n  </thead>\n  <tbody>\n    <tr>\n      <th>189</th>\n      <td>[{'cast_id': 4, 'character': 'Himself', 'credi...</td>\n      <td>[]</td>\n      <td>56088</td>\n    </tr>\n    <tr>\n      <th>554</th>\n      <td>[{'cast_id': 3, 'character': '', 'credit_id': ...</td>\n      <td>[{'credit_id': '52fe4e4dc3a368484e21952d', 'de...</td>\n      <td>218473</td>\n    </tr>\n    <tr>\n      <th>682</th>\n      <td>[{'cast_id': 2, 'character': 'Eunice', 'credit...</td>\n      <td>[{'credit_id': '52fe475cc3a36847f81317f7', 'de...</td>\n      <td>48260</td>\n    </tr>\n    <tr>\n      <th>685</th>\n      <td>[{'cast_id': 0, 'character': 'James Bird', 'cr...</td>\n      <td>[{'credit_id': '57a321c6c3a3683fa70013d8', 'de...</td>\n      <td>277270</td>\n    </tr>\n    <tr>\n      <th>711</th>\n      <td>[]</td>\n      <td>[]</td>\n      <td>365371</td>\n    </tr>\n    <tr>\n      <th>...</th>\n      <td>...</td>\n      <td>...</td>\n      <td>...</td>\n    </tr>\n    <tr>\n      <th>45320</th>\n      <td>[{'cast_id': 0, 'character': 'Mała metalowa dz...</td>\n      <td>[{'credit_id': '57ee6832c3a3682a2d003ccd', 'de...</td>\n      <td>418757</td>\n    </tr>\n    <tr>\n      <th>45323</th>\n      <td>[{'cast_id': 0, 'character': 'Krzysiek Buk', '...</td>\n      <td>[{'credit_id': '564fd6a59251414b01005a8a', 'de...</td>\n      <td>369444</td>\n    </tr>\n    <tr>\n      <th>45348</th>\n      <td>[]</td>\n      <td>[]</td>\n      <td>335251</td>\n    </tr>\n    <tr>\n      <th>45420</th>\n      <td>[{'cast_id': 1, 'character': 'Aprel', 'credit_...</td>\n      <td>[{'credit_id': '58d83051c3a368126f0567fe', 'de...</td>\n      <td>449131</td>\n    </tr>\n    <tr>\n      <th>45452</th>\n      <td>[]</td>\n      <td>[{'credit_id': '52fe4684c3a36847f81034f3', 'de...</td>\n      <td>44330</td>\n    </tr>\n  </tbody>\n</table>\n<p>741 rows × 3 columns</p>\n</div>"
     },
     "execution_count": 58,
     "metadata": {},
     "output_type": "execute_result"
    }
   ],
   "source": [
    "credits[~credits.id.isin(df.id)]"
   ],
   "metadata": {
    "collapsed": false,
    "ExecuteTime": {
     "end_time": "2023-07-11T00:43:26.332789500Z",
     "start_time": "2023-07-11T00:43:26.265599Z"
    }
   }
  },
  {
   "cell_type": "code",
   "execution_count": 59,
   "outputs": [],
   "source": [
    "df = df.merge(credits, how=\"left\", left_on=\"id\", right_on=\"id\")"
   ],
   "metadata": {
    "collapsed": false,
    "ExecuteTime": {
     "end_time": "2023-07-11T00:43:26.525835300Z",
     "start_time": "2023-07-11T00:43:26.279648Z"
    }
   }
  },
  {
   "cell_type": "code",
   "execution_count": 60,
   "outputs": [
    {
     "data": {
      "text/plain": "           id                        title  \\\n0         862                    Toy Story   \n1        8844                      Jumanji   \n2       15602             Grumpier Old Men   \n3       31357            Waiting to Exhale   \n4       11862  Father of the Bride Part II   \n...       ...                          ...   \n44686  439050                       Subdue   \n44687  111109          Century of Birthing   \n44688   67758                     Betrayal   \n44689  227506             Satan Triumphant   \n44690  461257                     Queerama   \n\n                                                 tagline release_date  \\\n0                                                    NaN   1995-10-30   \n1              Roll the dice and unleash the excitement!   1995-12-15   \n2      Still Yelling. Still Fighting. Still Ready for...   1995-12-22   \n3      Friends are the people who let you be yourself...   1995-12-22   \n4      Just When His World Is Back To Normal... He's ...   1995-02-10   \n...                                                  ...          ...   \n44686         Rising and falling between a man and woman          NaT   \n44687                                                NaN   2011-11-17   \n44688                             A deadly game of wits.   2003-08-01   \n44689                                                NaN   1917-10-21   \n44690                                                NaN   2017-06-09   \n\n                         genres           belongs_to_collection  \\\n0       Animation|Comedy|Family            Toy Story Collection   \n1      Adventure|Fantasy|Family                             NaN   \n2                Romance|Comedy       Grumpy Old Men Collection   \n3          Comedy|Drama|Romance                             NaN   \n4                        Comedy  Father of the Bride Collection   \n...                         ...                             ...   \n44686              Drama|Family                             NaN   \n44687                     Drama                             NaN   \n44688     Action|Drama|Thriller                             NaN   \n44689                       NaN                             NaN   \n44690                       NaN                             NaN   \n\n      original_language  budget_musd  revenue_musd  \\\n0                    en         30.0    373.554033   \n1                    en         65.0    262.797249   \n2                    en          NaN           NaN   \n3                    en         16.0     81.452156   \n4                    en          NaN     76.578911   \n...                 ...          ...           ...   \n44686                fa          NaN           NaN   \n44687                tl          NaN           NaN   \n44688                en          NaN           NaN   \n44689                en          NaN           NaN   \n44690                en          NaN           NaN   \n\n                                    production_companies  \\\n0                                Pixar Animation Studios   \n1      TriStar Pictures|Teitler Film|Interscope Commu...   \n2                            Warner Bros.|Lancaster Gate   \n3                 Twentieth Century Fox Film Corporation   \n4              Sandollar Productions|Touchstone Pictures   \n...                                                  ...   \n44686                                                NaN   \n44687                                        Sine Olivia   \n44688                            American World Pictures   \n44689                                          Yermoliev   \n44690                                                NaN   \n\n           production_countries  vote_count  vote_average  popularity  \\\n0      United States of America      5415.0           7.7   21.946943   \n1      United States of America      2413.0           6.9   17.015539   \n2      United States of America        92.0           6.5   11.712900   \n3      United States of America        34.0           6.1    3.859495   \n4      United States of America       173.0           5.7    8.387519   \n...                         ...         ...           ...         ...   \n44686                      Iran         1.0           4.0    0.072051   \n44687               Philippines         3.0           9.0    0.178241   \n44688  United States of America         6.0           3.8    0.903007   \n44689                    Russia         0.0           NaN    0.003503   \n44690            United Kingdom         0.0           NaN    0.163015   \n\n       runtime                                           overview  \\\n0         81.0  Led by Woody, Andy's toys live happily in his ...   \n1        104.0  When siblings Judy and Peter discover an encha...   \n2        101.0  A family wedding reignites the ancient feud be...   \n3        127.0  Cheated on, mistreated and stepped on, the wom...   \n4        106.0  Just when George Banks has recovered from his ...   \n...        ...                                                ...   \n44686     90.0        Rising and falling between a man and woman.   \n44687    360.0  An artist struggles to finish his work while a...   \n44688     90.0  When one of her hits goes wrong, a professiona...   \n44689     87.0  In a small town live two brothers, one a minis...   \n44690     75.0  50 years after decriminalisation of homosexual...   \n\n       spoken_languages                                        poster_path  \\\n0               English  <img src='http://image.tmdb.org/t/p/w185//rhIR...   \n1      English|Français  <img src='http://image.tmdb.org/t/p/w185//vzmL...   \n2               English  <img src='http://image.tmdb.org/t/p/w185//6ksm...   \n3               English  <img src='http://image.tmdb.org/t/p/w185//16XO...   \n4               English  <img src='http://image.tmdb.org/t/p/w185//e64s...   \n...                 ...                                                ...   \n44686             فارسی  <img src='http://image.tmdb.org/t/p/w185//jlds...   \n44687               NaN  <img src='http://image.tmdb.org/t/p/w185//xZkm...   \n44688           English  <img src='http://image.tmdb.org/t/p/w185//d5bX...   \n44689               NaN  <img src='http://image.tmdb.org/t/p/w185//aorB...   \n44690           English  <img src='http://image.tmdb.org/t/p/w185//s5Uk...   \n\n                                                    cast  \\\n0      [{'cast_id': 14, 'character': 'Woody (voice)',...   \n1      [{'cast_id': 1, 'character': 'Alan Parrish', '...   \n2      [{'cast_id': 2, 'character': 'Max Goldman', 'c...   \n3      [{'cast_id': 1, 'character': \"Savannah 'Vannah...   \n4      [{'cast_id': 1, 'character': 'George Banks', '...   \n...                                                  ...   \n44686  [{'cast_id': 0, 'character': '', 'credit_id': ...   \n44687  [{'cast_id': 1002, 'character': 'Sister Angela...   \n44688  [{'cast_id': 6, 'character': 'Emily Shaw', 'cr...   \n44689  [{'cast_id': 2, 'character': '', 'credit_id': ...   \n44690                                                 []   \n\n                                                    crew  \n0      [{'credit_id': '52fe4284c3a36847f8024f49', 'de...  \n1      [{'credit_id': '52fe44bfc3a36847f80a7cd1', 'de...  \n2      [{'credit_id': '52fe466a9251416c75077a89', 'de...  \n3      [{'credit_id': '52fe44779251416c91011acb', 'de...  \n4      [{'credit_id': '52fe44959251416c75039ed7', 'de...  \n...                                                  ...  \n44686  [{'credit_id': '5894a97d925141426c00818c', 'de...  \n44687  [{'credit_id': '52fe4af1c3a36847f81e9b15', 'de...  \n44688  [{'credit_id': '52fe4776c3a368484e0c8387', 'de...  \n44689  [{'credit_id': '533bccebc3a36844cf0011a7', 'de...  \n44690  [{'credit_id': '593e676c92514105b702e68e', 'de...  \n\n[44691 rows x 20 columns]",
      "text/html": "<div>\n<style scoped>\n    .dataframe tbody tr th:only-of-type {\n        vertical-align: middle;\n    }\n\n    .dataframe tbody tr th {\n        vertical-align: top;\n    }\n\n    .dataframe thead th {\n        text-align: right;\n    }\n</style>\n<table border=\"1\" class=\"dataframe\">\n  <thead>\n    <tr style=\"text-align: right;\">\n      <th></th>\n      <th>id</th>\n      <th>title</th>\n      <th>tagline</th>\n      <th>release_date</th>\n      <th>genres</th>\n      <th>belongs_to_collection</th>\n      <th>original_language</th>\n      <th>budget_musd</th>\n      <th>revenue_musd</th>\n      <th>production_companies</th>\n      <th>production_countries</th>\n      <th>vote_count</th>\n      <th>vote_average</th>\n      <th>popularity</th>\n      <th>runtime</th>\n      <th>overview</th>\n      <th>spoken_languages</th>\n      <th>poster_path</th>\n      <th>cast</th>\n      <th>crew</th>\n    </tr>\n  </thead>\n  <tbody>\n    <tr>\n      <th>0</th>\n      <td>862</td>\n      <td>Toy Story</td>\n      <td>NaN</td>\n      <td>1995-10-30</td>\n      <td>Animation|Comedy|Family</td>\n      <td>Toy Story Collection</td>\n      <td>en</td>\n      <td>30.0</td>\n      <td>373.554033</td>\n      <td>Pixar Animation Studios</td>\n      <td>United States of America</td>\n      <td>5415.0</td>\n      <td>7.7</td>\n      <td>21.946943</td>\n      <td>81.0</td>\n      <td>Led by Woody, Andy's toys live happily in his ...</td>\n      <td>English</td>\n      <td>&lt;img src='http://image.tmdb.org/t/p/w185//rhIR...</td>\n      <td>[{'cast_id': 14, 'character': 'Woody (voice)',...</td>\n      <td>[{'credit_id': '52fe4284c3a36847f8024f49', 'de...</td>\n    </tr>\n    <tr>\n      <th>1</th>\n      <td>8844</td>\n      <td>Jumanji</td>\n      <td>Roll the dice and unleash the excitement!</td>\n      <td>1995-12-15</td>\n      <td>Adventure|Fantasy|Family</td>\n      <td>NaN</td>\n      <td>en</td>\n      <td>65.0</td>\n      <td>262.797249</td>\n      <td>TriStar Pictures|Teitler Film|Interscope Commu...</td>\n      <td>United States of America</td>\n      <td>2413.0</td>\n      <td>6.9</td>\n      <td>17.015539</td>\n      <td>104.0</td>\n      <td>When siblings Judy and Peter discover an encha...</td>\n      <td>English|Français</td>\n      <td>&lt;img src='http://image.tmdb.org/t/p/w185//vzmL...</td>\n      <td>[{'cast_id': 1, 'character': 'Alan Parrish', '...</td>\n      <td>[{'credit_id': '52fe44bfc3a36847f80a7cd1', 'de...</td>\n    </tr>\n    <tr>\n      <th>2</th>\n      <td>15602</td>\n      <td>Grumpier Old Men</td>\n      <td>Still Yelling. Still Fighting. Still Ready for...</td>\n      <td>1995-12-22</td>\n      <td>Romance|Comedy</td>\n      <td>Grumpy Old Men Collection</td>\n      <td>en</td>\n      <td>NaN</td>\n      <td>NaN</td>\n      <td>Warner Bros.|Lancaster Gate</td>\n      <td>United States of America</td>\n      <td>92.0</td>\n      <td>6.5</td>\n      <td>11.712900</td>\n      <td>101.0</td>\n      <td>A family wedding reignites the ancient feud be...</td>\n      <td>English</td>\n      <td>&lt;img src='http://image.tmdb.org/t/p/w185//6ksm...</td>\n      <td>[{'cast_id': 2, 'character': 'Max Goldman', 'c...</td>\n      <td>[{'credit_id': '52fe466a9251416c75077a89', 'de...</td>\n    </tr>\n    <tr>\n      <th>3</th>\n      <td>31357</td>\n      <td>Waiting to Exhale</td>\n      <td>Friends are the people who let you be yourself...</td>\n      <td>1995-12-22</td>\n      <td>Comedy|Drama|Romance</td>\n      <td>NaN</td>\n      <td>en</td>\n      <td>16.0</td>\n      <td>81.452156</td>\n      <td>Twentieth Century Fox Film Corporation</td>\n      <td>United States of America</td>\n      <td>34.0</td>\n      <td>6.1</td>\n      <td>3.859495</td>\n      <td>127.0</td>\n      <td>Cheated on, mistreated and stepped on, the wom...</td>\n      <td>English</td>\n      <td>&lt;img src='http://image.tmdb.org/t/p/w185//16XO...</td>\n      <td>[{'cast_id': 1, 'character': \"Savannah 'Vannah...</td>\n      <td>[{'credit_id': '52fe44779251416c91011acb', 'de...</td>\n    </tr>\n    <tr>\n      <th>4</th>\n      <td>11862</td>\n      <td>Father of the Bride Part II</td>\n      <td>Just When His World Is Back To Normal... He's ...</td>\n      <td>1995-02-10</td>\n      <td>Comedy</td>\n      <td>Father of the Bride Collection</td>\n      <td>en</td>\n      <td>NaN</td>\n      <td>76.578911</td>\n      <td>Sandollar Productions|Touchstone Pictures</td>\n      <td>United States of America</td>\n      <td>173.0</td>\n      <td>5.7</td>\n      <td>8.387519</td>\n      <td>106.0</td>\n      <td>Just when George Banks has recovered from his ...</td>\n      <td>English</td>\n      <td>&lt;img src='http://image.tmdb.org/t/p/w185//e64s...</td>\n      <td>[{'cast_id': 1, 'character': 'George Banks', '...</td>\n      <td>[{'credit_id': '52fe44959251416c75039ed7', 'de...</td>\n    </tr>\n    <tr>\n      <th>...</th>\n      <td>...</td>\n      <td>...</td>\n      <td>...</td>\n      <td>...</td>\n      <td>...</td>\n      <td>...</td>\n      <td>...</td>\n      <td>...</td>\n      <td>...</td>\n      <td>...</td>\n      <td>...</td>\n      <td>...</td>\n      <td>...</td>\n      <td>...</td>\n      <td>...</td>\n      <td>...</td>\n      <td>...</td>\n      <td>...</td>\n      <td>...</td>\n      <td>...</td>\n    </tr>\n    <tr>\n      <th>44686</th>\n      <td>439050</td>\n      <td>Subdue</td>\n      <td>Rising and falling between a man and woman</td>\n      <td>NaT</td>\n      <td>Drama|Family</td>\n      <td>NaN</td>\n      <td>fa</td>\n      <td>NaN</td>\n      <td>NaN</td>\n      <td>NaN</td>\n      <td>Iran</td>\n      <td>1.0</td>\n      <td>4.0</td>\n      <td>0.072051</td>\n      <td>90.0</td>\n      <td>Rising and falling between a man and woman.</td>\n      <td>فارسی</td>\n      <td>&lt;img src='http://image.tmdb.org/t/p/w185//jlds...</td>\n      <td>[{'cast_id': 0, 'character': '', 'credit_id': ...</td>\n      <td>[{'credit_id': '5894a97d925141426c00818c', 'de...</td>\n    </tr>\n    <tr>\n      <th>44687</th>\n      <td>111109</td>\n      <td>Century of Birthing</td>\n      <td>NaN</td>\n      <td>2011-11-17</td>\n      <td>Drama</td>\n      <td>NaN</td>\n      <td>tl</td>\n      <td>NaN</td>\n      <td>NaN</td>\n      <td>Sine Olivia</td>\n      <td>Philippines</td>\n      <td>3.0</td>\n      <td>9.0</td>\n      <td>0.178241</td>\n      <td>360.0</td>\n      <td>An artist struggles to finish his work while a...</td>\n      <td>NaN</td>\n      <td>&lt;img src='http://image.tmdb.org/t/p/w185//xZkm...</td>\n      <td>[{'cast_id': 1002, 'character': 'Sister Angela...</td>\n      <td>[{'credit_id': '52fe4af1c3a36847f81e9b15', 'de...</td>\n    </tr>\n    <tr>\n      <th>44688</th>\n      <td>67758</td>\n      <td>Betrayal</td>\n      <td>A deadly game of wits.</td>\n      <td>2003-08-01</td>\n      <td>Action|Drama|Thriller</td>\n      <td>NaN</td>\n      <td>en</td>\n      <td>NaN</td>\n      <td>NaN</td>\n      <td>American World Pictures</td>\n      <td>United States of America</td>\n      <td>6.0</td>\n      <td>3.8</td>\n      <td>0.903007</td>\n      <td>90.0</td>\n      <td>When one of her hits goes wrong, a professiona...</td>\n      <td>English</td>\n      <td>&lt;img src='http://image.tmdb.org/t/p/w185//d5bX...</td>\n      <td>[{'cast_id': 6, 'character': 'Emily Shaw', 'cr...</td>\n      <td>[{'credit_id': '52fe4776c3a368484e0c8387', 'de...</td>\n    </tr>\n    <tr>\n      <th>44689</th>\n      <td>227506</td>\n      <td>Satan Triumphant</td>\n      <td>NaN</td>\n      <td>1917-10-21</td>\n      <td>NaN</td>\n      <td>NaN</td>\n      <td>en</td>\n      <td>NaN</td>\n      <td>NaN</td>\n      <td>Yermoliev</td>\n      <td>Russia</td>\n      <td>0.0</td>\n      <td>NaN</td>\n      <td>0.003503</td>\n      <td>87.0</td>\n      <td>In a small town live two brothers, one a minis...</td>\n      <td>NaN</td>\n      <td>&lt;img src='http://image.tmdb.org/t/p/w185//aorB...</td>\n      <td>[{'cast_id': 2, 'character': '', 'credit_id': ...</td>\n      <td>[{'credit_id': '533bccebc3a36844cf0011a7', 'de...</td>\n    </tr>\n    <tr>\n      <th>44690</th>\n      <td>461257</td>\n      <td>Queerama</td>\n      <td>NaN</td>\n      <td>2017-06-09</td>\n      <td>NaN</td>\n      <td>NaN</td>\n      <td>en</td>\n      <td>NaN</td>\n      <td>NaN</td>\n      <td>NaN</td>\n      <td>United Kingdom</td>\n      <td>0.0</td>\n      <td>NaN</td>\n      <td>0.163015</td>\n      <td>75.0</td>\n      <td>50 years after decriminalisation of homosexual...</td>\n      <td>English</td>\n      <td>&lt;img src='http://image.tmdb.org/t/p/w185//s5Uk...</td>\n      <td>[]</td>\n      <td>[{'credit_id': '593e676c92514105b702e68e', 'de...</td>\n    </tr>\n  </tbody>\n</table>\n<p>44691 rows × 20 columns</p>\n</div>"
     },
     "execution_count": 60,
     "metadata": {},
     "output_type": "execute_result"
    }
   ],
   "source": [
    "df"
   ],
   "metadata": {
    "collapsed": false,
    "ExecuteTime": {
     "end_time": "2023-07-11T00:43:26.757355200Z",
     "start_time": "2023-07-11T00:43:26.325790900Z"
    }
   }
  },
  {
   "cell_type": "code",
   "execution_count": 61,
   "outputs": [
    {
     "name": "stdout",
     "output_type": "stream",
     "text": [
      "<class 'pandas.core.frame.DataFrame'>\n",
      "Int64Index: 44691 entries, 0 to 44690\n",
      "Data columns (total 20 columns):\n",
      " #   Column                 Non-Null Count  Dtype         \n",
      "---  ------                 --------------  -----         \n",
      " 0   id                     44691 non-null  int64         \n",
      " 1   title                  44691 non-null  object        \n",
      " 2   tagline                20284 non-null  object        \n",
      " 3   release_date           44657 non-null  datetime64[ns]\n",
      " 4   genres                 42586 non-null  object        \n",
      " 5   belongs_to_collection  4463 non-null   object        \n",
      " 6   original_language      44681 non-null  object        \n",
      " 7   budget_musd            8854 non-null   float64       \n",
      " 8   revenue_musd           7385 non-null   float64       \n",
      " 9   production_companies   33356 non-null  object        \n",
      " 10  production_countries   38835 non-null  object        \n",
      " 11  vote_count             44691 non-null  float64       \n",
      " 12  vote_average           42077 non-null  float64       \n",
      " 13  popularity             44691 non-null  float64       \n",
      " 14  runtime                43179 non-null  float64       \n",
      " 15  overview               43740 non-null  object        \n",
      " 16  spoken_languages       41094 non-null  object        \n",
      " 17  poster_path            44467 non-null  object        \n",
      " 18  cast                   44691 non-null  object        \n",
      " 19  crew                   44691 non-null  object        \n",
      "dtypes: datetime64[ns](1), float64(6), int64(1), object(12)\n",
      "memory usage: 7.2+ MB\n"
     ]
    }
   ],
   "source": [
    "df.info()"
   ],
   "metadata": {
    "collapsed": false,
    "ExecuteTime": {
     "end_time": "2023-07-11T00:43:26.762863800Z",
     "start_time": "2023-07-11T00:43:26.355636800Z"
    }
   }
  },
  {
   "cell_type": "markdown",
   "metadata": {},
   "source": [
    "## Cleaning and Transforming the new \"Cast\" Column"
   ]
  },
  {
   "cell_type": "markdown",
   "metadata": {},
   "source": [
    "4.  __Evaluate__ Python Expressions in the stringified column \"cast\" and __remove quotes__ (\"\") where possible."
   ]
  },
  {
   "cell_type": "markdown",
   "metadata": {},
   "source": [
    "5. __Determine__ the __cast size__ for all movies (number of actors) and add the additional column \"cast_size\"."
   ]
  },
  {
   "cell_type": "markdown",
   "metadata": {},
   "source": [
    "6. __Extract__ all __actor names__ from the column \"cast\" and __overwrite__ \"cast\". If a movie has more than one actor, __seperate names by a pipe__ \"|\".<br>\n",
    "For example: The value in the first row (Toy Story) should be 'Tom Hanks|Tim Allen|Don Rickles|Jim Varney|Wallace Shawn|John Ratzenberger|Annie Potts|John Morris|Erik von Detten|Laurie Metcalf|R. Lee Ermey|Sarah Freeman|Penn Jillette'."
   ]
  },
  {
   "cell_type": "markdown",
   "metadata": {},
   "source": [
    "7. __Inspect__ cast with value_counts(). Do you see anything strange? __Take reasonable measures__!"
   ]
  },
  {
   "cell_type": "code",
   "execution_count": 62,
   "metadata": {
    "ExecuteTime": {
     "end_time": "2023-07-11T00:43:26.762863800Z",
     "start_time": "2023-07-11T00:43:26.435192800Z"
    }
   },
   "outputs": [],
   "source": [
    "import ast\n",
    "import numpy as np"
   ]
  },
  {
   "cell_type": "code",
   "execution_count": 63,
   "outputs": [
    {
     "data": {
      "text/plain": "\"[{'cast_id': 14, 'character': 'Woody (voice)', 'credit_id': '52fe4284c3a36847f8024f95', 'gender': 2, 'id': 31, 'name': 'Tom Hanks', 'order': 0, 'profile_path': '/pQFoyx7rp09CJTAb932F2g8Nlho.jpg'}, {'cast_id': 15, 'character': 'Buzz Lightyear (voice)', 'credit_id': '52fe4284c3a36847f8024f99', 'gender': 2, 'id': 12898, 'name': 'Tim Allen', 'order': 1, 'profile_path': '/uX2xVf6pMmPepxnvFWyBtjexzgY.jpg'}, {'cast_id': 16, 'character': 'Mr. Potato Head (voice)', 'credit_id': '52fe4284c3a36847f8024f9d', 'gender': 2, 'id': 7167, 'name': 'Don Rickles', 'order': 2, 'profile_path': '/h5BcaDMPRVLHLDzbQavec4xfSdt.jpg'}, {'cast_id': 17, 'character': 'Slinky Dog (voice)', 'credit_id': '52fe4284c3a36847f8024fa1', 'gender': 2, 'id': 12899, 'name': 'Jim Varney', 'order': 3, 'profile_path': '/eIo2jVVXYgjDtaHoF19Ll9vtW7h.jpg'}, {'cast_id': 18, 'character': 'Rex (voice)', 'credit_id': '52fe4284c3a36847f8024fa5', 'gender': 2, 'id': 12900, 'name': 'Wallace Shawn', 'order': 4, 'profile_path': '/oGE6JqPP2xH4tNORKNqxbNPYi7u.jpg'}, {'cast_id': 19, 'character': 'Hamm (voice)', 'credit_id': '52fe4284c3a36847f8024fa9', 'gender': 2, 'id': 7907, 'name': 'John Ratzenberger', 'order': 5, 'profile_path': '/yGechiKWL6TJDfVE2KPSJYqdMsY.jpg'}, {'cast_id': 20, 'character': 'Bo Peep (voice)', 'credit_id': '52fe4284c3a36847f8024fad', 'gender': 1, 'id': 8873, 'name': 'Annie Potts', 'order': 6, 'profile_path': '/eryXT84RL41jHSJcMy4kS3u9y6w.jpg'}, {'cast_id': 26, 'character': 'Andy (voice)', 'credit_id': '52fe4284c3a36847f8024fc1', 'gender': 0, 'id': 1116442, 'name': 'John Morris', 'order': 7, 'profile_path': '/vYGyvK4LzeaUCoNSHtsuqJUY15M.jpg'}, {'cast_id': 22, 'character': 'Sid (voice)', 'credit_id': '52fe4284c3a36847f8024fb1', 'gender': 2, 'id': 12901, 'name': 'Erik von Detten', 'order': 8, 'profile_path': '/twnF1ZaJ1FUNUuo6xLXwcxjayBE.jpg'}, {'cast_id': 23, 'character': 'Mrs. Davis (voice)', 'credit_id': '52fe4284c3a36847f8024fb5', 'gender': 1, 'id': 12133, 'name': 'Laurie Metcalf', 'order': 9, 'profile_path': '/unMMIT60eoBM2sN2nyR7EZ2BvvD.jpg'}, {'cast_id': 24, 'character': 'Sergeant (voice)', 'credit_id': '52fe4284c3a36847f8024fb9', 'gender': 2, 'id': 8655, 'name': 'R. Lee Ermey', 'order': 10, 'profile_path': '/r8GBqFBjypLUP9VVqDqfZ7wYbSs.jpg'}, {'cast_id': 25, 'character': 'Hannah (voice)', 'credit_id': '52fe4284c3a36847f8024fbd', 'gender': 1, 'id': 12903, 'name': 'Sarah Freeman', 'order': 11, 'profile_path': None}, {'cast_id': 27, 'character': 'TV Announcer (voice)', 'credit_id': '52fe4284c3a36847f8024fc5', 'gender': 2, 'id': 37221, 'name': 'Penn Jillette', 'order': 12, 'profile_path': '/zmAaXUdx12NRsssgHbk1T31j2x9.jpg'}]\""
     },
     "execution_count": 63,
     "metadata": {},
     "output_type": "execute_result"
    }
   ],
   "source": [
    "df.cast[0]"
   ],
   "metadata": {
    "collapsed": false,
    "ExecuteTime": {
     "end_time": "2023-07-11T00:43:26.762863800Z",
     "start_time": "2023-07-11T00:43:26.450720100Z"
    }
   }
  },
  {
   "cell_type": "code",
   "execution_count": 64,
   "outputs": [],
   "source": [
    "df.cast = df.cast.apply(lambda x: ast.literal_eval(x) if isinstance(x, str) else np.nan)"
   ],
   "metadata": {
    "collapsed": false,
    "ExecuteTime": {
     "end_time": "2023-07-11T00:43:41.171102400Z",
     "start_time": "2023-07-11T00:43:26.467228700Z"
    }
   }
  },
  {
   "cell_type": "code",
   "execution_count": 65,
   "outputs": [
    {
     "data": {
      "text/plain": "    cast_id                character                 credit_id  gender  \\\n0        14            Woody (voice)  52fe4284c3a36847f8024f95       2   \n1        15   Buzz Lightyear (voice)  52fe4284c3a36847f8024f99       2   \n2        16  Mr. Potato Head (voice)  52fe4284c3a36847f8024f9d       2   \n3        17       Slinky Dog (voice)  52fe4284c3a36847f8024fa1       2   \n4        18              Rex (voice)  52fe4284c3a36847f8024fa5       2   \n5        19             Hamm (voice)  52fe4284c3a36847f8024fa9       2   \n6        20          Bo Peep (voice)  52fe4284c3a36847f8024fad       1   \n7        26             Andy (voice)  52fe4284c3a36847f8024fc1       0   \n8        22              Sid (voice)  52fe4284c3a36847f8024fb1       2   \n9        23       Mrs. Davis (voice)  52fe4284c3a36847f8024fb5       1   \n10       24         Sergeant (voice)  52fe4284c3a36847f8024fb9       2   \n11       25           Hannah (voice)  52fe4284c3a36847f8024fbd       1   \n12       27     TV Announcer (voice)  52fe4284c3a36847f8024fc5       2   \n\n         id               name  order                      profile_path  \n0        31          Tom Hanks      0  /pQFoyx7rp09CJTAb932F2g8Nlho.jpg  \n1     12898          Tim Allen      1  /uX2xVf6pMmPepxnvFWyBtjexzgY.jpg  \n2      7167        Don Rickles      2  /h5BcaDMPRVLHLDzbQavec4xfSdt.jpg  \n3     12899         Jim Varney      3  /eIo2jVVXYgjDtaHoF19Ll9vtW7h.jpg  \n4     12900      Wallace Shawn      4  /oGE6JqPP2xH4tNORKNqxbNPYi7u.jpg  \n5      7907  John Ratzenberger      5  /yGechiKWL6TJDfVE2KPSJYqdMsY.jpg  \n6      8873        Annie Potts      6  /eryXT84RL41jHSJcMy4kS3u9y6w.jpg  \n7   1116442        John Morris      7  /vYGyvK4LzeaUCoNSHtsuqJUY15M.jpg  \n8     12901    Erik von Detten      8  /twnF1ZaJ1FUNUuo6xLXwcxjayBE.jpg  \n9     12133     Laurie Metcalf      9  /unMMIT60eoBM2sN2nyR7EZ2BvvD.jpg  \n10     8655       R. Lee Ermey     10  /r8GBqFBjypLUP9VVqDqfZ7wYbSs.jpg  \n11    12903      Sarah Freeman     11                              None  \n12    37221      Penn Jillette     12  /zmAaXUdx12NRsssgHbk1T31j2x9.jpg  ",
      "text/html": "<div>\n<style scoped>\n    .dataframe tbody tr th:only-of-type {\n        vertical-align: middle;\n    }\n\n    .dataframe tbody tr th {\n        vertical-align: top;\n    }\n\n    .dataframe thead th {\n        text-align: right;\n    }\n</style>\n<table border=\"1\" class=\"dataframe\">\n  <thead>\n    <tr style=\"text-align: right;\">\n      <th></th>\n      <th>cast_id</th>\n      <th>character</th>\n      <th>credit_id</th>\n      <th>gender</th>\n      <th>id</th>\n      <th>name</th>\n      <th>order</th>\n      <th>profile_path</th>\n    </tr>\n  </thead>\n  <tbody>\n    <tr>\n      <th>0</th>\n      <td>14</td>\n      <td>Woody (voice)</td>\n      <td>52fe4284c3a36847f8024f95</td>\n      <td>2</td>\n      <td>31</td>\n      <td>Tom Hanks</td>\n      <td>0</td>\n      <td>/pQFoyx7rp09CJTAb932F2g8Nlho.jpg</td>\n    </tr>\n    <tr>\n      <th>1</th>\n      <td>15</td>\n      <td>Buzz Lightyear (voice)</td>\n      <td>52fe4284c3a36847f8024f99</td>\n      <td>2</td>\n      <td>12898</td>\n      <td>Tim Allen</td>\n      <td>1</td>\n      <td>/uX2xVf6pMmPepxnvFWyBtjexzgY.jpg</td>\n    </tr>\n    <tr>\n      <th>2</th>\n      <td>16</td>\n      <td>Mr. Potato Head (voice)</td>\n      <td>52fe4284c3a36847f8024f9d</td>\n      <td>2</td>\n      <td>7167</td>\n      <td>Don Rickles</td>\n      <td>2</td>\n      <td>/h5BcaDMPRVLHLDzbQavec4xfSdt.jpg</td>\n    </tr>\n    <tr>\n      <th>3</th>\n      <td>17</td>\n      <td>Slinky Dog (voice)</td>\n      <td>52fe4284c3a36847f8024fa1</td>\n      <td>2</td>\n      <td>12899</td>\n      <td>Jim Varney</td>\n      <td>3</td>\n      <td>/eIo2jVVXYgjDtaHoF19Ll9vtW7h.jpg</td>\n    </tr>\n    <tr>\n      <th>4</th>\n      <td>18</td>\n      <td>Rex (voice)</td>\n      <td>52fe4284c3a36847f8024fa5</td>\n      <td>2</td>\n      <td>12900</td>\n      <td>Wallace Shawn</td>\n      <td>4</td>\n      <td>/oGE6JqPP2xH4tNORKNqxbNPYi7u.jpg</td>\n    </tr>\n    <tr>\n      <th>5</th>\n      <td>19</td>\n      <td>Hamm (voice)</td>\n      <td>52fe4284c3a36847f8024fa9</td>\n      <td>2</td>\n      <td>7907</td>\n      <td>John Ratzenberger</td>\n      <td>5</td>\n      <td>/yGechiKWL6TJDfVE2KPSJYqdMsY.jpg</td>\n    </tr>\n    <tr>\n      <th>6</th>\n      <td>20</td>\n      <td>Bo Peep (voice)</td>\n      <td>52fe4284c3a36847f8024fad</td>\n      <td>1</td>\n      <td>8873</td>\n      <td>Annie Potts</td>\n      <td>6</td>\n      <td>/eryXT84RL41jHSJcMy4kS3u9y6w.jpg</td>\n    </tr>\n    <tr>\n      <th>7</th>\n      <td>26</td>\n      <td>Andy (voice)</td>\n      <td>52fe4284c3a36847f8024fc1</td>\n      <td>0</td>\n      <td>1116442</td>\n      <td>John Morris</td>\n      <td>7</td>\n      <td>/vYGyvK4LzeaUCoNSHtsuqJUY15M.jpg</td>\n    </tr>\n    <tr>\n      <th>8</th>\n      <td>22</td>\n      <td>Sid (voice)</td>\n      <td>52fe4284c3a36847f8024fb1</td>\n      <td>2</td>\n      <td>12901</td>\n      <td>Erik von Detten</td>\n      <td>8</td>\n      <td>/twnF1ZaJ1FUNUuo6xLXwcxjayBE.jpg</td>\n    </tr>\n    <tr>\n      <th>9</th>\n      <td>23</td>\n      <td>Mrs. Davis (voice)</td>\n      <td>52fe4284c3a36847f8024fb5</td>\n      <td>1</td>\n      <td>12133</td>\n      <td>Laurie Metcalf</td>\n      <td>9</td>\n      <td>/unMMIT60eoBM2sN2nyR7EZ2BvvD.jpg</td>\n    </tr>\n    <tr>\n      <th>10</th>\n      <td>24</td>\n      <td>Sergeant (voice)</td>\n      <td>52fe4284c3a36847f8024fb9</td>\n      <td>2</td>\n      <td>8655</td>\n      <td>R. Lee Ermey</td>\n      <td>10</td>\n      <td>/r8GBqFBjypLUP9VVqDqfZ7wYbSs.jpg</td>\n    </tr>\n    <tr>\n      <th>11</th>\n      <td>25</td>\n      <td>Hannah (voice)</td>\n      <td>52fe4284c3a36847f8024fbd</td>\n      <td>1</td>\n      <td>12903</td>\n      <td>Sarah Freeman</td>\n      <td>11</td>\n      <td>None</td>\n    </tr>\n    <tr>\n      <th>12</th>\n      <td>27</td>\n      <td>TV Announcer (voice)</td>\n      <td>52fe4284c3a36847f8024fc5</td>\n      <td>2</td>\n      <td>37221</td>\n      <td>Penn Jillette</td>\n      <td>12</td>\n      <td>/zmAaXUdx12NRsssgHbk1T31j2x9.jpg</td>\n    </tr>\n  </tbody>\n</table>\n</div>"
     },
     "execution_count": 65,
     "metadata": {},
     "output_type": "execute_result"
    }
   ],
   "source": [
    "pd.DataFrame(df.cast[0])"
   ],
   "metadata": {
    "collapsed": false,
    "ExecuteTime": {
     "end_time": "2023-07-11T00:43:41.185134100Z",
     "start_time": "2023-07-11T00:43:41.170102200Z"
    }
   }
  },
  {
   "cell_type": "code",
   "execution_count": 66,
   "outputs": [],
   "source": [
    "df[\"cast_size\"] = df.cast.apply(lambda x: len(x))"
   ],
   "metadata": {
    "collapsed": false,
    "ExecuteTime": {
     "end_time": "2023-07-11T00:43:41.400143Z",
     "start_time": "2023-07-11T00:43:41.188201100Z"
    }
   }
  },
  {
   "cell_type": "code",
   "execution_count": 67,
   "outputs": [
    {
     "data": {
      "text/plain": "0        13\n1        26\n2         7\n3        10\n4        12\n         ..\n44686     3\n44687    11\n44688    15\n44689     5\n44690     0\nName: cast_size, Length: 44691, dtype: int64"
     },
     "execution_count": 67,
     "metadata": {},
     "output_type": "execute_result"
    }
   ],
   "source": [
    "df.cast_size"
   ],
   "metadata": {
    "collapsed": false,
    "ExecuteTime": {
     "end_time": "2023-07-11T00:43:41.432682400Z",
     "start_time": "2023-07-11T00:43:41.217000600Z"
    }
   }
  },
  {
   "cell_type": "code",
   "execution_count": 68,
   "outputs": [
    {
     "data": {
      "text/plain": "10    2770\n8     2729\n7     2710\n6     2649\n5     2637\n9     2557\n15    2444\n4     2406\n11    2283\n0     2189\n12    2043\n13    1799\n14    1578\n16    1350\n1     1302\n17    1103\n3     1087\n2      882\n18     811\n19     785\n20     735\n21     591\n22     477\n23     410\n24     354\n25     305\n26     272\n27     246\n28     236\n31     214\n29     194\n30     182\n32     153\n34     137\n33     130\n35     118\n36     106\n38      98\n37      90\n41      87\n40      76\n42      70\n39      70\n47      66\n43      61\n46      59\n51      57\n45      54\n44      54\n49      49\nName: cast_size, dtype: int64"
     },
     "execution_count": 68,
     "metadata": {},
     "output_type": "execute_result"
    }
   ],
   "source": [
    "df.cast_size.value_counts(dropna=False).head(50)"
   ],
   "metadata": {
    "collapsed": false,
    "ExecuteTime": {
     "end_time": "2023-07-11T00:43:41.432682400Z",
     "start_time": "2023-07-11T00:43:41.251643300Z"
    }
   }
  },
  {
   "cell_type": "code",
   "execution_count": 69,
   "outputs": [],
   "source": [
    "df.cast = df.cast.apply(lambda x: \"|\".join(i[\"name\"] for i in x) if isinstance(x, list) else np.nan)"
   ],
   "metadata": {
    "collapsed": false,
    "ExecuteTime": {
     "end_time": "2023-07-11T00:43:41.609851300Z",
     "start_time": "2023-07-11T00:43:41.251643300Z"
    }
   }
  },
  {
   "cell_type": "code",
   "execution_count": 70,
   "outputs": [
    {
     "data": {
      "text/plain": "0        Tom Hanks|Tim Allen|Don Rickles|Jim Varney|Wal...\n1        Robin Williams|Jonathan Hyde|Kirsten Dunst|Bra...\n2        Walter Matthau|Jack Lemmon|Ann-Margret|Sophia ...\n3        Whitney Houston|Angela Bassett|Loretta Devine|...\n4        Steve Martin|Diane Keaton|Martin Short|Kimberl...\n                               ...                        \n44686              Leila Hatami|Kourosh Tahami|Elham Korda\n44687    Angel Aquino|Perry Dizon|Hazel Orencio|Joel To...\n44688    Erika Eleniak|Adam Baldwin|Julie du Page|James...\n44689    Iwan Mosschuchin|Nathalie Lissenko|Pavel Pavlo...\n44690                                                     \nName: cast, Length: 44691, dtype: object"
     },
     "execution_count": 70,
     "metadata": {},
     "output_type": "execute_result"
    }
   ],
   "source": [
    "df.cast"
   ],
   "metadata": {
    "collapsed": false,
    "ExecuteTime": {
     "end_time": "2023-07-11T00:43:41.610850900Z",
     "start_time": "2023-07-11T00:43:41.564308400Z"
    }
   }
  },
  {
   "cell_type": "code",
   "execution_count": 71,
   "outputs": [
    {
     "data": {
      "text/plain": "                                                                                                               2189\nGeorges Méliès                                                                                                   24\nLouis Theroux                                                                                                    15\nMel Blanc                                                                                                        12\nJimmy Carr                                                                                                        9\nGeorge Carlin                                                                                                     8\nLouis C.K.                                                                                                        8\nDavid Attenborough                                                                                                8\nWerner Herzog                                                                                                     8\nPatton Oswalt                                                                                                     6\nJim Jefferies                                                                                                     6\nRicky Gervais                                                                                                     6\nTrevor Noah                                                                                                       6\nDoug Stanhope                                                                                                     6\nLewis Black                                                                                                       5\nBill Burr                                                                                                         5\nDylan Moran                                                                                                       5\nBill Maher                                                                                                        5\nKenneth Branagh                                                                                                   5\nEddie Izzard                                                                                                      5\nJim Gaffigan                                                                                                      5\nRussell Brand                                                                                                     4\nBill Hicks                                                                                                        4\nHannibal Buress                                                                                                   4\nJohn Pilger                                                                                                       4\nRobin Williams                                                                                                    4\nLisa Lampanelli                                                                                                   4\nDon Hertzfeldt                                                                                                    4\nWalt Disney                                                                                                       4\nJeff Dunham                                                                                                       4\nDave Attell                                                                                                       4\nMargaret Cho                                                                                                      4\nKatt Williams                                                                                                     4\nCraig Ferguson                                                                                                    4\nSlavoj Žižek                                                                                                      4\nIliza Shlesinger                                                                                                  3\nSebastian Maniscalco                                                                                              3\nMichael Carr                                                                                                      3\nMariya Vinogradova|Oleg Tabakov|Lev Durov|Valentina Talyzina|Boris Novikov|German Kachin|Zinaida Naryshkina       3\nAziz Ansari                                                                                                       3\nSpalding Gray                                                                                                     3\nDavid Lynch                                                                                                       3\nAmy Schumer                                                                                                       3\nNoam Chomsky                                                                                                      3\nJoe Rogan                                                                                                         3\nBuster Keaton|Virginia Fox|Joe Roberts                                                                            3\nKyle Kinane                                                                                                       3\nChris Rock                                                                                                        3\nDana Carvey                                                                                                       3\nDave Chappelle                                                                                                    3\nName: cast, dtype: int64"
     },
     "execution_count": 71,
     "metadata": {},
     "output_type": "execute_result"
    }
   ],
   "source": [
    "df.cast.value_counts(dropna=False).head(50)"
   ],
   "metadata": {
    "collapsed": false,
    "ExecuteTime": {
     "end_time": "2023-07-11T00:43:41.610850900Z",
     "start_time": "2023-07-11T00:43:41.579322700Z"
    }
   }
  },
  {
   "cell_type": "code",
   "execution_count": 72,
   "outputs": [],
   "source": [
    "df.cast.replace(\"\", np.nan, inplace=True)"
   ],
   "metadata": {
    "collapsed": false,
    "ExecuteTime": {
     "end_time": "2023-07-11T00:43:41.640507800Z",
     "start_time": "2023-07-11T00:43:41.611851900Z"
    }
   }
  },
  {
   "cell_type": "code",
   "execution_count": 73,
   "outputs": [
    {
     "data": {
      "text/plain": "NaN                                                                                                            2189\nGeorges Méliès                                                                                                   24\nLouis Theroux                                                                                                    15\nMel Blanc                                                                                                        12\nJimmy Carr                                                                                                        9\nGeorge Carlin                                                                                                     8\nLouis C.K.                                                                                                        8\nDavid Attenborough                                                                                                8\nWerner Herzog                                                                                                     8\nPatton Oswalt                                                                                                     6\nJim Jefferies                                                                                                     6\nRicky Gervais                                                                                                     6\nTrevor Noah                                                                                                       6\nDoug Stanhope                                                                                                     6\nLewis Black                                                                                                       5\nBill Burr                                                                                                         5\nDylan Moran                                                                                                       5\nBill Maher                                                                                                        5\nKenneth Branagh                                                                                                   5\nEddie Izzard                                                                                                      5\nJim Gaffigan                                                                                                      5\nRussell Brand                                                                                                     4\nBill Hicks                                                                                                        4\nHannibal Buress                                                                                                   4\nJohn Pilger                                                                                                       4\nRobin Williams                                                                                                    4\nLisa Lampanelli                                                                                                   4\nDon Hertzfeldt                                                                                                    4\nWalt Disney                                                                                                       4\nJeff Dunham                                                                                                       4\nDave Attell                                                                                                       4\nMargaret Cho                                                                                                      4\nKatt Williams                                                                                                     4\nCraig Ferguson                                                                                                    4\nSlavoj Žižek                                                                                                      4\nIliza Shlesinger                                                                                                  3\nSebastian Maniscalco                                                                                              3\nMichael Carr                                                                                                      3\nMariya Vinogradova|Oleg Tabakov|Lev Durov|Valentina Talyzina|Boris Novikov|German Kachin|Zinaida Naryshkina       3\nAziz Ansari                                                                                                       3\nSpalding Gray                                                                                                     3\nDavid Lynch                                                                                                       3\nAmy Schumer                                                                                                       3\nNoam Chomsky                                                                                                      3\nJoe Rogan                                                                                                         3\nBuster Keaton|Virginia Fox|Joe Roberts                                                                            3\nKyle Kinane                                                                                                       3\nChris Rock                                                                                                        3\nDana Carvey                                                                                                       3\nDave Chappelle                                                                                                    3\nName: cast, dtype: int64"
     },
     "execution_count": 73,
     "metadata": {},
     "output_type": "execute_result"
    }
   ],
   "source": [
    "df.cast.value_counts(dropna=False).head(50)"
   ],
   "metadata": {
    "collapsed": false,
    "ExecuteTime": {
     "end_time": "2023-07-11T00:43:41.688792700Z",
     "start_time": "2023-07-11T00:43:41.627361600Z"
    }
   }
  },
  {
   "cell_type": "markdown",
   "metadata": {},
   "source": [
    "## Cleaning and Transforming the new \"Crew\" Column"
   ]
  },
  {
   "cell_type": "markdown",
   "metadata": {},
   "source": [
    "8.  __Evaluate__ Python Expressions in the stringified column \"crew\" and __remove quotes__ (\"\") where possible."
   ]
  },
  {
   "cell_type": "markdown",
   "metadata": {},
   "source": [
    "9. __Determine__ the __crew size__ for all movies (size of the crew) and add the additional column \"crew_size\"."
   ]
  },
  {
   "cell_type": "markdown",
   "metadata": {},
   "source": [
    "10. __Extract__ the __director name__ from the column \"crew\" and create the new column \"director\". <br> For example: The value in the first row (Toy Story) should be 'John Lasseter'."
   ]
  },
  {
   "cell_type": "code",
   "execution_count": 74,
   "metadata": {
    "ExecuteTime": {
     "end_time": "2023-07-11T00:43:41.709431700Z",
     "start_time": "2023-07-11T00:43:41.658388800Z"
    }
   },
   "outputs": [
    {
     "data": {
      "text/plain": "'[{\\'credit_id\\': \\'52fe4284c3a36847f8024f49\\', \\'department\\': \\'Directing\\', \\'gender\\': 2, \\'id\\': 7879, \\'job\\': \\'Director\\', \\'name\\': \\'John Lasseter\\', \\'profile_path\\': \\'/7EdqiNbr4FRjIhKHyPPdFfEEEFG.jpg\\'}, {\\'credit_id\\': \\'52fe4284c3a36847f8024f4f\\', \\'department\\': \\'Writing\\', \\'gender\\': 2, \\'id\\': 12891, \\'job\\': \\'Screenplay\\', \\'name\\': \\'Joss Whedon\\', \\'profile_path\\': \\'/dTiVsuaTVTeGmvkhcyJvKp2A5kr.jpg\\'}, {\\'credit_id\\': \\'52fe4284c3a36847f8024f55\\', \\'department\\': \\'Writing\\', \\'gender\\': 2, \\'id\\': 7, \\'job\\': \\'Screenplay\\', \\'name\\': \\'Andrew Stanton\\', \\'profile_path\\': \\'/pvQWsu0qc8JFQhMVJkTHuexUAa1.jpg\\'}, {\\'credit_id\\': \\'52fe4284c3a36847f8024f5b\\', \\'department\\': \\'Writing\\', \\'gender\\': 2, \\'id\\': 12892, \\'job\\': \\'Screenplay\\', \\'name\\': \\'Joel Cohen\\', \\'profile_path\\': \\'/dAubAiZcvKFbboWlj7oXOkZnTSu.jpg\\'}, {\\'credit_id\\': \\'52fe4284c3a36847f8024f61\\', \\'department\\': \\'Writing\\', \\'gender\\': 0, \\'id\\': 12893, \\'job\\': \\'Screenplay\\', \\'name\\': \\'Alec Sokolow\\', \\'profile_path\\': \\'/v79vlRYi94BZUQnkkyznbGUZLjT.jpg\\'}, {\\'credit_id\\': \\'52fe4284c3a36847f8024f67\\', \\'department\\': \\'Production\\', \\'gender\\': 1, \\'id\\': 12894, \\'job\\': \\'Producer\\', \\'name\\': \\'Bonnie Arnold\\', \\'profile_path\\': None}, {\\'credit_id\\': \\'52fe4284c3a36847f8024f6d\\', \\'department\\': \\'Production\\', \\'gender\\': 0, \\'id\\': 12895, \\'job\\': \\'Executive Producer\\', \\'name\\': \\'Ed Catmull\\', \\'profile_path\\': None}, {\\'credit_id\\': \\'52fe4284c3a36847f8024f73\\', \\'department\\': \\'Production\\', \\'gender\\': 2, \\'id\\': 12896, \\'job\\': \\'Producer\\', \\'name\\': \\'Ralph Guggenheim\\', \\'profile_path\\': None}, {\\'credit_id\\': \\'52fe4284c3a36847f8024f79\\', \\'department\\': \\'Production\\', \\'gender\\': 2, \\'id\\': 12897, \\'job\\': \\'Executive Producer\\', \\'name\\': \\'Steve Jobs\\', \\'profile_path\\': \\'/mOMP3SwD5qWQSR0ldCIByd3guTV.jpg\\'}, {\\'credit_id\\': \\'52fe4284c3a36847f8024f8b\\', \\'department\\': \\'Editing\\', \\'gender\\': 2, \\'id\\': 8, \\'job\\': \\'Editor\\', \\'name\\': \\'Lee Unkrich\\', \\'profile_path\\': \\'/bdTCCXjgOV3YyaNmLGYGOxFQMOc.jpg\\'}, {\\'credit_id\\': \\'52fe4284c3a36847f8024f91\\', \\'department\\': \\'Art\\', \\'gender\\': 2, \\'id\\': 7883, \\'job\\': \\'Art Direction\\', \\'name\\': \\'Ralph Eggleston\\', \\'profile_path\\': \\'/uUfcGKDsKO1aROMpXRs67Hn6RvR.jpg\\'}, {\\'credit_id\\': \\'598331bf925141421201044b\\', \\'department\\': \\'Editing\\', \\'gender\\': 2, \\'id\\': 1168870, \\'job\\': \\'Editor\\', \\'name\\': \\'Robert Gordon\\', \\'profile_path\\': None}, {\\'credit_id\\': \\'5892168cc3a36809660095f9\\', \\'department\\': \\'Sound\\', \\'gender\\': 0, \\'id\\': 1552883, \\'job\\': \\'Foley Editor\\', \\'name\\': \\'Mary Helen Leasman\\', \\'profile_path\\': None}, {\\'credit_id\\': \\'5531824d9251415289000945\\', \\'department\\': \\'Visual Effects\\', \\'gender\\': 0, \\'id\\': 1453514, \\'job\\': \\'Animation\\', \\'name\\': \\'Kim Blanchette\\', \\'profile_path\\': None}, {\\'credit_id\\': \\'589215969251412dcb009bf6\\', \\'department\\': \\'Sound\\', \\'gender\\': 0, \\'id\\': 1414182, \\'job\\': \\'ADR Editor\\', \\'name\\': \\'Marilyn McCoppen\\', \\'profile_path\\': None}, {\\'credit_id\\': \\'589217099251412dc500a018\\', \\'department\\': \\'Sound\\', \\'gender\\': 2, \\'id\\': 7885, \\'job\\': \\'Orchestrator\\', \\'name\\': \\'Randy Newman\\', \\'profile_path\\': \\'/w0JzfoiM25nrnxYOzosPHRq6mlE.jpg\\'}, {\\'credit_id\\': \\'5693e6b29251417b0e0000e3\\', \\'department\\': \\'Editing\\', \\'gender\\': 0, \\'id\\': 1429549, \\'job\\': \\'Color Timer\\', \\'name\\': \\'Dale E. Grahn\\', \\'profile_path\\': None}, {\\'credit_id\\': \\'572e2522c3a36869e6001a9c\\', \\'department\\': \\'Visual Effects\\', \\'gender\\': 0, \\'id\\': 7949, \\'job\\': \\'CG Painter\\', \\'name\\': \\'Robin Cooper\\', \\'profile_path\\': None}, {\\'credit_id\\': \\'574f12309251415ca1000012\\', \\'department\\': \\'Writing\\', \\'gender\\': 2, \\'id\\': 7879, \\'job\\': \\'Original Story\\', \\'name\\': \\'John Lasseter\\', \\'profile_path\\': \\'/7EdqiNbr4FRjIhKHyPPdFfEEEFG.jpg\\'}, {\\'credit_id\\': \\'574f1240c3a3682e7300001c\\', \\'department\\': \\'Writing\\', \\'gender\\': 2, \\'id\\': 12890, \\'job\\': \\'Original Story\\', \\'name\\': \\'Pete Docter\\', \\'profile_path\\': \\'/r6ngPgnReA3RHmKjmSoVsc6Awjp.jpg\\'}, {\\'credit_id\\': \\'574f12519251415c92000015\\', \\'department\\': \\'Writing\\', \\'gender\\': 0, \\'id\\': 7911, \\'job\\': \\'Original Story\\', \\'name\\': \\'Joe Ranft\\', \\'profile_path\\': \\'/f1BoWC2JbCcfP1e5hKfGsxkHzVU.jpg\\'}, {\\'credit_id\\': \\'574f12cec3a3682e82000022\\', \\'department\\': \\'Crew\\', \\'gender\\': 0, \\'id\\': 1629419, \\'job\\': \\'Post Production Supervisor\\', \\'name\\': \\'Patsy Bouge\\', \\'profile_path\\': None}, {\\'credit_id\\': \\'574f14f19251415ca1000082\\', \\'department\\': \\'Art\\', \\'gender\\': 0, \\'id\\': 7961, \\'job\\': \\'Sculptor\\', \\'name\\': \\'Norm DeCarlo\\', \\'profile_path\\': None}, {\\'credit_id\\': \\'5751ae4bc3a3683772002b7f\\', \\'department\\': \\'Visual Effects\\', \\'gender\\': 2, \\'id\\': 12905, \\'job\\': \\'Animation Director\\', \\'name\\': \\'Ash Brannon\\', \\'profile_path\\': \\'/6ueWgPEEBHvS3De2BHYQnYjRTig.jpg\\'}, {\\'credit_id\\': \\'5891edbe9251412dc5007cd6\\', \\'department\\': \\'Sound\\', \\'gender\\': 2, \\'id\\': 7885, \\'job\\': \\'Music\\', \\'name\\': \\'Randy Newman\\', \\'profile_path\\': \\'/w0JzfoiM25nrnxYOzosPHRq6mlE.jpg\\'}, {\\'credit_id\\': \\'589213d39251412dc8009832\\', \\'department\\': \\'Directing\\', \\'gender\\': 0, \\'id\\': 1748707, \\'job\\': \\'Layout\\', \\'name\\': \\'Roman Figun\\', \\'profile_path\\': None}, {\\'credit_id\\': \\'5892173dc3a3680968009351\\', \\'department\\': \\'Sound\\', \\'gender\\': 2, \\'id\\': 4949, \\'job\\': \\'Orchestrator\\', \\'name\\': \\'Don Davis\\', \\'profile_path\\': None}, {\\'credit_id\\': \\'589217cec3a3686b0a0052ba\\', \\'department\\': \\'Sound\\', \\'gender\\': 0, \\'id\\': 1372885, \\'job\\': \\'Music Editor\\', \\'name\\': \\'James Flamberg\\', \\'profile_path\\': None}, {\\'credit_id\\': \\'58921831c3a3686348004a64\\', \\'department\\': \\'Editing\\', \\'gender\\': 0, \\'id\\': 1739962, \\'job\\': \\'Negative Cutter\\', \\'name\\': \\'Mary Beth Smith\\', \\'profile_path\\': None}, {\\'credit_id\\': \\'58921838c3a36809700096c0\\', \\'department\\': \\'Editing\\', \\'gender\\': 0, \\'id\\': 1748513, \\'job\\': \\'Negative Cutter\\', \\'name\\': \\'Rick Mackay\\', \\'profile_path\\': None}, {\\'credit_id\\': \\'589218429251412dd1009d1b\\', \\'department\\': \\'Art\\', \\'gender\\': 0, \\'id\\': 1458006, \\'job\\': \\'Title Designer\\', \\'name\\': \\'Susan Bradley\\', \\'profile_path\\': None}, {\\'credit_id\\': \\'5891ed99c3a3680966007670\\', \\'department\\': \\'Crew\\', \\'gender\\': 0, \\'id\\': 1748557, \\'job\\': \\'Supervising Technical Director\\', \\'name\\': \\'William Reeves\\', \\'profile_path\\': None}, {\\'credit_id\\': \\'5891edcec3a3686b0a002eb2\\', \\'department\\': \\'Sound\\', \\'gender\\': 2, \\'id\\': 7885, \\'job\\': \\'Songs\\', \\'name\\': \\'Randy Newman\\', \\'profile_path\\': \\'/w0JzfoiM25nrnxYOzosPHRq6mlE.jpg\\'}, {\\'credit_id\\': \\'5891edf9c3a36809700075e6\\', \\'department\\': \\'Writing\\', \\'gender\\': 2, \\'id\\': 7, \\'job\\': \\'Original Story\\', \\'name\\': \\'Andrew Stanton\\', \\'profile_path\\': \\'/pvQWsu0qc8JFQhMVJkTHuexUAa1.jpg\\'}, {\\'credit_id\\': \\'58920f0b9251412dd7009104\\', \\'department\\': \\'Crew\\', \\'gender\\': 2, \\'id\\': 12890, \\'job\\': \\'Supervising Animator\\', \\'name\\': \\'Pete Docter\\', \\'profile_path\\': \\'/r6ngPgnReA3RHmKjmSoVsc6Awjp.jpg\\'}, {\\'credit_id\\': \\'58920f1fc3a3680977009021\\', \\'department\\': \\'Sound\\', \\'gender\\': 2, \\'id\\': 2216, \\'job\\': \\'Sound Designer\\', \\'name\\': \\'Gary Rydstrom\\', \\'profile_path\\': \\'/jZpr1nVfO7lldWI0YtmP1FGw7Rj.jpg\\'}, {\\'credit_id\\': \\'58920f389251412dd700912d\\', \\'department\\': \\'Production\\', \\'gender\\': 0, \\'id\\': 12909, \\'job\\': \\'Production Supervisor\\', \\'name\\': \\'Karen Robert Jackson\\', \\'profile_path\\': None}, {\\'credit_id\\': \\'58920fbd9251412dcb00969c\\', \\'department\\': \\'Crew\\', \\'gender\\': 0, \\'id\\': 953331, \\'job\\': \\'Executive Music Producer\\', \\'name\\': \\'Chris Montan\\', \\'profile_path\\': None}, {\\'credit_id\\': \\'589210069251412dd7009219\\', \\'department\\': \\'Visual Effects\\', \\'gender\\': 0, \\'id\\': 7893, \\'job\\': \\'Animation Director\\', \\'name\\': \\'Rich Quade\\', \\'profile_path\\': None}, {\\'credit_id\\': \\'589210329251412dcd00943b\\', \\'department\\': \\'Visual Effects\\', \\'gender\\': 0, \\'id\\': 8025, \\'job\\': \\'Animation\\', \\'name\\': \\'Michael Berenstein\\', \\'profile_path\\': None}, {\\'credit_id\\': \\'5892103bc3a368096a009180\\', \\'department\\': \\'Visual Effects\\', \\'gender\\': 0, \\'id\\': 78009, \\'job\\': \\'Animation\\', \\'name\\': \\'Colin Brady\\', \\'profile_path\\': None}, {\\'credit_id\\': \\'5892105dc3a3680968008db2\\', \\'department\\': \\'Visual Effects\\', \\'gender\\': 0, \\'id\\': 1748682, \\'job\\': \\'Animation\\', \\'name\\': \\'Davey Crockett Feiten\\', \\'profile_path\\': None}, {\\'credit_id\\': \\'589210669251412dcd009466\\', \\'department\\': \\'Visual Effects\\', \\'gender\\': 0, \\'id\\': 1454030, \\'job\\': \\'Animation\\', \\'name\\': \\'Angie Glocka\\', \\'profile_path\\': None}, {\\'credit_id\\': \\'5892107c9251412dd1009613\\', \\'department\\': \\'Visual Effects\\', \\'gender\\': 0, \\'id\\': 1748683, \\'job\\': \\'Animation\\', \\'name\\': \\'Rex Grignon\\', \\'profile_path\\': None}, {\\'credit_id\\': \\'5892108ac3a3680973008d3f\\', \\'department\\': \\'Visual Effects\\', \\'gender\\': 0, \\'id\\': 1748684, \\'job\\': \\'Animation\\', \\'name\\': \\'Tom K. Gurney\\', \\'profile_path\\': None}, {\\'credit_id\\': \\'58921093c3a3686348004477\\', \\'department\\': \\'Visual Effects\\', \\'gender\\': 2, \\'id\\': 8029, \\'job\\': \\'Animation\\', \\'name\\': \\'Jimmy Hayward\\', \\'profile_path\\': \\'/lTDRpudEY7BDwTefXbXzMlmb0ui.jpg\\'}, {\\'credit_id\\': \\'5892109b9251412dcd0094b0\\', \\'department\\': \\'Visual Effects\\', \\'gender\\': 0, \\'id\\': 1426773, \\'job\\': \\'Animation\\', \\'name\\': \\'Hal T. Hickel\\', \\'profile_path\\': None}, {\\'credit_id\\': \\'589210a29251412dc5009a29\\', \\'department\\': \\'Visual Effects\\', \\'gender\\': 0, \\'id\\': 8035, \\'job\\': \\'Animation\\', \\'name\\': \\'Karen Kiser\\', \\'profile_path\\': None}, {\\'credit_id\\': \\'589210ccc3a3680977009191\\', \\'department\\': \\'Visual Effects\\', \\'gender\\': 0, \\'id\\': 1748688, \\'job\\': \\'Animation\\', \\'name\\': \\'Anthony B. LaMolinara\\', \\'profile_path\\': None}, {\\'credit_id\\': \\'589210d7c3a3686b0a004c1f\\', \\'department\\': \\'Visual Effects\\', \\'gender\\': 0, \\'id\\': 587314, \\'job\\': \\'Animation\\', \\'name\\': \\'Guionne Leroy\\', \\'profile_path\\': None}, {\\'credit_id\\': \\'589210e1c3a36809770091a7\\', \\'department\\': \\'Visual Effects\\', \\'gender\\': 2, \\'id\\': 7918, \\'job\\': \\'Animation\\', \\'name\\': \\'Bud Luckey\\', \\'profile_path\\': \\'/pcCh7G19FKMNijmPQg1PMH1btic.jpg\\'}, {\\'credit_id\\': \\'589210ee9251412dc200978a\\', \\'department\\': \\'Visual Effects\\', \\'gender\\': 0, \\'id\\': 1748689, \\'job\\': \\'Animation\\', \\'name\\': \\'Les Major\\', \\'profile_path\\': None}, {\\'credit_id\\': \\'589210fa9251412dc8009595\\', \\'department\\': \\'Visual Effects\\', \\'gender\\': 2, \\'id\\': 7892, \\'job\\': \\'Animation\\', \\'name\\': \\'Glenn McQueen\\', \\'profile_path\\': None}, {\\'credit_id\\': \\'589211029251412dc8009598\\', \\'department\\': \\'Visual Effects\\', \\'gender\\': 0, \\'id\\': 555795, \\'job\\': \\'Animation\\', \\'name\\': \\'Mark Oftedal\\', \\'profile_path\\': None}, {\\'credit_id\\': \\'5892110b9251412dc800959d\\', \\'department\\': \\'Visual Effects\\', \\'gender\\': 2, \\'id\\': 7882, \\'job\\': \\'Animation\\', \\'name\\': \\'Jeff Pidgeon\\', \\'profile_path\\': \\'/yLddkg5HcgbJg00cS13GVBnP0HY.jpg\\'}, {\\'credit_id\\': \\'58921113c3a36863480044e4\\', \\'department\\': \\'Visual Effects\\', \\'gender\\': 0, \\'id\\': 8017, \\'job\\': \\'Animation\\', \\'name\\': \\'Jeff Pratt\\', \\'profile_path\\': None}, {\\'credit_id\\': \\'5892111c9251412dcb0097e9\\', \\'department\\': \\'Visual Effects\\', \\'gender\\': 0, \\'id\\': 1184140, \\'job\\': \\'Animation\\', \\'name\\': \\'Steve Rabatich\\', \\'profile_path\\': None}, {\\'credit_id\\': \\'58921123c3a36809700090f6\\', \\'department\\': \\'Visual Effects\\', \\'gender\\': 0, \\'id\\': 8049, \\'job\\': \\'Animation\\', \\'name\\': \\'Roger Rose\\', \\'profile_path\\': None}, {\\'credit_id\\': \\'5892112b9251412dcb0097fb\\', \\'department\\': \\'Visual Effects\\', \\'gender\\': 0, \\'id\\': 1509559, \\'job\\': \\'Animation\\', \\'name\\': \\'Steve Segal\\', \\'profile_path\\': None}, {\\'credit_id\\': \\'589211349251412dc80095c3\\', \\'department\\': \\'Visual Effects\\', \\'gender\\': 0, \\'id\\': 1748691, \\'job\\': \\'Animation\\', \\'name\\': \\'Doug Sheppeck\\', \\'profile_path\\': None}, {\\'credit_id\\': \\'5892113cc3a3680970009106\\', \\'department\\': \\'Visual Effects\\', \\'gender\\': 0, \\'id\\': 8050, \\'job\\': \\'Animation\\', \\'name\\': \\'Alan Sperling\\', \\'profile_path\\': None}, {\\'credit_id\\': \\'58921148c3a3686b0a004c99\\', \\'department\\': \\'Visual Effects\\', \\'gender\\': 0, \\'id\\': 8010, \\'job\\': \\'Animation\\', \\'name\\': \\'Doug Sweetland\\', \\'profile_path\\': None}, {\\'credit_id\\': \\'58921150c3a3680966009125\\', \\'department\\': \\'Visual Effects\\', \\'gender\\': 0, \\'id\\': 8044, \\'job\\': \\'Animation\\', \\'name\\': \\'David Tart\\', \\'profile_path\\': None}, {\\'credit_id\\': \\'589211629251412dc5009b00\\', \\'department\\': \\'Visual Effects\\', \\'gender\\': 0, \\'id\\': 1454034, \\'job\\': \\'Animation\\', \\'name\\': \\'Ken Willard\\', \\'profile_path\\': None}, {\\'credit_id\\': \\'589211c1c3a3686b0a004d28\\', \\'department\\': \\'Visual Effects\\', \\'gender\\': 0, \\'id\\': 7887, \\'job\\': \\'Visual Effects Supervisor\\', \\'name\\': \\'Thomas Porter\\', \\'profile_path\\': None}, {\\'credit_id\\': \\'589211d4c3a3680968008ed9\\', \\'department\\': \\'Visual Effects\\', \\'gender\\': 0, \\'id\\': 1406878, \\'job\\': \\'Visual Effects\\', \\'name\\': \\'Mark Thomas Henne\\', \\'profile_path\\': None}, {\\'credit_id\\': \\'589211f59251412dd4008e65\\', \\'department\\': \\'Visual Effects\\', \\'gender\\': 0, \\'id\\': 1748698, \\'job\\': \\'Visual Effects\\', \\'name\\': \\'Oren Jacob\\', \\'profile_path\\': None}, {\\'credit_id\\': \\'58921242c3a368096a00939b\\', \\'department\\': \\'Visual Effects\\', \\'gender\\': 0, \\'id\\': 1748699, \\'job\\': \\'Visual Effects\\', \\'name\\': \\'Darwyn Peachey\\', \\'profile_path\\': None}, {\\'credit_id\\': \\'5892124b9251412dc5009bd2\\', \\'department\\': \\'Visual Effects\\', \\'gender\\': 0, \\'id\\': 1748701, \\'job\\': \\'Visual Effects\\', \\'name\\': \\'Mitch Prater\\', \\'profile_path\\': None}, {\\'credit_id\\': \\'58921264c3a3686b0a004dbf\\', \\'department\\': \\'Visual Effects\\', \\'gender\\': 0, \\'id\\': 1748703, \\'job\\': \\'Visual Effects\\', \\'name\\': \\'Brian M. Rosen\\', \\'profile_path\\': None}, {\\'credit_id\\': \\'589212709251412dcd009676\\', \\'department\\': \\'Lighting\\', \\'gender\\': 1, \\'id\\': 12912, \\'job\\': \\'Lighting Supervisor\\', \\'name\\': \\'Sharon Calahan\\', \\'profile_path\\': None}, {\\'credit_id\\': \\'5892127fc3a3686b0a004de5\\', \\'department\\': \\'Lighting\\', \\'gender\\': 0, \\'id\\': 7899, \\'job\\': \\'Lighting Supervisor\\', \\'name\\': \\'Galyn Susman\\', \\'profile_path\\': None}, {\\'credit_id\\': \\'589212cdc3a3680970009268\\', \\'department\\': \\'Visual Effects\\', \\'gender\\': 0, \\'id\\': 12915, \\'job\\': \\'CG Painter\\', \\'name\\': \\'William Cone\\', \\'profile_path\\': None}, {\\'credit_id\\': \\'5892130f9251412dc8009791\\', \\'department\\': \\'Art\\', \\'gender\\': 0, \\'id\\': 1748705, \\'job\\': \\'Sculptor\\', \\'name\\': \\'Shelley Daniels Lekven\\', \\'profile_path\\': None}, {\\'credit_id\\': \\'5892131c9251412dd4008f4c\\', \\'department\\': \\'Visual Effects\\', \\'gender\\': 2, \\'id\\': 7889, \\'job\\': \\'Character Designer\\', \\'name\\': \\'Bob Pauley\\', \\'profile_path\\': None}, {\\'credit_id\\': \\'589213249251412dd100987b\\', \\'department\\': \\'Visual Effects\\', \\'gender\\': 2, \\'id\\': 7918, \\'job\\': \\'Character Designer\\', \\'name\\': \\'Bud Luckey\\', \\'profile_path\\': \\'/pcCh7G19FKMNijmPQg1PMH1btic.jpg\\'}, {\\'credit_id\\': \\'5892132b9251412dc80097b1\\', \\'department\\': \\'Visual Effects\\', \\'gender\\': 2, \\'id\\': 7, \\'job\\': \\'Character Designer\\', \\'name\\': \\'Andrew Stanton\\', \\'profile_path\\': \\'/pvQWsu0qc8JFQhMVJkTHuexUAa1.jpg\\'}, {\\'credit_id\\': \\'58921332c3a368634800467b\\', \\'department\\': \\'Visual Effects\\', \\'gender\\': 0, \\'id\\': 12915, \\'job\\': \\'Character Designer\\', \\'name\\': \\'William Cone\\', \\'profile_path\\': None}, {\\'credit_id\\': \\'5892135f9251412dd4008f90\\', \\'department\\': \\'Visual Effects\\', \\'gender\\': 0, \\'id\\': 1748706, \\'job\\': \\'Character Designer\\', \\'name\\': \\'Steve Johnson\\', \\'profile_path\\': None}, {\\'credit_id\\': \\'58921384c3a3680973008fd4\\', \\'department\\': \\'Visual Effects\\', \\'gender\\': 0, \\'id\\': 1176752, \\'job\\': \\'Character Designer\\', \\'name\\': \\'Dan Haskett\\', \\'profile_path\\': None}, {\\'credit_id\\': \\'5892138e9251412dc20099fc\\', \\'department\\': \\'Visual Effects\\', \\'gender\\': 0, \\'id\\': 1088034, \\'job\\': \\'Character Designer\\', \\'name\\': \\'Tom Holloway\\', \\'profile_path\\': \\'/a0r0T2usTBpgMI5aZbRBDW1fTl8.jpg\\'}, {\\'credit_id\\': \\'58921395c3a368097700942f\\', \\'department\\': \\'Visual Effects\\', \\'gender\\': 0, \\'id\\': 1447465, \\'job\\': \\'Character Designer\\', \\'name\\': \\'Jean Gillmore\\', \\'profile_path\\': None}, {\\'credit_id\\': \\'589213e2c3a3680973009026\\', \\'department\\': \\'Directing\\', \\'gender\\': 0, \\'id\\': 1748709, \\'job\\': \\'Layout\\', \\'name\\': \\'Desirée Mourad\\', \\'profile_path\\': None}, {\\'credit_id\\': \\'589214099251412dc5009d57\\', \\'department\\': \\'Art\\', \\'gender\\': 0, \\'id\\': 1748710, \\'job\\': \\'Set Dresser\\', \\'name\\': \"Kelly O\\'Connell\", \\'profile_path\\': None}, {\\'credit_id\\': \\'58921411c3a3686b0a004f70\\', \\'department\\': \\'Art\\', \\'gender\\': 0, \\'id\\': 1443471, \\'job\\': \\'Set Dresser\\', \\'name\\': \\'Sonoko Konishi\\', \\'profile_path\\': None}, {\\'credit_id\\': \\'58921434c3a368096a00956e\\', \\'department\\': \\'Art\\', \\'gender\\': 0, \\'id\\': 1748711, \\'job\\': \\'Set Dresser\\', \\'name\\': \\'Ann M. Rockwell\\', \\'profile_path\\': None}, {\\'credit_id\\': \\'5892144ac3a36809680090de\\', \\'department\\': \\'Editing\\', \\'gender\\': 0, \\'id\\': 1748712, \\'job\\': \\'Editorial Manager\\', \\'name\\': \\'Julie M. McDonald\\', \\'profile_path\\': None}, {\\'credit_id\\': \\'58921479c3a368096800910f\\', \\'department\\': \\'Editing\\', \\'gender\\': 0, \\'id\\': 1589729, \\'job\\': \\'Assistant Editor\\', \\'name\\': \\'Robin Lee\\', \\'profile_path\\': None}, {\\'credit_id\\': \\'5892148b9251412dd10099cc\\', \\'department\\': \\'Editing\\', \\'gender\\': 0, \\'id\\': 1748716, \\'job\\': \\'Assistant Editor\\', \\'name\\': \\'Tom Freeman\\', \\'profile_path\\': None}, {\\'credit_id\\': \\'589214959251412dcb009b1f\\', \\'department\\': \\'Editing\\', \\'gender\\': 0, \\'id\\': 1748717, \\'job\\': \\'Assistant Editor\\', \\'name\\': \\'Ada Cochavi\\', \\'profile_path\\': None}, {\\'credit_id\\': \\'5892149ec3a3686348004798\\', \\'department\\': \\'Editing\\', \\'gender\\': 0, \\'id\\': 1336438, \\'job\\': \\'Assistant Editor\\', \\'name\\': \\'Dana Mulligan\\', \\'profile_path\\': None}, {\\'credit_id\\': \\'589214adc3a368096a0095db\\', \\'department\\': \\'Editing\\', \\'gender\\': 0, \\'id\\': 1748718, \\'job\\': \\'Editorial Coordinator\\', \\'name\\': \\'Deirdre Morrison\\', \\'profile_path\\': None}, {\\'credit_id\\': \\'589214c7c3a368097700952b\\', \\'department\\': \\'Production\\', \\'gender\\': 0, \\'id\\': 1748719, \\'job\\': \\'Production Coordinator\\', \\'name\\': \\'Lori Lombardo\\', \\'profile_path\\': None}, {\\'credit_id\\': \\'589214cec3a368096a009603\\', \\'department\\': \\'Production\\', \\'gender\\': 0, \\'id\\': 1748720, \\'job\\': \\'Production Coordinator\\', \\'name\\': \\'Ellen Devine\\', \\'profile_path\\': None}, {\\'credit_id\\': \\'589214e39251412dc8009904\\', \\'department\\': \\'Crew\\', \\'gender\\': 0, \\'id\\': 1468014, \\'job\\': \\'Unit Publicist\\', \\'name\\': \\'Lauren Beth Strogoff\\', \\'profile_path\\': None}, {\\'credit_id\\': \\'58921544c3a3686b0a00507d\\', \\'department\\': \\'Sound\\', \\'gender\\': 2, \\'id\\': 2216, \\'job\\': \\'Sound Re-Recording Mixer\\', \\'name\\': \\'Gary Rydstrom\\', \\'profile_path\\': \\'/jZpr1nVfO7lldWI0YtmP1FGw7Rj.jpg\\'}, {\\'credit_id\\': \\'5892154c9251412dd1009a56\\', \\'department\\': \\'Sound\\', \\'gender\\': 0, \\'id\\': 1425978, \\'job\\': \\'Sound Re-Recording Mixer\\', \\'name\\': \\'Gary Summers\\', \\'profile_path\\': None}, {\\'credit_id\\': \\'58921555c3a36809680091bd\\', \\'department\\': \\'Sound\\', \\'gender\\': 2, \\'id\\': 8276, \\'job\\': \\'Supervising Sound Editor\\', \\'name\\': \\'Tim Holland\\', \\'profile_path\\': None}, {\\'credit_id\\': \\'589215c39251412dcb009c12\\', \\'department\\': \\'Sound\\', \\'gender\\': 0, \\'id\\': 7069, \\'job\\': \\'Sound Effects Editor\\', \\'name\\': \\'Pat Jackson\\', \\'profile_path\\': None}, {\\'credit_id\\': \\'58921698c3a368096a009788\\', \\'department\\': \\'Crew\\', \\'gender\\': 2, \\'id\\': 15894, \\'job\\': \\'Sound Design Assistant\\', \\'name\\': \\'Tom Myers\\', \\'profile_path\\': None}, {\\'credit_id\\': \\'589216a89251412dc2009ca4\\', \\'department\\': \\'Sound\\', \\'gender\\': 0, \\'id\\': 1414177, \\'job\\': \\'Assistant Sound Editor\\', \\'name\\': \\'J.R. Grubbs\\', \\'profile_path\\': None}, {\\'credit_id\\': \\'589216c19251412dc2009cb9\\', \\'department\\': \\'Sound\\', \\'gender\\': 1, \\'id\\': 1748724, \\'job\\': \\'Assistant Sound Editor\\', \\'name\\': \\'Susan Sanford\\', \\'profile_path\\': None}, {\\'credit_id\\': \\'589216ccc3a3680973009274\\', \\'department\\': \\'Sound\\', \\'gender\\': 0, \\'id\\': 1748725, \\'job\\': \\'Assistant Sound Editor\\', \\'name\\': \\'Susan Popovic\\', \\'profile_path\\': None}, {\\'credit_id\\': \\'589216d79251412dc8009aa0\\', \\'department\\': \\'Sound\\', \\'gender\\': 0, \\'id\\': 8067, \\'job\\': \\'Assistant Sound Editor\\', \\'name\\': \\'Dan Engstrom\\', \\'profile_path\\': None}, {\\'credit_id\\': \\'589216e49251412dcd009a4f\\', \\'department\\': \\'Production\\', \\'gender\\': 1, \\'id\\': 7902, \\'job\\': \\'Casting Consultant\\', \\'name\\': \\'Ruth Lambert\\', \\'profile_path\\': None}, {\\'credit_id\\': \\'589216f39251412dc2009cf3\\', \\'department\\': \\'Production\\', \\'gender\\': 0, \\'id\\': 84493, \\'job\\': \\'ADR Voice Casting\\', \\'name\\': \\'Mickie McGowan\\', \\'profile_path\\': \\'/k7TjJBfINsg8vLQxJwos6XObAD6.jpg\\'}]'"
     },
     "execution_count": 74,
     "metadata": {},
     "output_type": "execute_result"
    }
   ],
   "source": [
    "df.crew[0]"
   ]
  },
  {
   "cell_type": "code",
   "execution_count": 75,
   "outputs": [],
   "source": [
    "df.crew = df.crew.apply(lambda x: ast.literal_eval(x) if isinstance(x, str) else np.nan)"
   ],
   "metadata": {
    "collapsed": false,
    "ExecuteTime": {
     "end_time": "2023-07-11T00:43:52.623007700Z",
     "start_time": "2023-07-11T00:43:41.676288600Z"
    }
   }
  },
  {
   "cell_type": "code",
   "execution_count": 77,
   "outputs": [
    {
     "data": {
      "text/plain": "[{'credit_id': '52fe4284c3a36847f8024f49',\n  'department': 'Directing',\n  'gender': 2,\n  'id': 7879,\n  'job': 'Director',\n  'name': 'John Lasseter',\n  'profile_path': '/7EdqiNbr4FRjIhKHyPPdFfEEEFG.jpg'},\n {'credit_id': '52fe4284c3a36847f8024f4f',\n  'department': 'Writing',\n  'gender': 2,\n  'id': 12891,\n  'job': 'Screenplay',\n  'name': 'Joss Whedon',\n  'profile_path': '/dTiVsuaTVTeGmvkhcyJvKp2A5kr.jpg'},\n {'credit_id': '52fe4284c3a36847f8024f55',\n  'department': 'Writing',\n  'gender': 2,\n  'id': 7,\n  'job': 'Screenplay',\n  'name': 'Andrew Stanton',\n  'profile_path': '/pvQWsu0qc8JFQhMVJkTHuexUAa1.jpg'},\n {'credit_id': '52fe4284c3a36847f8024f5b',\n  'department': 'Writing',\n  'gender': 2,\n  'id': 12892,\n  'job': 'Screenplay',\n  'name': 'Joel Cohen',\n  'profile_path': '/dAubAiZcvKFbboWlj7oXOkZnTSu.jpg'},\n {'credit_id': '52fe4284c3a36847f8024f61',\n  'department': 'Writing',\n  'gender': 0,\n  'id': 12893,\n  'job': 'Screenplay',\n  'name': 'Alec Sokolow',\n  'profile_path': '/v79vlRYi94BZUQnkkyznbGUZLjT.jpg'},\n {'credit_id': '52fe4284c3a36847f8024f67',\n  'department': 'Production',\n  'gender': 1,\n  'id': 12894,\n  'job': 'Producer',\n  'name': 'Bonnie Arnold',\n  'profile_path': None},\n {'credit_id': '52fe4284c3a36847f8024f6d',\n  'department': 'Production',\n  'gender': 0,\n  'id': 12895,\n  'job': 'Executive Producer',\n  'name': 'Ed Catmull',\n  'profile_path': None},\n {'credit_id': '52fe4284c3a36847f8024f73',\n  'department': 'Production',\n  'gender': 2,\n  'id': 12896,\n  'job': 'Producer',\n  'name': 'Ralph Guggenheim',\n  'profile_path': None},\n {'credit_id': '52fe4284c3a36847f8024f79',\n  'department': 'Production',\n  'gender': 2,\n  'id': 12897,\n  'job': 'Executive Producer',\n  'name': 'Steve Jobs',\n  'profile_path': '/mOMP3SwD5qWQSR0ldCIByd3guTV.jpg'},\n {'credit_id': '52fe4284c3a36847f8024f8b',\n  'department': 'Editing',\n  'gender': 2,\n  'id': 8,\n  'job': 'Editor',\n  'name': 'Lee Unkrich',\n  'profile_path': '/bdTCCXjgOV3YyaNmLGYGOxFQMOc.jpg'},\n {'credit_id': '52fe4284c3a36847f8024f91',\n  'department': 'Art',\n  'gender': 2,\n  'id': 7883,\n  'job': 'Art Direction',\n  'name': 'Ralph Eggleston',\n  'profile_path': '/uUfcGKDsKO1aROMpXRs67Hn6RvR.jpg'},\n {'credit_id': '598331bf925141421201044b',\n  'department': 'Editing',\n  'gender': 2,\n  'id': 1168870,\n  'job': 'Editor',\n  'name': 'Robert Gordon',\n  'profile_path': None},\n {'credit_id': '5892168cc3a36809660095f9',\n  'department': 'Sound',\n  'gender': 0,\n  'id': 1552883,\n  'job': 'Foley Editor',\n  'name': 'Mary Helen Leasman',\n  'profile_path': None},\n {'credit_id': '5531824d9251415289000945',\n  'department': 'Visual Effects',\n  'gender': 0,\n  'id': 1453514,\n  'job': 'Animation',\n  'name': 'Kim Blanchette',\n  'profile_path': None},\n {'credit_id': '589215969251412dcb009bf6',\n  'department': 'Sound',\n  'gender': 0,\n  'id': 1414182,\n  'job': 'ADR Editor',\n  'name': 'Marilyn McCoppen',\n  'profile_path': None},\n {'credit_id': '589217099251412dc500a018',\n  'department': 'Sound',\n  'gender': 2,\n  'id': 7885,\n  'job': 'Orchestrator',\n  'name': 'Randy Newman',\n  'profile_path': '/w0JzfoiM25nrnxYOzosPHRq6mlE.jpg'},\n {'credit_id': '5693e6b29251417b0e0000e3',\n  'department': 'Editing',\n  'gender': 0,\n  'id': 1429549,\n  'job': 'Color Timer',\n  'name': 'Dale E. Grahn',\n  'profile_path': None},\n {'credit_id': '572e2522c3a36869e6001a9c',\n  'department': 'Visual Effects',\n  'gender': 0,\n  'id': 7949,\n  'job': 'CG Painter',\n  'name': 'Robin Cooper',\n  'profile_path': None},\n {'credit_id': '574f12309251415ca1000012',\n  'department': 'Writing',\n  'gender': 2,\n  'id': 7879,\n  'job': 'Original Story',\n  'name': 'John Lasseter',\n  'profile_path': '/7EdqiNbr4FRjIhKHyPPdFfEEEFG.jpg'},\n {'credit_id': '574f1240c3a3682e7300001c',\n  'department': 'Writing',\n  'gender': 2,\n  'id': 12890,\n  'job': 'Original Story',\n  'name': 'Pete Docter',\n  'profile_path': '/r6ngPgnReA3RHmKjmSoVsc6Awjp.jpg'},\n {'credit_id': '574f12519251415c92000015',\n  'department': 'Writing',\n  'gender': 0,\n  'id': 7911,\n  'job': 'Original Story',\n  'name': 'Joe Ranft',\n  'profile_path': '/f1BoWC2JbCcfP1e5hKfGsxkHzVU.jpg'},\n {'credit_id': '574f12cec3a3682e82000022',\n  'department': 'Crew',\n  'gender': 0,\n  'id': 1629419,\n  'job': 'Post Production Supervisor',\n  'name': 'Patsy Bouge',\n  'profile_path': None},\n {'credit_id': '574f14f19251415ca1000082',\n  'department': 'Art',\n  'gender': 0,\n  'id': 7961,\n  'job': 'Sculptor',\n  'name': 'Norm DeCarlo',\n  'profile_path': None},\n {'credit_id': '5751ae4bc3a3683772002b7f',\n  'department': 'Visual Effects',\n  'gender': 2,\n  'id': 12905,\n  'job': 'Animation Director',\n  'name': 'Ash Brannon',\n  'profile_path': '/6ueWgPEEBHvS3De2BHYQnYjRTig.jpg'},\n {'credit_id': '5891edbe9251412dc5007cd6',\n  'department': 'Sound',\n  'gender': 2,\n  'id': 7885,\n  'job': 'Music',\n  'name': 'Randy Newman',\n  'profile_path': '/w0JzfoiM25nrnxYOzosPHRq6mlE.jpg'},\n {'credit_id': '589213d39251412dc8009832',\n  'department': 'Directing',\n  'gender': 0,\n  'id': 1748707,\n  'job': 'Layout',\n  'name': 'Roman Figun',\n  'profile_path': None},\n {'credit_id': '5892173dc3a3680968009351',\n  'department': 'Sound',\n  'gender': 2,\n  'id': 4949,\n  'job': 'Orchestrator',\n  'name': 'Don Davis',\n  'profile_path': None},\n {'credit_id': '589217cec3a3686b0a0052ba',\n  'department': 'Sound',\n  'gender': 0,\n  'id': 1372885,\n  'job': 'Music Editor',\n  'name': 'James Flamberg',\n  'profile_path': None},\n {'credit_id': '58921831c3a3686348004a64',\n  'department': 'Editing',\n  'gender': 0,\n  'id': 1739962,\n  'job': 'Negative Cutter',\n  'name': 'Mary Beth Smith',\n  'profile_path': None},\n {'credit_id': '58921838c3a36809700096c0',\n  'department': 'Editing',\n  'gender': 0,\n  'id': 1748513,\n  'job': 'Negative Cutter',\n  'name': 'Rick Mackay',\n  'profile_path': None},\n {'credit_id': '589218429251412dd1009d1b',\n  'department': 'Art',\n  'gender': 0,\n  'id': 1458006,\n  'job': 'Title Designer',\n  'name': 'Susan Bradley',\n  'profile_path': None},\n {'credit_id': '5891ed99c3a3680966007670',\n  'department': 'Crew',\n  'gender': 0,\n  'id': 1748557,\n  'job': 'Supervising Technical Director',\n  'name': 'William Reeves',\n  'profile_path': None},\n {'credit_id': '5891edcec3a3686b0a002eb2',\n  'department': 'Sound',\n  'gender': 2,\n  'id': 7885,\n  'job': 'Songs',\n  'name': 'Randy Newman',\n  'profile_path': '/w0JzfoiM25nrnxYOzosPHRq6mlE.jpg'},\n {'credit_id': '5891edf9c3a36809700075e6',\n  'department': 'Writing',\n  'gender': 2,\n  'id': 7,\n  'job': 'Original Story',\n  'name': 'Andrew Stanton',\n  'profile_path': '/pvQWsu0qc8JFQhMVJkTHuexUAa1.jpg'},\n {'credit_id': '58920f0b9251412dd7009104',\n  'department': 'Crew',\n  'gender': 2,\n  'id': 12890,\n  'job': 'Supervising Animator',\n  'name': 'Pete Docter',\n  'profile_path': '/r6ngPgnReA3RHmKjmSoVsc6Awjp.jpg'},\n {'credit_id': '58920f1fc3a3680977009021',\n  'department': 'Sound',\n  'gender': 2,\n  'id': 2216,\n  'job': 'Sound Designer',\n  'name': 'Gary Rydstrom',\n  'profile_path': '/jZpr1nVfO7lldWI0YtmP1FGw7Rj.jpg'},\n {'credit_id': '58920f389251412dd700912d',\n  'department': 'Production',\n  'gender': 0,\n  'id': 12909,\n  'job': 'Production Supervisor',\n  'name': 'Karen Robert Jackson',\n  'profile_path': None},\n {'credit_id': '58920fbd9251412dcb00969c',\n  'department': 'Crew',\n  'gender': 0,\n  'id': 953331,\n  'job': 'Executive Music Producer',\n  'name': 'Chris Montan',\n  'profile_path': None},\n {'credit_id': '589210069251412dd7009219',\n  'department': 'Visual Effects',\n  'gender': 0,\n  'id': 7893,\n  'job': 'Animation Director',\n  'name': 'Rich Quade',\n  'profile_path': None},\n {'credit_id': '589210329251412dcd00943b',\n  'department': 'Visual Effects',\n  'gender': 0,\n  'id': 8025,\n  'job': 'Animation',\n  'name': 'Michael Berenstein',\n  'profile_path': None},\n {'credit_id': '5892103bc3a368096a009180',\n  'department': 'Visual Effects',\n  'gender': 0,\n  'id': 78009,\n  'job': 'Animation',\n  'name': 'Colin Brady',\n  'profile_path': None},\n {'credit_id': '5892105dc3a3680968008db2',\n  'department': 'Visual Effects',\n  'gender': 0,\n  'id': 1748682,\n  'job': 'Animation',\n  'name': 'Davey Crockett Feiten',\n  'profile_path': None},\n {'credit_id': '589210669251412dcd009466',\n  'department': 'Visual Effects',\n  'gender': 0,\n  'id': 1454030,\n  'job': 'Animation',\n  'name': 'Angie Glocka',\n  'profile_path': None},\n {'credit_id': '5892107c9251412dd1009613',\n  'department': 'Visual Effects',\n  'gender': 0,\n  'id': 1748683,\n  'job': 'Animation',\n  'name': 'Rex Grignon',\n  'profile_path': None},\n {'credit_id': '5892108ac3a3680973008d3f',\n  'department': 'Visual Effects',\n  'gender': 0,\n  'id': 1748684,\n  'job': 'Animation',\n  'name': 'Tom K. Gurney',\n  'profile_path': None},\n {'credit_id': '58921093c3a3686348004477',\n  'department': 'Visual Effects',\n  'gender': 2,\n  'id': 8029,\n  'job': 'Animation',\n  'name': 'Jimmy Hayward',\n  'profile_path': '/lTDRpudEY7BDwTefXbXzMlmb0ui.jpg'},\n {'credit_id': '5892109b9251412dcd0094b0',\n  'department': 'Visual Effects',\n  'gender': 0,\n  'id': 1426773,\n  'job': 'Animation',\n  'name': 'Hal T. Hickel',\n  'profile_path': None},\n {'credit_id': '589210a29251412dc5009a29',\n  'department': 'Visual Effects',\n  'gender': 0,\n  'id': 8035,\n  'job': 'Animation',\n  'name': 'Karen Kiser',\n  'profile_path': None},\n {'credit_id': '589210ccc3a3680977009191',\n  'department': 'Visual Effects',\n  'gender': 0,\n  'id': 1748688,\n  'job': 'Animation',\n  'name': 'Anthony B. LaMolinara',\n  'profile_path': None},\n {'credit_id': '589210d7c3a3686b0a004c1f',\n  'department': 'Visual Effects',\n  'gender': 0,\n  'id': 587314,\n  'job': 'Animation',\n  'name': 'Guionne Leroy',\n  'profile_path': None},\n {'credit_id': '589210e1c3a36809770091a7',\n  'department': 'Visual Effects',\n  'gender': 2,\n  'id': 7918,\n  'job': 'Animation',\n  'name': 'Bud Luckey',\n  'profile_path': '/pcCh7G19FKMNijmPQg1PMH1btic.jpg'},\n {'credit_id': '589210ee9251412dc200978a',\n  'department': 'Visual Effects',\n  'gender': 0,\n  'id': 1748689,\n  'job': 'Animation',\n  'name': 'Les Major',\n  'profile_path': None},\n {'credit_id': '589210fa9251412dc8009595',\n  'department': 'Visual Effects',\n  'gender': 2,\n  'id': 7892,\n  'job': 'Animation',\n  'name': 'Glenn McQueen',\n  'profile_path': None},\n {'credit_id': '589211029251412dc8009598',\n  'department': 'Visual Effects',\n  'gender': 0,\n  'id': 555795,\n  'job': 'Animation',\n  'name': 'Mark Oftedal',\n  'profile_path': None},\n {'credit_id': '5892110b9251412dc800959d',\n  'department': 'Visual Effects',\n  'gender': 2,\n  'id': 7882,\n  'job': 'Animation',\n  'name': 'Jeff Pidgeon',\n  'profile_path': '/yLddkg5HcgbJg00cS13GVBnP0HY.jpg'},\n {'credit_id': '58921113c3a36863480044e4',\n  'department': 'Visual Effects',\n  'gender': 0,\n  'id': 8017,\n  'job': 'Animation',\n  'name': 'Jeff Pratt',\n  'profile_path': None},\n {'credit_id': '5892111c9251412dcb0097e9',\n  'department': 'Visual Effects',\n  'gender': 0,\n  'id': 1184140,\n  'job': 'Animation',\n  'name': 'Steve Rabatich',\n  'profile_path': None},\n {'credit_id': '58921123c3a36809700090f6',\n  'department': 'Visual Effects',\n  'gender': 0,\n  'id': 8049,\n  'job': 'Animation',\n  'name': 'Roger Rose',\n  'profile_path': None},\n {'credit_id': '5892112b9251412dcb0097fb',\n  'department': 'Visual Effects',\n  'gender': 0,\n  'id': 1509559,\n  'job': 'Animation',\n  'name': 'Steve Segal',\n  'profile_path': None},\n {'credit_id': '589211349251412dc80095c3',\n  'department': 'Visual Effects',\n  'gender': 0,\n  'id': 1748691,\n  'job': 'Animation',\n  'name': 'Doug Sheppeck',\n  'profile_path': None},\n {'credit_id': '5892113cc3a3680970009106',\n  'department': 'Visual Effects',\n  'gender': 0,\n  'id': 8050,\n  'job': 'Animation',\n  'name': 'Alan Sperling',\n  'profile_path': None},\n {'credit_id': '58921148c3a3686b0a004c99',\n  'department': 'Visual Effects',\n  'gender': 0,\n  'id': 8010,\n  'job': 'Animation',\n  'name': 'Doug Sweetland',\n  'profile_path': None},\n {'credit_id': '58921150c3a3680966009125',\n  'department': 'Visual Effects',\n  'gender': 0,\n  'id': 8044,\n  'job': 'Animation',\n  'name': 'David Tart',\n  'profile_path': None},\n {'credit_id': '589211629251412dc5009b00',\n  'department': 'Visual Effects',\n  'gender': 0,\n  'id': 1454034,\n  'job': 'Animation',\n  'name': 'Ken Willard',\n  'profile_path': None},\n {'credit_id': '589211c1c3a3686b0a004d28',\n  'department': 'Visual Effects',\n  'gender': 0,\n  'id': 7887,\n  'job': 'Visual Effects Supervisor',\n  'name': 'Thomas Porter',\n  'profile_path': None},\n {'credit_id': '589211d4c3a3680968008ed9',\n  'department': 'Visual Effects',\n  'gender': 0,\n  'id': 1406878,\n  'job': 'Visual Effects',\n  'name': 'Mark Thomas Henne',\n  'profile_path': None},\n {'credit_id': '589211f59251412dd4008e65',\n  'department': 'Visual Effects',\n  'gender': 0,\n  'id': 1748698,\n  'job': 'Visual Effects',\n  'name': 'Oren Jacob',\n  'profile_path': None},\n {'credit_id': '58921242c3a368096a00939b',\n  'department': 'Visual Effects',\n  'gender': 0,\n  'id': 1748699,\n  'job': 'Visual Effects',\n  'name': 'Darwyn Peachey',\n  'profile_path': None},\n {'credit_id': '5892124b9251412dc5009bd2',\n  'department': 'Visual Effects',\n  'gender': 0,\n  'id': 1748701,\n  'job': 'Visual Effects',\n  'name': 'Mitch Prater',\n  'profile_path': None},\n {'credit_id': '58921264c3a3686b0a004dbf',\n  'department': 'Visual Effects',\n  'gender': 0,\n  'id': 1748703,\n  'job': 'Visual Effects',\n  'name': 'Brian M. Rosen',\n  'profile_path': None},\n {'credit_id': '589212709251412dcd009676',\n  'department': 'Lighting',\n  'gender': 1,\n  'id': 12912,\n  'job': 'Lighting Supervisor',\n  'name': 'Sharon Calahan',\n  'profile_path': None},\n {'credit_id': '5892127fc3a3686b0a004de5',\n  'department': 'Lighting',\n  'gender': 0,\n  'id': 7899,\n  'job': 'Lighting Supervisor',\n  'name': 'Galyn Susman',\n  'profile_path': None},\n {'credit_id': '589212cdc3a3680970009268',\n  'department': 'Visual Effects',\n  'gender': 0,\n  'id': 12915,\n  'job': 'CG Painter',\n  'name': 'William Cone',\n  'profile_path': None},\n {'credit_id': '5892130f9251412dc8009791',\n  'department': 'Art',\n  'gender': 0,\n  'id': 1748705,\n  'job': 'Sculptor',\n  'name': 'Shelley Daniels Lekven',\n  'profile_path': None},\n {'credit_id': '5892131c9251412dd4008f4c',\n  'department': 'Visual Effects',\n  'gender': 2,\n  'id': 7889,\n  'job': 'Character Designer',\n  'name': 'Bob Pauley',\n  'profile_path': None},\n {'credit_id': '589213249251412dd100987b',\n  'department': 'Visual Effects',\n  'gender': 2,\n  'id': 7918,\n  'job': 'Character Designer',\n  'name': 'Bud Luckey',\n  'profile_path': '/pcCh7G19FKMNijmPQg1PMH1btic.jpg'},\n {'credit_id': '5892132b9251412dc80097b1',\n  'department': 'Visual Effects',\n  'gender': 2,\n  'id': 7,\n  'job': 'Character Designer',\n  'name': 'Andrew Stanton',\n  'profile_path': '/pvQWsu0qc8JFQhMVJkTHuexUAa1.jpg'},\n {'credit_id': '58921332c3a368634800467b',\n  'department': 'Visual Effects',\n  'gender': 0,\n  'id': 12915,\n  'job': 'Character Designer',\n  'name': 'William Cone',\n  'profile_path': None},\n {'credit_id': '5892135f9251412dd4008f90',\n  'department': 'Visual Effects',\n  'gender': 0,\n  'id': 1748706,\n  'job': 'Character Designer',\n  'name': 'Steve Johnson',\n  'profile_path': None},\n {'credit_id': '58921384c3a3680973008fd4',\n  'department': 'Visual Effects',\n  'gender': 0,\n  'id': 1176752,\n  'job': 'Character Designer',\n  'name': 'Dan Haskett',\n  'profile_path': None},\n {'credit_id': '5892138e9251412dc20099fc',\n  'department': 'Visual Effects',\n  'gender': 0,\n  'id': 1088034,\n  'job': 'Character Designer',\n  'name': 'Tom Holloway',\n  'profile_path': '/a0r0T2usTBpgMI5aZbRBDW1fTl8.jpg'},\n {'credit_id': '58921395c3a368097700942f',\n  'department': 'Visual Effects',\n  'gender': 0,\n  'id': 1447465,\n  'job': 'Character Designer',\n  'name': 'Jean Gillmore',\n  'profile_path': None},\n {'credit_id': '589213e2c3a3680973009026',\n  'department': 'Directing',\n  'gender': 0,\n  'id': 1748709,\n  'job': 'Layout',\n  'name': 'Desirée Mourad',\n  'profile_path': None},\n {'credit_id': '589214099251412dc5009d57',\n  'department': 'Art',\n  'gender': 0,\n  'id': 1748710,\n  'job': 'Set Dresser',\n  'name': \"Kelly O'Connell\",\n  'profile_path': None},\n {'credit_id': '58921411c3a3686b0a004f70',\n  'department': 'Art',\n  'gender': 0,\n  'id': 1443471,\n  'job': 'Set Dresser',\n  'name': 'Sonoko Konishi',\n  'profile_path': None},\n {'credit_id': '58921434c3a368096a00956e',\n  'department': 'Art',\n  'gender': 0,\n  'id': 1748711,\n  'job': 'Set Dresser',\n  'name': 'Ann M. Rockwell',\n  'profile_path': None},\n {'credit_id': '5892144ac3a36809680090de',\n  'department': 'Editing',\n  'gender': 0,\n  'id': 1748712,\n  'job': 'Editorial Manager',\n  'name': 'Julie M. McDonald',\n  'profile_path': None},\n {'credit_id': '58921479c3a368096800910f',\n  'department': 'Editing',\n  'gender': 0,\n  'id': 1589729,\n  'job': 'Assistant Editor',\n  'name': 'Robin Lee',\n  'profile_path': None},\n {'credit_id': '5892148b9251412dd10099cc',\n  'department': 'Editing',\n  'gender': 0,\n  'id': 1748716,\n  'job': 'Assistant Editor',\n  'name': 'Tom Freeman',\n  'profile_path': None},\n {'credit_id': '589214959251412dcb009b1f',\n  'department': 'Editing',\n  'gender': 0,\n  'id': 1748717,\n  'job': 'Assistant Editor',\n  'name': 'Ada Cochavi',\n  'profile_path': None},\n {'credit_id': '5892149ec3a3686348004798',\n  'department': 'Editing',\n  'gender': 0,\n  'id': 1336438,\n  'job': 'Assistant Editor',\n  'name': 'Dana Mulligan',\n  'profile_path': None},\n {'credit_id': '589214adc3a368096a0095db',\n  'department': 'Editing',\n  'gender': 0,\n  'id': 1748718,\n  'job': 'Editorial Coordinator',\n  'name': 'Deirdre Morrison',\n  'profile_path': None},\n {'credit_id': '589214c7c3a368097700952b',\n  'department': 'Production',\n  'gender': 0,\n  'id': 1748719,\n  'job': 'Production Coordinator',\n  'name': 'Lori Lombardo',\n  'profile_path': None},\n {'credit_id': '589214cec3a368096a009603',\n  'department': 'Production',\n  'gender': 0,\n  'id': 1748720,\n  'job': 'Production Coordinator',\n  'name': 'Ellen Devine',\n  'profile_path': None},\n {'credit_id': '589214e39251412dc8009904',\n  'department': 'Crew',\n  'gender': 0,\n  'id': 1468014,\n  'job': 'Unit Publicist',\n  'name': 'Lauren Beth Strogoff',\n  'profile_path': None},\n {'credit_id': '58921544c3a3686b0a00507d',\n  'department': 'Sound',\n  'gender': 2,\n  'id': 2216,\n  'job': 'Sound Re-Recording Mixer',\n  'name': 'Gary Rydstrom',\n  'profile_path': '/jZpr1nVfO7lldWI0YtmP1FGw7Rj.jpg'},\n {'credit_id': '5892154c9251412dd1009a56',\n  'department': 'Sound',\n  'gender': 0,\n  'id': 1425978,\n  'job': 'Sound Re-Recording Mixer',\n  'name': 'Gary Summers',\n  'profile_path': None},\n {'credit_id': '58921555c3a36809680091bd',\n  'department': 'Sound',\n  'gender': 2,\n  'id': 8276,\n  'job': 'Supervising Sound Editor',\n  'name': 'Tim Holland',\n  'profile_path': None},\n {'credit_id': '589215c39251412dcb009c12',\n  'department': 'Sound',\n  'gender': 0,\n  'id': 7069,\n  'job': 'Sound Effects Editor',\n  'name': 'Pat Jackson',\n  'profile_path': None},\n {'credit_id': '58921698c3a368096a009788',\n  'department': 'Crew',\n  'gender': 2,\n  'id': 15894,\n  'job': 'Sound Design Assistant',\n  'name': 'Tom Myers',\n  'profile_path': None},\n {'credit_id': '589216a89251412dc2009ca4',\n  'department': 'Sound',\n  'gender': 0,\n  'id': 1414177,\n  'job': 'Assistant Sound Editor',\n  'name': 'J.R. Grubbs',\n  'profile_path': None},\n {'credit_id': '589216c19251412dc2009cb9',\n  'department': 'Sound',\n  'gender': 1,\n  'id': 1748724,\n  'job': 'Assistant Sound Editor',\n  'name': 'Susan Sanford',\n  'profile_path': None},\n {'credit_id': '589216ccc3a3680973009274',\n  'department': 'Sound',\n  'gender': 0,\n  'id': 1748725,\n  'job': 'Assistant Sound Editor',\n  'name': 'Susan Popovic',\n  'profile_path': None},\n {'credit_id': '589216d79251412dc8009aa0',\n  'department': 'Sound',\n  'gender': 0,\n  'id': 8067,\n  'job': 'Assistant Sound Editor',\n  'name': 'Dan Engstrom',\n  'profile_path': None},\n {'credit_id': '589216e49251412dcd009a4f',\n  'department': 'Production',\n  'gender': 1,\n  'id': 7902,\n  'job': 'Casting Consultant',\n  'name': 'Ruth Lambert',\n  'profile_path': None},\n {'credit_id': '589216f39251412dc2009cf3',\n  'department': 'Production',\n  'gender': 0,\n  'id': 84493,\n  'job': 'ADR Voice Casting',\n  'name': 'Mickie McGowan',\n  'profile_path': '/k7TjJBfINsg8vLQxJwos6XObAD6.jpg'}]"
     },
     "execution_count": 77,
     "metadata": {},
     "output_type": "execute_result"
    }
   ],
   "source": [
    "df.crew[0]"
   ],
   "metadata": {
    "collapsed": false,
    "ExecuteTime": {
     "end_time": "2023-07-11T00:43:58.234220300Z",
     "start_time": "2023-07-11T00:43:58.227217200Z"
    }
   }
  },
  {
   "cell_type": "code",
   "execution_count": 78,
   "outputs": [
    {
     "data": {
      "text/plain": "                    credit_id  department  gender       id  \\\n0    52fe4284c3a36847f8024f49   Directing       2     7879   \n1    52fe4284c3a36847f8024f4f     Writing       2    12891   \n2    52fe4284c3a36847f8024f55     Writing       2        7   \n3    52fe4284c3a36847f8024f5b     Writing       2    12892   \n4    52fe4284c3a36847f8024f61     Writing       0    12893   \n..                        ...         ...     ...      ...   \n101  589216c19251412dc2009cb9       Sound       1  1748724   \n102  589216ccc3a3680973009274       Sound       0  1748725   \n103  589216d79251412dc8009aa0       Sound       0     8067   \n104  589216e49251412dcd009a4f  Production       1     7902   \n105  589216f39251412dc2009cf3  Production       0    84493   \n\n                        job            name                      profile_path  \n0                  Director   John Lasseter  /7EdqiNbr4FRjIhKHyPPdFfEEEFG.jpg  \n1                Screenplay     Joss Whedon  /dTiVsuaTVTeGmvkhcyJvKp2A5kr.jpg  \n2                Screenplay  Andrew Stanton  /pvQWsu0qc8JFQhMVJkTHuexUAa1.jpg  \n3                Screenplay      Joel Cohen  /dAubAiZcvKFbboWlj7oXOkZnTSu.jpg  \n4                Screenplay    Alec Sokolow  /v79vlRYi94BZUQnkkyznbGUZLjT.jpg  \n..                      ...             ...                               ...  \n101  Assistant Sound Editor   Susan Sanford                              None  \n102  Assistant Sound Editor   Susan Popovic                              None  \n103  Assistant Sound Editor    Dan Engstrom                              None  \n104      Casting Consultant    Ruth Lambert                              None  \n105       ADR Voice Casting  Mickie McGowan  /k7TjJBfINsg8vLQxJwos6XObAD6.jpg  \n\n[106 rows x 7 columns]",
      "text/html": "<div>\n<style scoped>\n    .dataframe tbody tr th:only-of-type {\n        vertical-align: middle;\n    }\n\n    .dataframe tbody tr th {\n        vertical-align: top;\n    }\n\n    .dataframe thead th {\n        text-align: right;\n    }\n</style>\n<table border=\"1\" class=\"dataframe\">\n  <thead>\n    <tr style=\"text-align: right;\">\n      <th></th>\n      <th>credit_id</th>\n      <th>department</th>\n      <th>gender</th>\n      <th>id</th>\n      <th>job</th>\n      <th>name</th>\n      <th>profile_path</th>\n    </tr>\n  </thead>\n  <tbody>\n    <tr>\n      <th>0</th>\n      <td>52fe4284c3a36847f8024f49</td>\n      <td>Directing</td>\n      <td>2</td>\n      <td>7879</td>\n      <td>Director</td>\n      <td>John Lasseter</td>\n      <td>/7EdqiNbr4FRjIhKHyPPdFfEEEFG.jpg</td>\n    </tr>\n    <tr>\n      <th>1</th>\n      <td>52fe4284c3a36847f8024f4f</td>\n      <td>Writing</td>\n      <td>2</td>\n      <td>12891</td>\n      <td>Screenplay</td>\n      <td>Joss Whedon</td>\n      <td>/dTiVsuaTVTeGmvkhcyJvKp2A5kr.jpg</td>\n    </tr>\n    <tr>\n      <th>2</th>\n      <td>52fe4284c3a36847f8024f55</td>\n      <td>Writing</td>\n      <td>2</td>\n      <td>7</td>\n      <td>Screenplay</td>\n      <td>Andrew Stanton</td>\n      <td>/pvQWsu0qc8JFQhMVJkTHuexUAa1.jpg</td>\n    </tr>\n    <tr>\n      <th>3</th>\n      <td>52fe4284c3a36847f8024f5b</td>\n      <td>Writing</td>\n      <td>2</td>\n      <td>12892</td>\n      <td>Screenplay</td>\n      <td>Joel Cohen</td>\n      <td>/dAubAiZcvKFbboWlj7oXOkZnTSu.jpg</td>\n    </tr>\n    <tr>\n      <th>4</th>\n      <td>52fe4284c3a36847f8024f61</td>\n      <td>Writing</td>\n      <td>0</td>\n      <td>12893</td>\n      <td>Screenplay</td>\n      <td>Alec Sokolow</td>\n      <td>/v79vlRYi94BZUQnkkyznbGUZLjT.jpg</td>\n    </tr>\n    <tr>\n      <th>...</th>\n      <td>...</td>\n      <td>...</td>\n      <td>...</td>\n      <td>...</td>\n      <td>...</td>\n      <td>...</td>\n      <td>...</td>\n    </tr>\n    <tr>\n      <th>101</th>\n      <td>589216c19251412dc2009cb9</td>\n      <td>Sound</td>\n      <td>1</td>\n      <td>1748724</td>\n      <td>Assistant Sound Editor</td>\n      <td>Susan Sanford</td>\n      <td>None</td>\n    </tr>\n    <tr>\n      <th>102</th>\n      <td>589216ccc3a3680973009274</td>\n      <td>Sound</td>\n      <td>0</td>\n      <td>1748725</td>\n      <td>Assistant Sound Editor</td>\n      <td>Susan Popovic</td>\n      <td>None</td>\n    </tr>\n    <tr>\n      <th>103</th>\n      <td>589216d79251412dc8009aa0</td>\n      <td>Sound</td>\n      <td>0</td>\n      <td>8067</td>\n      <td>Assistant Sound Editor</td>\n      <td>Dan Engstrom</td>\n      <td>None</td>\n    </tr>\n    <tr>\n      <th>104</th>\n      <td>589216e49251412dcd009a4f</td>\n      <td>Production</td>\n      <td>1</td>\n      <td>7902</td>\n      <td>Casting Consultant</td>\n      <td>Ruth Lambert</td>\n      <td>None</td>\n    </tr>\n    <tr>\n      <th>105</th>\n      <td>589216f39251412dc2009cf3</td>\n      <td>Production</td>\n      <td>0</td>\n      <td>84493</td>\n      <td>ADR Voice Casting</td>\n      <td>Mickie McGowan</td>\n      <td>/k7TjJBfINsg8vLQxJwos6XObAD6.jpg</td>\n    </tr>\n  </tbody>\n</table>\n<p>106 rows × 7 columns</p>\n</div>"
     },
     "execution_count": 78,
     "metadata": {},
     "output_type": "execute_result"
    }
   ],
   "source": [
    "pd.DataFrame(df.crew[0])"
   ],
   "metadata": {
    "collapsed": false,
    "ExecuteTime": {
     "end_time": "2023-07-11T00:44:08.492409100Z",
     "start_time": "2023-07-11T00:44:08.476906600Z"
    }
   }
  },
  {
   "cell_type": "code",
   "execution_count": 80,
   "outputs": [],
   "source": [
    "df[\"crew_size\"] = df.crew.apply(lambda x: len(x))"
   ],
   "metadata": {
    "collapsed": false,
    "ExecuteTime": {
     "end_time": "2023-07-11T00:44:28.848455300Z",
     "start_time": "2023-07-11T00:44:28.809425200Z"
    }
   }
  },
  {
   "cell_type": "code",
   "execution_count": 81,
   "outputs": [
    {
     "data": {
      "text/plain": "2     6197\n3     4951\n1     4866\n4     3064\n5     2240\n7     1968\n10    1928\n6     1867\n8     1864\n9     1686\n11    1555\n12    1388\n13    1181\n14    1017\n15     854\n16     746\n17     633\n0      620\n18     541\n19     420\n20     358\n21     349\n22     287\n24     252\n23     251\n25     220\n28     198\n26     183\n27     174\n31     133\n30     131\n29     125\n32     115\n34     104\n35      97\n33      88\n36      84\n39      83\n37      80\n40      75\n41      69\n38      66\n44      61\n45      56\n42      55\n46      55\n43      52\n47      46\n48      44\n49      42\nName: crew_size, dtype: int64"
     },
     "execution_count": 81,
     "metadata": {},
     "output_type": "execute_result"
    }
   ],
   "source": [
    "df.crew_size.value_counts(dropna=False).head(50)"
   ],
   "metadata": {
    "collapsed": false,
    "ExecuteTime": {
     "end_time": "2023-07-11T00:44:44.462890300Z",
     "start_time": "2023-07-11T00:44:44.442934800Z"
    }
   }
  },
  {
   "cell_type": "code",
   "execution_count": 82,
   "outputs": [],
   "source": [
    "def get_director(x):\n",
    "    for i in x:\n",
    "        if i['job'] == 'Director':\n",
    "            return i['name']\n",
    "    return np.nan"
   ],
   "metadata": {
    "collapsed": false,
    "ExecuteTime": {
     "end_time": "2023-07-11T00:46:10.288131900Z",
     "start_time": "2023-07-11T00:46:10.264012800Z"
    }
   }
  },
  {
   "cell_type": "code",
   "execution_count": 83,
   "outputs": [],
   "source": [
    "df[\"director\"] = df.crew.apply(get_director)"
   ],
   "metadata": {
    "collapsed": false,
    "ExecuteTime": {
     "end_time": "2023-07-11T00:46:19.372867300Z",
     "start_time": "2023-07-11T00:46:19.300714700Z"
    }
   }
  },
  {
   "cell_type": "code",
   "execution_count": 84,
   "outputs": [
    {
     "data": {
      "text/plain": "0           John Lasseter\n1            Joe Johnston\n2           Howard Deutch\n3         Forest Whitaker\n4           Charles Shyer\n               ...       \n44686    Hamid Nematollah\n44687            Lav Diaz\n44688      Mark L. Lester\n44689    Yakov Protazanov\n44690       Daisy Asquith\nName: director, Length: 44691, dtype: object"
     },
     "execution_count": 84,
     "metadata": {},
     "output_type": "execute_result"
    }
   ],
   "source": [
    "df.director"
   ],
   "metadata": {
    "collapsed": false,
    "ExecuteTime": {
     "end_time": "2023-07-11T00:46:26.463305200Z",
     "start_time": "2023-07-11T00:46:26.447201300Z"
    }
   }
  },
  {
   "cell_type": "code",
   "execution_count": 85,
   "outputs": [
    {
     "data": {
      "text/plain": "NaN                         731\nJohn Ford                    66\nMichael Curtiz               65\nWerner Herzog                54\nAlfred Hitchcock             53\nGeorges Méliès               49\nWoody Allen                  49\nJean-Luc Godard              46\nSidney Lumet                 46\nCharlie Chaplin              44\nRaoul Walsh                  43\nWilliam A. Wellman           42\nHenry Hathaway               41\nRichard Thorpe               40\nMartin Scorsese              39\nIngmar Bergman               39\nFritz Lang                   38\nJohn Huston                  38\nGeorge Cukor                 38\nMervyn LeRoy                 37\nRobert Altman                37\nRobert Wise                  36\nTakashi Miike                35\nFrank Capra                  35\nJ. Lee Thompson              35\nClint Eastwood               35\nJoseph Sargent               35\nRichard Fleischer            35\nRoger Corman                 35\nClaude Chabrol               35\nHoward Hawks                 35\nBuster Keaton                34\nNorman Taurog                34\nClarence Brown               33\nUmberto Lenzi                33\nRainer Werner Fassbinder     33\nSteven Spielberg             33\nGordon Douglas               33\nSpike Lee                    33\nW.S. Van Dyke                33\nAnthony Mann                 33\nMichael Apted                33\nJohn Frankenheimer           33\nVincente Minnelli            33\nHenry Koster                 32\nWilliam Beaudine             32\nLucio Fulci                  31\nRoy Del Ruth                 31\nBlake Edwards                31\nAlbert Pyun                  31\nName: director, dtype: int64"
     },
     "execution_count": 85,
     "metadata": {},
     "output_type": "execute_result"
    }
   ],
   "source": [
    "df.director.value_counts(dropna = False).head(50)"
   ],
   "metadata": {
    "collapsed": false,
    "ExecuteTime": {
     "end_time": "2023-07-11T00:46:33.877094800Z",
     "start_time": "2023-07-11T00:46:33.826853300Z"
    }
   }
  },
  {
   "cell_type": "markdown",
   "metadata": {},
   "source": [
    "## Final Steps"
   ]
  },
  {
   "cell_type": "markdown",
   "metadata": {},
   "source": [
    "11. __Drop__ the column \"crew\" and __save__ the dataset in a csv-file."
   ]
  },
  {
   "cell_type": "code",
   "execution_count": 86,
   "metadata": {
    "ExecuteTime": {
     "end_time": "2023-07-11T00:48:46.667414600Z",
     "start_time": "2023-07-11T00:48:46.611702300Z"
    }
   },
   "outputs": [
    {
     "data": {
      "text/plain": "     id      title                                    tagline release_date  \\\n0   862  Toy Story                                        NaN   1995-10-30   \n1  8844    Jumanji  Roll the dice and unleash the excitement!   1995-12-15   \n\n                     genres belongs_to_collection original_language  \\\n0   Animation|Comedy|Family  Toy Story Collection                en   \n1  Adventure|Fantasy|Family                   NaN                en   \n\n   budget_musd  revenue_musd  \\\n0         30.0    373.554033   \n1         65.0    262.797249   \n\n                                production_companies  ... popularity  runtime  \\\n0                            Pixar Animation Studios  ...  21.946943     81.0   \n1  TriStar Pictures|Teitler Film|Interscope Commu...  ...  17.015539    104.0   \n\n                                            overview  spoken_languages  \\\n0  Led by Woody, Andy's toys live happily in his ...           English   \n1  When siblings Judy and Peter discover an encha...  English|Français   \n\n                                         poster_path  \\\n0  <img src='http://image.tmdb.org/t/p/w185//rhIR...   \n1  <img src='http://image.tmdb.org/t/p/w185//vzmL...   \n\n                                                cast  \\\n0  Tom Hanks|Tim Allen|Don Rickles|Jim Varney|Wal...   \n1  Robin Williams|Jonathan Hyde|Kirsten Dunst|Bra...   \n\n                                                crew cast_size crew_size  \\\n0  [{'credit_id': '52fe4284c3a36847f8024f49', 'de...        13       106   \n1  [{'credit_id': '52fe44bfc3a36847f80a7cd1', 'de...        26        16   \n\n        director  \n0  John Lasseter  \n1   Joe Johnston  \n\n[2 rows x 23 columns]",
      "text/html": "<div>\n<style scoped>\n    .dataframe tbody tr th:only-of-type {\n        vertical-align: middle;\n    }\n\n    .dataframe tbody tr th {\n        vertical-align: top;\n    }\n\n    .dataframe thead th {\n        text-align: right;\n    }\n</style>\n<table border=\"1\" class=\"dataframe\">\n  <thead>\n    <tr style=\"text-align: right;\">\n      <th></th>\n      <th>id</th>\n      <th>title</th>\n      <th>tagline</th>\n      <th>release_date</th>\n      <th>genres</th>\n      <th>belongs_to_collection</th>\n      <th>original_language</th>\n      <th>budget_musd</th>\n      <th>revenue_musd</th>\n      <th>production_companies</th>\n      <th>...</th>\n      <th>popularity</th>\n      <th>runtime</th>\n      <th>overview</th>\n      <th>spoken_languages</th>\n      <th>poster_path</th>\n      <th>cast</th>\n      <th>crew</th>\n      <th>cast_size</th>\n      <th>crew_size</th>\n      <th>director</th>\n    </tr>\n  </thead>\n  <tbody>\n    <tr>\n      <th>0</th>\n      <td>862</td>\n      <td>Toy Story</td>\n      <td>NaN</td>\n      <td>1995-10-30</td>\n      <td>Animation|Comedy|Family</td>\n      <td>Toy Story Collection</td>\n      <td>en</td>\n      <td>30.0</td>\n      <td>373.554033</td>\n      <td>Pixar Animation Studios</td>\n      <td>...</td>\n      <td>21.946943</td>\n      <td>81.0</td>\n      <td>Led by Woody, Andy's toys live happily in his ...</td>\n      <td>English</td>\n      <td>&lt;img src='http://image.tmdb.org/t/p/w185//rhIR...</td>\n      <td>Tom Hanks|Tim Allen|Don Rickles|Jim Varney|Wal...</td>\n      <td>[{'credit_id': '52fe4284c3a36847f8024f49', 'de...</td>\n      <td>13</td>\n      <td>106</td>\n      <td>John Lasseter</td>\n    </tr>\n    <tr>\n      <th>1</th>\n      <td>8844</td>\n      <td>Jumanji</td>\n      <td>Roll the dice and unleash the excitement!</td>\n      <td>1995-12-15</td>\n      <td>Adventure|Fantasy|Family</td>\n      <td>NaN</td>\n      <td>en</td>\n      <td>65.0</td>\n      <td>262.797249</td>\n      <td>TriStar Pictures|Teitler Film|Interscope Commu...</td>\n      <td>...</td>\n      <td>17.015539</td>\n      <td>104.0</td>\n      <td>When siblings Judy and Peter discover an encha...</td>\n      <td>English|Français</td>\n      <td>&lt;img src='http://image.tmdb.org/t/p/w185//vzmL...</td>\n      <td>Robin Williams|Jonathan Hyde|Kirsten Dunst|Bra...</td>\n      <td>[{'credit_id': '52fe44bfc3a36847f80a7cd1', 'de...</td>\n      <td>26</td>\n      <td>16</td>\n      <td>Joe Johnston</td>\n    </tr>\n  </tbody>\n</table>\n<p>2 rows × 23 columns</p>\n</div>"
     },
     "execution_count": 86,
     "metadata": {},
     "output_type": "execute_result"
    }
   ],
   "source": [
    "df.head(2)"
   ]
  },
  {
   "cell_type": "code",
   "execution_count": 88,
   "outputs": [
    {
     "name": "stdout",
     "output_type": "stream",
     "text": [
      "<class 'pandas.core.frame.DataFrame'>\n",
      "Int64Index: 44691 entries, 0 to 44690\n",
      "Data columns (total 23 columns):\n",
      " #   Column                 Non-Null Count  Dtype         \n",
      "---  ------                 --------------  -----         \n",
      " 0   id                     44691 non-null  int64         \n",
      " 1   title                  44691 non-null  object        \n",
      " 2   tagline                20284 non-null  object        \n",
      " 3   release_date           44657 non-null  datetime64[ns]\n",
      " 4   genres                 42586 non-null  object        \n",
      " 5   belongs_to_collection  4463 non-null   object        \n",
      " 6   original_language      44681 non-null  object        \n",
      " 7   budget_musd            8854 non-null   float64       \n",
      " 8   revenue_musd           7385 non-null   float64       \n",
      " 9   production_companies   33356 non-null  object        \n",
      " 10  production_countries   38835 non-null  object        \n",
      " 11  vote_count             44691 non-null  float64       \n",
      " 12  vote_average           42077 non-null  float64       \n",
      " 13  popularity             44691 non-null  float64       \n",
      " 14  runtime                43179 non-null  float64       \n",
      " 15  overview               43740 non-null  object        \n",
      " 16  spoken_languages       41094 non-null  object        \n",
      " 17  poster_path            44467 non-null  object        \n",
      " 18  cast                   42502 non-null  object        \n",
      " 19  crew                   44691 non-null  object        \n",
      " 20  cast_size              44691 non-null  int64         \n",
      " 21  crew_size              44691 non-null  int64         \n",
      " 22  director               43960 non-null  object        \n",
      "dtypes: datetime64[ns](1), float64(6), int64(3), object(13)\n",
      "memory usage: 9.2+ MB\n"
     ]
    }
   ],
   "source": [
    "df.info()"
   ],
   "metadata": {
    "collapsed": false,
    "ExecuteTime": {
     "end_time": "2023-07-11T00:49:01.465655Z",
     "start_time": "2023-07-11T00:49:01.379302100Z"
    }
   }
  },
  {
   "cell_type": "code",
   "execution_count": 89,
   "outputs": [],
   "source": [
    "df.drop(columns = [\"crew\"], inplace = True)"
   ],
   "metadata": {
    "collapsed": false,
    "ExecuteTime": {
     "end_time": "2023-07-11T00:49:09.634341100Z",
     "start_time": "2023-07-11T00:49:09.601902500Z"
    }
   }
  },
  {
   "cell_type": "code",
   "execution_count": 90,
   "outputs": [],
   "source": [
    "df.to_csv(\"movies_complete.csv\", index = False)"
   ],
   "metadata": {
    "collapsed": false,
    "ExecuteTime": {
     "end_time": "2023-07-11T00:49:18.326272400Z",
     "start_time": "2023-07-11T00:49:17.451689Z"
    }
   }
  },
  {
   "cell_type": "markdown",
   "metadata": {},
   "source": [
    "# +++++++++ See some Hints below +++++++++++++"
   ]
  },
  {
   "cell_type": "code",
   "execution_count": 76,
   "metadata": {
    "ExecuteTime": {
     "end_time": "2023-07-11T00:43:52.732092900Z",
     "start_time": "2023-07-11T00:43:52.670039400Z"
    }
   },
   "outputs": [],
   "source": []
  },
  {
   "cell_type": "code",
   "execution_count": 76,
   "metadata": {
    "ExecuteTime": {
     "end_time": "2023-07-11T00:43:52.732092900Z",
     "start_time": "2023-07-11T00:43:52.687056900Z"
    }
   },
   "outputs": [],
   "source": []
  },
  {
   "cell_type": "code",
   "execution_count": 76,
   "metadata": {
    "ExecuteTime": {
     "end_time": "2023-07-11T00:43:52.732092900Z",
     "start_time": "2023-07-11T00:43:52.701565300Z"
    }
   },
   "outputs": [],
   "source": []
  },
  {
   "cell_type": "code",
   "execution_count": 76,
   "metadata": {
    "ExecuteTime": {
     "end_time": "2023-07-11T00:43:52.732092900Z",
     "start_time": "2023-07-11T00:43:52.719583700Z"
    }
   },
   "outputs": [],
   "source": []
  },
  {
   "cell_type": "markdown",
   "metadata": {},
   "source": [
    "# ++++++++++++++++ Hints++++++++++++++++++++"
   ]
  },
  {
   "cell_type": "code",
   "execution_count": 76,
   "metadata": {
    "ExecuteTime": {
     "end_time": "2023-07-11T00:43:52.751116900Z",
     "start_time": "2023-07-11T00:43:52.734093Z"
    }
   },
   "outputs": [],
   "source": []
  },
  {
   "cell_type": "markdown",
   "metadata": {},
   "source": [
    "__Hints for 2.__<br>\n",
    "There cannot be two or more movies with the same movie id."
   ]
  },
  {
   "cell_type": "code",
   "execution_count": 76,
   "metadata": {
    "ExecuteTime": {
     "end_time": "2023-07-11T00:43:52.791919600Z",
     "start_time": "2023-07-11T00:43:52.750117700Z"
    }
   },
   "outputs": [],
   "source": []
  },
  {
   "cell_type": "markdown",
   "metadata": {},
   "source": [
    "__Hints for 3.__<br>\n",
    "You can use a left join with movies_clean as left dataset and credits as right dataset."
   ]
  },
  {
   "cell_type": "code",
   "execution_count": 76,
   "metadata": {
    "ExecuteTime": {
     "end_time": "2023-07-11T00:43:52.792920100Z",
     "start_time": "2023-07-11T00:43:52.764625600Z"
    }
   },
   "outputs": [],
   "source": []
  },
  {
   "cell_type": "markdown",
   "metadata": {},
   "source": [
    "__Hints for 4.__<br>\n",
    "This is very similar to Question 3 in Project 3."
   ]
  },
  {
   "cell_type": "code",
   "execution_count": 76,
   "metadata": {
    "ExecuteTime": {
     "end_time": "2023-07-11T00:43:52.812937800Z",
     "start_time": "2023-07-11T00:43:52.784414500Z"
    }
   },
   "outputs": [],
   "source": []
  },
  {
   "cell_type": "markdown",
   "metadata": {},
   "source": [
    "__Hints for 5.__<br> \n",
    "apply an appropriate lambda function on all column elements."
   ]
  },
  {
   "cell_type": "code",
   "execution_count": 76,
   "metadata": {
    "ExecuteTime": {
     "end_time": "2023-07-11T00:43:52.812937800Z",
     "start_time": "2023-07-11T00:43:52.795920700Z"
    }
   },
   "outputs": [],
   "source": []
  },
  {
   "cell_type": "markdown",
   "metadata": {},
   "source": [
    "__Hints for 6.__<br>\n",
    "This is very similar to Questions 4-8 in Project 3."
   ]
  },
  {
   "cell_type": "code",
   "execution_count": 76,
   "metadata": {
    "ExecuteTime": {
     "end_time": "2023-07-11T00:43:52.855336100Z",
     "start_time": "2023-07-11T00:43:52.811935300Z"
    }
   },
   "outputs": [],
   "source": []
  },
  {
   "cell_type": "markdown",
   "metadata": {},
   "source": [
    "__Hints for 7.__<br>\n",
    "This is very similar to Question 9 in Project 3."
   ]
  },
  {
   "cell_type": "code",
   "execution_count": 76,
   "metadata": {
    "ExecuteTime": {
     "end_time": "2023-07-11T00:43:52.855336100Z",
     "start_time": "2023-07-11T00:43:52.826992300Z"
    }
   },
   "outputs": [],
   "source": []
  },
  {
   "cell_type": "markdown",
   "metadata": {},
   "source": [
    "__Hints for 10.__<br> \n",
    "apply an appropriate user-defined function (a bit more complex) on all column elements."
   ]
  },
  {
   "cell_type": "code",
   "execution_count": 76,
   "metadata": {
    "ExecuteTime": {
     "end_time": "2023-07-11T00:43:52.873354Z",
     "start_time": "2023-07-11T00:43:52.849275Z"
    }
   },
   "outputs": [],
   "source": []
  }
 ],
 "metadata": {
  "kernelspec": {
   "display_name": "Python 3",
   "language": "python",
   "name": "python3"
  },
  "language_info": {
   "codemirror_mode": {
    "name": "ipython",
    "version": 3
   },
   "file_extension": ".py",
   "mimetype": "text/x-python",
   "name": "python",
   "nbconvert_exporter": "python",
   "pygments_lexer": "ipython3",
   "version": "3.7.4"
  }
 },
 "nbformat": 4,
 "nbformat_minor": 2
}
