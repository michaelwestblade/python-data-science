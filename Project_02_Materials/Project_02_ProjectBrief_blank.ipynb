{
 "cells": [
  {
   "cell_type": "markdown",
   "metadata": {},
   "source": [
    "# Project 2: Data Import - Working with Web APIs and JSON (Movies Dataset)"
   ]
  },
  {
   "cell_type": "markdown",
   "metadata": {},
   "source": [
    "# Project Brief for Self-Coders"
   ]
  },
  {
   "cell_type": "markdown",
   "metadata": {},
   "source": [
    "Here you´ll have the opportunity to code major parts of Project 2 on your own. If you need any help or inspiration, have a look at the Videos or the Jupyter Notebook with the full code. <br> <br>\n",
    "Keep in mind that it´s all about __getting the right results/conclusions__. It´s not about finding the identical code. Things can be coded in many different ways. Even if you come to the same conclusions, it´s very unlikely that we have the very same code. "
   ]
  },
  {
   "cell_type": "markdown",
   "metadata": {},
   "source": [
    "## Importing Data from JSON files "
   ]
  },
  {
   "cell_type": "markdown",
   "metadata": {},
   "source": [
    "1. __Import__ the json files __blockbusters.json__, __blockbusters2.json__, __blockbusters3.json__ and load the datasets into Pandas DataFrames.\n"
   ]
  },
  {
   "cell_type": "code",
   "execution_count": 1,
   "metadata": {
    "ExecuteTime": {
     "end_time": "2023-07-09T15:09:20.254024800Z",
     "start_time": "2023-07-09T15:09:19.189315800Z"
    }
   },
   "outputs": [],
   "source": [
    "import pandas as pd\n",
    "import json\n",
    "from dotenv import load_dotenv, dotenv_values\n",
    "\n",
    "load_dotenv()\n",
    "config = dotenv_values(\".env\")"
   ]
  },
  {
   "cell_type": "code",
   "execution_count": 2,
   "outputs": [],
   "source": [
    "with open('blockbusters.json') as f:\n",
    "    data = json.load(f)"
   ],
   "metadata": {
    "collapsed": false,
    "ExecuteTime": {
     "end_time": "2023-07-09T15:09:20.281032400Z",
     "start_time": "2023-07-09T15:09:20.242080700Z"
    }
   }
  },
  {
   "cell_type": "code",
   "execution_count": 3,
   "outputs": [
    {
     "data": {
      "text/plain": "[{'title': 'Avengers: Endgame',\n  'id': 299534,\n  'revenue': 2797800564,\n  'genres': [{'id': 12, 'name': 'Adventure'},\n   {'id': 878, 'name': 'Science Fiction'},\n   {'id': 28, 'name': 'Action'}],\n  'belongs_to_collection': {'id': 86311,\n   'name': 'The Avengers Collection',\n   'poster_path': '/yFSIUVTCvgYrpalUktulvk3Gi5Y.jpg',\n   'backdrop_path': '/zuW6fOiusv4X9nnW3paHGfXcSll.jpg'},\n  'runtime': 181},\n {'title': 'Avatar',\n  'id': 19995,\n  'revenue': 2787965087,\n  'genres': [{'id': 28, 'name': 'Action'},\n   {'id': 12, 'name': 'Adventure'},\n   {'id': 14, 'name': 'Fantasy'},\n   {'id': 878, 'name': 'Science Fiction'}],\n  'belongs_to_collection': {'id': 87096,\n   'name': 'Avatar Collection',\n   'poster_path': '/nslJVsO58Etqkk17oXMuVK4gNOF.jpg',\n   'backdrop_path': '/8nCr9W7sKus2q9PLbYsnT7iCkuT.jpg'},\n  'runtime': 162},\n {'title': 'Star Wars: The Force Awakens',\n  'id': 140607,\n  'revenue': 2068223624,\n  'genres': [{'id': 28, 'name': 'Action'},\n   {'id': 12, 'name': 'Adventure'},\n   {'id': 878, 'name': 'Science Fiction'},\n   {'id': 14, 'name': 'Fantasy'}],\n  'belongs_to_collection': {'id': 10,\n   'name': 'Star Wars Collection',\n   'poster_path': '/iTQHKziZy9pAAY4hHEDCGPaOvFC.jpg',\n   'backdrop_path': '/d8duYyyC9J5T825Hg7grmaabfxQ.jpg'},\n  'runtime': 136},\n {'title': 'Avengers: Infinity War',\n  'id': 299536,\n  'revenue': 2046239637,\n  'genres': [{'id': 12, 'name': 'Adventure'},\n   {'id': 28, 'name': 'Action'},\n   {'id': 878, 'name': 'Science Fiction'}],\n  'belongs_to_collection': {'id': 86311,\n   'name': 'The Avengers Collection',\n   'poster_path': '/yFSIUVTCvgYrpalUktulvk3Gi5Y.jpg',\n   'backdrop_path': '/zuW6fOiusv4X9nnW3paHGfXcSll.jpg'},\n  'runtime': 149},\n {'title': 'Titanic',\n  'id': 597,\n  'revenue': 1845034188,\n  'genres': [{'id': 18, 'name': 'Drama'},\n   {'id': 10749, 'name': 'Romance'},\n   {'id': 53, 'name': 'Thriller'}],\n  'belongs_to_collection': None,\n  'runtime': 194},\n {'title': 'Jurassic World',\n  'id': 135397,\n  'revenue': 1671713208,\n  'genres': [{'id': 28, 'name': 'Action'},\n   {'id': 12, 'name': 'Adventure'},\n   {'id': 878, 'name': 'Science Fiction'},\n   {'id': 53, 'name': 'Thriller'}],\n  'belongs_to_collection': {'id': 328,\n   'name': 'Jurassic Park Collection',\n   'poster_path': '/qIm2nHXLpBBdMxi8dvfrnDkBUDh.jpg',\n   'backdrop_path': '/pJjIH9QN0OkHFV9eue6XfRVnPkr.jpg'},\n  'runtime': 124},\n {'title': 'The Lion King',\n  'id': 420818,\n  'revenue': 1656943394,\n  'genres': [{'id': 12, 'name': 'Adventure'}, {'id': 10751, 'name': 'Family'}],\n  'belongs_to_collection': None,\n  'runtime': 118},\n {'title': 'The Avengers',\n  'id': 24428,\n  'revenue': 1519557910,\n  'genres': [{'id': 878, 'name': 'Science Fiction'},\n   {'id': 28, 'name': 'Action'},\n   {'id': 12, 'name': 'Adventure'}],\n  'belongs_to_collection': {'id': 86311,\n   'name': 'The Avengers Collection',\n   'poster_path': '/yFSIUVTCvgYrpalUktulvk3Gi5Y.jpg',\n   'backdrop_path': '/zuW6fOiusv4X9nnW3paHGfXcSll.jpg'},\n  'runtime': 143},\n {'title': 'Furious 7',\n  'id': 168259,\n  'revenue': 1506249360,\n  'genres': [{'id': 28, 'name': 'Action'}, {'id': 53, 'name': 'Thriller'}],\n  'belongs_to_collection': {'id': 9485,\n   'name': 'The Fast and the Furious Collection',\n   'poster_path': '/uv63yAGg1zETAs1XQsOQpava87l.jpg',\n   'backdrop_path': '/z5A5W3WYJc3UVEWljSGwdjDgQ0j.jpg'},\n  'runtime': 137},\n {'title': 'Avengers: Age of Ultron',\n  'id': 99861,\n  'revenue': 1405403694,\n  'genres': [{'id': 28, 'name': 'Action'},\n   {'id': 12, 'name': 'Adventure'},\n   {'id': 878, 'name': 'Science Fiction'}],\n  'belongs_to_collection': {'id': 86311,\n   'name': 'The Avengers Collection',\n   'poster_path': '/yFSIUVTCvgYrpalUktulvk3Gi5Y.jpg',\n   'backdrop_path': '/zuW6fOiusv4X9nnW3paHGfXcSll.jpg'},\n  'runtime': 141},\n {'title': 'Black Panther',\n  'id': 284054,\n  'revenue': 1346739107,\n  'genres': [{'id': 28, 'name': 'Action'},\n   {'id': 12, 'name': 'Adventure'},\n   {'id': 14, 'name': 'Fantasy'},\n   {'id': 878, 'name': 'Science Fiction'}],\n  'belongs_to_collection': {'id': 529892,\n   'name': 'Black Panther Collection',\n   'poster_path': '/9ZSPIsxI3TZDgfg0Jzk0RZl4INg.jpg',\n   'backdrop_path': '/1Jj7Frjjbewb6Q6dl6YXhL3kuvL.jpg'},\n  'runtime': 134},\n {'title': 'Harry Potter and the Deathly Hallows: Part 2',\n  'id': 12445,\n  'revenue': 1341511219,\n  'genres': [{'id': 14, 'name': 'Fantasy'}, {'id': 12, 'name': 'Adventure'}],\n  'belongs_to_collection': {'id': 1241,\n   'name': 'Harry Potter Collection',\n   'poster_path': '/eVPs2Y0LyvTLZn6AP5Z6O2rtiGB.jpg',\n   'backdrop_path': '/wfnMt6LGqYHcNyOfsuusw5lX3bL.jpg'},\n  'runtime': 130},\n {'title': 'Star Wars: The Last Jedi',\n  'id': 181808,\n  'revenue': 1332539889,\n  'genres': [{'id': 14, 'name': 'Fantasy'},\n   {'id': 12, 'name': 'Adventure'},\n   {'id': 878, 'name': 'Science Fiction'},\n   {'id': 28, 'name': 'Action'}],\n  'belongs_to_collection': {'id': 10,\n   'name': 'Star Wars Collection',\n   'poster_path': '/iTQHKziZy9pAAY4hHEDCGPaOvFC.jpg',\n   'backdrop_path': '/d8duYyyC9J5T825Hg7grmaabfxQ.jpg'},\n  'runtime': 152},\n {'title': 'Frozen II',\n  'id': 330457,\n  'revenue': 1330764959,\n  'genres': [{'id': 16, 'name': 'Animation'},\n   {'id': 10751, 'name': 'Family'},\n   {'id': 12, 'name': 'Adventure'}],\n  'belongs_to_collection': {'id': 386382,\n   'name': 'Frozen Collection',\n   'poster_path': '/rpoXnE9UzCbjmINhxIi8bZF557B.jpg',\n   'backdrop_path': '/vZiqhw6oFoMlHSneIdVip9rRou2.jpg'},\n  'runtime': 104},\n {'title': 'Jurassic World: Fallen Kingdom',\n  'id': 351286,\n  'revenue': 1303459585,\n  'genres': [{'id': 28, 'name': 'Action'},\n   {'id': 12, 'name': 'Adventure'},\n   {'id': 878, 'name': 'Science Fiction'}],\n  'belongs_to_collection': {'id': 328,\n   'name': 'Jurassic Park Collection',\n   'poster_path': '/qIm2nHXLpBBdMxi8dvfrnDkBUDh.jpg',\n   'backdrop_path': '/pJjIH9QN0OkHFV9eue6XfRVnPkr.jpg'},\n  'runtime': 129},\n {'title': 'Frozen',\n  'id': 109445,\n  'revenue': 1274219009,\n  'genres': [{'id': 16, 'name': 'Animation'},\n   {'id': 12, 'name': 'Adventure'},\n   {'id': 10751, 'name': 'Family'}],\n  'belongs_to_collection': {'id': 386382,\n   'name': 'Frozen Collection',\n   'poster_path': '/rpoXnE9UzCbjmINhxIi8bZF557B.jpg',\n   'backdrop_path': '/vZiqhw6oFoMlHSneIdVip9rRou2.jpg'},\n  'runtime': 102},\n {'title': 'Beauty and the Beast',\n  'id': 321612,\n  'revenue': 1263521126,\n  'genres': [{'id': 10751, 'name': 'Family'},\n   {'id': 14, 'name': 'Fantasy'},\n   {'id': 10749, 'name': 'Romance'}],\n  'belongs_to_collection': None,\n  'runtime': 129},\n {'title': 'Incredibles 2',\n  'id': 260513,\n  'revenue': 1241891456,\n  'genres': [{'id': 28, 'name': 'Action'},\n   {'id': 12, 'name': 'Adventure'},\n   {'id': 16, 'name': 'Animation'},\n   {'id': 10751, 'name': 'Family'}],\n  'belongs_to_collection': {'id': 468222,\n   'name': 'The Incredibles Collection',\n   'poster_path': '/l7GqbzkJwowYRIXAtUz2iCPi64a.jpg',\n   'backdrop_path': '/9eDW2dVhnzPS2HvaRdK2OlAGaLq.jpg'},\n  'runtime': 118}]"
     },
     "execution_count": 3,
     "metadata": {},
     "output_type": "execute_result"
    }
   ],
   "source": [
    "data"
   ],
   "metadata": {
    "collapsed": false,
    "ExecuteTime": {
     "end_time": "2023-07-09T15:09:20.290262500Z",
     "start_time": "2023-07-09T15:09:20.266091800Z"
    }
   }
  },
  {
   "cell_type": "code",
   "execution_count": 4,
   "outputs": [
    {
     "data": {
      "text/plain": "list"
     },
     "execution_count": 4,
     "metadata": {},
     "output_type": "execute_result"
    }
   ],
   "source": [
    "type(data)"
   ],
   "metadata": {
    "collapsed": false,
    "ExecuteTime": {
     "end_time": "2023-07-09T15:09:20.408075300Z",
     "start_time": "2023-07-09T15:09:20.272686900Z"
    }
   }
  },
  {
   "cell_type": "code",
   "execution_count": 5,
   "outputs": [
    {
     "data": {
      "text/plain": "18"
     },
     "execution_count": 5,
     "metadata": {},
     "output_type": "execute_result"
    }
   ],
   "source": [
    "len(data)"
   ],
   "metadata": {
    "collapsed": false,
    "ExecuteTime": {
     "end_time": "2023-07-09T15:09:20.446978400Z",
     "start_time": "2023-07-09T15:09:20.290795Z"
    }
   }
  },
  {
   "cell_type": "code",
   "execution_count": 6,
   "outputs": [
    {
     "data": {
      "text/plain": "{'title': 'Avengers: Endgame',\n 'id': 299534,\n 'revenue': 2797800564,\n 'genres': [{'id': 12, 'name': 'Adventure'},\n  {'id': 878, 'name': 'Science Fiction'},\n  {'id': 28, 'name': 'Action'}],\n 'belongs_to_collection': {'id': 86311,\n  'name': 'The Avengers Collection',\n  'poster_path': '/yFSIUVTCvgYrpalUktulvk3Gi5Y.jpg',\n  'backdrop_path': '/zuW6fOiusv4X9nnW3paHGfXcSll.jpg'},\n 'runtime': 181}"
     },
     "execution_count": 6,
     "metadata": {},
     "output_type": "execute_result"
    }
   ],
   "source": [
    "data[0]"
   ],
   "metadata": {
    "collapsed": false,
    "ExecuteTime": {
     "end_time": "2023-07-09T15:09:20.447979300Z",
     "start_time": "2023-07-09T15:09:20.304473Z"
    }
   }
  },
  {
   "cell_type": "code",
   "execution_count": 7,
   "outputs": [
    {
     "data": {
      "text/plain": "                                           title      id     revenue  \\\n0                              Avengers: Endgame  299534  2797800564   \n1                                         Avatar   19995  2787965087   \n2                   Star Wars: The Force Awakens  140607  2068223624   \n3                         Avengers: Infinity War  299536  2046239637   \n4                                        Titanic     597  1845034188   \n5                                 Jurassic World  135397  1671713208   \n6                                  The Lion King  420818  1656943394   \n7                                   The Avengers   24428  1519557910   \n8                                      Furious 7  168259  1506249360   \n9                        Avengers: Age of Ultron   99861  1405403694   \n10                                 Black Panther  284054  1346739107   \n11  Harry Potter and the Deathly Hallows: Part 2   12445  1341511219   \n12                      Star Wars: The Last Jedi  181808  1332539889   \n13                                     Frozen II  330457  1330764959   \n14                Jurassic World: Fallen Kingdom  351286  1303459585   \n15                                        Frozen  109445  1274219009   \n16                          Beauty and the Beast  321612  1263521126   \n17                                 Incredibles 2  260513  1241891456   \n\n                                               genres  \\\n0   [{'id': 12, 'name': 'Adventure'}, {'id': 878, ...   \n1   [{'id': 28, 'name': 'Action'}, {'id': 12, 'nam...   \n2   [{'id': 28, 'name': 'Action'}, {'id': 12, 'nam...   \n3   [{'id': 12, 'name': 'Adventure'}, {'id': 28, '...   \n4   [{'id': 18, 'name': 'Drama'}, {'id': 10749, 'n...   \n5   [{'id': 28, 'name': 'Action'}, {'id': 12, 'nam...   \n6   [{'id': 12, 'name': 'Adventure'}, {'id': 10751...   \n7   [{'id': 878, 'name': 'Science Fiction'}, {'id'...   \n8   [{'id': 28, 'name': 'Action'}, {'id': 53, 'nam...   \n9   [{'id': 28, 'name': 'Action'}, {'id': 12, 'nam...   \n10  [{'id': 28, 'name': 'Action'}, {'id': 12, 'nam...   \n11  [{'id': 14, 'name': 'Fantasy'}, {'id': 12, 'na...   \n12  [{'id': 14, 'name': 'Fantasy'}, {'id': 12, 'na...   \n13  [{'id': 16, 'name': 'Animation'}, {'id': 10751...   \n14  [{'id': 28, 'name': 'Action'}, {'id': 12, 'nam...   \n15  [{'id': 16, 'name': 'Animation'}, {'id': 12, '...   \n16  [{'id': 10751, 'name': 'Family'}, {'id': 14, '...   \n17  [{'id': 28, 'name': 'Action'}, {'id': 12, 'nam...   \n\n                                belongs_to_collection  runtime  \n0   {'id': 86311, 'name': 'The Avengers Collection...      181  \n1   {'id': 87096, 'name': 'Avatar Collection', 'po...      162  \n2   {'id': 10, 'name': 'Star Wars Collection', 'po...      136  \n3   {'id': 86311, 'name': 'The Avengers Collection...      149  \n4                                                None      194  \n5   {'id': 328, 'name': 'Jurassic Park Collection'...      124  \n6                                                None      118  \n7   {'id': 86311, 'name': 'The Avengers Collection...      143  \n8   {'id': 9485, 'name': 'The Fast and the Furious...      137  \n9   {'id': 86311, 'name': 'The Avengers Collection...      141  \n10  {'id': 529892, 'name': 'Black Panther Collecti...      134  \n11  {'id': 1241, 'name': 'Harry Potter Collection'...      130  \n12  {'id': 10, 'name': 'Star Wars Collection', 'po...      152  \n13  {'id': 386382, 'name': 'Frozen Collection', 'p...      104  \n14  {'id': 328, 'name': 'Jurassic Park Collection'...      129  \n15  {'id': 386382, 'name': 'Frozen Collection', 'p...      102  \n16                                               None      129  \n17  {'id': 468222, 'name': 'The Incredibles Collec...      118  ",
      "text/html": "<div>\n<style scoped>\n    .dataframe tbody tr th:only-of-type {\n        vertical-align: middle;\n    }\n\n    .dataframe tbody tr th {\n        vertical-align: top;\n    }\n\n    .dataframe thead th {\n        text-align: right;\n    }\n</style>\n<table border=\"1\" class=\"dataframe\">\n  <thead>\n    <tr style=\"text-align: right;\">\n      <th></th>\n      <th>title</th>\n      <th>id</th>\n      <th>revenue</th>\n      <th>genres</th>\n      <th>belongs_to_collection</th>\n      <th>runtime</th>\n    </tr>\n  </thead>\n  <tbody>\n    <tr>\n      <th>0</th>\n      <td>Avengers: Endgame</td>\n      <td>299534</td>\n      <td>2797800564</td>\n      <td>[{'id': 12, 'name': 'Adventure'}, {'id': 878, ...</td>\n      <td>{'id': 86311, 'name': 'The Avengers Collection...</td>\n      <td>181</td>\n    </tr>\n    <tr>\n      <th>1</th>\n      <td>Avatar</td>\n      <td>19995</td>\n      <td>2787965087</td>\n      <td>[{'id': 28, 'name': 'Action'}, {'id': 12, 'nam...</td>\n      <td>{'id': 87096, 'name': 'Avatar Collection', 'po...</td>\n      <td>162</td>\n    </tr>\n    <tr>\n      <th>2</th>\n      <td>Star Wars: The Force Awakens</td>\n      <td>140607</td>\n      <td>2068223624</td>\n      <td>[{'id': 28, 'name': 'Action'}, {'id': 12, 'nam...</td>\n      <td>{'id': 10, 'name': 'Star Wars Collection', 'po...</td>\n      <td>136</td>\n    </tr>\n    <tr>\n      <th>3</th>\n      <td>Avengers: Infinity War</td>\n      <td>299536</td>\n      <td>2046239637</td>\n      <td>[{'id': 12, 'name': 'Adventure'}, {'id': 28, '...</td>\n      <td>{'id': 86311, 'name': 'The Avengers Collection...</td>\n      <td>149</td>\n    </tr>\n    <tr>\n      <th>4</th>\n      <td>Titanic</td>\n      <td>597</td>\n      <td>1845034188</td>\n      <td>[{'id': 18, 'name': 'Drama'}, {'id': 10749, 'n...</td>\n      <td>None</td>\n      <td>194</td>\n    </tr>\n    <tr>\n      <th>5</th>\n      <td>Jurassic World</td>\n      <td>135397</td>\n      <td>1671713208</td>\n      <td>[{'id': 28, 'name': 'Action'}, {'id': 12, 'nam...</td>\n      <td>{'id': 328, 'name': 'Jurassic Park Collection'...</td>\n      <td>124</td>\n    </tr>\n    <tr>\n      <th>6</th>\n      <td>The Lion King</td>\n      <td>420818</td>\n      <td>1656943394</td>\n      <td>[{'id': 12, 'name': 'Adventure'}, {'id': 10751...</td>\n      <td>None</td>\n      <td>118</td>\n    </tr>\n    <tr>\n      <th>7</th>\n      <td>The Avengers</td>\n      <td>24428</td>\n      <td>1519557910</td>\n      <td>[{'id': 878, 'name': 'Science Fiction'}, {'id'...</td>\n      <td>{'id': 86311, 'name': 'The Avengers Collection...</td>\n      <td>143</td>\n    </tr>\n    <tr>\n      <th>8</th>\n      <td>Furious 7</td>\n      <td>168259</td>\n      <td>1506249360</td>\n      <td>[{'id': 28, 'name': 'Action'}, {'id': 53, 'nam...</td>\n      <td>{'id': 9485, 'name': 'The Fast and the Furious...</td>\n      <td>137</td>\n    </tr>\n    <tr>\n      <th>9</th>\n      <td>Avengers: Age of Ultron</td>\n      <td>99861</td>\n      <td>1405403694</td>\n      <td>[{'id': 28, 'name': 'Action'}, {'id': 12, 'nam...</td>\n      <td>{'id': 86311, 'name': 'The Avengers Collection...</td>\n      <td>141</td>\n    </tr>\n    <tr>\n      <th>10</th>\n      <td>Black Panther</td>\n      <td>284054</td>\n      <td>1346739107</td>\n      <td>[{'id': 28, 'name': 'Action'}, {'id': 12, 'nam...</td>\n      <td>{'id': 529892, 'name': 'Black Panther Collecti...</td>\n      <td>134</td>\n    </tr>\n    <tr>\n      <th>11</th>\n      <td>Harry Potter and the Deathly Hallows: Part 2</td>\n      <td>12445</td>\n      <td>1341511219</td>\n      <td>[{'id': 14, 'name': 'Fantasy'}, {'id': 12, 'na...</td>\n      <td>{'id': 1241, 'name': 'Harry Potter Collection'...</td>\n      <td>130</td>\n    </tr>\n    <tr>\n      <th>12</th>\n      <td>Star Wars: The Last Jedi</td>\n      <td>181808</td>\n      <td>1332539889</td>\n      <td>[{'id': 14, 'name': 'Fantasy'}, {'id': 12, 'na...</td>\n      <td>{'id': 10, 'name': 'Star Wars Collection', 'po...</td>\n      <td>152</td>\n    </tr>\n    <tr>\n      <th>13</th>\n      <td>Frozen II</td>\n      <td>330457</td>\n      <td>1330764959</td>\n      <td>[{'id': 16, 'name': 'Animation'}, {'id': 10751...</td>\n      <td>{'id': 386382, 'name': 'Frozen Collection', 'p...</td>\n      <td>104</td>\n    </tr>\n    <tr>\n      <th>14</th>\n      <td>Jurassic World: Fallen Kingdom</td>\n      <td>351286</td>\n      <td>1303459585</td>\n      <td>[{'id': 28, 'name': 'Action'}, {'id': 12, 'nam...</td>\n      <td>{'id': 328, 'name': 'Jurassic Park Collection'...</td>\n      <td>129</td>\n    </tr>\n    <tr>\n      <th>15</th>\n      <td>Frozen</td>\n      <td>109445</td>\n      <td>1274219009</td>\n      <td>[{'id': 16, 'name': 'Animation'}, {'id': 12, '...</td>\n      <td>{'id': 386382, 'name': 'Frozen Collection', 'p...</td>\n      <td>102</td>\n    </tr>\n    <tr>\n      <th>16</th>\n      <td>Beauty and the Beast</td>\n      <td>321612</td>\n      <td>1263521126</td>\n      <td>[{'id': 10751, 'name': 'Family'}, {'id': 14, '...</td>\n      <td>None</td>\n      <td>129</td>\n    </tr>\n    <tr>\n      <th>17</th>\n      <td>Incredibles 2</td>\n      <td>260513</td>\n      <td>1241891456</td>\n      <td>[{'id': 28, 'name': 'Action'}, {'id': 12, 'nam...</td>\n      <td>{'id': 468222, 'name': 'The Incredibles Collec...</td>\n      <td>118</td>\n    </tr>\n  </tbody>\n</table>\n</div>"
     },
     "execution_count": 7,
     "metadata": {},
     "output_type": "execute_result"
    }
   ],
   "source": [
    "df = pd.DataFrame(data)\n",
    "df"
   ],
   "metadata": {
    "collapsed": false,
    "ExecuteTime": {
     "end_time": "2023-07-09T15:09:20.448980300Z",
     "start_time": "2023-07-09T15:09:20.324307900Z"
    }
   }
  },
  {
   "cell_type": "code",
   "execution_count": 8,
   "outputs": [
    {
     "data": {
      "text/plain": "                                           title      id     revenue  \\\n0                              Avengers: Endgame  299534  2797800564   \n1                                         Avatar   19995  2787965087   \n2                   Star Wars: The Force Awakens  140607  2068223624   \n3                         Avengers: Infinity War  299536  2046239637   \n4                                        Titanic     597  1845034188   \n5                                 Jurassic World  135397  1671713208   \n6                                  The Lion King  420818  1656943394   \n7                                   The Avengers   24428  1519557910   \n8                                      Furious 7  168259  1506249360   \n9                        Avengers: Age of Ultron   99861  1405403694   \n10                                 Black Panther  284054  1346739107   \n11  Harry Potter and the Deathly Hallows: Part 2   12445  1341511219   \n12                      Star Wars: The Last Jedi  181808  1332539889   \n13                                     Frozen II  330457  1330764959   \n14                Jurassic World: Fallen Kingdom  351286  1303459585   \n15                                        Frozen  109445  1274219009   \n16                          Beauty and the Beast  321612  1263521126   \n17                                 Incredibles 2  260513  1241891456   \n\n                                               genres  \\\n0   [{'id': 12, 'name': 'Adventure'}, {'id': 878, ...   \n1   [{'id': 28, 'name': 'Action'}, {'id': 12, 'nam...   \n2   [{'id': 28, 'name': 'Action'}, {'id': 12, 'nam...   \n3   [{'id': 12, 'name': 'Adventure'}, {'id': 28, '...   \n4   [{'id': 18, 'name': 'Drama'}, {'id': 10749, 'n...   \n5   [{'id': 28, 'name': 'Action'}, {'id': 12, 'nam...   \n6   [{'id': 12, 'name': 'Adventure'}, {'id': 10751...   \n7   [{'id': 878, 'name': 'Science Fiction'}, {'id'...   \n8   [{'id': 28, 'name': 'Action'}, {'id': 53, 'nam...   \n9   [{'id': 28, 'name': 'Action'}, {'id': 12, 'nam...   \n10  [{'id': 28, 'name': 'Action'}, {'id': 12, 'nam...   \n11  [{'id': 14, 'name': 'Fantasy'}, {'id': 12, 'na...   \n12  [{'id': 14, 'name': 'Fantasy'}, {'id': 12, 'na...   \n13  [{'id': 16, 'name': 'Animation'}, {'id': 10751...   \n14  [{'id': 28, 'name': 'Action'}, {'id': 12, 'nam...   \n15  [{'id': 16, 'name': 'Animation'}, {'id': 12, '...   \n16  [{'id': 10751, 'name': 'Family'}, {'id': 14, '...   \n17  [{'id': 28, 'name': 'Action'}, {'id': 12, 'nam...   \n\n                                belongs_to_collection  runtime  \n0   {'id': 86311, 'name': 'The Avengers Collection...      181  \n1   {'id': 87096, 'name': 'Avatar Collection', 'po...      162  \n2   {'id': 10, 'name': 'Star Wars Collection', 'po...      136  \n3   {'id': 86311, 'name': 'The Avengers Collection...      149  \n4                                                None      194  \n5   {'id': 328, 'name': 'Jurassic Park Collection'...      124  \n6                                                None      118  \n7   {'id': 86311, 'name': 'The Avengers Collection...      143  \n8   {'id': 9485, 'name': 'The Fast and the Furious...      137  \n9   {'id': 86311, 'name': 'The Avengers Collection...      141  \n10  {'id': 529892, 'name': 'Black Panther Collecti...      134  \n11  {'id': 1241, 'name': 'Harry Potter Collection'...      130  \n12  {'id': 10, 'name': 'Star Wars Collection', 'po...      152  \n13  {'id': 386382, 'name': 'Frozen Collection', 'p...      104  \n14  {'id': 328, 'name': 'Jurassic Park Collection'...      129  \n15  {'id': 386382, 'name': 'Frozen Collection', 'p...      102  \n16                                               None      129  \n17  {'id': 468222, 'name': 'The Incredibles Collec...      118  ",
      "text/html": "<div>\n<style scoped>\n    .dataframe tbody tr th:only-of-type {\n        vertical-align: middle;\n    }\n\n    .dataframe tbody tr th {\n        vertical-align: top;\n    }\n\n    .dataframe thead th {\n        text-align: right;\n    }\n</style>\n<table border=\"1\" class=\"dataframe\">\n  <thead>\n    <tr style=\"text-align: right;\">\n      <th></th>\n      <th>title</th>\n      <th>id</th>\n      <th>revenue</th>\n      <th>genres</th>\n      <th>belongs_to_collection</th>\n      <th>runtime</th>\n    </tr>\n  </thead>\n  <tbody>\n    <tr>\n      <th>0</th>\n      <td>Avengers: Endgame</td>\n      <td>299534</td>\n      <td>2797800564</td>\n      <td>[{'id': 12, 'name': 'Adventure'}, {'id': 878, ...</td>\n      <td>{'id': 86311, 'name': 'The Avengers Collection...</td>\n      <td>181</td>\n    </tr>\n    <tr>\n      <th>1</th>\n      <td>Avatar</td>\n      <td>19995</td>\n      <td>2787965087</td>\n      <td>[{'id': 28, 'name': 'Action'}, {'id': 12, 'nam...</td>\n      <td>{'id': 87096, 'name': 'Avatar Collection', 'po...</td>\n      <td>162</td>\n    </tr>\n    <tr>\n      <th>2</th>\n      <td>Star Wars: The Force Awakens</td>\n      <td>140607</td>\n      <td>2068223624</td>\n      <td>[{'id': 28, 'name': 'Action'}, {'id': 12, 'nam...</td>\n      <td>{'id': 10, 'name': 'Star Wars Collection', 'po...</td>\n      <td>136</td>\n    </tr>\n    <tr>\n      <th>3</th>\n      <td>Avengers: Infinity War</td>\n      <td>299536</td>\n      <td>2046239637</td>\n      <td>[{'id': 12, 'name': 'Adventure'}, {'id': 28, '...</td>\n      <td>{'id': 86311, 'name': 'The Avengers Collection...</td>\n      <td>149</td>\n    </tr>\n    <tr>\n      <th>4</th>\n      <td>Titanic</td>\n      <td>597</td>\n      <td>1845034188</td>\n      <td>[{'id': 18, 'name': 'Drama'}, {'id': 10749, 'n...</td>\n      <td>None</td>\n      <td>194</td>\n    </tr>\n    <tr>\n      <th>5</th>\n      <td>Jurassic World</td>\n      <td>135397</td>\n      <td>1671713208</td>\n      <td>[{'id': 28, 'name': 'Action'}, {'id': 12, 'nam...</td>\n      <td>{'id': 328, 'name': 'Jurassic Park Collection'...</td>\n      <td>124</td>\n    </tr>\n    <tr>\n      <th>6</th>\n      <td>The Lion King</td>\n      <td>420818</td>\n      <td>1656943394</td>\n      <td>[{'id': 12, 'name': 'Adventure'}, {'id': 10751...</td>\n      <td>None</td>\n      <td>118</td>\n    </tr>\n    <tr>\n      <th>7</th>\n      <td>The Avengers</td>\n      <td>24428</td>\n      <td>1519557910</td>\n      <td>[{'id': 878, 'name': 'Science Fiction'}, {'id'...</td>\n      <td>{'id': 86311, 'name': 'The Avengers Collection...</td>\n      <td>143</td>\n    </tr>\n    <tr>\n      <th>8</th>\n      <td>Furious 7</td>\n      <td>168259</td>\n      <td>1506249360</td>\n      <td>[{'id': 28, 'name': 'Action'}, {'id': 53, 'nam...</td>\n      <td>{'id': 9485, 'name': 'The Fast and the Furious...</td>\n      <td>137</td>\n    </tr>\n    <tr>\n      <th>9</th>\n      <td>Avengers: Age of Ultron</td>\n      <td>99861</td>\n      <td>1405403694</td>\n      <td>[{'id': 28, 'name': 'Action'}, {'id': 12, 'nam...</td>\n      <td>{'id': 86311, 'name': 'The Avengers Collection...</td>\n      <td>141</td>\n    </tr>\n    <tr>\n      <th>10</th>\n      <td>Black Panther</td>\n      <td>284054</td>\n      <td>1346739107</td>\n      <td>[{'id': 28, 'name': 'Action'}, {'id': 12, 'nam...</td>\n      <td>{'id': 529892, 'name': 'Black Panther Collecti...</td>\n      <td>134</td>\n    </tr>\n    <tr>\n      <th>11</th>\n      <td>Harry Potter and the Deathly Hallows: Part 2</td>\n      <td>12445</td>\n      <td>1341511219</td>\n      <td>[{'id': 14, 'name': 'Fantasy'}, {'id': 12, 'na...</td>\n      <td>{'id': 1241, 'name': 'Harry Potter Collection'...</td>\n      <td>130</td>\n    </tr>\n    <tr>\n      <th>12</th>\n      <td>Star Wars: The Last Jedi</td>\n      <td>181808</td>\n      <td>1332539889</td>\n      <td>[{'id': 14, 'name': 'Fantasy'}, {'id': 12, 'na...</td>\n      <td>{'id': 10, 'name': 'Star Wars Collection', 'po...</td>\n      <td>152</td>\n    </tr>\n    <tr>\n      <th>13</th>\n      <td>Frozen II</td>\n      <td>330457</td>\n      <td>1330764959</td>\n      <td>[{'id': 16, 'name': 'Animation'}, {'id': 10751...</td>\n      <td>{'id': 386382, 'name': 'Frozen Collection', 'p...</td>\n      <td>104</td>\n    </tr>\n    <tr>\n      <th>14</th>\n      <td>Jurassic World: Fallen Kingdom</td>\n      <td>351286</td>\n      <td>1303459585</td>\n      <td>[{'id': 28, 'name': 'Action'}, {'id': 12, 'nam...</td>\n      <td>{'id': 328, 'name': 'Jurassic Park Collection'...</td>\n      <td>129</td>\n    </tr>\n    <tr>\n      <th>15</th>\n      <td>Frozen</td>\n      <td>109445</td>\n      <td>1274219009</td>\n      <td>[{'id': 16, 'name': 'Animation'}, {'id': 12, '...</td>\n      <td>{'id': 386382, 'name': 'Frozen Collection', 'p...</td>\n      <td>102</td>\n    </tr>\n    <tr>\n      <th>16</th>\n      <td>Beauty and the Beast</td>\n      <td>321612</td>\n      <td>1263521126</td>\n      <td>[{'id': 10751, 'name': 'Family'}, {'id': 14, '...</td>\n      <td>None</td>\n      <td>129</td>\n    </tr>\n    <tr>\n      <th>17</th>\n      <td>Incredibles 2</td>\n      <td>260513</td>\n      <td>1241891456</td>\n      <td>[{'id': 28, 'name': 'Action'}, {'id': 12, 'nam...</td>\n      <td>{'id': 468222, 'name': 'The Incredibles Collec...</td>\n      <td>118</td>\n    </tr>\n  </tbody>\n</table>\n</div>"
     },
     "execution_count": 8,
     "metadata": {},
     "output_type": "execute_result"
    }
   ],
   "source": [
    "df = pd.read_json('blockbusters.json')\n",
    "df"
   ],
   "metadata": {
    "collapsed": false,
    "ExecuteTime": {
     "end_time": "2023-07-09T15:09:20.484328800Z",
     "start_time": "2023-07-09T15:09:20.379729500Z"
    }
   }
  },
  {
   "cell_type": "code",
   "execution_count": 9,
   "outputs": [
    {
     "name": "stdout",
     "output_type": "stream",
     "text": [
      "<class 'pandas.core.frame.DataFrame'>\n",
      "RangeIndex: 18 entries, 0 to 17\n",
      "Data columns (total 6 columns):\n",
      " #   Column                 Non-Null Count  Dtype \n",
      "---  ------                 --------------  ----- \n",
      " 0   title                  18 non-null     object\n",
      " 1   id                     18 non-null     int64 \n",
      " 2   revenue                18 non-null     int64 \n",
      " 3   genres                 18 non-null     object\n",
      " 4   belongs_to_collection  15 non-null     object\n",
      " 5   runtime                18 non-null     int64 \n",
      "dtypes: int64(3), object(3)\n",
      "memory usage: 992.0+ bytes\n"
     ]
    }
   ],
   "source": [
    "df.info()"
   ],
   "metadata": {
    "collapsed": false,
    "ExecuteTime": {
     "end_time": "2023-07-09T15:09:20.563993800Z",
     "start_time": "2023-07-09T15:09:20.437934200Z"
    }
   }
  },
  {
   "cell_type": "code",
   "execution_count": 10,
   "outputs": [
    {
     "data": {
      "text/plain": "[{'id': 12, 'name': 'Adventure'},\n {'id': 878, 'name': 'Science Fiction'},\n {'id': 28, 'name': 'Action'}]"
     },
     "execution_count": 10,
     "metadata": {},
     "output_type": "execute_result"
    }
   ],
   "source": [
    "df.genres[0]"
   ],
   "metadata": {
    "collapsed": false,
    "ExecuteTime": {
     "end_time": "2023-07-09T15:09:20.565511200Z",
     "start_time": "2023-07-09T15:09:20.459512500Z"
    }
   }
  },
  {
   "cell_type": "code",
   "execution_count": 11,
   "outputs": [
    {
     "data": {
      "text/plain": "{'id': 86311,\n 'name': 'The Avengers Collection',\n 'poster_path': '/yFSIUVTCvgYrpalUktulvk3Gi5Y.jpg',\n 'backdrop_path': '/zuW6fOiusv4X9nnW3paHGfXcSll.jpg'}"
     },
     "execution_count": 11,
     "metadata": {},
     "output_type": "execute_result"
    }
   ],
   "source": [
    "df.belongs_to_collection[0]"
   ],
   "metadata": {
    "collapsed": false,
    "ExecuteTime": {
     "end_time": "2023-07-09T15:09:20.580046400Z",
     "start_time": "2023-07-09T15:09:20.473727200Z"
    }
   }
  },
  {
   "cell_type": "code",
   "execution_count": 12,
   "outputs": [
    {
     "data": {
      "text/plain": "                                           title      id     revenue  \\\n0                              Avengers: Endgame  299534  2797800564   \n1                                         Avatar   19995  2787965087   \n2                   Star Wars: The Force Awakens  140607  2068223624   \n3                         Avengers: Infinity War  299536  2046239637   \n4                                        Titanic     597  1845034188   \n5                                 Jurassic World  135397  1671713208   \n6                                  The Lion King  420818  1656943394   \n7                                   The Avengers   24428  1519557910   \n8                                      Furious 7  168259  1506249360   \n9                        Avengers: Age of Ultron   99861  1405403694   \n10                                 Black Panther  284054  1346739107   \n11  Harry Potter and the Deathly Hallows: Part 2   12445  1341511219   \n12                      Star Wars: The Last Jedi  181808  1332539889   \n13                                     Frozen II  330457  1330764959   \n14                Jurassic World: Fallen Kingdom  351286  1303459585   \n15                                        Frozen  109445  1274219009   \n16                          Beauty and the Beast  321612  1263521126   \n17                                 Incredibles 2  260513  1241891456   \n\n                                               genres  runtime  \\\n0   [{'id': 12, 'name': 'Adventure'}, {'id': 878, ...      181   \n1   [{'id': 28, 'name': 'Action'}, {'id': 12, 'nam...      162   \n2   [{'id': 28, 'name': 'Action'}, {'id': 12, 'nam...      136   \n3   [{'id': 12, 'name': 'Adventure'}, {'id': 28, '...      149   \n4   [{'id': 18, 'name': 'Drama'}, {'id': 10749, 'n...      194   \n5   [{'id': 28, 'name': 'Action'}, {'id': 12, 'nam...      124   \n6   [{'id': 12, 'name': 'Adventure'}, {'id': 10751...      118   \n7   [{'id': 878, 'name': 'Science Fiction'}, {'id'...      143   \n8   [{'id': 28, 'name': 'Action'}, {'id': 53, 'nam...      137   \n9   [{'id': 28, 'name': 'Action'}, {'id': 12, 'nam...      141   \n10  [{'id': 28, 'name': 'Action'}, {'id': 12, 'nam...      134   \n11  [{'id': 14, 'name': 'Fantasy'}, {'id': 12, 'na...      130   \n12  [{'id': 14, 'name': 'Fantasy'}, {'id': 12, 'na...      152   \n13  [{'id': 16, 'name': 'Animation'}, {'id': 10751...      104   \n14  [{'id': 28, 'name': 'Action'}, {'id': 12, 'nam...      129   \n15  [{'id': 16, 'name': 'Animation'}, {'id': 12, '...      102   \n16  [{'id': 10751, 'name': 'Family'}, {'id': 14, '...      129   \n17  [{'id': 28, 'name': 'Action'}, {'id': 12, 'nam...      118   \n\n    belongs_to_collection_id           belongs_to_collection_name  \\\n0                    86311.0              The Avengers Collection   \n1                    87096.0                    Avatar Collection   \n2                       10.0                 Star Wars Collection   \n3                    86311.0              The Avengers Collection   \n4                        NaN                                  NaN   \n5                      328.0             Jurassic Park Collection   \n6                        NaN                                  NaN   \n7                    86311.0              The Avengers Collection   \n8                     9485.0  The Fast and the Furious Collection   \n9                    86311.0              The Avengers Collection   \n10                  529892.0             Black Panther Collection   \n11                    1241.0              Harry Potter Collection   \n12                      10.0                 Star Wars Collection   \n13                  386382.0                    Frozen Collection   \n14                     328.0             Jurassic Park Collection   \n15                  386382.0                    Frozen Collection   \n16                       NaN                                  NaN   \n17                  468222.0           The Incredibles Collection   \n\n   belongs_to_collection_poster_path belongs_to_collection_backdrop_path  \\\n0   /yFSIUVTCvgYrpalUktulvk3Gi5Y.jpg    /zuW6fOiusv4X9nnW3paHGfXcSll.jpg   \n1   /nslJVsO58Etqkk17oXMuVK4gNOF.jpg    /8nCr9W7sKus2q9PLbYsnT7iCkuT.jpg   \n2   /iTQHKziZy9pAAY4hHEDCGPaOvFC.jpg    /d8duYyyC9J5T825Hg7grmaabfxQ.jpg   \n3   /yFSIUVTCvgYrpalUktulvk3Gi5Y.jpg    /zuW6fOiusv4X9nnW3paHGfXcSll.jpg   \n4                                NaN                                 NaN   \n5   /qIm2nHXLpBBdMxi8dvfrnDkBUDh.jpg    /pJjIH9QN0OkHFV9eue6XfRVnPkr.jpg   \n6                                NaN                                 NaN   \n7   /yFSIUVTCvgYrpalUktulvk3Gi5Y.jpg    /zuW6fOiusv4X9nnW3paHGfXcSll.jpg   \n8   /uv63yAGg1zETAs1XQsOQpava87l.jpg    /z5A5W3WYJc3UVEWljSGwdjDgQ0j.jpg   \n9   /yFSIUVTCvgYrpalUktulvk3Gi5Y.jpg    /zuW6fOiusv4X9nnW3paHGfXcSll.jpg   \n10  /9ZSPIsxI3TZDgfg0Jzk0RZl4INg.jpg    /1Jj7Frjjbewb6Q6dl6YXhL3kuvL.jpg   \n11  /eVPs2Y0LyvTLZn6AP5Z6O2rtiGB.jpg    /wfnMt6LGqYHcNyOfsuusw5lX3bL.jpg   \n12  /iTQHKziZy9pAAY4hHEDCGPaOvFC.jpg    /d8duYyyC9J5T825Hg7grmaabfxQ.jpg   \n13  /rpoXnE9UzCbjmINhxIi8bZF557B.jpg    /vZiqhw6oFoMlHSneIdVip9rRou2.jpg   \n14  /qIm2nHXLpBBdMxi8dvfrnDkBUDh.jpg    /pJjIH9QN0OkHFV9eue6XfRVnPkr.jpg   \n15  /rpoXnE9UzCbjmINhxIi8bZF557B.jpg    /vZiqhw6oFoMlHSneIdVip9rRou2.jpg   \n16                               NaN                                 NaN   \n17  /l7GqbzkJwowYRIXAtUz2iCPi64a.jpg    /9eDW2dVhnzPS2HvaRdK2OlAGaLq.jpg   \n\n    belongs_to_collection  \n0                     NaN  \n1                     NaN  \n2                     NaN  \n3                     NaN  \n4                     NaN  \n5                     NaN  \n6                     NaN  \n7                     NaN  \n8                     NaN  \n9                     NaN  \n10                    NaN  \n11                    NaN  \n12                    NaN  \n13                    NaN  \n14                    NaN  \n15                    NaN  \n16                    NaN  \n17                    NaN  ",
      "text/html": "<div>\n<style scoped>\n    .dataframe tbody tr th:only-of-type {\n        vertical-align: middle;\n    }\n\n    .dataframe tbody tr th {\n        vertical-align: top;\n    }\n\n    .dataframe thead th {\n        text-align: right;\n    }\n</style>\n<table border=\"1\" class=\"dataframe\">\n  <thead>\n    <tr style=\"text-align: right;\">\n      <th></th>\n      <th>title</th>\n      <th>id</th>\n      <th>revenue</th>\n      <th>genres</th>\n      <th>runtime</th>\n      <th>belongs_to_collection_id</th>\n      <th>belongs_to_collection_name</th>\n      <th>belongs_to_collection_poster_path</th>\n      <th>belongs_to_collection_backdrop_path</th>\n      <th>belongs_to_collection</th>\n    </tr>\n  </thead>\n  <tbody>\n    <tr>\n      <th>0</th>\n      <td>Avengers: Endgame</td>\n      <td>299534</td>\n      <td>2797800564</td>\n      <td>[{'id': 12, 'name': 'Adventure'}, {'id': 878, ...</td>\n      <td>181</td>\n      <td>86311.0</td>\n      <td>The Avengers Collection</td>\n      <td>/yFSIUVTCvgYrpalUktulvk3Gi5Y.jpg</td>\n      <td>/zuW6fOiusv4X9nnW3paHGfXcSll.jpg</td>\n      <td>NaN</td>\n    </tr>\n    <tr>\n      <th>1</th>\n      <td>Avatar</td>\n      <td>19995</td>\n      <td>2787965087</td>\n      <td>[{'id': 28, 'name': 'Action'}, {'id': 12, 'nam...</td>\n      <td>162</td>\n      <td>87096.0</td>\n      <td>Avatar Collection</td>\n      <td>/nslJVsO58Etqkk17oXMuVK4gNOF.jpg</td>\n      <td>/8nCr9W7sKus2q9PLbYsnT7iCkuT.jpg</td>\n      <td>NaN</td>\n    </tr>\n    <tr>\n      <th>2</th>\n      <td>Star Wars: The Force Awakens</td>\n      <td>140607</td>\n      <td>2068223624</td>\n      <td>[{'id': 28, 'name': 'Action'}, {'id': 12, 'nam...</td>\n      <td>136</td>\n      <td>10.0</td>\n      <td>Star Wars Collection</td>\n      <td>/iTQHKziZy9pAAY4hHEDCGPaOvFC.jpg</td>\n      <td>/d8duYyyC9J5T825Hg7grmaabfxQ.jpg</td>\n      <td>NaN</td>\n    </tr>\n    <tr>\n      <th>3</th>\n      <td>Avengers: Infinity War</td>\n      <td>299536</td>\n      <td>2046239637</td>\n      <td>[{'id': 12, 'name': 'Adventure'}, {'id': 28, '...</td>\n      <td>149</td>\n      <td>86311.0</td>\n      <td>The Avengers Collection</td>\n      <td>/yFSIUVTCvgYrpalUktulvk3Gi5Y.jpg</td>\n      <td>/zuW6fOiusv4X9nnW3paHGfXcSll.jpg</td>\n      <td>NaN</td>\n    </tr>\n    <tr>\n      <th>4</th>\n      <td>Titanic</td>\n      <td>597</td>\n      <td>1845034188</td>\n      <td>[{'id': 18, 'name': 'Drama'}, {'id': 10749, 'n...</td>\n      <td>194</td>\n      <td>NaN</td>\n      <td>NaN</td>\n      <td>NaN</td>\n      <td>NaN</td>\n      <td>NaN</td>\n    </tr>\n    <tr>\n      <th>5</th>\n      <td>Jurassic World</td>\n      <td>135397</td>\n      <td>1671713208</td>\n      <td>[{'id': 28, 'name': 'Action'}, {'id': 12, 'nam...</td>\n      <td>124</td>\n      <td>328.0</td>\n      <td>Jurassic Park Collection</td>\n      <td>/qIm2nHXLpBBdMxi8dvfrnDkBUDh.jpg</td>\n      <td>/pJjIH9QN0OkHFV9eue6XfRVnPkr.jpg</td>\n      <td>NaN</td>\n    </tr>\n    <tr>\n      <th>6</th>\n      <td>The Lion King</td>\n      <td>420818</td>\n      <td>1656943394</td>\n      <td>[{'id': 12, 'name': 'Adventure'}, {'id': 10751...</td>\n      <td>118</td>\n      <td>NaN</td>\n      <td>NaN</td>\n      <td>NaN</td>\n      <td>NaN</td>\n      <td>NaN</td>\n    </tr>\n    <tr>\n      <th>7</th>\n      <td>The Avengers</td>\n      <td>24428</td>\n      <td>1519557910</td>\n      <td>[{'id': 878, 'name': 'Science Fiction'}, {'id'...</td>\n      <td>143</td>\n      <td>86311.0</td>\n      <td>The Avengers Collection</td>\n      <td>/yFSIUVTCvgYrpalUktulvk3Gi5Y.jpg</td>\n      <td>/zuW6fOiusv4X9nnW3paHGfXcSll.jpg</td>\n      <td>NaN</td>\n    </tr>\n    <tr>\n      <th>8</th>\n      <td>Furious 7</td>\n      <td>168259</td>\n      <td>1506249360</td>\n      <td>[{'id': 28, 'name': 'Action'}, {'id': 53, 'nam...</td>\n      <td>137</td>\n      <td>9485.0</td>\n      <td>The Fast and the Furious Collection</td>\n      <td>/uv63yAGg1zETAs1XQsOQpava87l.jpg</td>\n      <td>/z5A5W3WYJc3UVEWljSGwdjDgQ0j.jpg</td>\n      <td>NaN</td>\n    </tr>\n    <tr>\n      <th>9</th>\n      <td>Avengers: Age of Ultron</td>\n      <td>99861</td>\n      <td>1405403694</td>\n      <td>[{'id': 28, 'name': 'Action'}, {'id': 12, 'nam...</td>\n      <td>141</td>\n      <td>86311.0</td>\n      <td>The Avengers Collection</td>\n      <td>/yFSIUVTCvgYrpalUktulvk3Gi5Y.jpg</td>\n      <td>/zuW6fOiusv4X9nnW3paHGfXcSll.jpg</td>\n      <td>NaN</td>\n    </tr>\n    <tr>\n      <th>10</th>\n      <td>Black Panther</td>\n      <td>284054</td>\n      <td>1346739107</td>\n      <td>[{'id': 28, 'name': 'Action'}, {'id': 12, 'nam...</td>\n      <td>134</td>\n      <td>529892.0</td>\n      <td>Black Panther Collection</td>\n      <td>/9ZSPIsxI3TZDgfg0Jzk0RZl4INg.jpg</td>\n      <td>/1Jj7Frjjbewb6Q6dl6YXhL3kuvL.jpg</td>\n      <td>NaN</td>\n    </tr>\n    <tr>\n      <th>11</th>\n      <td>Harry Potter and the Deathly Hallows: Part 2</td>\n      <td>12445</td>\n      <td>1341511219</td>\n      <td>[{'id': 14, 'name': 'Fantasy'}, {'id': 12, 'na...</td>\n      <td>130</td>\n      <td>1241.0</td>\n      <td>Harry Potter Collection</td>\n      <td>/eVPs2Y0LyvTLZn6AP5Z6O2rtiGB.jpg</td>\n      <td>/wfnMt6LGqYHcNyOfsuusw5lX3bL.jpg</td>\n      <td>NaN</td>\n    </tr>\n    <tr>\n      <th>12</th>\n      <td>Star Wars: The Last Jedi</td>\n      <td>181808</td>\n      <td>1332539889</td>\n      <td>[{'id': 14, 'name': 'Fantasy'}, {'id': 12, 'na...</td>\n      <td>152</td>\n      <td>10.0</td>\n      <td>Star Wars Collection</td>\n      <td>/iTQHKziZy9pAAY4hHEDCGPaOvFC.jpg</td>\n      <td>/d8duYyyC9J5T825Hg7grmaabfxQ.jpg</td>\n      <td>NaN</td>\n    </tr>\n    <tr>\n      <th>13</th>\n      <td>Frozen II</td>\n      <td>330457</td>\n      <td>1330764959</td>\n      <td>[{'id': 16, 'name': 'Animation'}, {'id': 10751...</td>\n      <td>104</td>\n      <td>386382.0</td>\n      <td>Frozen Collection</td>\n      <td>/rpoXnE9UzCbjmINhxIi8bZF557B.jpg</td>\n      <td>/vZiqhw6oFoMlHSneIdVip9rRou2.jpg</td>\n      <td>NaN</td>\n    </tr>\n    <tr>\n      <th>14</th>\n      <td>Jurassic World: Fallen Kingdom</td>\n      <td>351286</td>\n      <td>1303459585</td>\n      <td>[{'id': 28, 'name': 'Action'}, {'id': 12, 'nam...</td>\n      <td>129</td>\n      <td>328.0</td>\n      <td>Jurassic Park Collection</td>\n      <td>/qIm2nHXLpBBdMxi8dvfrnDkBUDh.jpg</td>\n      <td>/pJjIH9QN0OkHFV9eue6XfRVnPkr.jpg</td>\n      <td>NaN</td>\n    </tr>\n    <tr>\n      <th>15</th>\n      <td>Frozen</td>\n      <td>109445</td>\n      <td>1274219009</td>\n      <td>[{'id': 16, 'name': 'Animation'}, {'id': 12, '...</td>\n      <td>102</td>\n      <td>386382.0</td>\n      <td>Frozen Collection</td>\n      <td>/rpoXnE9UzCbjmINhxIi8bZF557B.jpg</td>\n      <td>/vZiqhw6oFoMlHSneIdVip9rRou2.jpg</td>\n      <td>NaN</td>\n    </tr>\n    <tr>\n      <th>16</th>\n      <td>Beauty and the Beast</td>\n      <td>321612</td>\n      <td>1263521126</td>\n      <td>[{'id': 10751, 'name': 'Family'}, {'id': 14, '...</td>\n      <td>129</td>\n      <td>NaN</td>\n      <td>NaN</td>\n      <td>NaN</td>\n      <td>NaN</td>\n      <td>NaN</td>\n    </tr>\n    <tr>\n      <th>17</th>\n      <td>Incredibles 2</td>\n      <td>260513</td>\n      <td>1241891456</td>\n      <td>[{'id': 28, 'name': 'Action'}, {'id': 12, 'nam...</td>\n      <td>118</td>\n      <td>468222.0</td>\n      <td>The Incredibles Collection</td>\n      <td>/l7GqbzkJwowYRIXAtUz2iCPi64a.jpg</td>\n      <td>/9eDW2dVhnzPS2HvaRdK2OlAGaLq.jpg</td>\n      <td>NaN</td>\n    </tr>\n  </tbody>\n</table>\n</div>"
     },
     "execution_count": 12,
     "metadata": {},
     "output_type": "execute_result"
    }
   ],
   "source": [
    "pd.json_normalize(data=data, sep=\"_\")"
   ],
   "metadata": {
    "collapsed": false,
    "ExecuteTime": {
     "end_time": "2023-07-09T15:09:20.814311600Z",
     "start_time": "2023-07-09T15:09:20.487842500Z"
    }
   }
  },
  {
   "cell_type": "code",
   "execution_count": 13,
   "outputs": [
    {
     "data": {
      "text/plain": "[{'id': 12, 'name': 'Adventure'},\n {'id': 878, 'name': 'Science Fiction'},\n {'id': 28, 'name': 'Action'}]"
     },
     "execution_count": 13,
     "metadata": {},
     "output_type": "execute_result"
    }
   ],
   "source": [
    "pd.json_normalize(data=data, sep=\"_\").genres[0]"
   ],
   "metadata": {
    "collapsed": false,
    "ExecuteTime": {
     "end_time": "2023-07-09T15:09:20.853988800Z",
     "start_time": "2023-07-09T15:09:20.540344800Z"
    }
   }
  },
  {
   "cell_type": "code",
   "execution_count": 14,
   "outputs": [
    {
     "data": {
      "text/plain": "    genre_id       genre_name                                         title  \\\n0         12        Adventure                             Avengers: Endgame   \n1        878  Science Fiction                             Avengers: Endgame   \n2         28           Action                             Avengers: Endgame   \n3         28           Action                                        Avatar   \n4         12        Adventure                                        Avatar   \n5         14          Fantasy                                        Avatar   \n6        878  Science Fiction                                        Avatar   \n7         28           Action                  Star Wars: The Force Awakens   \n8         12        Adventure                  Star Wars: The Force Awakens   \n9        878  Science Fiction                  Star Wars: The Force Awakens   \n10        14          Fantasy                  Star Wars: The Force Awakens   \n11        12        Adventure                        Avengers: Infinity War   \n12        28           Action                        Avengers: Infinity War   \n13       878  Science Fiction                        Avengers: Infinity War   \n14        18            Drama                                       Titanic   \n15     10749          Romance                                       Titanic   \n16        53         Thriller                                       Titanic   \n17        28           Action                                Jurassic World   \n18        12        Adventure                                Jurassic World   \n19       878  Science Fiction                                Jurassic World   \n20        53         Thriller                                Jurassic World   \n21        12        Adventure                                 The Lion King   \n22     10751           Family                                 The Lion King   \n23       878  Science Fiction                                  The Avengers   \n24        28           Action                                  The Avengers   \n25        12        Adventure                                  The Avengers   \n26        28           Action                                     Furious 7   \n27        53         Thriller                                     Furious 7   \n28        28           Action                       Avengers: Age of Ultron   \n29        12        Adventure                       Avengers: Age of Ultron   \n30       878  Science Fiction                       Avengers: Age of Ultron   \n31        28           Action                                 Black Panther   \n32        12        Adventure                                 Black Panther   \n33        14          Fantasy                                 Black Panther   \n34       878  Science Fiction                                 Black Panther   \n35        14          Fantasy  Harry Potter and the Deathly Hallows: Part 2   \n36        12        Adventure  Harry Potter and the Deathly Hallows: Part 2   \n37        14          Fantasy                      Star Wars: The Last Jedi   \n38        12        Adventure                      Star Wars: The Last Jedi   \n39       878  Science Fiction                      Star Wars: The Last Jedi   \n40        28           Action                      Star Wars: The Last Jedi   \n41        16        Animation                                     Frozen II   \n42     10751           Family                                     Frozen II   \n43        12        Adventure                                     Frozen II   \n44        28           Action                Jurassic World: Fallen Kingdom   \n45        12        Adventure                Jurassic World: Fallen Kingdom   \n46       878  Science Fiction                Jurassic World: Fallen Kingdom   \n47        16        Animation                                        Frozen   \n48        12        Adventure                                        Frozen   \n49     10751           Family                                        Frozen   \n50     10751           Family                          Beauty and the Beast   \n51        14          Fantasy                          Beauty and the Beast   \n52     10749          Romance                          Beauty and the Beast   \n53        28           Action                                 Incredibles 2   \n54        12        Adventure                                 Incredibles 2   \n55        16        Animation                                 Incredibles 2   \n56     10751           Family                                 Incredibles 2   \n\n        id  \n0   299534  \n1   299534  \n2   299534  \n3    19995  \n4    19995  \n5    19995  \n6    19995  \n7   140607  \n8   140607  \n9   140607  \n10  140607  \n11  299536  \n12  299536  \n13  299536  \n14     597  \n15     597  \n16     597  \n17  135397  \n18  135397  \n19  135397  \n20  135397  \n21  420818  \n22  420818  \n23   24428  \n24   24428  \n25   24428  \n26  168259  \n27  168259  \n28   99861  \n29   99861  \n30   99861  \n31  284054  \n32  284054  \n33  284054  \n34  284054  \n35   12445  \n36   12445  \n37  181808  \n38  181808  \n39  181808  \n40  181808  \n41  330457  \n42  330457  \n43  330457  \n44  351286  \n45  351286  \n46  351286  \n47  109445  \n48  109445  \n49  109445  \n50  321612  \n51  321612  \n52  321612  \n53  260513  \n54  260513  \n55  260513  \n56  260513  ",
      "text/html": "<div>\n<style scoped>\n    .dataframe tbody tr th:only-of-type {\n        vertical-align: middle;\n    }\n\n    .dataframe tbody tr th {\n        vertical-align: top;\n    }\n\n    .dataframe thead th {\n        text-align: right;\n    }\n</style>\n<table border=\"1\" class=\"dataframe\">\n  <thead>\n    <tr style=\"text-align: right;\">\n      <th></th>\n      <th>genre_id</th>\n      <th>genre_name</th>\n      <th>title</th>\n      <th>id</th>\n    </tr>\n  </thead>\n  <tbody>\n    <tr>\n      <th>0</th>\n      <td>12</td>\n      <td>Adventure</td>\n      <td>Avengers: Endgame</td>\n      <td>299534</td>\n    </tr>\n    <tr>\n      <th>1</th>\n      <td>878</td>\n      <td>Science Fiction</td>\n      <td>Avengers: Endgame</td>\n      <td>299534</td>\n    </tr>\n    <tr>\n      <th>2</th>\n      <td>28</td>\n      <td>Action</td>\n      <td>Avengers: Endgame</td>\n      <td>299534</td>\n    </tr>\n    <tr>\n      <th>3</th>\n      <td>28</td>\n      <td>Action</td>\n      <td>Avatar</td>\n      <td>19995</td>\n    </tr>\n    <tr>\n      <th>4</th>\n      <td>12</td>\n      <td>Adventure</td>\n      <td>Avatar</td>\n      <td>19995</td>\n    </tr>\n    <tr>\n      <th>5</th>\n      <td>14</td>\n      <td>Fantasy</td>\n      <td>Avatar</td>\n      <td>19995</td>\n    </tr>\n    <tr>\n      <th>6</th>\n      <td>878</td>\n      <td>Science Fiction</td>\n      <td>Avatar</td>\n      <td>19995</td>\n    </tr>\n    <tr>\n      <th>7</th>\n      <td>28</td>\n      <td>Action</td>\n      <td>Star Wars: The Force Awakens</td>\n      <td>140607</td>\n    </tr>\n    <tr>\n      <th>8</th>\n      <td>12</td>\n      <td>Adventure</td>\n      <td>Star Wars: The Force Awakens</td>\n      <td>140607</td>\n    </tr>\n    <tr>\n      <th>9</th>\n      <td>878</td>\n      <td>Science Fiction</td>\n      <td>Star Wars: The Force Awakens</td>\n      <td>140607</td>\n    </tr>\n    <tr>\n      <th>10</th>\n      <td>14</td>\n      <td>Fantasy</td>\n      <td>Star Wars: The Force Awakens</td>\n      <td>140607</td>\n    </tr>\n    <tr>\n      <th>11</th>\n      <td>12</td>\n      <td>Adventure</td>\n      <td>Avengers: Infinity War</td>\n      <td>299536</td>\n    </tr>\n    <tr>\n      <th>12</th>\n      <td>28</td>\n      <td>Action</td>\n      <td>Avengers: Infinity War</td>\n      <td>299536</td>\n    </tr>\n    <tr>\n      <th>13</th>\n      <td>878</td>\n      <td>Science Fiction</td>\n      <td>Avengers: Infinity War</td>\n      <td>299536</td>\n    </tr>\n    <tr>\n      <th>14</th>\n      <td>18</td>\n      <td>Drama</td>\n      <td>Titanic</td>\n      <td>597</td>\n    </tr>\n    <tr>\n      <th>15</th>\n      <td>10749</td>\n      <td>Romance</td>\n      <td>Titanic</td>\n      <td>597</td>\n    </tr>\n    <tr>\n      <th>16</th>\n      <td>53</td>\n      <td>Thriller</td>\n      <td>Titanic</td>\n      <td>597</td>\n    </tr>\n    <tr>\n      <th>17</th>\n      <td>28</td>\n      <td>Action</td>\n      <td>Jurassic World</td>\n      <td>135397</td>\n    </tr>\n    <tr>\n      <th>18</th>\n      <td>12</td>\n      <td>Adventure</td>\n      <td>Jurassic World</td>\n      <td>135397</td>\n    </tr>\n    <tr>\n      <th>19</th>\n      <td>878</td>\n      <td>Science Fiction</td>\n      <td>Jurassic World</td>\n      <td>135397</td>\n    </tr>\n    <tr>\n      <th>20</th>\n      <td>53</td>\n      <td>Thriller</td>\n      <td>Jurassic World</td>\n      <td>135397</td>\n    </tr>\n    <tr>\n      <th>21</th>\n      <td>12</td>\n      <td>Adventure</td>\n      <td>The Lion King</td>\n      <td>420818</td>\n    </tr>\n    <tr>\n      <th>22</th>\n      <td>10751</td>\n      <td>Family</td>\n      <td>The Lion King</td>\n      <td>420818</td>\n    </tr>\n    <tr>\n      <th>23</th>\n      <td>878</td>\n      <td>Science Fiction</td>\n      <td>The Avengers</td>\n      <td>24428</td>\n    </tr>\n    <tr>\n      <th>24</th>\n      <td>28</td>\n      <td>Action</td>\n      <td>The Avengers</td>\n      <td>24428</td>\n    </tr>\n    <tr>\n      <th>25</th>\n      <td>12</td>\n      <td>Adventure</td>\n      <td>The Avengers</td>\n      <td>24428</td>\n    </tr>\n    <tr>\n      <th>26</th>\n      <td>28</td>\n      <td>Action</td>\n      <td>Furious 7</td>\n      <td>168259</td>\n    </tr>\n    <tr>\n      <th>27</th>\n      <td>53</td>\n      <td>Thriller</td>\n      <td>Furious 7</td>\n      <td>168259</td>\n    </tr>\n    <tr>\n      <th>28</th>\n      <td>28</td>\n      <td>Action</td>\n      <td>Avengers: Age of Ultron</td>\n      <td>99861</td>\n    </tr>\n    <tr>\n      <th>29</th>\n      <td>12</td>\n      <td>Adventure</td>\n      <td>Avengers: Age of Ultron</td>\n      <td>99861</td>\n    </tr>\n    <tr>\n      <th>30</th>\n      <td>878</td>\n      <td>Science Fiction</td>\n      <td>Avengers: Age of Ultron</td>\n      <td>99861</td>\n    </tr>\n    <tr>\n      <th>31</th>\n      <td>28</td>\n      <td>Action</td>\n      <td>Black Panther</td>\n      <td>284054</td>\n    </tr>\n    <tr>\n      <th>32</th>\n      <td>12</td>\n      <td>Adventure</td>\n      <td>Black Panther</td>\n      <td>284054</td>\n    </tr>\n    <tr>\n      <th>33</th>\n      <td>14</td>\n      <td>Fantasy</td>\n      <td>Black Panther</td>\n      <td>284054</td>\n    </tr>\n    <tr>\n      <th>34</th>\n      <td>878</td>\n      <td>Science Fiction</td>\n      <td>Black Panther</td>\n      <td>284054</td>\n    </tr>\n    <tr>\n      <th>35</th>\n      <td>14</td>\n      <td>Fantasy</td>\n      <td>Harry Potter and the Deathly Hallows: Part 2</td>\n      <td>12445</td>\n    </tr>\n    <tr>\n      <th>36</th>\n      <td>12</td>\n      <td>Adventure</td>\n      <td>Harry Potter and the Deathly Hallows: Part 2</td>\n      <td>12445</td>\n    </tr>\n    <tr>\n      <th>37</th>\n      <td>14</td>\n      <td>Fantasy</td>\n      <td>Star Wars: The Last Jedi</td>\n      <td>181808</td>\n    </tr>\n    <tr>\n      <th>38</th>\n      <td>12</td>\n      <td>Adventure</td>\n      <td>Star Wars: The Last Jedi</td>\n      <td>181808</td>\n    </tr>\n    <tr>\n      <th>39</th>\n      <td>878</td>\n      <td>Science Fiction</td>\n      <td>Star Wars: The Last Jedi</td>\n      <td>181808</td>\n    </tr>\n    <tr>\n      <th>40</th>\n      <td>28</td>\n      <td>Action</td>\n      <td>Star Wars: The Last Jedi</td>\n      <td>181808</td>\n    </tr>\n    <tr>\n      <th>41</th>\n      <td>16</td>\n      <td>Animation</td>\n      <td>Frozen II</td>\n      <td>330457</td>\n    </tr>\n    <tr>\n      <th>42</th>\n      <td>10751</td>\n      <td>Family</td>\n      <td>Frozen II</td>\n      <td>330457</td>\n    </tr>\n    <tr>\n      <th>43</th>\n      <td>12</td>\n      <td>Adventure</td>\n      <td>Frozen II</td>\n      <td>330457</td>\n    </tr>\n    <tr>\n      <th>44</th>\n      <td>28</td>\n      <td>Action</td>\n      <td>Jurassic World: Fallen Kingdom</td>\n      <td>351286</td>\n    </tr>\n    <tr>\n      <th>45</th>\n      <td>12</td>\n      <td>Adventure</td>\n      <td>Jurassic World: Fallen Kingdom</td>\n      <td>351286</td>\n    </tr>\n    <tr>\n      <th>46</th>\n      <td>878</td>\n      <td>Science Fiction</td>\n      <td>Jurassic World: Fallen Kingdom</td>\n      <td>351286</td>\n    </tr>\n    <tr>\n      <th>47</th>\n      <td>16</td>\n      <td>Animation</td>\n      <td>Frozen</td>\n      <td>109445</td>\n    </tr>\n    <tr>\n      <th>48</th>\n      <td>12</td>\n      <td>Adventure</td>\n      <td>Frozen</td>\n      <td>109445</td>\n    </tr>\n    <tr>\n      <th>49</th>\n      <td>10751</td>\n      <td>Family</td>\n      <td>Frozen</td>\n      <td>109445</td>\n    </tr>\n    <tr>\n      <th>50</th>\n      <td>10751</td>\n      <td>Family</td>\n      <td>Beauty and the Beast</td>\n      <td>321612</td>\n    </tr>\n    <tr>\n      <th>51</th>\n      <td>14</td>\n      <td>Fantasy</td>\n      <td>Beauty and the Beast</td>\n      <td>321612</td>\n    </tr>\n    <tr>\n      <th>52</th>\n      <td>10749</td>\n      <td>Romance</td>\n      <td>Beauty and the Beast</td>\n      <td>321612</td>\n    </tr>\n    <tr>\n      <th>53</th>\n      <td>28</td>\n      <td>Action</td>\n      <td>Incredibles 2</td>\n      <td>260513</td>\n    </tr>\n    <tr>\n      <th>54</th>\n      <td>12</td>\n      <td>Adventure</td>\n      <td>Incredibles 2</td>\n      <td>260513</td>\n    </tr>\n    <tr>\n      <th>55</th>\n      <td>16</td>\n      <td>Animation</td>\n      <td>Incredibles 2</td>\n      <td>260513</td>\n    </tr>\n    <tr>\n      <th>56</th>\n      <td>10751</td>\n      <td>Family</td>\n      <td>Incredibles 2</td>\n      <td>260513</td>\n    </tr>\n  </tbody>\n</table>\n</div>"
     },
     "execution_count": 14,
     "metadata": {},
     "output_type": "execute_result"
    }
   ],
   "source": [
    "pd.json_normalize(data=data, record_path=\"genres\", meta=[\"title\", \"id\"], record_prefix=\"genre_\")"
   ],
   "metadata": {
    "collapsed": false,
    "ExecuteTime": {
     "end_time": "2023-07-09T15:09:20.854492100Z",
     "start_time": "2023-07-09T15:09:20.560480800Z"
    }
   }
  },
  {
   "cell_type": "code",
   "execution_count": 14,
   "outputs": [],
   "source": [],
   "metadata": {
    "collapsed": false,
    "ExecuteTime": {
     "end_time": "2023-07-09T15:09:20.854492100Z",
     "start_time": "2023-07-09T15:09:20.567509400Z"
    }
   }
  },
  {
   "cell_type": "code",
   "execution_count": 14,
   "outputs": [],
   "source": [],
   "metadata": {
    "collapsed": false,
    "ExecuteTime": {
     "end_time": "2023-07-09T15:09:21.092476300Z",
     "start_time": "2023-07-09T15:09:20.580046400Z"
    }
   }
  },
  {
   "cell_type": "markdown",
   "metadata": {},
   "source": [
    "## Working with APIs and JSON (Part 1)"
   ]
  },
  {
   "cell_type": "markdown",
   "metadata": {},
   "source": [
    "2. __Create an account__ on https://www.themoviedb.org/"
   ]
  },
  {
   "cell_type": "markdown",
   "metadata": {},
   "source": [
    "3. Get your personal __API Key__"
   ]
  },
  {
   "cell_type": "markdown",
   "metadata": {},
   "source": [
    "4. __API-Request__ (movie module): Load all available information for the movie with __movie id = 140607__ into a Pandas DataFrame. <br> See https://developers.themoviedb.org/3/movies/get-movie-details for more information"
   ]
  },
  {
   "cell_type": "code",
   "execution_count": 15,
   "metadata": {
    "ExecuteTime": {
     "end_time": "2023-07-09T15:09:21.346123700Z",
     "start_time": "2023-07-09T15:09:20.597044600Z"
    }
   },
   "outputs": [],
   "source": [
    "import pandas as pd\n",
    "import requests\n",
    "pd.options.display.max_columns = 30"
   ]
  },
  {
   "cell_type": "code",
   "execution_count": 34,
   "outputs": [],
   "source": [
    "movie_id = 140607\n",
    "api_key = config.get('TMDB_API_KEY')"
   ],
   "metadata": {
    "collapsed": false,
    "ExecuteTime": {
     "end_time": "2023-07-09T15:13:41.409047100Z",
     "start_time": "2023-07-09T15:13:41.390029600Z"
    }
   }
  },
  {
   "cell_type": "code",
   "execution_count": 17,
   "outputs": [
    {
     "data": {
      "text/plain": "'https://api.themoviedb.org/3/movie/{}?api_key='"
     },
     "execution_count": 17,
     "metadata": {},
     "output_type": "execute_result"
    }
   ],
   "source": [
    "movie_api = \"https://api.themoviedb.org/3/movie/{}?api_key=\"\n",
    "movie_api"
   ],
   "metadata": {
    "collapsed": false,
    "ExecuteTime": {
     "end_time": "2023-07-09T15:09:21.347691900Z",
     "start_time": "2023-07-09T15:09:20.724068300Z"
    }
   }
  },
  {
   "cell_type": "code",
   "execution_count": 18,
   "outputs": [
    {
     "data": {
      "text/plain": "'https://api.themoviedb.org/3/movie/140607?api_key=81528531e5518f0fabba55759b429b7f'"
     },
     "execution_count": 18,
     "metadata": {},
     "output_type": "execute_result"
    }
   ],
   "source": [
    "url = movie_api.format(movie_id) + api_key\n",
    "url"
   ],
   "metadata": {
    "collapsed": false,
    "ExecuteTime": {
     "end_time": "2023-07-09T15:09:21.348651700Z",
     "start_time": "2023-07-09T15:09:20.739125400Z"
    }
   }
  },
  {
   "cell_type": "code",
   "execution_count": 19,
   "outputs": [
    {
     "data": {
      "text/plain": "<Response [200]>"
     },
     "execution_count": 19,
     "metadata": {},
     "output_type": "execute_result"
    }
   ],
   "source": [
    "request = requests.get(url)\n",
    "request"
   ],
   "metadata": {
    "collapsed": false,
    "ExecuteTime": {
     "end_time": "2023-07-09T15:09:21.348651700Z",
     "start_time": "2023-07-09T15:09:20.755654300Z"
    }
   }
  },
  {
   "cell_type": "code",
   "execution_count": 20,
   "outputs": [],
   "source": [
    "data = request.json()"
   ],
   "metadata": {
    "collapsed": false,
    "ExecuteTime": {
     "end_time": "2023-07-09T15:09:21.349652900Z",
     "start_time": "2023-07-09T15:09:20.895861900Z"
    }
   }
  },
  {
   "cell_type": "code",
   "execution_count": 21,
   "outputs": [
    {
     "data": {
      "text/plain": "{'adult': False,\n 'backdrop_path': '/8BTsTfln4jlQrLXUBquXJ0ASQy9.jpg',\n 'belongs_to_collection': {'id': 10,\n  'name': 'Star Wars Collection',\n  'poster_path': '/gq5Wi7i4SF3lo4HHkJasDV95xI9.jpg',\n  'backdrop_path': '/d8duYyyC9J5T825Hg7grmaabfxQ.jpg'},\n 'budget': 245000000,\n 'genres': [{'id': 12, 'name': 'Adventure'},\n  {'id': 28, 'name': 'Action'},\n  {'id': 878, 'name': 'Science Fiction'}],\n 'homepage': 'http://www.starwars.com/films/star-wars-episode-vii',\n 'id': 140607,\n 'imdb_id': 'tt2488496',\n 'original_language': 'en',\n 'original_title': 'Star Wars: The Force Awakens',\n 'overview': 'Thirty years after defeating the Galactic Empire, Han Solo and his allies face a new threat from the evil Kylo Ren and his army of Stormtroopers.',\n 'popularity': 52.173,\n 'poster_path': '/wqnLdwVXoBjKibFRR5U3y0aDUhs.jpg',\n 'production_companies': [{'id': 1,\n   'logo_path': '/o86DbpburjxrqAzEDhXZcyE8pDb.png',\n   'name': 'Lucasfilm Ltd.',\n   'origin_country': 'US'},\n  {'id': 11461,\n   'logo_path': '/p9FoEt5shEKRWRKVIlvFaEmRnun.png',\n   'name': 'Bad Robot',\n   'origin_country': 'US'}],\n 'production_countries': [{'iso_3166_1': 'US',\n   'name': 'United States of America'}],\n 'release_date': '2015-12-15',\n 'revenue': 2068223624,\n 'runtime': 136,\n 'spoken_languages': [{'english_name': 'English',\n   'iso_639_1': 'en',\n   'name': 'English'}],\n 'status': 'Released',\n 'tagline': 'Every generation has a story.',\n 'title': 'Star Wars: The Force Awakens',\n 'video': False,\n 'vote_average': 7.295,\n 'vote_count': 18142}"
     },
     "execution_count": 21,
     "metadata": {},
     "output_type": "execute_result"
    }
   ],
   "source": [
    "data"
   ],
   "metadata": {
    "collapsed": false,
    "ExecuteTime": {
     "end_time": "2023-07-09T15:09:21.350655700Z",
     "start_time": "2023-07-09T15:09:20.910893400Z"
    }
   }
  },
  {
   "cell_type": "code",
   "execution_count": 22,
   "outputs": [
    {
     "data": {
      "text/plain": "dict"
     },
     "execution_count": 22,
     "metadata": {},
     "output_type": "execute_result"
    }
   ],
   "source": [
    "type(data)"
   ],
   "metadata": {
    "collapsed": false,
    "ExecuteTime": {
     "end_time": "2023-07-09T15:09:21.374266700Z",
     "start_time": "2023-07-09T15:09:20.925477200Z"
    }
   }
  },
  {
   "cell_type": "code",
   "execution_count": 23,
   "outputs": [
    {
     "data": {
      "text/plain": "adult                                                                False\nbackdrop_path                             /8BTsTfln4jlQrLXUBquXJ0ASQy9.jpg\nbelongs_to_collection    {'id': 10, 'name': 'Star Wars Collection', 'po...\nbudget                                                           245000000\ngenres                   [{'id': 12, 'name': 'Adventure'}, {'id': 28, '...\nhomepage                 http://www.starwars.com/films/star-wars-episod...\nid                                                                  140607\nimdb_id                                                          tt2488496\noriginal_language                                                       en\noriginal_title                                Star Wars: The Force Awakens\noverview                 Thirty years after defeating the Galactic Empi...\npopularity                                                          52.173\nposter_path                               /wqnLdwVXoBjKibFRR5U3y0aDUhs.jpg\nproduction_companies     [{'id': 1, 'logo_path': '/o86DbpburjxrqAzEDhXZ...\nproduction_countries     [{'iso_3166_1': 'US', 'name': 'United States o...\nrelease_date                                                    2015-12-15\nrevenue                                                         2068223624\nruntime                                                                136\nspoken_languages         [{'english_name': 'English', 'iso_639_1': 'en'...\nstatus                                                            Released\ntagline                                      Every generation has a story.\ntitle                                         Star Wars: The Force Awakens\nvideo                                                                False\nvote_average                                                         7.295\nvote_count                                                           18142\ndtype: object"
     },
     "execution_count": 23,
     "metadata": {},
     "output_type": "execute_result"
    }
   ],
   "source": [
    "pd.Series(data)"
   ],
   "metadata": {
    "collapsed": false,
    "ExecuteTime": {
     "end_time": "2023-07-09T15:09:21.375782700Z",
     "start_time": "2023-07-09T15:09:20.941565900Z"
    }
   }
  },
  {
   "cell_type": "code",
   "execution_count": 24,
   "outputs": [
    {
     "data": {
      "text/plain": "   adult                     backdrop_path  \\\n0  False  /8BTsTfln4jlQrLXUBquXJ0ASQy9.jpg   \n\n                               belongs_to_collection     budget  \\\n0  {'id': 10, 'name': 'Star Wars Collection', 'po...  245000000   \n\n                                              genres  \\\n0  [{'id': 12, 'name': 'Adventure'}, {'id': 28, '...   \n\n                                            homepage      id    imdb_id  \\\n0  http://www.starwars.com/films/star-wars-episod...  140607  tt2488496   \n\n  original_language                original_title  \\\n0                en  Star Wars: The Force Awakens   \n\n                                            overview popularity  \\\n0  Thirty years after defeating the Galactic Empi...     52.173   \n\n                        poster_path  \\\n0  /wqnLdwVXoBjKibFRR5U3y0aDUhs.jpg   \n\n                                production_companies  \\\n0  [{'id': 1, 'logo_path': '/o86DbpburjxrqAzEDhXZ...   \n\n                                production_countries release_date     revenue  \\\n0  [{'iso_3166_1': 'US', 'name': 'United States o...   2015-12-15  2068223624   \n\n  runtime                                   spoken_languages    status  \\\n0     136  [{'english_name': 'English', 'iso_639_1': 'en'...  Released   \n\n                         tagline                         title  video  \\\n0  Every generation has a story.  Star Wars: The Force Awakens  False   \n\n  vote_average vote_count  \n0        7.295      18142  ",
      "text/html": "<div>\n<style scoped>\n    .dataframe tbody tr th:only-of-type {\n        vertical-align: middle;\n    }\n\n    .dataframe tbody tr th {\n        vertical-align: top;\n    }\n\n    .dataframe thead th {\n        text-align: right;\n    }\n</style>\n<table border=\"1\" class=\"dataframe\">\n  <thead>\n    <tr style=\"text-align: right;\">\n      <th></th>\n      <th>adult</th>\n      <th>backdrop_path</th>\n      <th>belongs_to_collection</th>\n      <th>budget</th>\n      <th>genres</th>\n      <th>homepage</th>\n      <th>id</th>\n      <th>imdb_id</th>\n      <th>original_language</th>\n      <th>original_title</th>\n      <th>overview</th>\n      <th>popularity</th>\n      <th>poster_path</th>\n      <th>production_companies</th>\n      <th>production_countries</th>\n      <th>release_date</th>\n      <th>revenue</th>\n      <th>runtime</th>\n      <th>spoken_languages</th>\n      <th>status</th>\n      <th>tagline</th>\n      <th>title</th>\n      <th>video</th>\n      <th>vote_average</th>\n      <th>vote_count</th>\n    </tr>\n  </thead>\n  <tbody>\n    <tr>\n      <th>0</th>\n      <td>False</td>\n      <td>/8BTsTfln4jlQrLXUBquXJ0ASQy9.jpg</td>\n      <td>{'id': 10, 'name': 'Star Wars Collection', 'po...</td>\n      <td>245000000</td>\n      <td>[{'id': 12, 'name': 'Adventure'}, {'id': 28, '...</td>\n      <td>http://www.starwars.com/films/star-wars-episod...</td>\n      <td>140607</td>\n      <td>tt2488496</td>\n      <td>en</td>\n      <td>Star Wars: The Force Awakens</td>\n      <td>Thirty years after defeating the Galactic Empi...</td>\n      <td>52.173</td>\n      <td>/wqnLdwVXoBjKibFRR5U3y0aDUhs.jpg</td>\n      <td>[{'id': 1, 'logo_path': '/o86DbpburjxrqAzEDhXZ...</td>\n      <td>[{'iso_3166_1': 'US', 'name': 'United States o...</td>\n      <td>2015-12-15</td>\n      <td>2068223624</td>\n      <td>136</td>\n      <td>[{'english_name': 'English', 'iso_639_1': 'en'...</td>\n      <td>Released</td>\n      <td>Every generation has a story.</td>\n      <td>Star Wars: The Force Awakens</td>\n      <td>False</td>\n      <td>7.295</td>\n      <td>18142</td>\n    </tr>\n  </tbody>\n</table>\n</div>"
     },
     "execution_count": 24,
     "metadata": {},
     "output_type": "execute_result"
    }
   ],
   "source": [
    "df = pd.Series(data).to_frame().T\n",
    "df"
   ],
   "metadata": {
    "collapsed": false,
    "ExecuteTime": {
     "end_time": "2023-07-09T15:09:21.424362Z",
     "start_time": "2023-07-09T15:09:20.957131200Z"
    }
   }
  },
  {
   "cell_type": "code",
   "execution_count": 25,
   "outputs": [
    {
     "data": {
      "text/plain": "   adult                     backdrop_path     budget  \\\n0  False  /8BTsTfln4jlQrLXUBquXJ0ASQy9.jpg  245000000   \n\n                                              genres  \\\n0  [{'id': 12, 'name': 'Adventure'}, {'id': 28, '...   \n\n                                            homepage      id    imdb_id  \\\n0  http://www.starwars.com/films/star-wars-episod...  140607  tt2488496   \n\n  original_language                original_title  \\\n0                en  Star Wars: The Force Awakens   \n\n                                            overview  popularity  \\\n0  Thirty years after defeating the Galactic Empi...      52.173   \n\n                        poster_path  \\\n0  /wqnLdwVXoBjKibFRR5U3y0aDUhs.jpg   \n\n                                production_companies  \\\n0  [{'id': 1, 'logo_path': '/o86DbpburjxrqAzEDhXZ...   \n\n                                production_countries release_date     revenue  \\\n0  [{'iso_3166_1': 'US', 'name': 'United States o...   2015-12-15  2068223624   \n\n   runtime                                   spoken_languages    status  \\\n0      136  [{'english_name': 'English', 'iso_639_1': 'en'...  Released   \n\n                         tagline                         title  video  \\\n0  Every generation has a story.  Star Wars: The Force Awakens  False   \n\n   vote_average  vote_count  belongs_to_collection_id  \\\n0         7.295       18142                        10   \n\n  belongs_to_collection_name belongs_to_collection_poster_path  \\\n0       Star Wars Collection  /gq5Wi7i4SF3lo4HHkJasDV95xI9.jpg   \n\n  belongs_to_collection_backdrop_path  \n0    /d8duYyyC9J5T825Hg7grmaabfxQ.jpg  ",
      "text/html": "<div>\n<style scoped>\n    .dataframe tbody tr th:only-of-type {\n        vertical-align: middle;\n    }\n\n    .dataframe tbody tr th {\n        vertical-align: top;\n    }\n\n    .dataframe thead th {\n        text-align: right;\n    }\n</style>\n<table border=\"1\" class=\"dataframe\">\n  <thead>\n    <tr style=\"text-align: right;\">\n      <th></th>\n      <th>adult</th>\n      <th>backdrop_path</th>\n      <th>budget</th>\n      <th>genres</th>\n      <th>homepage</th>\n      <th>id</th>\n      <th>imdb_id</th>\n      <th>original_language</th>\n      <th>original_title</th>\n      <th>overview</th>\n      <th>popularity</th>\n      <th>poster_path</th>\n      <th>production_companies</th>\n      <th>production_countries</th>\n      <th>release_date</th>\n      <th>revenue</th>\n      <th>runtime</th>\n      <th>spoken_languages</th>\n      <th>status</th>\n      <th>tagline</th>\n      <th>title</th>\n      <th>video</th>\n      <th>vote_average</th>\n      <th>vote_count</th>\n      <th>belongs_to_collection_id</th>\n      <th>belongs_to_collection_name</th>\n      <th>belongs_to_collection_poster_path</th>\n      <th>belongs_to_collection_backdrop_path</th>\n    </tr>\n  </thead>\n  <tbody>\n    <tr>\n      <th>0</th>\n      <td>False</td>\n      <td>/8BTsTfln4jlQrLXUBquXJ0ASQy9.jpg</td>\n      <td>245000000</td>\n      <td>[{'id': 12, 'name': 'Adventure'}, {'id': 28, '...</td>\n      <td>http://www.starwars.com/films/star-wars-episod...</td>\n      <td>140607</td>\n      <td>tt2488496</td>\n      <td>en</td>\n      <td>Star Wars: The Force Awakens</td>\n      <td>Thirty years after defeating the Galactic Empi...</td>\n      <td>52.173</td>\n      <td>/wqnLdwVXoBjKibFRR5U3y0aDUhs.jpg</td>\n      <td>[{'id': 1, 'logo_path': '/o86DbpburjxrqAzEDhXZ...</td>\n      <td>[{'iso_3166_1': 'US', 'name': 'United States o...</td>\n      <td>2015-12-15</td>\n      <td>2068223624</td>\n      <td>136</td>\n      <td>[{'english_name': 'English', 'iso_639_1': 'en'...</td>\n      <td>Released</td>\n      <td>Every generation has a story.</td>\n      <td>Star Wars: The Force Awakens</td>\n      <td>False</td>\n      <td>7.295</td>\n      <td>18142</td>\n      <td>10</td>\n      <td>Star Wars Collection</td>\n      <td>/gq5Wi7i4SF3lo4HHkJasDV95xI9.jpg</td>\n      <td>/d8duYyyC9J5T825Hg7grmaabfxQ.jpg</td>\n    </tr>\n  </tbody>\n</table>\n</div>"
     },
     "execution_count": 25,
     "metadata": {},
     "output_type": "execute_result"
    }
   ],
   "source": [
    "pd.json_normalize(data=data, sep=\"_\")"
   ],
   "metadata": {
    "collapsed": false,
    "ExecuteTime": {
     "end_time": "2023-07-09T15:09:21.714288200Z",
     "start_time": "2023-07-09T15:09:20.991743500Z"
    }
   }
  },
  {
   "cell_type": "code",
   "execution_count": 26,
   "outputs": [
    {
     "data": {
      "text/plain": "    id             name                         title\n0   12        Adventure  Star Wars: The Force Awakens\n1   28           Action  Star Wars: The Force Awakens\n2  878  Science Fiction  Star Wars: The Force Awakens",
      "text/html": "<div>\n<style scoped>\n    .dataframe tbody tr th:only-of-type {\n        vertical-align: middle;\n    }\n\n    .dataframe tbody tr th {\n        vertical-align: top;\n    }\n\n    .dataframe thead th {\n        text-align: right;\n    }\n</style>\n<table border=\"1\" class=\"dataframe\">\n  <thead>\n    <tr style=\"text-align: right;\">\n      <th></th>\n      <th>id</th>\n      <th>name</th>\n      <th>title</th>\n    </tr>\n  </thead>\n  <tbody>\n    <tr>\n      <th>0</th>\n      <td>12</td>\n      <td>Adventure</td>\n      <td>Star Wars: The Force Awakens</td>\n    </tr>\n    <tr>\n      <th>1</th>\n      <td>28</td>\n      <td>Action</td>\n      <td>Star Wars: The Force Awakens</td>\n    </tr>\n    <tr>\n      <th>2</th>\n      <td>878</td>\n      <td>Science Fiction</td>\n      <td>Star Wars: The Force Awakens</td>\n    </tr>\n  </tbody>\n</table>\n</div>"
     },
     "execution_count": 26,
     "metadata": {},
     "output_type": "execute_result"
    }
   ],
   "source": [
    "pd.json_normalize(data=data, record_path=\"genres\", meta=\"title\")"
   ],
   "metadata": {
    "collapsed": false,
    "ExecuteTime": {
     "end_time": "2023-07-09T15:09:21.777546300Z",
     "start_time": "2023-07-09T15:09:21.044989200Z"
    }
   }
  },
  {
   "cell_type": "code",
   "execution_count": 27,
   "outputs": [
    {
     "data": {
      "text/plain": "      id                         logo_path            name origin_country  \\\n0      1  /o86DbpburjxrqAzEDhXZcyE8pDb.png  Lucasfilm Ltd.             US   \n1  11461  /p9FoEt5shEKRWRKVIlvFaEmRnun.png       Bad Robot             US   \n\n                          title  \n0  Star Wars: The Force Awakens  \n1  Star Wars: The Force Awakens  ",
      "text/html": "<div>\n<style scoped>\n    .dataframe tbody tr th:only-of-type {\n        vertical-align: middle;\n    }\n\n    .dataframe tbody tr th {\n        vertical-align: top;\n    }\n\n    .dataframe thead th {\n        text-align: right;\n    }\n</style>\n<table border=\"1\" class=\"dataframe\">\n  <thead>\n    <tr style=\"text-align: right;\">\n      <th></th>\n      <th>id</th>\n      <th>logo_path</th>\n      <th>name</th>\n      <th>origin_country</th>\n      <th>title</th>\n    </tr>\n  </thead>\n  <tbody>\n    <tr>\n      <th>0</th>\n      <td>1</td>\n      <td>/o86DbpburjxrqAzEDhXZcyE8pDb.png</td>\n      <td>Lucasfilm Ltd.</td>\n      <td>US</td>\n      <td>Star Wars: The Force Awakens</td>\n    </tr>\n    <tr>\n      <th>1</th>\n      <td>11461</td>\n      <td>/p9FoEt5shEKRWRKVIlvFaEmRnun.png</td>\n      <td>Bad Robot</td>\n      <td>US</td>\n      <td>Star Wars: The Force Awakens</td>\n    </tr>\n  </tbody>\n</table>\n</div>"
     },
     "execution_count": 27,
     "metadata": {},
     "output_type": "execute_result"
    }
   ],
   "source": [
    "pd.json_normalize(data=data, record_path=\"production_companies\", meta=\"title\")"
   ],
   "metadata": {
    "collapsed": false,
    "ExecuteTime": {
     "end_time": "2023-07-09T15:09:21.783053400Z",
     "start_time": "2023-07-09T15:09:21.068087100Z"
    }
   }
  },
  {
   "cell_type": "markdown",
   "metadata": {},
   "source": [
    "## Working with APIs and JSON (Part 2)"
   ]
  },
  {
   "cell_type": "markdown",
   "metadata": {},
   "source": [
    "5. __API-Request__ (discover module): Load all movies with __release date between 2020-01-01 and 2020-02-29__ into a Pandas DataFrame. <br>\n",
    "See https://www.themoviedb.org/documentation/api/discover and https://developers.themoviedb.org/3/discover/movie-discover for more information."
   ]
  },
  {
   "cell_type": "code",
   "execution_count": 40,
   "metadata": {
    "ExecuteTime": {
     "end_time": "2023-07-09T15:14:24.870452100Z",
     "start_time": "2023-07-09T15:14:24.857933700Z"
    }
   },
   "outputs": [],
   "source": [
    "import pandas as pd\n",
    "import requests\n",
    "discover_api = \"https://api.themoviedb.org/3/discover/movie?api_key=\""
   ]
  },
  {
   "cell_type": "code",
   "execution_count": 41,
   "outputs": [],
   "source": [
    "query = \"&primary_release_date.gte=2020-01-01&primary_release_date.let=2020-02-29\"\n",
    "url = discover_api+api_key+query"
   ],
   "metadata": {
    "collapsed": false,
    "ExecuteTime": {
     "end_time": "2023-07-09T15:14:26.911111400Z",
     "start_time": "2023-07-09T15:14:26.897094Z"
    }
   }
  },
  {
   "cell_type": "code",
   "execution_count": 42,
   "outputs": [],
   "source": [
    "data = requests.get(url).json()"
   ],
   "metadata": {
    "collapsed": false,
    "ExecuteTime": {
     "end_time": "2023-07-09T15:14:29.059384100Z",
     "start_time": "2023-07-09T15:14:28.884691200Z"
    }
   }
  },
  {
   "cell_type": "code",
   "execution_count": 43,
   "outputs": [
    {
     "data": {
      "text/plain": "{'page': 1,\n 'results': [{'adult': False,\n   'backdrop_path': '/oqP1qEZccq5AD9TVTIaO6IGUj7o.jpg',\n   'genre_ids': [14, 28, 12],\n   'id': 455476,\n   'original_language': 'en',\n   'original_title': 'Knights of the Zodiac',\n   'overview': 'When a headstrong street orphan, Seiya, in search of his abducted sister unwittingly taps into hidden powers, he discovers he might be the only person alive who can protect a reincarnated goddess, sent to watch over humanity. Can he let his past go and embrace his destiny to become a Knight of the Zodiac?',\n   'popularity': 3362.234,\n   'poster_path': '/qW4crfED8mpNDadSmMdi7ZDzhXF.jpg',\n   'release_date': '2023-04-27',\n   'title': 'Knights of the Zodiac',\n   'video': False,\n   'vote_average': 6.6,\n   'vote_count': 348},\n  {'adult': False,\n   'backdrop_path': '/4XM8DUTQb3lhLemJC51Jx4a2EuA.jpg',\n   'genre_ids': [28, 80, 53],\n   'id': 385687,\n   'original_language': 'en',\n   'original_title': 'Fast X',\n   'overview': \"Over many missions and against impossible odds, Dom Toretto and his family have outsmarted, out-nerved and outdriven every foe in their path. Now, they confront the most lethal opponent they've ever faced: A terrifying threat emerging from the shadows of the past who's fueled by blood revenge, and who is determined to shatter this family and destroy everything—and everyone—that Dom loves, forever.\",\n   'popularity': 3202.443,\n   'poster_path': '/fiVW06jE7z9YnO4trhaMEdclSiC.jpg',\n   'release_date': '2023-05-17',\n   'title': 'Fast X',\n   'video': False,\n   'vote_average': 7.4,\n   'vote_count': 2479},\n  {'adult': False,\n   'backdrop_path': '/5YZbUmjbMa3ClvSW1Wj3D6XGolb.jpg',\n   'genre_ids': [878, 12, 28],\n   'id': 447365,\n   'original_language': 'en',\n   'original_title': 'Guardians of the Galaxy Vol. 3',\n   'overview': 'Peter Quill, still reeling from the loss of Gamora, must rally his team around him to defend the universe along with protecting one of their own. A mission that, if not completed successfully, could quite possibly lead to the end of the Guardians as we know them.',\n   'popularity': 2239.681,\n   'poster_path': '/r2J02Z2OpNTctfOSN1Ydgii51I3.jpg',\n   'release_date': '2023-05-03',\n   'title': 'Guardians of the Galaxy Vol. 3',\n   'video': False,\n   'vote_average': 8.1,\n   'vote_count': 2467},\n  {'adult': False,\n   'backdrop_path': '/4HodYYKEIsGOdinkGi2Ucz6X9i0.jpg',\n   'genre_ids': [28, 12, 16, 878],\n   'id': 569094,\n   'original_language': 'en',\n   'original_title': 'Spider-Man: Across the Spider-Verse',\n   'overview': 'After reuniting with Gwen Stacy, Brooklyn’s full-time, friendly neighborhood Spider-Man is catapulted across the Multiverse, where he encounters the Spider Society, a team of Spider-People charged with protecting the Multiverse’s very existence. But when the heroes clash on how to handle a new threat, Miles finds himself pitted against the other Spiders and must set out on his own to save those he loves most.',\n   'popularity': 1573.313,\n   'poster_path': '/8Vt6mWEReuy4Of61Lnj5Xj704m8.jpg',\n   'release_date': '2023-05-31',\n   'title': 'Spider-Man: Across the Spider-Verse',\n   'video': False,\n   'vote_average': 8.5,\n   'vote_count': 2093},\n  {'adult': False,\n   'backdrop_path': '/7I6VUdPj6tQECNHdviJkUHD2u89.jpg',\n   'genre_ids': [28, 53, 80],\n   'id': 603692,\n   'original_language': 'en',\n   'original_title': 'John Wick: Chapter 4',\n   'overview': 'With the price on his head ever increasing, John Wick uncovers a path to defeating The High Table. But before he can earn his freedom, Wick must face off against a new enemy with powerful alliances across the globe and forces that turn old friends into foes.',\n   'popularity': 1507.498,\n   'poster_path': '/vZloFAK7NmvMGKE7VkF5UHaz0I.jpg',\n   'release_date': '2023-03-22',\n   'title': 'John Wick: Chapter 4',\n   'video': False,\n   'vote_average': 7.9,\n   'vote_count': 3559},\n  {'adult': False,\n   'backdrop_path': '/9n2tJBplPbgR2ca05hS5CKXwP2c.jpg',\n   'genre_ids': [16, 10751, 12, 14, 35],\n   'id': 502356,\n   'original_language': 'en',\n   'original_title': 'The Super Mario Bros. Movie',\n   'overview': 'While working underground to fix a water main, Brooklyn plumbers—and brothers—Mario and Luigi are transported down a mysterious pipe and wander into a magical new world. But when the brothers are separated, Mario embarks on an epic quest to find Luigi.',\n   'popularity': 1402.819,\n   'poster_path': '/qNBAXBIQlnOThrVvA6mA2B5ggV6.jpg',\n   'release_date': '2023-04-05',\n   'title': 'The Super Mario Bros. Movie',\n   'video': False,\n   'vote_average': 7.8,\n   'vote_count': 5458},\n  {'adult': False,\n   'backdrop_path': '/woJbg7ZqidhpvqFGGMRhWQNoxwa.jpg',\n   'genre_ids': [28, 12, 878],\n   'id': 667538,\n   'original_language': 'en',\n   'original_title': 'Transformers: Rise of the Beasts',\n   'overview': 'When a new threat capable of destroying the entire planet emerges, Optimus Prime and the Autobots must team up with a powerful faction known as the Maximals. With the fate of humanity hanging in the balance, humans Noah and Elena will do whatever it takes to help the Transformers as they engage in the ultimate battle to save Earth.',\n   'popularity': 1385.19,\n   'poster_path': '/gPbM0MK8CP8A174rmUwGsADNYKD.jpg',\n   'release_date': '2023-06-06',\n   'title': 'Transformers: Rise of the Beasts',\n   'video': False,\n   'vote_average': 7.3,\n   'vote_count': 587},\n  {'adult': False,\n   'backdrop_path': '/cSYLX73WskxCgvpN3MtRkYUSj1T.jpg',\n   'genre_ids': [16, 35, 10751, 14, 10749],\n   'id': 976573,\n   'original_language': 'en',\n   'original_title': 'Elemental',\n   'overview': 'In a city where fire, water, land and air residents live together, a fiery young woman and a go-with-the-flow guy will discover something elemental: how much they have in common.',\n   'popularity': 1283.02,\n   'poster_path': '/8riWcADI1ekEiBguVB9vkilhiQm.jpg',\n   'release_date': '2023-06-14',\n   'title': 'Elemental',\n   'video': False,\n   'vote_average': 7.5,\n   'vote_count': 380},\n  {'adult': False,\n   'backdrop_path': '/hPcP1kv6vrkRmQO3YgV1H97FE5Q.jpg',\n   'genre_ids': [27, 9648, 53],\n   'id': 614479,\n   'original_language': 'en',\n   'original_title': 'Insidious: The Red Door',\n   'overview': \"To put their demons to rest once and for all, Josh Lambert and a college-aged Dalton Lambert must go deeper into The Further than ever before, facing their family's dark past and a host of new and more horrifying terrors that lurk behind the red door.\",\n   'popularity': 1219.176,\n   'poster_path': '/uS1AIL7I1Ycgs8PTfqUeN6jYNsQ.jpg',\n   'release_date': '2023-07-05',\n   'title': 'Insidious: The Red Door',\n   'video': False,\n   'vote_average': 6.4,\n   'vote_count': 52},\n  {'adult': False,\n   'backdrop_path': '/vw3zNfzvnVNF7nIjpiEgcdznfeC.jpg',\n   'genre_ids': [16, 28, 14],\n   'id': 664767,\n   'original_language': 'en',\n   'original_title': \"Mortal Kombat Legends: Scorpion's Revenge\",\n   'overview': 'After the vicious slaughter of his family by stone-cold mercenary Sub-Zero, Hanzo Hasashi is exiled to the torturous Netherrealm. There, in exchange for his servitude to the sinister Quan Chi, he’s given a chance to avenge his family – and is resurrected as Scorpion, a lost soul bent on revenge. Back on Earthrealm, Lord Raiden gathers a team of elite warriors – Shaolin monk Liu Kang, Special Forces officer Sonya Blade and action star Johnny Cage – an unlikely band of heroes with one chance to save humanity. To do this, they must defeat Shang Tsung’s horde of Outworld gladiators and reign over the Mortal Kombat tournament.',\n   'popularity': 1218.242,\n   'poster_path': '/4VlXER3FImHeFuUjBShFamhIp9M.jpg',\n   'release_date': '2020-04-12',\n   'title': \"Mortal Kombat Legends: Scorpion's Revenge\",\n   'video': False,\n   'vote_average': 8.2,\n   'vote_count': 1228},\n  {'adult': False,\n   'backdrop_path': '/zxnfMi4qW0bdAtcwCogrR9dRrqd.jpg',\n   'genre_ids': [878, 9648, 53],\n   'id': 1103825,\n   'original_language': 'en',\n   'original_title': 'War of the Worlds: The Attack',\n   'overview': 'Three young astronomers fight to survive a deadly Martian invasion.',\n   'popularity': 1210.631,\n   'poster_path': '/c3CUKHtQUvPvp9NSFsKwYsPLAdW.jpg',\n   'release_date': '2023-04-21',\n   'title': 'War of the Worlds: The Attack',\n   'video': False,\n   'vote_average': 3.6,\n   'vote_count': 13},\n  {'adult': False,\n   'backdrop_path': '/wRxLAw4l17LqiFcPLkobriPTZAw.jpg',\n   'genre_ids': [28, 53],\n   'id': 697843,\n   'original_language': 'en',\n   'original_title': 'Extraction 2',\n   'overview': \"Tasked with extracting a family who is at the mercy of a Georgian gangster, Tyler Rake infiltrates one of the world's deadliest prisons in order to save them. But when the extraction gets hot, and the gangster dies in the heat of battle, his equally ruthless brother tracks down Rake and his team to Vienna, in order to get revenge.\",\n   'popularity': 1186.015,\n   'poster_path': '/7gKI9hpEMcZUQpNgKrkDzJpbnNS.jpg',\n   'release_date': '2023-06-09',\n   'title': 'Extraction 2',\n   'video': False,\n   'vote_average': 7.6,\n   'vote_count': 1219},\n  {'adult': False,\n   'backdrop_path': '/qi6Edc1OPcyENecGtz8TF0DUr9e.jpg',\n   'genre_ids': [27, 9648, 53],\n   'id': 423108,\n   'original_language': 'en',\n   'original_title': 'The Conjuring: The Devil Made Me Do It',\n   'overview': \"Paranormal investigators Ed and Lorraine Warren encounter what would become one of the most sensational cases from their files. The fight for the soul of a young boy takes them beyond anything they'd ever seen before, to mark the first time in U.S. history that a murder suspect would claim demonic possession as a defense.\",\n   'popularity': 1128.141,\n   'poster_path': '/xbSuFiJbbBWCkyCCKIMfuDCA4yV.jpg',\n   'release_date': '2021-05-25',\n   'title': 'The Conjuring: The Devil Made Me Do It',\n   'video': False,\n   'vote_average': 7.5,\n   'vote_count': 5173},\n  {'adult': False,\n   'backdrop_path': '/euO884625eFLfKLoc0MtFs5QiOS.jpg',\n   'genre_ids': [9648, 53, 28],\n   'id': 1070802,\n   'original_language': 'en',\n   'original_title': 'Confidential Informant',\n   'overview': 'During a crack epidemic two narcotics agents hunting for a cop killer. Hoping for leads, Moran and Thorton pay off a junkie informant. To provide for his wife and son, Moran involves the stool pigeon in a deadly scheme. This causes the partners to come under the scrutiny of a suspicious internal affairs agent.',\n   'popularity': 1119.723,\n   'poster_path': '/kCyAyqF6TKylJFuddaHtqq20b62.jpg',\n   'release_date': '2023-06-27',\n   'title': 'Confidential Informant',\n   'video': False,\n   'vote_average': 5.8,\n   'vote_count': 25},\n  {'adult': False,\n   'backdrop_path': '/dssCw0mUmD4EriUmkwB3PnsGu4q.jpg',\n   'genre_ids': [16, 28, 14],\n   'id': 841755,\n   'original_language': 'en',\n   'original_title': 'Mortal Kombat Legends: Battle of the Realms',\n   'overview': 'The Earthrealm heroes must journey to the Outworld and fight for the survival of their homeland, invaded by the forces of evil warlord Shao Kahn, in the tournament to end all tournaments: the final Mortal Kombat.',\n   'popularity': 900.665,\n   'poster_path': '/ablrE8IbWcIrAxMmm4gnPn75AMS.jpg',\n   'release_date': '2021-08-31',\n   'title': 'Mortal Kombat Legends: Battle of the Realms',\n   'video': False,\n   'vote_average': 7.8,\n   'vote_count': 366},\n  {'adult': False,\n   'backdrop_path': '/xDEVdWduhRdNS4PzA6wif6FjUQb.jpg',\n   'genre_ids': [28, 14, 53],\n   'id': 1036561,\n   'original_language': 'en',\n   'original_title': 'Shadow Master',\n   'overview': 'After being slain by a group of criminals, a man is reborn with animal-like superpowers and makes it his mission to right the wrongs of his city.',\n   'popularity': 892.645,\n   'poster_path': '/67ZsRKbItt6B1yHlsJKgfPWOyuJ.jpg',\n   'release_date': '2022-11-03',\n   'title': 'Shadow Master',\n   'video': False,\n   'vote_average': 6.7,\n   'vote_count': 61},\n  {'adult': False,\n   'backdrop_path': '/lntyt4OVDbcxA1l7LtwITbrD3FI.jpg',\n   'genre_ids': [10749, 18],\n   'id': 1010581,\n   'original_language': 'es',\n   'original_title': 'Culpa mía',\n   'overview': \"Noah must leave her city, boyfriend, and friends to move into William Leister's mansion, the flashy and wealthy husband of her mother Rafaela. As a proud and independent 17 year old, Noah resists living in a mansion surrounded by luxury. However, it is there where she meets Nick, her new stepbrother, and the clash of their strong personalities becomes evident from the very beginning.\",\n   'popularity': 824.856,\n   'poster_path': '/w46Vw536HwNnEzOa7J24YH9DPRS.jpg',\n   'release_date': '2023-06-08',\n   'title': 'My Fault',\n   'video': False,\n   'vote_average': 8.3,\n   'vote_count': 1085},\n  {'adult': False,\n   'backdrop_path': '/fCw8CVgII6W7ALbIh0SgXax3Hsj.jpg',\n   'genre_ids': [12, 10751, 14, 10749],\n   'id': 447277,\n   'original_language': 'en',\n   'original_title': 'The Little Mermaid',\n   'overview': 'The youngest of King Triton’s daughters, and the most defiant, Ariel longs to find out more about the world beyond the sea, and while visiting the surface, falls for the dashing Prince Eric. With mermaids forbidden to interact with humans, Ariel makes a deal with the evil sea witch, Ursula, which gives her a chance to experience life on land, but ultimately places her life – and her father’s crown – in jeopardy.',\n   'popularity': 810.698,\n   'poster_path': '/ym1dxyOk4jFcSl4Q2zmRrA5BEEN.jpg',\n   'release_date': '2023-05-18',\n   'title': 'The Little Mermaid',\n   'video': False,\n   'vote_average': 6.3,\n   'vote_count': 844},\n  {'adult': False,\n   'backdrop_path': '/lQzSMhkAl90iXPirjnLbRHkxApC.jpg',\n   'genre_ids': [27],\n   'id': 917007,\n   'original_language': 'en',\n   'original_title': 'Bed Rest',\n   'overview': \"A pregnant woman on bed rest begins to wonder if her house is haunted or if it's all in her head.\",\n   'popularity': 790.463,\n   'poster_path': '/tiZF8b9T9fMcwvsEEkJ5ik1wCnV.jpg',\n   'release_date': '2022-12-08',\n   'title': 'Bed Rest',\n   'video': False,\n   'vote_average': 6.8,\n   'vote_count': 81},\n  {'adult': False,\n   'backdrop_path': '/8rpDcsfLJypbO6vREc0547VKqEv.jpg',\n   'genre_ids': [878, 12, 28],\n   'id': 76600,\n   'original_language': 'en',\n   'original_title': 'Avatar: The Way of Water',\n   'overview': 'Set more than a decade after the events of the first film, learn the story of the Sully family (Jake, Neytiri, and their kids), the trouble that follows them, the lengths they go to keep each other safe, the battles they fight to stay alive, and the tragedies they endure.',\n   'popularity': 767.111,\n   'poster_path': '/t6HIqrRAclMCA60NsSmeqe9RmNV.jpg',\n   'release_date': '2022-12-14',\n   'title': 'Avatar: The Way of Water',\n   'video': False,\n   'vote_average': 7.7,\n   'vote_count': 9042}],\n 'total_pages': 5751,\n 'total_results': 115007}"
     },
     "execution_count": 43,
     "metadata": {},
     "output_type": "execute_result"
    }
   ],
   "source": [
    "data"
   ],
   "metadata": {
    "collapsed": false,
    "ExecuteTime": {
     "end_time": "2023-07-09T15:14:30.849177600Z",
     "start_time": "2023-07-09T15:14:30.820625100Z"
    }
   }
  },
  {
   "cell_type": "code",
   "execution_count": 44,
   "outputs": [
    {
     "data": {
      "text/plain": "    page                                            results  total_pages  \\\n0      1  {'adult': False, 'backdrop_path': '/oqP1qEZccq...         5751   \n1      1  {'adult': False, 'backdrop_path': '/4XM8DUTQb3...         5751   \n2      1  {'adult': False, 'backdrop_path': '/5YZbUmjbMa...         5751   \n3      1  {'adult': False, 'backdrop_path': '/4HodYYKEIs...         5751   \n4      1  {'adult': False, 'backdrop_path': '/7I6VUdPj6t...         5751   \n5      1  {'adult': False, 'backdrop_path': '/9n2tJBplPb...         5751   \n6      1  {'adult': False, 'backdrop_path': '/woJbg7Zqid...         5751   \n7      1  {'adult': False, 'backdrop_path': '/cSYLX73Wsk...         5751   \n8      1  {'adult': False, 'backdrop_path': '/hPcP1kv6vr...         5751   \n9      1  {'adult': False, 'backdrop_path': '/vw3zNfzvnV...         5751   \n10     1  {'adult': False, 'backdrop_path': '/zxnfMi4qW0...         5751   \n11     1  {'adult': False, 'backdrop_path': '/wRxLAw4l17...         5751   \n12     1  {'adult': False, 'backdrop_path': '/qi6Edc1OPc...         5751   \n13     1  {'adult': False, 'backdrop_path': '/euO884625e...         5751   \n14     1  {'adult': False, 'backdrop_path': '/dssCw0mUmD...         5751   \n15     1  {'adult': False, 'backdrop_path': '/xDEVdWduhR...         5751   \n16     1  {'adult': False, 'backdrop_path': '/lntyt4OVDb...         5751   \n17     1  {'adult': False, 'backdrop_path': '/fCw8CVgII6...         5751   \n18     1  {'adult': False, 'backdrop_path': '/lQzSMhkAl9...         5751   \n19     1  {'adult': False, 'backdrop_path': '/8rpDcsfLJy...         5751   \n\n    total_results  \n0          115007  \n1          115007  \n2          115007  \n3          115007  \n4          115007  \n5          115007  \n6          115007  \n7          115007  \n8          115007  \n9          115007  \n10         115007  \n11         115007  \n12         115007  \n13         115007  \n14         115007  \n15         115007  \n16         115007  \n17         115007  \n18         115007  \n19         115007  ",
      "text/html": "<div>\n<style scoped>\n    .dataframe tbody tr th:only-of-type {\n        vertical-align: middle;\n    }\n\n    .dataframe tbody tr th {\n        vertical-align: top;\n    }\n\n    .dataframe thead th {\n        text-align: right;\n    }\n</style>\n<table border=\"1\" class=\"dataframe\">\n  <thead>\n    <tr style=\"text-align: right;\">\n      <th></th>\n      <th>page</th>\n      <th>results</th>\n      <th>total_pages</th>\n      <th>total_results</th>\n    </tr>\n  </thead>\n  <tbody>\n    <tr>\n      <th>0</th>\n      <td>1</td>\n      <td>{'adult': False, 'backdrop_path': '/oqP1qEZccq...</td>\n      <td>5751</td>\n      <td>115007</td>\n    </tr>\n    <tr>\n      <th>1</th>\n      <td>1</td>\n      <td>{'adult': False, 'backdrop_path': '/4XM8DUTQb3...</td>\n      <td>5751</td>\n      <td>115007</td>\n    </tr>\n    <tr>\n      <th>2</th>\n      <td>1</td>\n      <td>{'adult': False, 'backdrop_path': '/5YZbUmjbMa...</td>\n      <td>5751</td>\n      <td>115007</td>\n    </tr>\n    <tr>\n      <th>3</th>\n      <td>1</td>\n      <td>{'adult': False, 'backdrop_path': '/4HodYYKEIs...</td>\n      <td>5751</td>\n      <td>115007</td>\n    </tr>\n    <tr>\n      <th>4</th>\n      <td>1</td>\n      <td>{'adult': False, 'backdrop_path': '/7I6VUdPj6t...</td>\n      <td>5751</td>\n      <td>115007</td>\n    </tr>\n    <tr>\n      <th>5</th>\n      <td>1</td>\n      <td>{'adult': False, 'backdrop_path': '/9n2tJBplPb...</td>\n      <td>5751</td>\n      <td>115007</td>\n    </tr>\n    <tr>\n      <th>6</th>\n      <td>1</td>\n      <td>{'adult': False, 'backdrop_path': '/woJbg7Zqid...</td>\n      <td>5751</td>\n      <td>115007</td>\n    </tr>\n    <tr>\n      <th>7</th>\n      <td>1</td>\n      <td>{'adult': False, 'backdrop_path': '/cSYLX73Wsk...</td>\n      <td>5751</td>\n      <td>115007</td>\n    </tr>\n    <tr>\n      <th>8</th>\n      <td>1</td>\n      <td>{'adult': False, 'backdrop_path': '/hPcP1kv6vr...</td>\n      <td>5751</td>\n      <td>115007</td>\n    </tr>\n    <tr>\n      <th>9</th>\n      <td>1</td>\n      <td>{'adult': False, 'backdrop_path': '/vw3zNfzvnV...</td>\n      <td>5751</td>\n      <td>115007</td>\n    </tr>\n    <tr>\n      <th>10</th>\n      <td>1</td>\n      <td>{'adult': False, 'backdrop_path': '/zxnfMi4qW0...</td>\n      <td>5751</td>\n      <td>115007</td>\n    </tr>\n    <tr>\n      <th>11</th>\n      <td>1</td>\n      <td>{'adult': False, 'backdrop_path': '/wRxLAw4l17...</td>\n      <td>5751</td>\n      <td>115007</td>\n    </tr>\n    <tr>\n      <th>12</th>\n      <td>1</td>\n      <td>{'adult': False, 'backdrop_path': '/qi6Edc1OPc...</td>\n      <td>5751</td>\n      <td>115007</td>\n    </tr>\n    <tr>\n      <th>13</th>\n      <td>1</td>\n      <td>{'adult': False, 'backdrop_path': '/euO884625e...</td>\n      <td>5751</td>\n      <td>115007</td>\n    </tr>\n    <tr>\n      <th>14</th>\n      <td>1</td>\n      <td>{'adult': False, 'backdrop_path': '/dssCw0mUmD...</td>\n      <td>5751</td>\n      <td>115007</td>\n    </tr>\n    <tr>\n      <th>15</th>\n      <td>1</td>\n      <td>{'adult': False, 'backdrop_path': '/xDEVdWduhR...</td>\n      <td>5751</td>\n      <td>115007</td>\n    </tr>\n    <tr>\n      <th>16</th>\n      <td>1</td>\n      <td>{'adult': False, 'backdrop_path': '/lntyt4OVDb...</td>\n      <td>5751</td>\n      <td>115007</td>\n    </tr>\n    <tr>\n      <th>17</th>\n      <td>1</td>\n      <td>{'adult': False, 'backdrop_path': '/fCw8CVgII6...</td>\n      <td>5751</td>\n      <td>115007</td>\n    </tr>\n    <tr>\n      <th>18</th>\n      <td>1</td>\n      <td>{'adult': False, 'backdrop_path': '/lQzSMhkAl9...</td>\n      <td>5751</td>\n      <td>115007</td>\n    </tr>\n    <tr>\n      <th>19</th>\n      <td>1</td>\n      <td>{'adult': False, 'backdrop_path': '/8rpDcsfLJy...</td>\n      <td>5751</td>\n      <td>115007</td>\n    </tr>\n  </tbody>\n</table>\n</div>"
     },
     "execution_count": 44,
     "metadata": {},
     "output_type": "execute_result"
    }
   ],
   "source": [
    "pd.DataFrame(data)"
   ],
   "metadata": {
    "collapsed": false,
    "ExecuteTime": {
     "end_time": "2023-07-09T15:14:47.849138100Z",
     "start_time": "2023-07-09T15:14:47.795950500Z"
    }
   }
  },
  {
   "cell_type": "code",
   "execution_count": 45,
   "outputs": [
    {
     "data": {
      "text/plain": "    adult                     backdrop_path                   genre_ids  \\\n0   False  /oqP1qEZccq5AD9TVTIaO6IGUj7o.jpg                [14, 28, 12]   \n1   False  /4XM8DUTQb3lhLemJC51Jx4a2EuA.jpg                [28, 80, 53]   \n2   False  /5YZbUmjbMa3ClvSW1Wj3D6XGolb.jpg               [878, 12, 28]   \n3   False  /4HodYYKEIsGOdinkGi2Ucz6X9i0.jpg           [28, 12, 16, 878]   \n4   False  /7I6VUdPj6tQECNHdviJkUHD2u89.jpg                [28, 53, 80]   \n5   False  /9n2tJBplPbgR2ca05hS5CKXwP2c.jpg     [16, 10751, 12, 14, 35]   \n6   False  /woJbg7ZqidhpvqFGGMRhWQNoxwa.jpg               [28, 12, 878]   \n7   False  /cSYLX73WskxCgvpN3MtRkYUSj1T.jpg  [16, 35, 10751, 14, 10749]   \n8   False  /hPcP1kv6vrkRmQO3YgV1H97FE5Q.jpg              [27, 9648, 53]   \n9   False  /vw3zNfzvnVNF7nIjpiEgcdznfeC.jpg                [16, 28, 14]   \n10  False  /zxnfMi4qW0bdAtcwCogrR9dRrqd.jpg             [878, 9648, 53]   \n11  False  /wRxLAw4l17LqiFcPLkobriPTZAw.jpg                    [28, 53]   \n12  False  /qi6Edc1OPcyENecGtz8TF0DUr9e.jpg              [27, 9648, 53]   \n13  False  /euO884625eFLfKLoc0MtFs5QiOS.jpg              [9648, 53, 28]   \n14  False  /dssCw0mUmD4EriUmkwB3PnsGu4q.jpg                [16, 28, 14]   \n15  False  /xDEVdWduhRdNS4PzA6wif6FjUQb.jpg                [28, 14, 53]   \n16  False  /lntyt4OVDbcxA1l7LtwITbrD3FI.jpg                 [10749, 18]   \n17  False  /fCw8CVgII6W7ALbIh0SgXax3Hsj.jpg      [12, 10751, 14, 10749]   \n18  False  /lQzSMhkAl90iXPirjnLbRHkxApC.jpg                        [27]   \n19  False  /8rpDcsfLJypbO6vREc0547VKqEv.jpg               [878, 12, 28]   \n\n         id original_language                               original_title  \\\n0    455476                en                        Knights of the Zodiac   \n1    385687                en                                       Fast X   \n2    447365                en               Guardians of the Galaxy Vol. 3   \n3    569094                en          Spider-Man: Across the Spider-Verse   \n4    603692                en                         John Wick: Chapter 4   \n5    502356                en                  The Super Mario Bros. Movie   \n6    667538                en             Transformers: Rise of the Beasts   \n7    976573                en                                    Elemental   \n8    614479                en                      Insidious: The Red Door   \n9    664767                en    Mortal Kombat Legends: Scorpion's Revenge   \n10  1103825                en                War of the Worlds: The Attack   \n11   697843                en                                 Extraction 2   \n12   423108                en       The Conjuring: The Devil Made Me Do It   \n13  1070802                en                       Confidential Informant   \n14   841755                en  Mortal Kombat Legends: Battle of the Realms   \n15  1036561                en                                Shadow Master   \n16  1010581                es                                    Culpa mía   \n17   447277                en                           The Little Mermaid   \n18   917007                en                                     Bed Rest   \n19    76600                en                     Avatar: The Way of Water   \n\n                                             overview  popularity  \\\n0   When a headstrong street orphan, Seiya, in sea...    3362.234   \n1   Over many missions and against impossible odds...    3202.443   \n2   Peter Quill, still reeling from the loss of Ga...    2239.681   \n3   After reuniting with Gwen Stacy, Brooklyn’s fu...    1573.313   \n4   With the price on his head ever increasing, Jo...    1507.498   \n5   While working underground to fix a water main,...    1402.819   \n6   When a new threat capable of destroying the en...    1385.190   \n7   In a city where fire, water, land and air resi...    1283.020   \n8   To put their demons to rest once and for all, ...    1219.176   \n9   After the vicious slaughter of his family by s...    1218.242   \n10  Three young astronomers fight to survive a dea...    1210.631   \n11  Tasked with extracting a family who is at the ...    1186.015   \n12  Paranormal investigators Ed and Lorraine Warre...    1128.141   \n13  During a crack epidemic two narcotics agents h...    1119.723   \n14  The Earthrealm heroes must journey to the Outw...     900.665   \n15  After being slain by a group of criminals, a m...     892.645   \n16  Noah must leave her city, boyfriend, and frien...     824.856   \n17  The youngest of King Triton’s daughters, and t...     810.698   \n18  A pregnant woman on bed rest begins to wonder ...     790.463   \n19  Set more than a decade after the events of the...     767.111   \n\n                         poster_path release_date  \\\n0   /qW4crfED8mpNDadSmMdi7ZDzhXF.jpg   2023-04-27   \n1   /fiVW06jE7z9YnO4trhaMEdclSiC.jpg   2023-05-17   \n2   /r2J02Z2OpNTctfOSN1Ydgii51I3.jpg   2023-05-03   \n3   /8Vt6mWEReuy4Of61Lnj5Xj704m8.jpg   2023-05-31   \n4    /vZloFAK7NmvMGKE7VkF5UHaz0I.jpg   2023-03-22   \n5   /qNBAXBIQlnOThrVvA6mA2B5ggV6.jpg   2023-04-05   \n6   /gPbM0MK8CP8A174rmUwGsADNYKD.jpg   2023-06-06   \n7   /8riWcADI1ekEiBguVB9vkilhiQm.jpg   2023-06-14   \n8   /uS1AIL7I1Ycgs8PTfqUeN6jYNsQ.jpg   2023-07-05   \n9   /4VlXER3FImHeFuUjBShFamhIp9M.jpg   2020-04-12   \n10  /c3CUKHtQUvPvp9NSFsKwYsPLAdW.jpg   2023-04-21   \n11  /7gKI9hpEMcZUQpNgKrkDzJpbnNS.jpg   2023-06-09   \n12  /xbSuFiJbbBWCkyCCKIMfuDCA4yV.jpg   2021-05-25   \n13  /kCyAyqF6TKylJFuddaHtqq20b62.jpg   2023-06-27   \n14  /ablrE8IbWcIrAxMmm4gnPn75AMS.jpg   2021-08-31   \n15  /67ZsRKbItt6B1yHlsJKgfPWOyuJ.jpg   2022-11-03   \n16  /w46Vw536HwNnEzOa7J24YH9DPRS.jpg   2023-06-08   \n17  /ym1dxyOk4jFcSl4Q2zmRrA5BEEN.jpg   2023-05-18   \n18  /tiZF8b9T9fMcwvsEEkJ5ik1wCnV.jpg   2022-12-08   \n19  /t6HIqrRAclMCA60NsSmeqe9RmNV.jpg   2022-12-14   \n\n                                          title  video  vote_average  \\\n0                         Knights of the Zodiac  False           6.6   \n1                                        Fast X  False           7.4   \n2                Guardians of the Galaxy Vol. 3  False           8.1   \n3           Spider-Man: Across the Spider-Verse  False           8.5   \n4                          John Wick: Chapter 4  False           7.9   \n5                   The Super Mario Bros. Movie  False           7.8   \n6              Transformers: Rise of the Beasts  False           7.3   \n7                                     Elemental  False           7.5   \n8                       Insidious: The Red Door  False           6.4   \n9     Mortal Kombat Legends: Scorpion's Revenge  False           8.2   \n10                War of the Worlds: The Attack  False           3.6   \n11                                 Extraction 2  False           7.6   \n12       The Conjuring: The Devil Made Me Do It  False           7.5   \n13                       Confidential Informant  False           5.8   \n14  Mortal Kombat Legends: Battle of the Realms  False           7.8   \n15                                Shadow Master  False           6.7   \n16                                     My Fault  False           8.3   \n17                           The Little Mermaid  False           6.3   \n18                                     Bed Rest  False           6.8   \n19                     Avatar: The Way of Water  False           7.7   \n\n    vote_count  \n0          348  \n1         2479  \n2         2467  \n3         2093  \n4         3559  \n5         5458  \n6          587  \n7          380  \n8           52  \n9         1228  \n10          13  \n11        1219  \n12        5173  \n13          25  \n14         366  \n15          61  \n16        1085  \n17         844  \n18          81  \n19        9042  ",
      "text/html": "<div>\n<style scoped>\n    .dataframe tbody tr th:only-of-type {\n        vertical-align: middle;\n    }\n\n    .dataframe tbody tr th {\n        vertical-align: top;\n    }\n\n    .dataframe thead th {\n        text-align: right;\n    }\n</style>\n<table border=\"1\" class=\"dataframe\">\n  <thead>\n    <tr style=\"text-align: right;\">\n      <th></th>\n      <th>adult</th>\n      <th>backdrop_path</th>\n      <th>genre_ids</th>\n      <th>id</th>\n      <th>original_language</th>\n      <th>original_title</th>\n      <th>overview</th>\n      <th>popularity</th>\n      <th>poster_path</th>\n      <th>release_date</th>\n      <th>title</th>\n      <th>video</th>\n      <th>vote_average</th>\n      <th>vote_count</th>\n    </tr>\n  </thead>\n  <tbody>\n    <tr>\n      <th>0</th>\n      <td>False</td>\n      <td>/oqP1qEZccq5AD9TVTIaO6IGUj7o.jpg</td>\n      <td>[14, 28, 12]</td>\n      <td>455476</td>\n      <td>en</td>\n      <td>Knights of the Zodiac</td>\n      <td>When a headstrong street orphan, Seiya, in sea...</td>\n      <td>3362.234</td>\n      <td>/qW4crfED8mpNDadSmMdi7ZDzhXF.jpg</td>\n      <td>2023-04-27</td>\n      <td>Knights of the Zodiac</td>\n      <td>False</td>\n      <td>6.6</td>\n      <td>348</td>\n    </tr>\n    <tr>\n      <th>1</th>\n      <td>False</td>\n      <td>/4XM8DUTQb3lhLemJC51Jx4a2EuA.jpg</td>\n      <td>[28, 80, 53]</td>\n      <td>385687</td>\n      <td>en</td>\n      <td>Fast X</td>\n      <td>Over many missions and against impossible odds...</td>\n      <td>3202.443</td>\n      <td>/fiVW06jE7z9YnO4trhaMEdclSiC.jpg</td>\n      <td>2023-05-17</td>\n      <td>Fast X</td>\n      <td>False</td>\n      <td>7.4</td>\n      <td>2479</td>\n    </tr>\n    <tr>\n      <th>2</th>\n      <td>False</td>\n      <td>/5YZbUmjbMa3ClvSW1Wj3D6XGolb.jpg</td>\n      <td>[878, 12, 28]</td>\n      <td>447365</td>\n      <td>en</td>\n      <td>Guardians of the Galaxy Vol. 3</td>\n      <td>Peter Quill, still reeling from the loss of Ga...</td>\n      <td>2239.681</td>\n      <td>/r2J02Z2OpNTctfOSN1Ydgii51I3.jpg</td>\n      <td>2023-05-03</td>\n      <td>Guardians of the Galaxy Vol. 3</td>\n      <td>False</td>\n      <td>8.1</td>\n      <td>2467</td>\n    </tr>\n    <tr>\n      <th>3</th>\n      <td>False</td>\n      <td>/4HodYYKEIsGOdinkGi2Ucz6X9i0.jpg</td>\n      <td>[28, 12, 16, 878]</td>\n      <td>569094</td>\n      <td>en</td>\n      <td>Spider-Man: Across the Spider-Verse</td>\n      <td>After reuniting with Gwen Stacy, Brooklyn’s fu...</td>\n      <td>1573.313</td>\n      <td>/8Vt6mWEReuy4Of61Lnj5Xj704m8.jpg</td>\n      <td>2023-05-31</td>\n      <td>Spider-Man: Across the Spider-Verse</td>\n      <td>False</td>\n      <td>8.5</td>\n      <td>2093</td>\n    </tr>\n    <tr>\n      <th>4</th>\n      <td>False</td>\n      <td>/7I6VUdPj6tQECNHdviJkUHD2u89.jpg</td>\n      <td>[28, 53, 80]</td>\n      <td>603692</td>\n      <td>en</td>\n      <td>John Wick: Chapter 4</td>\n      <td>With the price on his head ever increasing, Jo...</td>\n      <td>1507.498</td>\n      <td>/vZloFAK7NmvMGKE7VkF5UHaz0I.jpg</td>\n      <td>2023-03-22</td>\n      <td>John Wick: Chapter 4</td>\n      <td>False</td>\n      <td>7.9</td>\n      <td>3559</td>\n    </tr>\n    <tr>\n      <th>5</th>\n      <td>False</td>\n      <td>/9n2tJBplPbgR2ca05hS5CKXwP2c.jpg</td>\n      <td>[16, 10751, 12, 14, 35]</td>\n      <td>502356</td>\n      <td>en</td>\n      <td>The Super Mario Bros. Movie</td>\n      <td>While working underground to fix a water main,...</td>\n      <td>1402.819</td>\n      <td>/qNBAXBIQlnOThrVvA6mA2B5ggV6.jpg</td>\n      <td>2023-04-05</td>\n      <td>The Super Mario Bros. Movie</td>\n      <td>False</td>\n      <td>7.8</td>\n      <td>5458</td>\n    </tr>\n    <tr>\n      <th>6</th>\n      <td>False</td>\n      <td>/woJbg7ZqidhpvqFGGMRhWQNoxwa.jpg</td>\n      <td>[28, 12, 878]</td>\n      <td>667538</td>\n      <td>en</td>\n      <td>Transformers: Rise of the Beasts</td>\n      <td>When a new threat capable of destroying the en...</td>\n      <td>1385.190</td>\n      <td>/gPbM0MK8CP8A174rmUwGsADNYKD.jpg</td>\n      <td>2023-06-06</td>\n      <td>Transformers: Rise of the Beasts</td>\n      <td>False</td>\n      <td>7.3</td>\n      <td>587</td>\n    </tr>\n    <tr>\n      <th>7</th>\n      <td>False</td>\n      <td>/cSYLX73WskxCgvpN3MtRkYUSj1T.jpg</td>\n      <td>[16, 35, 10751, 14, 10749]</td>\n      <td>976573</td>\n      <td>en</td>\n      <td>Elemental</td>\n      <td>In a city where fire, water, land and air resi...</td>\n      <td>1283.020</td>\n      <td>/8riWcADI1ekEiBguVB9vkilhiQm.jpg</td>\n      <td>2023-06-14</td>\n      <td>Elemental</td>\n      <td>False</td>\n      <td>7.5</td>\n      <td>380</td>\n    </tr>\n    <tr>\n      <th>8</th>\n      <td>False</td>\n      <td>/hPcP1kv6vrkRmQO3YgV1H97FE5Q.jpg</td>\n      <td>[27, 9648, 53]</td>\n      <td>614479</td>\n      <td>en</td>\n      <td>Insidious: The Red Door</td>\n      <td>To put their demons to rest once and for all, ...</td>\n      <td>1219.176</td>\n      <td>/uS1AIL7I1Ycgs8PTfqUeN6jYNsQ.jpg</td>\n      <td>2023-07-05</td>\n      <td>Insidious: The Red Door</td>\n      <td>False</td>\n      <td>6.4</td>\n      <td>52</td>\n    </tr>\n    <tr>\n      <th>9</th>\n      <td>False</td>\n      <td>/vw3zNfzvnVNF7nIjpiEgcdznfeC.jpg</td>\n      <td>[16, 28, 14]</td>\n      <td>664767</td>\n      <td>en</td>\n      <td>Mortal Kombat Legends: Scorpion's Revenge</td>\n      <td>After the vicious slaughter of his family by s...</td>\n      <td>1218.242</td>\n      <td>/4VlXER3FImHeFuUjBShFamhIp9M.jpg</td>\n      <td>2020-04-12</td>\n      <td>Mortal Kombat Legends: Scorpion's Revenge</td>\n      <td>False</td>\n      <td>8.2</td>\n      <td>1228</td>\n    </tr>\n    <tr>\n      <th>10</th>\n      <td>False</td>\n      <td>/zxnfMi4qW0bdAtcwCogrR9dRrqd.jpg</td>\n      <td>[878, 9648, 53]</td>\n      <td>1103825</td>\n      <td>en</td>\n      <td>War of the Worlds: The Attack</td>\n      <td>Three young astronomers fight to survive a dea...</td>\n      <td>1210.631</td>\n      <td>/c3CUKHtQUvPvp9NSFsKwYsPLAdW.jpg</td>\n      <td>2023-04-21</td>\n      <td>War of the Worlds: The Attack</td>\n      <td>False</td>\n      <td>3.6</td>\n      <td>13</td>\n    </tr>\n    <tr>\n      <th>11</th>\n      <td>False</td>\n      <td>/wRxLAw4l17LqiFcPLkobriPTZAw.jpg</td>\n      <td>[28, 53]</td>\n      <td>697843</td>\n      <td>en</td>\n      <td>Extraction 2</td>\n      <td>Tasked with extracting a family who is at the ...</td>\n      <td>1186.015</td>\n      <td>/7gKI9hpEMcZUQpNgKrkDzJpbnNS.jpg</td>\n      <td>2023-06-09</td>\n      <td>Extraction 2</td>\n      <td>False</td>\n      <td>7.6</td>\n      <td>1219</td>\n    </tr>\n    <tr>\n      <th>12</th>\n      <td>False</td>\n      <td>/qi6Edc1OPcyENecGtz8TF0DUr9e.jpg</td>\n      <td>[27, 9648, 53]</td>\n      <td>423108</td>\n      <td>en</td>\n      <td>The Conjuring: The Devil Made Me Do It</td>\n      <td>Paranormal investigators Ed and Lorraine Warre...</td>\n      <td>1128.141</td>\n      <td>/xbSuFiJbbBWCkyCCKIMfuDCA4yV.jpg</td>\n      <td>2021-05-25</td>\n      <td>The Conjuring: The Devil Made Me Do It</td>\n      <td>False</td>\n      <td>7.5</td>\n      <td>5173</td>\n    </tr>\n    <tr>\n      <th>13</th>\n      <td>False</td>\n      <td>/euO884625eFLfKLoc0MtFs5QiOS.jpg</td>\n      <td>[9648, 53, 28]</td>\n      <td>1070802</td>\n      <td>en</td>\n      <td>Confidential Informant</td>\n      <td>During a crack epidemic two narcotics agents h...</td>\n      <td>1119.723</td>\n      <td>/kCyAyqF6TKylJFuddaHtqq20b62.jpg</td>\n      <td>2023-06-27</td>\n      <td>Confidential Informant</td>\n      <td>False</td>\n      <td>5.8</td>\n      <td>25</td>\n    </tr>\n    <tr>\n      <th>14</th>\n      <td>False</td>\n      <td>/dssCw0mUmD4EriUmkwB3PnsGu4q.jpg</td>\n      <td>[16, 28, 14]</td>\n      <td>841755</td>\n      <td>en</td>\n      <td>Mortal Kombat Legends: Battle of the Realms</td>\n      <td>The Earthrealm heroes must journey to the Outw...</td>\n      <td>900.665</td>\n      <td>/ablrE8IbWcIrAxMmm4gnPn75AMS.jpg</td>\n      <td>2021-08-31</td>\n      <td>Mortal Kombat Legends: Battle of the Realms</td>\n      <td>False</td>\n      <td>7.8</td>\n      <td>366</td>\n    </tr>\n    <tr>\n      <th>15</th>\n      <td>False</td>\n      <td>/xDEVdWduhRdNS4PzA6wif6FjUQb.jpg</td>\n      <td>[28, 14, 53]</td>\n      <td>1036561</td>\n      <td>en</td>\n      <td>Shadow Master</td>\n      <td>After being slain by a group of criminals, a m...</td>\n      <td>892.645</td>\n      <td>/67ZsRKbItt6B1yHlsJKgfPWOyuJ.jpg</td>\n      <td>2022-11-03</td>\n      <td>Shadow Master</td>\n      <td>False</td>\n      <td>6.7</td>\n      <td>61</td>\n    </tr>\n    <tr>\n      <th>16</th>\n      <td>False</td>\n      <td>/lntyt4OVDbcxA1l7LtwITbrD3FI.jpg</td>\n      <td>[10749, 18]</td>\n      <td>1010581</td>\n      <td>es</td>\n      <td>Culpa mía</td>\n      <td>Noah must leave her city, boyfriend, and frien...</td>\n      <td>824.856</td>\n      <td>/w46Vw536HwNnEzOa7J24YH9DPRS.jpg</td>\n      <td>2023-06-08</td>\n      <td>My Fault</td>\n      <td>False</td>\n      <td>8.3</td>\n      <td>1085</td>\n    </tr>\n    <tr>\n      <th>17</th>\n      <td>False</td>\n      <td>/fCw8CVgII6W7ALbIh0SgXax3Hsj.jpg</td>\n      <td>[12, 10751, 14, 10749]</td>\n      <td>447277</td>\n      <td>en</td>\n      <td>The Little Mermaid</td>\n      <td>The youngest of King Triton’s daughters, and t...</td>\n      <td>810.698</td>\n      <td>/ym1dxyOk4jFcSl4Q2zmRrA5BEEN.jpg</td>\n      <td>2023-05-18</td>\n      <td>The Little Mermaid</td>\n      <td>False</td>\n      <td>6.3</td>\n      <td>844</td>\n    </tr>\n    <tr>\n      <th>18</th>\n      <td>False</td>\n      <td>/lQzSMhkAl90iXPirjnLbRHkxApC.jpg</td>\n      <td>[27]</td>\n      <td>917007</td>\n      <td>en</td>\n      <td>Bed Rest</td>\n      <td>A pregnant woman on bed rest begins to wonder ...</td>\n      <td>790.463</td>\n      <td>/tiZF8b9T9fMcwvsEEkJ5ik1wCnV.jpg</td>\n      <td>2022-12-08</td>\n      <td>Bed Rest</td>\n      <td>False</td>\n      <td>6.8</td>\n      <td>81</td>\n    </tr>\n    <tr>\n      <th>19</th>\n      <td>False</td>\n      <td>/8rpDcsfLJypbO6vREc0547VKqEv.jpg</td>\n      <td>[878, 12, 28]</td>\n      <td>76600</td>\n      <td>en</td>\n      <td>Avatar: The Way of Water</td>\n      <td>Set more than a decade after the events of the...</td>\n      <td>767.111</td>\n      <td>/t6HIqrRAclMCA60NsSmeqe9RmNV.jpg</td>\n      <td>2022-12-14</td>\n      <td>Avatar: The Way of Water</td>\n      <td>False</td>\n      <td>7.7</td>\n      <td>9042</td>\n    </tr>\n  </tbody>\n</table>\n</div>"
     },
     "execution_count": 45,
     "metadata": {},
     "output_type": "execute_result"
    }
   ],
   "source": [
    "pd.DataFrame(data[\"results\"])"
   ],
   "metadata": {
    "collapsed": false,
    "ExecuteTime": {
     "end_time": "2023-07-09T15:15:00.844977600Z",
     "start_time": "2023-07-09T15:15:00.791820200Z"
    }
   }
  },
  {
   "cell_type": "markdown",
   "metadata": {},
   "source": [
    "##  Importing and Saving the Movies Dataset (Best Practice)"
   ]
  },
  {
   "cell_type": "markdown",
   "metadata": {},
   "source": [
    "6. __API-Request__ (movie module): Load all available information for the movies with movie id = [__299534, 19995, 140607, 299536, 597, 135397, 420818, 24428, 168259, 99861, 284054, 12445, 181808, 330457, 351286, 109445, 321612, 260513__] into a Pandas DataFrame and __save the dataset in a local json file__."
   ]
  },
  {
   "cell_type": "code",
   "execution_count": 48,
   "metadata": {
    "ExecuteTime": {
     "end_time": "2023-07-09T15:20:54.725162200Z",
     "start_time": "2023-07-09T15:20:54.712037600Z"
    }
   },
   "outputs": [],
   "source": [
    "import pandas as pd\n",
    "import requests\n",
    "import json\n",
    "pd.options.display.max_columns = 30"
   ]
  },
  {
   "cell_type": "code",
   "execution_count": 49,
   "outputs": [],
   "source": [
    "api_key = config.get('TMDB_API_KEY')"
   ],
   "metadata": {
    "collapsed": false,
    "ExecuteTime": {
     "end_time": "2023-07-09T15:20:55.642895300Z",
     "start_time": "2023-07-09T15:20:55.628214100Z"
    }
   }
  },
  {
   "cell_type": "code",
   "execution_count": 50,
   "outputs": [],
   "source": [
    "movie_id = [0, 299534, 19995, 140607, 299536, 597, 135397,\n",
    "            420818, 24428, 168259, 99861, 284054, 12445,\n",
    "            181808, 330457, 351286, 109445, 321612, 260513]"
   ],
   "metadata": {
    "collapsed": false,
    "ExecuteTime": {
     "end_time": "2023-07-09T15:21:34.757683100Z",
     "start_time": "2023-07-09T15:21:34.730989600Z"
    }
   }
  },
  {
   "cell_type": "code",
   "execution_count": 51,
   "outputs": [],
   "source": [
    "basic_url = 'https://api.themoviedb.org/3/movie/{}?api_key={}'"
   ],
   "metadata": {
    "collapsed": false,
    "ExecuteTime": {
     "end_time": "2023-07-09T15:22:20.306402900Z",
     "start_time": "2023-07-09T15:22:20.278649100Z"
    }
   }
  },
  {
   "cell_type": "code",
   "execution_count": 52,
   "outputs": [],
   "source": [
    "json_list = []\n",
    "for movie in movie_id:\n",
    "    url = basic_url.format(movie, api_key)\n",
    "    r = requests.get(url)\n",
    "    if r.status_code != 200:\n",
    "        continue\n",
    "    else:\n",
    "        data = r.json()\n",
    "        json_list.append(data)\n",
    "        df = pd.DataFrame(json_list)"
   ],
   "metadata": {
    "collapsed": false,
    "ExecuteTime": {
     "end_time": "2023-07-09T15:23:33.551778100Z",
     "start_time": "2023-07-09T15:23:32.205642300Z"
    }
   }
  },
  {
   "cell_type": "code",
   "execution_count": 54,
   "outputs": [
    {
     "data": {
      "text/plain": "[{'adult': False,\n  'backdrop_path': '/7RyHsO4yDXtBv1zUU3mTpHeQ0d5.jpg',\n  'belongs_to_collection': {'id': 86311,\n   'name': 'The Avengers Collection',\n   'poster_path': '/yFSIUVTCvgYrpalUktulvk3Gi5Y.jpg',\n   'backdrop_path': '/zuW6fOiusv4X9nnW3paHGfXcSll.jpg'},\n  'budget': 356000000,\n  'genres': [{'id': 12, 'name': 'Adventure'},\n   {'id': 878, 'name': 'Science Fiction'},\n   {'id': 28, 'name': 'Action'}],\n  'homepage': 'https://www.marvel.com/movies/avengers-endgame',\n  'id': 299534,\n  'imdb_id': 'tt4154796',\n  'original_language': 'en',\n  'original_title': 'Avengers: Endgame',\n  'overview': \"After the devastating events of Avengers: Infinity War, the universe is in ruins due to the efforts of the Mad Titan, Thanos. With the help of remaining allies, the Avengers must assemble once more in order to undo Thanos' actions and restore order to the universe once and for all, no matter what consequences may be in store.\",\n  'popularity': 115.905,\n  'poster_path': '/or06FN3Dka5tukK1e9sl16pB3iy.jpg',\n  'production_companies': [{'id': 420,\n    'logo_path': '/hUzeosd33nzE5MCNsZxCGEKTXaQ.png',\n    'name': 'Marvel Studios',\n    'origin_country': 'US'}],\n  'production_countries': [{'iso_3166_1': 'US',\n    'name': 'United States of America'}],\n  'release_date': '2019-04-24',\n  'revenue': 2794731755,\n  'runtime': 181,\n  'spoken_languages': [{'english_name': 'English',\n    'iso_639_1': 'en',\n    'name': 'English'},\n   {'english_name': 'Japanese', 'iso_639_1': 'ja', 'name': '日本語'},\n   {'english_name': 'Xhosa', 'iso_639_1': 'xh', 'name': ''}],\n  'status': 'Released',\n  'tagline': 'Avenge the fallen.',\n  'title': 'Avengers: Endgame',\n  'video': False,\n  'vote_average': 8.267,\n  'vote_count': 23440},\n {'adult': False,\n  'backdrop_path': '/vL5LR6WdxWPjLPFRLe133jXWsh5.jpg',\n  'belongs_to_collection': {'id': 87096,\n   'name': 'Avatar Collection',\n   'poster_path': '/gC3tW9a45RGOzzSh6wv91pFnmFr.jpg',\n   'backdrop_path': '/iaEsDbQPE45hQU2EGiNjXD2KWuF.jpg'},\n  'budget': 237000000,\n  'genres': [{'id': 28, 'name': 'Action'},\n   {'id': 12, 'name': 'Adventure'},\n   {'id': 14, 'name': 'Fantasy'},\n   {'id': 878, 'name': 'Science Fiction'}],\n  'homepage': 'https://www.avatar.com/movies/avatar',\n  'id': 19995,\n  'imdb_id': 'tt0499549',\n  'original_language': 'en',\n  'original_title': 'Avatar',\n  'overview': 'In the 22nd century, a paraplegic Marine is dispatched to the moon Pandora on a unique mission, but becomes torn between following orders and protecting an alien civilization.',\n  'popularity': 163.824,\n  'poster_path': '/kyeqWdyUXW608qlYkRqosgbbJyK.jpg',\n  'production_companies': [{'id': 444,\n    'logo_path': None,\n    'name': 'Dune Entertainment',\n    'origin_country': 'US'},\n   {'id': 574,\n    'logo_path': '/iB6GjNVHs5hOqcEYt2rcjBqIjki.png',\n    'name': 'Lightstorm Entertainment',\n    'origin_country': 'US'},\n   {'id': 25,\n    'logo_path': '/qZCc1lty5FzX30aOCVRBLzaVmcp.png',\n    'name': '20th Century Fox',\n    'origin_country': 'US'},\n   {'id': 290,\n    'logo_path': '/jrgCuaQsY9ouP5ILZf4Dq4ZOkIX.png',\n    'name': 'Ingenious Media',\n    'origin_country': 'GB'}],\n  'production_countries': [{'iso_3166_1': 'US',\n    'name': 'United States of America'},\n   {'iso_3166_1': 'GB', 'name': 'United Kingdom'}],\n  'release_date': '2009-12-15',\n  'revenue': 2923706026,\n  'runtime': 162,\n  'spoken_languages': [{'english_name': 'English',\n    'iso_639_1': 'en',\n    'name': 'English'},\n   {'english_name': 'Spanish', 'iso_639_1': 'es', 'name': 'Español'}],\n  'status': 'Released',\n  'tagline': 'Enter the world of Pandora.',\n  'title': 'Avatar',\n  'video': False,\n  'vote_average': 7.57,\n  'vote_count': 29380},\n {'adult': False,\n  'backdrop_path': '/8BTsTfln4jlQrLXUBquXJ0ASQy9.jpg',\n  'belongs_to_collection': {'id': 10,\n   'name': 'Star Wars Collection',\n   'poster_path': '/gq5Wi7i4SF3lo4HHkJasDV95xI9.jpg',\n   'backdrop_path': '/d8duYyyC9J5T825Hg7grmaabfxQ.jpg'},\n  'budget': 245000000,\n  'genres': [{'id': 12, 'name': 'Adventure'},\n   {'id': 28, 'name': 'Action'},\n   {'id': 878, 'name': 'Science Fiction'}],\n  'homepage': 'http://www.starwars.com/films/star-wars-episode-vii',\n  'id': 140607,\n  'imdb_id': 'tt2488496',\n  'original_language': 'en',\n  'original_title': 'Star Wars: The Force Awakens',\n  'overview': 'Thirty years after defeating the Galactic Empire, Han Solo and his allies face a new threat from the evil Kylo Ren and his army of Stormtroopers.',\n  'popularity': 52.173,\n  'poster_path': '/wqnLdwVXoBjKibFRR5U3y0aDUhs.jpg',\n  'production_companies': [{'id': 1,\n    'logo_path': '/o86DbpburjxrqAzEDhXZcyE8pDb.png',\n    'name': 'Lucasfilm Ltd.',\n    'origin_country': 'US'},\n   {'id': 11461,\n    'logo_path': '/p9FoEt5shEKRWRKVIlvFaEmRnun.png',\n    'name': 'Bad Robot',\n    'origin_country': 'US'}],\n  'production_countries': [{'iso_3166_1': 'US',\n    'name': 'United States of America'}],\n  'release_date': '2015-12-15',\n  'revenue': 2068223624,\n  'runtime': 136,\n  'spoken_languages': [{'english_name': 'English',\n    'iso_639_1': 'en',\n    'name': 'English'}],\n  'status': 'Released',\n  'tagline': 'Every generation has a story.',\n  'title': 'Star Wars: The Force Awakens',\n  'video': False,\n  'vote_average': 7.295,\n  'vote_count': 18142},\n {'adult': False,\n  'backdrop_path': '/mDfJG3LC3Dqb67AZ52x3Z0jU0uB.jpg',\n  'belongs_to_collection': {'id': 86311,\n   'name': 'The Avengers Collection',\n   'poster_path': '/yFSIUVTCvgYrpalUktulvk3Gi5Y.jpg',\n   'backdrop_path': '/zuW6fOiusv4X9nnW3paHGfXcSll.jpg'},\n  'budget': 300000000,\n  'genres': [{'id': 12, 'name': 'Adventure'},\n   {'id': 28, 'name': 'Action'},\n   {'id': 878, 'name': 'Science Fiction'}],\n  'homepage': 'https://www.marvel.com/movies/avengers-infinity-war',\n  'id': 299536,\n  'imdb_id': 'tt4154756',\n  'original_language': 'en',\n  'original_title': 'Avengers: Infinity War',\n  'overview': 'As the Avengers and their allies have continued to protect the world from threats too large for any one hero to handle, a new danger has emerged from the cosmic shadows: Thanos. A despot of intergalactic infamy, his goal is to collect all six Infinity Stones, artifacts of unimaginable power, and use them to inflict his twisted will on all of reality. Everything the Avengers have fought for has led up to this moment - the fate of Earth and existence itself has never been more uncertain.',\n  'popularity': 233.806,\n  'poster_path': '/7WsyChQLEftFiDOVTGkv3hFpyyt.jpg',\n  'production_companies': [{'id': 420,\n    'logo_path': '/hUzeosd33nzE5MCNsZxCGEKTXaQ.png',\n    'name': 'Marvel Studios',\n    'origin_country': 'US'}],\n  'production_countries': [{'iso_3166_1': 'US',\n    'name': 'United States of America'}],\n  'release_date': '2018-04-25',\n  'revenue': 2052415039,\n  'runtime': 149,\n  'spoken_languages': [{'english_name': 'English',\n    'iso_639_1': 'en',\n    'name': 'English'},\n   {'english_name': 'Xhosa', 'iso_639_1': 'xh', 'name': ''}],\n  'status': 'Released',\n  'tagline': 'An entire universe. Once and for all.',\n  'title': 'Avengers: Infinity War',\n  'video': False,\n  'vote_average': 8.26,\n  'vote_count': 27193},\n {'adult': False,\n  'backdrop_path': '/rzdPqYx7Um4FUZeD8wpXqjAUcEm.jpg',\n  'belongs_to_collection': None,\n  'budget': 200000000,\n  'genres': [{'id': 18, 'name': 'Drama'}, {'id': 10749, 'name': 'Romance'}],\n  'homepage': 'https://www.paramountmovies.com/movies/titanic',\n  'id': 597,\n  'imdb_id': 'tt0120338',\n  'original_language': 'en',\n  'original_title': 'Titanic',\n  'overview': \"101-year-old Rose DeWitt Bukater tells the story of her life aboard the Titanic, 84 years later. A young Rose boards the ship with her mother and fiancé. Meanwhile, Jack Dawson and Fabrizio De Rossi win third-class tickets aboard the ship. Rose tells the whole story from Titanic's departure through to its death—on its first and last voyage—on April 15, 1912.\",\n  'popularity': 287.089,\n  'poster_path': '/9xjZS2rlVxm8SFx8kPC3aIGCOYQ.jpg',\n  'production_companies': [{'id': 4,\n    'logo_path': '/gz66EfNoYPqHTYI4q9UEN4CbHRc.png',\n    'name': 'Paramount',\n    'origin_country': 'US'},\n   {'id': 25,\n    'logo_path': '/qZCc1lty5FzX30aOCVRBLzaVmcp.png',\n    'name': '20th Century Fox',\n    'origin_country': 'US'},\n   {'id': 574,\n    'logo_path': '/iB6GjNVHs5hOqcEYt2rcjBqIjki.png',\n    'name': 'Lightstorm Entertainment',\n    'origin_country': 'US'}],\n  'production_countries': [{'iso_3166_1': 'US',\n    'name': 'United States of America'}],\n  'release_date': '1997-11-18',\n  'revenue': 2264162353,\n  'runtime': 194,\n  'spoken_languages': [{'english_name': 'English',\n    'iso_639_1': 'en',\n    'name': 'English'},\n   {'english_name': 'French', 'iso_639_1': 'fr', 'name': 'Français'},\n   {'english_name': 'German', 'iso_639_1': 'de', 'name': 'Deutsch'},\n   {'english_name': 'Swedish', 'iso_639_1': 'sv', 'name': 'svenska'},\n   {'english_name': 'Italian', 'iso_639_1': 'it', 'name': 'Italiano'},\n   {'english_name': 'Russian', 'iso_639_1': 'ru', 'name': 'Pусский'}],\n  'status': 'Released',\n  'tagline': 'Nothing on Earth could come between them.',\n  'title': 'Titanic',\n  'video': False,\n  'vote_average': 7.894,\n  'vote_count': 23201},\n {'adult': False,\n  'backdrop_path': '/aIGIYJTyOkEVUmEd3z5x6diYsFx.jpg',\n  'belongs_to_collection': {'id': 328,\n   'name': 'Jurassic Park Collection',\n   'poster_path': '/jcUXVtJ6s0NG0EaxllQCAUtqdr0.jpg',\n   'backdrop_path': '/njFixYzIxX8jsn6KMSEtAzi4avi.jpg'},\n  'budget': 150000000,\n  'genres': [{'id': 28, 'name': 'Action'},\n   {'id': 12, 'name': 'Adventure'},\n   {'id': 878, 'name': 'Science Fiction'},\n   {'id': 53, 'name': 'Thriller'}],\n  'homepage': 'http://www.jurassicworld.com/',\n  'id': 135397,\n  'imdb_id': 'tt0369610',\n  'original_language': 'en',\n  'original_title': 'Jurassic World',\n  'overview': 'Twenty-two years after the events of Jurassic Park, Isla Nublar now features a fully functioning dinosaur theme park, Jurassic World, as originally envisioned by John Hammond.',\n  'popularity': 68.729,\n  'poster_path': '/A0LZHXUzo5C60Oahvt7VxvwuzHw.jpg',\n  'production_companies': [{'id': 56,\n    'logo_path': '/cEaxANEisCqeEoRvODv2dO1I0iI.png',\n    'name': 'Amblin Entertainment',\n    'origin_country': 'US'},\n   {'id': 33,\n    'logo_path': '/8lvHyhjr8oUKOOy2dKXoALWKdp0.png',\n    'name': 'Universal Pictures',\n    'origin_country': 'US'}],\n  'production_countries': [{'iso_3166_1': 'US',\n    'name': 'United States of America'}],\n  'release_date': '2015-06-12',\n  'revenue': 1671537444,\n  'runtime': 124,\n  'spoken_languages': [{'english_name': 'English',\n    'iso_639_1': 'en',\n    'name': 'English'}],\n  'status': 'Released',\n  'tagline': 'The park is open.',\n  'title': 'Jurassic World',\n  'video': False,\n  'vote_average': 6.68,\n  'vote_count': 19186},\n {'adult': False,\n  'backdrop_path': '/1TUg5pO1VZ4B0Q1amk3OlXvlpXV.jpg',\n  'belongs_to_collection': {'id': 762512,\n   'name': 'The Lion King (Reboot) Collection',\n   'poster_path': '/dGpIRn4Nqi63JO1RlKxjcPbQSAw.jpg',\n   'backdrop_path': '/jIgM7YNVft0YGeXsqrh3oG5TWLx.jpg'},\n  'budget': 260000000,\n  'genres': [{'id': 12, 'name': 'Adventure'},\n   {'id': 18, 'name': 'Drama'},\n   {'id': 10751, 'name': 'Family'},\n   {'id': 16, 'name': 'Animation'}],\n  'homepage': 'https://movies.disney.com/the-lion-king-2019',\n  'id': 420818,\n  'imdb_id': 'tt6105098',\n  'original_language': 'en',\n  'original_title': 'The Lion King',\n  'overview': \"Simba idolizes his father, King Mufasa, and takes to heart his own royal destiny. But not everyone in the kingdom celebrates the new cub's arrival. Scar, Mufasa's brother—and former heir to the throne—has plans of his own. The battle for Pride Rock is ravaged with betrayal, tragedy and drama, ultimately resulting in Simba's exile. With help from a curious pair of newfound friends, Simba will have to figure out how to grow up and take back what is rightfully his.\",\n  'popularity': 70.653,\n  'poster_path': '/dzBtMocZuJbjLOXvrl4zGYigDzh.jpg',\n  'production_companies': [{'id': 2,\n    'logo_path': '/wdrCwmRnLFJhEoH8GSfymY85KHT.png',\n    'name': 'Walt Disney Pictures',\n    'origin_country': 'US'},\n   {'id': 7297,\n    'logo_path': '/l29JYQVZbTcjZXoz4CUYFpKRmM3.png',\n    'name': 'Fairview Entertainment',\n    'origin_country': 'US'}],\n  'production_countries': [{'iso_3166_1': 'US',\n    'name': 'United States of America'}],\n  'release_date': '2019-07-12',\n  'revenue': 1663075401,\n  'runtime': 118,\n  'spoken_languages': [{'english_name': 'English',\n    'iso_639_1': 'en',\n    'name': 'English'}],\n  'status': 'Released',\n  'tagline': 'The King has Returned.',\n  'title': 'The Lion King',\n  'video': False,\n  'vote_average': 7.127,\n  'vote_count': 9181},\n {'adult': False,\n  'backdrop_path': '/9BBTo63ANSmhC4e6r62OJFuK2GL.jpg',\n  'belongs_to_collection': {'id': 86311,\n   'name': 'The Avengers Collection',\n   'poster_path': '/yFSIUVTCvgYrpalUktulvk3Gi5Y.jpg',\n   'backdrop_path': '/zuW6fOiusv4X9nnW3paHGfXcSll.jpg'},\n  'budget': 220000000,\n  'genres': [{'id': 878, 'name': 'Science Fiction'},\n   {'id': 28, 'name': 'Action'},\n   {'id': 12, 'name': 'Adventure'}],\n  'homepage': 'https://www.marvel.com/movies/the-avengers',\n  'id': 24428,\n  'imdb_id': 'tt0848228',\n  'original_language': 'en',\n  'original_title': 'The Avengers',\n  'overview': 'When an unexpected enemy emerges and threatens global safety and security, Nick Fury, director of the international peacekeeping agency known as S.H.I.E.L.D., finds himself in need of a team to pull the world back from the brink of disaster. Spanning the globe, a daring recruitment effort begins!',\n  'popularity': 150.659,\n  'poster_path': '/RYMX2wcKCBAr24UyPD7xwmjaTn.jpg',\n  'production_companies': [{'id': 420,\n    'logo_path': '/hUzeosd33nzE5MCNsZxCGEKTXaQ.png',\n    'name': 'Marvel Studios',\n    'origin_country': 'US'}],\n  'production_countries': [{'iso_3166_1': 'US',\n    'name': 'United States of America'}],\n  'release_date': '2012-04-25',\n  'revenue': 1518815515,\n  'runtime': 143,\n  'spoken_languages': [{'english_name': 'English',\n    'iso_639_1': 'en',\n    'name': 'English'},\n   {'english_name': 'Hindi', 'iso_639_1': 'hi', 'name': 'हिन्दी'},\n   {'english_name': 'Russian', 'iso_639_1': 'ru', 'name': 'Pусский'}],\n  'status': 'Released',\n  'tagline': 'Some assembly required.',\n  'title': 'The Avengers',\n  'video': False,\n  'vote_average': 7.709,\n  'vote_count': 28816},\n {'adult': False,\n  'backdrop_path': '/cHkhb5A4gQRK6zs6Pv7zorHs8Nk.jpg',\n  'belongs_to_collection': {'id': 9485,\n   'name': 'The Fast and the Furious Collection',\n   'poster_path': '/yvr1Ziehgps1VJyug8nnezTJRJW.jpg',\n   'backdrop_path': '/z5A5W3WYJc3UVEWljSGwdjDgQ0j.jpg'},\n  'budget': 190000000,\n  'genres': [{'id': 28, 'name': 'Action'},\n   {'id': 53, 'name': 'Thriller'},\n   {'id': 80, 'name': 'Crime'}],\n  'homepage': 'https://www.thefastsaga.com/fast-saga/ff7',\n  'id': 168259,\n  'imdb_id': 'tt2820852',\n  'original_language': 'en',\n  'original_title': 'Furious 7',\n  'overview': 'Deckard Shaw seeks revenge against Dominic Toretto and his family for his comatose brother.',\n  'popularity': 77.416,\n  'poster_path': '/ktofZ9Htrjiy0P6LEowsDaxd3Ri.jpg',\n  'production_companies': [{'id': 333,\n    'logo_path': '/5xUJfzPZ8jWJUDzYtIeuPO4qPIa.png',\n    'name': 'Original Film',\n    'origin_country': 'US'},\n   {'id': 1225,\n    'logo_path': '/rIxhJMR7oK8b2fMakmTfRLY2TZv.png',\n    'name': 'One Race',\n    'origin_country': 'US'},\n   {'id': 33,\n    'logo_path': '/8lvHyhjr8oUKOOy2dKXoALWKdp0.png',\n    'name': 'Universal Pictures',\n    'origin_country': 'US'}],\n  'production_countries': [{'iso_3166_1': 'US',\n    'name': 'United States of America'}],\n  'release_date': '2015-04-01',\n  'revenue': 1515341399,\n  'runtime': 137,\n  'spoken_languages': [{'english_name': 'Arabic',\n    'iso_639_1': 'ar',\n    'name': 'العربية'},\n   {'english_name': 'English', 'iso_639_1': 'en', 'name': 'English'},\n   {'english_name': 'Spanish', 'iso_639_1': 'es', 'name': 'Español'},\n   {'english_name': 'Thai', 'iso_639_1': 'th', 'name': 'ภาษาไทย'}],\n  'status': 'Released',\n  'tagline': 'Vengeance hits home',\n  'title': 'Furious 7',\n  'video': False,\n  'vote_average': 7.239,\n  'vote_count': 9851},\n {'adult': False,\n  'backdrop_path': '/6YwkGolwdOMNpbTOmLjoehlVWs5.jpg',\n  'belongs_to_collection': {'id': 86311,\n   'name': 'The Avengers Collection',\n   'poster_path': '/yFSIUVTCvgYrpalUktulvk3Gi5Y.jpg',\n   'backdrop_path': '/zuW6fOiusv4X9nnW3paHGfXcSll.jpg'},\n  'budget': 365000000,\n  'genres': [{'id': 28, 'name': 'Action'},\n   {'id': 12, 'name': 'Adventure'},\n   {'id': 878, 'name': 'Science Fiction'}],\n  'homepage': 'http://marvel.com/movies/movie/193/avengers_age_of_ultron',\n  'id': 99861,\n  'imdb_id': 'tt2395427',\n  'original_language': 'en',\n  'original_title': 'Avengers: Age of Ultron',\n  'overview': 'When Tony Stark tries to jumpstart a dormant peacekeeping program, things go awry and Earth’s Mightiest Heroes are put to the ultimate test as the fate of the planet hangs in the balance. As the villainous Ultron emerges, it is up to The Avengers to stop him from enacting his terrible plans, and soon uneasy alliances and unexpected action pave the way for an epic and unique global adventure.',\n  'popularity': 95.869,\n  'poster_path': '/4ssDuvEDkSArWEdyBl2X5EHvYKU.jpg',\n  'production_companies': [{'id': 420,\n    'logo_path': '/hUzeosd33nzE5MCNsZxCGEKTXaQ.png',\n    'name': 'Marvel Studios',\n    'origin_country': 'US'}],\n  'production_countries': [{'iso_3166_1': 'US',\n    'name': 'United States of America'}],\n  'release_date': '2015-04-22',\n  'revenue': 1405403694,\n  'runtime': 141,\n  'spoken_languages': [{'english_name': 'English',\n    'iso_639_1': 'en',\n    'name': 'English'}],\n  'status': 'Released',\n  'tagline': 'A New Age Has Come.',\n  'title': 'Avengers: Age of Ultron',\n  'video': False,\n  'vote_average': 7.279,\n  'vote_count': 21463},\n {'adult': False,\n  'backdrop_path': '/b6ZJZHUdMEFECvGiDpJjlfUWela.jpg',\n  'belongs_to_collection': {'id': 529892,\n   'name': 'Black Panther Collection',\n   'poster_path': '/qT1JPO6IltC2B39QAriAg7SelMx.jpg',\n   'backdrop_path': '/yzVxUMYGKjK3GgmVI2BhmbuL9UY.jpg'},\n  'budget': 200000000,\n  'genres': [{'id': 28, 'name': 'Action'},\n   {'id': 12, 'name': 'Adventure'},\n   {'id': 878, 'name': 'Science Fiction'}],\n  'homepage': 'https://www.marvel.com/movies/black-panther',\n  'id': 284054,\n  'imdb_id': 'tt1825683',\n  'original_language': 'en',\n  'original_title': 'Black Panther',\n  'overview': \"King T'Challa returns home to the reclusive, technologically advanced African nation of Wakanda to serve as his country's new leader. However, T'Challa soon finds that he is challenged for the throne by factions within his own country as well as without. Using powers reserved to Wakandan kings, T'Challa assumes the Black Panther mantle to join with ex-girlfriend Nakia, the queen-mother, his princess-kid sister, members of the Dora Milaje (the Wakandan 'special forces') and an American secret agent, to prevent Wakanda from being dragged into a world war.\",\n  'popularity': 51.381,\n  'poster_path': '/uxzzxijgPIY7slzFvMotPv8wjKA.jpg',\n  'production_companies': [{'id': 420,\n    'logo_path': '/hUzeosd33nzE5MCNsZxCGEKTXaQ.png',\n    'name': 'Marvel Studios',\n    'origin_country': 'US'}],\n  'production_countries': [{'iso_3166_1': 'US',\n    'name': 'United States of America'}],\n  'release_date': '2018-02-13',\n  'revenue': 1349926083,\n  'runtime': 135,\n  'spoken_languages': [{'english_name': 'English',\n    'iso_639_1': 'en',\n    'name': 'English'},\n   {'english_name': 'Korean', 'iso_639_1': 'ko', 'name': '한국어/조선말'},\n   {'english_name': 'Swahili', 'iso_639_1': 'sw', 'name': 'Kiswahili'},\n   {'english_name': 'Xhosa', 'iso_639_1': 'xh', 'name': ''}],\n  'status': 'Released',\n  'tagline': 'Long live the king.',\n  'title': 'Black Panther',\n  'video': False,\n  'vote_average': 7.391,\n  'vote_count': 20783},\n {'adult': False,\n  'backdrop_path': '/n5A7brJCjejceZmHyujwUTVgQNC.jpg',\n  'belongs_to_collection': {'id': 1241,\n   'name': 'Harry Potter Collection',\n   'poster_path': '/eVPs2Y0LyvTLZn6AP5Z6O2rtiGB.jpg',\n   'backdrop_path': '/4gV0rKUjB1nLUdZB4zIltLvNZZr.jpg'},\n  'budget': 125000000,\n  'genres': [{'id': 14, 'name': 'Fantasy'}, {'id': 12, 'name': 'Adventure'}],\n  'homepage': 'https://www.warnerbros.com/movies/harry-potter-and-deathly-hallows-part-2/',\n  'id': 12445,\n  'imdb_id': 'tt1201607',\n  'original_language': 'en',\n  'original_title': 'Harry Potter and the Deathly Hallows: Part 2',\n  'overview': \"Harry, Ron and Hermione continue their quest to vanquish the evil Voldemort once and for all. Just as things begin to look hopeless for the young wizards, Harry discovers a trio of magical objects that endow him with powers to rival Voldemort's formidable skills.\",\n  'popularity': 133.321,\n  'poster_path': '/c54HpQmuwXjHq2C9wmoACjxoom3.jpg',\n  'production_companies': [{'id': 174,\n    'logo_path': '/IuAlhI9eVC9Z8UQWOIDdWRKSEJ.png',\n    'name': 'Warner Bros. Pictures',\n    'origin_country': 'US'},\n   {'id': 437,\n    'logo_path': '/nu20mtwbEIhUNnQ5NXVhHsNknZj.png',\n    'name': 'Heyday Films',\n    'origin_country': 'GB'}],\n  'production_countries': [{'iso_3166_1': 'GB', 'name': 'United Kingdom'},\n   {'iso_3166_1': 'US', 'name': 'United States of America'}],\n  'release_date': '2011-07-07',\n  'revenue': 1341511219,\n  'runtime': 130,\n  'spoken_languages': [{'english_name': 'English',\n    'iso_639_1': 'en',\n    'name': 'English'}],\n  'status': 'Released',\n  'tagline': 'It all ends here.',\n  'title': 'Harry Potter and the Deathly Hallows: Part 2',\n  'video': False,\n  'vote_average': 8.11,\n  'vote_count': 18880},\n {'adult': False,\n  'backdrop_path': '/5Iw7zQTHVRBOYpA0V6z0yypOPZh.jpg',\n  'belongs_to_collection': {'id': 10,\n   'name': 'Star Wars Collection',\n   'poster_path': '/gq5Wi7i4SF3lo4HHkJasDV95xI9.jpg',\n   'backdrop_path': '/d8duYyyC9J5T825Hg7grmaabfxQ.jpg'},\n  'budget': 200000000,\n  'genres': [{'id': 12, 'name': 'Adventure'},\n   {'id': 28, 'name': 'Action'},\n   {'id': 878, 'name': 'Science Fiction'}],\n  'homepage': 'https://www.starwars.com/films/star-wars-episode-viii-the-last-jedi',\n  'id': 181808,\n  'imdb_id': 'tt2527336',\n  'original_language': 'en',\n  'original_title': 'Star Wars: The Last Jedi',\n  'overview': 'Rey develops her newly discovered abilities with the guidance of Luke Skywalker, who is unsettled by the strength of her powers. Meanwhile, the Resistance prepares to do battle with the First Order.',\n  'popularity': 44.921,\n  'poster_path': '/kOVEVeg59E0wsnXmF9nrh6OmWII.jpg',\n  'production_companies': [{'id': 1,\n    'logo_path': '/o86DbpburjxrqAzEDhXZcyE8pDb.png',\n    'name': 'Lucasfilm Ltd.',\n    'origin_country': 'US'}],\n  'production_countries': [{'iso_3166_1': 'US',\n    'name': 'United States of America'}],\n  'release_date': '2017-12-13',\n  'revenue': 1332698830,\n  'runtime': 152,\n  'spoken_languages': [{'english_name': 'English',\n    'iso_639_1': 'en',\n    'name': 'English'}],\n  'status': 'Released',\n  'tagline': 'Darkness rises... and light to meet it',\n  'title': 'Star Wars: The Last Jedi',\n  'video': False,\n  'vote_average': 6.833,\n  'vote_count': 14111},\n {'adult': False,\n  'backdrop_path': '/xJWPZIYOEFIjZpBL7SVBGnzRYXp.jpg',\n  'belongs_to_collection': {'id': 386382,\n   'name': 'Frozen Collection',\n   'poster_path': '/dwdyvzFX9NEI7oFlRnZurRmlswQ.jpg',\n   'backdrop_path': '/6QonAoIN0jhWZZWZGJswSxHzUnU.jpg'},\n  'budget': 150000000,\n  'genres': [{'id': 10751, 'name': 'Family'},\n   {'id': 16, 'name': 'Animation'},\n   {'id': 12, 'name': 'Adventure'},\n   {'id': 35, 'name': 'Comedy'},\n   {'id': 14, 'name': 'Fantasy'}],\n  'homepage': 'https://movies.disney.com/frozen-2',\n  'id': 330457,\n  'imdb_id': 'tt4520988',\n  'original_language': 'en',\n  'original_title': 'Frozen II',\n  'overview': 'Elsa, Anna, Kristoff and Olaf head far into the forest to learn the truth about an ancient mystery of their kingdom.',\n  'popularity': 101.765,\n  'poster_path': '/mINJaa34MtknCYl5AjtNJzWj8cD.jpg',\n  'production_companies': [{'id': 2,\n    'logo_path': '/wdrCwmRnLFJhEoH8GSfymY85KHT.png',\n    'name': 'Walt Disney Pictures',\n    'origin_country': 'US'},\n   {'id': 6125,\n    'logo_path': '/tzsMJBJZINu7GHzrpYzpReWhh66.png',\n    'name': 'Walt Disney Animation Studios',\n    'origin_country': 'US'}],\n  'production_countries': [{'iso_3166_1': 'US',\n    'name': 'United States of America'}],\n  'release_date': '2019-11-20',\n  'revenue': 1450026933,\n  'runtime': 103,\n  'spoken_languages': [{'english_name': 'English',\n    'iso_639_1': 'en',\n    'name': 'English'}],\n  'status': 'Released',\n  'tagline': 'The past is not what it seems.',\n  'title': 'Frozen II',\n  'video': False,\n  'vote_average': 7.274,\n  'vote_count': 8930},\n {'adult': False,\n  'backdrop_path': '/3s9O5af2xWKWR5JzP2iJZpZeQQg.jpg',\n  'belongs_to_collection': {'id': 328,\n   'name': 'Jurassic Park Collection',\n   'poster_path': '/jcUXVtJ6s0NG0EaxllQCAUtqdr0.jpg',\n   'backdrop_path': '/njFixYzIxX8jsn6KMSEtAzi4avi.jpg'},\n  'budget': 170000000,\n  'genres': [{'id': 28, 'name': 'Action'},\n   {'id': 12, 'name': 'Adventure'},\n   {'id': 878, 'name': 'Science Fiction'},\n   {'id': 53, 'name': 'Thriller'}],\n  'homepage': 'https://www.uphe.com/movies/jurassic-world-fallen-kingdom',\n  'id': 351286,\n  'imdb_id': 'tt4881806',\n  'original_language': 'en',\n  'original_title': 'Jurassic World: Fallen Kingdom',\n  'overview': \"Three years after Jurassic World was destroyed, Isla Nublar now sits abandoned. When the island's dormant volcano begins roaring to life, Owen and Claire mount a campaign to rescue the remaining dinosaurs from this extinction-level event.\",\n  'popularity': 57.019,\n  'poster_path': '/2CQ53CuWD1KdlOkEWhJcEVjqKn4.jpg',\n  'production_companies': [{'id': 56,\n    'logo_path': '/cEaxANEisCqeEoRvODv2dO1I0iI.png',\n    'name': 'Amblin Entertainment',\n    'origin_country': 'US'},\n   {'id': 33,\n    'logo_path': '/8lvHyhjr8oUKOOy2dKXoALWKdp0.png',\n    'name': 'Universal Pictures',\n    'origin_country': 'US'}],\n  'production_countries': [{'iso_3166_1': 'US',\n    'name': 'United States of America'}],\n  'release_date': '2018-06-22',\n  'revenue': 1310466296,\n  'runtime': 129,\n  'spoken_languages': [{'english_name': 'English',\n    'iso_639_1': 'en',\n    'name': 'English'},\n   {'english_name': 'Russian', 'iso_639_1': 'ru', 'name': 'Pусский'}],\n  'status': 'Released',\n  'tagline': 'The park is gone.',\n  'title': 'Jurassic World: Fallen Kingdom',\n  'video': False,\n  'vote_average': 6.551,\n  'vote_count': 10250},\n {'adult': False,\n  'backdrop_path': '/fydUcbkqLyESCFa9U5XKqi8dIVj.jpg',\n  'belongs_to_collection': {'id': 386382,\n   'name': 'Frozen Collection',\n   'poster_path': '/dwdyvzFX9NEI7oFlRnZurRmlswQ.jpg',\n   'backdrop_path': '/6QonAoIN0jhWZZWZGJswSxHzUnU.jpg'},\n  'budget': 150000000,\n  'genres': [{'id': 16, 'name': 'Animation'},\n   {'id': 10751, 'name': 'Family'},\n   {'id': 12, 'name': 'Adventure'},\n   {'id': 14, 'name': 'Fantasy'}],\n  'homepage': 'http://movies.disney.com/frozen',\n  'id': 109445,\n  'imdb_id': 'tt2294629',\n  'original_language': 'en',\n  'original_title': 'Frozen',\n  'overview': \"Young princess Anna of Arendelle dreams about finding true love at her sister Elsa’s coronation. Fate takes her on a dangerous journey in an attempt to end the eternal winter that has fallen over the kingdom. She's accompanied by ice delivery man Kristoff, his reindeer Sven, and snowman Olaf. On an adventure where she will find out what friendship, courage, family, and true love really means.\",\n  'popularity': 88.718,\n  'poster_path': '/kgwjIb2JDHRhNk13lmSxiClFjVk.jpg',\n  'production_companies': [{'id': 2,\n    'logo_path': '/wdrCwmRnLFJhEoH8GSfymY85KHT.png',\n    'name': 'Walt Disney Pictures',\n    'origin_country': 'US'},\n   {'id': 6125,\n    'logo_path': '/tzsMJBJZINu7GHzrpYzpReWhh66.png',\n    'name': 'Walt Disney Animation Studios',\n    'origin_country': 'US'}],\n  'production_countries': [{'iso_3166_1': 'US',\n    'name': 'United States of America'}],\n  'release_date': '2013-11-20',\n  'revenue': 1274219009,\n  'runtime': 102,\n  'spoken_languages': [{'english_name': 'English',\n    'iso_639_1': 'en',\n    'name': 'English'}],\n  'status': 'Released',\n  'tagline': 'Only the act of true love will thaw a frozen heart.',\n  'title': 'Frozen',\n  'video': False,\n  'vote_average': 7.245,\n  'vote_count': 15282},\n {'adult': False,\n  'backdrop_path': '/m3tdSyl11fhgXPDSEt3aBctTqGP.jpg',\n  'belongs_to_collection': None,\n  'budget': 160000000,\n  'genres': [{'id': 10751, 'name': 'Family'},\n   {'id': 14, 'name': 'Fantasy'},\n   {'id': 10749, 'name': 'Romance'}],\n  'homepage': 'http://movies.disney.com/beauty-and-the-beast-2017',\n  'id': 321612,\n  'imdb_id': 'tt2771200',\n  'original_language': 'en',\n  'original_title': 'Beauty and the Beast',\n  'overview': \"A live-action adaptation of Disney's version of the classic tale of a cursed prince and a beautiful young woman who helps him break the spell.\",\n  'popularity': 64.907,\n  'poster_path': '/hKegSKIDep2ewJWPUQD7u0KqFIp.jpg',\n  'production_companies': [{'id': 2,\n    'logo_path': '/wdrCwmRnLFJhEoH8GSfymY85KHT.png',\n    'name': 'Walt Disney Pictures',\n    'origin_country': 'US'},\n   {'id': 10227,\n    'logo_path': '/3YfRy3DBl4abcqkzGx4RVNz12yl.png',\n    'name': 'Mandeville Films',\n    'origin_country': 'US'}],\n  'production_countries': [{'iso_3166_1': 'US',\n    'name': 'United States of America'}],\n  'release_date': '2017-03-16',\n  'revenue': 1266115964,\n  'runtime': 129,\n  'spoken_languages': [{'english_name': 'English',\n    'iso_639_1': 'en',\n    'name': 'English'},\n   {'english_name': 'French', 'iso_639_1': 'fr', 'name': 'Français'}],\n  'status': 'Released',\n  'tagline': 'Be our guest.',\n  'title': 'Beauty and the Beast',\n  'video': False,\n  'vote_average': 6.966,\n  'vote_count': 14742},\n {'adult': False,\n  'backdrop_path': '/mabuNsGJgRuCTuGqjFkWe1xdu19.jpg',\n  'belongs_to_collection': {'id': 468222,\n   'name': 'The Incredibles Collection',\n   'poster_path': '/xMX1jZyObVeWUxDQmt53X6jzIO4.jpg',\n   'backdrop_path': '/6oi6V1O9MJRNnfV8E9JMntmFqBD.jpg'},\n  'budget': 200000000,\n  'genres': [{'id': 28, 'name': 'Action'},\n   {'id': 12, 'name': 'Adventure'},\n   {'id': 16, 'name': 'Animation'},\n   {'id': 10751, 'name': 'Family'}],\n  'homepage': 'https://movies.disney.com/incredibles-2',\n  'id': 260513,\n  'imdb_id': 'tt3606756',\n  'original_language': 'en',\n  'original_title': 'Incredibles 2',\n  'overview': 'Elastigirl springs into action to save the day, while Mr. Incredible faces his greatest challenge yet – taking care of the problems of his three children.',\n  'popularity': 59.218,\n  'poster_path': '/9lFKBtaVIhP7E2Pk0IY1CwTKTMZ.jpg',\n  'production_companies': [{'id': 2,\n    'logo_path': '/wdrCwmRnLFJhEoH8GSfymY85KHT.png',\n    'name': 'Walt Disney Pictures',\n    'origin_country': 'US'},\n   {'id': 3,\n    'logo_path': '/1TjvGVDMYsj6JBxOAkUHpPEwLf7.png',\n    'name': 'Pixar',\n    'origin_country': 'US'}],\n  'production_countries': [{'iso_3166_1': 'US',\n    'name': 'United States of America'}],\n  'release_date': '2018-06-14',\n  'revenue': 1242805359,\n  'runtime': 118,\n  'spoken_languages': [{'english_name': 'English',\n    'iso_639_1': 'en',\n    'name': 'English'}],\n  'status': 'Released',\n  'tagline': \"It's time to get back to being incredible.\",\n  'title': 'Incredibles 2',\n  'video': False,\n  'vote_average': 7.483,\n  'vote_count': 11885}]"
     },
     "execution_count": 54,
     "metadata": {},
     "output_type": "execute_result"
    }
   ],
   "source": [
    "json_list"
   ],
   "metadata": {
    "collapsed": false,
    "ExecuteTime": {
     "end_time": "2023-07-09T15:23:59.144455500Z",
     "start_time": "2023-07-09T15:23:59.114213800Z"
    }
   }
  },
  {
   "cell_type": "code",
   "execution_count": 55,
   "outputs": [
    {
     "data": {
      "text/plain": "    adult                     backdrop_path  \\\n0   False  /7RyHsO4yDXtBv1zUU3mTpHeQ0d5.jpg   \n1   False  /vL5LR6WdxWPjLPFRLe133jXWsh5.jpg   \n2   False  /8BTsTfln4jlQrLXUBquXJ0ASQy9.jpg   \n3   False  /mDfJG3LC3Dqb67AZ52x3Z0jU0uB.jpg   \n4   False  /rzdPqYx7Um4FUZeD8wpXqjAUcEm.jpg   \n5   False  /aIGIYJTyOkEVUmEd3z5x6diYsFx.jpg   \n6   False  /1TUg5pO1VZ4B0Q1amk3OlXvlpXV.jpg   \n7   False  /9BBTo63ANSmhC4e6r62OJFuK2GL.jpg   \n8   False  /cHkhb5A4gQRK6zs6Pv7zorHs8Nk.jpg   \n9   False  /6YwkGolwdOMNpbTOmLjoehlVWs5.jpg   \n10  False  /b6ZJZHUdMEFECvGiDpJjlfUWela.jpg   \n11  False  /n5A7brJCjejceZmHyujwUTVgQNC.jpg   \n12  False  /5Iw7zQTHVRBOYpA0V6z0yypOPZh.jpg   \n13  False  /xJWPZIYOEFIjZpBL7SVBGnzRYXp.jpg   \n14  False  /3s9O5af2xWKWR5JzP2iJZpZeQQg.jpg   \n15  False  /fydUcbkqLyESCFa9U5XKqi8dIVj.jpg   \n16  False  /m3tdSyl11fhgXPDSEt3aBctTqGP.jpg   \n17  False  /mabuNsGJgRuCTuGqjFkWe1xdu19.jpg   \n\n                                belongs_to_collection     budget  \\\n0   {'id': 86311, 'name': 'The Avengers Collection...  356000000   \n1   {'id': 87096, 'name': 'Avatar Collection', 'po...  237000000   \n2   {'id': 10, 'name': 'Star Wars Collection', 'po...  245000000   \n3   {'id': 86311, 'name': 'The Avengers Collection...  300000000   \n4                                                None  200000000   \n5   {'id': 328, 'name': 'Jurassic Park Collection'...  150000000   \n6   {'id': 762512, 'name': 'The Lion King (Reboot)...  260000000   \n7   {'id': 86311, 'name': 'The Avengers Collection...  220000000   \n8   {'id': 9485, 'name': 'The Fast and the Furious...  190000000   \n9   {'id': 86311, 'name': 'The Avengers Collection...  365000000   \n10  {'id': 529892, 'name': 'Black Panther Collecti...  200000000   \n11  {'id': 1241, 'name': 'Harry Potter Collection'...  125000000   \n12  {'id': 10, 'name': 'Star Wars Collection', 'po...  200000000   \n13  {'id': 386382, 'name': 'Frozen Collection', 'p...  150000000   \n14  {'id': 328, 'name': 'Jurassic Park Collection'...  170000000   \n15  {'id': 386382, 'name': 'Frozen Collection', 'p...  150000000   \n16                                               None  160000000   \n17  {'id': 468222, 'name': 'The Incredibles Collec...  200000000   \n\n                                               genres  \\\n0   [{'id': 12, 'name': 'Adventure'}, {'id': 878, ...   \n1   [{'id': 28, 'name': 'Action'}, {'id': 12, 'nam...   \n2   [{'id': 12, 'name': 'Adventure'}, {'id': 28, '...   \n3   [{'id': 12, 'name': 'Adventure'}, {'id': 28, '...   \n4   [{'id': 18, 'name': 'Drama'}, {'id': 10749, 'n...   \n5   [{'id': 28, 'name': 'Action'}, {'id': 12, 'nam...   \n6   [{'id': 12, 'name': 'Adventure'}, {'id': 18, '...   \n7   [{'id': 878, 'name': 'Science Fiction'}, {'id'...   \n8   [{'id': 28, 'name': 'Action'}, {'id': 53, 'nam...   \n9   [{'id': 28, 'name': 'Action'}, {'id': 12, 'nam...   \n10  [{'id': 28, 'name': 'Action'}, {'id': 12, 'nam...   \n11  [{'id': 14, 'name': 'Fantasy'}, {'id': 12, 'na...   \n12  [{'id': 12, 'name': 'Adventure'}, {'id': 28, '...   \n13  [{'id': 10751, 'name': 'Family'}, {'id': 16, '...   \n14  [{'id': 28, 'name': 'Action'}, {'id': 12, 'nam...   \n15  [{'id': 16, 'name': 'Animation'}, {'id': 10751...   \n16  [{'id': 10751, 'name': 'Family'}, {'id': 14, '...   \n17  [{'id': 28, 'name': 'Action'}, {'id': 12, 'nam...   \n\n                                             homepage      id    imdb_id  \\\n0      https://www.marvel.com/movies/avengers-endgame  299534  tt4154796   \n1                https://www.avatar.com/movies/avatar   19995  tt0499549   \n2   http://www.starwars.com/films/star-wars-episod...  140607  tt2488496   \n3   https://www.marvel.com/movies/avengers-infinit...  299536  tt4154756   \n4      https://www.paramountmovies.com/movies/titanic     597  tt0120338   \n5                       http://www.jurassicworld.com/  135397  tt0369610   \n6        https://movies.disney.com/the-lion-king-2019  420818  tt6105098   \n7          https://www.marvel.com/movies/the-avengers   24428  tt0848228   \n8           https://www.thefastsaga.com/fast-saga/ff7  168259  tt2820852   \n9   http://marvel.com/movies/movie/193/avengers_ag...   99861  tt2395427   \n10        https://www.marvel.com/movies/black-panther  284054  tt1825683   \n11  https://www.warnerbros.com/movies/harry-potter...   12445  tt1201607   \n12  https://www.starwars.com/films/star-wars-episo...  181808  tt2527336   \n13                 https://movies.disney.com/frozen-2  330457  tt4520988   \n14  https://www.uphe.com/movies/jurassic-world-fal...  351286  tt4881806   \n15                    http://movies.disney.com/frozen  109445  tt2294629   \n16  http://movies.disney.com/beauty-and-the-beast-...  321612  tt2771200   \n17            https://movies.disney.com/incredibles-2  260513  tt3606756   \n\n   original_language                                original_title  \\\n0                 en                             Avengers: Endgame   \n1                 en                                        Avatar   \n2                 en                  Star Wars: The Force Awakens   \n3                 en                        Avengers: Infinity War   \n4                 en                                       Titanic   \n5                 en                                Jurassic World   \n6                 en                                 The Lion King   \n7                 en                                  The Avengers   \n8                 en                                     Furious 7   \n9                 en                       Avengers: Age of Ultron   \n10                en                                 Black Panther   \n11                en  Harry Potter and the Deathly Hallows: Part 2   \n12                en                      Star Wars: The Last Jedi   \n13                en                                     Frozen II   \n14                en                Jurassic World: Fallen Kingdom   \n15                en                                        Frozen   \n16                en                          Beauty and the Beast   \n17                en                                 Incredibles 2   \n\n                                             overview  popularity  \\\n0   After the devastating events of Avengers: Infi...     115.905   \n1   In the 22nd century, a paraplegic Marine is di...     163.824   \n2   Thirty years after defeating the Galactic Empi...      52.173   \n3   As the Avengers and their allies have continue...     233.806   \n4   101-year-old Rose DeWitt Bukater tells the sto...     287.089   \n5   Twenty-two years after the events of Jurassic ...      68.729   \n6   Simba idolizes his father, King Mufasa, and ta...      70.653   \n7   When an unexpected enemy emerges and threatens...     150.659   \n8   Deckard Shaw seeks revenge against Dominic Tor...      77.416   \n9   When Tony Stark tries to jumpstart a dormant p...      95.869   \n10  King T'Challa returns home to the reclusive, t...      51.381   \n11  Harry, Ron and Hermione continue their quest t...     133.321   \n12  Rey develops her newly discovered abilities wi...      44.921   \n13  Elsa, Anna, Kristoff and Olaf head far into th...     101.765   \n14  Three years after Jurassic World was destroyed...      57.019   \n15  Young princess Anna of Arendelle dreams about ...      88.718   \n16  A live-action adaptation of Disney's version o...      64.907   \n17  Elastigirl springs into action to save the day...      59.218   \n\n                         poster_path  \\\n0   /or06FN3Dka5tukK1e9sl16pB3iy.jpg   \n1   /kyeqWdyUXW608qlYkRqosgbbJyK.jpg   \n2   /wqnLdwVXoBjKibFRR5U3y0aDUhs.jpg   \n3   /7WsyChQLEftFiDOVTGkv3hFpyyt.jpg   \n4   /9xjZS2rlVxm8SFx8kPC3aIGCOYQ.jpg   \n5   /A0LZHXUzo5C60Oahvt7VxvwuzHw.jpg   \n6   /dzBtMocZuJbjLOXvrl4zGYigDzh.jpg   \n7    /RYMX2wcKCBAr24UyPD7xwmjaTn.jpg   \n8   /ktofZ9Htrjiy0P6LEowsDaxd3Ri.jpg   \n9   /4ssDuvEDkSArWEdyBl2X5EHvYKU.jpg   \n10  /uxzzxijgPIY7slzFvMotPv8wjKA.jpg   \n11  /c54HpQmuwXjHq2C9wmoACjxoom3.jpg   \n12  /kOVEVeg59E0wsnXmF9nrh6OmWII.jpg   \n13  /mINJaa34MtknCYl5AjtNJzWj8cD.jpg   \n14  /2CQ53CuWD1KdlOkEWhJcEVjqKn4.jpg   \n15  /kgwjIb2JDHRhNk13lmSxiClFjVk.jpg   \n16  /hKegSKIDep2ewJWPUQD7u0KqFIp.jpg   \n17  /9lFKBtaVIhP7E2Pk0IY1CwTKTMZ.jpg   \n\n                                 production_companies  \\\n0   [{'id': 420, 'logo_path': '/hUzeosd33nzE5MCNsZ...   \n1   [{'id': 444, 'logo_path': None, 'name': 'Dune ...   \n2   [{'id': 1, 'logo_path': '/o86DbpburjxrqAzEDhXZ...   \n3   [{'id': 420, 'logo_path': '/hUzeosd33nzE5MCNsZ...   \n4   [{'id': 4, 'logo_path': '/gz66EfNoYPqHTYI4q9UE...   \n5   [{'id': 56, 'logo_path': '/cEaxANEisCqeEoRvODv...   \n6   [{'id': 2, 'logo_path': '/wdrCwmRnLFJhEoH8GSfy...   \n7   [{'id': 420, 'logo_path': '/hUzeosd33nzE5MCNsZ...   \n8   [{'id': 333, 'logo_path': '/5xUJfzPZ8jWJUDzYtI...   \n9   [{'id': 420, 'logo_path': '/hUzeosd33nzE5MCNsZ...   \n10  [{'id': 420, 'logo_path': '/hUzeosd33nzE5MCNsZ...   \n11  [{'id': 174, 'logo_path': '/IuAlhI9eVC9Z8UQWOI...   \n12  [{'id': 1, 'logo_path': '/o86DbpburjxrqAzEDhXZ...   \n13  [{'id': 2, 'logo_path': '/wdrCwmRnLFJhEoH8GSfy...   \n14  [{'id': 56, 'logo_path': '/cEaxANEisCqeEoRvODv...   \n15  [{'id': 2, 'logo_path': '/wdrCwmRnLFJhEoH8GSfy...   \n16  [{'id': 2, 'logo_path': '/wdrCwmRnLFJhEoH8GSfy...   \n17  [{'id': 2, 'logo_path': '/wdrCwmRnLFJhEoH8GSfy...   \n\n                                 production_countries release_date  \\\n0   [{'iso_3166_1': 'US', 'name': 'United States o...   2019-04-24   \n1   [{'iso_3166_1': 'US', 'name': 'United States o...   2009-12-15   \n2   [{'iso_3166_1': 'US', 'name': 'United States o...   2015-12-15   \n3   [{'iso_3166_1': 'US', 'name': 'United States o...   2018-04-25   \n4   [{'iso_3166_1': 'US', 'name': 'United States o...   1997-11-18   \n5   [{'iso_3166_1': 'US', 'name': 'United States o...   2015-06-12   \n6   [{'iso_3166_1': 'US', 'name': 'United States o...   2019-07-12   \n7   [{'iso_3166_1': 'US', 'name': 'United States o...   2012-04-25   \n8   [{'iso_3166_1': 'US', 'name': 'United States o...   2015-04-01   \n9   [{'iso_3166_1': 'US', 'name': 'United States o...   2015-04-22   \n10  [{'iso_3166_1': 'US', 'name': 'United States o...   2018-02-13   \n11  [{'iso_3166_1': 'GB', 'name': 'United Kingdom'...   2011-07-07   \n12  [{'iso_3166_1': 'US', 'name': 'United States o...   2017-12-13   \n13  [{'iso_3166_1': 'US', 'name': 'United States o...   2019-11-20   \n14  [{'iso_3166_1': 'US', 'name': 'United States o...   2018-06-22   \n15  [{'iso_3166_1': 'US', 'name': 'United States o...   2013-11-20   \n16  [{'iso_3166_1': 'US', 'name': 'United States o...   2017-03-16   \n17  [{'iso_3166_1': 'US', 'name': 'United States o...   2018-06-14   \n\n       revenue  runtime                                   spoken_languages  \\\n0   2794731755      181  [{'english_name': 'English', 'iso_639_1': 'en'...   \n1   2923706026      162  [{'english_name': 'English', 'iso_639_1': 'en'...   \n2   2068223624      136  [{'english_name': 'English', 'iso_639_1': 'en'...   \n3   2052415039      149  [{'english_name': 'English', 'iso_639_1': 'en'...   \n4   2264162353      194  [{'english_name': 'English', 'iso_639_1': 'en'...   \n5   1671537444      124  [{'english_name': 'English', 'iso_639_1': 'en'...   \n6   1663075401      118  [{'english_name': 'English', 'iso_639_1': 'en'...   \n7   1518815515      143  [{'english_name': 'English', 'iso_639_1': 'en'...   \n8   1515341399      137  [{'english_name': 'Arabic', 'iso_639_1': 'ar',...   \n9   1405403694      141  [{'english_name': 'English', 'iso_639_1': 'en'...   \n10  1349926083      135  [{'english_name': 'English', 'iso_639_1': 'en'...   \n11  1341511219      130  [{'english_name': 'English', 'iso_639_1': 'en'...   \n12  1332698830      152  [{'english_name': 'English', 'iso_639_1': 'en'...   \n13  1450026933      103  [{'english_name': 'English', 'iso_639_1': 'en'...   \n14  1310466296      129  [{'english_name': 'English', 'iso_639_1': 'en'...   \n15  1274219009      102  [{'english_name': 'English', 'iso_639_1': 'en'...   \n16  1266115964      129  [{'english_name': 'English', 'iso_639_1': 'en'...   \n17  1242805359      118  [{'english_name': 'English', 'iso_639_1': 'en'...   \n\n      status                                            tagline  \\\n0   Released                                 Avenge the fallen.   \n1   Released                        Enter the world of Pandora.   \n2   Released                      Every generation has a story.   \n3   Released              An entire universe. Once and for all.   \n4   Released          Nothing on Earth could come between them.   \n5   Released                                  The park is open.   \n6   Released                             The King has Returned.   \n7   Released                            Some assembly required.   \n8   Released                                Vengeance hits home   \n9   Released                                A New Age Has Come.   \n10  Released                                Long live the king.   \n11  Released                                  It all ends here.   \n12  Released             Darkness rises... and light to meet it   \n13  Released                     The past is not what it seems.   \n14  Released                                  The park is gone.   \n15  Released  Only the act of true love will thaw a frozen h...   \n16  Released                                      Be our guest.   \n17  Released         It's time to get back to being incredible.   \n\n                                           title  video  vote_average  \\\n0                              Avengers: Endgame  False         8.267   \n1                                         Avatar  False         7.570   \n2                   Star Wars: The Force Awakens  False         7.295   \n3                         Avengers: Infinity War  False         8.260   \n4                                        Titanic  False         7.894   \n5                                 Jurassic World  False         6.680   \n6                                  The Lion King  False         7.127   \n7                                   The Avengers  False         7.709   \n8                                      Furious 7  False         7.239   \n9                        Avengers: Age of Ultron  False         7.279   \n10                                 Black Panther  False         7.391   \n11  Harry Potter and the Deathly Hallows: Part 2  False         8.110   \n12                      Star Wars: The Last Jedi  False         6.833   \n13                                     Frozen II  False         7.274   \n14                Jurassic World: Fallen Kingdom  False         6.551   \n15                                        Frozen  False         7.245   \n16                          Beauty and the Beast  False         6.966   \n17                                 Incredibles 2  False         7.483   \n\n    vote_count  \n0        23440  \n1        29380  \n2        18142  \n3        27193  \n4        23201  \n5        19186  \n6         9181  \n7        28816  \n8         9851  \n9        21463  \n10       20783  \n11       18880  \n12       14111  \n13        8930  \n14       10250  \n15       15282  \n16       14742  \n17       11885  ",
      "text/html": "<div>\n<style scoped>\n    .dataframe tbody tr th:only-of-type {\n        vertical-align: middle;\n    }\n\n    .dataframe tbody tr th {\n        vertical-align: top;\n    }\n\n    .dataframe thead th {\n        text-align: right;\n    }\n</style>\n<table border=\"1\" class=\"dataframe\">\n  <thead>\n    <tr style=\"text-align: right;\">\n      <th></th>\n      <th>adult</th>\n      <th>backdrop_path</th>\n      <th>belongs_to_collection</th>\n      <th>budget</th>\n      <th>genres</th>\n      <th>homepage</th>\n      <th>id</th>\n      <th>imdb_id</th>\n      <th>original_language</th>\n      <th>original_title</th>\n      <th>overview</th>\n      <th>popularity</th>\n      <th>poster_path</th>\n      <th>production_companies</th>\n      <th>production_countries</th>\n      <th>release_date</th>\n      <th>revenue</th>\n      <th>runtime</th>\n      <th>spoken_languages</th>\n      <th>status</th>\n      <th>tagline</th>\n      <th>title</th>\n      <th>video</th>\n      <th>vote_average</th>\n      <th>vote_count</th>\n    </tr>\n  </thead>\n  <tbody>\n    <tr>\n      <th>0</th>\n      <td>False</td>\n      <td>/7RyHsO4yDXtBv1zUU3mTpHeQ0d5.jpg</td>\n      <td>{'id': 86311, 'name': 'The Avengers Collection...</td>\n      <td>356000000</td>\n      <td>[{'id': 12, 'name': 'Adventure'}, {'id': 878, ...</td>\n      <td>https://www.marvel.com/movies/avengers-endgame</td>\n      <td>299534</td>\n      <td>tt4154796</td>\n      <td>en</td>\n      <td>Avengers: Endgame</td>\n      <td>After the devastating events of Avengers: Infi...</td>\n      <td>115.905</td>\n      <td>/or06FN3Dka5tukK1e9sl16pB3iy.jpg</td>\n      <td>[{'id': 420, 'logo_path': '/hUzeosd33nzE5MCNsZ...</td>\n      <td>[{'iso_3166_1': 'US', 'name': 'United States o...</td>\n      <td>2019-04-24</td>\n      <td>2794731755</td>\n      <td>181</td>\n      <td>[{'english_name': 'English', 'iso_639_1': 'en'...</td>\n      <td>Released</td>\n      <td>Avenge the fallen.</td>\n      <td>Avengers: Endgame</td>\n      <td>False</td>\n      <td>8.267</td>\n      <td>23440</td>\n    </tr>\n    <tr>\n      <th>1</th>\n      <td>False</td>\n      <td>/vL5LR6WdxWPjLPFRLe133jXWsh5.jpg</td>\n      <td>{'id': 87096, 'name': 'Avatar Collection', 'po...</td>\n      <td>237000000</td>\n      <td>[{'id': 28, 'name': 'Action'}, {'id': 12, 'nam...</td>\n      <td>https://www.avatar.com/movies/avatar</td>\n      <td>19995</td>\n      <td>tt0499549</td>\n      <td>en</td>\n      <td>Avatar</td>\n      <td>In the 22nd century, a paraplegic Marine is di...</td>\n      <td>163.824</td>\n      <td>/kyeqWdyUXW608qlYkRqosgbbJyK.jpg</td>\n      <td>[{'id': 444, 'logo_path': None, 'name': 'Dune ...</td>\n      <td>[{'iso_3166_1': 'US', 'name': 'United States o...</td>\n      <td>2009-12-15</td>\n      <td>2923706026</td>\n      <td>162</td>\n      <td>[{'english_name': 'English', 'iso_639_1': 'en'...</td>\n      <td>Released</td>\n      <td>Enter the world of Pandora.</td>\n      <td>Avatar</td>\n      <td>False</td>\n      <td>7.570</td>\n      <td>29380</td>\n    </tr>\n    <tr>\n      <th>2</th>\n      <td>False</td>\n      <td>/8BTsTfln4jlQrLXUBquXJ0ASQy9.jpg</td>\n      <td>{'id': 10, 'name': 'Star Wars Collection', 'po...</td>\n      <td>245000000</td>\n      <td>[{'id': 12, 'name': 'Adventure'}, {'id': 28, '...</td>\n      <td>http://www.starwars.com/films/star-wars-episod...</td>\n      <td>140607</td>\n      <td>tt2488496</td>\n      <td>en</td>\n      <td>Star Wars: The Force Awakens</td>\n      <td>Thirty years after defeating the Galactic Empi...</td>\n      <td>52.173</td>\n      <td>/wqnLdwVXoBjKibFRR5U3y0aDUhs.jpg</td>\n      <td>[{'id': 1, 'logo_path': '/o86DbpburjxrqAzEDhXZ...</td>\n      <td>[{'iso_3166_1': 'US', 'name': 'United States o...</td>\n      <td>2015-12-15</td>\n      <td>2068223624</td>\n      <td>136</td>\n      <td>[{'english_name': 'English', 'iso_639_1': 'en'...</td>\n      <td>Released</td>\n      <td>Every generation has a story.</td>\n      <td>Star Wars: The Force Awakens</td>\n      <td>False</td>\n      <td>7.295</td>\n      <td>18142</td>\n    </tr>\n    <tr>\n      <th>3</th>\n      <td>False</td>\n      <td>/mDfJG3LC3Dqb67AZ52x3Z0jU0uB.jpg</td>\n      <td>{'id': 86311, 'name': 'The Avengers Collection...</td>\n      <td>300000000</td>\n      <td>[{'id': 12, 'name': 'Adventure'}, {'id': 28, '...</td>\n      <td>https://www.marvel.com/movies/avengers-infinit...</td>\n      <td>299536</td>\n      <td>tt4154756</td>\n      <td>en</td>\n      <td>Avengers: Infinity War</td>\n      <td>As the Avengers and their allies have continue...</td>\n      <td>233.806</td>\n      <td>/7WsyChQLEftFiDOVTGkv3hFpyyt.jpg</td>\n      <td>[{'id': 420, 'logo_path': '/hUzeosd33nzE5MCNsZ...</td>\n      <td>[{'iso_3166_1': 'US', 'name': 'United States o...</td>\n      <td>2018-04-25</td>\n      <td>2052415039</td>\n      <td>149</td>\n      <td>[{'english_name': 'English', 'iso_639_1': 'en'...</td>\n      <td>Released</td>\n      <td>An entire universe. Once and for all.</td>\n      <td>Avengers: Infinity War</td>\n      <td>False</td>\n      <td>8.260</td>\n      <td>27193</td>\n    </tr>\n    <tr>\n      <th>4</th>\n      <td>False</td>\n      <td>/rzdPqYx7Um4FUZeD8wpXqjAUcEm.jpg</td>\n      <td>None</td>\n      <td>200000000</td>\n      <td>[{'id': 18, 'name': 'Drama'}, {'id': 10749, 'n...</td>\n      <td>https://www.paramountmovies.com/movies/titanic</td>\n      <td>597</td>\n      <td>tt0120338</td>\n      <td>en</td>\n      <td>Titanic</td>\n      <td>101-year-old Rose DeWitt Bukater tells the sto...</td>\n      <td>287.089</td>\n      <td>/9xjZS2rlVxm8SFx8kPC3aIGCOYQ.jpg</td>\n      <td>[{'id': 4, 'logo_path': '/gz66EfNoYPqHTYI4q9UE...</td>\n      <td>[{'iso_3166_1': 'US', 'name': 'United States o...</td>\n      <td>1997-11-18</td>\n      <td>2264162353</td>\n      <td>194</td>\n      <td>[{'english_name': 'English', 'iso_639_1': 'en'...</td>\n      <td>Released</td>\n      <td>Nothing on Earth could come between them.</td>\n      <td>Titanic</td>\n      <td>False</td>\n      <td>7.894</td>\n      <td>23201</td>\n    </tr>\n    <tr>\n      <th>5</th>\n      <td>False</td>\n      <td>/aIGIYJTyOkEVUmEd3z5x6diYsFx.jpg</td>\n      <td>{'id': 328, 'name': 'Jurassic Park Collection'...</td>\n      <td>150000000</td>\n      <td>[{'id': 28, 'name': 'Action'}, {'id': 12, 'nam...</td>\n      <td>http://www.jurassicworld.com/</td>\n      <td>135397</td>\n      <td>tt0369610</td>\n      <td>en</td>\n      <td>Jurassic World</td>\n      <td>Twenty-two years after the events of Jurassic ...</td>\n      <td>68.729</td>\n      <td>/A0LZHXUzo5C60Oahvt7VxvwuzHw.jpg</td>\n      <td>[{'id': 56, 'logo_path': '/cEaxANEisCqeEoRvODv...</td>\n      <td>[{'iso_3166_1': 'US', 'name': 'United States o...</td>\n      <td>2015-06-12</td>\n      <td>1671537444</td>\n      <td>124</td>\n      <td>[{'english_name': 'English', 'iso_639_1': 'en'...</td>\n      <td>Released</td>\n      <td>The park is open.</td>\n      <td>Jurassic World</td>\n      <td>False</td>\n      <td>6.680</td>\n      <td>19186</td>\n    </tr>\n    <tr>\n      <th>6</th>\n      <td>False</td>\n      <td>/1TUg5pO1VZ4B0Q1amk3OlXvlpXV.jpg</td>\n      <td>{'id': 762512, 'name': 'The Lion King (Reboot)...</td>\n      <td>260000000</td>\n      <td>[{'id': 12, 'name': 'Adventure'}, {'id': 18, '...</td>\n      <td>https://movies.disney.com/the-lion-king-2019</td>\n      <td>420818</td>\n      <td>tt6105098</td>\n      <td>en</td>\n      <td>The Lion King</td>\n      <td>Simba idolizes his father, King Mufasa, and ta...</td>\n      <td>70.653</td>\n      <td>/dzBtMocZuJbjLOXvrl4zGYigDzh.jpg</td>\n      <td>[{'id': 2, 'logo_path': '/wdrCwmRnLFJhEoH8GSfy...</td>\n      <td>[{'iso_3166_1': 'US', 'name': 'United States o...</td>\n      <td>2019-07-12</td>\n      <td>1663075401</td>\n      <td>118</td>\n      <td>[{'english_name': 'English', 'iso_639_1': 'en'...</td>\n      <td>Released</td>\n      <td>The King has Returned.</td>\n      <td>The Lion King</td>\n      <td>False</td>\n      <td>7.127</td>\n      <td>9181</td>\n    </tr>\n    <tr>\n      <th>7</th>\n      <td>False</td>\n      <td>/9BBTo63ANSmhC4e6r62OJFuK2GL.jpg</td>\n      <td>{'id': 86311, 'name': 'The Avengers Collection...</td>\n      <td>220000000</td>\n      <td>[{'id': 878, 'name': 'Science Fiction'}, {'id'...</td>\n      <td>https://www.marvel.com/movies/the-avengers</td>\n      <td>24428</td>\n      <td>tt0848228</td>\n      <td>en</td>\n      <td>The Avengers</td>\n      <td>When an unexpected enemy emerges and threatens...</td>\n      <td>150.659</td>\n      <td>/RYMX2wcKCBAr24UyPD7xwmjaTn.jpg</td>\n      <td>[{'id': 420, 'logo_path': '/hUzeosd33nzE5MCNsZ...</td>\n      <td>[{'iso_3166_1': 'US', 'name': 'United States o...</td>\n      <td>2012-04-25</td>\n      <td>1518815515</td>\n      <td>143</td>\n      <td>[{'english_name': 'English', 'iso_639_1': 'en'...</td>\n      <td>Released</td>\n      <td>Some assembly required.</td>\n      <td>The Avengers</td>\n      <td>False</td>\n      <td>7.709</td>\n      <td>28816</td>\n    </tr>\n    <tr>\n      <th>8</th>\n      <td>False</td>\n      <td>/cHkhb5A4gQRK6zs6Pv7zorHs8Nk.jpg</td>\n      <td>{'id': 9485, 'name': 'The Fast and the Furious...</td>\n      <td>190000000</td>\n      <td>[{'id': 28, 'name': 'Action'}, {'id': 53, 'nam...</td>\n      <td>https://www.thefastsaga.com/fast-saga/ff7</td>\n      <td>168259</td>\n      <td>tt2820852</td>\n      <td>en</td>\n      <td>Furious 7</td>\n      <td>Deckard Shaw seeks revenge against Dominic Tor...</td>\n      <td>77.416</td>\n      <td>/ktofZ9Htrjiy0P6LEowsDaxd3Ri.jpg</td>\n      <td>[{'id': 333, 'logo_path': '/5xUJfzPZ8jWJUDzYtI...</td>\n      <td>[{'iso_3166_1': 'US', 'name': 'United States o...</td>\n      <td>2015-04-01</td>\n      <td>1515341399</td>\n      <td>137</td>\n      <td>[{'english_name': 'Arabic', 'iso_639_1': 'ar',...</td>\n      <td>Released</td>\n      <td>Vengeance hits home</td>\n      <td>Furious 7</td>\n      <td>False</td>\n      <td>7.239</td>\n      <td>9851</td>\n    </tr>\n    <tr>\n      <th>9</th>\n      <td>False</td>\n      <td>/6YwkGolwdOMNpbTOmLjoehlVWs5.jpg</td>\n      <td>{'id': 86311, 'name': 'The Avengers Collection...</td>\n      <td>365000000</td>\n      <td>[{'id': 28, 'name': 'Action'}, {'id': 12, 'nam...</td>\n      <td>http://marvel.com/movies/movie/193/avengers_ag...</td>\n      <td>99861</td>\n      <td>tt2395427</td>\n      <td>en</td>\n      <td>Avengers: Age of Ultron</td>\n      <td>When Tony Stark tries to jumpstart a dormant p...</td>\n      <td>95.869</td>\n      <td>/4ssDuvEDkSArWEdyBl2X5EHvYKU.jpg</td>\n      <td>[{'id': 420, 'logo_path': '/hUzeosd33nzE5MCNsZ...</td>\n      <td>[{'iso_3166_1': 'US', 'name': 'United States o...</td>\n      <td>2015-04-22</td>\n      <td>1405403694</td>\n      <td>141</td>\n      <td>[{'english_name': 'English', 'iso_639_1': 'en'...</td>\n      <td>Released</td>\n      <td>A New Age Has Come.</td>\n      <td>Avengers: Age of Ultron</td>\n      <td>False</td>\n      <td>7.279</td>\n      <td>21463</td>\n    </tr>\n    <tr>\n      <th>10</th>\n      <td>False</td>\n      <td>/b6ZJZHUdMEFECvGiDpJjlfUWela.jpg</td>\n      <td>{'id': 529892, 'name': 'Black Panther Collecti...</td>\n      <td>200000000</td>\n      <td>[{'id': 28, 'name': 'Action'}, {'id': 12, 'nam...</td>\n      <td>https://www.marvel.com/movies/black-panther</td>\n      <td>284054</td>\n      <td>tt1825683</td>\n      <td>en</td>\n      <td>Black Panther</td>\n      <td>King T'Challa returns home to the reclusive, t...</td>\n      <td>51.381</td>\n      <td>/uxzzxijgPIY7slzFvMotPv8wjKA.jpg</td>\n      <td>[{'id': 420, 'logo_path': '/hUzeosd33nzE5MCNsZ...</td>\n      <td>[{'iso_3166_1': 'US', 'name': 'United States o...</td>\n      <td>2018-02-13</td>\n      <td>1349926083</td>\n      <td>135</td>\n      <td>[{'english_name': 'English', 'iso_639_1': 'en'...</td>\n      <td>Released</td>\n      <td>Long live the king.</td>\n      <td>Black Panther</td>\n      <td>False</td>\n      <td>7.391</td>\n      <td>20783</td>\n    </tr>\n    <tr>\n      <th>11</th>\n      <td>False</td>\n      <td>/n5A7brJCjejceZmHyujwUTVgQNC.jpg</td>\n      <td>{'id': 1241, 'name': 'Harry Potter Collection'...</td>\n      <td>125000000</td>\n      <td>[{'id': 14, 'name': 'Fantasy'}, {'id': 12, 'na...</td>\n      <td>https://www.warnerbros.com/movies/harry-potter...</td>\n      <td>12445</td>\n      <td>tt1201607</td>\n      <td>en</td>\n      <td>Harry Potter and the Deathly Hallows: Part 2</td>\n      <td>Harry, Ron and Hermione continue their quest t...</td>\n      <td>133.321</td>\n      <td>/c54HpQmuwXjHq2C9wmoACjxoom3.jpg</td>\n      <td>[{'id': 174, 'logo_path': '/IuAlhI9eVC9Z8UQWOI...</td>\n      <td>[{'iso_3166_1': 'GB', 'name': 'United Kingdom'...</td>\n      <td>2011-07-07</td>\n      <td>1341511219</td>\n      <td>130</td>\n      <td>[{'english_name': 'English', 'iso_639_1': 'en'...</td>\n      <td>Released</td>\n      <td>It all ends here.</td>\n      <td>Harry Potter and the Deathly Hallows: Part 2</td>\n      <td>False</td>\n      <td>8.110</td>\n      <td>18880</td>\n    </tr>\n    <tr>\n      <th>12</th>\n      <td>False</td>\n      <td>/5Iw7zQTHVRBOYpA0V6z0yypOPZh.jpg</td>\n      <td>{'id': 10, 'name': 'Star Wars Collection', 'po...</td>\n      <td>200000000</td>\n      <td>[{'id': 12, 'name': 'Adventure'}, {'id': 28, '...</td>\n      <td>https://www.starwars.com/films/star-wars-episo...</td>\n      <td>181808</td>\n      <td>tt2527336</td>\n      <td>en</td>\n      <td>Star Wars: The Last Jedi</td>\n      <td>Rey develops her newly discovered abilities wi...</td>\n      <td>44.921</td>\n      <td>/kOVEVeg59E0wsnXmF9nrh6OmWII.jpg</td>\n      <td>[{'id': 1, 'logo_path': '/o86DbpburjxrqAzEDhXZ...</td>\n      <td>[{'iso_3166_1': 'US', 'name': 'United States o...</td>\n      <td>2017-12-13</td>\n      <td>1332698830</td>\n      <td>152</td>\n      <td>[{'english_name': 'English', 'iso_639_1': 'en'...</td>\n      <td>Released</td>\n      <td>Darkness rises... and light to meet it</td>\n      <td>Star Wars: The Last Jedi</td>\n      <td>False</td>\n      <td>6.833</td>\n      <td>14111</td>\n    </tr>\n    <tr>\n      <th>13</th>\n      <td>False</td>\n      <td>/xJWPZIYOEFIjZpBL7SVBGnzRYXp.jpg</td>\n      <td>{'id': 386382, 'name': 'Frozen Collection', 'p...</td>\n      <td>150000000</td>\n      <td>[{'id': 10751, 'name': 'Family'}, {'id': 16, '...</td>\n      <td>https://movies.disney.com/frozen-2</td>\n      <td>330457</td>\n      <td>tt4520988</td>\n      <td>en</td>\n      <td>Frozen II</td>\n      <td>Elsa, Anna, Kristoff and Olaf head far into th...</td>\n      <td>101.765</td>\n      <td>/mINJaa34MtknCYl5AjtNJzWj8cD.jpg</td>\n      <td>[{'id': 2, 'logo_path': '/wdrCwmRnLFJhEoH8GSfy...</td>\n      <td>[{'iso_3166_1': 'US', 'name': 'United States o...</td>\n      <td>2019-11-20</td>\n      <td>1450026933</td>\n      <td>103</td>\n      <td>[{'english_name': 'English', 'iso_639_1': 'en'...</td>\n      <td>Released</td>\n      <td>The past is not what it seems.</td>\n      <td>Frozen II</td>\n      <td>False</td>\n      <td>7.274</td>\n      <td>8930</td>\n    </tr>\n    <tr>\n      <th>14</th>\n      <td>False</td>\n      <td>/3s9O5af2xWKWR5JzP2iJZpZeQQg.jpg</td>\n      <td>{'id': 328, 'name': 'Jurassic Park Collection'...</td>\n      <td>170000000</td>\n      <td>[{'id': 28, 'name': 'Action'}, {'id': 12, 'nam...</td>\n      <td>https://www.uphe.com/movies/jurassic-world-fal...</td>\n      <td>351286</td>\n      <td>tt4881806</td>\n      <td>en</td>\n      <td>Jurassic World: Fallen Kingdom</td>\n      <td>Three years after Jurassic World was destroyed...</td>\n      <td>57.019</td>\n      <td>/2CQ53CuWD1KdlOkEWhJcEVjqKn4.jpg</td>\n      <td>[{'id': 56, 'logo_path': '/cEaxANEisCqeEoRvODv...</td>\n      <td>[{'iso_3166_1': 'US', 'name': 'United States o...</td>\n      <td>2018-06-22</td>\n      <td>1310466296</td>\n      <td>129</td>\n      <td>[{'english_name': 'English', 'iso_639_1': 'en'...</td>\n      <td>Released</td>\n      <td>The park is gone.</td>\n      <td>Jurassic World: Fallen Kingdom</td>\n      <td>False</td>\n      <td>6.551</td>\n      <td>10250</td>\n    </tr>\n    <tr>\n      <th>15</th>\n      <td>False</td>\n      <td>/fydUcbkqLyESCFa9U5XKqi8dIVj.jpg</td>\n      <td>{'id': 386382, 'name': 'Frozen Collection', 'p...</td>\n      <td>150000000</td>\n      <td>[{'id': 16, 'name': 'Animation'}, {'id': 10751...</td>\n      <td>http://movies.disney.com/frozen</td>\n      <td>109445</td>\n      <td>tt2294629</td>\n      <td>en</td>\n      <td>Frozen</td>\n      <td>Young princess Anna of Arendelle dreams about ...</td>\n      <td>88.718</td>\n      <td>/kgwjIb2JDHRhNk13lmSxiClFjVk.jpg</td>\n      <td>[{'id': 2, 'logo_path': '/wdrCwmRnLFJhEoH8GSfy...</td>\n      <td>[{'iso_3166_1': 'US', 'name': 'United States o...</td>\n      <td>2013-11-20</td>\n      <td>1274219009</td>\n      <td>102</td>\n      <td>[{'english_name': 'English', 'iso_639_1': 'en'...</td>\n      <td>Released</td>\n      <td>Only the act of true love will thaw a frozen h...</td>\n      <td>Frozen</td>\n      <td>False</td>\n      <td>7.245</td>\n      <td>15282</td>\n    </tr>\n    <tr>\n      <th>16</th>\n      <td>False</td>\n      <td>/m3tdSyl11fhgXPDSEt3aBctTqGP.jpg</td>\n      <td>None</td>\n      <td>160000000</td>\n      <td>[{'id': 10751, 'name': 'Family'}, {'id': 14, '...</td>\n      <td>http://movies.disney.com/beauty-and-the-beast-...</td>\n      <td>321612</td>\n      <td>tt2771200</td>\n      <td>en</td>\n      <td>Beauty and the Beast</td>\n      <td>A live-action adaptation of Disney's version o...</td>\n      <td>64.907</td>\n      <td>/hKegSKIDep2ewJWPUQD7u0KqFIp.jpg</td>\n      <td>[{'id': 2, 'logo_path': '/wdrCwmRnLFJhEoH8GSfy...</td>\n      <td>[{'iso_3166_1': 'US', 'name': 'United States o...</td>\n      <td>2017-03-16</td>\n      <td>1266115964</td>\n      <td>129</td>\n      <td>[{'english_name': 'English', 'iso_639_1': 'en'...</td>\n      <td>Released</td>\n      <td>Be our guest.</td>\n      <td>Beauty and the Beast</td>\n      <td>False</td>\n      <td>6.966</td>\n      <td>14742</td>\n    </tr>\n    <tr>\n      <th>17</th>\n      <td>False</td>\n      <td>/mabuNsGJgRuCTuGqjFkWe1xdu19.jpg</td>\n      <td>{'id': 468222, 'name': 'The Incredibles Collec...</td>\n      <td>200000000</td>\n      <td>[{'id': 28, 'name': 'Action'}, {'id': 12, 'nam...</td>\n      <td>https://movies.disney.com/incredibles-2</td>\n      <td>260513</td>\n      <td>tt3606756</td>\n      <td>en</td>\n      <td>Incredibles 2</td>\n      <td>Elastigirl springs into action to save the day...</td>\n      <td>59.218</td>\n      <td>/9lFKBtaVIhP7E2Pk0IY1CwTKTMZ.jpg</td>\n      <td>[{'id': 2, 'logo_path': '/wdrCwmRnLFJhEoH8GSfy...</td>\n      <td>[{'iso_3166_1': 'US', 'name': 'United States o...</td>\n      <td>2018-06-14</td>\n      <td>1242805359</td>\n      <td>118</td>\n      <td>[{'english_name': 'English', 'iso_639_1': 'en'...</td>\n      <td>Released</td>\n      <td>It's time to get back to being incredible.</td>\n      <td>Incredibles 2</td>\n      <td>False</td>\n      <td>7.483</td>\n      <td>11885</td>\n    </tr>\n  </tbody>\n</table>\n</div>"
     },
     "execution_count": 55,
     "metadata": {},
     "output_type": "execute_result"
    }
   ],
   "source": [
    "df"
   ],
   "metadata": {
    "collapsed": false,
    "ExecuteTime": {
     "end_time": "2023-07-09T15:24:10.700886300Z",
     "start_time": "2023-07-09T15:24:10.692872600Z"
    }
   }
  },
  {
   "cell_type": "code",
   "execution_count": 56,
   "outputs": [],
   "source": [
    "df = df.loc[:, [\"title\", \"id\", \"revenue\", \"genres\", \"belongs_to_collection\", \"runtime\"]].sort_values(by = \"revenue\",\n",
    "                                                                                                ascending = False)"
   ],
   "metadata": {
    "collapsed": false,
    "ExecuteTime": {
     "end_time": "2023-07-09T15:26:14.561683200Z",
     "start_time": "2023-07-09T15:26:14.528662900Z"
    }
   }
  },
  {
   "cell_type": "code",
   "execution_count": 57,
   "outputs": [
    {
     "data": {
      "text/plain": "                                           title      id     revenue  \\\n1                                         Avatar   19995  2923706026   \n0                              Avengers: Endgame  299534  2794731755   \n4                                        Titanic     597  2264162353   \n2                   Star Wars: The Force Awakens  140607  2068223624   \n3                         Avengers: Infinity War  299536  2052415039   \n5                                 Jurassic World  135397  1671537444   \n6                                  The Lion King  420818  1663075401   \n7                                   The Avengers   24428  1518815515   \n8                                      Furious 7  168259  1515341399   \n13                                     Frozen II  330457  1450026933   \n9                        Avengers: Age of Ultron   99861  1405403694   \n10                                 Black Panther  284054  1349926083   \n11  Harry Potter and the Deathly Hallows: Part 2   12445  1341511219   \n12                      Star Wars: The Last Jedi  181808  1332698830   \n14                Jurassic World: Fallen Kingdom  351286  1310466296   \n15                                        Frozen  109445  1274219009   \n16                          Beauty and the Beast  321612  1266115964   \n17                                 Incredibles 2  260513  1242805359   \n\n                                               genres  \\\n1   [{'id': 28, 'name': 'Action'}, {'id': 12, 'nam...   \n0   [{'id': 12, 'name': 'Adventure'}, {'id': 878, ...   \n4   [{'id': 18, 'name': 'Drama'}, {'id': 10749, 'n...   \n2   [{'id': 12, 'name': 'Adventure'}, {'id': 28, '...   \n3   [{'id': 12, 'name': 'Adventure'}, {'id': 28, '...   \n5   [{'id': 28, 'name': 'Action'}, {'id': 12, 'nam...   \n6   [{'id': 12, 'name': 'Adventure'}, {'id': 18, '...   \n7   [{'id': 878, 'name': 'Science Fiction'}, {'id'...   \n8   [{'id': 28, 'name': 'Action'}, {'id': 53, 'nam...   \n13  [{'id': 10751, 'name': 'Family'}, {'id': 16, '...   \n9   [{'id': 28, 'name': 'Action'}, {'id': 12, 'nam...   \n10  [{'id': 28, 'name': 'Action'}, {'id': 12, 'nam...   \n11  [{'id': 14, 'name': 'Fantasy'}, {'id': 12, 'na...   \n12  [{'id': 12, 'name': 'Adventure'}, {'id': 28, '...   \n14  [{'id': 28, 'name': 'Action'}, {'id': 12, 'nam...   \n15  [{'id': 16, 'name': 'Animation'}, {'id': 10751...   \n16  [{'id': 10751, 'name': 'Family'}, {'id': 14, '...   \n17  [{'id': 28, 'name': 'Action'}, {'id': 12, 'nam...   \n\n                                belongs_to_collection  runtime  \n1   {'id': 87096, 'name': 'Avatar Collection', 'po...      162  \n0   {'id': 86311, 'name': 'The Avengers Collection...      181  \n4                                                None      194  \n2   {'id': 10, 'name': 'Star Wars Collection', 'po...      136  \n3   {'id': 86311, 'name': 'The Avengers Collection...      149  \n5   {'id': 328, 'name': 'Jurassic Park Collection'...      124  \n6   {'id': 762512, 'name': 'The Lion King (Reboot)...      118  \n7   {'id': 86311, 'name': 'The Avengers Collection...      143  \n8   {'id': 9485, 'name': 'The Fast and the Furious...      137  \n13  {'id': 386382, 'name': 'Frozen Collection', 'p...      103  \n9   {'id': 86311, 'name': 'The Avengers Collection...      141  \n10  {'id': 529892, 'name': 'Black Panther Collecti...      135  \n11  {'id': 1241, 'name': 'Harry Potter Collection'...      130  \n12  {'id': 10, 'name': 'Star Wars Collection', 'po...      152  \n14  {'id': 328, 'name': 'Jurassic Park Collection'...      129  \n15  {'id': 386382, 'name': 'Frozen Collection', 'p...      102  \n16                                               None      129  \n17  {'id': 468222, 'name': 'The Incredibles Collec...      118  ",
      "text/html": "<div>\n<style scoped>\n    .dataframe tbody tr th:only-of-type {\n        vertical-align: middle;\n    }\n\n    .dataframe tbody tr th {\n        vertical-align: top;\n    }\n\n    .dataframe thead th {\n        text-align: right;\n    }\n</style>\n<table border=\"1\" class=\"dataframe\">\n  <thead>\n    <tr style=\"text-align: right;\">\n      <th></th>\n      <th>title</th>\n      <th>id</th>\n      <th>revenue</th>\n      <th>genres</th>\n      <th>belongs_to_collection</th>\n      <th>runtime</th>\n    </tr>\n  </thead>\n  <tbody>\n    <tr>\n      <th>1</th>\n      <td>Avatar</td>\n      <td>19995</td>\n      <td>2923706026</td>\n      <td>[{'id': 28, 'name': 'Action'}, {'id': 12, 'nam...</td>\n      <td>{'id': 87096, 'name': 'Avatar Collection', 'po...</td>\n      <td>162</td>\n    </tr>\n    <tr>\n      <th>0</th>\n      <td>Avengers: Endgame</td>\n      <td>299534</td>\n      <td>2794731755</td>\n      <td>[{'id': 12, 'name': 'Adventure'}, {'id': 878, ...</td>\n      <td>{'id': 86311, 'name': 'The Avengers Collection...</td>\n      <td>181</td>\n    </tr>\n    <tr>\n      <th>4</th>\n      <td>Titanic</td>\n      <td>597</td>\n      <td>2264162353</td>\n      <td>[{'id': 18, 'name': 'Drama'}, {'id': 10749, 'n...</td>\n      <td>None</td>\n      <td>194</td>\n    </tr>\n    <tr>\n      <th>2</th>\n      <td>Star Wars: The Force Awakens</td>\n      <td>140607</td>\n      <td>2068223624</td>\n      <td>[{'id': 12, 'name': 'Adventure'}, {'id': 28, '...</td>\n      <td>{'id': 10, 'name': 'Star Wars Collection', 'po...</td>\n      <td>136</td>\n    </tr>\n    <tr>\n      <th>3</th>\n      <td>Avengers: Infinity War</td>\n      <td>299536</td>\n      <td>2052415039</td>\n      <td>[{'id': 12, 'name': 'Adventure'}, {'id': 28, '...</td>\n      <td>{'id': 86311, 'name': 'The Avengers Collection...</td>\n      <td>149</td>\n    </tr>\n    <tr>\n      <th>5</th>\n      <td>Jurassic World</td>\n      <td>135397</td>\n      <td>1671537444</td>\n      <td>[{'id': 28, 'name': 'Action'}, {'id': 12, 'nam...</td>\n      <td>{'id': 328, 'name': 'Jurassic Park Collection'...</td>\n      <td>124</td>\n    </tr>\n    <tr>\n      <th>6</th>\n      <td>The Lion King</td>\n      <td>420818</td>\n      <td>1663075401</td>\n      <td>[{'id': 12, 'name': 'Adventure'}, {'id': 18, '...</td>\n      <td>{'id': 762512, 'name': 'The Lion King (Reboot)...</td>\n      <td>118</td>\n    </tr>\n    <tr>\n      <th>7</th>\n      <td>The Avengers</td>\n      <td>24428</td>\n      <td>1518815515</td>\n      <td>[{'id': 878, 'name': 'Science Fiction'}, {'id'...</td>\n      <td>{'id': 86311, 'name': 'The Avengers Collection...</td>\n      <td>143</td>\n    </tr>\n    <tr>\n      <th>8</th>\n      <td>Furious 7</td>\n      <td>168259</td>\n      <td>1515341399</td>\n      <td>[{'id': 28, 'name': 'Action'}, {'id': 53, 'nam...</td>\n      <td>{'id': 9485, 'name': 'The Fast and the Furious...</td>\n      <td>137</td>\n    </tr>\n    <tr>\n      <th>13</th>\n      <td>Frozen II</td>\n      <td>330457</td>\n      <td>1450026933</td>\n      <td>[{'id': 10751, 'name': 'Family'}, {'id': 16, '...</td>\n      <td>{'id': 386382, 'name': 'Frozen Collection', 'p...</td>\n      <td>103</td>\n    </tr>\n    <tr>\n      <th>9</th>\n      <td>Avengers: Age of Ultron</td>\n      <td>99861</td>\n      <td>1405403694</td>\n      <td>[{'id': 28, 'name': 'Action'}, {'id': 12, 'nam...</td>\n      <td>{'id': 86311, 'name': 'The Avengers Collection...</td>\n      <td>141</td>\n    </tr>\n    <tr>\n      <th>10</th>\n      <td>Black Panther</td>\n      <td>284054</td>\n      <td>1349926083</td>\n      <td>[{'id': 28, 'name': 'Action'}, {'id': 12, 'nam...</td>\n      <td>{'id': 529892, 'name': 'Black Panther Collecti...</td>\n      <td>135</td>\n    </tr>\n    <tr>\n      <th>11</th>\n      <td>Harry Potter and the Deathly Hallows: Part 2</td>\n      <td>12445</td>\n      <td>1341511219</td>\n      <td>[{'id': 14, 'name': 'Fantasy'}, {'id': 12, 'na...</td>\n      <td>{'id': 1241, 'name': 'Harry Potter Collection'...</td>\n      <td>130</td>\n    </tr>\n    <tr>\n      <th>12</th>\n      <td>Star Wars: The Last Jedi</td>\n      <td>181808</td>\n      <td>1332698830</td>\n      <td>[{'id': 12, 'name': 'Adventure'}, {'id': 28, '...</td>\n      <td>{'id': 10, 'name': 'Star Wars Collection', 'po...</td>\n      <td>152</td>\n    </tr>\n    <tr>\n      <th>14</th>\n      <td>Jurassic World: Fallen Kingdom</td>\n      <td>351286</td>\n      <td>1310466296</td>\n      <td>[{'id': 28, 'name': 'Action'}, {'id': 12, 'nam...</td>\n      <td>{'id': 328, 'name': 'Jurassic Park Collection'...</td>\n      <td>129</td>\n    </tr>\n    <tr>\n      <th>15</th>\n      <td>Frozen</td>\n      <td>109445</td>\n      <td>1274219009</td>\n      <td>[{'id': 16, 'name': 'Animation'}, {'id': 10751...</td>\n      <td>{'id': 386382, 'name': 'Frozen Collection', 'p...</td>\n      <td>102</td>\n    </tr>\n    <tr>\n      <th>16</th>\n      <td>Beauty and the Beast</td>\n      <td>321612</td>\n      <td>1266115964</td>\n      <td>[{'id': 10751, 'name': 'Family'}, {'id': 14, '...</td>\n      <td>None</td>\n      <td>129</td>\n    </tr>\n    <tr>\n      <th>17</th>\n      <td>Incredibles 2</td>\n      <td>260513</td>\n      <td>1242805359</td>\n      <td>[{'id': 28, 'name': 'Action'}, {'id': 12, 'nam...</td>\n      <td>{'id': 468222, 'name': 'The Incredibles Collec...</td>\n      <td>118</td>\n    </tr>\n  </tbody>\n</table>\n</div>"
     },
     "execution_count": 57,
     "metadata": {},
     "output_type": "execute_result"
    }
   ],
   "source": [
    "df"
   ],
   "metadata": {
    "collapsed": false,
    "ExecuteTime": {
     "end_time": "2023-07-09T15:26:17.592572600Z",
     "start_time": "2023-07-09T15:26:17.533332200Z"
    }
   }
  },
  {
   "cell_type": "code",
   "execution_count": 58,
   "outputs": [],
   "source": [
    "df.to_json(\"movies.json\", orient=\"records\")"
   ],
   "metadata": {
    "collapsed": false,
    "ExecuteTime": {
     "end_time": "2023-07-09T15:26:43.447809400Z",
     "start_time": "2023-07-09T15:26:43.417221700Z"
    }
   }
  },
  {
   "cell_type": "code",
   "execution_count": 59,
   "outputs": [],
   "source": [
    "with open(\"movies.json\") as f:\n",
    "    data = json.load(f)"
   ],
   "metadata": {
    "collapsed": false,
    "ExecuteTime": {
     "end_time": "2023-07-09T15:28:03.394157600Z",
     "start_time": "2023-07-09T15:28:03.359337300Z"
    }
   }
  },
  {
   "cell_type": "code",
   "execution_count": 60,
   "outputs": [
    {
     "data": {
      "text/plain": "[{'title': 'Avatar',\n  'id': 19995,\n  'revenue': 2923706026,\n  'genres': [{'id': 28, 'name': 'Action'},\n   {'id': 12, 'name': 'Adventure'},\n   {'id': 14, 'name': 'Fantasy'},\n   {'id': 878, 'name': 'Science Fiction'}],\n  'belongs_to_collection': {'id': 87096,\n   'name': 'Avatar Collection',\n   'poster_path': '/gC3tW9a45RGOzzSh6wv91pFnmFr.jpg',\n   'backdrop_path': '/iaEsDbQPE45hQU2EGiNjXD2KWuF.jpg'},\n  'runtime': 162},\n {'title': 'Avengers: Endgame',\n  'id': 299534,\n  'revenue': 2794731755,\n  'genres': [{'id': 12, 'name': 'Adventure'},\n   {'id': 878, 'name': 'Science Fiction'},\n   {'id': 28, 'name': 'Action'}],\n  'belongs_to_collection': {'id': 86311,\n   'name': 'The Avengers Collection',\n   'poster_path': '/yFSIUVTCvgYrpalUktulvk3Gi5Y.jpg',\n   'backdrop_path': '/zuW6fOiusv4X9nnW3paHGfXcSll.jpg'},\n  'runtime': 181},\n {'title': 'Titanic',\n  'id': 597,\n  'revenue': 2264162353,\n  'genres': [{'id': 18, 'name': 'Drama'}, {'id': 10749, 'name': 'Romance'}],\n  'belongs_to_collection': None,\n  'runtime': 194},\n {'title': 'Star Wars: The Force Awakens',\n  'id': 140607,\n  'revenue': 2068223624,\n  'genres': [{'id': 12, 'name': 'Adventure'},\n   {'id': 28, 'name': 'Action'},\n   {'id': 878, 'name': 'Science Fiction'}],\n  'belongs_to_collection': {'id': 10,\n   'name': 'Star Wars Collection',\n   'poster_path': '/gq5Wi7i4SF3lo4HHkJasDV95xI9.jpg',\n   'backdrop_path': '/d8duYyyC9J5T825Hg7grmaabfxQ.jpg'},\n  'runtime': 136},\n {'title': 'Avengers: Infinity War',\n  'id': 299536,\n  'revenue': 2052415039,\n  'genres': [{'id': 12, 'name': 'Adventure'},\n   {'id': 28, 'name': 'Action'},\n   {'id': 878, 'name': 'Science Fiction'}],\n  'belongs_to_collection': {'id': 86311,\n   'name': 'The Avengers Collection',\n   'poster_path': '/yFSIUVTCvgYrpalUktulvk3Gi5Y.jpg',\n   'backdrop_path': '/zuW6fOiusv4X9nnW3paHGfXcSll.jpg'},\n  'runtime': 149},\n {'title': 'Jurassic World',\n  'id': 135397,\n  'revenue': 1671537444,\n  'genres': [{'id': 28, 'name': 'Action'},\n   {'id': 12, 'name': 'Adventure'},\n   {'id': 878, 'name': 'Science Fiction'},\n   {'id': 53, 'name': 'Thriller'}],\n  'belongs_to_collection': {'id': 328,\n   'name': 'Jurassic Park Collection',\n   'poster_path': '/jcUXVtJ6s0NG0EaxllQCAUtqdr0.jpg',\n   'backdrop_path': '/njFixYzIxX8jsn6KMSEtAzi4avi.jpg'},\n  'runtime': 124},\n {'title': 'The Lion King',\n  'id': 420818,\n  'revenue': 1663075401,\n  'genres': [{'id': 12, 'name': 'Adventure'},\n   {'id': 18, 'name': 'Drama'},\n   {'id': 10751, 'name': 'Family'},\n   {'id': 16, 'name': 'Animation'}],\n  'belongs_to_collection': {'id': 762512,\n   'name': 'The Lion King (Reboot) Collection',\n   'poster_path': '/dGpIRn4Nqi63JO1RlKxjcPbQSAw.jpg',\n   'backdrop_path': '/jIgM7YNVft0YGeXsqrh3oG5TWLx.jpg'},\n  'runtime': 118},\n {'title': 'The Avengers',\n  'id': 24428,\n  'revenue': 1518815515,\n  'genres': [{'id': 878, 'name': 'Science Fiction'},\n   {'id': 28, 'name': 'Action'},\n   {'id': 12, 'name': 'Adventure'}],\n  'belongs_to_collection': {'id': 86311,\n   'name': 'The Avengers Collection',\n   'poster_path': '/yFSIUVTCvgYrpalUktulvk3Gi5Y.jpg',\n   'backdrop_path': '/zuW6fOiusv4X9nnW3paHGfXcSll.jpg'},\n  'runtime': 143},\n {'title': 'Furious 7',\n  'id': 168259,\n  'revenue': 1515341399,\n  'genres': [{'id': 28, 'name': 'Action'},\n   {'id': 53, 'name': 'Thriller'},\n   {'id': 80, 'name': 'Crime'}],\n  'belongs_to_collection': {'id': 9485,\n   'name': 'The Fast and the Furious Collection',\n   'poster_path': '/yvr1Ziehgps1VJyug8nnezTJRJW.jpg',\n   'backdrop_path': '/z5A5W3WYJc3UVEWljSGwdjDgQ0j.jpg'},\n  'runtime': 137},\n {'title': 'Frozen II',\n  'id': 330457,\n  'revenue': 1450026933,\n  'genres': [{'id': 10751, 'name': 'Family'},\n   {'id': 16, 'name': 'Animation'},\n   {'id': 12, 'name': 'Adventure'},\n   {'id': 35, 'name': 'Comedy'},\n   {'id': 14, 'name': 'Fantasy'}],\n  'belongs_to_collection': {'id': 386382,\n   'name': 'Frozen Collection',\n   'poster_path': '/dwdyvzFX9NEI7oFlRnZurRmlswQ.jpg',\n   'backdrop_path': '/6QonAoIN0jhWZZWZGJswSxHzUnU.jpg'},\n  'runtime': 103},\n {'title': 'Avengers: Age of Ultron',\n  'id': 99861,\n  'revenue': 1405403694,\n  'genres': [{'id': 28, 'name': 'Action'},\n   {'id': 12, 'name': 'Adventure'},\n   {'id': 878, 'name': 'Science Fiction'}],\n  'belongs_to_collection': {'id': 86311,\n   'name': 'The Avengers Collection',\n   'poster_path': '/yFSIUVTCvgYrpalUktulvk3Gi5Y.jpg',\n   'backdrop_path': '/zuW6fOiusv4X9nnW3paHGfXcSll.jpg'},\n  'runtime': 141},\n {'title': 'Black Panther',\n  'id': 284054,\n  'revenue': 1349926083,\n  'genres': [{'id': 28, 'name': 'Action'},\n   {'id': 12, 'name': 'Adventure'},\n   {'id': 878, 'name': 'Science Fiction'}],\n  'belongs_to_collection': {'id': 529892,\n   'name': 'Black Panther Collection',\n   'poster_path': '/qT1JPO6IltC2B39QAriAg7SelMx.jpg',\n   'backdrop_path': '/yzVxUMYGKjK3GgmVI2BhmbuL9UY.jpg'},\n  'runtime': 135},\n {'title': 'Harry Potter and the Deathly Hallows: Part 2',\n  'id': 12445,\n  'revenue': 1341511219,\n  'genres': [{'id': 14, 'name': 'Fantasy'}, {'id': 12, 'name': 'Adventure'}],\n  'belongs_to_collection': {'id': 1241,\n   'name': 'Harry Potter Collection',\n   'poster_path': '/eVPs2Y0LyvTLZn6AP5Z6O2rtiGB.jpg',\n   'backdrop_path': '/4gV0rKUjB1nLUdZB4zIltLvNZZr.jpg'},\n  'runtime': 130},\n {'title': 'Star Wars: The Last Jedi',\n  'id': 181808,\n  'revenue': 1332698830,\n  'genres': [{'id': 12, 'name': 'Adventure'},\n   {'id': 28, 'name': 'Action'},\n   {'id': 878, 'name': 'Science Fiction'}],\n  'belongs_to_collection': {'id': 10,\n   'name': 'Star Wars Collection',\n   'poster_path': '/gq5Wi7i4SF3lo4HHkJasDV95xI9.jpg',\n   'backdrop_path': '/d8duYyyC9J5T825Hg7grmaabfxQ.jpg'},\n  'runtime': 152},\n {'title': 'Jurassic World: Fallen Kingdom',\n  'id': 351286,\n  'revenue': 1310466296,\n  'genres': [{'id': 28, 'name': 'Action'},\n   {'id': 12, 'name': 'Adventure'},\n   {'id': 878, 'name': 'Science Fiction'},\n   {'id': 53, 'name': 'Thriller'}],\n  'belongs_to_collection': {'id': 328,\n   'name': 'Jurassic Park Collection',\n   'poster_path': '/jcUXVtJ6s0NG0EaxllQCAUtqdr0.jpg',\n   'backdrop_path': '/njFixYzIxX8jsn6KMSEtAzi4avi.jpg'},\n  'runtime': 129},\n {'title': 'Frozen',\n  'id': 109445,\n  'revenue': 1274219009,\n  'genres': [{'id': 16, 'name': 'Animation'},\n   {'id': 10751, 'name': 'Family'},\n   {'id': 12, 'name': 'Adventure'},\n   {'id': 14, 'name': 'Fantasy'}],\n  'belongs_to_collection': {'id': 386382,\n   'name': 'Frozen Collection',\n   'poster_path': '/dwdyvzFX9NEI7oFlRnZurRmlswQ.jpg',\n   'backdrop_path': '/6QonAoIN0jhWZZWZGJswSxHzUnU.jpg'},\n  'runtime': 102},\n {'title': 'Beauty and the Beast',\n  'id': 321612,\n  'revenue': 1266115964,\n  'genres': [{'id': 10751, 'name': 'Family'},\n   {'id': 14, 'name': 'Fantasy'},\n   {'id': 10749, 'name': 'Romance'}],\n  'belongs_to_collection': None,\n  'runtime': 129},\n {'title': 'Incredibles 2',\n  'id': 260513,\n  'revenue': 1242805359,\n  'genres': [{'id': 28, 'name': 'Action'},\n   {'id': 12, 'name': 'Adventure'},\n   {'id': 16, 'name': 'Animation'},\n   {'id': 10751, 'name': 'Family'}],\n  'belongs_to_collection': {'id': 468222,\n   'name': 'The Incredibles Collection',\n   'poster_path': '/xMX1jZyObVeWUxDQmt53X6jzIO4.jpg',\n   'backdrop_path': '/6oi6V1O9MJRNnfV8E9JMntmFqBD.jpg'},\n  'runtime': 118}]"
     },
     "execution_count": 60,
     "metadata": {},
     "output_type": "execute_result"
    }
   ],
   "source": [
    "data"
   ],
   "metadata": {
    "collapsed": false,
    "ExecuteTime": {
     "end_time": "2023-07-09T15:28:08.778820900Z",
     "start_time": "2023-07-09T15:28:08.758782700Z"
    }
   }
  },
  {
   "cell_type": "code",
   "execution_count": 61,
   "outputs": [
    {
     "data": {
      "text/plain": "                                           title      id     revenue  \\\n0                                         Avatar   19995  2923706026   \n1                              Avengers: Endgame  299534  2794731755   \n2                                        Titanic     597  2264162353   \n3                   Star Wars: The Force Awakens  140607  2068223624   \n4                         Avengers: Infinity War  299536  2052415039   \n5                                 Jurassic World  135397  1671537444   \n6                                  The Lion King  420818  1663075401   \n7                                   The Avengers   24428  1518815515   \n8                                      Furious 7  168259  1515341399   \n9                                      Frozen II  330457  1450026933   \n10                       Avengers: Age of Ultron   99861  1405403694   \n11                                 Black Panther  284054  1349926083   \n12  Harry Potter and the Deathly Hallows: Part 2   12445  1341511219   \n13                      Star Wars: The Last Jedi  181808  1332698830   \n14                Jurassic World: Fallen Kingdom  351286  1310466296   \n15                                        Frozen  109445  1274219009   \n16                          Beauty and the Beast  321612  1266115964   \n17                                 Incredibles 2  260513  1242805359   \n\n                                               genres  runtime  \\\n0   [{'id': 28, 'name': 'Action'}, {'id': 12, 'nam...      162   \n1   [{'id': 12, 'name': 'Adventure'}, {'id': 878, ...      181   \n2   [{'id': 18, 'name': 'Drama'}, {'id': 10749, 'n...      194   \n3   [{'id': 12, 'name': 'Adventure'}, {'id': 28, '...      136   \n4   [{'id': 12, 'name': 'Adventure'}, {'id': 28, '...      149   \n5   [{'id': 28, 'name': 'Action'}, {'id': 12, 'nam...      124   \n6   [{'id': 12, 'name': 'Adventure'}, {'id': 18, '...      118   \n7   [{'id': 878, 'name': 'Science Fiction'}, {'id'...      143   \n8   [{'id': 28, 'name': 'Action'}, {'id': 53, 'nam...      137   \n9   [{'id': 10751, 'name': 'Family'}, {'id': 16, '...      103   \n10  [{'id': 28, 'name': 'Action'}, {'id': 12, 'nam...      141   \n11  [{'id': 28, 'name': 'Action'}, {'id': 12, 'nam...      135   \n12  [{'id': 14, 'name': 'Fantasy'}, {'id': 12, 'na...      130   \n13  [{'id': 12, 'name': 'Adventure'}, {'id': 28, '...      152   \n14  [{'id': 28, 'name': 'Action'}, {'id': 12, 'nam...      129   \n15  [{'id': 16, 'name': 'Animation'}, {'id': 10751...      102   \n16  [{'id': 10751, 'name': 'Family'}, {'id': 14, '...      129   \n17  [{'id': 28, 'name': 'Action'}, {'id': 12, 'nam...      118   \n\n    belongs_to_collection.id           belongs_to_collection.name  \\\n0                    87096.0                    Avatar Collection   \n1                    86311.0              The Avengers Collection   \n2                        NaN                                  NaN   \n3                       10.0                 Star Wars Collection   \n4                    86311.0              The Avengers Collection   \n5                      328.0             Jurassic Park Collection   \n6                   762512.0    The Lion King (Reboot) Collection   \n7                    86311.0              The Avengers Collection   \n8                     9485.0  The Fast and the Furious Collection   \n9                   386382.0                    Frozen Collection   \n10                   86311.0              The Avengers Collection   \n11                  529892.0             Black Panther Collection   \n12                    1241.0              Harry Potter Collection   \n13                      10.0                 Star Wars Collection   \n14                     328.0             Jurassic Park Collection   \n15                  386382.0                    Frozen Collection   \n16                       NaN                                  NaN   \n17                  468222.0           The Incredibles Collection   \n\n   belongs_to_collection.poster_path belongs_to_collection.backdrop_path  \\\n0   /gC3tW9a45RGOzzSh6wv91pFnmFr.jpg    /iaEsDbQPE45hQU2EGiNjXD2KWuF.jpg   \n1   /yFSIUVTCvgYrpalUktulvk3Gi5Y.jpg    /zuW6fOiusv4X9nnW3paHGfXcSll.jpg   \n2                                NaN                                 NaN   \n3   /gq5Wi7i4SF3lo4HHkJasDV95xI9.jpg    /d8duYyyC9J5T825Hg7grmaabfxQ.jpg   \n4   /yFSIUVTCvgYrpalUktulvk3Gi5Y.jpg    /zuW6fOiusv4X9nnW3paHGfXcSll.jpg   \n5   /jcUXVtJ6s0NG0EaxllQCAUtqdr0.jpg    /njFixYzIxX8jsn6KMSEtAzi4avi.jpg   \n6   /dGpIRn4Nqi63JO1RlKxjcPbQSAw.jpg    /jIgM7YNVft0YGeXsqrh3oG5TWLx.jpg   \n7   /yFSIUVTCvgYrpalUktulvk3Gi5Y.jpg    /zuW6fOiusv4X9nnW3paHGfXcSll.jpg   \n8   /yvr1Ziehgps1VJyug8nnezTJRJW.jpg    /z5A5W3WYJc3UVEWljSGwdjDgQ0j.jpg   \n9   /dwdyvzFX9NEI7oFlRnZurRmlswQ.jpg    /6QonAoIN0jhWZZWZGJswSxHzUnU.jpg   \n10  /yFSIUVTCvgYrpalUktulvk3Gi5Y.jpg    /zuW6fOiusv4X9nnW3paHGfXcSll.jpg   \n11  /qT1JPO6IltC2B39QAriAg7SelMx.jpg    /yzVxUMYGKjK3GgmVI2BhmbuL9UY.jpg   \n12  /eVPs2Y0LyvTLZn6AP5Z6O2rtiGB.jpg    /4gV0rKUjB1nLUdZB4zIltLvNZZr.jpg   \n13  /gq5Wi7i4SF3lo4HHkJasDV95xI9.jpg    /d8duYyyC9J5T825Hg7grmaabfxQ.jpg   \n14  /jcUXVtJ6s0NG0EaxllQCAUtqdr0.jpg    /njFixYzIxX8jsn6KMSEtAzi4avi.jpg   \n15  /dwdyvzFX9NEI7oFlRnZurRmlswQ.jpg    /6QonAoIN0jhWZZWZGJswSxHzUnU.jpg   \n16                               NaN                                 NaN   \n17  /xMX1jZyObVeWUxDQmt53X6jzIO4.jpg    /6oi6V1O9MJRNnfV8E9JMntmFqBD.jpg   \n\n    belongs_to_collection  \n0                     NaN  \n1                     NaN  \n2                     NaN  \n3                     NaN  \n4                     NaN  \n5                     NaN  \n6                     NaN  \n7                     NaN  \n8                     NaN  \n9                     NaN  \n10                    NaN  \n11                    NaN  \n12                    NaN  \n13                    NaN  \n14                    NaN  \n15                    NaN  \n16                    NaN  \n17                    NaN  ",
      "text/html": "<div>\n<style scoped>\n    .dataframe tbody tr th:only-of-type {\n        vertical-align: middle;\n    }\n\n    .dataframe tbody tr th {\n        vertical-align: top;\n    }\n\n    .dataframe thead th {\n        text-align: right;\n    }\n</style>\n<table border=\"1\" class=\"dataframe\">\n  <thead>\n    <tr style=\"text-align: right;\">\n      <th></th>\n      <th>title</th>\n      <th>id</th>\n      <th>revenue</th>\n      <th>genres</th>\n      <th>runtime</th>\n      <th>belongs_to_collection.id</th>\n      <th>belongs_to_collection.name</th>\n      <th>belongs_to_collection.poster_path</th>\n      <th>belongs_to_collection.backdrop_path</th>\n      <th>belongs_to_collection</th>\n    </tr>\n  </thead>\n  <tbody>\n    <tr>\n      <th>0</th>\n      <td>Avatar</td>\n      <td>19995</td>\n      <td>2923706026</td>\n      <td>[{'id': 28, 'name': 'Action'}, {'id': 12, 'nam...</td>\n      <td>162</td>\n      <td>87096.0</td>\n      <td>Avatar Collection</td>\n      <td>/gC3tW9a45RGOzzSh6wv91pFnmFr.jpg</td>\n      <td>/iaEsDbQPE45hQU2EGiNjXD2KWuF.jpg</td>\n      <td>NaN</td>\n    </tr>\n    <tr>\n      <th>1</th>\n      <td>Avengers: Endgame</td>\n      <td>299534</td>\n      <td>2794731755</td>\n      <td>[{'id': 12, 'name': 'Adventure'}, {'id': 878, ...</td>\n      <td>181</td>\n      <td>86311.0</td>\n      <td>The Avengers Collection</td>\n      <td>/yFSIUVTCvgYrpalUktulvk3Gi5Y.jpg</td>\n      <td>/zuW6fOiusv4X9nnW3paHGfXcSll.jpg</td>\n      <td>NaN</td>\n    </tr>\n    <tr>\n      <th>2</th>\n      <td>Titanic</td>\n      <td>597</td>\n      <td>2264162353</td>\n      <td>[{'id': 18, 'name': 'Drama'}, {'id': 10749, 'n...</td>\n      <td>194</td>\n      <td>NaN</td>\n      <td>NaN</td>\n      <td>NaN</td>\n      <td>NaN</td>\n      <td>NaN</td>\n    </tr>\n    <tr>\n      <th>3</th>\n      <td>Star Wars: The Force Awakens</td>\n      <td>140607</td>\n      <td>2068223624</td>\n      <td>[{'id': 12, 'name': 'Adventure'}, {'id': 28, '...</td>\n      <td>136</td>\n      <td>10.0</td>\n      <td>Star Wars Collection</td>\n      <td>/gq5Wi7i4SF3lo4HHkJasDV95xI9.jpg</td>\n      <td>/d8duYyyC9J5T825Hg7grmaabfxQ.jpg</td>\n      <td>NaN</td>\n    </tr>\n    <tr>\n      <th>4</th>\n      <td>Avengers: Infinity War</td>\n      <td>299536</td>\n      <td>2052415039</td>\n      <td>[{'id': 12, 'name': 'Adventure'}, {'id': 28, '...</td>\n      <td>149</td>\n      <td>86311.0</td>\n      <td>The Avengers Collection</td>\n      <td>/yFSIUVTCvgYrpalUktulvk3Gi5Y.jpg</td>\n      <td>/zuW6fOiusv4X9nnW3paHGfXcSll.jpg</td>\n      <td>NaN</td>\n    </tr>\n    <tr>\n      <th>5</th>\n      <td>Jurassic World</td>\n      <td>135397</td>\n      <td>1671537444</td>\n      <td>[{'id': 28, 'name': 'Action'}, {'id': 12, 'nam...</td>\n      <td>124</td>\n      <td>328.0</td>\n      <td>Jurassic Park Collection</td>\n      <td>/jcUXVtJ6s0NG0EaxllQCAUtqdr0.jpg</td>\n      <td>/njFixYzIxX8jsn6KMSEtAzi4avi.jpg</td>\n      <td>NaN</td>\n    </tr>\n    <tr>\n      <th>6</th>\n      <td>The Lion King</td>\n      <td>420818</td>\n      <td>1663075401</td>\n      <td>[{'id': 12, 'name': 'Adventure'}, {'id': 18, '...</td>\n      <td>118</td>\n      <td>762512.0</td>\n      <td>The Lion King (Reboot) Collection</td>\n      <td>/dGpIRn4Nqi63JO1RlKxjcPbQSAw.jpg</td>\n      <td>/jIgM7YNVft0YGeXsqrh3oG5TWLx.jpg</td>\n      <td>NaN</td>\n    </tr>\n    <tr>\n      <th>7</th>\n      <td>The Avengers</td>\n      <td>24428</td>\n      <td>1518815515</td>\n      <td>[{'id': 878, 'name': 'Science Fiction'}, {'id'...</td>\n      <td>143</td>\n      <td>86311.0</td>\n      <td>The Avengers Collection</td>\n      <td>/yFSIUVTCvgYrpalUktulvk3Gi5Y.jpg</td>\n      <td>/zuW6fOiusv4X9nnW3paHGfXcSll.jpg</td>\n      <td>NaN</td>\n    </tr>\n    <tr>\n      <th>8</th>\n      <td>Furious 7</td>\n      <td>168259</td>\n      <td>1515341399</td>\n      <td>[{'id': 28, 'name': 'Action'}, {'id': 53, 'nam...</td>\n      <td>137</td>\n      <td>9485.0</td>\n      <td>The Fast and the Furious Collection</td>\n      <td>/yvr1Ziehgps1VJyug8nnezTJRJW.jpg</td>\n      <td>/z5A5W3WYJc3UVEWljSGwdjDgQ0j.jpg</td>\n      <td>NaN</td>\n    </tr>\n    <tr>\n      <th>9</th>\n      <td>Frozen II</td>\n      <td>330457</td>\n      <td>1450026933</td>\n      <td>[{'id': 10751, 'name': 'Family'}, {'id': 16, '...</td>\n      <td>103</td>\n      <td>386382.0</td>\n      <td>Frozen Collection</td>\n      <td>/dwdyvzFX9NEI7oFlRnZurRmlswQ.jpg</td>\n      <td>/6QonAoIN0jhWZZWZGJswSxHzUnU.jpg</td>\n      <td>NaN</td>\n    </tr>\n    <tr>\n      <th>10</th>\n      <td>Avengers: Age of Ultron</td>\n      <td>99861</td>\n      <td>1405403694</td>\n      <td>[{'id': 28, 'name': 'Action'}, {'id': 12, 'nam...</td>\n      <td>141</td>\n      <td>86311.0</td>\n      <td>The Avengers Collection</td>\n      <td>/yFSIUVTCvgYrpalUktulvk3Gi5Y.jpg</td>\n      <td>/zuW6fOiusv4X9nnW3paHGfXcSll.jpg</td>\n      <td>NaN</td>\n    </tr>\n    <tr>\n      <th>11</th>\n      <td>Black Panther</td>\n      <td>284054</td>\n      <td>1349926083</td>\n      <td>[{'id': 28, 'name': 'Action'}, {'id': 12, 'nam...</td>\n      <td>135</td>\n      <td>529892.0</td>\n      <td>Black Panther Collection</td>\n      <td>/qT1JPO6IltC2B39QAriAg7SelMx.jpg</td>\n      <td>/yzVxUMYGKjK3GgmVI2BhmbuL9UY.jpg</td>\n      <td>NaN</td>\n    </tr>\n    <tr>\n      <th>12</th>\n      <td>Harry Potter and the Deathly Hallows: Part 2</td>\n      <td>12445</td>\n      <td>1341511219</td>\n      <td>[{'id': 14, 'name': 'Fantasy'}, {'id': 12, 'na...</td>\n      <td>130</td>\n      <td>1241.0</td>\n      <td>Harry Potter Collection</td>\n      <td>/eVPs2Y0LyvTLZn6AP5Z6O2rtiGB.jpg</td>\n      <td>/4gV0rKUjB1nLUdZB4zIltLvNZZr.jpg</td>\n      <td>NaN</td>\n    </tr>\n    <tr>\n      <th>13</th>\n      <td>Star Wars: The Last Jedi</td>\n      <td>181808</td>\n      <td>1332698830</td>\n      <td>[{'id': 12, 'name': 'Adventure'}, {'id': 28, '...</td>\n      <td>152</td>\n      <td>10.0</td>\n      <td>Star Wars Collection</td>\n      <td>/gq5Wi7i4SF3lo4HHkJasDV95xI9.jpg</td>\n      <td>/d8duYyyC9J5T825Hg7grmaabfxQ.jpg</td>\n      <td>NaN</td>\n    </tr>\n    <tr>\n      <th>14</th>\n      <td>Jurassic World: Fallen Kingdom</td>\n      <td>351286</td>\n      <td>1310466296</td>\n      <td>[{'id': 28, 'name': 'Action'}, {'id': 12, 'nam...</td>\n      <td>129</td>\n      <td>328.0</td>\n      <td>Jurassic Park Collection</td>\n      <td>/jcUXVtJ6s0NG0EaxllQCAUtqdr0.jpg</td>\n      <td>/njFixYzIxX8jsn6KMSEtAzi4avi.jpg</td>\n      <td>NaN</td>\n    </tr>\n    <tr>\n      <th>15</th>\n      <td>Frozen</td>\n      <td>109445</td>\n      <td>1274219009</td>\n      <td>[{'id': 16, 'name': 'Animation'}, {'id': 10751...</td>\n      <td>102</td>\n      <td>386382.0</td>\n      <td>Frozen Collection</td>\n      <td>/dwdyvzFX9NEI7oFlRnZurRmlswQ.jpg</td>\n      <td>/6QonAoIN0jhWZZWZGJswSxHzUnU.jpg</td>\n      <td>NaN</td>\n    </tr>\n    <tr>\n      <th>16</th>\n      <td>Beauty and the Beast</td>\n      <td>321612</td>\n      <td>1266115964</td>\n      <td>[{'id': 10751, 'name': 'Family'}, {'id': 14, '...</td>\n      <td>129</td>\n      <td>NaN</td>\n      <td>NaN</td>\n      <td>NaN</td>\n      <td>NaN</td>\n      <td>NaN</td>\n    </tr>\n    <tr>\n      <th>17</th>\n      <td>Incredibles 2</td>\n      <td>260513</td>\n      <td>1242805359</td>\n      <td>[{'id': 28, 'name': 'Action'}, {'id': 12, 'nam...</td>\n      <td>118</td>\n      <td>468222.0</td>\n      <td>The Incredibles Collection</td>\n      <td>/xMX1jZyObVeWUxDQmt53X6jzIO4.jpg</td>\n      <td>/6oi6V1O9MJRNnfV8E9JMntmFqBD.jpg</td>\n      <td>NaN</td>\n    </tr>\n  </tbody>\n</table>\n</div>"
     },
     "execution_count": 61,
     "metadata": {},
     "output_type": "execute_result"
    }
   ],
   "source": [
    "pd.json_normalize(data)"
   ],
   "metadata": {
    "collapsed": false,
    "ExecuteTime": {
     "end_time": "2023-07-09T15:28:17.036527Z",
     "start_time": "2023-07-09T15:28:16.873047Z"
    }
   }
  },
  {
   "cell_type": "code",
   "execution_count": 62,
   "outputs": [
    {
     "data": {
      "text/plain": "       id             name                                         title\n0      28           Action                                        Avatar\n1      12        Adventure                                        Avatar\n2      14          Fantasy                                        Avatar\n3     878  Science Fiction                                        Avatar\n4      12        Adventure                             Avengers: Endgame\n5     878  Science Fiction                             Avengers: Endgame\n6      28           Action                             Avengers: Endgame\n7      18            Drama                                       Titanic\n8   10749          Romance                                       Titanic\n9      12        Adventure                  Star Wars: The Force Awakens\n10     28           Action                  Star Wars: The Force Awakens\n11    878  Science Fiction                  Star Wars: The Force Awakens\n12     12        Adventure                        Avengers: Infinity War\n13     28           Action                        Avengers: Infinity War\n14    878  Science Fiction                        Avengers: Infinity War\n15     28           Action                                Jurassic World\n16     12        Adventure                                Jurassic World\n17    878  Science Fiction                                Jurassic World\n18     53         Thriller                                Jurassic World\n19     12        Adventure                                 The Lion King\n20     18            Drama                                 The Lion King\n21  10751           Family                                 The Lion King\n22     16        Animation                                 The Lion King\n23    878  Science Fiction                                  The Avengers\n24     28           Action                                  The Avengers\n25     12        Adventure                                  The Avengers\n26     28           Action                                     Furious 7\n27     53         Thriller                                     Furious 7\n28     80            Crime                                     Furious 7\n29  10751           Family                                     Frozen II\n30     16        Animation                                     Frozen II\n31     12        Adventure                                     Frozen II\n32     35           Comedy                                     Frozen II\n33     14          Fantasy                                     Frozen II\n34     28           Action                       Avengers: Age of Ultron\n35     12        Adventure                       Avengers: Age of Ultron\n36    878  Science Fiction                       Avengers: Age of Ultron\n37     28           Action                                 Black Panther\n38     12        Adventure                                 Black Panther\n39    878  Science Fiction                                 Black Panther\n40     14          Fantasy  Harry Potter and the Deathly Hallows: Part 2\n41     12        Adventure  Harry Potter and the Deathly Hallows: Part 2\n42     12        Adventure                      Star Wars: The Last Jedi\n43     28           Action                      Star Wars: The Last Jedi\n44    878  Science Fiction                      Star Wars: The Last Jedi\n45     28           Action                Jurassic World: Fallen Kingdom\n46     12        Adventure                Jurassic World: Fallen Kingdom\n47    878  Science Fiction                Jurassic World: Fallen Kingdom\n48     53         Thriller                Jurassic World: Fallen Kingdom\n49     16        Animation                                        Frozen\n50  10751           Family                                        Frozen\n51     12        Adventure                                        Frozen\n52     14          Fantasy                                        Frozen\n53  10751           Family                          Beauty and the Beast\n54     14          Fantasy                          Beauty and the Beast\n55  10749          Romance                          Beauty and the Beast\n56     28           Action                                 Incredibles 2\n57     12        Adventure                                 Incredibles 2\n58     16        Animation                                 Incredibles 2\n59  10751           Family                                 Incredibles 2",
      "text/html": "<div>\n<style scoped>\n    .dataframe tbody tr th:only-of-type {\n        vertical-align: middle;\n    }\n\n    .dataframe tbody tr th {\n        vertical-align: top;\n    }\n\n    .dataframe thead th {\n        text-align: right;\n    }\n</style>\n<table border=\"1\" class=\"dataframe\">\n  <thead>\n    <tr style=\"text-align: right;\">\n      <th></th>\n      <th>id</th>\n      <th>name</th>\n      <th>title</th>\n    </tr>\n  </thead>\n  <tbody>\n    <tr>\n      <th>0</th>\n      <td>28</td>\n      <td>Action</td>\n      <td>Avatar</td>\n    </tr>\n    <tr>\n      <th>1</th>\n      <td>12</td>\n      <td>Adventure</td>\n      <td>Avatar</td>\n    </tr>\n    <tr>\n      <th>2</th>\n      <td>14</td>\n      <td>Fantasy</td>\n      <td>Avatar</td>\n    </tr>\n    <tr>\n      <th>3</th>\n      <td>878</td>\n      <td>Science Fiction</td>\n      <td>Avatar</td>\n    </tr>\n    <tr>\n      <th>4</th>\n      <td>12</td>\n      <td>Adventure</td>\n      <td>Avengers: Endgame</td>\n    </tr>\n    <tr>\n      <th>5</th>\n      <td>878</td>\n      <td>Science Fiction</td>\n      <td>Avengers: Endgame</td>\n    </tr>\n    <tr>\n      <th>6</th>\n      <td>28</td>\n      <td>Action</td>\n      <td>Avengers: Endgame</td>\n    </tr>\n    <tr>\n      <th>7</th>\n      <td>18</td>\n      <td>Drama</td>\n      <td>Titanic</td>\n    </tr>\n    <tr>\n      <th>8</th>\n      <td>10749</td>\n      <td>Romance</td>\n      <td>Titanic</td>\n    </tr>\n    <tr>\n      <th>9</th>\n      <td>12</td>\n      <td>Adventure</td>\n      <td>Star Wars: The Force Awakens</td>\n    </tr>\n    <tr>\n      <th>10</th>\n      <td>28</td>\n      <td>Action</td>\n      <td>Star Wars: The Force Awakens</td>\n    </tr>\n    <tr>\n      <th>11</th>\n      <td>878</td>\n      <td>Science Fiction</td>\n      <td>Star Wars: The Force Awakens</td>\n    </tr>\n    <tr>\n      <th>12</th>\n      <td>12</td>\n      <td>Adventure</td>\n      <td>Avengers: Infinity War</td>\n    </tr>\n    <tr>\n      <th>13</th>\n      <td>28</td>\n      <td>Action</td>\n      <td>Avengers: Infinity War</td>\n    </tr>\n    <tr>\n      <th>14</th>\n      <td>878</td>\n      <td>Science Fiction</td>\n      <td>Avengers: Infinity War</td>\n    </tr>\n    <tr>\n      <th>15</th>\n      <td>28</td>\n      <td>Action</td>\n      <td>Jurassic World</td>\n    </tr>\n    <tr>\n      <th>16</th>\n      <td>12</td>\n      <td>Adventure</td>\n      <td>Jurassic World</td>\n    </tr>\n    <tr>\n      <th>17</th>\n      <td>878</td>\n      <td>Science Fiction</td>\n      <td>Jurassic World</td>\n    </tr>\n    <tr>\n      <th>18</th>\n      <td>53</td>\n      <td>Thriller</td>\n      <td>Jurassic World</td>\n    </tr>\n    <tr>\n      <th>19</th>\n      <td>12</td>\n      <td>Adventure</td>\n      <td>The Lion King</td>\n    </tr>\n    <tr>\n      <th>20</th>\n      <td>18</td>\n      <td>Drama</td>\n      <td>The Lion King</td>\n    </tr>\n    <tr>\n      <th>21</th>\n      <td>10751</td>\n      <td>Family</td>\n      <td>The Lion King</td>\n    </tr>\n    <tr>\n      <th>22</th>\n      <td>16</td>\n      <td>Animation</td>\n      <td>The Lion King</td>\n    </tr>\n    <tr>\n      <th>23</th>\n      <td>878</td>\n      <td>Science Fiction</td>\n      <td>The Avengers</td>\n    </tr>\n    <tr>\n      <th>24</th>\n      <td>28</td>\n      <td>Action</td>\n      <td>The Avengers</td>\n    </tr>\n    <tr>\n      <th>25</th>\n      <td>12</td>\n      <td>Adventure</td>\n      <td>The Avengers</td>\n    </tr>\n    <tr>\n      <th>26</th>\n      <td>28</td>\n      <td>Action</td>\n      <td>Furious 7</td>\n    </tr>\n    <tr>\n      <th>27</th>\n      <td>53</td>\n      <td>Thriller</td>\n      <td>Furious 7</td>\n    </tr>\n    <tr>\n      <th>28</th>\n      <td>80</td>\n      <td>Crime</td>\n      <td>Furious 7</td>\n    </tr>\n    <tr>\n      <th>29</th>\n      <td>10751</td>\n      <td>Family</td>\n      <td>Frozen II</td>\n    </tr>\n    <tr>\n      <th>30</th>\n      <td>16</td>\n      <td>Animation</td>\n      <td>Frozen II</td>\n    </tr>\n    <tr>\n      <th>31</th>\n      <td>12</td>\n      <td>Adventure</td>\n      <td>Frozen II</td>\n    </tr>\n    <tr>\n      <th>32</th>\n      <td>35</td>\n      <td>Comedy</td>\n      <td>Frozen II</td>\n    </tr>\n    <tr>\n      <th>33</th>\n      <td>14</td>\n      <td>Fantasy</td>\n      <td>Frozen II</td>\n    </tr>\n    <tr>\n      <th>34</th>\n      <td>28</td>\n      <td>Action</td>\n      <td>Avengers: Age of Ultron</td>\n    </tr>\n    <tr>\n      <th>35</th>\n      <td>12</td>\n      <td>Adventure</td>\n      <td>Avengers: Age of Ultron</td>\n    </tr>\n    <tr>\n      <th>36</th>\n      <td>878</td>\n      <td>Science Fiction</td>\n      <td>Avengers: Age of Ultron</td>\n    </tr>\n    <tr>\n      <th>37</th>\n      <td>28</td>\n      <td>Action</td>\n      <td>Black Panther</td>\n    </tr>\n    <tr>\n      <th>38</th>\n      <td>12</td>\n      <td>Adventure</td>\n      <td>Black Panther</td>\n    </tr>\n    <tr>\n      <th>39</th>\n      <td>878</td>\n      <td>Science Fiction</td>\n      <td>Black Panther</td>\n    </tr>\n    <tr>\n      <th>40</th>\n      <td>14</td>\n      <td>Fantasy</td>\n      <td>Harry Potter and the Deathly Hallows: Part 2</td>\n    </tr>\n    <tr>\n      <th>41</th>\n      <td>12</td>\n      <td>Adventure</td>\n      <td>Harry Potter and the Deathly Hallows: Part 2</td>\n    </tr>\n    <tr>\n      <th>42</th>\n      <td>12</td>\n      <td>Adventure</td>\n      <td>Star Wars: The Last Jedi</td>\n    </tr>\n    <tr>\n      <th>43</th>\n      <td>28</td>\n      <td>Action</td>\n      <td>Star Wars: The Last Jedi</td>\n    </tr>\n    <tr>\n      <th>44</th>\n      <td>878</td>\n      <td>Science Fiction</td>\n      <td>Star Wars: The Last Jedi</td>\n    </tr>\n    <tr>\n      <th>45</th>\n      <td>28</td>\n      <td>Action</td>\n      <td>Jurassic World: Fallen Kingdom</td>\n    </tr>\n    <tr>\n      <th>46</th>\n      <td>12</td>\n      <td>Adventure</td>\n      <td>Jurassic World: Fallen Kingdom</td>\n    </tr>\n    <tr>\n      <th>47</th>\n      <td>878</td>\n      <td>Science Fiction</td>\n      <td>Jurassic World: Fallen Kingdom</td>\n    </tr>\n    <tr>\n      <th>48</th>\n      <td>53</td>\n      <td>Thriller</td>\n      <td>Jurassic World: Fallen Kingdom</td>\n    </tr>\n    <tr>\n      <th>49</th>\n      <td>16</td>\n      <td>Animation</td>\n      <td>Frozen</td>\n    </tr>\n    <tr>\n      <th>50</th>\n      <td>10751</td>\n      <td>Family</td>\n      <td>Frozen</td>\n    </tr>\n    <tr>\n      <th>51</th>\n      <td>12</td>\n      <td>Adventure</td>\n      <td>Frozen</td>\n    </tr>\n    <tr>\n      <th>52</th>\n      <td>14</td>\n      <td>Fantasy</td>\n      <td>Frozen</td>\n    </tr>\n    <tr>\n      <th>53</th>\n      <td>10751</td>\n      <td>Family</td>\n      <td>Beauty and the Beast</td>\n    </tr>\n    <tr>\n      <th>54</th>\n      <td>14</td>\n      <td>Fantasy</td>\n      <td>Beauty and the Beast</td>\n    </tr>\n    <tr>\n      <th>55</th>\n      <td>10749</td>\n      <td>Romance</td>\n      <td>Beauty and the Beast</td>\n    </tr>\n    <tr>\n      <th>56</th>\n      <td>28</td>\n      <td>Action</td>\n      <td>Incredibles 2</td>\n    </tr>\n    <tr>\n      <th>57</th>\n      <td>12</td>\n      <td>Adventure</td>\n      <td>Incredibles 2</td>\n    </tr>\n    <tr>\n      <th>58</th>\n      <td>16</td>\n      <td>Animation</td>\n      <td>Incredibles 2</td>\n    </tr>\n    <tr>\n      <th>59</th>\n      <td>10751</td>\n      <td>Family</td>\n      <td>Incredibles 2</td>\n    </tr>\n  </tbody>\n</table>\n</div>"
     },
     "execution_count": 62,
     "metadata": {},
     "output_type": "execute_result"
    }
   ],
   "source": [
    "pd.json_normalize(data, \"genres\", \"title\")"
   ],
   "metadata": {
    "collapsed": false,
    "ExecuteTime": {
     "end_time": "2023-07-09T15:29:07.237286600Z",
     "start_time": "2023-07-09T15:29:07.193088Z"
    }
   }
  },
  {
   "cell_type": "markdown",
   "metadata": {},
   "source": [
    "# +++++++++ See some Hints below +++++++++++++"
   ]
  },
  {
   "cell_type": "code",
   "execution_count": 27,
   "metadata": {
    "ExecuteTime": {
     "end_time": "2023-07-09T15:09:22.089997100Z",
     "start_time": "2023-07-09T15:09:21.131179400Z"
    }
   },
   "outputs": [],
   "source": []
  },
  {
   "cell_type": "code",
   "execution_count": 27,
   "metadata": {
    "ExecuteTime": {
     "end_time": "2023-07-09T15:09:22.090998Z",
     "start_time": "2023-07-09T15:09:21.145619500Z"
    }
   },
   "outputs": [],
   "source": []
  },
  {
   "cell_type": "code",
   "execution_count": 27,
   "metadata": {
    "ExecuteTime": {
     "end_time": "2023-07-09T15:09:22.090998Z",
     "start_time": "2023-07-09T15:09:21.161340Z"
    }
   },
   "outputs": [],
   "source": []
  },
  {
   "cell_type": "code",
   "execution_count": 27,
   "metadata": {
    "ExecuteTime": {
     "end_time": "2023-07-09T15:09:22.091996500Z",
     "start_time": "2023-07-09T15:09:21.176722100Z"
    }
   },
   "outputs": [],
   "source": []
  },
  {
   "cell_type": "code",
   "execution_count": 27,
   "metadata": {
    "ExecuteTime": {
     "end_time": "2023-07-09T15:09:22.092996200Z",
     "start_time": "2023-07-09T15:09:21.191398900Z"
    }
   },
   "outputs": [],
   "source": []
  },
  {
   "cell_type": "markdown",
   "metadata": {},
   "source": [
    "# ++++++++++++++ Hints +++++++++++++++++++++"
   ]
  },
  {
   "cell_type": "markdown",
   "metadata": {},
   "source": [
    "__Hints for 1.__ <br>\n",
    "To load json files you can use "
   ]
  },
  {
   "cell_type": "code",
   "execution_count": 28,
   "metadata": {
    "ExecuteTime": {
     "end_time": "2023-07-09T15:09:23.601162500Z",
     "start_time": "2023-07-09T15:09:21.211052400Z"
    }
   },
   "outputs": [
    {
     "ename": "FileNotFoundError",
     "evalue": "[Errno 2] No such file or directory: 'filename.json'",
     "output_type": "error",
     "traceback": [
      "\u001B[1;31m---------------------------------------------------------------------------\u001B[0m",
      "\u001B[1;31mFileNotFoundError\u001B[0m                         Traceback (most recent call last)",
      "Cell \u001B[1;32mIn[28], line 1\u001B[0m\n\u001B[1;32m----> 1\u001B[0m \u001B[38;5;28;01mwith\u001B[39;00m \u001B[38;5;28;43mopen\u001B[39;49m\u001B[43m(\u001B[49m\u001B[38;5;124;43m\"\u001B[39;49m\u001B[38;5;124;43mfilename.json\u001B[39;49m\u001B[38;5;124;43m\"\u001B[39;49m\u001B[43m)\u001B[49m \u001B[38;5;28;01mas\u001B[39;00m f:\n\u001B[0;32m      2\u001B[0m     data \u001B[38;5;241m=\u001B[39m json\u001B[38;5;241m.\u001B[39mload(f)\n",
      "File \u001B[1;32m~\\anaconda3\\envs\\python-data-science\\lib\\site-packages\\IPython\\core\\interactiveshell.py:282\u001B[0m, in \u001B[0;36m_modified_open\u001B[1;34m(file, *args, **kwargs)\u001B[0m\n\u001B[0;32m    275\u001B[0m \u001B[38;5;28;01mif\u001B[39;00m file \u001B[38;5;129;01min\u001B[39;00m {\u001B[38;5;241m0\u001B[39m, \u001B[38;5;241m1\u001B[39m, \u001B[38;5;241m2\u001B[39m}:\n\u001B[0;32m    276\u001B[0m     \u001B[38;5;28;01mraise\u001B[39;00m \u001B[38;5;167;01mValueError\u001B[39;00m(\n\u001B[0;32m    277\u001B[0m         \u001B[38;5;124mf\u001B[39m\u001B[38;5;124m\"\u001B[39m\u001B[38;5;124mIPython won\u001B[39m\u001B[38;5;124m'\u001B[39m\u001B[38;5;124mt let you open fd=\u001B[39m\u001B[38;5;132;01m{\u001B[39;00mfile\u001B[38;5;132;01m}\u001B[39;00m\u001B[38;5;124m by default \u001B[39m\u001B[38;5;124m\"\u001B[39m\n\u001B[0;32m    278\u001B[0m         \u001B[38;5;124m\"\u001B[39m\u001B[38;5;124mas it is likely to crash IPython. If you know what you are doing, \u001B[39m\u001B[38;5;124m\"\u001B[39m\n\u001B[0;32m    279\u001B[0m         \u001B[38;5;124m\"\u001B[39m\u001B[38;5;124myou can use builtins\u001B[39m\u001B[38;5;124m'\u001B[39m\u001B[38;5;124m open.\u001B[39m\u001B[38;5;124m\"\u001B[39m\n\u001B[0;32m    280\u001B[0m     )\n\u001B[1;32m--> 282\u001B[0m \u001B[38;5;28;01mreturn\u001B[39;00m \u001B[43mio_open\u001B[49m\u001B[43m(\u001B[49m\u001B[43mfile\u001B[49m\u001B[43m,\u001B[49m\u001B[43m \u001B[49m\u001B[38;5;241;43m*\u001B[39;49m\u001B[43margs\u001B[49m\u001B[43m,\u001B[49m\u001B[43m \u001B[49m\u001B[38;5;241;43m*\u001B[39;49m\u001B[38;5;241;43m*\u001B[39;49m\u001B[43mkwargs\u001B[49m\u001B[43m)\u001B[49m\n",
      "\u001B[1;31mFileNotFoundError\u001B[0m: [Errno 2] No such file or directory: 'filename.json'"
     ]
    }
   ],
   "source": [
    "with open(\"filename.json\") as f:\n",
    "    data = json.load(f)"
   ]
  },
  {
   "cell_type": "markdown",
   "metadata": {},
   "source": [
    "and "
   ]
  },
  {
   "cell_type": "code",
   "execution_count": null,
   "metadata": {
    "ExecuteTime": {
     "start_time": "2023-07-09T15:09:22.092996200Z"
    }
   },
   "outputs": [],
   "source": [
    "pd.DataFrame(data), pd.read_json(filename.json), pd.json_normalize(data)"
   ]
  },
  {
   "cell_type": "markdown",
   "metadata": {},
   "source": [
    "the json files have the following orientation (important when using pd.read_json()):\n",
    "- blockbusters.json -> record\n",
    "- blockbusters2.json -> column\n",
    "- blockbusters3.json -> split "
   ]
  },
  {
   "cell_type": "code",
   "execution_count": null,
   "metadata": {
    "ExecuteTime": {
     "start_time": "2023-07-09T15:09:22.094504700Z"
    }
   },
   "outputs": [],
   "source": []
  },
  {
   "cell_type": "markdown",
   "metadata": {},
   "source": [
    "__Hints for 4., 5., 6.__<br>\n",
    "Make API GET-requests with the library requests (import requests):"
   ]
  },
  {
   "cell_type": "code",
   "execution_count": null,
   "metadata": {
    "ExecuteTime": {
     "start_time": "2023-07-09T15:09:22.097533400Z"
    }
   },
   "outputs": [],
   "source": [
    "data = requests.get(url).json()"
   ]
  },
  {
   "cell_type": "markdown",
   "metadata": {},
   "source": [
    "__Hints for 4. and 6.,__ <br> url structure for movie module:"
   ]
  },
  {
   "cell_type": "markdown",
   "metadata": {},
   "source": [
    "\"https://api.themoviedb.org/3/movie/insert_movie_id?api_key=insert_api_key\" (replace \"insert_movie_id\" with movie id and \"insert_api_key\" with your personal api-key)"
   ]
  },
  {
   "cell_type": "markdown",
   "metadata": {},
   "source": [
    "__Hints for 5.__<br>\n",
    "url structure for discover module:"
   ]
  },
  {
   "cell_type": "markdown",
   "metadata": {},
   "source": [
    "\"https://api.themoviedb.org/3/discover/movie?api_key=insert_api_key&query1&query2...\" (replace \"insert_api_key\" with your personal api-key and add appropriate queries)"
   ]
  },
  {
   "cell_type": "code",
   "execution_count": null,
   "metadata": {
    "ExecuteTime": {
     "start_time": "2023-07-09T15:09:22.100534100Z"
    }
   },
   "outputs": [],
   "source": []
  }
 ],
 "metadata": {
  "kernelspec": {
   "display_name": "Python 3 (ipykernel)",
   "language": "python",
   "name": "python3"
  },
  "language_info": {
   "codemirror_mode": {
    "name": "ipython",
    "version": 3
   },
   "file_extension": ".py",
   "mimetype": "text/x-python",
   "name": "python",
   "nbconvert_exporter": "python",
   "pygments_lexer": "ipython3",
   "version": "3.8.16"
  }
 },
 "nbformat": 4,
 "nbformat_minor": 2
}
