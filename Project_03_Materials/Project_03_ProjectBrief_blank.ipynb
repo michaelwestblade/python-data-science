{
 "cells": [
  {
   "cell_type": "markdown",
   "metadata": {},
   "source": [
    "# Project 3: Data Cleaning - Tidy up messy Datasets (Movies Dataset)"
   ]
  },
  {
   "cell_type": "markdown",
   "metadata": {},
   "source": [
    "# Project Brief for Self-Coders"
   ]
  },
  {
   "cell_type": "markdown",
   "metadata": {},
   "source": [
    "Here you´ll have the opportunity to code major parts of Project 3 on your own. If you need any help or inspiration, have a look at the Videos or the Jupyter Notebook with the full code. <br> <br>\n",
    "Keep in mind that it´s all about __getting the right results/conclusions__. It´s not about finding the identical code. Things can be coded in many different ways. Even if you come to the same conclusions, it´s very unlikely that we have the very same code. "
   ]
  },
  {
   "cell_type": "markdown",
   "metadata": {},
   "source": [
    "## First Steps "
   ]
  },
  {
   "cell_type": "markdown",
   "metadata": {},
   "source": [
    "1. __Load__ and __inspect__ the messy dataset __movies_metadata.csv__. Identify columns with nested / stringified json data."
   ]
  },
  {
   "cell_type": "code",
   "execution_count": 76,
   "metadata": {
    "ExecuteTime": {
     "end_time": "2023-07-10T23:51:10.735594Z",
     "start_time": "2023-07-10T23:51:09.566018400Z"
    }
   },
   "outputs": [],
   "source": [
    "import pandas as pd\n",
    "pd.options.display.max_columns = 30"
   ]
  },
  {
   "cell_type": "code",
   "execution_count": 77,
   "outputs": [
    {
     "name": "stderr",
     "output_type": "stream",
     "text": [
      "C:\\Users\\micha\\AppData\\Local\\Temp\\ipykernel_29124\\750859133.py:1: DtypeWarning: Columns (10) have mixed types. Specify dtype option on import or set low_memory=False.\n",
      "  df = pd.read_csv(\"movies_metadata.csv\")\n"
     ]
    }
   ],
   "source": [
    "df = pd.read_csv(\"movies_metadata.csv\")"
   ],
   "metadata": {
    "collapsed": false,
    "ExecuteTime": {
     "end_time": "2023-07-10T23:51:12.274351700Z",
     "start_time": "2023-07-10T23:51:09.570019600Z"
    }
   }
  },
  {
   "cell_type": "code",
   "execution_count": 78,
   "outputs": [
    {
     "data": {
      "text/plain": "       adult                              belongs_to_collection    budget  \\\n0      False  {'id': 10194, 'name': 'Toy Story Collection', ...  30000000   \n1      False                                                NaN  65000000   \n2      False  {'id': 119050, 'name': 'Grumpy Old Men Collect...         0   \n3      False                                                NaN  16000000   \n4      False  {'id': 96871, 'name': 'Father of the Bride Col...         0   \n...      ...                                                ...       ...   \n45461  False                                                NaN         0   \n45462  False                                                NaN         0   \n45463  False                                                NaN         0   \n45464  False                                                NaN         0   \n45465  False                                                NaN         0   \n\n                                                  genres  \\\n0      [{'id': 16, 'name': 'Animation'}, {'id': 35, '...   \n1      [{'id': 12, 'name': 'Adventure'}, {'id': 14, '...   \n2      [{'id': 10749, 'name': 'Romance'}, {'id': 35, ...   \n3      [{'id': 35, 'name': 'Comedy'}, {'id': 18, 'nam...   \n4                         [{'id': 35, 'name': 'Comedy'}]   \n...                                                  ...   \n45461  [{'id': 18, 'name': 'Drama'}, {'id': 10751, 'n...   \n45462                      [{'id': 18, 'name': 'Drama'}]   \n45463  [{'id': 28, 'name': 'Action'}, {'id': 18, 'nam...   \n45464                                                 []   \n45465                                                 []   \n\n                                   homepage      id    imdb_id  \\\n0      http://toystory.disney.com/toy-story     862  tt0114709   \n1                                       NaN    8844  tt0113497   \n2                                       NaN   15602  tt0113228   \n3                                       NaN   31357  tt0114885   \n4                                       NaN   11862  tt0113041   \n...                                     ...     ...        ...   \n45461  http://www.imdb.com/title/tt6209470/  439050  tt6209470   \n45462                                   NaN  111109  tt2028550   \n45463                                   NaN   67758  tt0303758   \n45464                                   NaN  227506  tt0008536   \n45465                                   NaN  461257  tt6980792   \n\n      original_language               original_title  \\\n0                    en                    Toy Story   \n1                    en                      Jumanji   \n2                    en             Grumpier Old Men   \n3                    en            Waiting to Exhale   \n4                    en  Father of the Bride Part II   \n...                 ...                          ...   \n45461                fa                      رگ خواب   \n45462                tl          Siglo ng Pagluluwal   \n45463                en                     Betrayal   \n45464                en          Satana likuyushchiy   \n45465                en                     Queerama   \n\n                                                overview popularity  \\\n0      Led by Woody, Andy's toys live happily in his ...  21.946943   \n1      When siblings Judy and Peter discover an encha...  17.015539   \n2      A family wedding reignites the ancient feud be...    11.7129   \n3      Cheated on, mistreated and stepped on, the wom...   3.859495   \n4      Just when George Banks has recovered from his ...   8.387519   \n...                                                  ...        ...   \n45461        Rising and falling between a man and woman.   0.072051   \n45462  An artist struggles to finish his work while a...   0.178241   \n45463  When one of her hits goes wrong, a professiona...   0.903007   \n45464  In a small town live two brothers, one a minis...   0.003503   \n45465  50 years after decriminalisation of homosexual...   0.163015   \n\n                            poster_path  \\\n0      /rhIRbceoE9lR4veEXuwCC2wARtG.jpg   \n1      /vzmL6fP7aPKNKPRTFnZmiUfciyV.jpg   \n2      /6ksm1sjKMFLbO7UY2i6G1ju9SML.jpg   \n3      /16XOMpEaLWkrcPqSQqhTmeJuqQl.jpg   \n4      /e64sOI48hQXyru7naBFyssKFxVd.jpg   \n...                                 ...   \n45461  /jldsYflnId4tTWPx8es3uzsB1I8.jpg   \n45462  /xZkmxsNmYXJbKVsTRLLx3pqGHx7.jpg   \n45463  /d5bX92nDsISNhu3ZT69uHwmfCGw.jpg   \n45464  /aorBPO7ak8e8iJKT5OcqYxU3jlK.jpg   \n45465  /s5UkZt6NTsrS7ZF0Rh8nzupRlIU.jpg   \n\n                                    production_companies  \\\n0         [{'name': 'Pixar Animation Studios', 'id': 3}]   \n1      [{'name': 'TriStar Pictures', 'id': 559}, {'na...   \n2      [{'name': 'Warner Bros.', 'id': 6194}, {'name'...   \n3      [{'name': 'Twentieth Century Fox Film Corporat...   \n4      [{'name': 'Sandollar Productions', 'id': 5842}...   \n...                                                  ...   \n45461                                                 []   \n45462             [{'name': 'Sine Olivia', 'id': 19653}]   \n45463  [{'name': 'American World Pictures', 'id': 6165}]   \n45464               [{'name': 'Yermoliev', 'id': 88753}]   \n45465                                                 []   \n\n                                    production_countries release_date  \\\n0      [{'iso_3166_1': 'US', 'name': 'United States o...   1995-10-30   \n1      [{'iso_3166_1': 'US', 'name': 'United States o...   1995-12-15   \n2      [{'iso_3166_1': 'US', 'name': 'United States o...   1995-12-22   \n3      [{'iso_3166_1': 'US', 'name': 'United States o...   1995-12-22   \n4      [{'iso_3166_1': 'US', 'name': 'United States o...   1995-02-10   \n...                                                  ...          ...   \n45461             [{'iso_3166_1': 'IR', 'name': 'Iran'}]          NaN   \n45462      [{'iso_3166_1': 'PH', 'name': 'Philippines'}]   2011-11-17   \n45463  [{'iso_3166_1': 'US', 'name': 'United States o...   2003-08-01   \n45464           [{'iso_3166_1': 'RU', 'name': 'Russia'}]   1917-10-21   \n45465   [{'iso_3166_1': 'GB', 'name': 'United Kingdom'}]   2017-06-09   \n\n           revenue  runtime  \\\n0      373554033.0     81.0   \n1      262797249.0    104.0   \n2              0.0    101.0   \n3       81452156.0    127.0   \n4       76578911.0    106.0   \n...            ...      ...   \n45461          0.0     90.0   \n45462          0.0    360.0   \n45463          0.0     90.0   \n45464          0.0     87.0   \n45465          0.0     75.0   \n\n                                        spoken_languages    status  \\\n0               [{'iso_639_1': 'en', 'name': 'English'}]  Released   \n1      [{'iso_639_1': 'en', 'name': 'English'}, {'iso...  Released   \n2               [{'iso_639_1': 'en', 'name': 'English'}]  Released   \n3               [{'iso_639_1': 'en', 'name': 'English'}]  Released   \n4               [{'iso_639_1': 'en', 'name': 'English'}]  Released   \n...                                                  ...       ...   \n45461             [{'iso_639_1': 'fa', 'name': 'فارسی'}]  Released   \n45462                  [{'iso_639_1': 'tl', 'name': ''}]  Released   \n45463           [{'iso_639_1': 'en', 'name': 'English'}]  Released   \n45464                                                 []  Released   \n45465           [{'iso_639_1': 'en', 'name': 'English'}]  Released   \n\n                                                 tagline  \\\n0                                                    NaN   \n1              Roll the dice and unleash the excitement!   \n2      Still Yelling. Still Fighting. Still Ready for...   \n3      Friends are the people who let you be yourself...   \n4      Just When His World Is Back To Normal... He's ...   \n...                                                  ...   \n45461         Rising and falling between a man and woman   \n45462                                                NaN   \n45463                             A deadly game of wits.   \n45464                                                NaN   \n45465                                                NaN   \n\n                             title  video  vote_average  vote_count  \n0                        Toy Story  False           7.7      5415.0  \n1                          Jumanji  False           6.9      2413.0  \n2                 Grumpier Old Men  False           6.5        92.0  \n3                Waiting to Exhale  False           6.1        34.0  \n4      Father of the Bride Part II  False           5.7       173.0  \n...                            ...    ...           ...         ...  \n45461                       Subdue  False           4.0         1.0  \n45462          Century of Birthing  False           9.0         3.0  \n45463                     Betrayal  False           3.8         6.0  \n45464             Satan Triumphant  False           0.0         0.0  \n45465                     Queerama  False           0.0         0.0  \n\n[45466 rows x 24 columns]",
      "text/html": "<div>\n<style scoped>\n    .dataframe tbody tr th:only-of-type {\n        vertical-align: middle;\n    }\n\n    .dataframe tbody tr th {\n        vertical-align: top;\n    }\n\n    .dataframe thead th {\n        text-align: right;\n    }\n</style>\n<table border=\"1\" class=\"dataframe\">\n  <thead>\n    <tr style=\"text-align: right;\">\n      <th></th>\n      <th>adult</th>\n      <th>belongs_to_collection</th>\n      <th>budget</th>\n      <th>genres</th>\n      <th>homepage</th>\n      <th>id</th>\n      <th>imdb_id</th>\n      <th>original_language</th>\n      <th>original_title</th>\n      <th>overview</th>\n      <th>popularity</th>\n      <th>poster_path</th>\n      <th>production_companies</th>\n      <th>production_countries</th>\n      <th>release_date</th>\n      <th>revenue</th>\n      <th>runtime</th>\n      <th>spoken_languages</th>\n      <th>status</th>\n      <th>tagline</th>\n      <th>title</th>\n      <th>video</th>\n      <th>vote_average</th>\n      <th>vote_count</th>\n    </tr>\n  </thead>\n  <tbody>\n    <tr>\n      <th>0</th>\n      <td>False</td>\n      <td>{'id': 10194, 'name': 'Toy Story Collection', ...</td>\n      <td>30000000</td>\n      <td>[{'id': 16, 'name': 'Animation'}, {'id': 35, '...</td>\n      <td>http://toystory.disney.com/toy-story</td>\n      <td>862</td>\n      <td>tt0114709</td>\n      <td>en</td>\n      <td>Toy Story</td>\n      <td>Led by Woody, Andy's toys live happily in his ...</td>\n      <td>21.946943</td>\n      <td>/rhIRbceoE9lR4veEXuwCC2wARtG.jpg</td>\n      <td>[{'name': 'Pixar Animation Studios', 'id': 3}]</td>\n      <td>[{'iso_3166_1': 'US', 'name': 'United States o...</td>\n      <td>1995-10-30</td>\n      <td>373554033.0</td>\n      <td>81.0</td>\n      <td>[{'iso_639_1': 'en', 'name': 'English'}]</td>\n      <td>Released</td>\n      <td>NaN</td>\n      <td>Toy Story</td>\n      <td>False</td>\n      <td>7.7</td>\n      <td>5415.0</td>\n    </tr>\n    <tr>\n      <th>1</th>\n      <td>False</td>\n      <td>NaN</td>\n      <td>65000000</td>\n      <td>[{'id': 12, 'name': 'Adventure'}, {'id': 14, '...</td>\n      <td>NaN</td>\n      <td>8844</td>\n      <td>tt0113497</td>\n      <td>en</td>\n      <td>Jumanji</td>\n      <td>When siblings Judy and Peter discover an encha...</td>\n      <td>17.015539</td>\n      <td>/vzmL6fP7aPKNKPRTFnZmiUfciyV.jpg</td>\n      <td>[{'name': 'TriStar Pictures', 'id': 559}, {'na...</td>\n      <td>[{'iso_3166_1': 'US', 'name': 'United States o...</td>\n      <td>1995-12-15</td>\n      <td>262797249.0</td>\n      <td>104.0</td>\n      <td>[{'iso_639_1': 'en', 'name': 'English'}, {'iso...</td>\n      <td>Released</td>\n      <td>Roll the dice and unleash the excitement!</td>\n      <td>Jumanji</td>\n      <td>False</td>\n      <td>6.9</td>\n      <td>2413.0</td>\n    </tr>\n    <tr>\n      <th>2</th>\n      <td>False</td>\n      <td>{'id': 119050, 'name': 'Grumpy Old Men Collect...</td>\n      <td>0</td>\n      <td>[{'id': 10749, 'name': 'Romance'}, {'id': 35, ...</td>\n      <td>NaN</td>\n      <td>15602</td>\n      <td>tt0113228</td>\n      <td>en</td>\n      <td>Grumpier Old Men</td>\n      <td>A family wedding reignites the ancient feud be...</td>\n      <td>11.7129</td>\n      <td>/6ksm1sjKMFLbO7UY2i6G1ju9SML.jpg</td>\n      <td>[{'name': 'Warner Bros.', 'id': 6194}, {'name'...</td>\n      <td>[{'iso_3166_1': 'US', 'name': 'United States o...</td>\n      <td>1995-12-22</td>\n      <td>0.0</td>\n      <td>101.0</td>\n      <td>[{'iso_639_1': 'en', 'name': 'English'}]</td>\n      <td>Released</td>\n      <td>Still Yelling. Still Fighting. Still Ready for...</td>\n      <td>Grumpier Old Men</td>\n      <td>False</td>\n      <td>6.5</td>\n      <td>92.0</td>\n    </tr>\n    <tr>\n      <th>3</th>\n      <td>False</td>\n      <td>NaN</td>\n      <td>16000000</td>\n      <td>[{'id': 35, 'name': 'Comedy'}, {'id': 18, 'nam...</td>\n      <td>NaN</td>\n      <td>31357</td>\n      <td>tt0114885</td>\n      <td>en</td>\n      <td>Waiting to Exhale</td>\n      <td>Cheated on, mistreated and stepped on, the wom...</td>\n      <td>3.859495</td>\n      <td>/16XOMpEaLWkrcPqSQqhTmeJuqQl.jpg</td>\n      <td>[{'name': 'Twentieth Century Fox Film Corporat...</td>\n      <td>[{'iso_3166_1': 'US', 'name': 'United States o...</td>\n      <td>1995-12-22</td>\n      <td>81452156.0</td>\n      <td>127.0</td>\n      <td>[{'iso_639_1': 'en', 'name': 'English'}]</td>\n      <td>Released</td>\n      <td>Friends are the people who let you be yourself...</td>\n      <td>Waiting to Exhale</td>\n      <td>False</td>\n      <td>6.1</td>\n      <td>34.0</td>\n    </tr>\n    <tr>\n      <th>4</th>\n      <td>False</td>\n      <td>{'id': 96871, 'name': 'Father of the Bride Col...</td>\n      <td>0</td>\n      <td>[{'id': 35, 'name': 'Comedy'}]</td>\n      <td>NaN</td>\n      <td>11862</td>\n      <td>tt0113041</td>\n      <td>en</td>\n      <td>Father of the Bride Part II</td>\n      <td>Just when George Banks has recovered from his ...</td>\n      <td>8.387519</td>\n      <td>/e64sOI48hQXyru7naBFyssKFxVd.jpg</td>\n      <td>[{'name': 'Sandollar Productions', 'id': 5842}...</td>\n      <td>[{'iso_3166_1': 'US', 'name': 'United States o...</td>\n      <td>1995-02-10</td>\n      <td>76578911.0</td>\n      <td>106.0</td>\n      <td>[{'iso_639_1': 'en', 'name': 'English'}]</td>\n      <td>Released</td>\n      <td>Just When His World Is Back To Normal... He's ...</td>\n      <td>Father of the Bride Part II</td>\n      <td>False</td>\n      <td>5.7</td>\n      <td>173.0</td>\n    </tr>\n    <tr>\n      <th>...</th>\n      <td>...</td>\n      <td>...</td>\n      <td>...</td>\n      <td>...</td>\n      <td>...</td>\n      <td>...</td>\n      <td>...</td>\n      <td>...</td>\n      <td>...</td>\n      <td>...</td>\n      <td>...</td>\n      <td>...</td>\n      <td>...</td>\n      <td>...</td>\n      <td>...</td>\n      <td>...</td>\n      <td>...</td>\n      <td>...</td>\n      <td>...</td>\n      <td>...</td>\n      <td>...</td>\n      <td>...</td>\n      <td>...</td>\n      <td>...</td>\n    </tr>\n    <tr>\n      <th>45461</th>\n      <td>False</td>\n      <td>NaN</td>\n      <td>0</td>\n      <td>[{'id': 18, 'name': 'Drama'}, {'id': 10751, 'n...</td>\n      <td>http://www.imdb.com/title/tt6209470/</td>\n      <td>439050</td>\n      <td>tt6209470</td>\n      <td>fa</td>\n      <td>رگ خواب</td>\n      <td>Rising and falling between a man and woman.</td>\n      <td>0.072051</td>\n      <td>/jldsYflnId4tTWPx8es3uzsB1I8.jpg</td>\n      <td>[]</td>\n      <td>[{'iso_3166_1': 'IR', 'name': 'Iran'}]</td>\n      <td>NaN</td>\n      <td>0.0</td>\n      <td>90.0</td>\n      <td>[{'iso_639_1': 'fa', 'name': 'فارسی'}]</td>\n      <td>Released</td>\n      <td>Rising and falling between a man and woman</td>\n      <td>Subdue</td>\n      <td>False</td>\n      <td>4.0</td>\n      <td>1.0</td>\n    </tr>\n    <tr>\n      <th>45462</th>\n      <td>False</td>\n      <td>NaN</td>\n      <td>0</td>\n      <td>[{'id': 18, 'name': 'Drama'}]</td>\n      <td>NaN</td>\n      <td>111109</td>\n      <td>tt2028550</td>\n      <td>tl</td>\n      <td>Siglo ng Pagluluwal</td>\n      <td>An artist struggles to finish his work while a...</td>\n      <td>0.178241</td>\n      <td>/xZkmxsNmYXJbKVsTRLLx3pqGHx7.jpg</td>\n      <td>[{'name': 'Sine Olivia', 'id': 19653}]</td>\n      <td>[{'iso_3166_1': 'PH', 'name': 'Philippines'}]</td>\n      <td>2011-11-17</td>\n      <td>0.0</td>\n      <td>360.0</td>\n      <td>[{'iso_639_1': 'tl', 'name': ''}]</td>\n      <td>Released</td>\n      <td>NaN</td>\n      <td>Century of Birthing</td>\n      <td>False</td>\n      <td>9.0</td>\n      <td>3.0</td>\n    </tr>\n    <tr>\n      <th>45463</th>\n      <td>False</td>\n      <td>NaN</td>\n      <td>0</td>\n      <td>[{'id': 28, 'name': 'Action'}, {'id': 18, 'nam...</td>\n      <td>NaN</td>\n      <td>67758</td>\n      <td>tt0303758</td>\n      <td>en</td>\n      <td>Betrayal</td>\n      <td>When one of her hits goes wrong, a professiona...</td>\n      <td>0.903007</td>\n      <td>/d5bX92nDsISNhu3ZT69uHwmfCGw.jpg</td>\n      <td>[{'name': 'American World Pictures', 'id': 6165}]</td>\n      <td>[{'iso_3166_1': 'US', 'name': 'United States o...</td>\n      <td>2003-08-01</td>\n      <td>0.0</td>\n      <td>90.0</td>\n      <td>[{'iso_639_1': 'en', 'name': 'English'}]</td>\n      <td>Released</td>\n      <td>A deadly game of wits.</td>\n      <td>Betrayal</td>\n      <td>False</td>\n      <td>3.8</td>\n      <td>6.0</td>\n    </tr>\n    <tr>\n      <th>45464</th>\n      <td>False</td>\n      <td>NaN</td>\n      <td>0</td>\n      <td>[]</td>\n      <td>NaN</td>\n      <td>227506</td>\n      <td>tt0008536</td>\n      <td>en</td>\n      <td>Satana likuyushchiy</td>\n      <td>In a small town live two brothers, one a minis...</td>\n      <td>0.003503</td>\n      <td>/aorBPO7ak8e8iJKT5OcqYxU3jlK.jpg</td>\n      <td>[{'name': 'Yermoliev', 'id': 88753}]</td>\n      <td>[{'iso_3166_1': 'RU', 'name': 'Russia'}]</td>\n      <td>1917-10-21</td>\n      <td>0.0</td>\n      <td>87.0</td>\n      <td>[]</td>\n      <td>Released</td>\n      <td>NaN</td>\n      <td>Satan Triumphant</td>\n      <td>False</td>\n      <td>0.0</td>\n      <td>0.0</td>\n    </tr>\n    <tr>\n      <th>45465</th>\n      <td>False</td>\n      <td>NaN</td>\n      <td>0</td>\n      <td>[]</td>\n      <td>NaN</td>\n      <td>461257</td>\n      <td>tt6980792</td>\n      <td>en</td>\n      <td>Queerama</td>\n      <td>50 years after decriminalisation of homosexual...</td>\n      <td>0.163015</td>\n      <td>/s5UkZt6NTsrS7ZF0Rh8nzupRlIU.jpg</td>\n      <td>[]</td>\n      <td>[{'iso_3166_1': 'GB', 'name': 'United Kingdom'}]</td>\n      <td>2017-06-09</td>\n      <td>0.0</td>\n      <td>75.0</td>\n      <td>[{'iso_639_1': 'en', 'name': 'English'}]</td>\n      <td>Released</td>\n      <td>NaN</td>\n      <td>Queerama</td>\n      <td>False</td>\n      <td>0.0</td>\n      <td>0.0</td>\n    </tr>\n  </tbody>\n</table>\n<p>45466 rows × 24 columns</p>\n</div>"
     },
     "execution_count": 78,
     "metadata": {},
     "output_type": "execute_result"
    }
   ],
   "source": [
    "df"
   ],
   "metadata": {
    "collapsed": false,
    "ExecuteTime": {
     "end_time": "2023-07-10T23:51:12.274351700Z",
     "start_time": "2023-07-10T23:51:10.094879200Z"
    }
   }
  },
  {
   "cell_type": "code",
   "execution_count": 79,
   "outputs": [
    {
     "name": "stdout",
     "output_type": "stream",
     "text": [
      "<class 'pandas.core.frame.DataFrame'>\n",
      "RangeIndex: 45466 entries, 0 to 45465\n",
      "Data columns (total 24 columns):\n",
      " #   Column                 Non-Null Count  Dtype  \n",
      "---  ------                 --------------  -----  \n",
      " 0   adult                  45466 non-null  object \n",
      " 1   belongs_to_collection  4494 non-null   object \n",
      " 2   budget                 45466 non-null  object \n",
      " 3   genres                 45466 non-null  object \n",
      " 4   homepage               7782 non-null   object \n",
      " 5   id                     45466 non-null  object \n",
      " 6   imdb_id                45449 non-null  object \n",
      " 7   original_language      45455 non-null  object \n",
      " 8   original_title         45466 non-null  object \n",
      " 9   overview               44512 non-null  object \n",
      " 10  popularity             45461 non-null  object \n",
      " 11  poster_path            45080 non-null  object \n",
      " 12  production_companies   45463 non-null  object \n",
      " 13  production_countries   45463 non-null  object \n",
      " 14  release_date           45379 non-null  object \n",
      " 15  revenue                45460 non-null  float64\n",
      " 16  runtime                45203 non-null  float64\n",
      " 17  spoken_languages       45460 non-null  object \n",
      " 18  status                 45379 non-null  object \n",
      " 19  tagline                20412 non-null  object \n",
      " 20  title                  45460 non-null  object \n",
      " 21  video                  45460 non-null  object \n",
      " 22  vote_average           45460 non-null  float64\n",
      " 23  vote_count             45460 non-null  float64\n",
      "dtypes: float64(4), object(20)\n",
      "memory usage: 8.3+ MB\n"
     ]
    }
   ],
   "source": [
    "df.info()"
   ],
   "metadata": {
    "collapsed": false,
    "ExecuteTime": {
     "end_time": "2023-07-10T23:51:12.426264700Z",
     "start_time": "2023-07-10T23:51:10.124897400Z"
    }
   }
  },
  {
   "cell_type": "code",
   "execution_count": 80,
   "outputs": [
    {
     "data": {
      "text/plain": "\"[{'id': 16, 'name': 'Animation'}, {'id': 35, 'name': 'Comedy'}, {'id': 10751, 'name': 'Family'}]\""
     },
     "execution_count": 80,
     "metadata": {},
     "output_type": "execute_result"
    }
   ],
   "source": [
    "df.genres[0]"
   ],
   "metadata": {
    "collapsed": false,
    "ExecuteTime": {
     "end_time": "2023-07-10T23:51:12.457467800Z",
     "start_time": "2023-07-10T23:51:10.435084800Z"
    }
   }
  },
  {
   "cell_type": "code",
   "execution_count": 81,
   "outputs": [
    {
     "data": {
      "text/plain": "\"{'id': 10194, 'name': 'Toy Story Collection', 'poster_path': '/7G9915LfUQ2lVfwMEEhDsn3kT4B.jpg', 'backdrop_path': '/9FBwqcd9IRruEDUrTdcaafOMKUq.jpg'}\""
     },
     "execution_count": 81,
     "metadata": {},
     "output_type": "execute_result"
    }
   ],
   "source": [
    "df.belongs_to_collection[0]"
   ],
   "metadata": {
    "collapsed": false,
    "ExecuteTime": {
     "end_time": "2023-07-10T23:51:12.457467800Z",
     "start_time": "2023-07-10T23:51:10.576609300Z"
    }
   }
  },
  {
   "cell_type": "markdown",
   "metadata": {},
   "source": [
    "## Dropping irrelevant Columns"
   ]
  },
  {
   "cell_type": "markdown",
   "metadata": {},
   "source": [
    "2. __Drop__ the irrelevant columns 'adult', 'imdb_id', 'original_title', 'video' and 'homepage'."
   ]
  },
  {
   "cell_type": "code",
   "execution_count": 82,
   "metadata": {
    "ExecuteTime": {
     "end_time": "2023-07-10T23:51:12.459001200Z",
     "start_time": "2023-07-10T23:51:10.686859800Z"
    }
   },
   "outputs": [
    {
     "name": "stdout",
     "output_type": "stream",
     "text": [
      "<class 'pandas.core.frame.DataFrame'>\n",
      "RangeIndex: 45466 entries, 0 to 45465\n",
      "Data columns (total 24 columns):\n",
      " #   Column                 Non-Null Count  Dtype  \n",
      "---  ------                 --------------  -----  \n",
      " 0   adult                  45466 non-null  object \n",
      " 1   belongs_to_collection  4494 non-null   object \n",
      " 2   budget                 45466 non-null  object \n",
      " 3   genres                 45466 non-null  object \n",
      " 4   homepage               7782 non-null   object \n",
      " 5   id                     45466 non-null  object \n",
      " 6   imdb_id                45449 non-null  object \n",
      " 7   original_language      45455 non-null  object \n",
      " 8   original_title         45466 non-null  object \n",
      " 9   overview               44512 non-null  object \n",
      " 10  popularity             45461 non-null  object \n",
      " 11  poster_path            45080 non-null  object \n",
      " 12  production_companies   45463 non-null  object \n",
      " 13  production_countries   45463 non-null  object \n",
      " 14  release_date           45379 non-null  object \n",
      " 15  revenue                45460 non-null  float64\n",
      " 16  runtime                45203 non-null  float64\n",
      " 17  spoken_languages       45460 non-null  object \n",
      " 18  status                 45379 non-null  object \n",
      " 19  tagline                20412 non-null  object \n",
      " 20  title                  45460 non-null  object \n",
      " 21  video                  45460 non-null  object \n",
      " 22  vote_average           45460 non-null  float64\n",
      " 23  vote_count             45460 non-null  float64\n",
      "dtypes: float64(4), object(20)\n",
      "memory usage: 8.3+ MB\n"
     ]
    }
   ],
   "source": [
    "df.info()"
   ]
  },
  {
   "cell_type": "code",
   "execution_count": 83,
   "outputs": [
    {
     "data": {
      "text/plain": "False                                                                                                                             45454\nTrue                                                                                                                                  9\n - Written by Ørnås                                                                                                                   1\n Rune Balot goes to a casino connected to the October corporation to try to wrap up her case once and for all.                        1\n Avalanche Sharks tells the story of a bikini contest that turns into a horrifying affair when it is hit by a shark avalanche.        1\nName: adult, dtype: int64"
     },
     "execution_count": 83,
     "metadata": {},
     "output_type": "execute_result"
    }
   ],
   "source": [
    "df.adult.value_counts()"
   ],
   "metadata": {
    "collapsed": false,
    "ExecuteTime": {
     "end_time": "2023-07-10T23:51:12.478514600Z",
     "start_time": "2023-07-10T23:51:10.875076800Z"
    }
   }
  },
  {
   "cell_type": "code",
   "execution_count": 84,
   "outputs": [],
   "source": [
    "df.drop(columns=['adult'], inplace=True)"
   ],
   "metadata": {
    "collapsed": false,
    "ExecuteTime": {
     "end_time": "2023-07-10T23:51:12.478514600Z",
     "start_time": "2023-07-10T23:51:10.967812400Z"
    }
   }
  },
  {
   "cell_type": "code",
   "execution_count": 85,
   "outputs": [],
   "source": [
    "df.drop(columns=['imdb_id'], inplace=True)"
   ],
   "metadata": {
    "collapsed": false,
    "ExecuteTime": {
     "end_time": "2023-07-10T23:51:12.480017800Z",
     "start_time": "2023-07-10T23:51:11.047868600Z"
    }
   }
  },
  {
   "cell_type": "code",
   "execution_count": 86,
   "outputs": [],
   "source": [
    "df.drop(columns=['original_title'], inplace=True)"
   ],
   "metadata": {
    "collapsed": false,
    "ExecuteTime": {
     "end_time": "2023-07-10T23:51:12.480017800Z",
     "start_time": "2023-07-10T23:51:11.172714Z"
    }
   }
  },
  {
   "cell_type": "code",
   "execution_count": 87,
   "outputs": [],
   "source": [
    "df.drop(columns=['video'], inplace=True)"
   ],
   "metadata": {
    "collapsed": false,
    "ExecuteTime": {
     "end_time": "2023-07-10T23:51:12.480017800Z",
     "start_time": "2023-07-10T23:51:11.300115700Z"
    }
   }
  },
  {
   "cell_type": "code",
   "execution_count": 88,
   "outputs": [],
   "source": [
    "df.drop(columns=['homepage'], inplace=True)"
   ],
   "metadata": {
    "collapsed": false,
    "ExecuteTime": {
     "end_time": "2023-07-10T23:51:12.564011700Z",
     "start_time": "2023-07-10T23:51:11.423912900Z"
    }
   }
  },
  {
   "cell_type": "code",
   "execution_count": 89,
   "outputs": [
    {
     "data": {
      "text/plain": "                                   belongs_to_collection    budget  \\\n0      {'id': 10194, 'name': 'Toy Story Collection', ...  30000000   \n1                                                    NaN  65000000   \n2      {'id': 119050, 'name': 'Grumpy Old Men Collect...         0   \n3                                                    NaN  16000000   \n4      {'id': 96871, 'name': 'Father of the Bride Col...         0   \n...                                                  ...       ...   \n45461                                                NaN         0   \n45462                                                NaN         0   \n45463                                                NaN         0   \n45464                                                NaN         0   \n45465                                                NaN         0   \n\n                                                  genres      id  \\\n0      [{'id': 16, 'name': 'Animation'}, {'id': 35, '...     862   \n1      [{'id': 12, 'name': 'Adventure'}, {'id': 14, '...    8844   \n2      [{'id': 10749, 'name': 'Romance'}, {'id': 35, ...   15602   \n3      [{'id': 35, 'name': 'Comedy'}, {'id': 18, 'nam...   31357   \n4                         [{'id': 35, 'name': 'Comedy'}]   11862   \n...                                                  ...     ...   \n45461  [{'id': 18, 'name': 'Drama'}, {'id': 10751, 'n...  439050   \n45462                      [{'id': 18, 'name': 'Drama'}]  111109   \n45463  [{'id': 28, 'name': 'Action'}, {'id': 18, 'nam...   67758   \n45464                                                 []  227506   \n45465                                                 []  461257   \n\n      original_language                                           overview  \\\n0                    en  Led by Woody, Andy's toys live happily in his ...   \n1                    en  When siblings Judy and Peter discover an encha...   \n2                    en  A family wedding reignites the ancient feud be...   \n3                    en  Cheated on, mistreated and stepped on, the wom...   \n4                    en  Just when George Banks has recovered from his ...   \n...                 ...                                                ...   \n45461                fa        Rising and falling between a man and woman.   \n45462                tl  An artist struggles to finish his work while a...   \n45463                en  When one of her hits goes wrong, a professiona...   \n45464                en  In a small town live two brothers, one a minis...   \n45465                en  50 years after decriminalisation of homosexual...   \n\n      popularity                       poster_path  \\\n0      21.946943  /rhIRbceoE9lR4veEXuwCC2wARtG.jpg   \n1      17.015539  /vzmL6fP7aPKNKPRTFnZmiUfciyV.jpg   \n2        11.7129  /6ksm1sjKMFLbO7UY2i6G1ju9SML.jpg   \n3       3.859495  /16XOMpEaLWkrcPqSQqhTmeJuqQl.jpg   \n4       8.387519  /e64sOI48hQXyru7naBFyssKFxVd.jpg   \n...          ...                               ...   \n45461   0.072051  /jldsYflnId4tTWPx8es3uzsB1I8.jpg   \n45462   0.178241  /xZkmxsNmYXJbKVsTRLLx3pqGHx7.jpg   \n45463   0.903007  /d5bX92nDsISNhu3ZT69uHwmfCGw.jpg   \n45464   0.003503  /aorBPO7ak8e8iJKT5OcqYxU3jlK.jpg   \n45465   0.163015  /s5UkZt6NTsrS7ZF0Rh8nzupRlIU.jpg   \n\n                                    production_companies  \\\n0         [{'name': 'Pixar Animation Studios', 'id': 3}]   \n1      [{'name': 'TriStar Pictures', 'id': 559}, {'na...   \n2      [{'name': 'Warner Bros.', 'id': 6194}, {'name'...   \n3      [{'name': 'Twentieth Century Fox Film Corporat...   \n4      [{'name': 'Sandollar Productions', 'id': 5842}...   \n...                                                  ...   \n45461                                                 []   \n45462             [{'name': 'Sine Olivia', 'id': 19653}]   \n45463  [{'name': 'American World Pictures', 'id': 6165}]   \n45464               [{'name': 'Yermoliev', 'id': 88753}]   \n45465                                                 []   \n\n                                    production_countries release_date  \\\n0      [{'iso_3166_1': 'US', 'name': 'United States o...   1995-10-30   \n1      [{'iso_3166_1': 'US', 'name': 'United States o...   1995-12-15   \n2      [{'iso_3166_1': 'US', 'name': 'United States o...   1995-12-22   \n3      [{'iso_3166_1': 'US', 'name': 'United States o...   1995-12-22   \n4      [{'iso_3166_1': 'US', 'name': 'United States o...   1995-02-10   \n...                                                  ...          ...   \n45461             [{'iso_3166_1': 'IR', 'name': 'Iran'}]          NaN   \n45462      [{'iso_3166_1': 'PH', 'name': 'Philippines'}]   2011-11-17   \n45463  [{'iso_3166_1': 'US', 'name': 'United States o...   2003-08-01   \n45464           [{'iso_3166_1': 'RU', 'name': 'Russia'}]   1917-10-21   \n45465   [{'iso_3166_1': 'GB', 'name': 'United Kingdom'}]   2017-06-09   \n\n           revenue  runtime  \\\n0      373554033.0     81.0   \n1      262797249.0    104.0   \n2              0.0    101.0   \n3       81452156.0    127.0   \n4       76578911.0    106.0   \n...            ...      ...   \n45461          0.0     90.0   \n45462          0.0    360.0   \n45463          0.0     90.0   \n45464          0.0     87.0   \n45465          0.0     75.0   \n\n                                        spoken_languages    status  \\\n0               [{'iso_639_1': 'en', 'name': 'English'}]  Released   \n1      [{'iso_639_1': 'en', 'name': 'English'}, {'iso...  Released   \n2               [{'iso_639_1': 'en', 'name': 'English'}]  Released   \n3               [{'iso_639_1': 'en', 'name': 'English'}]  Released   \n4               [{'iso_639_1': 'en', 'name': 'English'}]  Released   \n...                                                  ...       ...   \n45461             [{'iso_639_1': 'fa', 'name': 'فارسی'}]  Released   \n45462                  [{'iso_639_1': 'tl', 'name': ''}]  Released   \n45463           [{'iso_639_1': 'en', 'name': 'English'}]  Released   \n45464                                                 []  Released   \n45465           [{'iso_639_1': 'en', 'name': 'English'}]  Released   \n\n                                                 tagline  \\\n0                                                    NaN   \n1              Roll the dice and unleash the excitement!   \n2      Still Yelling. Still Fighting. Still Ready for...   \n3      Friends are the people who let you be yourself...   \n4      Just When His World Is Back To Normal... He's ...   \n...                                                  ...   \n45461         Rising and falling between a man and woman   \n45462                                                NaN   \n45463                             A deadly game of wits.   \n45464                                                NaN   \n45465                                                NaN   \n\n                             title  vote_average  vote_count  \n0                        Toy Story           7.7      5415.0  \n1                          Jumanji           6.9      2413.0  \n2                 Grumpier Old Men           6.5        92.0  \n3                Waiting to Exhale           6.1        34.0  \n4      Father of the Bride Part II           5.7       173.0  \n...                            ...           ...         ...  \n45461                       Subdue           4.0         1.0  \n45462          Century of Birthing           9.0         3.0  \n45463                     Betrayal           3.8         6.0  \n45464             Satan Triumphant           0.0         0.0  \n45465                     Queerama           0.0         0.0  \n\n[45466 rows x 19 columns]",
      "text/html": "<div>\n<style scoped>\n    .dataframe tbody tr th:only-of-type {\n        vertical-align: middle;\n    }\n\n    .dataframe tbody tr th {\n        vertical-align: top;\n    }\n\n    .dataframe thead th {\n        text-align: right;\n    }\n</style>\n<table border=\"1\" class=\"dataframe\">\n  <thead>\n    <tr style=\"text-align: right;\">\n      <th></th>\n      <th>belongs_to_collection</th>\n      <th>budget</th>\n      <th>genres</th>\n      <th>id</th>\n      <th>original_language</th>\n      <th>overview</th>\n      <th>popularity</th>\n      <th>poster_path</th>\n      <th>production_companies</th>\n      <th>production_countries</th>\n      <th>release_date</th>\n      <th>revenue</th>\n      <th>runtime</th>\n      <th>spoken_languages</th>\n      <th>status</th>\n      <th>tagline</th>\n      <th>title</th>\n      <th>vote_average</th>\n      <th>vote_count</th>\n    </tr>\n  </thead>\n  <tbody>\n    <tr>\n      <th>0</th>\n      <td>{'id': 10194, 'name': 'Toy Story Collection', ...</td>\n      <td>30000000</td>\n      <td>[{'id': 16, 'name': 'Animation'}, {'id': 35, '...</td>\n      <td>862</td>\n      <td>en</td>\n      <td>Led by Woody, Andy's toys live happily in his ...</td>\n      <td>21.946943</td>\n      <td>/rhIRbceoE9lR4veEXuwCC2wARtG.jpg</td>\n      <td>[{'name': 'Pixar Animation Studios', 'id': 3}]</td>\n      <td>[{'iso_3166_1': 'US', 'name': 'United States o...</td>\n      <td>1995-10-30</td>\n      <td>373554033.0</td>\n      <td>81.0</td>\n      <td>[{'iso_639_1': 'en', 'name': 'English'}]</td>\n      <td>Released</td>\n      <td>NaN</td>\n      <td>Toy Story</td>\n      <td>7.7</td>\n      <td>5415.0</td>\n    </tr>\n    <tr>\n      <th>1</th>\n      <td>NaN</td>\n      <td>65000000</td>\n      <td>[{'id': 12, 'name': 'Adventure'}, {'id': 14, '...</td>\n      <td>8844</td>\n      <td>en</td>\n      <td>When siblings Judy and Peter discover an encha...</td>\n      <td>17.015539</td>\n      <td>/vzmL6fP7aPKNKPRTFnZmiUfciyV.jpg</td>\n      <td>[{'name': 'TriStar Pictures', 'id': 559}, {'na...</td>\n      <td>[{'iso_3166_1': 'US', 'name': 'United States o...</td>\n      <td>1995-12-15</td>\n      <td>262797249.0</td>\n      <td>104.0</td>\n      <td>[{'iso_639_1': 'en', 'name': 'English'}, {'iso...</td>\n      <td>Released</td>\n      <td>Roll the dice and unleash the excitement!</td>\n      <td>Jumanji</td>\n      <td>6.9</td>\n      <td>2413.0</td>\n    </tr>\n    <tr>\n      <th>2</th>\n      <td>{'id': 119050, 'name': 'Grumpy Old Men Collect...</td>\n      <td>0</td>\n      <td>[{'id': 10749, 'name': 'Romance'}, {'id': 35, ...</td>\n      <td>15602</td>\n      <td>en</td>\n      <td>A family wedding reignites the ancient feud be...</td>\n      <td>11.7129</td>\n      <td>/6ksm1sjKMFLbO7UY2i6G1ju9SML.jpg</td>\n      <td>[{'name': 'Warner Bros.', 'id': 6194}, {'name'...</td>\n      <td>[{'iso_3166_1': 'US', 'name': 'United States o...</td>\n      <td>1995-12-22</td>\n      <td>0.0</td>\n      <td>101.0</td>\n      <td>[{'iso_639_1': 'en', 'name': 'English'}]</td>\n      <td>Released</td>\n      <td>Still Yelling. Still Fighting. Still Ready for...</td>\n      <td>Grumpier Old Men</td>\n      <td>6.5</td>\n      <td>92.0</td>\n    </tr>\n    <tr>\n      <th>3</th>\n      <td>NaN</td>\n      <td>16000000</td>\n      <td>[{'id': 35, 'name': 'Comedy'}, {'id': 18, 'nam...</td>\n      <td>31357</td>\n      <td>en</td>\n      <td>Cheated on, mistreated and stepped on, the wom...</td>\n      <td>3.859495</td>\n      <td>/16XOMpEaLWkrcPqSQqhTmeJuqQl.jpg</td>\n      <td>[{'name': 'Twentieth Century Fox Film Corporat...</td>\n      <td>[{'iso_3166_1': 'US', 'name': 'United States o...</td>\n      <td>1995-12-22</td>\n      <td>81452156.0</td>\n      <td>127.0</td>\n      <td>[{'iso_639_1': 'en', 'name': 'English'}]</td>\n      <td>Released</td>\n      <td>Friends are the people who let you be yourself...</td>\n      <td>Waiting to Exhale</td>\n      <td>6.1</td>\n      <td>34.0</td>\n    </tr>\n    <tr>\n      <th>4</th>\n      <td>{'id': 96871, 'name': 'Father of the Bride Col...</td>\n      <td>0</td>\n      <td>[{'id': 35, 'name': 'Comedy'}]</td>\n      <td>11862</td>\n      <td>en</td>\n      <td>Just when George Banks has recovered from his ...</td>\n      <td>8.387519</td>\n      <td>/e64sOI48hQXyru7naBFyssKFxVd.jpg</td>\n      <td>[{'name': 'Sandollar Productions', 'id': 5842}...</td>\n      <td>[{'iso_3166_1': 'US', 'name': 'United States o...</td>\n      <td>1995-02-10</td>\n      <td>76578911.0</td>\n      <td>106.0</td>\n      <td>[{'iso_639_1': 'en', 'name': 'English'}]</td>\n      <td>Released</td>\n      <td>Just When His World Is Back To Normal... He's ...</td>\n      <td>Father of the Bride Part II</td>\n      <td>5.7</td>\n      <td>173.0</td>\n    </tr>\n    <tr>\n      <th>...</th>\n      <td>...</td>\n      <td>...</td>\n      <td>...</td>\n      <td>...</td>\n      <td>...</td>\n      <td>...</td>\n      <td>...</td>\n      <td>...</td>\n      <td>...</td>\n      <td>...</td>\n      <td>...</td>\n      <td>...</td>\n      <td>...</td>\n      <td>...</td>\n      <td>...</td>\n      <td>...</td>\n      <td>...</td>\n      <td>...</td>\n      <td>...</td>\n    </tr>\n    <tr>\n      <th>45461</th>\n      <td>NaN</td>\n      <td>0</td>\n      <td>[{'id': 18, 'name': 'Drama'}, {'id': 10751, 'n...</td>\n      <td>439050</td>\n      <td>fa</td>\n      <td>Rising and falling between a man and woman.</td>\n      <td>0.072051</td>\n      <td>/jldsYflnId4tTWPx8es3uzsB1I8.jpg</td>\n      <td>[]</td>\n      <td>[{'iso_3166_1': 'IR', 'name': 'Iran'}]</td>\n      <td>NaN</td>\n      <td>0.0</td>\n      <td>90.0</td>\n      <td>[{'iso_639_1': 'fa', 'name': 'فارسی'}]</td>\n      <td>Released</td>\n      <td>Rising and falling between a man and woman</td>\n      <td>Subdue</td>\n      <td>4.0</td>\n      <td>1.0</td>\n    </tr>\n    <tr>\n      <th>45462</th>\n      <td>NaN</td>\n      <td>0</td>\n      <td>[{'id': 18, 'name': 'Drama'}]</td>\n      <td>111109</td>\n      <td>tl</td>\n      <td>An artist struggles to finish his work while a...</td>\n      <td>0.178241</td>\n      <td>/xZkmxsNmYXJbKVsTRLLx3pqGHx7.jpg</td>\n      <td>[{'name': 'Sine Olivia', 'id': 19653}]</td>\n      <td>[{'iso_3166_1': 'PH', 'name': 'Philippines'}]</td>\n      <td>2011-11-17</td>\n      <td>0.0</td>\n      <td>360.0</td>\n      <td>[{'iso_639_1': 'tl', 'name': ''}]</td>\n      <td>Released</td>\n      <td>NaN</td>\n      <td>Century of Birthing</td>\n      <td>9.0</td>\n      <td>3.0</td>\n    </tr>\n    <tr>\n      <th>45463</th>\n      <td>NaN</td>\n      <td>0</td>\n      <td>[{'id': 28, 'name': 'Action'}, {'id': 18, 'nam...</td>\n      <td>67758</td>\n      <td>en</td>\n      <td>When one of her hits goes wrong, a professiona...</td>\n      <td>0.903007</td>\n      <td>/d5bX92nDsISNhu3ZT69uHwmfCGw.jpg</td>\n      <td>[{'name': 'American World Pictures', 'id': 6165}]</td>\n      <td>[{'iso_3166_1': 'US', 'name': 'United States o...</td>\n      <td>2003-08-01</td>\n      <td>0.0</td>\n      <td>90.0</td>\n      <td>[{'iso_639_1': 'en', 'name': 'English'}]</td>\n      <td>Released</td>\n      <td>A deadly game of wits.</td>\n      <td>Betrayal</td>\n      <td>3.8</td>\n      <td>6.0</td>\n    </tr>\n    <tr>\n      <th>45464</th>\n      <td>NaN</td>\n      <td>0</td>\n      <td>[]</td>\n      <td>227506</td>\n      <td>en</td>\n      <td>In a small town live two brothers, one a minis...</td>\n      <td>0.003503</td>\n      <td>/aorBPO7ak8e8iJKT5OcqYxU3jlK.jpg</td>\n      <td>[{'name': 'Yermoliev', 'id': 88753}]</td>\n      <td>[{'iso_3166_1': 'RU', 'name': 'Russia'}]</td>\n      <td>1917-10-21</td>\n      <td>0.0</td>\n      <td>87.0</td>\n      <td>[]</td>\n      <td>Released</td>\n      <td>NaN</td>\n      <td>Satan Triumphant</td>\n      <td>0.0</td>\n      <td>0.0</td>\n    </tr>\n    <tr>\n      <th>45465</th>\n      <td>NaN</td>\n      <td>0</td>\n      <td>[]</td>\n      <td>461257</td>\n      <td>en</td>\n      <td>50 years after decriminalisation of homosexual...</td>\n      <td>0.163015</td>\n      <td>/s5UkZt6NTsrS7ZF0Rh8nzupRlIU.jpg</td>\n      <td>[]</td>\n      <td>[{'iso_3166_1': 'GB', 'name': 'United Kingdom'}]</td>\n      <td>2017-06-09</td>\n      <td>0.0</td>\n      <td>75.0</td>\n      <td>[{'iso_639_1': 'en', 'name': 'English'}]</td>\n      <td>Released</td>\n      <td>NaN</td>\n      <td>Queerama</td>\n      <td>0.0</td>\n      <td>0.0</td>\n    </tr>\n  </tbody>\n</table>\n<p>45466 rows × 19 columns</p>\n</div>"
     },
     "execution_count": 89,
     "metadata": {},
     "output_type": "execute_result"
    }
   ],
   "source": [
    "df"
   ],
   "metadata": {
    "collapsed": false,
    "ExecuteTime": {
     "end_time": "2023-07-10T23:51:12.998356100Z",
     "start_time": "2023-07-10T23:51:12.492531Z"
    }
   }
  },
  {
   "cell_type": "markdown",
   "metadata": {},
   "source": [
    "## How to handle stringified JSON columns"
   ]
  },
  {
   "cell_type": "markdown",
   "metadata": {},
   "source": [
    "3. __Evaluate__ Python Expressions in the stringified columns [\"belongs_to_collection\", \"genres\", \"production_countries\", \"production_companies\", \"spoken_languages\"] and __remove quotes__ (\"\") where possible."
   ]
  },
  {
   "cell_type": "code",
   "execution_count": 90,
   "metadata": {
    "ExecuteTime": {
     "end_time": "2023-07-10T23:51:12.999859700Z",
     "start_time": "2023-07-10T23:51:12.707832600Z"
    }
   },
   "outputs": [],
   "source": [
    "import json\n",
    "import ast"
   ]
  },
  {
   "cell_type": "code",
   "execution_count": 91,
   "outputs": [],
   "source": [
    "json_col = [\"belongs_to_collection\", \"genres\", \"production_countries\", \"production_companies\", \"spoken_languages\"]"
   ],
   "metadata": {
    "collapsed": false,
    "ExecuteTime": {
     "end_time": "2023-07-10T23:51:12.999859700Z",
     "start_time": "2023-07-10T23:51:12.738387700Z"
    }
   }
  },
  {
   "cell_type": "code",
   "execution_count": 92,
   "outputs": [
    {
     "data": {
      "text/plain": "\"{'id': 10194, 'name': 'Toy Story Collection', 'poster_path': '/7G9915LfUQ2lVfwMEEhDsn3kT4B.jpg', 'backdrop_path': '/9FBwqcd9IRruEDUrTdcaafOMKUq.jpg'}\""
     },
     "execution_count": 92,
     "metadata": {},
     "output_type": "execute_result"
    }
   ],
   "source": [
    "df.belongs_to_collection[0]"
   ],
   "metadata": {
    "collapsed": false,
    "ExecuteTime": {
     "end_time": "2023-07-10T23:51:12.999859700Z",
     "start_time": "2023-07-10T23:51:12.817114600Z"
    }
   }
  },
  {
   "cell_type": "code",
   "execution_count": 93,
   "outputs": [
    {
     "data": {
      "text/plain": "{'dog': 3, 'cat': 5}"
     },
     "execution_count": 93,
     "metadata": {},
     "output_type": "execute_result"
    }
   ],
   "source": [
    "json1 = \"{\\\"dog\\\": 3, \\\"cat\\\": 5}\"\n",
    "json.loads(json1)"
   ],
   "metadata": {
    "collapsed": false,
    "ExecuteTime": {
     "end_time": "2023-07-10T23:51:13.001863700Z",
     "start_time": "2023-07-10T23:51:12.880731100Z"
    }
   }
  },
  {
   "cell_type": "code",
   "execution_count": 94,
   "outputs": [
    {
     "data": {
      "text/plain": "[{'id': 16, 'name': 'Animation'},\n {'id': 35, 'name': 'Comedy'},\n {'id': 10751, 'name': 'Family'}]"
     },
     "execution_count": 94,
     "metadata": {},
     "output_type": "execute_result"
    }
   ],
   "source": [
    "df.genres.apply(lambda x: json.loads(x.replace(\"'\", '\"')))[0]"
   ],
   "metadata": {
    "collapsed": false,
    "ExecuteTime": {
     "end_time": "2023-07-10T23:51:13.509024500Z",
     "start_time": "2023-07-10T23:51:12.989352900Z"
    }
   }
  },
  {
   "cell_type": "code",
   "execution_count": 95,
   "outputs": [
    {
     "data": {
      "text/plain": "{'dog': 3, 'cat': 5}"
     },
     "execution_count": 95,
     "metadata": {},
     "output_type": "execute_result"
    }
   ],
   "source": [
    "ast.literal_eval(json1)"
   ],
   "metadata": {
    "collapsed": false,
    "ExecuteTime": {
     "end_time": "2023-07-10T23:51:13.509939600Z",
     "start_time": "2023-07-10T23:51:13.304208100Z"
    }
   }
  },
  {
   "cell_type": "code",
   "execution_count": 96,
   "outputs": [
    {
     "data": {
      "text/plain": "[{'id': 16, 'name': 'Animation'},\n {'id': 35, 'name': 'Comedy'},\n {'id': 10751, 'name': 'Family'}]"
     },
     "execution_count": 96,
     "metadata": {},
     "output_type": "execute_result"
    }
   ],
   "source": [
    "df.genres.apply(ast.literal_eval)[0]"
   ],
   "metadata": {
    "collapsed": false,
    "ExecuteTime": {
     "end_time": "2023-07-10T23:51:14.300875900Z",
     "start_time": "2023-07-10T23:51:13.304208100Z"
    }
   }
  },
  {
   "cell_type": "code",
   "execution_count": 97,
   "outputs": [],
   "source": [
    "df.genres = df.genres.apply(ast.literal_eval)"
   ],
   "metadata": {
    "collapsed": false,
    "ExecuteTime": {
     "end_time": "2023-07-10T23:51:15.370879400Z",
     "start_time": "2023-07-10T23:51:14.299877600Z"
    }
   }
  },
  {
   "cell_type": "code",
   "execution_count": 98,
   "outputs": [
    {
     "data": {
      "text/plain": "0        [{'id': 16, 'name': 'Animation'}, {'id': 35, '...\n1        [{'id': 12, 'name': 'Adventure'}, {'id': 14, '...\n2        [{'id': 10749, 'name': 'Romance'}, {'id': 35, ...\n3        [{'id': 35, 'name': 'Comedy'}, {'id': 18, 'nam...\n4                           [{'id': 35, 'name': 'Comedy'}]\n                               ...                        \n45461    [{'id': 18, 'name': 'Drama'}, {'id': 10751, 'n...\n45462                        [{'id': 18, 'name': 'Drama'}]\n45463    [{'id': 28, 'name': 'Action'}, {'id': 18, 'nam...\n45464                                                   []\n45465                                                   []\nName: genres, Length: 45466, dtype: object"
     },
     "execution_count": 98,
     "metadata": {},
     "output_type": "execute_result"
    }
   ],
   "source": [
    "df.genres"
   ],
   "metadata": {
    "collapsed": false,
    "ExecuteTime": {
     "end_time": "2023-07-10T23:51:15.385877800Z",
     "start_time": "2023-07-10T23:51:15.376386400Z"
    }
   }
  },
  {
   "cell_type": "code",
   "execution_count": 99,
   "outputs": [],
   "source": [
    "# df.loc[:, json_col].apply(ast.literal_eval, axis=0)"
   ],
   "metadata": {
    "collapsed": false,
    "ExecuteTime": {
     "end_time": "2023-07-10T23:51:15.431438400Z",
     "start_time": "2023-07-10T23:51:15.387856100Z"
    }
   }
  },
  {
   "cell_type": "code",
   "execution_count": 100,
   "outputs": [],
   "source": [
    "# ast.literal_eval(0)"
   ],
   "metadata": {
    "collapsed": false,
    "ExecuteTime": {
     "end_time": "2023-07-10T23:51:15.440947200Z",
     "start_time": "2023-07-10T23:51:15.403390200Z"
    }
   }
  },
  {
   "cell_type": "code",
   "execution_count": 101,
   "outputs": [],
   "source": [
    "import numpy as np"
   ],
   "metadata": {
    "collapsed": false,
    "ExecuteTime": {
     "end_time": "2023-07-10T23:51:15.441946900Z",
     "start_time": "2023-07-10T23:51:15.418931900Z"
    }
   }
  },
  {
   "cell_type": "code",
   "execution_count": 102,
   "outputs": [
    {
     "data": {
      "text/plain": "0        {'id': 10194, 'name': 'Toy Story Collection', ...\n1                                                      NaN\n2        {'id': 119050, 'name': 'Grumpy Old Men Collect...\n3                                                      NaN\n4        {'id': 96871, 'name': 'Father of the Bride Col...\n                               ...                        \n45461                                                  NaN\n45462                                                  NaN\n45463                                                  NaN\n45464                                                  NaN\n45465                                                  NaN\nName: belongs_to_collection, Length: 45466, dtype: object"
     },
     "execution_count": 102,
     "metadata": {},
     "output_type": "execute_result"
    }
   ],
   "source": [
    "df.belongs_to_collection"
   ],
   "metadata": {
    "collapsed": false,
    "ExecuteTime": {
     "end_time": "2023-07-10T23:51:15.466714Z",
     "start_time": "2023-07-10T23:51:15.434438600Z"
    }
   }
  },
  {
   "cell_type": "code",
   "execution_count": 103,
   "outputs": [
    {
     "data": {
      "text/plain": "0         True\n1        False\n2         True\n3        False\n4         True\n         ...  \n45461    False\n45462    False\n45463    False\n45464    False\n45465    False\nName: belongs_to_collection, Length: 45466, dtype: bool"
     },
     "execution_count": 103,
     "metadata": {},
     "output_type": "execute_result"
    }
   ],
   "source": [
    "df.belongs_to_collection.apply(lambda x: isinstance(x, str))"
   ],
   "metadata": {
    "collapsed": false,
    "ExecuteTime": {
     "end_time": "2023-07-10T23:51:15.497991Z",
     "start_time": "2023-07-10T23:51:15.450636900Z"
    }
   }
  },
  {
   "cell_type": "code",
   "execution_count": 104,
   "outputs": [],
   "source": [
    "df.belongs_to_collection = df.belongs_to_collection.apply(lambda x: ast.literal_eval(x) if isinstance(x, str) else np.nan)"
   ],
   "metadata": {
    "collapsed": false,
    "ExecuteTime": {
     "end_time": "2023-07-10T23:51:15.591555500Z",
     "start_time": "2023-07-10T23:51:15.465209800Z"
    }
   }
  },
  {
   "cell_type": "code",
   "execution_count": 105,
   "outputs": [
    {
     "data": {
      "text/plain": "0        {'id': 10194, 'name': 'Toy Story Collection', ...\n1                                                      NaN\n2        {'id': 119050, 'name': 'Grumpy Old Men Collect...\n3                                                      NaN\n4        {'id': 96871, 'name': 'Father of the Bride Col...\n                               ...                        \n45461                                                  NaN\n45462                                                  NaN\n45463                                                  NaN\n45464                                                  NaN\n45465                                                  NaN\nName: belongs_to_collection, Length: 45466, dtype: object"
     },
     "execution_count": 105,
     "metadata": {},
     "output_type": "execute_result"
    }
   ],
   "source": [
    "df.belongs_to_collection"
   ],
   "metadata": {
    "collapsed": false,
    "ExecuteTime": {
     "end_time": "2023-07-10T23:51:15.591555500Z",
     "start_time": "2023-07-10T23:51:15.573957200Z"
    }
   }
  },
  {
   "cell_type": "code",
   "execution_count": 106,
   "outputs": [
    {
     "data": {
      "text/plain": "0                 [{'iso_639_1': 'en', 'name': 'English'}]\n1        [{'iso_639_1': 'en', 'name': 'English'}, {'iso...\n2                 [{'iso_639_1': 'en', 'name': 'English'}]\n3                 [{'iso_639_1': 'en', 'name': 'English'}]\n4                 [{'iso_639_1': 'en', 'name': 'English'}]\n                               ...                        \n45461               [{'iso_639_1': 'fa', 'name': 'فارسی'}]\n45462                    [{'iso_639_1': 'tl', 'name': ''}]\n45463             [{'iso_639_1': 'en', 'name': 'English'}]\n45464                                                   []\n45465             [{'iso_639_1': 'en', 'name': 'English'}]\nName: spoken_languages, Length: 45466, dtype: object"
     },
     "execution_count": 106,
     "metadata": {},
     "output_type": "execute_result"
    }
   ],
   "source": [
    "df.spoken_languages"
   ],
   "metadata": {
    "collapsed": false,
    "ExecuteTime": {
     "end_time": "2023-07-10T23:51:15.603064700Z",
     "start_time": "2023-07-10T23:51:15.588525Z"
    }
   }
  },
  {
   "cell_type": "code",
   "execution_count": 107,
   "outputs": [],
   "source": [
    "df.spoken_languages = df.spoken_languages.apply(lambda x: ast.literal_eval(x) if isinstance(x, str) else np.nan)"
   ],
   "metadata": {
    "collapsed": false,
    "ExecuteTime": {
     "end_time": "2023-07-10T23:51:16.292458300Z",
     "start_time": "2023-07-10T23:51:15.604065200Z"
    }
   }
  },
  {
   "cell_type": "code",
   "execution_count": 108,
   "outputs": [
    {
     "data": {
      "text/plain": "0                 [{'iso_639_1': 'en', 'name': 'English'}]\n1        [{'iso_639_1': 'en', 'name': 'English'}, {'iso...\n2                 [{'iso_639_1': 'en', 'name': 'English'}]\n3                 [{'iso_639_1': 'en', 'name': 'English'}]\n4                 [{'iso_639_1': 'en', 'name': 'English'}]\n                               ...                        \n45461               [{'iso_639_1': 'fa', 'name': 'فارسی'}]\n45462                    [{'iso_639_1': 'tl', 'name': ''}]\n45463             [{'iso_639_1': 'en', 'name': 'English'}]\n45464                                                   []\n45465             [{'iso_639_1': 'en', 'name': 'English'}]\nName: spoken_languages, Length: 45466, dtype: object"
     },
     "execution_count": 108,
     "metadata": {},
     "output_type": "execute_result"
    }
   ],
   "source": [
    "df.spoken_languages"
   ],
   "metadata": {
    "collapsed": false,
    "ExecuteTime": {
     "end_time": "2023-07-10T23:51:16.308055200Z",
     "start_time": "2023-07-10T23:51:16.296966Z"
    }
   }
  },
  {
   "cell_type": "code",
   "execution_count": 109,
   "outputs": [
    {
     "data": {
      "text/plain": "0           [{'name': 'Pixar Animation Studios', 'id': 3}]\n1        [{'name': 'TriStar Pictures', 'id': 559}, {'na...\n2        [{'name': 'Warner Bros.', 'id': 6194}, {'name'...\n3        [{'name': 'Twentieth Century Fox Film Corporat...\n4        [{'name': 'Sandollar Productions', 'id': 5842}...\n                               ...                        \n45461                                                   []\n45462               [{'name': 'Sine Olivia', 'id': 19653}]\n45463    [{'name': 'American World Pictures', 'id': 6165}]\n45464                 [{'name': 'Yermoliev', 'id': 88753}]\n45465                                                   []\nName: production_companies, Length: 45466, dtype: object"
     },
     "execution_count": 109,
     "metadata": {},
     "output_type": "execute_result"
    }
   ],
   "source": [
    "df.production_companies"
   ],
   "metadata": {
    "collapsed": false,
    "ExecuteTime": {
     "end_time": "2023-07-10T23:51:16.407801100Z",
     "start_time": "2023-07-10T23:51:16.309055900Z"
    }
   }
  },
  {
   "cell_type": "code",
   "execution_count": 110,
   "outputs": [],
   "source": [
    "df.production_companies = df.production_companies.apply(lambda x: ast.literal_eval(x) if isinstance(x, str) else np.nan)\n"
   ],
   "metadata": {
    "collapsed": false,
    "ExecuteTime": {
     "end_time": "2023-07-10T23:51:17.298638600Z",
     "start_time": "2023-07-10T23:51:16.325227600Z"
    }
   }
  },
  {
   "cell_type": "code",
   "execution_count": 111,
   "outputs": [
    {
     "data": {
      "text/plain": "0           [{'name': 'Pixar Animation Studios', 'id': 3}]\n1        [{'name': 'TriStar Pictures', 'id': 559}, {'na...\n2        [{'name': 'Warner Bros.', 'id': 6194}, {'name'...\n3        [{'name': 'Twentieth Century Fox Film Corporat...\n4        [{'name': 'Sandollar Productions', 'id': 5842}...\n                               ...                        \n45461                                                   []\n45462               [{'name': 'Sine Olivia', 'id': 19653}]\n45463    [{'name': 'American World Pictures', 'id': 6165}]\n45464                 [{'name': 'Yermoliev', 'id': 88753}]\n45465                                                   []\nName: production_companies, Length: 45466, dtype: object"
     },
     "execution_count": 111,
     "metadata": {},
     "output_type": "execute_result"
    }
   ],
   "source": [
    "df.production_companies"
   ],
   "metadata": {
    "collapsed": false,
    "ExecuteTime": {
     "end_time": "2023-07-10T23:51:17.319626900Z",
     "start_time": "2023-07-10T23:51:17.293072300Z"
    }
   }
  },
  {
   "cell_type": "code",
   "execution_count": 112,
   "outputs": [
    {
     "data": {
      "text/plain": "0        [{'iso_3166_1': 'US', 'name': 'United States o...\n1        [{'iso_3166_1': 'US', 'name': 'United States o...\n2        [{'iso_3166_1': 'US', 'name': 'United States o...\n3        [{'iso_3166_1': 'US', 'name': 'United States o...\n4        [{'iso_3166_1': 'US', 'name': 'United States o...\n                               ...                        \n45461               [{'iso_3166_1': 'IR', 'name': 'Iran'}]\n45462        [{'iso_3166_1': 'PH', 'name': 'Philippines'}]\n45463    [{'iso_3166_1': 'US', 'name': 'United States o...\n45464             [{'iso_3166_1': 'RU', 'name': 'Russia'}]\n45465     [{'iso_3166_1': 'GB', 'name': 'United Kingdom'}]\nName: production_countries, Length: 45466, dtype: object"
     },
     "execution_count": 112,
     "metadata": {},
     "output_type": "execute_result"
    }
   ],
   "source": [
    "df.production_countries"
   ],
   "metadata": {
    "collapsed": false,
    "ExecuteTime": {
     "end_time": "2023-07-10T23:51:17.366264300Z",
     "start_time": "2023-07-10T23:51:17.309119900Z"
    }
   }
  },
  {
   "cell_type": "code",
   "execution_count": 113,
   "outputs": [],
   "source": [
    "df.production_countries = df.production_countries.apply(lambda x: ast.literal_eval(x) if isinstance(x, str) else np.nan)"
   ],
   "metadata": {
    "collapsed": false,
    "ExecuteTime": {
     "end_time": "2023-07-10T23:51:18.005515900Z",
     "start_time": "2023-07-10T23:51:17.338643900Z"
    }
   }
  },
  {
   "cell_type": "code",
   "execution_count": 114,
   "outputs": [
    {
     "data": {
      "text/plain": "0        [{'iso_3166_1': 'US', 'name': 'United States o...\n1        [{'iso_3166_1': 'US', 'name': 'United States o...\n2        [{'iso_3166_1': 'US', 'name': 'United States o...\n3        [{'iso_3166_1': 'US', 'name': 'United States o...\n4        [{'iso_3166_1': 'US', 'name': 'United States o...\n                               ...                        \n45461               [{'iso_3166_1': 'IR', 'name': 'Iran'}]\n45462        [{'iso_3166_1': 'PH', 'name': 'Philippines'}]\n45463    [{'iso_3166_1': 'US', 'name': 'United States o...\n45464             [{'iso_3166_1': 'RU', 'name': 'Russia'}]\n45465     [{'iso_3166_1': 'GB', 'name': 'United Kingdom'}]\nName: production_countries, Length: 45466, dtype: object"
     },
     "execution_count": 114,
     "metadata": {},
     "output_type": "execute_result"
    }
   ],
   "source": [
    "df.production_countries"
   ],
   "metadata": {
    "collapsed": false,
    "ExecuteTime": {
     "end_time": "2023-07-10T23:51:18.005515900Z",
     "start_time": "2023-07-10T23:51:17.982438Z"
    }
   }
  },
  {
   "cell_type": "markdown",
   "metadata": {},
   "source": [
    "## How to flatten nested Columns"
   ]
  },
  {
   "cell_type": "markdown",
   "metadata": {},
   "source": [
    "4. __Extract__ only the __collection name__ from the column \"belongs_to_collection\" and __overwrite__ \"belongs_to_collection\". <br> For example: The value in the first row (Toy Story) should be 'Toy Story Collection'."
   ]
  },
  {
   "cell_type": "markdown",
   "metadata": {},
   "source": [
    "5. __Extract__ all __genre names__ from the column \"genres\" and __overwrite__ \"genres\". If a movie has more than one genre, __seperate genres by a pipe__ \"|\".<br>\n",
    "For example: The value in the first row (Toy Story) should be 'Animation|Comedy|Family'."
   ]
  },
  {
   "cell_type": "markdown",
   "metadata": {},
   "source": [
    "6. __Extract__ all __spoken language names__ from the column \"spoken_languages\" and __overwrite__ \"spoken_languages\". If a movie has more than one spoken language, __seperate spoken languages by a pipe__ \"|\".<br>\n",
    "For example: The value in the first row (Toy Story) should be 'English'."
   ]
  },
  {
   "cell_type": "markdown",
   "metadata": {},
   "source": [
    "7. __Extract__ all __production countries names__ from the column \"production_countries\" and __overwrite__ \"production_countries\". If a movie has more than one production country, __seperate production countries by a pipe__ \"|\".<br>\n",
    "For example: The value in the first row (Toy Story) should be 'United States of America'."
   ]
  },
  {
   "cell_type": "markdown",
   "metadata": {},
   "source": [
    "8. __Extract__ all __production companies names__ from the column \"production_companies\" and __overwrite__ \"production_companies\". If a movie has more than one production company, __seperate production companies by a pipe__ \"|\".<br>\n",
    "For example: The value in the first row (Toy Story) should be 'Pixar Animation Studios'"
   ]
  },
  {
   "cell_type": "markdown",
   "metadata": {},
   "source": [
    "9. __Inspect__ all columns above with value_counts(). Do you see anything strange? __Take reasonable measures__!"
   ]
  },
  {
   "cell_type": "code",
   "execution_count": 115,
   "metadata": {
    "ExecuteTime": {
     "end_time": "2023-07-10T23:51:18.025532800Z",
     "start_time": "2023-07-10T23:51:18.005515900Z"
    }
   },
   "outputs": [
    {
     "data": {
      "text/plain": "{'id': 10194,\n 'name': 'Toy Story Collection',\n 'poster_path': '/7G9915LfUQ2lVfwMEEhDsn3kT4B.jpg',\n 'backdrop_path': '/9FBwqcd9IRruEDUrTdcaafOMKUq.jpg'}"
     },
     "execution_count": 115,
     "metadata": {},
     "output_type": "execute_result"
    }
   ],
   "source": [
    "df.belongs_to_collection[0]"
   ]
  },
  {
   "cell_type": "code",
   "execution_count": 116,
   "outputs": [],
   "source": [
    "df.belongs_to_collection = df.belongs_to_collection.apply(lambda x: x['name'] if isinstance(x, dict) else np.nan)"
   ],
   "metadata": {
    "collapsed": false,
    "ExecuteTime": {
     "end_time": "2023-07-10T23:51:18.103712100Z",
     "start_time": "2023-07-10T23:51:18.016026600Z"
    }
   }
  },
  {
   "cell_type": "code",
   "execution_count": 117,
   "outputs": [
    {
     "data": {
      "text/plain": "NaN                                       40975\nThe Bowery Boys                              29\nTotò Collection                              27\nJames Bond Collection                        26\nZatôichi: The Blind Swordsman                26\nThe Carry On Collection                      25\nPokémon Collection                           22\nCharlie Chan (Sidney Toler) Collection       21\nGodzilla (Showa) Collection                  16\nUuno Turhapuro                               15\nDragon Ball Z (Movie) Collection             15\nCharlie Chan (Warner Oland) Collection       15\nThe Land Before Time Collection              14\nMonster High Collection                      14\nSharpe Collection                            13\nGeorge Carlin Comedy Collection              13\nJohan Falk GSI Collection                    12\nSherlock Holmes (1939 series)                12\nFriday the 13th Collection                   12\nThe Amityville Horror Collection             12\nName: belongs_to_collection, dtype: int64"
     },
     "execution_count": 117,
     "metadata": {},
     "output_type": "execute_result"
    }
   ],
   "source": [
    "df.belongs_to_collection.value_counts(dropna=False).head(20)"
   ],
   "metadata": {
    "collapsed": false,
    "ExecuteTime": {
     "end_time": "2023-07-10T23:51:18.116206300Z",
     "start_time": "2023-07-10T23:51:18.040581900Z"
    }
   }
  },
  {
   "cell_type": "code",
   "execution_count": 118,
   "outputs": [
    {
     "data": {
      "text/plain": "[{'id': 16, 'name': 'Animation'},\n {'id': 35, 'name': 'Comedy'},\n {'id': 10751, 'name': 'Family'}]"
     },
     "execution_count": 118,
     "metadata": {},
     "output_type": "execute_result"
    }
   ],
   "source": [
    "df.genres[0]"
   ],
   "metadata": {
    "collapsed": false,
    "ExecuteTime": {
     "end_time": "2023-07-10T23:51:18.138525Z",
     "start_time": "2023-07-10T23:51:18.056094600Z"
    }
   }
  },
  {
   "cell_type": "code",
   "execution_count": 119,
   "outputs": [],
   "source": [
    "df.genres = df.genres.apply(lambda x: \"|\".join(i['name'] for i in x))"
   ],
   "metadata": {
    "collapsed": false,
    "ExecuteTime": {
     "end_time": "2023-07-10T23:51:18.140527100Z",
     "start_time": "2023-07-10T23:51:18.070601200Z"
    }
   }
  },
  {
   "cell_type": "code",
   "execution_count": 120,
   "outputs": [
    {
     "data": {
      "text/plain": "0         Animation|Comedy|Family\n1        Adventure|Fantasy|Family\n2                  Romance|Comedy\n3            Comedy|Drama|Romance\n4                          Comedy\n                   ...           \n45461                Drama|Family\n45462                       Drama\n45463       Action|Drama|Thriller\n45464                            \n45465                            \nName: genres, Length: 45466, dtype: object"
     },
     "execution_count": 120,
     "metadata": {},
     "output_type": "execute_result"
    }
   ],
   "source": [
    "df.genres"
   ],
   "metadata": {
    "collapsed": false,
    "ExecuteTime": {
     "end_time": "2023-07-10T23:51:18.197674400Z",
     "start_time": "2023-07-10T23:51:18.120597600Z"
    }
   }
  },
  {
   "cell_type": "code",
   "execution_count": 121,
   "outputs": [
    {
     "data": {
      "text/plain": "Drama                   5000\nComedy                  3621\nDocumentary             2723\n                        2442\nDrama|Romance           1301\nComedy|Drama            1135\nHorror                   974\nComedy|Romance           930\nComedy|Drama|Romance     593\nDrama|Comedy             532\nHorror|Thriller          528\nDrama|Thriller           497\nThriller                 465\nCrime|Drama              430\nRomance|Drama            343\nWestern                  318\nAction|Thriller          301\nDrama|Foreign            283\nAction                   278\nDrama|History            267\nName: genres, dtype: int64"
     },
     "execution_count": 121,
     "metadata": {},
     "output_type": "execute_result"
    }
   ],
   "source": [
    "df.genres.value_counts(dropna=False).head(20)\n"
   ],
   "metadata": {
    "collapsed": false,
    "ExecuteTime": {
     "end_time": "2023-07-10T23:51:18.198677100Z",
     "start_time": "2023-07-10T23:51:18.140527100Z"
    }
   }
  },
  {
   "cell_type": "code",
   "execution_count": 122,
   "outputs": [],
   "source": [
    "df.genres.replace(\"\", np.nan, inplace=True)"
   ],
   "metadata": {
    "collapsed": false,
    "ExecuteTime": {
     "end_time": "2023-07-10T23:51:18.199677700Z",
     "start_time": "2023-07-10T23:51:18.150540700Z"
    }
   }
  },
  {
   "cell_type": "code",
   "execution_count": 123,
   "outputs": [
    {
     "data": {
      "text/plain": "0         Animation|Comedy|Family\n1        Adventure|Fantasy|Family\n2                  Romance|Comedy\n3            Comedy|Drama|Romance\n4                          Comedy\n                   ...           \n45461                Drama|Family\n45462                       Drama\n45463       Action|Drama|Thriller\n45464                         NaN\n45465                         NaN\nName: genres, Length: 45466, dtype: object"
     },
     "execution_count": 123,
     "metadata": {},
     "output_type": "execute_result"
    }
   ],
   "source": [
    "df.genres"
   ],
   "metadata": {
    "collapsed": false,
    "ExecuteTime": {
     "end_time": "2023-07-10T23:51:18.199677700Z",
     "start_time": "2023-07-10T23:51:18.167994700Z"
    }
   }
  },
  {
   "cell_type": "code",
   "execution_count": 124,
   "outputs": [
    {
     "data": {
      "text/plain": "Drama                   5000\nComedy                  3621\nDocumentary             2723\nNaN                     2442\nDrama|Romance           1301\nComedy|Drama            1135\nHorror                   974\nComedy|Romance           930\nComedy|Drama|Romance     593\nDrama|Comedy             532\nHorror|Thriller          528\nDrama|Thriller           497\nThriller                 465\nCrime|Drama              430\nRomance|Drama            343\nWestern                  318\nAction|Thriller          301\nDrama|Foreign            283\nAction                   278\nDrama|History            267\nName: genres, dtype: int64"
     },
     "execution_count": 124,
     "metadata": {},
     "output_type": "execute_result"
    }
   ],
   "source": [
    "df.genres.value_counts(dropna=False).head(20)\n"
   ],
   "metadata": {
    "collapsed": false,
    "ExecuteTime": {
     "end_time": "2023-07-10T23:51:18.200674600Z",
     "start_time": "2023-07-10T23:51:18.186502800Z"
    }
   }
  },
  {
   "cell_type": "code",
   "execution_count": 125,
   "outputs": [
    {
     "data": {
      "text/plain": "0                 [{'iso_639_1': 'en', 'name': 'English'}]\n1        [{'iso_639_1': 'en', 'name': 'English'}, {'iso...\n2                 [{'iso_639_1': 'en', 'name': 'English'}]\n3                 [{'iso_639_1': 'en', 'name': 'English'}]\n4                 [{'iso_639_1': 'en', 'name': 'English'}]\n                               ...                        \n45461               [{'iso_639_1': 'fa', 'name': 'فارسی'}]\n45462                    [{'iso_639_1': 'tl', 'name': ''}]\n45463             [{'iso_639_1': 'en', 'name': 'English'}]\n45464                                                   []\n45465             [{'iso_639_1': 'en', 'name': 'English'}]\nName: spoken_languages, Length: 45466, dtype: object"
     },
     "execution_count": 125,
     "metadata": {},
     "output_type": "execute_result"
    }
   ],
   "source": [
    "df.spoken_languages"
   ],
   "metadata": {
    "collapsed": false,
    "ExecuteTime": {
     "end_time": "2023-07-10T23:51:18.247442800Z",
     "start_time": "2023-07-10T23:51:18.196591300Z"
    }
   }
  },
  {
   "cell_type": "code",
   "execution_count": 126,
   "outputs": [],
   "source": [
    "df.spoken_languages = df.spoken_languages.apply(lambda x: \"|\".join(i['name'] for i in x) if isinstance(x, list) else np.nan)"
   ],
   "metadata": {
    "collapsed": false,
    "ExecuteTime": {
     "end_time": "2023-07-10T23:51:18.345088400Z",
     "start_time": "2023-07-10T23:51:18.215914400Z"
    }
   }
  },
  {
   "cell_type": "code",
   "execution_count": 127,
   "outputs": [
    {
     "data": {
      "text/plain": "0                 English\n1        English|Français\n2                 English\n3                 English\n4                 English\n               ...       \n45461               فارسی\n45462                    \n45463             English\n45464                    \n45465             English\nName: spoken_languages, Length: 45466, dtype: object"
     },
     "execution_count": 127,
     "metadata": {},
     "output_type": "execute_result"
    }
   ],
   "source": [
    "df.spoken_languages"
   ],
   "metadata": {
    "collapsed": false,
    "ExecuteTime": {
     "end_time": "2023-07-10T23:51:18.345088400Z",
     "start_time": "2023-07-10T23:51:18.259956200Z"
    }
   }
  },
  {
   "cell_type": "code",
   "execution_count": 128,
   "outputs": [
    {
     "data": {
      "text/plain": "English             22395\n                     3952\nFrançais             1853\n日本語                  1289\nItaliano             1218\nEspañol               902\nPусский               807\nDeutsch               762\nEnglish|Français      681\nEnglish|Español       572\nहिन्दी                481\nEnglish|Deutsch       462\n한국어/조선말               425\n普通话                   347\nEnglish|Italiano      326\nsvenska               311\nNo Language           303\nsuomi                 275\nPortuguês             275\nPolski                213\nName: spoken_languages, dtype: int64"
     },
     "execution_count": 128,
     "metadata": {},
     "output_type": "execute_result"
    }
   ],
   "source": [
    "df.spoken_languages.value_counts(dropna=False).head(20)"
   ],
   "metadata": {
    "collapsed": false,
    "ExecuteTime": {
     "end_time": "2023-07-10T23:51:18.346591500Z",
     "start_time": "2023-07-10T23:51:18.280970500Z"
    }
   }
  },
  {
   "cell_type": "code",
   "execution_count": 129,
   "outputs": [],
   "source": [
    "df.spoken_languages.replace(\"\", np.nan, inplace=True)"
   ],
   "metadata": {
    "collapsed": false,
    "ExecuteTime": {
     "end_time": "2023-07-10T23:51:18.346591500Z",
     "start_time": "2023-07-10T23:51:18.291478500Z"
    }
   }
  },
  {
   "cell_type": "code",
   "execution_count": 130,
   "outputs": [
    {
     "data": {
      "text/plain": "0        [{'iso_3166_1': 'US', 'name': 'United States o...\n1        [{'iso_3166_1': 'US', 'name': 'United States o...\n2        [{'iso_3166_1': 'US', 'name': 'United States o...\n3        [{'iso_3166_1': 'US', 'name': 'United States o...\n4        [{'iso_3166_1': 'US', 'name': 'United States o...\n                               ...                        \n45461               [{'iso_3166_1': 'IR', 'name': 'Iran'}]\n45462        [{'iso_3166_1': 'PH', 'name': 'Philippines'}]\n45463    [{'iso_3166_1': 'US', 'name': 'United States o...\n45464             [{'iso_3166_1': 'RU', 'name': 'Russia'}]\n45465     [{'iso_3166_1': 'GB', 'name': 'United Kingdom'}]\nName: production_countries, Length: 45466, dtype: object"
     },
     "execution_count": 130,
     "metadata": {},
     "output_type": "execute_result"
    }
   ],
   "source": [
    "df.production_countries"
   ],
   "metadata": {
    "collapsed": false,
    "ExecuteTime": {
     "end_time": "2023-07-10T23:51:18.346591500Z",
     "start_time": "2023-07-10T23:51:18.311526800Z"
    }
   }
  },
  {
   "cell_type": "code",
   "execution_count": 131,
   "outputs": [],
   "source": [
    "df.production_countries = df.production_countries.apply(\n",
    "    lambda x: \"|\".join(i['name'] for i in x) if isinstance(x, list) else np.nan)"
   ],
   "metadata": {
    "collapsed": false,
    "ExecuteTime": {
     "end_time": "2023-07-10T23:51:18.467116800Z",
     "start_time": "2023-07-10T23:51:18.323064900Z"
    }
   }
  },
  {
   "cell_type": "code",
   "execution_count": 132,
   "outputs": [
    {
     "data": {
      "text/plain": "United States of America                   17851\n                                            6282\nUnited Kingdom                              2238\nFrance                                      1654\nJapan                                       1356\nItaly                                       1030\nCanada                                       840\nGermany                                      749\nIndia                                        735\nRussia                                       735\nUnited Kingdom|United States of America      569\nSouth Korea                                  432\nSpain                                        398\nHong Kong                                    365\nCanada|United States of America              365\nAustralia                                    336\nSweden                                       332\nFinland                                      271\nFrance|Italy                                 235\nGermany|United States of America             214\nName: production_countries, dtype: int64"
     },
     "execution_count": 132,
     "metadata": {},
     "output_type": "execute_result"
    }
   ],
   "source": [
    "df.production_countries.value_counts(dropna = False).head(20)"
   ],
   "metadata": {
    "collapsed": false,
    "ExecuteTime": {
     "end_time": "2023-07-10T23:51:18.468042500Z",
     "start_time": "2023-07-10T23:51:18.370709900Z"
    }
   }
  },
  {
   "cell_type": "code",
   "execution_count": 133,
   "outputs": [],
   "source": [
    "df.production_countries.replace(\"\", np.nan, inplace = True)"
   ],
   "metadata": {
    "collapsed": false,
    "ExecuteTime": {
     "end_time": "2023-07-10T23:51:18.469042100Z",
     "start_time": "2023-07-10T23:51:18.386194Z"
    }
   }
  },
  {
   "cell_type": "code",
   "execution_count": 134,
   "outputs": [
    {
     "data": {
      "text/plain": "0           [{'name': 'Pixar Animation Studios', 'id': 3}]\n1        [{'name': 'TriStar Pictures', 'id': 559}, {'na...\n2        [{'name': 'Warner Bros.', 'id': 6194}, {'name'...\n3        [{'name': 'Twentieth Century Fox Film Corporat...\n4        [{'name': 'Sandollar Productions', 'id': 5842}...\n                               ...                        \n45461                                                   []\n45462               [{'name': 'Sine Olivia', 'id': 19653}]\n45463    [{'name': 'American World Pictures', 'id': 6165}]\n45464                 [{'name': 'Yermoliev', 'id': 88753}]\n45465                                                   []\nName: production_companies, Length: 45466, dtype: object"
     },
     "execution_count": 134,
     "metadata": {},
     "output_type": "execute_result"
    }
   ],
   "source": [
    "df.production_companies"
   ],
   "metadata": {
    "collapsed": false,
    "ExecuteTime": {
     "end_time": "2023-07-10T23:51:18.469042100Z",
     "start_time": "2023-07-10T23:51:18.402212200Z"
    }
   }
  },
  {
   "cell_type": "code",
   "execution_count": 135,
   "outputs": [],
   "source": [
    "df.production_companies = df.production_companies.apply(\n",
    "    lambda x: \"|\".join(i['name'] for i in x) if isinstance(x, list) else np.nan)"
   ],
   "metadata": {
    "collapsed": false,
    "ExecuteTime": {
     "end_time": "2023-07-10T23:51:18.470041500Z",
     "start_time": "2023-07-10T23:51:18.419212900Z"
    }
   }
  },
  {
   "cell_type": "code",
   "execution_count": 136,
   "outputs": [],
   "source": [
    "df.production_companies.value_counts(dropna=False).head(20)\n",
    "df.production_companies.replace(\"\", np.nan, inplace=True)"
   ],
   "metadata": {
    "collapsed": false,
    "ExecuteTime": {
     "end_time": "2023-07-10T23:51:18.537247600Z",
     "start_time": "2023-07-10T23:51:18.464504400Z"
    }
   }
  },
  {
   "cell_type": "code",
   "execution_count": 137,
   "outputs": [
    {
     "data": {
      "text/plain": "belongs_to_collection    40975\nbudget                       0\ngenres                    2442\nid                           0\noriginal_language           11\noverview                   954\npopularity                   5\nposter_path                386\nproduction_companies     11881\nproduction_countries      6288\nrelease_date                87\nrevenue                      6\nruntime                    263\nspoken_languages          3958\nstatus                      87\ntagline                  25054\ntitle                        6\nvote_average                 6\nvote_count                   6\ndtype: int64"
     },
     "execution_count": 137,
     "metadata": {},
     "output_type": "execute_result"
    }
   ],
   "source": [
    "df.isna().sum()"
   ],
   "metadata": {
    "collapsed": false,
    "ExecuteTime": {
     "end_time": "2023-07-10T23:51:18.613403200Z",
     "start_time": "2023-07-10T23:51:18.480551900Z"
    }
   }
  },
  {
   "cell_type": "code",
   "execution_count": 138,
   "outputs": [
    {
     "data": {
      "text/plain": "adult                        0\nbelongs_to_collection    40972\nbudget                       0\ngenres                       0\nhomepage                 37684\nid                           0\nimdb_id                     17\noriginal_language           11\noriginal_title               0\noverview                   954\npopularity                   5\nposter_path                386\nproduction_companies         3\nproduction_countries         3\nrelease_date                87\nrevenue                      6\nruntime                    263\nspoken_languages             6\nstatus                      87\ntagline                  25054\ntitle                        6\nvideo                        6\nvote_average                 6\nvote_count                   6\ndtype: int64"
     },
     "execution_count": 138,
     "metadata": {},
     "output_type": "execute_result"
    }
   ],
   "source": [
    "pd.read_csv(\"movies_metadata.csv\", low_memory=False).isna().sum()"
   ],
   "metadata": {
    "collapsed": false,
    "ExecuteTime": {
     "end_time": "2023-07-10T23:51:19.251574400Z",
     "start_time": "2023-07-10T23:51:18.575248500Z"
    }
   }
  },
  {
   "cell_type": "markdown",
   "metadata": {},
   "source": [
    "## Cleaning Numerical Columns"
   ]
  },
  {
   "cell_type": "markdown",
   "metadata": {},
   "source": [
    "10. __Convert__ the datatype in the columns __\"budget\"__, __\"id\"__ and __\"popularity\"__ __to numeric__. Set invalid values as NaN."
   ]
  },
  {
   "cell_type": "markdown",
   "metadata": {},
   "source": [
    "11. __Analyze__ the columns __\"budget\"__ and __\"revenue\"__ and __\"runtime\"__. Analyze movies with a budget/revenue/runtime of 0. Do you think the value 0 is the most appropriate value? __Take reasonable measures__! "
   ]
  },
  {
   "cell_type": "markdown",
   "metadata": {},
   "source": [
    "12. The columns \"budget\" and \"revenue\" shall show values in Million USD. __Convert and Overwrite__!"
   ]
  },
  {
   "cell_type": "markdown",
   "metadata": {},
   "source": [
    "13. __Analyze__ movies with a __vote_count of 0__. What´s the __vote_average__ for those movies? Do you think this value is the most appropriate value? __Take reasonable measures__!"
   ]
  },
  {
   "cell_type": "code",
   "execution_count": 139,
   "metadata": {
    "ExecuteTime": {
     "end_time": "2023-07-10T23:51:19.328647900Z",
     "start_time": "2023-07-10T23:51:19.234066600Z"
    }
   },
   "outputs": [
    {
     "name": "stdout",
     "output_type": "stream",
     "text": [
      "<class 'pandas.core.frame.DataFrame'>\n",
      "RangeIndex: 45466 entries, 0 to 45465\n",
      "Data columns (total 19 columns):\n",
      " #   Column                 Non-Null Count  Dtype  \n",
      "---  ------                 --------------  -----  \n",
      " 0   belongs_to_collection  4491 non-null   object \n",
      " 1   budget                 45466 non-null  object \n",
      " 2   genres                 43024 non-null  object \n",
      " 3   id                     45466 non-null  object \n",
      " 4   original_language      45455 non-null  object \n",
      " 5   overview               44512 non-null  object \n",
      " 6   popularity             45461 non-null  object \n",
      " 7   poster_path            45080 non-null  object \n",
      " 8   production_companies   33585 non-null  object \n",
      " 9   production_countries   39178 non-null  object \n",
      " 10  release_date           45379 non-null  object \n",
      " 11  revenue                45460 non-null  float64\n",
      " 12  runtime                45203 non-null  float64\n",
      " 13  spoken_languages       41508 non-null  object \n",
      " 14  status                 45379 non-null  object \n",
      " 15  tagline                20412 non-null  object \n",
      " 16  title                  45460 non-null  object \n",
      " 17  vote_average           45460 non-null  float64\n",
      " 18  vote_count             45460 non-null  float64\n",
      "dtypes: float64(4), object(15)\n",
      "memory usage: 6.6+ MB\n"
     ]
    }
   ],
   "source": [
    "df.info()"
   ]
  },
  {
   "cell_type": "code",
   "execution_count": 140,
   "outputs": [
    {
     "data": {
      "text/plain": "0        30000000.0\n1        65000000.0\n2               0.0\n3        16000000.0\n4               0.0\n            ...    \n45461           0.0\n45462           0.0\n45463           0.0\n45464           0.0\n45465           0.0\nName: budget, Length: 45466, dtype: float64"
     },
     "execution_count": 140,
     "metadata": {},
     "output_type": "execute_result"
    }
   ],
   "source": [
    "# df.budget.astype('float')\n",
    "# pd.to_numeric(df.budget)\n",
    "pd.to_numeric(df.budget, errors=\"coerce\")"
   ],
   "metadata": {
    "collapsed": false,
    "ExecuteTime": {
     "end_time": "2023-07-10T23:51:19.373239100Z",
     "start_time": "2023-07-10T23:51:19.313631400Z"
    }
   }
  },
  {
   "cell_type": "code",
   "execution_count": 141,
   "outputs": [],
   "source": [
    "df.budget = pd.to_numeric(df.budget, errors=\"coerce\")"
   ],
   "metadata": {
    "collapsed": false,
    "ExecuteTime": {
     "end_time": "2023-07-10T23:51:19.396262600Z",
     "start_time": "2023-07-10T23:51:19.343652800Z"
    }
   }
  },
  {
   "cell_type": "code",
   "execution_count": 142,
   "outputs": [
    {
     "data": {
      "text/plain": "0.0           36573\n5000000.0       286\n10000000.0      259\n20000000.0      243\n2000000.0       242\n              ...  \n9750000.0         1\n7275000.0         1\n78146652.0        1\n280.0             1\n1254040.0         1\nName: budget, Length: 1224, dtype: int64"
     },
     "execution_count": 142,
     "metadata": {},
     "output_type": "execute_result"
    }
   ],
   "source": [
    "df.budget.value_counts(dropna=False)"
   ],
   "metadata": {
    "collapsed": false,
    "ExecuteTime": {
     "end_time": "2023-07-10T23:51:19.446803300Z",
     "start_time": "2023-07-10T23:51:19.376176200Z"
    }
   }
  },
  {
   "cell_type": "code",
   "execution_count": 143,
   "outputs": [],
   "source": [
    "df.budget = df.budget.replace(0, np.nan)"
   ],
   "metadata": {
    "collapsed": false,
    "ExecuteTime": {
     "end_time": "2023-07-10T23:51:19.446803300Z",
     "start_time": "2023-07-10T23:51:19.408773Z"
    }
   }
  },
  {
   "cell_type": "code",
   "execution_count": 144,
   "outputs": [],
   "source": [
    "df.budget = df.budget.div(1000000)"
   ],
   "metadata": {
    "collapsed": false,
    "ExecuteTime": {
     "end_time": "2023-07-10T23:51:19.446803300Z",
     "start_time": "2023-07-10T23:51:19.423281300Z"
    }
   }
  },
  {
   "cell_type": "code",
   "execution_count": 145,
   "outputs": [
    {
     "name": "stdout",
     "output_type": "stream",
     "text": [
      "<class 'pandas.core.frame.DataFrame'>\n",
      "RangeIndex: 45466 entries, 0 to 45465\n",
      "Data columns (total 19 columns):\n",
      " #   Column                 Non-Null Count  Dtype  \n",
      "---  ------                 --------------  -----  \n",
      " 0   belongs_to_collection  4491 non-null   object \n",
      " 1   budget                 8890 non-null   float64\n",
      " 2   genres                 43024 non-null  object \n",
      " 3   id                     45466 non-null  object \n",
      " 4   original_language      45455 non-null  object \n",
      " 5   overview               44512 non-null  object \n",
      " 6   popularity             45461 non-null  object \n",
      " 7   poster_path            45080 non-null  object \n",
      " 8   production_companies   33585 non-null  object \n",
      " 9   production_countries   39178 non-null  object \n",
      " 10  release_date           45379 non-null  object \n",
      " 11  revenue                45460 non-null  float64\n",
      " 12  runtime                45203 non-null  float64\n",
      " 13  spoken_languages       41508 non-null  object \n",
      " 14  status                 45379 non-null  object \n",
      " 15  tagline                20412 non-null  object \n",
      " 16  title                  45460 non-null  object \n",
      " 17  vote_average           45460 non-null  float64\n",
      " 18  vote_count             45460 non-null  float64\n",
      "dtypes: float64(5), object(14)\n",
      "memory usage: 6.6+ MB\n"
     ]
    }
   ],
   "source": [
    "df.info()"
   ],
   "metadata": {
    "collapsed": false,
    "ExecuteTime": {
     "end_time": "2023-07-10T23:51:19.527925300Z",
     "start_time": "2023-07-10T23:51:19.439300500Z"
    }
   }
  },
  {
   "cell_type": "code",
   "execution_count": 146,
   "outputs": [
    {
     "data": {
      "text/plain": "0.0           38052\n12000000.0       20\n10000000.0       19\n11000000.0       19\n2000000.0        18\n              ...  \n36565280.0        1\n439564.0          1\n35610100.0        1\n10217873.0        1\n1413000.0         1\nName: revenue, Length: 6864, dtype: int64"
     },
     "execution_count": 146,
     "metadata": {},
     "output_type": "execute_result"
    }
   ],
   "source": [
    "df.revenue.value_counts(dropna=False)"
   ],
   "metadata": {
    "collapsed": false,
    "ExecuteTime": {
     "end_time": "2023-07-10T23:51:19.549943900Z",
     "start_time": "2023-07-10T23:51:19.518414400Z"
    }
   }
  },
  {
   "cell_type": "code",
   "execution_count": 147,
   "outputs": [],
   "source": [
    "df.revenue = df.revenue.replace(0, np.nan)\n",
    "df.revenue = df.revenue.div(1000000)"
   ],
   "metadata": {
    "collapsed": false,
    "ExecuteTime": {
     "end_time": "2023-07-10T23:51:19.551448600Z",
     "start_time": "2023-07-10T23:51:19.534436700Z"
    }
   }
  },
  {
   "cell_type": "code",
   "execution_count": 148,
   "outputs": [],
   "source": [
    "df.rename(columns= {\"revenue\": \"revenue_musd\", \"budget\": \"budget_musd\"}, inplace=True)"
   ],
   "metadata": {
    "collapsed": false,
    "ExecuteTime": {
     "end_time": "2023-07-10T23:51:19.608667800Z",
     "start_time": "2023-07-10T23:51:19.549943900Z"
    }
   }
  },
  {
   "cell_type": "code",
   "execution_count": 149,
   "outputs": [
    {
     "name": "stdout",
     "output_type": "stream",
     "text": [
      "<class 'pandas.core.frame.DataFrame'>\n",
      "RangeIndex: 45466 entries, 0 to 45465\n",
      "Data columns (total 19 columns):\n",
      " #   Column                 Non-Null Count  Dtype  \n",
      "---  ------                 --------------  -----  \n",
      " 0   belongs_to_collection  4491 non-null   object \n",
      " 1   budget_musd            8890 non-null   float64\n",
      " 2   genres                 43024 non-null  object \n",
      " 3   id                     45466 non-null  object \n",
      " 4   original_language      45455 non-null  object \n",
      " 5   overview               44512 non-null  object \n",
      " 6   popularity             45461 non-null  object \n",
      " 7   poster_path            45080 non-null  object \n",
      " 8   production_companies   33585 non-null  object \n",
      " 9   production_countries   39178 non-null  object \n",
      " 10  release_date           45379 non-null  object \n",
      " 11  revenue_musd           7408 non-null   float64\n",
      " 12  runtime                45203 non-null  float64\n",
      " 13  spoken_languages       41508 non-null  object \n",
      " 14  status                 45379 non-null  object \n",
      " 15  tagline                20412 non-null  object \n",
      " 16  title                  45460 non-null  object \n",
      " 17  vote_average           45460 non-null  float64\n",
      " 18  vote_count             45460 non-null  float64\n",
      "dtypes: float64(5), object(14)\n",
      "memory usage: 6.6+ MB\n"
     ]
    }
   ],
   "source": [
    "df.info()"
   ],
   "metadata": {
    "collapsed": false,
    "ExecuteTime": {
     "end_time": "2023-07-10T23:51:19.690512100Z",
     "start_time": "2023-07-10T23:51:19.566121800Z"
    }
   }
  },
  {
   "cell_type": "markdown",
   "metadata": {},
   "source": [
    "## Cleaning DateTime Columns"
   ]
  },
  {
   "cell_type": "markdown",
   "metadata": {},
   "source": [
    "14. __Convert__ the datatype in the column __\"release_date\"__ __to datetime__. Set invalid values as NaN."
   ]
  },
  {
   "cell_type": "code",
   "execution_count": 150,
   "metadata": {
    "ExecuteTime": {
     "end_time": "2023-07-10T23:51:19.691511300Z",
     "start_time": "2023-07-10T23:51:19.658947700Z"
    }
   },
   "outputs": [
    {
     "data": {
      "text/plain": "90.0     2556\n0.0      1558\n100.0    1470\n95.0     1412\n93.0     1214\n96.0     1104\n92.0     1080\n94.0     1062\n91.0     1057\n88.0     1032\n97.0     1027\n85.0     1024\n98.0     1019\n105.0    1002\n89.0      958\n87.0      919\n110.0     850\n86.0      846\n99.0      794\n102.0     791\nName: runtime, dtype: int64"
     },
     "execution_count": 150,
     "metadata": {},
     "output_type": "execute_result"
    }
   ],
   "source": [
    "df.runtime.value_counts(dropna=False).head(20)"
   ]
  },
  {
   "cell_type": "code",
   "execution_count": 151,
   "outputs": [],
   "source": [
    "df.runtime = df.runtime.replace(0, np.nan)"
   ],
   "metadata": {
    "collapsed": false,
    "ExecuteTime": {
     "end_time": "2023-07-10T23:51:19.691511300Z",
     "start_time": "2023-07-10T23:51:19.674488300Z"
    }
   }
  },
  {
   "cell_type": "code",
   "execution_count": 152,
   "outputs": [
    {
     "data": {
      "text/plain": "90.0     2556\nNaN      1821\n100.0    1470\n95.0     1412\n93.0     1214\n96.0     1104\n92.0     1080\n94.0     1062\n91.0     1057\n88.0     1032\n97.0     1027\n85.0     1024\n98.0     1019\n105.0    1002\n89.0      958\n87.0      919\n110.0     850\n86.0      846\n99.0      794\n102.0     791\nName: runtime, dtype: int64"
     },
     "execution_count": 152,
     "metadata": {},
     "output_type": "execute_result"
    }
   ],
   "source": [
    "df.runtime.value_counts(dropna=False).head(20)"
   ],
   "metadata": {
    "collapsed": false,
    "ExecuteTime": {
     "end_time": "2023-07-10T23:51:19.705020300Z",
     "start_time": "2023-07-10T23:51:19.690512100Z"
    }
   }
  },
  {
   "cell_type": "code",
   "execution_count": 153,
   "outputs": [
    {
     "name": "stdout",
     "output_type": "stream",
     "text": [
      "<class 'pandas.core.frame.DataFrame'>\n",
      "RangeIndex: 45466 entries, 0 to 45465\n",
      "Data columns (total 19 columns):\n",
      " #   Column                 Non-Null Count  Dtype  \n",
      "---  ------                 --------------  -----  \n",
      " 0   belongs_to_collection  4491 non-null   object \n",
      " 1   budget_musd            8890 non-null   float64\n",
      " 2   genres                 43024 non-null  object \n",
      " 3   id                     45466 non-null  object \n",
      " 4   original_language      45455 non-null  object \n",
      " 5   overview               44512 non-null  object \n",
      " 6   popularity             45461 non-null  object \n",
      " 7   poster_path            45080 non-null  object \n",
      " 8   production_companies   33585 non-null  object \n",
      " 9   production_countries   39178 non-null  object \n",
      " 10  release_date           45379 non-null  object \n",
      " 11  revenue_musd           7408 non-null   float64\n",
      " 12  runtime                43645 non-null  float64\n",
      " 13  spoken_languages       41508 non-null  object \n",
      " 14  status                 45379 non-null  object \n",
      " 15  tagline                20412 non-null  object \n",
      " 16  title                  45460 non-null  object \n",
      " 17  vote_average           45460 non-null  float64\n",
      " 18  vote_count             45460 non-null  float64\n",
      "dtypes: float64(5), object(14)\n",
      "memory usage: 6.6+ MB\n"
     ]
    }
   ],
   "source": [
    "df.info()"
   ],
   "metadata": {
    "collapsed": false,
    "ExecuteTime": {
     "end_time": "2023-07-10T23:51:19.807884400Z",
     "start_time": "2023-07-10T23:51:19.706019800Z"
    }
   }
  },
  {
   "cell_type": "code",
   "execution_count": 154,
   "outputs": [],
   "source": [
    "# pd.to_numeric(df.id)\n",
    "df.id = pd.to_numeric(df.id, errors=\"coerce\")"
   ],
   "metadata": {
    "collapsed": false,
    "ExecuteTime": {
     "end_time": "2023-07-10T23:51:19.827983400Z",
     "start_time": "2023-07-10T23:51:19.784817600Z"
    }
   }
  },
  {
   "cell_type": "code",
   "execution_count": 155,
   "outputs": [
    {
     "data": {
      "text/plain": "NaN         3\n141971.0    3\n11115.0     2\n25541.0     2\n15028.0     2\n132641.0    2\n84198.0     2\n13209.0     2\n77221.0     2\n152795.0    2\n12600.0     2\n10991.0     2\n42495.0     2\n14788.0     2\n18440.0     2\n168538.0    2\n105045.0    2\n159849.0    2\n22649.0     2\n4912.0      2\nName: id, dtype: int64"
     },
     "execution_count": 155,
     "metadata": {},
     "output_type": "execute_result"
    }
   ],
   "source": [
    "df.id.value_counts(dropna=False).head(20)"
   ],
   "metadata": {
    "collapsed": false,
    "ExecuteTime": {
     "end_time": "2023-07-10T23:51:19.876691300Z",
     "start_time": "2023-07-10T23:51:19.816412600Z"
    }
   }
  },
  {
   "cell_type": "code",
   "execution_count": 156,
   "outputs": [
    {
     "name": "stdout",
     "output_type": "stream",
     "text": [
      "<class 'pandas.core.frame.DataFrame'>\n",
      "RangeIndex: 45466 entries, 0 to 45465\n",
      "Data columns (total 19 columns):\n",
      " #   Column                 Non-Null Count  Dtype  \n",
      "---  ------                 --------------  -----  \n",
      " 0   belongs_to_collection  4491 non-null   object \n",
      " 1   budget_musd            8890 non-null   float64\n",
      " 2   genres                 43024 non-null  object \n",
      " 3   id                     45463 non-null  float64\n",
      " 4   original_language      45455 non-null  object \n",
      " 5   overview               44512 non-null  object \n",
      " 6   popularity             45461 non-null  object \n",
      " 7   poster_path            45080 non-null  object \n",
      " 8   production_companies   33585 non-null  object \n",
      " 9   production_countries   39178 non-null  object \n",
      " 10  release_date           45379 non-null  object \n",
      " 11  revenue_musd           7408 non-null   float64\n",
      " 12  runtime                43645 non-null  float64\n",
      " 13  spoken_languages       41508 non-null  object \n",
      " 14  status                 45379 non-null  object \n",
      " 15  tagline                20412 non-null  object \n",
      " 16  title                  45460 non-null  object \n",
      " 17  vote_average           45460 non-null  float64\n",
      " 18  vote_count             45460 non-null  float64\n",
      "dtypes: float64(6), object(13)\n",
      "memory usage: 6.6+ MB\n"
     ]
    }
   ],
   "source": [
    "df.info()"
   ],
   "metadata": {
    "collapsed": false,
    "ExecuteTime": {
     "end_time": "2023-07-10T23:51:19.926647600Z",
     "start_time": "2023-07-10T23:51:19.848089600Z"
    }
   }
  },
  {
   "cell_type": "code",
   "execution_count": 157,
   "outputs": [
    {
     "data": {
      "text/plain": "0        21.946943\n1        17.015539\n2          11.7129\n3         3.859495\n4         8.387519\n           ...    \n45461     0.072051\n45462     0.178241\n45463     0.903007\n45464     0.003503\n45465     0.163015\nName: popularity, Length: 45466, dtype: object"
     },
     "execution_count": 157,
     "metadata": {},
     "output_type": "execute_result"
    }
   ],
   "source": [
    "df.popularity"
   ],
   "metadata": {
    "collapsed": false,
    "ExecuteTime": {
     "end_time": "2023-07-10T23:51:19.947665300Z",
     "start_time": "2023-07-10T23:51:19.927647200Z"
    }
   }
  },
  {
   "cell_type": "code",
   "execution_count": 158,
   "outputs": [],
   "source": [
    "# pd.to_numeric(df.popularity)\n",
    "df.popularity = pd.to_numeric(df.popularity, errors=\"coerce\")"
   ],
   "metadata": {
    "collapsed": false,
    "ExecuteTime": {
     "end_time": "2023-07-10T23:51:19.986159800Z",
     "start_time": "2023-07-10T23:51:19.948666200Z"
    }
   }
  },
  {
   "cell_type": "code",
   "execution_count": 159,
   "outputs": [
    {
     "data": {
      "text/plain": "0.000000    66\n0.000001    56\n0.000308    43\n0.000220    40\n0.000844    38\nName: popularity, dtype: int64"
     },
     "execution_count": 159,
     "metadata": {},
     "output_type": "execute_result"
    }
   ],
   "source": [
    "df.popularity.value_counts(dropna=False).head()"
   ],
   "metadata": {
    "collapsed": false,
    "ExecuteTime": {
     "end_time": "2023-07-10T23:51:20.007181500Z",
     "start_time": "2023-07-10T23:51:19.958578300Z"
    }
   }
  },
  {
   "cell_type": "code",
   "execution_count": 160,
   "outputs": [
    {
     "data": {
      "text/plain": "1.0     3264\n2.0     3132\n0.0     2899\n3.0     2787\n4.0     2480\n5.0     2097\n6.0     1747\n7.0     1570\n8.0     1359\n9.0     1194\n10.0    1171\n11.0     944\n12.0     859\n13.0     733\n14.0     700\n15.0     674\n16.0     601\n17.0     554\n18.0     497\n20.0     463\nName: vote_count, dtype: int64"
     },
     "execution_count": 160,
     "metadata": {},
     "output_type": "execute_result"
    }
   ],
   "source": [
    "df.vote_count.value_counts(dropna=False).head(20)"
   ],
   "metadata": {
    "collapsed": false,
    "ExecuteTime": {
     "end_time": "2023-07-10T23:51:20.008181700Z",
     "start_time": "2023-07-10T23:51:19.973654300Z"
    }
   }
  },
  {
   "cell_type": "code",
   "execution_count": 161,
   "outputs": [
    {
     "data": {
      "text/plain": "0.0    2998\n6.0    2468\n5.0    2001\n7.0    1886\n6.5    1722\n6.3    1603\n5.5    1381\n5.8    1369\n6.4    1350\n6.7    1342\n6.8    1324\n6.1    1281\n6.6    1263\n6.2    1253\n5.9    1196\n5.3    1082\n5.7    1046\n6.9    1037\n5.6    1006\n7.3    1000\nName: vote_average, dtype: int64"
     },
     "execution_count": 161,
     "metadata": {},
     "output_type": "execute_result"
    }
   ],
   "source": [
    "df.vote_average.value_counts(dropna=False).head(20)"
   ],
   "metadata": {
    "collapsed": false,
    "ExecuteTime": {
     "end_time": "2023-07-10T23:51:20.009181100Z",
     "start_time": "2023-07-10T23:51:19.989162700Z"
    }
   }
  },
  {
   "cell_type": "code",
   "execution_count": 162,
   "outputs": [
    {
     "data": {
      "text/plain": "83       0.0\n107      0.0\n126      0.0\n132      0.0\n137      0.0\n        ... \n45432    0.0\n45434    0.0\n45452    0.0\n45464    0.0\n45465    0.0\nName: vote_average, Length: 2899, dtype: float64"
     },
     "execution_count": 162,
     "metadata": {},
     "output_type": "execute_result"
    }
   ],
   "source": [
    "df.loc[df.vote_count == 0, \"vote_average\"]"
   ],
   "metadata": {
    "collapsed": false,
    "ExecuteTime": {
     "end_time": "2023-07-10T23:51:20.066837200Z",
     "start_time": "2023-07-10T23:51:20.006181200Z"
    }
   }
  },
  {
   "cell_type": "code",
   "execution_count": 163,
   "outputs": [],
   "source": [
    "df.loc[df.vote_count == 0, \"vote_average\"] = np.nan"
   ],
   "metadata": {
    "collapsed": false,
    "ExecuteTime": {
     "end_time": "2023-07-10T23:51:20.068837300Z",
     "start_time": "2023-07-10T23:51:20.021687500Z"
    }
   }
  },
  {
   "cell_type": "code",
   "execution_count": 164,
   "outputs": [
    {
     "name": "stdout",
     "output_type": "stream",
     "text": [
      "<class 'pandas.core.frame.DataFrame'>\n",
      "RangeIndex: 45466 entries, 0 to 45465\n",
      "Data columns (total 19 columns):\n",
      " #   Column                 Non-Null Count  Dtype  \n",
      "---  ------                 --------------  -----  \n",
      " 0   belongs_to_collection  4491 non-null   object \n",
      " 1   budget_musd            8890 non-null   float64\n",
      " 2   genres                 43024 non-null  object \n",
      " 3   id                     45463 non-null  float64\n",
      " 4   original_language      45455 non-null  object \n",
      " 5   overview               44512 non-null  object \n",
      " 6   popularity             45460 non-null  float64\n",
      " 7   poster_path            45080 non-null  object \n",
      " 8   production_companies   33585 non-null  object \n",
      " 9   production_countries   39178 non-null  object \n",
      " 10  release_date           45379 non-null  object \n",
      " 11  revenue_musd           7408 non-null   float64\n",
      " 12  runtime                43645 non-null  float64\n",
      " 13  spoken_languages       41508 non-null  object \n",
      " 14  status                 45379 non-null  object \n",
      " 15  tagline                20412 non-null  object \n",
      " 16  title                  45460 non-null  object \n",
      " 17  vote_average           42561 non-null  float64\n",
      " 18  vote_count             45460 non-null  float64\n",
      "dtypes: float64(7), object(12)\n",
      "memory usage: 6.6+ MB\n"
     ]
    }
   ],
   "source": [
    "df.info()"
   ],
   "metadata": {
    "collapsed": false,
    "ExecuteTime": {
     "end_time": "2023-07-10T23:51:20.115869300Z",
     "start_time": "2023-07-10T23:51:20.036706100Z"
    }
   }
  },
  {
   "cell_type": "code",
   "execution_count": 165,
   "outputs": [
    {
     "data": {
      "text/plain": "0        1995-10-30\n1        1995-12-15\n2        1995-12-22\n3        1995-12-22\n4        1995-02-10\n            ...    \n45461           NaN\n45462    2011-11-17\n45463    2003-08-01\n45464    1917-10-21\n45465    2017-06-09\nName: release_date, Length: 45466, dtype: object"
     },
     "execution_count": 165,
     "metadata": {},
     "output_type": "execute_result"
    }
   ],
   "source": [
    "df.release_date"
   ],
   "metadata": {
    "collapsed": false,
    "ExecuteTime": {
     "end_time": "2023-07-10T23:51:20.117372700Z",
     "start_time": "2023-07-10T23:51:20.101363100Z"
    }
   }
  },
  {
   "cell_type": "code",
   "execution_count": 166,
   "outputs": [],
   "source": [
    "# pd.to_datetime(df.release_date)\n",
    "df.release_date = pd.to_datetime(df.release_date, errors=\"coerce\")"
   ],
   "metadata": {
    "collapsed": false,
    "ExecuteTime": {
     "end_time": "2023-07-10T23:51:20.189931Z",
     "start_time": "2023-07-10T23:51:20.114869Z"
    }
   }
  },
  {
   "cell_type": "code",
   "execution_count": 167,
   "outputs": [
    {
     "data": {
      "text/plain": "2008-01-01    136\n2009-01-01    121\n2007-01-01    118\n2005-01-01    111\n2006-01-01    101\n2002-01-01     96\n2004-01-01     90\nNaT            90\n2001-01-01     84\n2003-01-01     76\n1997-01-01     69\n2010-01-01     68\n1998-01-01     67\n1999-01-01     67\n2000-01-01     64\n1987-01-01     63\n1988-01-01     63\n1994-01-01     61\n1989-01-01     60\n2011-01-01     56\nName: release_date, dtype: int64"
     },
     "execution_count": 167,
     "metadata": {},
     "output_type": "execute_result"
    }
   ],
   "source": [
    "df.release_date.value_counts(dropna=False).head(20)"
   ],
   "metadata": {
    "collapsed": false,
    "ExecuteTime": {
     "end_time": "2023-07-10T23:51:20.190932600Z",
     "start_time": "2023-07-10T23:51:20.148895900Z"
    }
   }
  },
  {
   "cell_type": "code",
   "execution_count": 168,
   "outputs": [
    {
     "name": "stdout",
     "output_type": "stream",
     "text": [
      "<class 'pandas.core.frame.DataFrame'>\n",
      "RangeIndex: 45466 entries, 0 to 45465\n",
      "Data columns (total 19 columns):\n",
      " #   Column                 Non-Null Count  Dtype         \n",
      "---  ------                 --------------  -----         \n",
      " 0   belongs_to_collection  4491 non-null   object        \n",
      " 1   budget_musd            8890 non-null   float64       \n",
      " 2   genres                 43024 non-null  object        \n",
      " 3   id                     45463 non-null  float64       \n",
      " 4   original_language      45455 non-null  object        \n",
      " 5   overview               44512 non-null  object        \n",
      " 6   popularity             45460 non-null  float64       \n",
      " 7   poster_path            45080 non-null  object        \n",
      " 8   production_companies   33585 non-null  object        \n",
      " 9   production_countries   39178 non-null  object        \n",
      " 10  release_date           45376 non-null  datetime64[ns]\n",
      " 11  revenue_musd           7408 non-null   float64       \n",
      " 12  runtime                43645 non-null  float64       \n",
      " 13  spoken_languages       41508 non-null  object        \n",
      " 14  status                 45379 non-null  object        \n",
      " 15  tagline                20412 non-null  object        \n",
      " 16  title                  45460 non-null  object        \n",
      " 17  vote_average           42561 non-null  float64       \n",
      " 18  vote_count             45460 non-null  float64       \n",
      "dtypes: datetime64[ns](1), float64(7), object(11)\n",
      "memory usage: 6.6+ MB\n"
     ]
    }
   ],
   "source": [
    "df.info()"
   ],
   "metadata": {
    "collapsed": false,
    "ExecuteTime": {
     "end_time": "2023-07-10T23:51:20.266598600Z",
     "start_time": "2023-07-10T23:51:20.160918100Z"
    }
   }
  },
  {
   "cell_type": "markdown",
   "metadata": {},
   "source": [
    "## Cleaning Text / String Columns"
   ]
  },
  {
   "cell_type": "markdown",
   "metadata": {},
   "source": [
    "15. __Analyze__ the text columns \"overview\" and \"tagline\". Try to identify __missing data that is not represented by NaN__ (e.g. \"No Data\"). __Replace as NaN__ (np.nan)!"
   ]
  },
  {
   "cell_type": "code",
   "execution_count": 171,
   "metadata": {
    "ExecuteTime": {
     "end_time": "2023-07-10T23:51:52.013982700Z",
     "start_time": "2023-07-10T23:51:51.940588700Z"
    }
   },
   "outputs": [
    {
     "name": "stdout",
     "output_type": "stream",
     "text": [
      "<class 'pandas.core.frame.DataFrame'>\n",
      "RangeIndex: 45466 entries, 0 to 45465\n",
      "Data columns (total 19 columns):\n",
      " #   Column                 Non-Null Count  Dtype         \n",
      "---  ------                 --------------  -----         \n",
      " 0   belongs_to_collection  4491 non-null   object        \n",
      " 1   budget_musd            8890 non-null   float64       \n",
      " 2   genres                 43024 non-null  object        \n",
      " 3   id                     45463 non-null  float64       \n",
      " 4   original_language      45455 non-null  object        \n",
      " 5   overview               44512 non-null  object        \n",
      " 6   popularity             45460 non-null  float64       \n",
      " 7   poster_path            45080 non-null  object        \n",
      " 8   production_companies   33585 non-null  object        \n",
      " 9   production_countries   39178 non-null  object        \n",
      " 10  release_date           45376 non-null  datetime64[ns]\n",
      " 11  revenue_musd           7408 non-null   float64       \n",
      " 12  runtime                43645 non-null  float64       \n",
      " 13  spoken_languages       41508 non-null  object        \n",
      " 14  status                 45379 non-null  object        \n",
      " 15  tagline                20412 non-null  object        \n",
      " 16  title                  45460 non-null  object        \n",
      " 17  vote_average           42561 non-null  float64       \n",
      " 18  vote_count             45460 non-null  float64       \n",
      "dtypes: datetime64[ns](1), float64(7), object(11)\n",
      "memory usage: 6.6+ MB\n"
     ]
    }
   ],
   "source": [
    "df.info()"
   ]
  },
  {
   "cell_type": "code",
   "execution_count": 172,
   "outputs": [
    {
     "data": {
      "text/plain": "en     32269\nfr      2438\nit      1529\nja      1350\nde      1080\nes       994\nru       826\nhi       508\nko       444\nzh       409\nsv       384\npt       316\ncn       313\nfi       297\nnl       248\nda       225\npl       219\ntr       150\ncs       130\nel       113\nno       106\nfa       101\nhu       100\nta        78\nth        76\nhe        67\nsr        63\nro        57\nte        45\nar        39\nml        36\nxx        33\nbn        29\nhr        29\nmr        25\nis        24\net        24\ntl        23\nid        20\nlv        18\nka        18\nsl        17\nuk        16\nbs        14\nca        12\nNaN       11\nbg        10\nab        10\nvi        10\nsk         9\nName: original_language, dtype: int64"
     },
     "execution_count": 172,
     "metadata": {},
     "output_type": "execute_result"
    }
   ],
   "source": [
    "df.original_language.value_counts(dropna=False).head(50)"
   ],
   "metadata": {
    "collapsed": false,
    "ExecuteTime": {
     "end_time": "2023-07-10T23:52:10.239419200Z",
     "start_time": "2023-07-10T23:52:10.223904900Z"
    }
   }
  },
  {
   "cell_type": "code",
   "execution_count": 173,
   "outputs": [
    {
     "data": {
      "text/plain": "0                          Toy Story\n1                            Jumanji\n2                   Grumpier Old Men\n3                  Waiting to Exhale\n4        Father of the Bride Part II\n                    ...             \n45461                         Subdue\n45462            Century of Birthing\n45463                       Betrayal\n45464               Satan Triumphant\n45465                       Queerama\nName: title, Length: 45466, dtype: object"
     },
     "execution_count": 173,
     "metadata": {},
     "output_type": "execute_result"
    }
   ],
   "source": [
    "df.title"
   ],
   "metadata": {
    "collapsed": false,
    "ExecuteTime": {
     "end_time": "2023-07-10T23:52:15.805085700Z",
     "start_time": "2023-07-10T23:52:15.784970500Z"
    }
   }
  },
  {
   "cell_type": "code",
   "execution_count": 174,
   "outputs": [
    {
     "data": {
      "text/plain": "Cinderella              11\nAlice in Wonderland      9\nHamlet                   9\nLes Misérables           8\nBeauty and the Beast     8\nTreasure Island          7\nA Christmas Carol        7\nThe Three Musketeers     7\nBlackout                 7\nHome                     6\nMacbeth                  6\nThe Journey              6\nThe Hunters              6\nThe Forest               6\nMother                   6\nCountdown                6\nLove                     6\nThe Stranger             6\nHeidi                    6\nBluebeard                6\nName: title, dtype: int64"
     },
     "execution_count": 174,
     "metadata": {},
     "output_type": "execute_result"
    }
   ],
   "source": [
    "df.title.value_counts(dropna=False).head(20)"
   ],
   "metadata": {
    "collapsed": false,
    "ExecuteTime": {
     "end_time": "2023-07-10T23:52:34.054602900Z",
     "start_time": "2023-07-10T23:52:34.000901900Z"
    }
   }
  },
  {
   "cell_type": "code",
   "execution_count": 175,
   "outputs": [
    {
     "data": {
      "text/plain": "\"Led by Woody, Andy's toys live happily in his room until Andy's birthday brings Buzz Lightyear onto the scene. Afraid of losing his place in Andy's heart, Woody plots against Buzz. But when circumstances separate Buzz and Woody from their owner, the duo eventually learns to put aside their differences.\""
     },
     "execution_count": 175,
     "metadata": {},
     "output_type": "execute_result"
    }
   ],
   "source": [
    "df.overview[0]"
   ],
   "metadata": {
    "collapsed": false,
    "ExecuteTime": {
     "end_time": "2023-07-10T23:52:45.149485200Z",
     "start_time": "2023-07-10T23:52:45.131406300Z"
    }
   }
  },
  {
   "cell_type": "code",
   "execution_count": 176,
   "outputs": [
    {
     "data": {
      "text/plain": "NaN                                                                                                                                                                                                                                                                                                                                                                                                                                                                                                                                                                                                                                                                                                                                                                                                                                                              954\nNo overview found.                                                                                                                                                                                                                                                                                                                                                                                                                                                                                                                                                                                                                                                                                                                                                                                                                                               133\nNo Overview                                                                                                                                                                                                                                                                                                                                                                                                                                                                                                                                                                                                                                                                                                                                                                                                                                                        7\n                                                                                                                                                                                                                                                                                                                                                                                                                                                                                                                                                                                                                                                                                                                                                                                                                                                                   5\nNo movie overview available.                                                                                                                                                                                                                                                                                                                                                                                                                                                                                                                                                                                                                                                                                                                                                                                                                                       3\nA few funny little novels about different aspects of life.                                                                                                                                                                                                                                                                                                                                                                                                                                                                                                                                                                                                                                                                                                                                                                                                         3\nRecovering from a nail gun shot to the head and 13 months of coma, doctor Pekka Valinta starts to unravel the mystery of his past, still suffering from total amnesia.                                                                                                                                                                                                                                                                                                                                                                                                                                                                                                                                                                                                                                                                                             3\nKing Lear, old and tired, divides his kingdom among his daughters, giving great importance to their protestations of love for him. When Cordelia, youngest and most honest, refuses to idly flatter the old man in return for favor, he banishes her and turns for support to his remaining daughters. But Goneril and Regan have no love for him and instead plot to take all his power from him. In a parallel, Lear's loyal courtier Gloucester favors his illegitimate son Edmund after being told lies about his faithful son Edgar. Madness and tragedy befall both ill-starred fathers.                                                                                                                                                                                                                                                                     3\nAdaptation of the Jane Austen novel.                                                                                                                                                                                                                                                                                                                                                                                                                                                                                                                                                                                                                                                                                                                                                                                                                               3\nReleased                                                                                                                                                                                                                                                                                                                                                                                                                                                                                                                                                                                                                                                                                                                                                                                                                                                           3\nIn a hospital, ten soldiers are being treated for a mysterious sleeping sickness. In a story in which dreams can be experienced by others, and in which goddesses can sit casually with mortals, a nurse learns the reason why the patients will never be cured, and forms a telepathic bond with one of them.                                                                                                                                                                                                                                                                                                                                                                                                                                                                                                                                                     2\nThe ghost of a samurai's wife takes revenge on her husband.                                                                                                                                                                                                                                                                                                                                                                                                                                                                                                                                                                                                                                                                                                                                                                                                        2\nEast-Berlin, 1961, shortly after the erection of the Wall. Konrad, Sophie and three of their friends plan a daring escape to Western Germany. The attempt is successful, except for Konrad, who remains behind. From then on, and for the next 28 years, Konrad and Sophie will attempt to meet again, in spite of the Iron Curtain. Konrad, who has become a reputed Astrophysicist, tries to take advantage of scientific congresses outside Eastern Germany to arrange encounters with Sophie. But in a country where the political police, the Stasi, monitors the moves of all suspicious people (such as Konrad's sister Barbara and her husband Harald), preserving one's privacy, ideals and self-respect becomes an exhausting fight, even as the Eastern block begins its long process of disintegration.                                                2\nFunny, entertaining comedy with a few storylines. All of them have one thing in common - a resort town of Rimini in Italy.                                                                                                                                                                                                                                                                                                                                                                                                                                                                                                                                                                                                                                                                                                                                         2\nTwo literary women compete for 20 years: one writes for the critics; the other one, to get rich.                                                                                                                                                                                                                                                                                                                                                                                                                                                                                                                                                                                                                                                                                                                                                                   2\nAll your favorite Pokémon characters are back, and are joined for the first time by the legendary Pokémon Celebi and Suicune, in this latest exciting Pokémon adventure! In order to escape a greedy Pokémon hunter, Celebi must use the last of its energy to travel through time to the present day. Celebi brings along Sammy, a boy who had been trying to protect it. Along with Ash, Pikachu, and the rest of the gang, Sammy and Celebi encounter an enemy far more advanced than the hunter left behind in the past. This new enemy possesses a Pokéball called a “Dark Ball,” which transforms the Pokémon it captures into evil and far stronger creatures. When Celebi is captured, the fate of the entire forest is threatened. Let POKÉMON 4EVER transport you to a world of adventure as Ash, Suicune and the rest take action to save the day!      2\nTen years into a marriage, the wife is disappointed by the husband's lack of financial success, meaning she has to work and can't treat herself and the husband finds the wife slovenly and mean-spirited: she neither cooks not cleans particularly well and is generally disagreeable. In turn, he alternately ignores her and treats her as a servant. Neither is particularly happy, not helped by their unsatisfactory lodgers. The husband is easily seduced by an ex-colleague, a widow with a small child who needs some security, and considers leaving his wife.                                                                                                                                                                                                                                                                                         2\nMary, a writer working on a novel about a love triangle, is attracted to her publisher. Her suitor Jimmy is determined to break them up; he introduces Mary to the publisher's wife without telling Mary who she is.                                                                                                                                                                                                                                                                                                                                                                                                                                                                                                                                                                                                                                               2\nCount de Chagnie has discovered Christine's singing talent on a market place and sent her to his friend Carriere, the director of the Parisian opera. However just when she arrives Carriere's dismissed. His arrogant successor refuses to let a woman of low birth sing in his opera, but graciously employs Christine as gadrobiere for his wife Charlotta, who's installed as first singer. He also fights the phantom, an unknown guy who lives since many years in the catacombs below the opera and was granted privileges by Carriere. However the phantom knows how to defend himself and at the same time helps Christine to her career.                                                                                                                                                                                                                 2\nAs an ex-gambler teaches a hot-shot college kid some things about playing cards, he finds himself pulled into the world series of poker, where his protégé is his toughest competition.                                                                                                                                                                                                                                                                                                                                                                                                                                                                                                                                                                                                                                                                            2\nName: overview, dtype: int64"
     },
     "execution_count": 176,
     "metadata": {},
     "output_type": "execute_result"
    }
   ],
   "source": [
    "df.overview.value_counts(dropna=False).head(20)"
   ],
   "metadata": {
    "collapsed": false,
    "ExecuteTime": {
     "end_time": "2023-07-10T23:53:07.744058Z",
     "start_time": "2023-07-10T23:53:07.688508800Z"
    }
   }
  },
  {
   "cell_type": "code",
   "execution_count": 184,
   "outputs": [],
   "source": [
    "df.overview.replace(\"No overview found.\", np.nan, inplace=True)"
   ],
   "metadata": {
    "collapsed": false,
    "ExecuteTime": {
     "end_time": "2023-07-10T23:55:06.431011100Z",
     "start_time": "2023-07-10T23:55:06.394236600Z"
    }
   }
  },
  {
   "cell_type": "code",
   "execution_count": 185,
   "outputs": [],
   "source": [
    "df.overview.replace(\"No Overview\", np.nan, inplace=True)"
   ],
   "metadata": {
    "collapsed": false,
    "ExecuteTime": {
     "end_time": "2023-07-10T23:55:11.221581800Z",
     "start_time": "2023-07-10T23:55:11.199530500Z"
    }
   }
  },
  {
   "cell_type": "code",
   "execution_count": 180,
   "outputs": [],
   "source": [
    "df.overview.replace(\"No movie overview available.\", np.nan, inplace=True)"
   ],
   "metadata": {
    "collapsed": false,
    "ExecuteTime": {
     "end_time": "2023-07-10T23:54:01.846719800Z",
     "start_time": "2023-07-10T23:54:01.807547400Z"
    }
   }
  },
  {
   "cell_type": "code",
   "execution_count": 181,
   "outputs": [],
   "source": [
    "df.overview.replace(\" \", np.nan, inplace=True)"
   ],
   "metadata": {
    "collapsed": false,
    "ExecuteTime": {
     "end_time": "2023-07-10T23:54:17.531014800Z",
     "start_time": "2023-07-10T23:54:17.525506200Z"
    }
   }
  },
  {
   "cell_type": "code",
   "execution_count": 182,
   "outputs": [],
   "source": [
    "df.overview.replace(\"No overview yet.\", np.nan, inplace=True)"
   ],
   "metadata": {
    "collapsed": false,
    "ExecuteTime": {
     "end_time": "2023-07-10T23:54:33.927573700Z",
     "start_time": "2023-07-10T23:54:33.903348300Z"
    }
   }
  },
  {
   "cell_type": "code",
   "execution_count": 186,
   "outputs": [
    {
     "data": {
      "text/plain": "NaN                                                                                                                                                                                                                                                                                                                                                                                                                                                                                                                                                                                                                                                                                                                                                                                                                                                              1106\nAdaptation of the Jane Austen novel.                                                                                                                                                                                                                                                                                                                                                                                                                                                                                                                                                                                                                                                                                                                                                                                                                                3\nRecovering from a nail gun shot to the head and 13 months of coma, doctor Pekka Valinta starts to unravel the mystery of his past, still suffering from total amnesia.                                                                                                                                                                                                                                                                                                                                                                                                                                                                                                                                                                                                                                                                                              3\nReleased                                                                                                                                                                                                                                                                                                                                                                                                                                                                                                                                                                                                                                                                                                                                                                                                                                                            3\nA few funny little novels about different aspects of life.                                                                                                                                                                                                                                                                                                                                                                                                                                                                                                                                                                                                                                                                                                                                                                                                          3\nKing Lear, old and tired, divides his kingdom among his daughters, giving great importance to their protestations of love for him. When Cordelia, youngest and most honest, refuses to idly flatter the old man in return for favor, he banishes her and turns for support to his remaining daughters. But Goneril and Regan have no love for him and instead plot to take all his power from him. In a parallel, Lear's loyal courtier Gloucester favors his illegitimate son Edmund after being told lies about his faithful son Edgar. Madness and tragedy befall both ill-starred fathers.                                                                                                                                                                                                                                                                      3\nWhen a comet strikes Earth and kicks up a cloud of toxic dust, hundreds of humans join the ranks of the living dead. But there's bad news for the survivors: The newly minted zombies are hell-bent on eradicating every last person from the planet. For the few human beings who remain, going head to head with the flesh-eating fiends is their only chance for long-term survival. Yet their battle will be dark and cold, with overwhelming odds.                                                                                                                                                                                                                                                                                                                                                                                                             2\nAs an ex-gambler teaches a hot-shot college kid some things about playing cards, he finds himself pulled into the world series of poker, where his protégé is his toughest competition.                                                                                                                                                                                                                                                                                                                                                                                                                                                                                                                                                                                                                                                                             2\nOriginally called White Thunder, American producer Varick Frissell's 1931 film was inspired by his love for the Canadian Arctic Circle. Set in a beautifully black-and-white filmed Newfoundland, it is the story of a rivalry between two seal hunters that plays out on the ice floes during a hunt. Unsatisfied with the first cut, Frissell arranged for the crew to accompany an actual Newfoundland seal hunt on The SS Viking, on which an explosion of dynamite (carried regularly at the time on Arctic ships to combat ice jams) killed many members of the crew, including Frissell. The film was renamed in honor of the dead.                                                                                                                                                                                                                          2\nBlanche Dubois goes to visit her pregnant sister and husband Stanley in New Orleans. Stanley doesn't like her, and starts pushing her for information on some property he know was left to the sisters. He discovers she has mortgaged the place and spent all the money, and wants to find out all he can about her. Even more friction develops between the two while they are in the apartment together...                                                                                                                                                                                                                                                                                                                                                                                                                                                       2\nKarol has everything. He has three mistresses in addition to the bride. He is charming, loves sex and enslaves women in the blink of an eye. He's also well aware of that women like and uses it for his benefits.                                                                                                                                                                                                                                                                                                                                                                                                                                                                                                                                                                                                                                                  2\nAll your favorite Pokémon characters are back, and are joined for the first time by the legendary Pokémon Celebi and Suicune, in this latest exciting Pokémon adventure! In order to escape a greedy Pokémon hunter, Celebi must use the last of its energy to travel through time to the present day. Celebi brings along Sammy, a boy who had been trying to protect it. Along with Ash, Pikachu, and the rest of the gang, Sammy and Celebi encounter an enemy far more advanced than the hunter left behind in the past. This new enemy possesses a Pokéball called a “Dark Ball,” which transforms the Pokémon it captures into evil and far stronger creatures. When Celebi is captured, the fate of the entire forest is threatened. Let POKÉMON 4EVER transport you to a world of adventure as Ash, Suicune and the rest take action to save the day!       2\nAfter breaking a mirror in his home, superstitious Max tries to avoid situations which could bring bad luck but in doing so, causes himself the worst luck imaginable.                                                                                                                                                                                                                                                                                                                                                                                                                                                                                                                                                                                                                                                                                              2\nBritish nurse Catherine Barkley (Helen Hayes) and American Lieutenant Frederic Henry (Gary Cooper) fall in love during the First World War in Italy. Eventually separated by Frederic's transfer, tremendous challenges and difficult decisions face each, as the war rages on. Academy Awards winner for Best Cinematography and for Best Sound, Recording. Nominated for Best Picture and for Best Art Direction.                                                                                                                                                                                                                                                                                                                                                                                                                                                 2\nMary, a writer working on a novel about a love triangle, is attracted to her publisher. Her suitor Jimmy is determined to break them up; he introduces Mary to the publisher's wife without telling Mary who she is.                                                                                                                                                                                                                                                                                                                                                                                                                                                                                                                                                                                                                                                2\nAdventurer Allan Quartermain leads an expedition into uncharted African territory in an attempt to locate an explorer who went missing during his search for the fabled diamond mines of King Solomon.                                                                                                                                                                                                                                                                                                                                                                                                                                                                                                                                                                                                                                                              2\nCount de Chagnie has discovered Christine's singing talent on a market place and sent her to his friend Carriere, the director of the Parisian opera. However just when she arrives Carriere's dismissed. His arrogant successor refuses to let a woman of low birth sing in his opera, but graciously employs Christine as gadrobiere for his wife Charlotta, who's installed as first singer. He also fights the phantom, an unknown guy who lives since many years in the catacombs below the opera and was granted privileges by Carriere. However the phantom knows how to defend himself and at the same time helps Christine to her career.                                                                                                                                                                                                                  2\nA Russian engineer Petr Garin possesses a unique beam-shooting weapon that can destroy any target. His goal is to achieve world domination with the help of this weapon. Vasily Shelga is out to stop him and also to prevent others getting possession of this weapon.                                                                                                                                                                                                                                                                                                                                                                                                                                                                                                                                                                                             2\nWhile holidaying in the French Alps, a Swedish family deals with acts of cowardliness as an avalanche breaks out.                                                                                                                                                                                                                                                                                                                                                                                                                                                                                                                                                                                                                                                                                                                                                   2\nWinter, 1915. Confined by her family to an asylum in the South of France - where she will never sculpt again - the chronicle of Camille Claudel's reclusive life, as she waits for a visit from her brother, Paul Claudel.                                                                                                                                                                                                                                                                                                                                                                                                                                                                                                                                                                                                                                          2\nName: overview, dtype: int64"
     },
     "execution_count": 186,
     "metadata": {},
     "output_type": "execute_result"
    }
   ],
   "source": [
    "df.overview.value_counts(dropna=False).head(20)"
   ],
   "metadata": {
    "collapsed": false,
    "ExecuteTime": {
     "end_time": "2023-07-10T23:55:13.415351900Z",
     "start_time": "2023-07-10T23:55:13.356518700Z"
    }
   }
  },
  {
   "cell_type": "code",
   "execution_count": 187,
   "outputs": [
    {
     "data": {
      "text/plain": "NaN                                                                                                                      25054\nBased on a true story.                                                                                                       7\nTrust no one.                                                                                                                4\nBe careful what you wish for.                                                                                                4\n-                                                                                                                            4\nClassic Albums                                                                                                               3\nSome doors should never be opened.                                                                                           3\nA Love Story                                                                                                                 3\nDrama                                                                                                                        3\nKnow Your Enemy                                                                                                              3\nWhich one is the first to return - memory or the murderer?                                                                   3\nHow far would you go?                                                                                                        3\nThe end is near.                                                                                                             3\nThere is no turning back                                                                                                     3\nThere are two sides to every love story.                                                                                     3\nDocumentary                                                                                                                  3\nWho is John Galt?                                                                                                            3\nRevenge Has No Limits                                                                                                        2\nWho's next?                                                                                                                  2\nIt's never too late.                                                                                                         2\nWorlds Collide                                                                                                               2\nSome things are better left top secret.                                                                                      2\nThe Awakening                                                                                                                2\nNothing stays buried forever.                                                                                                2\nEvery second counts.                                                                                                         2\nLove never dies.                                                                                                             2\nBased on a true story                                                                                                        2\nDer deutsche Millionen-Film!                                                                                                 2\nOnce upon a time...                                                                                                          2\nThe band you know. The story you don't.                                                                                      2\nThere's one in all of us.                                                                                                    2\nFrom the very beginning, they knew they'd be friends to the end. What they didn't count on was everything in between.        2\nNo one stays innocent forever.                                                                                               2\nEvery woman who has loved will understand                                                                                    2\nThe hunt is on.                                                                                                              2\nTwo Films. One Love.                                                                                                         2\nThe first to die were the lucky ones!                                                                                        2\nTouched by Genius. Cursed by Madness. Blinded by Love.                                                                       2\nHow can you believe your eyes when they're not yours?                                                                        2\nEvil will rise.                                                                                                              2\nWhat you know about fear... doesn't even come close.                                                                         2\nThere is no solitude greater than that of the Samurai                                                                        2\nRun for your life                                                                                                            2\nYou never forget your first love.                                                                                            2\nTerror runs deep.                                                                                                            2\nTrust No One                                                                                                                 2\nThe timeless tale of a special place where magic, hope and love grow.                                                        2\nSomething wicked this way comes.                                                                                             2\nA love, a hope, a wall.                                                                                                      2\nRELENTLESS SUSPENSE!                                                                                                         2\nName: tagline, dtype: int64"
     },
     "execution_count": 187,
     "metadata": {},
     "output_type": "execute_result"
    }
   ],
   "source": [
    "df.tagline.value_counts(dropna=False).head(50)"
   ],
   "metadata": {
    "collapsed": false,
    "ExecuteTime": {
     "end_time": "2023-07-10T23:57:39.265900600Z",
     "start_time": "2023-07-10T23:57:39.243345400Z"
    }
   }
  },
  {
   "cell_type": "code",
   "execution_count": 188,
   "outputs": [],
   "source": [
    "df.tagline.replace(\"-\", np.nan, inplace=True)"
   ],
   "metadata": {
    "collapsed": false,
    "ExecuteTime": {
     "end_time": "2023-07-10T23:57:59.970157300Z",
     "start_time": "2023-07-10T23:57:59.953134500Z"
    }
   }
  },
  {
   "cell_type": "code",
   "execution_count": 189,
   "outputs": [
    {
     "data": {
      "text/plain": "NaN                                                                                     25058\nBased on a true story.                                                                      7\nTrust no one.                                                                               4\nBe careful what you wish for.                                                               4\nWho is John Galt?                                                                           3\nSome doors should never be opened.                                                          3\nDrama                                                                                       3\nDocumentary                                                                                 3\nThere is no turning back                                                                    3\nThe end is near.                                                                            3\nClassic Albums                                                                              3\nWhich one is the first to return - memory or the murderer?                                  3\nHow far would you go?                                                                       3\nKnow Your Enemy                                                                             3\nThere are two sides to every love story.                                                    3\nA Love Story                                                                                3\nWhat you know about fear... doesn't even come close.                                        2\nLove is a force of nature.                                                                  2\nA love, a hope, a wall.                                                                     2\nRELENTLESS SUSPENSE!                                                                        2\nTwo Films. One Love.                                                                        2\nNo one stays innocent forever.                                                              2\nThere are no clean getaways.                                                                2\nPokémon: Spell of the Unknown                                                               2\nFree your mind.                                                                             2\nThis is my Story                                                                            2\nActually produced during the Great Newfoundland Seal Hunt and You see the REAL thing        2\nAn American Tragedy                                                                         2\nSome houses are born bad.                                                                   2\nSome secrets are better left buried.                                                        2\nOne Nation. Underfed.                                                                       2\nYou are what you eat                                                                        2\nFace Your Fears                                                                             2\nSomething wicked this way comes.                                                            2\nWhat could go wrong?                                                                        2\nThere is no solitude greater than that of the Samurai                                       2\nMurder is an art.                                                                           2\nEvil will rise.                                                                             2\nA terrifying love story.                                                                    2\nRun for your life                                                                           2\nNever underestimate the power of a woman.                                                   2\nHow can you believe your eyes when they're not yours?                                       2\nNever give up.                                                                              2\nSome things are worth fighting for.                                                         2\nHow Miami became the cocaine capital of the United States!                                  2\nYou never forget your first love.                                                           2\nTouched by Genius. Cursed by Madness. Blinded by Love.                                      2\nTerror runs deep.                                                                           2\nThe first to die were the lucky ones!                                                       2\nTrust No One                                                                                2\nName: tagline, dtype: int64"
     },
     "execution_count": 189,
     "metadata": {},
     "output_type": "execute_result"
    }
   ],
   "source": [
    "df.tagline.value_counts(dropna=False).head(50)"
   ],
   "metadata": {
    "collapsed": false,
    "ExecuteTime": {
     "end_time": "2023-07-10T23:58:16.127038700Z",
     "start_time": "2023-07-10T23:58:16.111498900Z"
    }
   }
  },
  {
   "cell_type": "markdown",
   "metadata": {},
   "source": [
    "## Removing Duplicates"
   ]
  },
  {
   "cell_type": "markdown",
   "metadata": {},
   "source": [
    "16. __Identify__ and __remove__ duplicates!"
   ]
  },
  {
   "cell_type": "code",
   "execution_count": 190,
   "metadata": {
    "ExecuteTime": {
     "end_time": "2023-07-10T23:59:46.571540Z",
     "start_time": "2023-07-10T23:59:46.455268300Z"
    }
   },
   "outputs": [
    {
     "data": {
      "text/plain": "      belongs_to_collection  budget_musd  \\\n7345                    NaN          NaN   \n9165                    NaN          NaN   \n24844                   NaN          NaN   \n14012                   NaN          NaN   \n22151                   NaN          NaN   \n14000                   NaN          NaN   \n8068                    NaN          NaN   \n9327                    NaN          NaN   \n17229                   NaN          NaN   \n23044                   NaN          NaN   \n29374                   NaN          NaN   \n15702                   NaN          NaN   \n13946                   NaN          NaN   \n40276                   NaN          NaN   \n38871                   NaN          NaN   \n16167                   NaN          NaN   \n676                     NaN          NaN   \n1465                    NaN          NaN   \n19890                   NaN          NaN   \n21165                   NaN          NaN   \n13375                   NaN          NaN   \n13261                   NaN          NaN   \n16764                   NaN          NaN   \n19925                   NaN          NaN   \n21854                   NaN          NaN   \n13220          Why We Fight          NaN   \n35798          Why We Fight          NaN   \n13603                   NaN          NaN   \n28860                   NaN          NaN   \n24164                   NaN          NaN   \n45265                   NaN          NaN   \n33184                   NaN         0.98   \n40040                   NaN         0.98   \n\n                                         genres        id original_language  \\\n7345                       Crime|Drama|Thriller    5511.0                fr   \n9165                       Crime|Drama|Thriller    5511.0                fr   \n24844                              Comedy|Drama   11115.0                en   \n14012                              Comedy|Drama   11115.0                en   \n22151             Action|Horror|Science Fiction   18440.0                en   \n14000             Action|Horror|Science Fiction   18440.0                en   \n8068   Adventure|Animation|Drama|Action|Foreign   23305.0                en   \n9327   Adventure|Animation|Drama|Action|Foreign   23305.0                en   \n17229                                     Drama   25541.0                da   \n23044                                     Drama   25541.0                da   \n29374                             Drama|Foreign   42495.0                en   \n15702                             Drama|Foreign   42495.0                en   \n13946                                    Comedy   97995.0                en   \n40276                                    Comedy   97995.0                en   \n38871            Action|Drama|Romance|Adventure   99080.0                en   \n16167            Action|Drama|Romance|Adventure   99080.0                en   \n676                               Drama|Romance  105045.0                de   \n1465                              Drama|Romance  105045.0                de   \n19890             Fantasy|Drama|Science Fiction  119916.0                en   \n21165             Fantasy|Drama|Science Fiction  119916.0                en   \n13375                          Thriller|Mystery  141971.0                fi   \n13261                          Thriller|Mystery  141971.0                fi   \n16764                          Thriller|Mystery  141971.0                fi   \n19925           Drama|Science Fiction|Animation  152795.0                en   \n21854           Drama|Science Fiction|Animation  152795.0                en   \n13220                               Documentary  159849.0                en   \n35798                               Documentary  159849.0                en   \n13603                              Drama|Comedy  168538.0                en   \n28860                              Drama|Comedy  168538.0                en   \n24164                              Comedy|Drama  265189.0                sv   \n45265                              Comedy|Drama  265189.0                sv   \n33184                             Drama|Fantasy  298721.0                th   \n40040                             Drama|Fantasy  298721.0                th   \n\n                                                overview  popularity  \\\n7345   Hitman Jef Costello is a perfectionist who alw...    9.091288   \n9165   Hitman Jef Costello is a perfectionist who alw...    9.091288   \n24844  As an ex-gambler teaches a hot-shot college ki...    6.880365   \n14012  As an ex-gambler teaches a hot-shot college ki...    6.880365   \n22151  When a comet strikes Earth and kicks up a clou...    1.436085   \n14000  When a comet strikes Earth and kicks up a clou...    1.436085   \n8068   In feudal India, a warrior (Khan) who renounce...    1.967992   \n9327   In feudal India, a warrior (Khan) who renounce...    1.967992   \n17229  Former Danish servicemen Lars and Jimmy are th...    2.587911   \n23044  Former Danish servicemen Lars and Jimmy are th...    2.587911   \n29374  King Lear, old and tired, divides his kingdom ...    0.187901   \n15702  King Lear, old and tired, divides his kingdom ...    0.187901   \n13946  After breaking a mirror in his home, superstit...    0.141558   \n40276  After breaking a mirror in his home, superstit...    0.141558   \n38871  Originally called White Thunder, American prod...    0.002362   \n16167  Originally called White Thunder, American prod...    0.002362   \n676    East-Berlin, 1961, shortly after the erection ...    0.122178   \n1465   East-Berlin, 1961, shortly after the erection ...    0.122178   \n19890  Prospero, the true Duke of Milan is now living...    0.000018   \n21165  Prospero, the true Duke of Milan is now living...    0.000018   \n13375  Recovering from a nail gun shot to the head an...    0.411949   \n13261  Recovering from a nail gun shot to the head an...    0.411949   \n16764  Recovering from a nail gun shot to the head an...    0.411949   \n19925  More than two decades after catapulting to sta...    8.534039   \n21854  More than two decades after catapulting to sta...    8.534039   \n13220  The third film of Frank Capra's 'Why We Fight\"...    0.473322   \n35798  The third film of Frank Capra's 'Why We Fight\"...    0.473322   \n13603  In Zola's Paris, an ingenue arrives at a tony ...    1.276602   \n28860  In Zola's Paris, an ingenue arrives at a tony ...    1.276602   \n24164  While holidaying in the French Alps, a Swedish...   12.165685   \n45265  While holidaying in the French Alps, a Swedish...   12.165685   \n33184  In a hospital, ten soldiers are being treated ...    2.535419   \n40040  In a hospital, ten soldiers are being treated ...    2.535419   \n\n                            poster_path  \\\n7345   /cvNW8IXigbaMNo4gKEIps0NGnhA.jpg   \n9165   /cvNW8IXigbaMNo4gKEIps0NGnhA.jpg   \n24844  /kHaBqrrozaG7rj6GJg3sUCiM29B.jpg   \n14012  /kHaBqrrozaG7rj6GJg3sUCiM29B.jpg   \n22151  /tWCyKXHuSrQdLAvNeeVJBnhf1Yv.jpg   \n14000  /tWCyKXHuSrQdLAvNeeVJBnhf1Yv.jpg   \n8068   /9GlrmbZO7VGyqhaSR1utinRJz3L.jpg   \n9327   /9GlrmbZO7VGyqhaSR1utinRJz3L.jpg   \n17229  /q19Q5BRZpMXoNCA4OYodVozfjUh.jpg   \n23044  /q19Q5BRZpMXoNCA4OYodVozfjUh.jpg   \n29374  /xuE1IlUCohbxMY0fiqKTT6d013n.jpg   \n15702  /xuE1IlUCohbxMY0fiqKTT6d013n.jpg   \n13946  /4J6Ai4C5YRgfRUTlirrJ7QsmJKU.jpg   \n40276  /4J6Ai4C5YRgfRUTlirrJ7QsmJKU.jpg   \n38871  /qenjwRvW9itR5pVp4CBkYfhVAOp.jpg   \n16167  /qenjwRvW9itR5pVp4CBkYfhVAOp.jpg   \n676    /5WFIrBhOOgc0jGmoLxMZwWqCctO.jpg   \n1465   /5WFIrBhOOgc0jGmoLxMZwWqCctO.jpg   \n19890  /gLVRTxaLtUDkfscFKPyYrCtRnTk.jpg   \n21165  /gLVRTxaLtUDkfscFKPyYrCtRnTk.jpg   \n13375  /8VSZ9coCzxOCW2wE2Qene1H1fKO.jpg   \n13261  /8VSZ9coCzxOCW2wE2Qene1H1fKO.jpg   \n16764  /8VSZ9coCzxOCW2wE2Qene1H1fKO.jpg   \n19925  /nnKX3ahYoT7P3au92dNgLf4pKwA.jpg   \n21854  /nnKX3ahYoT7P3au92dNgLf4pKwA.jpg   \n13220  /g21ruZZ3BZeUDuKMb82kejjtufk.jpg   \n35798  /g21ruZZ3BZeUDuKMb82kejjtufk.jpg   \n13603  /pg4PUHRFrgNfACHSh5MITQ2gYch.jpg   \n28860  /pg4PUHRFrgNfACHSh5MITQ2gYch.jpg   \n24164  /rGMtc9AtZsnWSSL5VnLaGvx1PI6.jpg   \n45265  /rGMtc9AtZsnWSSL5VnLaGvx1PI6.jpg   \n33184  /5GasjPRAy5rlEyDOH7MeOyxyQGX.jpg   \n40040  /5GasjPRAy5rlEyDOH7MeOyxyQGX.jpg   \n\n                                    production_companies  \\\n7345   Fida cinematografica|Compagnie Industrielle et...   \n9165   Fida cinematografica|Compagnie Industrielle et...   \n24844  Andertainment Group|Crescent City Pictures|Tag...   \n14012  Andertainment Group|Crescent City Pictures|Tag...   \n22151                                                NaN   \n14000                                                NaN   \n8068                                            Filmfour   \n9327                                            Filmfour   \n17229                                                NaN   \n23044                                                NaN   \n29374  Royal Shakespeare Company|Laterna Film|Athena ...   \n15702  Royal Shakespeare Company|Laterna Film|Athena ...   \n13946                             Max Linder Productions   \n40276                             Max Linder Productions   \n38871                                                NaN   \n16167                                                NaN   \n676    Studio Babelsberg|Centre National de la Cinéma...   \n1465   Studio Babelsberg|Centre National de la Cinéma...   \n19890                                                NaN   \n21165                                                NaN   \n13375                               Filmiteollisuus Fine   \n13261                               Filmiteollisuus Fine   \n16764                               Filmiteollisuus Fine   \n19925  Pandora Filmproduktion|Entre Chien et Loup|Opu...   \n21854  Pandora Filmproduktion|Entre Chien et Loup|Opu...   \n13220                                                NaN   \n35798                                                NaN   \n13603             Cannon Group|Metro-Goldwyn-Mayer (MGM)   \n28860             Cannon Group|Metro-Goldwyn-Mayer (MGM)   \n24164             Motlys|Coproduction Office|Film i Väst   \n45265             Motlys|Coproduction Office|Film i Väst   \n33184  Match Factory, The|Louverture Films|Tordenfilm...   \n40040  Match Factory, The|Louverture Films|Tordenfilm...   \n\n                                    production_countries release_date  \\\n7345                                        France|Italy   1967-10-25   \n9165                                        France|Italy   1967-10-25   \n24844                           United States of America   2008-01-29   \n14012                           United States of America   2008-01-29   \n22151                           United States of America   2007-01-01   \n14000                           United States of America   2007-01-01   \n8068                 France|Germany|India|United Kingdom   2001-09-23   \n9327                 France|Germany|India|United Kingdom   2001-09-23   \n17229                                     Sweden|Denmark   2009-10-21   \n23044                                     Sweden|Denmark   2009-10-21   \n29374                             Denmark|United Kingdom   1971-02-04   \n15702                             Denmark|United Kingdom   1971-02-04   \n13946                           United States of America   1921-02-06   \n40276                           United States of America   1921-02-06   \n38871                                                NaN   1931-06-21   \n16167                                                NaN   1931-06-21   \n676                                              Germany   1995-02-16   \n1465                                             Germany   1995-02-16   \n19890                                                NaN   1980-02-27   \n21165                                                NaN   1980-02-27   \n13375                                            Finland   2008-12-26   \n13261                                            Finland   2008-12-26   \n16764                                            Finland   2008-12-26   \n19925    Belgium|France|Germany|Israel|Luxembourg|Poland   2013-05-16   \n21854    Belgium|France|Germany|Israel|Luxembourg|Poland   2013-05-16   \n13220                           United States of America   1943-01-01   \n35798                           United States of America   1943-01-01   \n13603                                                NaN   1983-06-13   \n28860                                                NaN   1983-06-13   \n24164                               Norway|Sweden|France   2014-08-15   \n45265                               Norway|Sweden|France   2014-08-15   \n33184  United Kingdom|United States of America|France...   2015-09-02   \n40040  United Kingdom|United States of America|France...   2015-09-02   \n\n       revenue_musd  runtime                spoken_languages    status  \\\n7345       0.039481    105.0                        Français  Released   \n9165       0.039481    105.0                        Français  Released   \n24844           NaN     85.0                         English  Released   \n14012           NaN     85.0                         English  Released   \n22151           NaN     89.0                         English  Released   \n14000           NaN     89.0                         English  Released   \n8068            NaN     86.0                          हिन्दी  Released   \n9327            NaN     86.0                          हिन्दी  Released   \n17229           NaN     90.0                           Dansk  Released   \n23044           NaN     90.0                           Dansk  Released   \n29374           NaN    137.0                         English   Rumored   \n15702           NaN    137.0                         English   Rumored   \n13946           NaN     62.0                         English  Released   \n40276           NaN     62.0                         English  Released   \n38871           NaN     70.0                         English  Released   \n16167           NaN     70.0                         English  Released   \n676             NaN    115.0                         Deutsch  Released   \n1465            NaN    115.0                         Deutsch  Released   \n19890           NaN    123.0                             NaN  Released   \n21165           NaN    123.0                             NaN  Released   \n13375           NaN    108.0                           suomi  Released   \n13261           NaN    108.0                           suomi  Released   \n16764           NaN    108.0                           suomi  Released   \n19925      0.455815    122.0                         English  Released   \n21854      0.455815    122.0                         English  Released   \n13220           NaN     57.0                         English  Released   \n35798           NaN     57.0                         English  Released   \n13603           NaN     92.0                             NaN  Released   \n28860           NaN     92.0                             NaN  Released   \n24164      1.359497    118.0  Français|Norsk|svenska|English  Released   \n45265      1.359497    118.0  Français|Norsk|svenska|English  Released   \n33184           NaN    122.0                 English|ภาษาไทย  Released   \n40040           NaN    122.0                 English|ภาษาไทย  Released   \n\n                                                 tagline  \\\n7345   There is no solitude greater than that of the ...   \n9165   There is no solitude greater than that of the ...   \n24844                                                NaN   \n14012                                                NaN   \n22151                                                NaN   \n14000                                                NaN   \n8068                                                 NaN   \n9327                                                 NaN   \n17229                                                NaN   \n23044                                                NaN   \n29374                                                NaN   \n15702                                                NaN   \n13946                                                NaN   \n40276                                                NaN   \n38871  Actually produced during the Great Newfoundlan...   \n16167  Actually produced during the Great Newfoundlan...   \n676                              A love, a hope, a wall.   \n1465                             A love, a hope, a wall.   \n19890                                                NaN   \n21165                                                NaN   \n13375  Which one is the first to return - memory or t...   \n13261  Which one is the first to return - memory or t...   \n16764  Which one is the first to return - memory or t...   \n19925                                                NaN   \n21854                                                NaN   \n13220                                                NaN   \n35798                                                NaN   \n13603                                                NaN   \n28860                                                NaN   \n24164                                                NaN   \n45265                                                NaN   \n33184                                                NaN   \n40040                                                NaN   \n\n                                  title  vote_average  vote_count  \n7345                        Le Samouraï           7.9       187.0  \n9165                        Le Samouraï           7.9       187.0  \n24844                              Deal           5.2        22.0  \n14012                              Deal           5.2        22.0  \n22151                  Days of Darkness           5.0         5.0  \n14000                  Days of Darkness           5.0         5.0  \n8068                        The Warrior           6.3        15.0  \n9327                        The Warrior           6.3        15.0  \n17229                       Brotherhood           7.1        21.0  \n23044                       Brotherhood           7.1        21.0  \n29374                         King Lear           8.0         3.0  \n15702                         King Lear           8.0         3.0  \n13946              Seven Years Bad Luck           5.6         4.0  \n40276              Seven Years Bad Luck           5.6         4.0  \n38871                        The Viking           NaN         0.0  \n16167                        The Viking           NaN         0.0  \n676                         The Promise           5.0         1.0  \n1465                        The Promise           5.0         1.0  \n19890                       The Tempest           NaN         0.0  \n21165                       The Tempest           NaN         0.0  \n13375                          Blackout           6.7         3.0  \n13261                          Blackout           6.7         3.0  \n16764                          Blackout           6.7         3.0  \n19925                      The Congress           6.4       165.0  \n21854                      The Congress           6.4       165.0  \n13220  Why We Fight: Divide and Conquer           5.0         1.0  \n35798  Why We Fight: Divide and Conquer           5.0         1.0  \n13603    Nana, the True Key of Pleasure           4.7         3.0  \n28860    Nana, the True Key of Pleasure           4.7         3.0  \n24164                     Force Majeure           6.8       255.0  \n45265                     Force Majeure           6.8       255.0  \n33184             Cemetery of Splendour           4.4        50.0  \n40040             Cemetery of Splendour           4.4        50.0  ",
      "text/html": "<div>\n<style scoped>\n    .dataframe tbody tr th:only-of-type {\n        vertical-align: middle;\n    }\n\n    .dataframe tbody tr th {\n        vertical-align: top;\n    }\n\n    .dataframe thead th {\n        text-align: right;\n    }\n</style>\n<table border=\"1\" class=\"dataframe\">\n  <thead>\n    <tr style=\"text-align: right;\">\n      <th></th>\n      <th>belongs_to_collection</th>\n      <th>budget_musd</th>\n      <th>genres</th>\n      <th>id</th>\n      <th>original_language</th>\n      <th>overview</th>\n      <th>popularity</th>\n      <th>poster_path</th>\n      <th>production_companies</th>\n      <th>production_countries</th>\n      <th>release_date</th>\n      <th>revenue_musd</th>\n      <th>runtime</th>\n      <th>spoken_languages</th>\n      <th>status</th>\n      <th>tagline</th>\n      <th>title</th>\n      <th>vote_average</th>\n      <th>vote_count</th>\n    </tr>\n  </thead>\n  <tbody>\n    <tr>\n      <th>7345</th>\n      <td>NaN</td>\n      <td>NaN</td>\n      <td>Crime|Drama|Thriller</td>\n      <td>5511.0</td>\n      <td>fr</td>\n      <td>Hitman Jef Costello is a perfectionist who alw...</td>\n      <td>9.091288</td>\n      <td>/cvNW8IXigbaMNo4gKEIps0NGnhA.jpg</td>\n      <td>Fida cinematografica|Compagnie Industrielle et...</td>\n      <td>France|Italy</td>\n      <td>1967-10-25</td>\n      <td>0.039481</td>\n      <td>105.0</td>\n      <td>Français</td>\n      <td>Released</td>\n      <td>There is no solitude greater than that of the ...</td>\n      <td>Le Samouraï</td>\n      <td>7.9</td>\n      <td>187.0</td>\n    </tr>\n    <tr>\n      <th>9165</th>\n      <td>NaN</td>\n      <td>NaN</td>\n      <td>Crime|Drama|Thriller</td>\n      <td>5511.0</td>\n      <td>fr</td>\n      <td>Hitman Jef Costello is a perfectionist who alw...</td>\n      <td>9.091288</td>\n      <td>/cvNW8IXigbaMNo4gKEIps0NGnhA.jpg</td>\n      <td>Fida cinematografica|Compagnie Industrielle et...</td>\n      <td>France|Italy</td>\n      <td>1967-10-25</td>\n      <td>0.039481</td>\n      <td>105.0</td>\n      <td>Français</td>\n      <td>Released</td>\n      <td>There is no solitude greater than that of the ...</td>\n      <td>Le Samouraï</td>\n      <td>7.9</td>\n      <td>187.0</td>\n    </tr>\n    <tr>\n      <th>24844</th>\n      <td>NaN</td>\n      <td>NaN</td>\n      <td>Comedy|Drama</td>\n      <td>11115.0</td>\n      <td>en</td>\n      <td>As an ex-gambler teaches a hot-shot college ki...</td>\n      <td>6.880365</td>\n      <td>/kHaBqrrozaG7rj6GJg3sUCiM29B.jpg</td>\n      <td>Andertainment Group|Crescent City Pictures|Tag...</td>\n      <td>United States of America</td>\n      <td>2008-01-29</td>\n      <td>NaN</td>\n      <td>85.0</td>\n      <td>English</td>\n      <td>Released</td>\n      <td>NaN</td>\n      <td>Deal</td>\n      <td>5.2</td>\n      <td>22.0</td>\n    </tr>\n    <tr>\n      <th>14012</th>\n      <td>NaN</td>\n      <td>NaN</td>\n      <td>Comedy|Drama</td>\n      <td>11115.0</td>\n      <td>en</td>\n      <td>As an ex-gambler teaches a hot-shot college ki...</td>\n      <td>6.880365</td>\n      <td>/kHaBqrrozaG7rj6GJg3sUCiM29B.jpg</td>\n      <td>Andertainment Group|Crescent City Pictures|Tag...</td>\n      <td>United States of America</td>\n      <td>2008-01-29</td>\n      <td>NaN</td>\n      <td>85.0</td>\n      <td>English</td>\n      <td>Released</td>\n      <td>NaN</td>\n      <td>Deal</td>\n      <td>5.2</td>\n      <td>22.0</td>\n    </tr>\n    <tr>\n      <th>22151</th>\n      <td>NaN</td>\n      <td>NaN</td>\n      <td>Action|Horror|Science Fiction</td>\n      <td>18440.0</td>\n      <td>en</td>\n      <td>When a comet strikes Earth and kicks up a clou...</td>\n      <td>1.436085</td>\n      <td>/tWCyKXHuSrQdLAvNeeVJBnhf1Yv.jpg</td>\n      <td>NaN</td>\n      <td>United States of America</td>\n      <td>2007-01-01</td>\n      <td>NaN</td>\n      <td>89.0</td>\n      <td>English</td>\n      <td>Released</td>\n      <td>NaN</td>\n      <td>Days of Darkness</td>\n      <td>5.0</td>\n      <td>5.0</td>\n    </tr>\n    <tr>\n      <th>14000</th>\n      <td>NaN</td>\n      <td>NaN</td>\n      <td>Action|Horror|Science Fiction</td>\n      <td>18440.0</td>\n      <td>en</td>\n      <td>When a comet strikes Earth and kicks up a clou...</td>\n      <td>1.436085</td>\n      <td>/tWCyKXHuSrQdLAvNeeVJBnhf1Yv.jpg</td>\n      <td>NaN</td>\n      <td>United States of America</td>\n      <td>2007-01-01</td>\n      <td>NaN</td>\n      <td>89.0</td>\n      <td>English</td>\n      <td>Released</td>\n      <td>NaN</td>\n      <td>Days of Darkness</td>\n      <td>5.0</td>\n      <td>5.0</td>\n    </tr>\n    <tr>\n      <th>8068</th>\n      <td>NaN</td>\n      <td>NaN</td>\n      <td>Adventure|Animation|Drama|Action|Foreign</td>\n      <td>23305.0</td>\n      <td>en</td>\n      <td>In feudal India, a warrior (Khan) who renounce...</td>\n      <td>1.967992</td>\n      <td>/9GlrmbZO7VGyqhaSR1utinRJz3L.jpg</td>\n      <td>Filmfour</td>\n      <td>France|Germany|India|United Kingdom</td>\n      <td>2001-09-23</td>\n      <td>NaN</td>\n      <td>86.0</td>\n      <td>हिन्दी</td>\n      <td>Released</td>\n      <td>NaN</td>\n      <td>The Warrior</td>\n      <td>6.3</td>\n      <td>15.0</td>\n    </tr>\n    <tr>\n      <th>9327</th>\n      <td>NaN</td>\n      <td>NaN</td>\n      <td>Adventure|Animation|Drama|Action|Foreign</td>\n      <td>23305.0</td>\n      <td>en</td>\n      <td>In feudal India, a warrior (Khan) who renounce...</td>\n      <td>1.967992</td>\n      <td>/9GlrmbZO7VGyqhaSR1utinRJz3L.jpg</td>\n      <td>Filmfour</td>\n      <td>France|Germany|India|United Kingdom</td>\n      <td>2001-09-23</td>\n      <td>NaN</td>\n      <td>86.0</td>\n      <td>हिन्दी</td>\n      <td>Released</td>\n      <td>NaN</td>\n      <td>The Warrior</td>\n      <td>6.3</td>\n      <td>15.0</td>\n    </tr>\n    <tr>\n      <th>17229</th>\n      <td>NaN</td>\n      <td>NaN</td>\n      <td>Drama</td>\n      <td>25541.0</td>\n      <td>da</td>\n      <td>Former Danish servicemen Lars and Jimmy are th...</td>\n      <td>2.587911</td>\n      <td>/q19Q5BRZpMXoNCA4OYodVozfjUh.jpg</td>\n      <td>NaN</td>\n      <td>Sweden|Denmark</td>\n      <td>2009-10-21</td>\n      <td>NaN</td>\n      <td>90.0</td>\n      <td>Dansk</td>\n      <td>Released</td>\n      <td>NaN</td>\n      <td>Brotherhood</td>\n      <td>7.1</td>\n      <td>21.0</td>\n    </tr>\n    <tr>\n      <th>23044</th>\n      <td>NaN</td>\n      <td>NaN</td>\n      <td>Drama</td>\n      <td>25541.0</td>\n      <td>da</td>\n      <td>Former Danish servicemen Lars and Jimmy are th...</td>\n      <td>2.587911</td>\n      <td>/q19Q5BRZpMXoNCA4OYodVozfjUh.jpg</td>\n      <td>NaN</td>\n      <td>Sweden|Denmark</td>\n      <td>2009-10-21</td>\n      <td>NaN</td>\n      <td>90.0</td>\n      <td>Dansk</td>\n      <td>Released</td>\n      <td>NaN</td>\n      <td>Brotherhood</td>\n      <td>7.1</td>\n      <td>21.0</td>\n    </tr>\n    <tr>\n      <th>29374</th>\n      <td>NaN</td>\n      <td>NaN</td>\n      <td>Drama|Foreign</td>\n      <td>42495.0</td>\n      <td>en</td>\n      <td>King Lear, old and tired, divides his kingdom ...</td>\n      <td>0.187901</td>\n      <td>/xuE1IlUCohbxMY0fiqKTT6d013n.jpg</td>\n      <td>Royal Shakespeare Company|Laterna Film|Athena ...</td>\n      <td>Denmark|United Kingdom</td>\n      <td>1971-02-04</td>\n      <td>NaN</td>\n      <td>137.0</td>\n      <td>English</td>\n      <td>Rumored</td>\n      <td>NaN</td>\n      <td>King Lear</td>\n      <td>8.0</td>\n      <td>3.0</td>\n    </tr>\n    <tr>\n      <th>15702</th>\n      <td>NaN</td>\n      <td>NaN</td>\n      <td>Drama|Foreign</td>\n      <td>42495.0</td>\n      <td>en</td>\n      <td>King Lear, old and tired, divides his kingdom ...</td>\n      <td>0.187901</td>\n      <td>/xuE1IlUCohbxMY0fiqKTT6d013n.jpg</td>\n      <td>Royal Shakespeare Company|Laterna Film|Athena ...</td>\n      <td>Denmark|United Kingdom</td>\n      <td>1971-02-04</td>\n      <td>NaN</td>\n      <td>137.0</td>\n      <td>English</td>\n      <td>Rumored</td>\n      <td>NaN</td>\n      <td>King Lear</td>\n      <td>8.0</td>\n      <td>3.0</td>\n    </tr>\n    <tr>\n      <th>13946</th>\n      <td>NaN</td>\n      <td>NaN</td>\n      <td>Comedy</td>\n      <td>97995.0</td>\n      <td>en</td>\n      <td>After breaking a mirror in his home, superstit...</td>\n      <td>0.141558</td>\n      <td>/4J6Ai4C5YRgfRUTlirrJ7QsmJKU.jpg</td>\n      <td>Max Linder Productions</td>\n      <td>United States of America</td>\n      <td>1921-02-06</td>\n      <td>NaN</td>\n      <td>62.0</td>\n      <td>English</td>\n      <td>Released</td>\n      <td>NaN</td>\n      <td>Seven Years Bad Luck</td>\n      <td>5.6</td>\n      <td>4.0</td>\n    </tr>\n    <tr>\n      <th>40276</th>\n      <td>NaN</td>\n      <td>NaN</td>\n      <td>Comedy</td>\n      <td>97995.0</td>\n      <td>en</td>\n      <td>After breaking a mirror in his home, superstit...</td>\n      <td>0.141558</td>\n      <td>/4J6Ai4C5YRgfRUTlirrJ7QsmJKU.jpg</td>\n      <td>Max Linder Productions</td>\n      <td>United States of America</td>\n      <td>1921-02-06</td>\n      <td>NaN</td>\n      <td>62.0</td>\n      <td>English</td>\n      <td>Released</td>\n      <td>NaN</td>\n      <td>Seven Years Bad Luck</td>\n      <td>5.6</td>\n      <td>4.0</td>\n    </tr>\n    <tr>\n      <th>38871</th>\n      <td>NaN</td>\n      <td>NaN</td>\n      <td>Action|Drama|Romance|Adventure</td>\n      <td>99080.0</td>\n      <td>en</td>\n      <td>Originally called White Thunder, American prod...</td>\n      <td>0.002362</td>\n      <td>/qenjwRvW9itR5pVp4CBkYfhVAOp.jpg</td>\n      <td>NaN</td>\n      <td>NaN</td>\n      <td>1931-06-21</td>\n      <td>NaN</td>\n      <td>70.0</td>\n      <td>English</td>\n      <td>Released</td>\n      <td>Actually produced during the Great Newfoundlan...</td>\n      <td>The Viking</td>\n      <td>NaN</td>\n      <td>0.0</td>\n    </tr>\n    <tr>\n      <th>16167</th>\n      <td>NaN</td>\n      <td>NaN</td>\n      <td>Action|Drama|Romance|Adventure</td>\n      <td>99080.0</td>\n      <td>en</td>\n      <td>Originally called White Thunder, American prod...</td>\n      <td>0.002362</td>\n      <td>/qenjwRvW9itR5pVp4CBkYfhVAOp.jpg</td>\n      <td>NaN</td>\n      <td>NaN</td>\n      <td>1931-06-21</td>\n      <td>NaN</td>\n      <td>70.0</td>\n      <td>English</td>\n      <td>Released</td>\n      <td>Actually produced during the Great Newfoundlan...</td>\n      <td>The Viking</td>\n      <td>NaN</td>\n      <td>0.0</td>\n    </tr>\n    <tr>\n      <th>676</th>\n      <td>NaN</td>\n      <td>NaN</td>\n      <td>Drama|Romance</td>\n      <td>105045.0</td>\n      <td>de</td>\n      <td>East-Berlin, 1961, shortly after the erection ...</td>\n      <td>0.122178</td>\n      <td>/5WFIrBhOOgc0jGmoLxMZwWqCctO.jpg</td>\n      <td>Studio Babelsberg|Centre National de la Cinéma...</td>\n      <td>Germany</td>\n      <td>1995-02-16</td>\n      <td>NaN</td>\n      <td>115.0</td>\n      <td>Deutsch</td>\n      <td>Released</td>\n      <td>A love, a hope, a wall.</td>\n      <td>The Promise</td>\n      <td>5.0</td>\n      <td>1.0</td>\n    </tr>\n    <tr>\n      <th>1465</th>\n      <td>NaN</td>\n      <td>NaN</td>\n      <td>Drama|Romance</td>\n      <td>105045.0</td>\n      <td>de</td>\n      <td>East-Berlin, 1961, shortly after the erection ...</td>\n      <td>0.122178</td>\n      <td>/5WFIrBhOOgc0jGmoLxMZwWqCctO.jpg</td>\n      <td>Studio Babelsberg|Centre National de la Cinéma...</td>\n      <td>Germany</td>\n      <td>1995-02-16</td>\n      <td>NaN</td>\n      <td>115.0</td>\n      <td>Deutsch</td>\n      <td>Released</td>\n      <td>A love, a hope, a wall.</td>\n      <td>The Promise</td>\n      <td>5.0</td>\n      <td>1.0</td>\n    </tr>\n    <tr>\n      <th>19890</th>\n      <td>NaN</td>\n      <td>NaN</td>\n      <td>Fantasy|Drama|Science Fiction</td>\n      <td>119916.0</td>\n      <td>en</td>\n      <td>Prospero, the true Duke of Milan is now living...</td>\n      <td>0.000018</td>\n      <td>/gLVRTxaLtUDkfscFKPyYrCtRnTk.jpg</td>\n      <td>NaN</td>\n      <td>NaN</td>\n      <td>1980-02-27</td>\n      <td>NaN</td>\n      <td>123.0</td>\n      <td>NaN</td>\n      <td>Released</td>\n      <td>NaN</td>\n      <td>The Tempest</td>\n      <td>NaN</td>\n      <td>0.0</td>\n    </tr>\n    <tr>\n      <th>21165</th>\n      <td>NaN</td>\n      <td>NaN</td>\n      <td>Fantasy|Drama|Science Fiction</td>\n      <td>119916.0</td>\n      <td>en</td>\n      <td>Prospero, the true Duke of Milan is now living...</td>\n      <td>0.000018</td>\n      <td>/gLVRTxaLtUDkfscFKPyYrCtRnTk.jpg</td>\n      <td>NaN</td>\n      <td>NaN</td>\n      <td>1980-02-27</td>\n      <td>NaN</td>\n      <td>123.0</td>\n      <td>NaN</td>\n      <td>Released</td>\n      <td>NaN</td>\n      <td>The Tempest</td>\n      <td>NaN</td>\n      <td>0.0</td>\n    </tr>\n    <tr>\n      <th>13375</th>\n      <td>NaN</td>\n      <td>NaN</td>\n      <td>Thriller|Mystery</td>\n      <td>141971.0</td>\n      <td>fi</td>\n      <td>Recovering from a nail gun shot to the head an...</td>\n      <td>0.411949</td>\n      <td>/8VSZ9coCzxOCW2wE2Qene1H1fKO.jpg</td>\n      <td>Filmiteollisuus Fine</td>\n      <td>Finland</td>\n      <td>2008-12-26</td>\n      <td>NaN</td>\n      <td>108.0</td>\n      <td>suomi</td>\n      <td>Released</td>\n      <td>Which one is the first to return - memory or t...</td>\n      <td>Blackout</td>\n      <td>6.7</td>\n      <td>3.0</td>\n    </tr>\n    <tr>\n      <th>13261</th>\n      <td>NaN</td>\n      <td>NaN</td>\n      <td>Thriller|Mystery</td>\n      <td>141971.0</td>\n      <td>fi</td>\n      <td>Recovering from a nail gun shot to the head an...</td>\n      <td>0.411949</td>\n      <td>/8VSZ9coCzxOCW2wE2Qene1H1fKO.jpg</td>\n      <td>Filmiteollisuus Fine</td>\n      <td>Finland</td>\n      <td>2008-12-26</td>\n      <td>NaN</td>\n      <td>108.0</td>\n      <td>suomi</td>\n      <td>Released</td>\n      <td>Which one is the first to return - memory or t...</td>\n      <td>Blackout</td>\n      <td>6.7</td>\n      <td>3.0</td>\n    </tr>\n    <tr>\n      <th>16764</th>\n      <td>NaN</td>\n      <td>NaN</td>\n      <td>Thriller|Mystery</td>\n      <td>141971.0</td>\n      <td>fi</td>\n      <td>Recovering from a nail gun shot to the head an...</td>\n      <td>0.411949</td>\n      <td>/8VSZ9coCzxOCW2wE2Qene1H1fKO.jpg</td>\n      <td>Filmiteollisuus Fine</td>\n      <td>Finland</td>\n      <td>2008-12-26</td>\n      <td>NaN</td>\n      <td>108.0</td>\n      <td>suomi</td>\n      <td>Released</td>\n      <td>Which one is the first to return - memory or t...</td>\n      <td>Blackout</td>\n      <td>6.7</td>\n      <td>3.0</td>\n    </tr>\n    <tr>\n      <th>19925</th>\n      <td>NaN</td>\n      <td>NaN</td>\n      <td>Drama|Science Fiction|Animation</td>\n      <td>152795.0</td>\n      <td>en</td>\n      <td>More than two decades after catapulting to sta...</td>\n      <td>8.534039</td>\n      <td>/nnKX3ahYoT7P3au92dNgLf4pKwA.jpg</td>\n      <td>Pandora Filmproduktion|Entre Chien et Loup|Opu...</td>\n      <td>Belgium|France|Germany|Israel|Luxembourg|Poland</td>\n      <td>2013-05-16</td>\n      <td>0.455815</td>\n      <td>122.0</td>\n      <td>English</td>\n      <td>Released</td>\n      <td>NaN</td>\n      <td>The Congress</td>\n      <td>6.4</td>\n      <td>165.0</td>\n    </tr>\n    <tr>\n      <th>21854</th>\n      <td>NaN</td>\n      <td>NaN</td>\n      <td>Drama|Science Fiction|Animation</td>\n      <td>152795.0</td>\n      <td>en</td>\n      <td>More than two decades after catapulting to sta...</td>\n      <td>8.534039</td>\n      <td>/nnKX3ahYoT7P3au92dNgLf4pKwA.jpg</td>\n      <td>Pandora Filmproduktion|Entre Chien et Loup|Opu...</td>\n      <td>Belgium|France|Germany|Israel|Luxembourg|Poland</td>\n      <td>2013-05-16</td>\n      <td>0.455815</td>\n      <td>122.0</td>\n      <td>English</td>\n      <td>Released</td>\n      <td>NaN</td>\n      <td>The Congress</td>\n      <td>6.4</td>\n      <td>165.0</td>\n    </tr>\n    <tr>\n      <th>13220</th>\n      <td>Why We Fight</td>\n      <td>NaN</td>\n      <td>Documentary</td>\n      <td>159849.0</td>\n      <td>en</td>\n      <td>The third film of Frank Capra's 'Why We Fight\"...</td>\n      <td>0.473322</td>\n      <td>/g21ruZZ3BZeUDuKMb82kejjtufk.jpg</td>\n      <td>NaN</td>\n      <td>United States of America</td>\n      <td>1943-01-01</td>\n      <td>NaN</td>\n      <td>57.0</td>\n      <td>English</td>\n      <td>Released</td>\n      <td>NaN</td>\n      <td>Why We Fight: Divide and Conquer</td>\n      <td>5.0</td>\n      <td>1.0</td>\n    </tr>\n    <tr>\n      <th>35798</th>\n      <td>Why We Fight</td>\n      <td>NaN</td>\n      <td>Documentary</td>\n      <td>159849.0</td>\n      <td>en</td>\n      <td>The third film of Frank Capra's 'Why We Fight\"...</td>\n      <td>0.473322</td>\n      <td>/g21ruZZ3BZeUDuKMb82kejjtufk.jpg</td>\n      <td>NaN</td>\n      <td>United States of America</td>\n      <td>1943-01-01</td>\n      <td>NaN</td>\n      <td>57.0</td>\n      <td>English</td>\n      <td>Released</td>\n      <td>NaN</td>\n      <td>Why We Fight: Divide and Conquer</td>\n      <td>5.0</td>\n      <td>1.0</td>\n    </tr>\n    <tr>\n      <th>13603</th>\n      <td>NaN</td>\n      <td>NaN</td>\n      <td>Drama|Comedy</td>\n      <td>168538.0</td>\n      <td>en</td>\n      <td>In Zola's Paris, an ingenue arrives at a tony ...</td>\n      <td>1.276602</td>\n      <td>/pg4PUHRFrgNfACHSh5MITQ2gYch.jpg</td>\n      <td>Cannon Group|Metro-Goldwyn-Mayer (MGM)</td>\n      <td>NaN</td>\n      <td>1983-06-13</td>\n      <td>NaN</td>\n      <td>92.0</td>\n      <td>NaN</td>\n      <td>Released</td>\n      <td>NaN</td>\n      <td>Nana, the True Key of Pleasure</td>\n      <td>4.7</td>\n      <td>3.0</td>\n    </tr>\n    <tr>\n      <th>28860</th>\n      <td>NaN</td>\n      <td>NaN</td>\n      <td>Drama|Comedy</td>\n      <td>168538.0</td>\n      <td>en</td>\n      <td>In Zola's Paris, an ingenue arrives at a tony ...</td>\n      <td>1.276602</td>\n      <td>/pg4PUHRFrgNfACHSh5MITQ2gYch.jpg</td>\n      <td>Cannon Group|Metro-Goldwyn-Mayer (MGM)</td>\n      <td>NaN</td>\n      <td>1983-06-13</td>\n      <td>NaN</td>\n      <td>92.0</td>\n      <td>NaN</td>\n      <td>Released</td>\n      <td>NaN</td>\n      <td>Nana, the True Key of Pleasure</td>\n      <td>4.7</td>\n      <td>3.0</td>\n    </tr>\n    <tr>\n      <th>24164</th>\n      <td>NaN</td>\n      <td>NaN</td>\n      <td>Comedy|Drama</td>\n      <td>265189.0</td>\n      <td>sv</td>\n      <td>While holidaying in the French Alps, a Swedish...</td>\n      <td>12.165685</td>\n      <td>/rGMtc9AtZsnWSSL5VnLaGvx1PI6.jpg</td>\n      <td>Motlys|Coproduction Office|Film i Väst</td>\n      <td>Norway|Sweden|France</td>\n      <td>2014-08-15</td>\n      <td>1.359497</td>\n      <td>118.0</td>\n      <td>Français|Norsk|svenska|English</td>\n      <td>Released</td>\n      <td>NaN</td>\n      <td>Force Majeure</td>\n      <td>6.8</td>\n      <td>255.0</td>\n    </tr>\n    <tr>\n      <th>45265</th>\n      <td>NaN</td>\n      <td>NaN</td>\n      <td>Comedy|Drama</td>\n      <td>265189.0</td>\n      <td>sv</td>\n      <td>While holidaying in the French Alps, a Swedish...</td>\n      <td>12.165685</td>\n      <td>/rGMtc9AtZsnWSSL5VnLaGvx1PI6.jpg</td>\n      <td>Motlys|Coproduction Office|Film i Väst</td>\n      <td>Norway|Sweden|France</td>\n      <td>2014-08-15</td>\n      <td>1.359497</td>\n      <td>118.0</td>\n      <td>Français|Norsk|svenska|English</td>\n      <td>Released</td>\n      <td>NaN</td>\n      <td>Force Majeure</td>\n      <td>6.8</td>\n      <td>255.0</td>\n    </tr>\n    <tr>\n      <th>33184</th>\n      <td>NaN</td>\n      <td>0.98</td>\n      <td>Drama|Fantasy</td>\n      <td>298721.0</td>\n      <td>th</td>\n      <td>In a hospital, ten soldiers are being treated ...</td>\n      <td>2.535419</td>\n      <td>/5GasjPRAy5rlEyDOH7MeOyxyQGX.jpg</td>\n      <td>Match Factory, The|Louverture Films|Tordenfilm...</td>\n      <td>United Kingdom|United States of America|France...</td>\n      <td>2015-09-02</td>\n      <td>NaN</td>\n      <td>122.0</td>\n      <td>English|ภาษาไทย</td>\n      <td>Released</td>\n      <td>NaN</td>\n      <td>Cemetery of Splendour</td>\n      <td>4.4</td>\n      <td>50.0</td>\n    </tr>\n    <tr>\n      <th>40040</th>\n      <td>NaN</td>\n      <td>0.98</td>\n      <td>Drama|Fantasy</td>\n      <td>298721.0</td>\n      <td>th</td>\n      <td>In a hospital, ten soldiers are being treated ...</td>\n      <td>2.535419</td>\n      <td>/5GasjPRAy5rlEyDOH7MeOyxyQGX.jpg</td>\n      <td>Match Factory, The|Louverture Films|Tordenfilm...</td>\n      <td>United Kingdom|United States of America|France...</td>\n      <td>2015-09-02</td>\n      <td>NaN</td>\n      <td>122.0</td>\n      <td>English|ภาษาไทย</td>\n      <td>Released</td>\n      <td>NaN</td>\n      <td>Cemetery of Splendour</td>\n      <td>4.4</td>\n      <td>50.0</td>\n    </tr>\n  </tbody>\n</table>\n</div>"
     },
     "execution_count": 190,
     "metadata": {},
     "output_type": "execute_result"
    }
   ],
   "source": [
    "df[df.duplicated(keep=False)].sort_values(by=\"id\")"
   ]
  },
  {
   "cell_type": "code",
   "execution_count": 191,
   "outputs": [],
   "source": [
    "df.drop_duplicates(inplace=True)"
   ],
   "metadata": {
    "collapsed": false,
    "ExecuteTime": {
     "end_time": "2023-07-10T23:59:58.759080200Z",
     "start_time": "2023-07-10T23:59:58.668951100Z"
    }
   }
  },
  {
   "cell_type": "code",
   "execution_count": 192,
   "outputs": [
    {
     "data": {
      "text/plain": "      belongs_to_collection  budget_musd  \\\n33826                   NaN    30.000000   \n5865                    NaN    30.000000   \n4114     Pokémon Collection    16.000000   \n44821    Pokémon Collection    16.000000   \n44826    Pokémon Collection          NaN   \n5535     Pokémon Collection          NaN   \n15765                   NaN     0.002500   \n11342                   NaN     0.002500   \n10419                   NaN     1.600000   \n12066                   NaN     1.600000   \n5130                    NaN    26.000000   \n33743                   NaN    26.000000   \n949                     NaN     0.000004   \n15074                   NaN     0.000004   \n9576                    NaN    10.000000   \n26625                   NaN    10.000000   \n20843                   NaN    40.000000   \n11155                   NaN    40.000000   \n21116                   NaN          NaN   \n2564                    NaN          NaN   \n20899                   NaN          NaN   \n5710                    NaN          NaN   \n23534                   NaN     3.512454   \n4356                    NaN     3.512454   \n30001                   NaN          NaN   \n838                     NaN          NaN   \n19730                   NaN          NaN   \n29503                   NaN          NaN   \n35587                   NaN          NaN   \n\n                                                  genres        id  \\\n33826                Comedy|Crime|Drama|Romance|Thriller    4912.0   \n5865                 Comedy|Crime|Drama|Romance|Thriller    4912.0   \n4114           Adventure|Fantasy|Animation|Action|Family   10991.0   \n44821          Adventure|Fantasy|Animation|Action|Family   10991.0   \n44826  Adventure|Fantasy|Animation|Science Fiction|Fa...   12600.0   \n5535   Adventure|Fantasy|Animation|Science Fiction|Fa...   12600.0   \n15765                               Drama|Comedy|Foreign   13209.0   \n11342                               Drama|Comedy|Foreign   13209.0   \n10419                                Drama|Crime|Mystery   14788.0   \n12066                                Drama|Crime|Mystery   14788.0   \n5130           Adventure|Family|Science Fiction|Thriller   15028.0   \n33743          Adventure|Family|Science Fiction|Thriller   15028.0   \n949                                    Drama|Romance|War   22649.0   \n15074                                  Drama|Romance|War   22649.0   \n9576                 Drama|Horror|Music|Romance|TV Movie   69234.0   \n26625                Drama|Horror|Music|Romance|TV Movie   69234.0   \n20843                                    Adventure|Drama   77221.0   \n11155                                    Adventure|Drama   77221.0   \n21116                                        Documentary   84198.0   \n2564                                         Documentary   84198.0   \n20899                                              Drama  109962.0   \n5710                                               Drama  109962.0   \n23534                                              Drama  110428.0   \n4356                                               Drama  110428.0   \n30001                                              Drama  132641.0   \n838                                                Drama  132641.0   \n19730  Carousel Productions|Vision View Entertainment...       NaN   \n29503  Aniplex|GoHands|BROSTA TV|Mardock Scramble Pro...       NaN   \n35587  Odyssey Media|Pulser Productions|Rogue State|T...       NaN   \n\n      original_language                                           overview  \\\n33826                en  Television made him famous, but his biggest hi...   \n5865                 en  Television made him famous, but his biggest hi...   \n4114                 ja  When Molly Hale's sadness of her father's disa...   \n44821                ja  When Molly Hale's sadness of her father's disa...   \n44826                ja  All your favorite Pokémon characters are back,...   \n5535                 ja  All your favorite Pokémon characters are back,...   \n15765                fa  Since women are banned from soccer matches, Ir...   \n11342                fa  Since women are banned from soccer matches, Ir...   \n10419                en  Set against the backdrop of a decaying Midwest...   \n12066                en  Set against the backdrop of a decaying Midwest...   \n5130                 en  Until now, Zak Gibbs' greatest challenge has b...   \n33743                en  Until now, Zak Gibbs' greatest challenge has b...   \n949                  en  British nurse Catherine Barkley (Helen Hayes) ...   \n15074                en  British nurse Catherine Barkley (Helen Hayes) ...   \n9576                 en  Count de Chagnie has discovered Christine's si...   \n26625                en  Count de Chagnie has discovered Christine's si...   \n20843                en  On the Arabian Peninsula in the 1930s, two war...   \n11155                en  On the Arabian Peninsula in the 1930s, two war...   \n21116                en  Using personal stories, this powerful document...   \n2564                 en  Using personal stories, this powerful document...   \n20899                en  Two literary women compete for 20 years: one w...   \n5710                 en  Two literary women compete for 20 years: one w...   \n23534                fr  Winter, 1915. Confined by her family to an asy...   \n4356                 fr  Winter, 1915. Confined by her family to an asy...   \n30001                ja  Ten years into a marriage, the wife is disappo...   \n838                  ja  Ten years into a marriage, the wife is disappo...   \n19730             104.0                                           Released   \n29503              68.0                                           Released   \n35587              82.0                                           Released   \n\n       popularity                          poster_path  \\\n33826    7.645827     /o3Im9nPLAgtlw1j2LtpMebAotSe.jpg   \n5865    11.331072     /o3Im9nPLAgtlw1j2LtpMebAotSe.jpg   \n4114    10.264597     /5ILjS6XB5deiHop8SXPsYxXWVPE.jpg   \n44821    6.480376     /5ILjS6XB5deiHop8SXPsYxXWVPE.jpg   \n44826    6.080108     /bqL0PVHbQ8Jmw3Njcl38kW0CoeM.jpg   \n5535     7.072301     /bqL0PVHbQ8Jmw3Njcl38kW0CoeM.jpg   \n15765    1.529879     /nfkOkpudNNIjRrf0mTFVoiGzHyc.jpg   \n11342    1.528960     /nfkOkpudNNIjRrf0mTFVoiGzHyc.jpg   \n10419    3.185256     /w56oo9nREcF54sNXVYuE9QxZFjT.jpg   \n12066    3.008299     /w56oo9nREcF54sNXVYuE9QxZFjT.jpg   \n5130     5.373623     /xGhDPrBz9mJN8CsIjA23jQSd3sc.jpg   \n33743    4.920175     /xGhDPrBz9mJN8CsIjA23jQSd3sc.jpg   \n949      1.914697     /k0MF0IIbJ2PfOIku2KyraXL72d8.jpg   \n15074    2.411191     /k0MF0IIbJ2PfOIku2KyraXL72d8.jpg   \n9576     0.441872     /ole8e9YQwvHoKVpWO0lgfLFFemc.jpg   \n26625    0.438490     /ole8e9YQwvHoKVpWO0lgfLFFemc.jpg   \n20843    6.475665     /iQd7zWhSeCe3cgdPcLIDXjGfdzL.jpg   \n11155    6.652197     /iQd7zWhSeCe3cgdPcLIDXjGfdzL.jpg   \n21116    1.673307     /jn8L1QdWWX5c0NUOLjzaSXtZrbt.jpg   \n2564     0.501046     /jn8L1QdWWX5c0NUOLjzaSXtZrbt.jpg   \n20899   10.396878     /tOflyY8eUFWubLKJH7fKg4KwpCl.jpg   \n5710    12.180836     /tOflyY8eUFWubLKJH7fKg4KwpCl.jpg   \n23534    0.110065     /sGMPDg6je1zKi0TiX9b4pP6yN02.jpg   \n4356     0.134014     /sGMPDg6je1zKi0TiX9b4pP6yN02.jpg   \n30001    0.619388     /z9WiHt5uQjs8L8tyBpRBKzlheF2.jpg   \n838      0.096079     /z9WiHt5uQjs8L8tyBpRBKzlheF2.jpg   \n19730         NaN                         Midnight Man   \n29503         NaN  Mardock Scramble: The Third Exhaust   \n35587         NaN                     Avalanche Sharks   \n\n                                    production_companies  \\\n33826         Miramax Films|Allied Filmmakers|Mad Chance   \n5865          Miramax Films|Allied Filmmakers|Mad Chance   \n4114   TV Tokyo|4 Kids Entertainment|Nintendo|Pikachu...   \n44821  TV Tokyo|4 Kids Entertainment|Nintendo|Pikachu...   \n44826                                                NaN   \n5535                                                 NaN   \n15765                      Jafar Panahi Film Productions   \n11342                      Jafar Panahi Film Productions   \n10419                    Magnolia Pictures|Extension 765   \n12066                    Magnolia Pictures|Extension 765   \n5130   Paramount Pictures|Nickelodeon Movies|Valhalla...   \n33743  Paramount Pictures|Nickelodeon Movies|Valhalla...   \n949                                   Paramount Pictures   \n15074                                 Paramount Pictures   \n9576   Beta Film|Reteitalia|TF1|Hexatel|Saban/Scheric...   \n26625  Beta Film|Reteitalia|TF1|Hexatel|Saban/Scheric...   \n20843  France 2 Cinéma|Quinta Communications|Carthago...   \n11155  France 2 Cinéma|Quinta Communications|Carthago...   \n21116                                                NaN   \n2564                                                 NaN   \n20899                   Metro-Goldwyn-Mayer (MGM)|Jaquet   \n5710                    Metro-Goldwyn-Mayer (MGM)|Jaquet   \n23534  Canal+|Arte France Cinéma|3B Productions|C.R.R...   \n4356   Canal+|Arte France Cinéma|3B Productions|C.R.R...   \n30001                                       Toho Company   \n838                                         Toho Company   \n19730                                                NaN   \n29503                                                NaN   \n35587                                                NaN   \n\n                                production_countries release_date  \\\n33826                       United States of America   2002-12-30   \n5865                        United States of America   2002-12-30   \n4114                                           Japan   2000-07-08   \n44821                                          Japan   2000-07-08   \n44826                 Japan|United States of America   2001-07-06   \n5535                  Japan|United States of America   2001-07-06   \n15765                                           Iran   2006-05-26   \n11342                                           Iran   2006-05-26   \n10419                       United States of America   2005-09-03   \n12066                       United States of America   2005-09-03   \n5130                        United States of America   2002-03-17   \n33743                       United States of America   2002-03-17   \n949                         United States of America   1932-12-08   \n15074                       United States of America   1932-12-08   \n9576   France|Germany|Italy|United States of America   1990-03-18   \n26625  France|Germany|Italy|United States of America   1990-03-18   \n20843                     France|Italy|Qatar|Tunisia   2011-12-21   \n11155                     France|Italy|Qatar|Tunisia   2011-12-21   \n21116                       United States of America   2012-03-22   \n2564                        United States of America   2012-03-22   \n20899                       United States of America   1981-09-23   \n5710                        United States of America   1981-09-23   \n23534                                         France   2013-03-13   \n4356                                          France   2013-03-13   \n30001                                          Japan   1953-04-29   \n838                                            Japan   1953-04-29   \n19730                                            NaN          NaT   \n29503                                            NaN          NaT   \n35587                                            NaN          NaT   \n\n       revenue_musd  runtime  spoken_languages    status  \\\n33826     33.013805    113.0           English  Released   \n5865      33.013805    113.0           English  Released   \n4114      68.411275     93.0           English  Released   \n44821     68.411275     93.0           English  Released   \n44826     28.023563     75.0               日本語  Released   \n5535      28.023563     75.0               日本語  Released   \n15765           NaN     93.0             فارسی  Released   \n11342           NaN     93.0             فارسی  Released   \n10419           NaN     73.0           English  Released   \n12066           NaN     73.0           English  Released   \n5130      38.793283     94.0     Český|English  Released   \n33743     38.793283     94.0     Český|English  Released   \n949        0.000025     89.0           English  Released   \n15074      0.000025     89.0           English  Released   \n9576            NaN    168.0  English|Italiano  Released   \n26625           NaN    168.0  English|Italiano  Released   \n20843      5.446000    130.0           English  Released   \n11155      5.446000    130.0           English  Released   \n21116           NaN     84.0           English  Released   \n2564            NaN     84.0           English  Released   \n20899           NaN    115.0           English  Released   \n5710            NaN    115.0           English  Released   \n23534      0.115860     95.0          Français  Released   \n4356       0.115860     95.0          Français  Released   \n30001           NaN     89.0               日本語  Released   \n838             NaN     89.0               日本語  Released   \n19730           NaN      NaN               NaN       NaN   \n29503           NaN      NaN               NaN       NaN   \n35587           NaN      NaN               NaN       NaN   \n\n                                                 tagline  \\\n33826            Some things are better left top secret.   \n5865             Some things are better left top secret.   \n4114                       Pokémon: Spell of the Unknown   \n44821                      Pokémon: Spell of the Unknown   \n44826                                                NaN   \n5535                                                 NaN   \n15765                                                NaN   \n11342                                                NaN   \n10419                                                NaN   \n12066                                                NaN   \n5130   The adventure of a lifetime, in a few mere sec...   \n33743  The adventure of a lifetime, in a few mere sec...   \n949            Every woman who has loved will understand   \n15074          Every woman who has loved will understand   \n9576                                                 NaN   \n26625                                                NaN   \n20843                                                NaN   \n11155                                                NaN   \n21116                              One Nation. Underfed.   \n2564                               One Nation. Underfed.   \n20899  From the very beginning, they knew they'd be f...   \n5710   From the very beginning, they knew they'd be f...   \n23534                                                NaN   \n4356                                                 NaN   \n30001                                                NaN   \n838                                                  NaN   \n19730                                                NaN   \n29503                                                NaN   \n35587                                                NaN   \n\n                                             title  vote_average  vote_count  \n33826              Confessions of a Dangerous Mind           6.6       281.0  \n5865               Confessions of a Dangerous Mind           6.6       281.0  \n4114                 Pokémon: Spell of the Unknown           6.0       143.0  \n44821                Pokémon: Spell of the Unknown           6.0       144.0  \n44826  Pokémon 4Ever: Celebi - Voice of the Forest           5.7        82.0  \n5535   Pokémon 4Ever: Celebi - Voice of the Forest           5.7        82.0  \n15765                                      Offside           6.7        27.0  \n11342                                      Offside           6.7        27.0  \n10419                                       Bubble           6.4        36.0  \n12066                                       Bubble           6.4        36.0  \n5130                                 Clockstoppers           4.9        89.0  \n33743                                Clockstoppers           4.9        90.0  \n949                             A Farewell to Arms           6.2        29.0  \n15074                           A Farewell to Arms           6.2        29.0  \n9576                      The Phantom of the Opera           5.0         3.0  \n26625                     The Phantom of the Opera           5.0         3.0  \n20843                                   Black Gold           5.9        77.0  \n11155                                   Black Gold           5.9        77.0  \n21116                         A Place at the Table           6.9         7.0  \n2564                          A Place at the Table           6.9         7.0  \n20899                              Rich and Famous           4.9         7.0  \n5710                               Rich and Famous           4.9         7.0  \n23534                         Camille Claudel 1915           7.0        20.0  \n4356                          Camille Claudel 1915           7.0        20.0  \n30001                                         Wife           NaN         0.0  \n838                                           Wife           NaN         0.0  \n19730                                          NaN           NaN         NaN  \n29503                                          NaN           NaN         NaN  \n35587                                          NaN           NaN         NaN  ",
      "text/html": "<div>\n<style scoped>\n    .dataframe tbody tr th:only-of-type {\n        vertical-align: middle;\n    }\n\n    .dataframe tbody tr th {\n        vertical-align: top;\n    }\n\n    .dataframe thead th {\n        text-align: right;\n    }\n</style>\n<table border=\"1\" class=\"dataframe\">\n  <thead>\n    <tr style=\"text-align: right;\">\n      <th></th>\n      <th>belongs_to_collection</th>\n      <th>budget_musd</th>\n      <th>genres</th>\n      <th>id</th>\n      <th>original_language</th>\n      <th>overview</th>\n      <th>popularity</th>\n      <th>poster_path</th>\n      <th>production_companies</th>\n      <th>production_countries</th>\n      <th>release_date</th>\n      <th>revenue_musd</th>\n      <th>runtime</th>\n      <th>spoken_languages</th>\n      <th>status</th>\n      <th>tagline</th>\n      <th>title</th>\n      <th>vote_average</th>\n      <th>vote_count</th>\n    </tr>\n  </thead>\n  <tbody>\n    <tr>\n      <th>33826</th>\n      <td>NaN</td>\n      <td>30.000000</td>\n      <td>Comedy|Crime|Drama|Romance|Thriller</td>\n      <td>4912.0</td>\n      <td>en</td>\n      <td>Television made him famous, but his biggest hi...</td>\n      <td>7.645827</td>\n      <td>/o3Im9nPLAgtlw1j2LtpMebAotSe.jpg</td>\n      <td>Miramax Films|Allied Filmmakers|Mad Chance</td>\n      <td>United States of America</td>\n      <td>2002-12-30</td>\n      <td>33.013805</td>\n      <td>113.0</td>\n      <td>English</td>\n      <td>Released</td>\n      <td>Some things are better left top secret.</td>\n      <td>Confessions of a Dangerous Mind</td>\n      <td>6.6</td>\n      <td>281.0</td>\n    </tr>\n    <tr>\n      <th>5865</th>\n      <td>NaN</td>\n      <td>30.000000</td>\n      <td>Comedy|Crime|Drama|Romance|Thriller</td>\n      <td>4912.0</td>\n      <td>en</td>\n      <td>Television made him famous, but his biggest hi...</td>\n      <td>11.331072</td>\n      <td>/o3Im9nPLAgtlw1j2LtpMebAotSe.jpg</td>\n      <td>Miramax Films|Allied Filmmakers|Mad Chance</td>\n      <td>United States of America</td>\n      <td>2002-12-30</td>\n      <td>33.013805</td>\n      <td>113.0</td>\n      <td>English</td>\n      <td>Released</td>\n      <td>Some things are better left top secret.</td>\n      <td>Confessions of a Dangerous Mind</td>\n      <td>6.6</td>\n      <td>281.0</td>\n    </tr>\n    <tr>\n      <th>4114</th>\n      <td>Pokémon Collection</td>\n      <td>16.000000</td>\n      <td>Adventure|Fantasy|Animation|Action|Family</td>\n      <td>10991.0</td>\n      <td>ja</td>\n      <td>When Molly Hale's sadness of her father's disa...</td>\n      <td>10.264597</td>\n      <td>/5ILjS6XB5deiHop8SXPsYxXWVPE.jpg</td>\n      <td>TV Tokyo|4 Kids Entertainment|Nintendo|Pikachu...</td>\n      <td>Japan</td>\n      <td>2000-07-08</td>\n      <td>68.411275</td>\n      <td>93.0</td>\n      <td>English</td>\n      <td>Released</td>\n      <td>Pokémon: Spell of the Unknown</td>\n      <td>Pokémon: Spell of the Unknown</td>\n      <td>6.0</td>\n      <td>143.0</td>\n    </tr>\n    <tr>\n      <th>44821</th>\n      <td>Pokémon Collection</td>\n      <td>16.000000</td>\n      <td>Adventure|Fantasy|Animation|Action|Family</td>\n      <td>10991.0</td>\n      <td>ja</td>\n      <td>When Molly Hale's sadness of her father's disa...</td>\n      <td>6.480376</td>\n      <td>/5ILjS6XB5deiHop8SXPsYxXWVPE.jpg</td>\n      <td>TV Tokyo|4 Kids Entertainment|Nintendo|Pikachu...</td>\n      <td>Japan</td>\n      <td>2000-07-08</td>\n      <td>68.411275</td>\n      <td>93.0</td>\n      <td>English</td>\n      <td>Released</td>\n      <td>Pokémon: Spell of the Unknown</td>\n      <td>Pokémon: Spell of the Unknown</td>\n      <td>6.0</td>\n      <td>144.0</td>\n    </tr>\n    <tr>\n      <th>44826</th>\n      <td>Pokémon Collection</td>\n      <td>NaN</td>\n      <td>Adventure|Fantasy|Animation|Science Fiction|Fa...</td>\n      <td>12600.0</td>\n      <td>ja</td>\n      <td>All your favorite Pokémon characters are back,...</td>\n      <td>6.080108</td>\n      <td>/bqL0PVHbQ8Jmw3Njcl38kW0CoeM.jpg</td>\n      <td>NaN</td>\n      <td>Japan|United States of America</td>\n      <td>2001-07-06</td>\n      <td>28.023563</td>\n      <td>75.0</td>\n      <td>日本語</td>\n      <td>Released</td>\n      <td>NaN</td>\n      <td>Pokémon 4Ever: Celebi - Voice of the Forest</td>\n      <td>5.7</td>\n      <td>82.0</td>\n    </tr>\n    <tr>\n      <th>5535</th>\n      <td>Pokémon Collection</td>\n      <td>NaN</td>\n      <td>Adventure|Fantasy|Animation|Science Fiction|Fa...</td>\n      <td>12600.0</td>\n      <td>ja</td>\n      <td>All your favorite Pokémon characters are back,...</td>\n      <td>7.072301</td>\n      <td>/bqL0PVHbQ8Jmw3Njcl38kW0CoeM.jpg</td>\n      <td>NaN</td>\n      <td>Japan|United States of America</td>\n      <td>2001-07-06</td>\n      <td>28.023563</td>\n      <td>75.0</td>\n      <td>日本語</td>\n      <td>Released</td>\n      <td>NaN</td>\n      <td>Pokémon 4Ever: Celebi - Voice of the Forest</td>\n      <td>5.7</td>\n      <td>82.0</td>\n    </tr>\n    <tr>\n      <th>15765</th>\n      <td>NaN</td>\n      <td>0.002500</td>\n      <td>Drama|Comedy|Foreign</td>\n      <td>13209.0</td>\n      <td>fa</td>\n      <td>Since women are banned from soccer matches, Ir...</td>\n      <td>1.529879</td>\n      <td>/nfkOkpudNNIjRrf0mTFVoiGzHyc.jpg</td>\n      <td>Jafar Panahi Film Productions</td>\n      <td>Iran</td>\n      <td>2006-05-26</td>\n      <td>NaN</td>\n      <td>93.0</td>\n      <td>فارسی</td>\n      <td>Released</td>\n      <td>NaN</td>\n      <td>Offside</td>\n      <td>6.7</td>\n      <td>27.0</td>\n    </tr>\n    <tr>\n      <th>11342</th>\n      <td>NaN</td>\n      <td>0.002500</td>\n      <td>Drama|Comedy|Foreign</td>\n      <td>13209.0</td>\n      <td>fa</td>\n      <td>Since women are banned from soccer matches, Ir...</td>\n      <td>1.528960</td>\n      <td>/nfkOkpudNNIjRrf0mTFVoiGzHyc.jpg</td>\n      <td>Jafar Panahi Film Productions</td>\n      <td>Iran</td>\n      <td>2006-05-26</td>\n      <td>NaN</td>\n      <td>93.0</td>\n      <td>فارسی</td>\n      <td>Released</td>\n      <td>NaN</td>\n      <td>Offside</td>\n      <td>6.7</td>\n      <td>27.0</td>\n    </tr>\n    <tr>\n      <th>10419</th>\n      <td>NaN</td>\n      <td>1.600000</td>\n      <td>Drama|Crime|Mystery</td>\n      <td>14788.0</td>\n      <td>en</td>\n      <td>Set against the backdrop of a decaying Midwest...</td>\n      <td>3.185256</td>\n      <td>/w56oo9nREcF54sNXVYuE9QxZFjT.jpg</td>\n      <td>Magnolia Pictures|Extension 765</td>\n      <td>United States of America</td>\n      <td>2005-09-03</td>\n      <td>NaN</td>\n      <td>73.0</td>\n      <td>English</td>\n      <td>Released</td>\n      <td>NaN</td>\n      <td>Bubble</td>\n      <td>6.4</td>\n      <td>36.0</td>\n    </tr>\n    <tr>\n      <th>12066</th>\n      <td>NaN</td>\n      <td>1.600000</td>\n      <td>Drama|Crime|Mystery</td>\n      <td>14788.0</td>\n      <td>en</td>\n      <td>Set against the backdrop of a decaying Midwest...</td>\n      <td>3.008299</td>\n      <td>/w56oo9nREcF54sNXVYuE9QxZFjT.jpg</td>\n      <td>Magnolia Pictures|Extension 765</td>\n      <td>United States of America</td>\n      <td>2005-09-03</td>\n      <td>NaN</td>\n      <td>73.0</td>\n      <td>English</td>\n      <td>Released</td>\n      <td>NaN</td>\n      <td>Bubble</td>\n      <td>6.4</td>\n      <td>36.0</td>\n    </tr>\n    <tr>\n      <th>5130</th>\n      <td>NaN</td>\n      <td>26.000000</td>\n      <td>Adventure|Family|Science Fiction|Thriller</td>\n      <td>15028.0</td>\n      <td>en</td>\n      <td>Until now, Zak Gibbs' greatest challenge has b...</td>\n      <td>5.373623</td>\n      <td>/xGhDPrBz9mJN8CsIjA23jQSd3sc.jpg</td>\n      <td>Paramount Pictures|Nickelodeon Movies|Valhalla...</td>\n      <td>United States of America</td>\n      <td>2002-03-17</td>\n      <td>38.793283</td>\n      <td>94.0</td>\n      <td>Český|English</td>\n      <td>Released</td>\n      <td>The adventure of a lifetime, in a few mere sec...</td>\n      <td>Clockstoppers</td>\n      <td>4.9</td>\n      <td>89.0</td>\n    </tr>\n    <tr>\n      <th>33743</th>\n      <td>NaN</td>\n      <td>26.000000</td>\n      <td>Adventure|Family|Science Fiction|Thriller</td>\n      <td>15028.0</td>\n      <td>en</td>\n      <td>Until now, Zak Gibbs' greatest challenge has b...</td>\n      <td>4.920175</td>\n      <td>/xGhDPrBz9mJN8CsIjA23jQSd3sc.jpg</td>\n      <td>Paramount Pictures|Nickelodeon Movies|Valhalla...</td>\n      <td>United States of America</td>\n      <td>2002-03-17</td>\n      <td>38.793283</td>\n      <td>94.0</td>\n      <td>Český|English</td>\n      <td>Released</td>\n      <td>The adventure of a lifetime, in a few mere sec...</td>\n      <td>Clockstoppers</td>\n      <td>4.9</td>\n      <td>90.0</td>\n    </tr>\n    <tr>\n      <th>949</th>\n      <td>NaN</td>\n      <td>0.000004</td>\n      <td>Drama|Romance|War</td>\n      <td>22649.0</td>\n      <td>en</td>\n      <td>British nurse Catherine Barkley (Helen Hayes) ...</td>\n      <td>1.914697</td>\n      <td>/k0MF0IIbJ2PfOIku2KyraXL72d8.jpg</td>\n      <td>Paramount Pictures</td>\n      <td>United States of America</td>\n      <td>1932-12-08</td>\n      <td>0.000025</td>\n      <td>89.0</td>\n      <td>English</td>\n      <td>Released</td>\n      <td>Every woman who has loved will understand</td>\n      <td>A Farewell to Arms</td>\n      <td>6.2</td>\n      <td>29.0</td>\n    </tr>\n    <tr>\n      <th>15074</th>\n      <td>NaN</td>\n      <td>0.000004</td>\n      <td>Drama|Romance|War</td>\n      <td>22649.0</td>\n      <td>en</td>\n      <td>British nurse Catherine Barkley (Helen Hayes) ...</td>\n      <td>2.411191</td>\n      <td>/k0MF0IIbJ2PfOIku2KyraXL72d8.jpg</td>\n      <td>Paramount Pictures</td>\n      <td>United States of America</td>\n      <td>1932-12-08</td>\n      <td>0.000025</td>\n      <td>89.0</td>\n      <td>English</td>\n      <td>Released</td>\n      <td>Every woman who has loved will understand</td>\n      <td>A Farewell to Arms</td>\n      <td>6.2</td>\n      <td>29.0</td>\n    </tr>\n    <tr>\n      <th>9576</th>\n      <td>NaN</td>\n      <td>10.000000</td>\n      <td>Drama|Horror|Music|Romance|TV Movie</td>\n      <td>69234.0</td>\n      <td>en</td>\n      <td>Count de Chagnie has discovered Christine's si...</td>\n      <td>0.441872</td>\n      <td>/ole8e9YQwvHoKVpWO0lgfLFFemc.jpg</td>\n      <td>Beta Film|Reteitalia|TF1|Hexatel|Saban/Scheric...</td>\n      <td>France|Germany|Italy|United States of America</td>\n      <td>1990-03-18</td>\n      <td>NaN</td>\n      <td>168.0</td>\n      <td>English|Italiano</td>\n      <td>Released</td>\n      <td>NaN</td>\n      <td>The Phantom of the Opera</td>\n      <td>5.0</td>\n      <td>3.0</td>\n    </tr>\n    <tr>\n      <th>26625</th>\n      <td>NaN</td>\n      <td>10.000000</td>\n      <td>Drama|Horror|Music|Romance|TV Movie</td>\n      <td>69234.0</td>\n      <td>en</td>\n      <td>Count de Chagnie has discovered Christine's si...</td>\n      <td>0.438490</td>\n      <td>/ole8e9YQwvHoKVpWO0lgfLFFemc.jpg</td>\n      <td>Beta Film|Reteitalia|TF1|Hexatel|Saban/Scheric...</td>\n      <td>France|Germany|Italy|United States of America</td>\n      <td>1990-03-18</td>\n      <td>NaN</td>\n      <td>168.0</td>\n      <td>English|Italiano</td>\n      <td>Released</td>\n      <td>NaN</td>\n      <td>The Phantom of the Opera</td>\n      <td>5.0</td>\n      <td>3.0</td>\n    </tr>\n    <tr>\n      <th>20843</th>\n      <td>NaN</td>\n      <td>40.000000</td>\n      <td>Adventure|Drama</td>\n      <td>77221.0</td>\n      <td>en</td>\n      <td>On the Arabian Peninsula in the 1930s, two war...</td>\n      <td>6.475665</td>\n      <td>/iQd7zWhSeCe3cgdPcLIDXjGfdzL.jpg</td>\n      <td>France 2 Cinéma|Quinta Communications|Carthago...</td>\n      <td>France|Italy|Qatar|Tunisia</td>\n      <td>2011-12-21</td>\n      <td>5.446000</td>\n      <td>130.0</td>\n      <td>English</td>\n      <td>Released</td>\n      <td>NaN</td>\n      <td>Black Gold</td>\n      <td>5.9</td>\n      <td>77.0</td>\n    </tr>\n    <tr>\n      <th>11155</th>\n      <td>NaN</td>\n      <td>40.000000</td>\n      <td>Adventure|Drama</td>\n      <td>77221.0</td>\n      <td>en</td>\n      <td>On the Arabian Peninsula in the 1930s, two war...</td>\n      <td>6.652197</td>\n      <td>/iQd7zWhSeCe3cgdPcLIDXjGfdzL.jpg</td>\n      <td>France 2 Cinéma|Quinta Communications|Carthago...</td>\n      <td>France|Italy|Qatar|Tunisia</td>\n      <td>2011-12-21</td>\n      <td>5.446000</td>\n      <td>130.0</td>\n      <td>English</td>\n      <td>Released</td>\n      <td>NaN</td>\n      <td>Black Gold</td>\n      <td>5.9</td>\n      <td>77.0</td>\n    </tr>\n    <tr>\n      <th>21116</th>\n      <td>NaN</td>\n      <td>NaN</td>\n      <td>Documentary</td>\n      <td>84198.0</td>\n      <td>en</td>\n      <td>Using personal stories, this powerful document...</td>\n      <td>1.673307</td>\n      <td>/jn8L1QdWWX5c0NUOLjzaSXtZrbt.jpg</td>\n      <td>NaN</td>\n      <td>United States of America</td>\n      <td>2012-03-22</td>\n      <td>NaN</td>\n      <td>84.0</td>\n      <td>English</td>\n      <td>Released</td>\n      <td>One Nation. Underfed.</td>\n      <td>A Place at the Table</td>\n      <td>6.9</td>\n      <td>7.0</td>\n    </tr>\n    <tr>\n      <th>2564</th>\n      <td>NaN</td>\n      <td>NaN</td>\n      <td>Documentary</td>\n      <td>84198.0</td>\n      <td>en</td>\n      <td>Using personal stories, this powerful document...</td>\n      <td>0.501046</td>\n      <td>/jn8L1QdWWX5c0NUOLjzaSXtZrbt.jpg</td>\n      <td>NaN</td>\n      <td>United States of America</td>\n      <td>2012-03-22</td>\n      <td>NaN</td>\n      <td>84.0</td>\n      <td>English</td>\n      <td>Released</td>\n      <td>One Nation. Underfed.</td>\n      <td>A Place at the Table</td>\n      <td>6.9</td>\n      <td>7.0</td>\n    </tr>\n    <tr>\n      <th>20899</th>\n      <td>NaN</td>\n      <td>NaN</td>\n      <td>Drama</td>\n      <td>109962.0</td>\n      <td>en</td>\n      <td>Two literary women compete for 20 years: one w...</td>\n      <td>10.396878</td>\n      <td>/tOflyY8eUFWubLKJH7fKg4KwpCl.jpg</td>\n      <td>Metro-Goldwyn-Mayer (MGM)|Jaquet</td>\n      <td>United States of America</td>\n      <td>1981-09-23</td>\n      <td>NaN</td>\n      <td>115.0</td>\n      <td>English</td>\n      <td>Released</td>\n      <td>From the very beginning, they knew they'd be f...</td>\n      <td>Rich and Famous</td>\n      <td>4.9</td>\n      <td>7.0</td>\n    </tr>\n    <tr>\n      <th>5710</th>\n      <td>NaN</td>\n      <td>NaN</td>\n      <td>Drama</td>\n      <td>109962.0</td>\n      <td>en</td>\n      <td>Two literary women compete for 20 years: one w...</td>\n      <td>12.180836</td>\n      <td>/tOflyY8eUFWubLKJH7fKg4KwpCl.jpg</td>\n      <td>Metro-Goldwyn-Mayer (MGM)|Jaquet</td>\n      <td>United States of America</td>\n      <td>1981-09-23</td>\n      <td>NaN</td>\n      <td>115.0</td>\n      <td>English</td>\n      <td>Released</td>\n      <td>From the very beginning, they knew they'd be f...</td>\n      <td>Rich and Famous</td>\n      <td>4.9</td>\n      <td>7.0</td>\n    </tr>\n    <tr>\n      <th>23534</th>\n      <td>NaN</td>\n      <td>3.512454</td>\n      <td>Drama</td>\n      <td>110428.0</td>\n      <td>fr</td>\n      <td>Winter, 1915. Confined by her family to an asy...</td>\n      <td>0.110065</td>\n      <td>/sGMPDg6je1zKi0TiX9b4pP6yN02.jpg</td>\n      <td>Canal+|Arte France Cinéma|3B Productions|C.R.R...</td>\n      <td>France</td>\n      <td>2013-03-13</td>\n      <td>0.115860</td>\n      <td>95.0</td>\n      <td>Français</td>\n      <td>Released</td>\n      <td>NaN</td>\n      <td>Camille Claudel 1915</td>\n      <td>7.0</td>\n      <td>20.0</td>\n    </tr>\n    <tr>\n      <th>4356</th>\n      <td>NaN</td>\n      <td>3.512454</td>\n      <td>Drama</td>\n      <td>110428.0</td>\n      <td>fr</td>\n      <td>Winter, 1915. Confined by her family to an asy...</td>\n      <td>0.134014</td>\n      <td>/sGMPDg6je1zKi0TiX9b4pP6yN02.jpg</td>\n      <td>Canal+|Arte France Cinéma|3B Productions|C.R.R...</td>\n      <td>France</td>\n      <td>2013-03-13</td>\n      <td>0.115860</td>\n      <td>95.0</td>\n      <td>Français</td>\n      <td>Released</td>\n      <td>NaN</td>\n      <td>Camille Claudel 1915</td>\n      <td>7.0</td>\n      <td>20.0</td>\n    </tr>\n    <tr>\n      <th>30001</th>\n      <td>NaN</td>\n      <td>NaN</td>\n      <td>Drama</td>\n      <td>132641.0</td>\n      <td>ja</td>\n      <td>Ten years into a marriage, the wife is disappo...</td>\n      <td>0.619388</td>\n      <td>/z9WiHt5uQjs8L8tyBpRBKzlheF2.jpg</td>\n      <td>Toho Company</td>\n      <td>Japan</td>\n      <td>1953-04-29</td>\n      <td>NaN</td>\n      <td>89.0</td>\n      <td>日本語</td>\n      <td>Released</td>\n      <td>NaN</td>\n      <td>Wife</td>\n      <td>NaN</td>\n      <td>0.0</td>\n    </tr>\n    <tr>\n      <th>838</th>\n      <td>NaN</td>\n      <td>NaN</td>\n      <td>Drama</td>\n      <td>132641.0</td>\n      <td>ja</td>\n      <td>Ten years into a marriage, the wife is disappo...</td>\n      <td>0.096079</td>\n      <td>/z9WiHt5uQjs8L8tyBpRBKzlheF2.jpg</td>\n      <td>Toho Company</td>\n      <td>Japan</td>\n      <td>1953-04-29</td>\n      <td>NaN</td>\n      <td>89.0</td>\n      <td>日本語</td>\n      <td>Released</td>\n      <td>NaN</td>\n      <td>Wife</td>\n      <td>NaN</td>\n      <td>0.0</td>\n    </tr>\n    <tr>\n      <th>19730</th>\n      <td>NaN</td>\n      <td>NaN</td>\n      <td>Carousel Productions|Vision View Entertainment...</td>\n      <td>NaN</td>\n      <td>104.0</td>\n      <td>Released</td>\n      <td>NaN</td>\n      <td>Midnight Man</td>\n      <td>NaN</td>\n      <td>NaN</td>\n      <td>NaT</td>\n      <td>NaN</td>\n      <td>NaN</td>\n      <td>NaN</td>\n      <td>NaN</td>\n      <td>NaN</td>\n      <td>NaN</td>\n      <td>NaN</td>\n      <td>NaN</td>\n    </tr>\n    <tr>\n      <th>29503</th>\n      <td>NaN</td>\n      <td>NaN</td>\n      <td>Aniplex|GoHands|BROSTA TV|Mardock Scramble Pro...</td>\n      <td>NaN</td>\n      <td>68.0</td>\n      <td>Released</td>\n      <td>NaN</td>\n      <td>Mardock Scramble: The Third Exhaust</td>\n      <td>NaN</td>\n      <td>NaN</td>\n      <td>NaT</td>\n      <td>NaN</td>\n      <td>NaN</td>\n      <td>NaN</td>\n      <td>NaN</td>\n      <td>NaN</td>\n      <td>NaN</td>\n      <td>NaN</td>\n      <td>NaN</td>\n    </tr>\n    <tr>\n      <th>35587</th>\n      <td>NaN</td>\n      <td>NaN</td>\n      <td>Odyssey Media|Pulser Productions|Rogue State|T...</td>\n      <td>NaN</td>\n      <td>82.0</td>\n      <td>Released</td>\n      <td>NaN</td>\n      <td>Avalanche Sharks</td>\n      <td>NaN</td>\n      <td>NaN</td>\n      <td>NaT</td>\n      <td>NaN</td>\n      <td>NaN</td>\n      <td>NaN</td>\n      <td>NaN</td>\n      <td>NaN</td>\n      <td>NaN</td>\n      <td>NaN</td>\n      <td>NaN</td>\n    </tr>\n  </tbody>\n</table>\n</div>"
     },
     "execution_count": 192,
     "metadata": {},
     "output_type": "execute_result"
    }
   ],
   "source": [
    "df[df.duplicated(subset=\"id\", keep=False)].sort_values(\"id\")"
   ],
   "metadata": {
    "collapsed": false,
    "ExecuteTime": {
     "end_time": "2023-07-11T00:00:24.297808400Z",
     "start_time": "2023-07-11T00:00:24.253272500Z"
    }
   }
  },
  {
   "cell_type": "code",
   "execution_count": 193,
   "outputs": [],
   "source": [
    "df.drop_duplicates(subset=\"id\", inplace=True)"
   ],
   "metadata": {
    "collapsed": false,
    "ExecuteTime": {
     "end_time": "2023-07-11T00:00:51.037933200Z",
     "start_time": "2023-07-11T00:00:51.004144200Z"
    }
   }
  },
  {
   "cell_type": "code",
   "execution_count": 194,
   "outputs": [
    {
     "data": {
      "text/plain": "862.0       1\n74458.0     1\n296206.0    1\n107308.0    1\n16247.0     1\n           ..\n44399.0     1\n10138.0     1\n32084.0     1\n42191.0     1\n461257.0    1\nName: id, Length: 45434, dtype: int64"
     },
     "execution_count": 194,
     "metadata": {},
     "output_type": "execute_result"
    }
   ],
   "source": [
    "df.id.value_counts(dropna=False)"
   ],
   "metadata": {
    "collapsed": false,
    "ExecuteTime": {
     "end_time": "2023-07-11T00:01:02.874650900Z",
     "start_time": "2023-07-11T00:01:02.823637100Z"
    }
   }
  },
  {
   "cell_type": "markdown",
   "metadata": {},
   "source": [
    "## Handling Missing Values & Removing Observations"
   ]
  },
  {
   "cell_type": "markdown",
   "metadata": {},
   "source": [
    "17. __Drop__ all rows/movies with unknown __id__ or __title__."
   ]
  },
  {
   "cell_type": "markdown",
   "metadata": {},
   "source": [
    "18. __Keep__ only those rows/movies in the df with __10 or more non-NaN__ values."
   ]
  },
  {
   "cell_type": "code",
   "execution_count": 195,
   "metadata": {
    "ExecuteTime": {
     "end_time": "2023-07-11T00:05:34.281010300Z",
     "start_time": "2023-07-11T00:05:34.201818400Z"
    }
   },
   "outputs": [
    {
     "name": "stdout",
     "output_type": "stream",
     "text": [
      "<class 'pandas.core.frame.DataFrame'>\n",
      "Int64Index: 45434 entries, 0 to 45465\n",
      "Data columns (total 19 columns):\n",
      " #   Column                 Non-Null Count  Dtype         \n",
      "---  ------                 --------------  -----         \n",
      " 0   belongs_to_collection  4488 non-null   object        \n",
      " 1   budget_musd            8880 non-null   float64       \n",
      " 2   genres                 42992 non-null  object        \n",
      " 3   id                     45433 non-null  float64       \n",
      " 4   original_language      45423 non-null  object        \n",
      " 5   overview               44328 non-null  object        \n",
      " 6   popularity             45430 non-null  float64       \n",
      " 7   poster_path            45048 non-null  object        \n",
      " 8   production_companies   33562 non-null  object        \n",
      " 9   production_countries   39151 non-null  object        \n",
      " 10  release_date           45346 non-null  datetime64[ns]\n",
      " 11  revenue_musd           7398 non-null   float64       \n",
      " 12  runtime                43615 non-null  float64       \n",
      " 13  spoken_languages       41480 non-null  object        \n",
      " 14  status                 45349 non-null  object        \n",
      " 15  tagline                20397 non-null  object        \n",
      " 16  title                  45430 non-null  object        \n",
      " 17  vote_average           42534 non-null  float64       \n",
      " 18  vote_count             45430 non-null  float64       \n",
      "dtypes: datetime64[ns](1), float64(7), object(11)\n",
      "memory usage: 6.9+ MB\n"
     ]
    }
   ],
   "source": [
    "df.info()"
   ]
  },
  {
   "cell_type": "code",
   "execution_count": 196,
   "outputs": [
    {
     "data": {
      "text/plain": "belongs_to_collection    40946\nbudget_musd              36554\ngenres                    2442\nid                           1\noriginal_language           11\noverview                  1106\npopularity                   4\nposter_path                386\nproduction_companies     11872\nproduction_countries      6283\nrelease_date                88\nrevenue_musd             38036\nruntime                   1819\nspoken_languages          3954\nstatus                      85\ntagline                  25037\ntitle                        4\nvote_average              2900\nvote_count                   4\ndtype: int64"
     },
     "execution_count": 196,
     "metadata": {},
     "output_type": "execute_result"
    }
   ],
   "source": [
    "df.isna().sum()"
   ],
   "metadata": {
    "collapsed": false,
    "ExecuteTime": {
     "end_time": "2023-07-11T00:05:42.577233500Z",
     "start_time": "2023-07-11T00:05:42.497312500Z"
    }
   }
  },
  {
   "cell_type": "code",
   "execution_count": 201,
   "outputs": [
    {
     "data": {
      "text/plain": "Empty DataFrame\nColumns: [belongs_to_collection, budget_musd, genres, id, original_language, overview, popularity, poster_path, production_companies, production_countries, release_date, revenue_musd, runtime, spoken_languages, status, tagline, title, vote_average, vote_count]\nIndex: []",
      "text/html": "<div>\n<style scoped>\n    .dataframe tbody tr th:only-of-type {\n        vertical-align: middle;\n    }\n\n    .dataframe tbody tr th {\n        vertical-align: top;\n    }\n\n    .dataframe thead th {\n        text-align: right;\n    }\n</style>\n<table border=\"1\" class=\"dataframe\">\n  <thead>\n    <tr style=\"text-align: right;\">\n      <th></th>\n      <th>belongs_to_collection</th>\n      <th>budget_musd</th>\n      <th>genres</th>\n      <th>id</th>\n      <th>original_language</th>\n      <th>overview</th>\n      <th>popularity</th>\n      <th>poster_path</th>\n      <th>production_companies</th>\n      <th>production_countries</th>\n      <th>release_date</th>\n      <th>revenue_musd</th>\n      <th>runtime</th>\n      <th>spoken_languages</th>\n      <th>status</th>\n      <th>tagline</th>\n      <th>title</th>\n      <th>vote_average</th>\n      <th>vote_count</th>\n    </tr>\n  </thead>\n  <tbody>\n  </tbody>\n</table>\n</div>"
     },
     "execution_count": 201,
     "metadata": {},
     "output_type": "execute_result"
    }
   ],
   "source": [
    "df[df.title.isna()]"
   ],
   "metadata": {
    "collapsed": false,
    "ExecuteTime": {
     "end_time": "2023-07-11T00:08:25.466273900Z",
     "start_time": "2023-07-11T00:08:25.422419500Z"
    }
   }
  },
  {
   "cell_type": "code",
   "execution_count": 198,
   "outputs": [],
   "source": [
    "df.dropna(subset= [\"id\", \"title\"], inplace=True)"
   ],
   "metadata": {
    "collapsed": false,
    "ExecuteTime": {
     "end_time": "2023-07-11T00:07:18.209019700Z",
     "start_time": "2023-07-11T00:07:18.161354300Z"
    }
   }
  },
  {
   "cell_type": "code",
   "execution_count": 199,
   "outputs": [],
   "source": [
    "df.id = df.id.astype(\"int\")"
   ],
   "metadata": {
    "collapsed": false,
    "ExecuteTime": {
     "end_time": "2023-07-11T00:07:36.192412Z",
     "start_time": "2023-07-11T00:07:36.164843Z"
    }
   }
  },
  {
   "cell_type": "code",
   "execution_count": 204,
   "outputs": [
    {
     "data": {
      "text/plain": "15    12522\n16    11454\n14     5424\n17     4265\n18     3859\n13     3039\n12     1892\n19     1132\n11     1019\n10      512\n9       184\n8       104\n7        20\n6         4\ndtype: int64"
     },
     "execution_count": 204,
     "metadata": {},
     "output_type": "execute_result"
    }
   ],
   "source": [
    "df.notna().sum(axis=1).value_counts().sort_values(ascending=False)"
   ],
   "metadata": {
    "collapsed": false,
    "ExecuteTime": {
     "end_time": "2023-07-11T00:10:26.693095400Z",
     "start_time": "2023-07-11T00:10:26.580031300Z"
    }
   }
  },
  {
   "cell_type": "code",
   "execution_count": 202,
   "outputs": [
    {
     "data": {
      "text/plain": "      belongs_to_collection  budget_musd genres      id original_language  \\\n18038                   NaN          NaN    NaN  344741                pl   \n20166                   NaN          NaN    NaN  139909                fi   \n41718                   NaN          NaN    NaN  216550                de   \n44978                   NaN          NaN    NaN  398295                pt   \n\n      overview  popularity poster_path production_companies  \\\n18038      NaN    0.000000         NaN                  NaN   \n20166      NaN    0.000127         NaN                  NaN   \n41718      NaN    0.000000         NaN                  NaN   \n44978      NaN    0.000331         NaN                  NaN   \n\n      production_countries release_date  revenue_musd  runtime  \\\n18038                  NaN          NaT           NaN      NaN   \n20166                  NaN          NaT           NaN      NaN   \n41718                  NaN          NaT           NaN      NaN   \n44978                  NaN          NaT           NaN      NaN   \n\n      spoken_languages    status tagline  \\\n18038              NaN  Released     NaN   \n20166              NaN  Released     NaN   \n41718              NaN  Released     NaN   \n44978              NaN  Released     NaN   \n\n                                        title  vote_average  vote_count  \n18038                              Pajęczarki           NaN         0.0  \n20166                            Aurinkotuuli           NaN         0.0  \n41718  Dolpo Tulku - Heimkehr in den Himalaya           NaN         0.0  \n44978                               Mundo Cão           NaN         0.0  ",
      "text/html": "<div>\n<style scoped>\n    .dataframe tbody tr th:only-of-type {\n        vertical-align: middle;\n    }\n\n    .dataframe tbody tr th {\n        vertical-align: top;\n    }\n\n    .dataframe thead th {\n        text-align: right;\n    }\n</style>\n<table border=\"1\" class=\"dataframe\">\n  <thead>\n    <tr style=\"text-align: right;\">\n      <th></th>\n      <th>belongs_to_collection</th>\n      <th>budget_musd</th>\n      <th>genres</th>\n      <th>id</th>\n      <th>original_language</th>\n      <th>overview</th>\n      <th>popularity</th>\n      <th>poster_path</th>\n      <th>production_companies</th>\n      <th>production_countries</th>\n      <th>release_date</th>\n      <th>revenue_musd</th>\n      <th>runtime</th>\n      <th>spoken_languages</th>\n      <th>status</th>\n      <th>tagline</th>\n      <th>title</th>\n      <th>vote_average</th>\n      <th>vote_count</th>\n    </tr>\n  </thead>\n  <tbody>\n    <tr>\n      <th>18038</th>\n      <td>NaN</td>\n      <td>NaN</td>\n      <td>NaN</td>\n      <td>344741</td>\n      <td>pl</td>\n      <td>NaN</td>\n      <td>0.000000</td>\n      <td>NaN</td>\n      <td>NaN</td>\n      <td>NaN</td>\n      <td>NaT</td>\n      <td>NaN</td>\n      <td>NaN</td>\n      <td>NaN</td>\n      <td>Released</td>\n      <td>NaN</td>\n      <td>Pajęczarki</td>\n      <td>NaN</td>\n      <td>0.0</td>\n    </tr>\n    <tr>\n      <th>20166</th>\n      <td>NaN</td>\n      <td>NaN</td>\n      <td>NaN</td>\n      <td>139909</td>\n      <td>fi</td>\n      <td>NaN</td>\n      <td>0.000127</td>\n      <td>NaN</td>\n      <td>NaN</td>\n      <td>NaN</td>\n      <td>NaT</td>\n      <td>NaN</td>\n      <td>NaN</td>\n      <td>NaN</td>\n      <td>Released</td>\n      <td>NaN</td>\n      <td>Aurinkotuuli</td>\n      <td>NaN</td>\n      <td>0.0</td>\n    </tr>\n    <tr>\n      <th>41718</th>\n      <td>NaN</td>\n      <td>NaN</td>\n      <td>NaN</td>\n      <td>216550</td>\n      <td>de</td>\n      <td>NaN</td>\n      <td>0.000000</td>\n      <td>NaN</td>\n      <td>NaN</td>\n      <td>NaN</td>\n      <td>NaT</td>\n      <td>NaN</td>\n      <td>NaN</td>\n      <td>NaN</td>\n      <td>Released</td>\n      <td>NaN</td>\n      <td>Dolpo Tulku - Heimkehr in den Himalaya</td>\n      <td>NaN</td>\n      <td>0.0</td>\n    </tr>\n    <tr>\n      <th>44978</th>\n      <td>NaN</td>\n      <td>NaN</td>\n      <td>NaN</td>\n      <td>398295</td>\n      <td>pt</td>\n      <td>NaN</td>\n      <td>0.000331</td>\n      <td>NaN</td>\n      <td>NaN</td>\n      <td>NaN</td>\n      <td>NaT</td>\n      <td>NaN</td>\n      <td>NaN</td>\n      <td>NaN</td>\n      <td>Released</td>\n      <td>NaN</td>\n      <td>Mundo Cão</td>\n      <td>NaN</td>\n      <td>0.0</td>\n    </tr>\n  </tbody>\n</table>\n</div>"
     },
     "execution_count": 202,
     "metadata": {},
     "output_type": "execute_result"
    }
   ],
   "source": [
    "df[df.notna().sum(axis=1) == 6]"
   ],
   "metadata": {
    "collapsed": false,
    "ExecuteTime": {
     "end_time": "2023-07-11T00:09:09.669156800Z",
     "start_time": "2023-07-11T00:09:09.595498600Z"
    }
   }
  },
  {
   "cell_type": "code",
   "execution_count": 205,
   "outputs": [],
   "source": [
    "df.dropna(thresh=10, inplace=True)"
   ],
   "metadata": {
    "collapsed": false,
    "ExecuteTime": {
     "end_time": "2023-07-11T00:11:13.316685700Z",
     "start_time": "2023-07-11T00:11:13.236814500Z"
    }
   }
  },
  {
   "cell_type": "code",
   "execution_count": 206,
   "outputs": [
    {
     "name": "stdout",
     "output_type": "stream",
     "text": [
      "<class 'pandas.core.frame.DataFrame'>\n",
      "Int64Index: 45118 entries, 0 to 45465\n",
      "Data columns (total 19 columns):\n",
      " #   Column                 Non-Null Count  Dtype         \n",
      "---  ------                 --------------  -----         \n",
      " 0   belongs_to_collection  4487 non-null   object        \n",
      " 1   budget_musd            8878 non-null   float64       \n",
      " 2   genres                 42969 non-null  object        \n",
      " 3   id                     45118 non-null  int32         \n",
      " 4   original_language      45107 non-null  object        \n",
      " 5   overview               44140 non-null  object        \n",
      " 6   popularity             45118 non-null  float64       \n",
      " 7   poster_path            44886 non-null  object        \n",
      " 8   production_companies   33561 non-null  object        \n",
      " 9   production_countries   39147 non-null  object        \n",
      " 10  release_date           45078 non-null  datetime64[ns]\n",
      " 11  revenue_musd           7398 non-null   float64       \n",
      " 12  runtime                43552 non-null  float64       \n",
      " 13  spoken_languages       41462 non-null  object        \n",
      " 14  status                 45052 non-null  object        \n",
      " 15  tagline                20396 non-null  object        \n",
      " 16  title                  45118 non-null  object        \n",
      " 17  vote_average           42460 non-null  float64       \n",
      " 18  vote_count             45118 non-null  float64       \n",
      "dtypes: datetime64[ns](1), float64(6), int32(1), object(11)\n",
      "memory usage: 6.7+ MB\n"
     ]
    }
   ],
   "source": [
    "df.info()"
   ],
   "metadata": {
    "collapsed": false,
    "ExecuteTime": {
     "end_time": "2023-07-11T00:11:18.120377300Z",
     "start_time": "2023-07-11T00:11:18.045435300Z"
    }
   }
  },
  {
   "cell_type": "code",
   "execution_count": 207,
   "outputs": [
    {
     "data": {
      "text/plain": "belongs_to_collection    40631\nbudget_musd              36240\ngenres                    2149\nid                           0\noriginal_language           11\noverview                   978\npopularity                   0\nposter_path                232\nproduction_companies     11557\nproduction_countries      5971\nrelease_date                40\nrevenue_musd             37720\nruntime                   1566\nspoken_languages          3656\nstatus                      66\ntagline                  24722\ntitle                        0\nvote_average              2658\nvote_count                   0\ndtype: int64"
     },
     "execution_count": 207,
     "metadata": {},
     "output_type": "execute_result"
    }
   ],
   "source": [
    "df.isna().sum()"
   ],
   "metadata": {
    "collapsed": false,
    "ExecuteTime": {
     "end_time": "2023-07-11T00:11:29.241635900Z",
     "start_time": "2023-07-11T00:11:29.172893900Z"
    }
   }
  },
  {
   "cell_type": "code",
   "execution_count": 208,
   "outputs": [
    {
     "data": {
      "text/plain": "Released           44691\nRumored              226\nPost Production       98\nIn Production         20\nPlanned               15\nCanceled               2\nName: status, dtype: int64"
     },
     "execution_count": 208,
     "metadata": {},
     "output_type": "execute_result"
    }
   ],
   "source": [
    "df.status.value_counts()"
   ],
   "metadata": {
    "collapsed": false,
    "ExecuteTime": {
     "end_time": "2023-07-11T00:12:07.583401700Z",
     "start_time": "2023-07-11T00:12:07.567722900Z"
    }
   }
  },
  {
   "cell_type": "code",
   "execution_count": 209,
   "outputs": [],
   "source": [
    "df = df.loc[df.status == \"Released\"].copy()"
   ],
   "metadata": {
    "collapsed": false,
    "ExecuteTime": {
     "end_time": "2023-07-11T00:12:28.573619Z",
     "start_time": "2023-07-11T00:12:28.538006200Z"
    }
   }
  },
  {
   "cell_type": "code",
   "execution_count": 210,
   "outputs": [],
   "source": [
    "df.drop(columns=[\"status\"], inplace=True)"
   ],
   "metadata": {
    "collapsed": false,
    "ExecuteTime": {
     "end_time": "2023-07-11T00:12:47.793889600Z",
     "start_time": "2023-07-11T00:12:47.758510300Z"
    }
   }
  },
  {
   "cell_type": "markdown",
   "metadata": {},
   "source": [
    "## Final (Cleaning) Steps"
   ]
  },
  {
   "cell_type": "markdown",
   "metadata": {},
   "source": [
    "19. __Keep__ only those rows/movies in the df with __status \"Released\"__. Then __drop__ the column \"status\"."
   ]
  },
  {
   "cell_type": "markdown",
   "metadata": {},
   "source": [
    "20. The Order of the columns should be as follows: "
   ]
  },
  {
   "cell_type": "code",
   "execution_count": 169,
   "metadata": {
    "ExecuteTime": {
     "end_time": "2023-07-10T23:51:20.322371400Z",
     "start_time": "2023-07-10T23:51:20.273599800Z"
    }
   },
   "outputs": [
    {
     "data": {
      "text/plain": "['id',\n 'title',\n 'tagline',\n 'release_date',\n 'genres',\n 'belongs_to_collection',\n 'original_language',\n 'budget_musd',\n 'revenue_musd',\n 'production_companies',\n 'production_countries',\n 'vote_count',\n 'vote_average',\n 'popularity',\n 'runtime',\n 'overview',\n 'spoken_languages',\n 'poster_path']"
     },
     "execution_count": 169,
     "metadata": {},
     "output_type": "execute_result"
    }
   ],
   "source": [
    "[\"id\", \"title\", \"tagline\", \"release_date\", \"genres\", \"belongs_to_collection\", \n",
    "\"original_language\", \"budget_musd\", \"revenue_musd\", \"production_companies\",\n",
    "\"production_countries\", \"vote_count\", \"vote_average\", \"popularity\", \"runtime\",\n",
    "\"overview\", \"spoken_languages\", \"poster_path\"]"
   ]
  },
  {
   "cell_type": "markdown",
   "metadata": {},
   "source": [
    "21. __Reset__ the Index and create a __RangeIndex__."
   ]
  },
  {
   "cell_type": "markdown",
   "metadata": {},
   "source": [
    "22. __Save__ the cleaned dataset in a __csv-file__."
   ]
  },
  {
   "cell_type": "code",
   "execution_count": 211,
   "metadata": {
    "ExecuteTime": {
     "end_time": "2023-07-11T00:14:03.152123700Z",
     "start_time": "2023-07-11T00:14:03.128903600Z"
    }
   },
   "outputs": [],
   "source": [
    "col = [\"id\", \"title\", \"tagline\", \"release_date\", \"genres\", \"belongs_to_collection\",\n",
    "       \"original_language\", \"budget_musd\", \"revenue_musd\", \"production_companies\",\n",
    "       \"production_countries\", \"vote_count\", \"vote_average\", \"popularity\", \"runtime\",\n",
    "       \"overview\", \"spoken_languages\", \"poster_path\"]"
   ]
  },
  {
   "cell_type": "code",
   "execution_count": 212,
   "outputs": [],
   "source": [
    "df = df.loc[:, col]"
   ],
   "metadata": {
    "collapsed": false,
    "ExecuteTime": {
     "end_time": "2023-07-11T00:14:10.181574500Z",
     "start_time": "2023-07-11T00:14:10.132352700Z"
    }
   }
  },
  {
   "cell_type": "code",
   "execution_count": 213,
   "outputs": [
    {
     "data": {
      "text/plain": "           id                        title  \\\n0         862                    Toy Story   \n1        8844                      Jumanji   \n2       15602             Grumpier Old Men   \n3       31357            Waiting to Exhale   \n4       11862  Father of the Bride Part II   \n...       ...                          ...   \n45461  439050                       Subdue   \n45462  111109          Century of Birthing   \n45463   67758                     Betrayal   \n45464  227506             Satan Triumphant   \n45465  461257                     Queerama   \n\n                                                 tagline release_date  \\\n0                                                    NaN   1995-10-30   \n1              Roll the dice and unleash the excitement!   1995-12-15   \n2      Still Yelling. Still Fighting. Still Ready for...   1995-12-22   \n3      Friends are the people who let you be yourself...   1995-12-22   \n4      Just When His World Is Back To Normal... He's ...   1995-02-10   \n...                                                  ...          ...   \n45461         Rising and falling between a man and woman          NaT   \n45462                                                NaN   2011-11-17   \n45463                             A deadly game of wits.   2003-08-01   \n45464                                                NaN   1917-10-21   \n45465                                                NaN   2017-06-09   \n\n                         genres           belongs_to_collection  \\\n0       Animation|Comedy|Family            Toy Story Collection   \n1      Adventure|Fantasy|Family                             NaN   \n2                Romance|Comedy       Grumpy Old Men Collection   \n3          Comedy|Drama|Romance                             NaN   \n4                        Comedy  Father of the Bride Collection   \n...                         ...                             ...   \n45461              Drama|Family                             NaN   \n45462                     Drama                             NaN   \n45463     Action|Drama|Thriller                             NaN   \n45464                       NaN                             NaN   \n45465                       NaN                             NaN   \n\n      original_language  budget_musd  revenue_musd  \\\n0                    en         30.0    373.554033   \n1                    en         65.0    262.797249   \n2                    en          NaN           NaN   \n3                    en         16.0     81.452156   \n4                    en          NaN     76.578911   \n...                 ...          ...           ...   \n45461                fa          NaN           NaN   \n45462                tl          NaN           NaN   \n45463                en          NaN           NaN   \n45464                en          NaN           NaN   \n45465                en          NaN           NaN   \n\n                                    production_companies  \\\n0                                Pixar Animation Studios   \n1      TriStar Pictures|Teitler Film|Interscope Commu...   \n2                            Warner Bros.|Lancaster Gate   \n3                 Twentieth Century Fox Film Corporation   \n4              Sandollar Productions|Touchstone Pictures   \n...                                                  ...   \n45461                                                NaN   \n45462                                        Sine Olivia   \n45463                            American World Pictures   \n45464                                          Yermoliev   \n45465                                                NaN   \n\n           production_countries  vote_count  vote_average  popularity  \\\n0      United States of America      5415.0           7.7   21.946943   \n1      United States of America      2413.0           6.9   17.015539   \n2      United States of America        92.0           6.5   11.712900   \n3      United States of America        34.0           6.1    3.859495   \n4      United States of America       173.0           5.7    8.387519   \n...                         ...         ...           ...         ...   \n45461                      Iran         1.0           4.0    0.072051   \n45462               Philippines         3.0           9.0    0.178241   \n45463  United States of America         6.0           3.8    0.903007   \n45464                    Russia         0.0           NaN    0.003503   \n45465            United Kingdom         0.0           NaN    0.163015   \n\n       runtime                                           overview  \\\n0         81.0  Led by Woody, Andy's toys live happily in his ...   \n1        104.0  When siblings Judy and Peter discover an encha...   \n2        101.0  A family wedding reignites the ancient feud be...   \n3        127.0  Cheated on, mistreated and stepped on, the wom...   \n4        106.0  Just when George Banks has recovered from his ...   \n...        ...                                                ...   \n45461     90.0        Rising and falling between a man and woman.   \n45462    360.0  An artist struggles to finish his work while a...   \n45463     90.0  When one of her hits goes wrong, a professiona...   \n45464     87.0  In a small town live two brothers, one a minis...   \n45465     75.0  50 years after decriminalisation of homosexual...   \n\n       spoken_languages                       poster_path  \n0               English  /rhIRbceoE9lR4veEXuwCC2wARtG.jpg  \n1      English|Français  /vzmL6fP7aPKNKPRTFnZmiUfciyV.jpg  \n2               English  /6ksm1sjKMFLbO7UY2i6G1ju9SML.jpg  \n3               English  /16XOMpEaLWkrcPqSQqhTmeJuqQl.jpg  \n4               English  /e64sOI48hQXyru7naBFyssKFxVd.jpg  \n...                 ...                               ...  \n45461             فارسی  /jldsYflnId4tTWPx8es3uzsB1I8.jpg  \n45462               NaN  /xZkmxsNmYXJbKVsTRLLx3pqGHx7.jpg  \n45463           English  /d5bX92nDsISNhu3ZT69uHwmfCGw.jpg  \n45464               NaN  /aorBPO7ak8e8iJKT5OcqYxU3jlK.jpg  \n45465           English  /s5UkZt6NTsrS7ZF0Rh8nzupRlIU.jpg  \n\n[44691 rows x 18 columns]",
      "text/html": "<div>\n<style scoped>\n    .dataframe tbody tr th:only-of-type {\n        vertical-align: middle;\n    }\n\n    .dataframe tbody tr th {\n        vertical-align: top;\n    }\n\n    .dataframe thead th {\n        text-align: right;\n    }\n</style>\n<table border=\"1\" class=\"dataframe\">\n  <thead>\n    <tr style=\"text-align: right;\">\n      <th></th>\n      <th>id</th>\n      <th>title</th>\n      <th>tagline</th>\n      <th>release_date</th>\n      <th>genres</th>\n      <th>belongs_to_collection</th>\n      <th>original_language</th>\n      <th>budget_musd</th>\n      <th>revenue_musd</th>\n      <th>production_companies</th>\n      <th>production_countries</th>\n      <th>vote_count</th>\n      <th>vote_average</th>\n      <th>popularity</th>\n      <th>runtime</th>\n      <th>overview</th>\n      <th>spoken_languages</th>\n      <th>poster_path</th>\n    </tr>\n  </thead>\n  <tbody>\n    <tr>\n      <th>0</th>\n      <td>862</td>\n      <td>Toy Story</td>\n      <td>NaN</td>\n      <td>1995-10-30</td>\n      <td>Animation|Comedy|Family</td>\n      <td>Toy Story Collection</td>\n      <td>en</td>\n      <td>30.0</td>\n      <td>373.554033</td>\n      <td>Pixar Animation Studios</td>\n      <td>United States of America</td>\n      <td>5415.0</td>\n      <td>7.7</td>\n      <td>21.946943</td>\n      <td>81.0</td>\n      <td>Led by Woody, Andy's toys live happily in his ...</td>\n      <td>English</td>\n      <td>/rhIRbceoE9lR4veEXuwCC2wARtG.jpg</td>\n    </tr>\n    <tr>\n      <th>1</th>\n      <td>8844</td>\n      <td>Jumanji</td>\n      <td>Roll the dice and unleash the excitement!</td>\n      <td>1995-12-15</td>\n      <td>Adventure|Fantasy|Family</td>\n      <td>NaN</td>\n      <td>en</td>\n      <td>65.0</td>\n      <td>262.797249</td>\n      <td>TriStar Pictures|Teitler Film|Interscope Commu...</td>\n      <td>United States of America</td>\n      <td>2413.0</td>\n      <td>6.9</td>\n      <td>17.015539</td>\n      <td>104.0</td>\n      <td>When siblings Judy and Peter discover an encha...</td>\n      <td>English|Français</td>\n      <td>/vzmL6fP7aPKNKPRTFnZmiUfciyV.jpg</td>\n    </tr>\n    <tr>\n      <th>2</th>\n      <td>15602</td>\n      <td>Grumpier Old Men</td>\n      <td>Still Yelling. Still Fighting. Still Ready for...</td>\n      <td>1995-12-22</td>\n      <td>Romance|Comedy</td>\n      <td>Grumpy Old Men Collection</td>\n      <td>en</td>\n      <td>NaN</td>\n      <td>NaN</td>\n      <td>Warner Bros.|Lancaster Gate</td>\n      <td>United States of America</td>\n      <td>92.0</td>\n      <td>6.5</td>\n      <td>11.712900</td>\n      <td>101.0</td>\n      <td>A family wedding reignites the ancient feud be...</td>\n      <td>English</td>\n      <td>/6ksm1sjKMFLbO7UY2i6G1ju9SML.jpg</td>\n    </tr>\n    <tr>\n      <th>3</th>\n      <td>31357</td>\n      <td>Waiting to Exhale</td>\n      <td>Friends are the people who let you be yourself...</td>\n      <td>1995-12-22</td>\n      <td>Comedy|Drama|Romance</td>\n      <td>NaN</td>\n      <td>en</td>\n      <td>16.0</td>\n      <td>81.452156</td>\n      <td>Twentieth Century Fox Film Corporation</td>\n      <td>United States of America</td>\n      <td>34.0</td>\n      <td>6.1</td>\n      <td>3.859495</td>\n      <td>127.0</td>\n      <td>Cheated on, mistreated and stepped on, the wom...</td>\n      <td>English</td>\n      <td>/16XOMpEaLWkrcPqSQqhTmeJuqQl.jpg</td>\n    </tr>\n    <tr>\n      <th>4</th>\n      <td>11862</td>\n      <td>Father of the Bride Part II</td>\n      <td>Just When His World Is Back To Normal... He's ...</td>\n      <td>1995-02-10</td>\n      <td>Comedy</td>\n      <td>Father of the Bride Collection</td>\n      <td>en</td>\n      <td>NaN</td>\n      <td>76.578911</td>\n      <td>Sandollar Productions|Touchstone Pictures</td>\n      <td>United States of America</td>\n      <td>173.0</td>\n      <td>5.7</td>\n      <td>8.387519</td>\n      <td>106.0</td>\n      <td>Just when George Banks has recovered from his ...</td>\n      <td>English</td>\n      <td>/e64sOI48hQXyru7naBFyssKFxVd.jpg</td>\n    </tr>\n    <tr>\n      <th>...</th>\n      <td>...</td>\n      <td>...</td>\n      <td>...</td>\n      <td>...</td>\n      <td>...</td>\n      <td>...</td>\n      <td>...</td>\n      <td>...</td>\n      <td>...</td>\n      <td>...</td>\n      <td>...</td>\n      <td>...</td>\n      <td>...</td>\n      <td>...</td>\n      <td>...</td>\n      <td>...</td>\n      <td>...</td>\n      <td>...</td>\n    </tr>\n    <tr>\n      <th>45461</th>\n      <td>439050</td>\n      <td>Subdue</td>\n      <td>Rising and falling between a man and woman</td>\n      <td>NaT</td>\n      <td>Drama|Family</td>\n      <td>NaN</td>\n      <td>fa</td>\n      <td>NaN</td>\n      <td>NaN</td>\n      <td>NaN</td>\n      <td>Iran</td>\n      <td>1.0</td>\n      <td>4.0</td>\n      <td>0.072051</td>\n      <td>90.0</td>\n      <td>Rising and falling between a man and woman.</td>\n      <td>فارسی</td>\n      <td>/jldsYflnId4tTWPx8es3uzsB1I8.jpg</td>\n    </tr>\n    <tr>\n      <th>45462</th>\n      <td>111109</td>\n      <td>Century of Birthing</td>\n      <td>NaN</td>\n      <td>2011-11-17</td>\n      <td>Drama</td>\n      <td>NaN</td>\n      <td>tl</td>\n      <td>NaN</td>\n      <td>NaN</td>\n      <td>Sine Olivia</td>\n      <td>Philippines</td>\n      <td>3.0</td>\n      <td>9.0</td>\n      <td>0.178241</td>\n      <td>360.0</td>\n      <td>An artist struggles to finish his work while a...</td>\n      <td>NaN</td>\n      <td>/xZkmxsNmYXJbKVsTRLLx3pqGHx7.jpg</td>\n    </tr>\n    <tr>\n      <th>45463</th>\n      <td>67758</td>\n      <td>Betrayal</td>\n      <td>A deadly game of wits.</td>\n      <td>2003-08-01</td>\n      <td>Action|Drama|Thriller</td>\n      <td>NaN</td>\n      <td>en</td>\n      <td>NaN</td>\n      <td>NaN</td>\n      <td>American World Pictures</td>\n      <td>United States of America</td>\n      <td>6.0</td>\n      <td>3.8</td>\n      <td>0.903007</td>\n      <td>90.0</td>\n      <td>When one of her hits goes wrong, a professiona...</td>\n      <td>English</td>\n      <td>/d5bX92nDsISNhu3ZT69uHwmfCGw.jpg</td>\n    </tr>\n    <tr>\n      <th>45464</th>\n      <td>227506</td>\n      <td>Satan Triumphant</td>\n      <td>NaN</td>\n      <td>1917-10-21</td>\n      <td>NaN</td>\n      <td>NaN</td>\n      <td>en</td>\n      <td>NaN</td>\n      <td>NaN</td>\n      <td>Yermoliev</td>\n      <td>Russia</td>\n      <td>0.0</td>\n      <td>NaN</td>\n      <td>0.003503</td>\n      <td>87.0</td>\n      <td>In a small town live two brothers, one a minis...</td>\n      <td>NaN</td>\n      <td>/aorBPO7ak8e8iJKT5OcqYxU3jlK.jpg</td>\n    </tr>\n    <tr>\n      <th>45465</th>\n      <td>461257</td>\n      <td>Queerama</td>\n      <td>NaN</td>\n      <td>2017-06-09</td>\n      <td>NaN</td>\n      <td>NaN</td>\n      <td>en</td>\n      <td>NaN</td>\n      <td>NaN</td>\n      <td>NaN</td>\n      <td>United Kingdom</td>\n      <td>0.0</td>\n      <td>NaN</td>\n      <td>0.163015</td>\n      <td>75.0</td>\n      <td>50 years after decriminalisation of homosexual...</td>\n      <td>English</td>\n      <td>/s5UkZt6NTsrS7ZF0Rh8nzupRlIU.jpg</td>\n    </tr>\n  </tbody>\n</table>\n<p>44691 rows × 18 columns</p>\n</div>"
     },
     "execution_count": 213,
     "metadata": {},
     "output_type": "execute_result"
    }
   ],
   "source": [
    "df"
   ],
   "metadata": {
    "collapsed": false,
    "ExecuteTime": {
     "end_time": "2023-07-11T00:14:14.735812700Z",
     "start_time": "2023-07-11T00:14:14.692207600Z"
    }
   }
  },
  {
   "cell_type": "code",
   "execution_count": 214,
   "outputs": [],
   "source": [
    "df.reset_index(drop=True, inplace=True)"
   ],
   "metadata": {
    "collapsed": false,
    "ExecuteTime": {
     "end_time": "2023-07-11T00:14:25.117192200Z",
     "start_time": "2023-07-11T00:14:25.082062100Z"
    }
   }
  },
  {
   "cell_type": "code",
   "execution_count": 215,
   "outputs": [
    {
     "name": "stdout",
     "output_type": "stream",
     "text": [
      "<class 'pandas.core.frame.DataFrame'>\n",
      "RangeIndex: 44691 entries, 0 to 44690\n",
      "Data columns (total 18 columns):\n",
      " #   Column                 Non-Null Count  Dtype         \n",
      "---  ------                 --------------  -----         \n",
      " 0   id                     44691 non-null  int32         \n",
      " 1   title                  44691 non-null  object        \n",
      " 2   tagline                20284 non-null  object        \n",
      " 3   release_date           44657 non-null  datetime64[ns]\n",
      " 4   genres                 42586 non-null  object        \n",
      " 5   belongs_to_collection  4463 non-null   object        \n",
      " 6   original_language      44681 non-null  object        \n",
      " 7   budget_musd            8854 non-null   float64       \n",
      " 8   revenue_musd           7385 non-null   float64       \n",
      " 9   production_companies   33356 non-null  object        \n",
      " 10  production_countries   38835 non-null  object        \n",
      " 11  vote_count             44691 non-null  float64       \n",
      " 12  vote_average           42077 non-null  float64       \n",
      " 13  popularity             44691 non-null  float64       \n",
      " 14  runtime                43179 non-null  float64       \n",
      " 15  overview               43739 non-null  object        \n",
      " 16  spoken_languages       41094 non-null  object        \n",
      " 17  poster_path            44467 non-null  object        \n",
      "dtypes: datetime64[ns](1), float64(6), int32(1), object(10)\n",
      "memory usage: 6.0+ MB\n"
     ]
    }
   ],
   "source": [
    "df.info()"
   ],
   "metadata": {
    "collapsed": false,
    "ExecuteTime": {
     "end_time": "2023-07-11T00:14:32.850143800Z",
     "start_time": "2023-07-11T00:14:32.778351200Z"
    }
   }
  },
  {
   "cell_type": "code",
   "execution_count": 216,
   "outputs": [
    {
     "data": {
      "text/plain": "'/rhIRbceoE9lR4veEXuwCC2wARtG.jpg'"
     },
     "execution_count": 216,
     "metadata": {},
     "output_type": "execute_result"
    }
   ],
   "source": [
    "df.poster_path[0]"
   ],
   "metadata": {
    "collapsed": false,
    "ExecuteTime": {
     "end_time": "2023-07-11T00:14:37.413363700Z",
     "start_time": "2023-07-11T00:14:37.384215300Z"
    }
   }
  },
  {
   "cell_type": "code",
   "execution_count": 217,
   "outputs": [],
   "source": [
    "base_poster_url = 'http://image.tmdb.org/t/p/w185/'\n",
    "df.poster_path = \"<img src='\" + base_poster_url + df.poster_path + \"' style='height:100px;'>\""
   ],
   "metadata": {
    "collapsed": false,
    "ExecuteTime": {
     "end_time": "2023-07-11T00:14:47.381303800Z",
     "start_time": "2023-07-11T00:14:47.345751900Z"
    }
   }
  },
  {
   "cell_type": "code",
   "execution_count": 218,
   "outputs": [],
   "source": [
    "df.to_csv(\"movies_clean.csv\", index = False)"
   ],
   "metadata": {
    "collapsed": false,
    "ExecuteTime": {
     "end_time": "2023-07-11T00:15:04.130852100Z",
     "start_time": "2023-07-11T00:15:03.417890600Z"
    }
   }
  },
  {
   "cell_type": "code",
   "execution_count": 219,
   "outputs": [
    {
     "name": "stdout",
     "output_type": "stream",
     "text": [
      "<class 'pandas.core.frame.DataFrame'>\n",
      "RangeIndex: 44691 entries, 0 to 44690\n",
      "Data columns (total 18 columns):\n",
      " #   Column                 Non-Null Count  Dtype  \n",
      "---  ------                 --------------  -----  \n",
      " 0   id                     44691 non-null  int64  \n",
      " 1   title                  44691 non-null  object \n",
      " 2   tagline                20284 non-null  object \n",
      " 3   release_date           44657 non-null  object \n",
      " 4   genres                 42586 non-null  object \n",
      " 5   belongs_to_collection  4463 non-null   object \n",
      " 6   original_language      44681 non-null  object \n",
      " 7   budget_musd            8854 non-null   float64\n",
      " 8   revenue_musd           7385 non-null   float64\n",
      " 9   production_companies   33356 non-null  object \n",
      " 10  production_countries   38835 non-null  object \n",
      " 11  vote_count             44691 non-null  float64\n",
      " 12  vote_average           42077 non-null  float64\n",
      " 13  popularity             44691 non-null  float64\n",
      " 14  runtime                43179 non-null  float64\n",
      " 15  overview               43739 non-null  object \n",
      " 16  spoken_languages       41094 non-null  object \n",
      " 17  poster_path            44467 non-null  object \n",
      "dtypes: float64(6), int64(1), object(11)\n",
      "memory usage: 6.1+ MB\n"
     ]
    }
   ],
   "source": [
    "pd.read_csv(\"movies_clean.csv\").info()\n"
   ],
   "metadata": {
    "collapsed": false,
    "ExecuteTime": {
     "end_time": "2023-07-11T00:15:14.344215800Z",
     "start_time": "2023-07-11T00:15:13.917246100Z"
    }
   }
  },
  {
   "cell_type": "markdown",
   "metadata": {},
   "source": [
    "# +++++++++ See some Hints below +++++++++++++"
   ]
  },
  {
   "cell_type": "code",
   "execution_count": 169,
   "metadata": {
    "ExecuteTime": {
     "end_time": "2023-07-10T23:51:20.414043300Z",
     "start_time": "2023-07-10T23:51:20.302844100Z"
    }
   },
   "outputs": [],
   "source": []
  },
  {
   "cell_type": "code",
   "execution_count": 169,
   "metadata": {
    "ExecuteTime": {
     "end_time": "2023-07-10T23:51:20.416043700Z",
     "start_time": "2023-07-10T23:51:20.321371400Z"
    }
   },
   "outputs": [],
   "source": []
  },
  {
   "cell_type": "code",
   "execution_count": 169,
   "metadata": {
    "ExecuteTime": {
     "end_time": "2023-07-10T23:51:20.416043700Z",
     "start_time": "2023-07-10T23:51:20.333880600Z"
    }
   },
   "outputs": [],
   "source": []
  },
  {
   "cell_type": "code",
   "execution_count": 169,
   "metadata": {
    "ExecuteTime": {
     "end_time": "2023-07-10T23:51:20.417043600Z",
     "start_time": "2023-07-10T23:51:20.350493500Z"
    }
   },
   "outputs": [],
   "source": []
  },
  {
   "cell_type": "markdown",
   "metadata": {},
   "source": [
    "# ++++++++++++++++ Hints++++++++++++++++++++"
   ]
  },
  {
   "cell_type": "code",
   "execution_count": 169,
   "metadata": {
    "ExecuteTime": {
     "end_time": "2023-07-10T23:51:20.417043600Z",
     "start_time": "2023-07-10T23:51:20.365505500Z"
    }
   },
   "outputs": [],
   "source": []
  },
  {
   "cell_type": "markdown",
   "metadata": {},
   "source": [
    "__Hints for 3.__ <br>\n",
    "apply ast.literal_eval() on all stringified elements (you have to import ast):"
   ]
  },
  {
   "cell_type": "code",
   "execution_count": 170,
   "metadata": {
    "ExecuteTime": {
     "end_time": "2023-07-10T23:51:21.377765200Z",
     "start_time": "2023-07-10T23:51:20.383521900Z"
    }
   },
   "outputs": [
    {
     "ename": "AttributeError",
     "evalue": "'DataFrame' object has no attribute 'stringified_column'",
     "output_type": "error",
     "traceback": [
      "\u001B[1;31m---------------------------------------------------------------------------\u001B[0m",
      "\u001B[1;31mAttributeError\u001B[0m                            Traceback (most recent call last)",
      "Cell \u001B[1;32mIn[170], line 2\u001B[0m\n\u001B[0;32m      1\u001B[0m \u001B[38;5;66;03m# example:\u001B[39;00m\n\u001B[1;32m----> 2\u001B[0m df\u001B[38;5;241m.\u001B[39mstringified_column \u001B[38;5;241m=\u001B[39m \u001B[43mdf\u001B[49m\u001B[38;5;241;43m.\u001B[39;49m\u001B[43mstringified_column\u001B[49m\u001B[38;5;241m.\u001B[39mapply(\u001B[38;5;28;01mlambda\u001B[39;00m x: ast\u001B[38;5;241m.\u001B[39mliteral_eval(x) \u001B[38;5;28;01mif\u001B[39;00m \u001B[38;5;28misinstance\u001B[39m(x, \u001B[38;5;28mstr\u001B[39m) \u001B[38;5;28;01melse\u001B[39;00m np\u001B[38;5;241m.\u001B[39mnan)\n",
      "File \u001B[1;32m~\\anaconda3\\envs\\python-data-science\\lib\\site-packages\\pandas\\core\\generic.py:5902\u001B[0m, in \u001B[0;36mNDFrame.__getattr__\u001B[1;34m(self, name)\u001B[0m\n\u001B[0;32m   5895\u001B[0m \u001B[38;5;28;01mif\u001B[39;00m (\n\u001B[0;32m   5896\u001B[0m     name \u001B[38;5;129;01mnot\u001B[39;00m \u001B[38;5;129;01min\u001B[39;00m \u001B[38;5;28mself\u001B[39m\u001B[38;5;241m.\u001B[39m_internal_names_set\n\u001B[0;32m   5897\u001B[0m     \u001B[38;5;129;01mand\u001B[39;00m name \u001B[38;5;129;01mnot\u001B[39;00m \u001B[38;5;129;01min\u001B[39;00m \u001B[38;5;28mself\u001B[39m\u001B[38;5;241m.\u001B[39m_metadata\n\u001B[0;32m   5898\u001B[0m     \u001B[38;5;129;01mand\u001B[39;00m name \u001B[38;5;129;01mnot\u001B[39;00m \u001B[38;5;129;01min\u001B[39;00m \u001B[38;5;28mself\u001B[39m\u001B[38;5;241m.\u001B[39m_accessors\n\u001B[0;32m   5899\u001B[0m     \u001B[38;5;129;01mand\u001B[39;00m \u001B[38;5;28mself\u001B[39m\u001B[38;5;241m.\u001B[39m_info_axis\u001B[38;5;241m.\u001B[39m_can_hold_identifiers_and_holds_name(name)\n\u001B[0;32m   5900\u001B[0m ):\n\u001B[0;32m   5901\u001B[0m     \u001B[38;5;28;01mreturn\u001B[39;00m \u001B[38;5;28mself\u001B[39m[name]\n\u001B[1;32m-> 5902\u001B[0m \u001B[38;5;28;01mreturn\u001B[39;00m \u001B[38;5;28;43mobject\u001B[39;49m\u001B[38;5;241;43m.\u001B[39;49m\u001B[38;5;21;43m__getattribute__\u001B[39;49m\u001B[43m(\u001B[49m\u001B[38;5;28;43mself\u001B[39;49m\u001B[43m,\u001B[49m\u001B[43m \u001B[49m\u001B[43mname\u001B[49m\u001B[43m)\u001B[49m\n",
      "\u001B[1;31mAttributeError\u001B[0m: 'DataFrame' object has no attribute 'stringified_column'"
     ]
    }
   ],
   "source": [
    "# example:\n",
    "df.stringified_column = df.stringified_column.apply(lambda x: ast.literal_eval(x) if isinstance(x, str) else np.nan)"
   ]
  },
  {
   "cell_type": "code",
   "execution_count": null,
   "metadata": {
    "ExecuteTime": {
     "start_time": "2023-07-10T23:51:21.366290400Z"
    }
   },
   "outputs": [],
   "source": []
  },
  {
   "cell_type": "markdown",
   "metadata": {},
   "source": [
    "__Hints for 4., 5., 6., 7., 8.__<br> \n",
    "apply an appropriate lambda function on all column elements"
   ]
  },
  {
   "cell_type": "code",
   "execution_count": null,
   "metadata": {
    "ExecuteTime": {
     "start_time": "2023-07-10T23:51:21.368759800Z"
    }
   },
   "outputs": [],
   "source": []
  },
  {
   "cell_type": "markdown",
   "metadata": {},
   "source": [
    "__Hints for 9.__<br>\n",
    "Replace all __\"\"__ (empty strings) in the above columns by NaN (__np.nan__)"
   ]
  },
  {
   "cell_type": "code",
   "execution_count": null,
   "metadata": {
    "ExecuteTime": {
     "start_time": "2023-07-10T23:51:21.369766100Z"
    }
   },
   "outputs": [],
   "source": []
  },
  {
   "cell_type": "markdown",
   "metadata": {},
   "source": [
    "__Hints for 10.__<br>\n",
    "Use pd.to_numeric() and \"coerce\" errors"
   ]
  },
  {
   "cell_type": "code",
   "execution_count": null,
   "metadata": {
    "ExecuteTime": {
     "start_time": "2023-07-10T23:51:21.371767300Z"
    }
   },
   "outputs": [],
   "source": []
  },
  {
   "cell_type": "markdown",
   "metadata": {},
   "source": [
    "__Hints for 11.__<br>\n",
    "Replace the value 0 by NaN (__np.nan__)"
   ]
  },
  {
   "cell_type": "code",
   "execution_count": null,
   "metadata": {
    "ExecuteTime": {
     "start_time": "2023-07-10T23:51:21.372766700Z"
    }
   },
   "outputs": [],
   "source": []
  },
  {
   "cell_type": "markdown",
   "metadata": {},
   "source": [
    "__Hints for 13.__<br>\n",
    "Replace the value 0 by NaN (__np.nan__)"
   ]
  },
  {
   "cell_type": "code",
   "execution_count": null,
   "metadata": {
    "ExecuteTime": {
     "start_time": "2023-07-10T23:51:21.374766200Z"
    }
   },
   "outputs": [],
   "source": []
  },
  {
   "cell_type": "markdown",
   "metadata": {},
   "source": [
    "__Hints for 14.__<br>\n",
    "Use pd.to_datetime() and \"coerce\" errors"
   ]
  },
  {
   "cell_type": "code",
   "execution_count": null,
   "metadata": {
    "ExecuteTime": {
     "start_time": "2023-07-10T23:51:21.375765600Z"
    }
   },
   "outputs": [],
   "source": []
  },
  {
   "cell_type": "markdown",
   "metadata": {},
   "source": [
    "__Hints for 16.__<br>\n",
    "There cannot be two or more movies with the same movie id."
   ]
  },
  {
   "cell_type": "code",
   "execution_count": null,
   "metadata": {
    "ExecuteTime": {
     "start_time": "2023-07-10T23:51:21.377765200Z"
    }
   },
   "outputs": [],
   "source": []
  }
 ],
 "metadata": {
  "kernelspec": {
   "display_name": "Python 3",
   "language": "python",
   "name": "python3"
  },
  "language_info": {
   "codemirror_mode": {
    "name": "ipython",
    "version": 3
   },
   "file_extension": ".py",
   "mimetype": "text/x-python",
   "name": "python",
   "nbconvert_exporter": "python",
   "pygments_lexer": "ipython3",
   "version": "3.7.4"
  }
 },
 "nbformat": 4,
 "nbformat_minor": 2
}
