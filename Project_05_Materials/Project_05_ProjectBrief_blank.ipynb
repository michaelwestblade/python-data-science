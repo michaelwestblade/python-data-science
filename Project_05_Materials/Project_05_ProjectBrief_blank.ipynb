{
 "cells": [
  {
   "cell_type": "markdown",
   "metadata": {},
   "source": [
    "# Project 5: Working with Pandas and SQL Databases (Movies Dataset)"
   ]
  },
  {
   "cell_type": "markdown",
   "metadata": {},
   "source": [
    "# Project Brief for Self-Coders"
   ]
  },
  {
   "cell_type": "markdown",
   "metadata": {},
   "source": [
    "Here you´ll have the opportunity to code major parts of Project 5 on your own. If you need any help or inspiration, have a look at the Videos or the Jupyter Notebook with the full code. <br> <br>\n",
    "Keep in mind that it´s all about __getting the right results/conclusions__. It´s not about finding the identical code. Things can be coded in many different ways. Even if you come to the same conclusions, it´s very unlikely that we have the very same code. "
   ]
  },
  {
   "cell_type": "markdown",
   "metadata": {},
   "source": [
    "## Creating an SQLite Database"
   ]
  },
  {
   "cell_type": "markdown",
   "metadata": {},
   "source": [
    "1. __Import__ sqlite3 (as sq3) and __create__ a new SQLite Database with the name __\"movies.db\"__."
   ]
  },
  {
   "cell_type": "code",
   "execution_count": 1,
   "metadata": {
    "ExecuteTime": {
     "end_time": "2023-07-13T01:29:29.252486700Z",
     "start_time": "2023-07-13T01:29:28.837937900Z"
    }
   },
   "outputs": [],
   "source": [
    "import sqlite3 as sq3"
   ]
  },
  {
   "cell_type": "code",
   "execution_count": 2,
   "outputs": [],
   "source": [
    "con = sq3.connect(\"movies.db\")"
   ],
   "metadata": {
    "collapsed": false,
    "ExecuteTime": {
     "end_time": "2023-07-13T01:29:29.259002100Z",
     "start_time": "2023-07-13T01:29:28.849010300Z"
    }
   }
  },
  {
   "cell_type": "code",
   "execution_count": 3,
   "outputs": [
    {
     "data": {
      "text/plain": "<sqlite3.Connection at 0x2be5fbc2a80>"
     },
     "execution_count": 3,
     "metadata": {},
     "output_type": "execute_result"
    }
   ],
   "source": [
    "con"
   ],
   "metadata": {
    "collapsed": false,
    "ExecuteTime": {
     "end_time": "2023-07-13T01:29:29.264517300Z",
     "start_time": "2023-07-13T01:29:28.864207600Z"
    }
   }
  },
  {
   "cell_type": "code",
   "execution_count": 4,
   "outputs": [
    {
     "data": {
      "text/plain": "[]"
     },
     "execution_count": 4,
     "metadata": {},
     "output_type": "execute_result"
    }
   ],
   "source": [
    "con.execute(\"Select * FROM sqlite_master\").fetchall()"
   ],
   "metadata": {
    "collapsed": false,
    "ExecuteTime": {
     "end_time": "2023-07-13T01:29:29.264517300Z",
     "start_time": "2023-07-13T01:29:28.878232600Z"
    }
   }
  },
  {
   "cell_type": "code",
   "execution_count": 5,
   "outputs": [
    {
     "data": {
      "text/plain": "[]"
     },
     "execution_count": 5,
     "metadata": {},
     "output_type": "execute_result"
    }
   ],
   "source": [
    "con.execute(\"SELECT name FROM sqlite_master WHERE type='table' ORDER BY name\").fetchall()"
   ],
   "metadata": {
    "collapsed": false,
    "ExecuteTime": {
     "end_time": "2023-07-13T01:29:29.267033700Z",
     "start_time": "2023-07-13T01:29:28.896359700Z"
    }
   }
  },
  {
   "cell_type": "code",
   "execution_count": 6,
   "outputs": [],
   "source": [
    "con.close()"
   ],
   "metadata": {
    "collapsed": false,
    "ExecuteTime": {
     "end_time": "2023-07-13T01:29:29.268035400Z",
     "start_time": "2023-07-13T01:29:28.910439800Z"
    }
   }
  },
  {
   "cell_type": "markdown",
   "metadata": {},
   "source": [
    "## Loading Data from DataFrames into an SQLite Database"
   ]
  },
  {
   "cell_type": "markdown",
   "metadata": {},
   "source": [
    "2. __Load__ the json file __\"some_movies.json\"__ and __split__ the dataset into the following __four datasets__ (save each dataset in a Pandas DataFrame)."
   ]
  },
  {
   "cell_type": "markdown",
   "metadata": {},
   "source": [
    "__Dataset #1 (Movies)__ with columns [\"id\", \"title\", \"revenue\", \"budget\", \"belongs_to_collection_name\", \"release_date\"]. <br>\n",
    "Convert \"release_date\" to datetime and transform \"budget\" and \"revenue\" to Million USD before loading into the Database. "
   ]
  },
  {
   "cell_type": "markdown",
   "metadata": {},
   "source": [
    "__Dataset #2 (Votes)__ with columns [\"id\", \"vote_count\", \"vote_average\"]. "
   ]
  },
  {
   "cell_type": "markdown",
   "metadata": {},
   "source": [
    "__Dataset #3 (Genres)__ with columns [\"genre_id\", \"genre_name\", \"id\"]. <br> "
   ]
  },
  {
   "cell_type": "markdown",
   "metadata": {},
   "source": [
    "__Dataset #4 (Prod)__ with columns [\"comp_id\", \"comp_logo_path\", \"comp_name\", \"comp_origin_country\", \"id\" ]. <br>\n"
   ]
  },
  {
   "cell_type": "code",
   "execution_count": 7,
   "metadata": {
    "ExecuteTime": {
     "end_time": "2023-07-13T01:29:29.485079100Z",
     "start_time": "2023-07-13T01:29:28.927478100Z"
    }
   },
   "outputs": [],
   "source": [
    "import pandas as pd\n",
    "import json\n",
    "import sqlite3 as sq3"
   ]
  },
  {
   "cell_type": "code",
   "execution_count": 8,
   "outputs": [],
   "source": [
    "with open(\"some_movies.json\") as f:\n",
    "    data = json.load(f)"
   ],
   "metadata": {
    "collapsed": false,
    "ExecuteTime": {
     "end_time": "2023-07-13T01:29:29.501115300Z",
     "start_time": "2023-07-13T01:29:29.486079600Z"
    }
   }
  },
  {
   "cell_type": "code",
   "execution_count": 9,
   "outputs": [
    {
     "data": {
      "text/plain": "[{'adult': False,\n  'backdrop_path': '/orjiB3oUIsyz60hoEqkiGpy5CeO.jpg',\n  'belongs_to_collection': {'id': 86311,\n   'name': 'The Avengers Collection',\n   'poster_path': '/yFSIUVTCvgYrpalUktulvk3Gi5Y.jpg',\n   'backdrop_path': '/zuW6fOiusv4X9nnW3paHGfXcSll.jpg'},\n  'budget': 356000000,\n  'genres': [{'id': 12, 'name': 'Adventure'},\n   {'id': 878, 'name': 'Science Fiction'},\n   {'id': 28, 'name': 'Action'}],\n  'homepage': 'https://www.marvel.com/movies/avengers-endgame',\n  'id': 299534,\n  'imdb_id': 'tt4154796',\n  'original_language': 'en',\n  'original_title': 'Avengers: Endgame',\n  'overview': \"After the devastating events of Avengers: Infinity War, the universe is in ruins due to the efforts of the Mad Titan, Thanos. With the help of remaining allies, the Avengers must assemble once more in order to undo Thanos' actions and restore order to the universe once and for all, no matter what consequences may be in store.\",\n  'popularity': 50.279,\n  'poster_path': '/or06FN3Dka5tukK1e9sl16pB3iy.jpg',\n  'production_companies': [{'id': 420,\n    'logo_path': '/hUzeosd33nzE5MCNsZxCGEKTXaQ.png',\n    'name': 'Marvel Studios',\n    'origin_country': 'US'}],\n  'production_countries': [{'iso_3166_1': 'US',\n    'name': 'United States of America'}],\n  'release_date': '2019-04-24',\n  'revenue': 2797800564,\n  'runtime': 181,\n  'spoken_languages': [{'iso_639_1': 'en', 'name': 'English'},\n   {'iso_639_1': 'ja', 'name': '日本語'},\n   {'iso_639_1': 'xh', 'name': ''}],\n  'status': 'Released',\n  'tagline': 'Part of the journey is the end.',\n  'title': 'Avengers: Endgame',\n  'video': False,\n  'vote_average': 8.3,\n  'vote_count': 12607},\n {'adult': False,\n  'backdrop_path': '/wcC7kCICL6x6zHUlUyNp9pWoqW1.jpg',\n  'belongs_to_collection': {'id': 87096,\n   'name': 'Avatar Collection',\n   'poster_path': '/nslJVsO58Etqkk17oXMuVK4gNOF.jpg',\n   'backdrop_path': '/8nCr9W7sKus2q9PLbYsnT7iCkuT.jpg'},\n  'budget': 237000000,\n  'genres': [{'id': 28, 'name': 'Action'},\n   {'id': 12, 'name': 'Adventure'},\n   {'id': 14, 'name': 'Fantasy'},\n   {'id': 878, 'name': 'Science Fiction'}],\n  'homepage': 'http://www.avatarmovie.com/',\n  'id': 19995,\n  'imdb_id': 'tt0499549',\n  'original_language': 'en',\n  'original_title': 'Avatar',\n  'overview': 'In the 22nd century, a paraplegic Marine is dispatched to the moon Pandora on a unique mission, but becomes torn between following orders and protecting an alien civilization.',\n  'popularity': 40.5,\n  'poster_path': '/btnl50ZDJDSCal2NLQIYWw0XxvH.jpg',\n  'production_companies': [{'id': 444,\n    'logo_path': '/42UPdZl6B2cFXgNUASR8hSt9mpS.png',\n    'name': 'Dune Entertainment',\n    'origin_country': 'US'},\n   {'id': 574,\n    'logo_path': '/iB6GjNVHs5hOqcEYt2rcjBqIjki.png',\n    'name': 'Lightstorm Entertainment',\n    'origin_country': 'US'},\n   {'id': 25,\n    'logo_path': '/qZCc1lty5FzX30aOCVRBLzaVmcp.png',\n    'name': '20th Century Fox',\n    'origin_country': 'US'},\n   {'id': 290,\n    'logo_path': '/Q8mw2AOQQc8Qg0uNwLWq86DVZv.png',\n    'name': 'Ingenious Media',\n    'origin_country': 'GB'}],\n  'production_countries': [{'iso_3166_1': 'US',\n    'name': 'United States of America'},\n   {'iso_3166_1': 'GB', 'name': 'United Kingdom'}],\n  'release_date': '2009-12-10',\n  'revenue': 2787965087,\n  'runtime': 162,\n  'spoken_languages': [{'iso_639_1': 'en', 'name': 'English'},\n   {'iso_639_1': 'es', 'name': 'Español'}],\n  'status': 'Released',\n  'tagline': 'Enter the World of Pandora.',\n  'title': 'Avatar',\n  'video': False,\n  'vote_average': 7.4,\n  'vote_count': 21000},\n {'adult': False,\n  'backdrop_path': '/8BTsTfln4jlQrLXUBquXJ0ASQy9.jpg',\n  'belongs_to_collection': {'id': 10,\n   'name': 'Star Wars Collection',\n   'poster_path': '/r8Ph5MYXL04Qzu4QBbq2KjqwtkQ.jpg',\n   'backdrop_path': '/d8duYyyC9J5T825Hg7grmaabfxQ.jpg'},\n  'budget': 245000000,\n  'genres': [{'id': 28, 'name': 'Action'},\n   {'id': 12, 'name': 'Adventure'},\n   {'id': 878, 'name': 'Science Fiction'},\n   {'id': 14, 'name': 'Fantasy'}],\n  'homepage': 'http://www.starwars.com/films/star-wars-episode-vii',\n  'id': 140607,\n  'imdb_id': 'tt2488496',\n  'original_language': 'en',\n  'original_title': 'Star Wars: The Force Awakens',\n  'overview': 'Thirty years after defeating the Galactic Empire, Han Solo and his allies face a new threat from the evil Kylo Ren and his army of Stormtroopers.',\n  'popularity': 36.198,\n  'poster_path': '/9rd002JS49RwDW944fF1wjU8iTV.jpg',\n  'production_companies': [{'id': 1634,\n    'logo_path': None,\n    'name': 'Truenorth Productions',\n    'origin_country': 'IS'},\n   {'id': 1,\n    'logo_path': '/o86DbpburjxrqAzEDhXZcyE8pDb.png',\n    'name': 'Lucasfilm',\n    'origin_country': 'US'},\n   {'id': 11461,\n    'logo_path': '/p9FoEt5shEKRWRKVIlvFaEmRnun.png',\n    'name': 'Bad Robot',\n    'origin_country': 'US'}],\n  'production_countries': [{'iso_3166_1': 'US',\n    'name': 'United States of America'}],\n  'release_date': '2015-12-15',\n  'revenue': 2068223624,\n  'runtime': 136,\n  'spoken_languages': [{'iso_639_1': 'en', 'name': 'English'}],\n  'status': 'Released',\n  'tagline': 'Every generation has a story.',\n  'title': 'Star Wars: The Force Awakens',\n  'video': False,\n  'vote_average': 7.4,\n  'vote_count': 14205},\n {'adult': False,\n  'backdrop_path': '/lmZFxXgJE3vgrciwuDib0N8CfQo.jpg',\n  'belongs_to_collection': {'id': 86311,\n   'name': 'The Avengers Collection',\n   'poster_path': '/yFSIUVTCvgYrpalUktulvk3Gi5Y.jpg',\n   'backdrop_path': '/zuW6fOiusv4X9nnW3paHGfXcSll.jpg'},\n  'budget': 300000000,\n  'genres': [{'id': 12, 'name': 'Adventure'},\n   {'id': 28, 'name': 'Action'},\n   {'id': 878, 'name': 'Science Fiction'}],\n  'homepage': 'https://www.marvel.com/movies/avengers-infinity-war',\n  'id': 299536,\n  'imdb_id': 'tt4154756',\n  'original_language': 'en',\n  'original_title': 'Avengers: Infinity War',\n  'overview': 'As the Avengers and their allies have continued to protect the world from threats too large for any one hero to handle, a new danger has emerged from the cosmic shadows: Thanos. A despot of intergalactic infamy, his goal is to collect all six Infinity Stones, artifacts of unimaginable power, and use them to inflict his twisted will on all of reality. Everything the Avengers have fought for has led up to this moment - the fate of Earth and existence itself has never been more uncertain.',\n  'popularity': 78.331,\n  'poster_path': '/7WsyChQLEftFiDOVTGkv3hFpyyt.jpg',\n  'production_companies': [{'id': 420,\n    'logo_path': '/hUzeosd33nzE5MCNsZxCGEKTXaQ.png',\n    'name': 'Marvel Studios',\n    'origin_country': 'US'}],\n  'production_countries': [{'iso_3166_1': 'US',\n    'name': 'United States of America'}],\n  'release_date': '2018-04-25',\n  'revenue': 2046239637,\n  'runtime': 149,\n  'spoken_languages': [{'iso_639_1': 'en', 'name': 'English'},\n   {'iso_639_1': 'xh', 'name': ''}],\n  'status': 'Released',\n  'tagline': 'An entire universe. Once and for all.',\n  'title': 'Avengers: Infinity War',\n  'video': False,\n  'vote_average': 8.3,\n  'vote_count': 17718},\n {'adult': False,\n  'backdrop_path': '/6VmFqApQRyZZzmiGOQq2C92jyvH.jpg',\n  'belongs_to_collection': None,\n  'budget': 200000000,\n  'genres': [{'id': 18, 'name': 'Drama'}, {'id': 10749, 'name': 'Romance'}],\n  'homepage': '',\n  'id': 597,\n  'imdb_id': 'tt0120338',\n  'original_language': 'en',\n  'original_title': 'Titanic',\n  'overview': \"101-year-old Rose DeWitt Bukater tells the story of her life aboard the Titanic, 84 years later. A young Rose boards the ship with her mother and fiancé. Meanwhile, Jack Dawson and Fabrizio De Rossi win third-class tickets aboard the ship. Rose tells the whole story from Titanic's departure through to its death—on its first and last voyage—on April 15, 1912.\",\n  'popularity': 38.062,\n  'poster_path': '/9xjZS2rlVxm8SFx8kPC3aIGCOYQ.jpg',\n  'production_companies': [{'id': 4,\n    'logo_path': '/fycMZt242LVjagMByZOLUGbCvv3.png',\n    'name': 'Paramount',\n    'origin_country': 'US'},\n   {'id': 574,\n    'logo_path': '/iB6GjNVHs5hOqcEYt2rcjBqIjki.png',\n    'name': 'Lightstorm Entertainment',\n    'origin_country': 'US'},\n   {'id': 25,\n    'logo_path': '/qZCc1lty5FzX30aOCVRBLzaVmcp.png',\n    'name': '20th Century Fox',\n    'origin_country': 'US'}],\n  'production_countries': [{'iso_3166_1': 'US',\n    'name': 'United States of America'}],\n  'release_date': '1997-11-18',\n  'revenue': 1845034188,\n  'runtime': 194,\n  'spoken_languages': [{'iso_639_1': 'en', 'name': 'English'},\n   {'iso_639_1': 'fr', 'name': 'Français'},\n   {'iso_639_1': 'de', 'name': 'Deutsch'},\n   {'iso_639_1': 'sv', 'name': 'svenska'},\n   {'iso_639_1': 'it', 'name': 'Italiano'},\n   {'iso_639_1': 'ru', 'name': 'Pусский'}],\n  'status': 'Released',\n  'tagline': 'Nothing on Earth could come between them.',\n  'title': 'Titanic',\n  'video': False,\n  'vote_average': 7.8,\n  'vote_count': 16661},\n {'adult': False,\n  'backdrop_path': '/9OywzJLgobAbSGfhMXligzTylko.jpg',\n  'belongs_to_collection': {'id': 328,\n   'name': 'Jurassic Park Collection',\n   'poster_path': '/qIm2nHXLpBBdMxi8dvfrnDkBUDh.jpg',\n   'backdrop_path': '/njFixYzIxX8jsn6KMSEtAzi4avi.jpg'},\n  'budget': 150000000,\n  'genres': [{'id': 28, 'name': 'Action'},\n   {'id': 12, 'name': 'Adventure'},\n   {'id': 878, 'name': 'Science Fiction'},\n   {'id': 53, 'name': 'Thriller'}],\n  'homepage': 'http://www.jurassicworld.com/',\n  'id': 135397,\n  'imdb_id': 'tt0369610',\n  'original_language': 'en',\n  'original_title': 'Jurassic World',\n  'overview': 'Twenty-two years after the events of Jurassic Park, Isla Nublar now features a fully functioning dinosaur theme park, Jurassic World, as originally envisioned by John Hammond.',\n  'popularity': 25.281,\n  'poster_path': '/rhr4y79GpxQF9IsfJItRXVaoGs4.jpg',\n  'production_companies': [{'id': 3341,\n    'logo_path': '/dTG5dXE1kU2mpmL9BNnraffckLU.png',\n    'name': 'Fuji Television Network',\n    'origin_country': 'JP'},\n   {'id': 56,\n    'logo_path': '/cEaxANEisCqeEoRvODv2dO1I0iI.png',\n    'name': 'Amblin Entertainment',\n    'origin_country': 'US'},\n   {'id': 923,\n    'logo_path': '/5UQsZrfbfG2dYJbx8DxfoTr2Bvu.png',\n    'name': 'Legendary Entertainment',\n    'origin_country': 'US'},\n   {'id': 33,\n    'logo_path': '/8lvHyhjr8oUKOOy2dKXoALWKdp0.png',\n    'name': 'Universal Pictures',\n    'origin_country': 'US'},\n   {'id': 1778,\n    'logo_path': '/69xm6sF3JxugGVjfZfm1YY6d7EE.png',\n    'name': 'Dentsu',\n    'origin_country': 'JP'},\n   {'id': 862,\n    'logo_path': '/udTjbqPmcTbfrihMuLtLcizDEM1.png',\n    'name': 'The Kennedy/Marshall Company',\n    'origin_country': 'US'}],\n  'production_countries': [{'iso_3166_1': 'US',\n    'name': 'United States of America'}],\n  'release_date': '2015-06-06',\n  'revenue': 1671713208,\n  'runtime': 124,\n  'spoken_languages': [{'iso_639_1': 'en', 'name': 'English'}],\n  'status': 'Released',\n  'tagline': 'The park is open.',\n  'title': 'Jurassic World',\n  'video': False,\n  'vote_average': 6.6,\n  'vote_count': 15399},\n {'adult': False,\n  'backdrop_path': '/nRXO2SnOA75OsWhNhXstHB8ZmI3.jpg',\n  'belongs_to_collection': None,\n  'budget': 260000000,\n  'genres': [{'id': 12, 'name': 'Adventure'}, {'id': 10751, 'name': 'Family'}],\n  'homepage': 'https://movies.disney.com/the-lion-king-2019',\n  'id': 420818,\n  'imdb_id': 'tt6105098',\n  'original_language': 'en',\n  'original_title': 'The Lion King',\n  'overview': \"Simba idolizes his father, King Mufasa, and takes to heart his own royal destiny. But not everyone in the kingdom celebrates the new cub's arrival. Scar, Mufasa's brother—and former heir to the throne—has plans of his own. The battle for Pride Rock is ravaged with betrayal, tragedy and drama, ultimately resulting in Simba's exile. With help from a curious pair of newfound friends, Simba will have to figure out how to grow up and take back what is rightfully his.\",\n  'popularity': 49.847,\n  'poster_path': '/2bXbqYdUdNVa8VIWXVfclP2ICtT.jpg',\n  'production_companies': [{'id': 2,\n    'logo_path': '/wdrCwmRnLFJhEoH8GSfymY85KHT.png',\n    'name': 'Walt Disney Pictures',\n    'origin_country': 'US'},\n   {'id': 7297,\n    'logo_path': '/l29JYQVZbTcjZXoz4CUYFpKRmM3.png',\n    'name': 'Fairview Entertainment',\n    'origin_country': 'US'}],\n  'production_countries': [{'iso_3166_1': 'US',\n    'name': 'United States of America'}],\n  'release_date': '2019-07-12',\n  'revenue': 1656943394,\n  'runtime': 118,\n  'spoken_languages': [{'iso_639_1': 'en', 'name': 'English'}],\n  'status': 'Released',\n  'tagline': 'The King has Returned.',\n  'title': 'The Lion King',\n  'video': False,\n  'vote_average': 7.2,\n  'vote_count': 5425},\n {'adult': False,\n  'backdrop_path': '/v3A0T4fAz8xRugAkfUVkxGLd377.jpg',\n  'belongs_to_collection': {'id': 86311,\n   'name': 'The Avengers Collection',\n   'poster_path': '/yFSIUVTCvgYrpalUktulvk3Gi5Y.jpg',\n   'backdrop_path': '/zuW6fOiusv4X9nnW3paHGfXcSll.jpg'},\n  'budget': 220000000,\n  'genres': [{'id': 878, 'name': 'Science Fiction'},\n   {'id': 28, 'name': 'Action'},\n   {'id': 12, 'name': 'Adventure'}],\n  'homepage': 'http://marvel.com/avengers_movie/',\n  'id': 24428,\n  'imdb_id': 'tt0848228',\n  'original_language': 'en',\n  'original_title': 'The Avengers',\n  'overview': 'When an unexpected enemy emerges and threatens global safety and security, Nick Fury, director of the international peacekeeping agency known as S.H.I.E.L.D., finds himself in need of a team to pull the world back from the brink of disaster. Spanning the globe, a daring recruitment effort begins!',\n  'popularity': 69.459,\n  'poster_path': '/RYMX2wcKCBAr24UyPD7xwmjaTn.jpg',\n  'production_companies': [{'id': 420,\n    'logo_path': '/hUzeosd33nzE5MCNsZxCGEKTXaQ.png',\n    'name': 'Marvel Studios',\n    'origin_country': 'US'},\n   {'id': 4,\n    'logo_path': '/fycMZt242LVjagMByZOLUGbCvv3.png',\n    'name': 'Paramount',\n    'origin_country': 'US'}],\n  'production_countries': [{'iso_3166_1': 'US',\n    'name': 'United States of America'}],\n  'release_date': '2012-04-25',\n  'revenue': 1519557910,\n  'runtime': 143,\n  'spoken_languages': [{'iso_639_1': 'en', 'name': 'English'},\n   {'iso_639_1': 'hi', 'name': 'हिन्दी'},\n   {'iso_639_1': 'ru', 'name': 'Pусский'}],\n  'status': 'Released',\n  'tagline': 'Some assembly required.',\n  'title': 'The Avengers',\n  'video': False,\n  'vote_average': 7.7,\n  'vote_count': 22101},\n {'adult': False,\n  'backdrop_path': '/7X6zOOEzXTQJkzDgBHVly1BgyYu.jpg',\n  'belongs_to_collection': {'id': 9485,\n   'name': 'The Fast and the Furious Collection',\n   'poster_path': '/uv63yAGg1zETAs1XQsOQpava87l.jpg',\n   'backdrop_path': '/z5A5W3WYJc3UVEWljSGwdjDgQ0j.jpg'},\n  'budget': 190000000,\n  'genres': [{'id': 28, 'name': 'Action'}, {'id': 53, 'name': 'Thriller'}],\n  'homepage': 'http://www.furious7.com/',\n  'id': 168259,\n  'imdb_id': 'tt2820852',\n  'original_language': 'en',\n  'original_title': 'Furious 7',\n  'overview': 'Deckard Shaw seeks revenge against Dominic Toretto and his family for his comatose brother.',\n  'popularity': 22.032,\n  'poster_path': '/d9jZ2bKZw3ptTuxAyVHA6olPAVs.jpg',\n  'production_companies': [{'id': 87857,\n    'logo_path': None,\n    'name': 'Abu Dhabi Film Commission',\n    'origin_country': ''},\n   {'id': 33,\n    'logo_path': '/8lvHyhjr8oUKOOy2dKXoALWKdp0.png',\n    'name': 'Universal Pictures',\n    'origin_country': 'US'},\n   {'id': 40890,\n    'logo_path': None,\n    'name': 'China Film Co.',\n    'origin_country': 'CN'},\n   {'id': 333,\n    'logo_path': '/5xUJfzPZ8jWJUDzYtIeuPO4qPIa.png',\n    'name': 'Original Film',\n    'origin_country': 'US'},\n   {'id': 3341,\n    'logo_path': '/dTG5dXE1kU2mpmL9BNnraffckLU.png',\n    'name': 'Fuji Television Network',\n    'origin_country': 'JP'},\n   {'id': 86352,\n    'logo_path': None,\n    'name': 'Québec Production Services Tax Credit',\n    'origin_country': ''},\n   {'id': 87858,\n    'logo_path': None,\n    'name': 'Colorado Office of Film, Television & Media',\n    'origin_country': ''},\n   {'id': 1778,\n    'logo_path': '/69xm6sF3JxugGVjfZfm1YY6d7EE.png',\n    'name': 'Dentsu',\n    'origin_country': 'JP'},\n   {'id': 2531,\n    'logo_path': '/pC2iDCDCvV85vOBP7a5Ukxuc0Du.png',\n    'name': 'Media Rights Capital',\n    'origin_country': 'US'},\n   {'id': 1225,\n    'logo_path': None,\n    'name': 'One Race',\n    'origin_country': 'US'}],\n  'production_countries': [{'iso_3166_1': 'US',\n    'name': 'United States of America'}],\n  'release_date': '2015-04-01',\n  'revenue': 1515047671,\n  'runtime': 137,\n  'spoken_languages': [{'iso_639_1': 'en', 'name': 'English'}],\n  'status': 'Released',\n  'tagline': 'Vengeance Hits Home',\n  'title': 'Furious 7',\n  'video': False,\n  'vote_average': 7.3,\n  'vote_count': 7359},\n {'adult': False,\n  'backdrop_path': '/4zmNJNQkugbalqJLnKp0wnlp8i3.jpg',\n  'belongs_to_collection': {'id': 86311,\n   'name': 'The Avengers Collection',\n   'poster_path': '/yFSIUVTCvgYrpalUktulvk3Gi5Y.jpg',\n   'backdrop_path': '/zuW6fOiusv4X9nnW3paHGfXcSll.jpg'},\n  'budget': 250000000,\n  'genres': [{'id': 28, 'name': 'Action'},\n   {'id': 12, 'name': 'Adventure'},\n   {'id': 878, 'name': 'Science Fiction'}],\n  'homepage': 'http://marvel.com/movies/movie/193/avengers_age_of_ultron',\n  'id': 99861,\n  'imdb_id': 'tt2395427',\n  'original_language': 'en',\n  'original_title': 'Avengers: Age of Ultron',\n  'overview': 'When Tony Stark tries to jumpstart a dormant peacekeeping program, things go awry and Earth’s Mightiest Heroes are put to the ultimate test as the fate of the planet hangs in the balance. As the villainous Ultron emerges, it is up to The Avengers to stop him from enacting his terrible plans, and soon uneasy alliances and unexpected action pave the way for an epic and unique global adventure.',\n  'popularity': 43.805,\n  'poster_path': '/4ssDuvEDkSArWEdyBl2X5EHvYKU.jpg',\n  'production_companies': [{'id': 420,\n    'logo_path': '/hUzeosd33nzE5MCNsZxCGEKTXaQ.png',\n    'name': 'Marvel Studios',\n    'origin_country': 'US'}],\n  'production_countries': [{'iso_3166_1': 'US',\n    'name': 'United States of America'}],\n  'release_date': '2015-04-22',\n  'revenue': 1405403694,\n  'runtime': 141,\n  'spoken_languages': [{'iso_639_1': 'en', 'name': 'English'}],\n  'status': 'Released',\n  'tagline': 'A New Age Has Come.',\n  'title': 'Avengers: Age of Ultron',\n  'video': False,\n  'vote_average': 7.3,\n  'vote_count': 15548},\n {'adult': False,\n  'backdrop_path': '/6ELJEzQJ3Y45HczvreC3dg0GV5R.jpg',\n  'belongs_to_collection': {'id': 529892,\n   'name': 'Black Panther Collection',\n   'poster_path': '/9ZSPIsxI3TZDgfg0Jzk0RZl4INg.jpg',\n   'backdrop_path': '/1Jj7Frjjbewb6Q6dl6YXhL3kuvL.jpg'},\n  'budget': 200000000,\n  'genres': [{'id': 28, 'name': 'Action'},\n   {'id': 12, 'name': 'Adventure'},\n   {'id': 14, 'name': 'Fantasy'},\n   {'id': 878, 'name': 'Science Fiction'}],\n  'homepage': 'https://marvel.com/movies/movie/224/black_panther',\n  'id': 284054,\n  'imdb_id': 'tt1825683',\n  'original_language': 'en',\n  'original_title': 'Black Panther',\n  'overview': \"King T'Challa returns home from America to the reclusive, technologically advanced African nation of Wakanda to serve as his country's new leader. However, T'Challa soon finds that he is challenged for the throne by factions within his own country as well as without. Using powers reserved to Wakandan kings, T'Challa assumes the Black Panther mantel to join with girlfriend Nakia, the queen-mother, his princess-kid sister, members of the Dora Milaje (the Wakandan 'special forces') and an American secret agent, to prevent Wakanda from being dragged into a world war.\",\n  'popularity': 36.581,\n  'poster_path': '/uxzzxijgPIY7slzFvMotPv8wjKA.jpg',\n  'production_companies': [{'id': 420,\n    'logo_path': '/hUzeosd33nzE5MCNsZxCGEKTXaQ.png',\n    'name': 'Marvel Studios',\n    'origin_country': 'US'},\n   {'id': 2,\n    'logo_path': '/wdrCwmRnLFJhEoH8GSfymY85KHT.png',\n    'name': 'Walt Disney Pictures',\n    'origin_country': 'US'}],\n  'production_countries': [{'iso_3166_1': 'US',\n    'name': 'United States of America'}],\n  'release_date': '2018-02-13',\n  'revenue': 1346739107,\n  'runtime': 134,\n  'spoken_languages': [{'iso_639_1': 'en', 'name': 'English'},\n   {'iso_639_1': 'ko', 'name': '한국어/조선말'},\n   {'iso_639_1': 'sw', 'name': 'Kiswahili'},\n   {'iso_639_1': 'xh', 'name': ''}],\n  'status': 'Released',\n  'tagline': 'Long live the king.',\n  'title': 'Black Panther',\n  'video': False,\n  'vote_average': 7.4,\n  'vote_count': 14830},\n {'adult': False,\n  'backdrop_path': '/n5A7brJCjejceZmHyujwUTVgQNC.jpg',\n  'belongs_to_collection': {'id': 1241,\n   'name': 'Harry Potter Collection',\n   'poster_path': '/eVPs2Y0LyvTLZn6AP5Z6O2rtiGB.jpg',\n   'backdrop_path': '/wfnMt6LGqYHcNyOfsuusw5lX3bL.jpg'},\n  'budget': 125000000,\n  'genres': [{'id': 14, 'name': 'Fantasy'}, {'id': 12, 'name': 'Adventure'}],\n  'homepage': 'https://www.warnerbros.com/movies/harry-potter-and-deathly-hallows-part-2/',\n  'id': 12445,\n  'imdb_id': 'tt1201607',\n  'original_language': 'en',\n  'original_title': 'Harry Potter and the Deathly Hallows: Part 2',\n  'overview': \"Harry, Ron and Hermione continue their quest to vanquish the evil Voldemort once and for all. Just as things begin to look hopeless for the young wizards, Harry discovers a trio of magical objects that endow him with powers to rival Voldemort's formidable skills.\",\n  'popularity': 40.209,\n  'poster_path': '/c54HpQmuwXjHq2C9wmoACjxoom3.jpg',\n  'production_companies': [{'id': 174,\n    'logo_path': '/IuAlhI9eVC9Z8UQWOIDdWRKSEJ.png',\n    'name': 'Warner Bros. Pictures',\n    'origin_country': 'US'},\n   {'id': 437,\n    'logo_path': '/nu20mtwbEIhUNnQ5NXVhHsNknZj.png',\n    'name': 'Heyday Films',\n    'origin_country': 'GB'}],\n  'production_countries': [{'iso_3166_1': 'GB', 'name': 'United Kingdom'},\n   {'iso_3166_1': 'US', 'name': 'United States of America'}],\n  'release_date': '2011-07-07',\n  'revenue': 1341511219,\n  'runtime': 130,\n  'spoken_languages': [{'iso_639_1': 'en', 'name': 'English'}],\n  'status': 'Released',\n  'tagline': 'It all ends here.',\n  'title': 'Harry Potter and the Deathly Hallows: Part 2',\n  'video': False,\n  'vote_average': 8.1,\n  'vote_count': 13447},\n {'adult': False,\n  'backdrop_path': '/5Iw7zQTHVRBOYpA0V6z0yypOPZh.jpg',\n  'belongs_to_collection': {'id': 10,\n   'name': 'Star Wars Collection',\n   'poster_path': '/r8Ph5MYXL04Qzu4QBbq2KjqwtkQ.jpg',\n   'backdrop_path': '/d8duYyyC9J5T825Hg7grmaabfxQ.jpg'},\n  'budget': 200000000,\n  'genres': [{'id': 878, 'name': 'Science Fiction'},\n   {'id': 28, 'name': 'Action'},\n   {'id': 12, 'name': 'Adventure'}],\n  'homepage': 'https://www.starwars.com/films/star-wars-episode-viii-the-last-jedi',\n  'id': 181808,\n  'imdb_id': 'tt2527336',\n  'original_language': 'en',\n  'original_title': 'Star Wars: The Last Jedi',\n  'overview': 'Rey develops her newly discovered abilities with the guidance of Luke Skywalker, who is unsettled by the strength of her powers. Meanwhile, the Resistance prepares to do battle with the First Order.',\n  'popularity': 43.437,\n  'poster_path': '/kOVEVeg59E0wsnXmF9nrh6OmWII.jpg',\n  'production_companies': [{'id': 1,\n    'logo_path': '/o86DbpburjxrqAzEDhXZcyE8pDb.png',\n    'name': 'Lucasfilm',\n    'origin_country': 'US'},\n   {'id': 11092,\n    'logo_path': None,\n    'name': 'Ram Bergman Productions',\n    'origin_country': 'US'},\n   {'id': 2,\n    'logo_path': '/wdrCwmRnLFJhEoH8GSfymY85KHT.png',\n    'name': 'Walt Disney Pictures',\n    'origin_country': 'US'}],\n  'production_countries': [{'iso_3166_1': 'US',\n    'name': 'United States of America'}],\n  'release_date': '2017-12-13',\n  'revenue': 1332539889,\n  'runtime': 152,\n  'spoken_languages': [{'iso_639_1': 'en', 'name': 'English'}],\n  'status': 'Released',\n  'tagline': 'Darkness rises... and light to meet it',\n  'title': 'Star Wars: The Last Jedi',\n  'video': False,\n  'vote_average': 7.0,\n  'vote_count': 10304},\n {'adult': False,\n  'backdrop_path': '/xJWPZIYOEFIjZpBL7SVBGnzRYXp.jpg',\n  'belongs_to_collection': {'id': 386382,\n   'name': 'Frozen Collection',\n   'poster_path': '/rpoXnE9UzCbjmINhxIi8bZF557B.jpg',\n   'backdrop_path': '/k21wXgC9AVnKoHW1lRPS0UUGCZ4.jpg'},\n  'budget': 150000000,\n  'genres': [{'id': 16, 'name': 'Animation'},\n   {'id': 10751, 'name': 'Family'},\n   {'id': 12, 'name': 'Adventure'}],\n  'homepage': 'https://movies.disney.com/frozen-2',\n  'id': 330457,\n  'imdb_id': 'tt4520988',\n  'original_language': 'en',\n  'original_title': 'Frozen II',\n  'overview': 'Elsa, Anna, Kristoff and Olaf head far into the forest to learn the truth about an ancient mystery of their kingdom.',\n  'popularity': 71.177,\n  'poster_path': '/h6Wi81XNXCjTAcdstiCLRykN3Pa.jpg',\n  'production_companies': [{'id': 6125,\n    'logo_path': '/tVPmo07IHhBs4HuilrcV0yujsZ9.png',\n    'name': 'Walt Disney Animation Studios',\n    'origin_country': 'US'},\n   {'id': 2,\n    'logo_path': '/wdrCwmRnLFJhEoH8GSfymY85KHT.png',\n    'name': 'Walt Disney Pictures',\n    'origin_country': 'US'}],\n  'production_countries': [{'iso_3166_1': 'US',\n    'name': 'United States of America'}],\n  'release_date': '2019-11-20',\n  'revenue': 1330764959,\n  'runtime': 104,\n  'spoken_languages': [{'iso_639_1': 'en', 'name': 'English'}],\n  'status': 'Released',\n  'tagline': 'The past is not what it seems.',\n  'title': 'Frozen II',\n  'video': False,\n  'vote_average': 7.2,\n  'vote_count': 3982},\n {'adult': False,\n  'backdrop_path': '/3s9O5af2xWKWR5JzP2iJZpZeQQg.jpg',\n  'belongs_to_collection': {'id': 328,\n   'name': 'Jurassic Park Collection',\n   'poster_path': '/qIm2nHXLpBBdMxi8dvfrnDkBUDh.jpg',\n   'backdrop_path': '/njFixYzIxX8jsn6KMSEtAzi4avi.jpg'},\n  'budget': 170000000,\n  'genres': [{'id': 28, 'name': 'Action'},\n   {'id': 12, 'name': 'Adventure'},\n   {'id': 878, 'name': 'Science Fiction'}],\n  'homepage': 'http://www.jurassicworld.com',\n  'id': 351286,\n  'imdb_id': 'tt4881806',\n  'original_language': 'en',\n  'original_title': 'Jurassic World: Fallen Kingdom',\n  'overview': 'Three years after the demise of Jurassic World, a volcanic eruption threatens the remaining dinosaurs on the isla Nublar, so Claire Dearing, the former park manager, recruits Owen Grady to help prevent the extinction of the dinosaurs once again.',\n  'popularity': 34.147,\n  'poster_path': '/c9XxwwhPHdaImA2f1WEfEsbhaFB.jpg',\n  'production_companies': [{'id': 56,\n    'logo_path': '/cEaxANEisCqeEoRvODv2dO1I0iI.png',\n    'name': 'Amblin Entertainment',\n    'origin_country': 'US'},\n   {'id': 923,\n    'logo_path': '/5UQsZrfbfG2dYJbx8DxfoTr2Bvu.png',\n    'name': 'Legendary Entertainment',\n    'origin_country': 'US'},\n   {'id': 33,\n    'logo_path': '/8lvHyhjr8oUKOOy2dKXoALWKdp0.png',\n    'name': 'Universal Pictures',\n    'origin_country': 'US'},\n   {'id': 10338,\n    'logo_path': '/el2ap6lvjcEDdbyJoB3oKiYgXu9.png',\n    'name': 'Perfect World Pictures',\n    'origin_country': 'CN'}],\n  'production_countries': [{'iso_3166_1': 'US',\n    'name': 'United States of America'}],\n  'release_date': '2018-06-06',\n  'revenue': 1303459585,\n  'runtime': 129,\n  'spoken_languages': [{'iso_639_1': 'en', 'name': 'English'},\n   {'iso_639_1': 'ru', 'name': 'Pусский'}],\n  'status': 'Released',\n  'tagline': 'The park is gone',\n  'title': 'Jurassic World: Fallen Kingdom',\n  'video': False,\n  'vote_average': 6.5,\n  'vote_count': 7337},\n {'adult': False,\n  'backdrop_path': '/fydUcbkqLyESCFa9U5XKqi8dIVj.jpg',\n  'belongs_to_collection': {'id': 386382,\n   'name': 'Frozen Collection',\n   'poster_path': '/rpoXnE9UzCbjmINhxIi8bZF557B.jpg',\n   'backdrop_path': '/k21wXgC9AVnKoHW1lRPS0UUGCZ4.jpg'},\n  'budget': 150000000,\n  'genres': [{'id': 16, 'name': 'Animation'},\n   {'id': 12, 'name': 'Adventure'},\n   {'id': 10751, 'name': 'Family'}],\n  'homepage': 'http://movies.disney.com/frozen',\n  'id': 109445,\n  'imdb_id': 'tt2294629',\n  'original_language': 'en',\n  'original_title': 'Frozen',\n  'overview': \"Young princess Anna of Arendelle dreams about finding true love at her sister Elsa’s coronation. Fate takes her on a dangerous journey in an attempt to end the eternal winter that has fallen over the kingdom. She's accompanied by ice delivery man Kristoff, his reindeer Sven, and snowman Olaf. On an adventure where she will find out what friendship, courage, family, and true love really means.\",\n  'popularity': 45.911,\n  'poster_path': '/yald8Lsb4uCRvjIH3spzR84Kdwf.jpg',\n  'production_companies': [{'id': 2,\n    'logo_path': '/wdrCwmRnLFJhEoH8GSfymY85KHT.png',\n    'name': 'Walt Disney Pictures',\n    'origin_country': 'US'},\n   {'id': 6125,\n    'logo_path': '/tVPmo07IHhBs4HuilrcV0yujsZ9.png',\n    'name': 'Walt Disney Animation Studios',\n    'origin_country': 'US'}],\n  'production_countries': [{'iso_3166_1': 'US',\n    'name': 'United States of America'}],\n  'release_date': '2013-11-27',\n  'revenue': 1274219009,\n  'runtime': 102,\n  'spoken_languages': [{'iso_639_1': 'en', 'name': 'English'}],\n  'status': 'Released',\n  'tagline': 'Only the act of true love will thaw a frozen heart.',\n  'title': 'Frozen',\n  'video': False,\n  'vote_average': 7.3,\n  'vote_count': 11616},\n {'adult': False,\n  'backdrop_path': '/7QshG75xKCmClghQDU1ta2BTaja.jpg',\n  'belongs_to_collection': None,\n  'budget': 160000000,\n  'genres': [{'id': 10751, 'name': 'Family'},\n   {'id': 14, 'name': 'Fantasy'},\n   {'id': 10749, 'name': 'Romance'}],\n  'homepage': 'http://movies.disney.com/beauty-and-the-beast-2017',\n  'id': 321612,\n  'imdb_id': 'tt2771200',\n  'original_language': 'en',\n  'original_title': 'Beauty and the Beast',\n  'overview': \"A live-action adaptation of Disney's version of the classic tale of a cursed prince and a beautiful young woman who helps him break the spell.\",\n  'popularity': 30.506,\n  'poster_path': '/tWqifoYuwLETmmasnGHO7xBjEtt.jpg',\n  'production_companies': [{'id': 2,\n    'logo_path': '/wdrCwmRnLFJhEoH8GSfymY85KHT.png',\n    'name': 'Walt Disney Pictures',\n    'origin_country': 'US'},\n   {'id': 10227,\n    'logo_path': '/3YfRy3DBl4abcqkzGx4RVNz12yl.png',\n    'name': 'Mandeville Films',\n    'origin_country': 'US'}],\n  'production_countries': [{'iso_3166_1': 'US',\n    'name': 'United States of America'}],\n  'release_date': '2017-03-16',\n  'revenue': 1263521126,\n  'runtime': 129,\n  'spoken_languages': [{'iso_639_1': 'en', 'name': 'English'},\n   {'iso_639_1': 'fr', 'name': 'Français'}],\n  'status': 'Released',\n  'tagline': 'Be our guest.',\n  'title': 'Beauty and the Beast',\n  'video': False,\n  'vote_average': 6.9,\n  'vote_count': 12203},\n {'adult': False,\n  'backdrop_path': '/mabuNsGJgRuCTuGqjFkWe1xdu19.jpg',\n  'belongs_to_collection': {'id': 468222,\n   'name': 'The Incredibles Collection',\n   'poster_path': '/l7GqbzkJwowYRIXAtUz2iCPi64a.jpg',\n   'backdrop_path': '/9eDW2dVhnzPS2HvaRdK2OlAGaLq.jpg'},\n  'budget': 200000000,\n  'genres': [{'id': 28, 'name': 'Action'},\n   {'id': 12, 'name': 'Adventure'},\n   {'id': 16, 'name': 'Animation'},\n   {'id': 10751, 'name': 'Family'}],\n  'homepage': 'https://movies.disney.com/incredibles-2',\n  'id': 260513,\n  'imdb_id': 'tt3606756',\n  'original_language': 'en',\n  'original_title': 'Incredibles 2',\n  'overview': 'Elastigirl springs into action to save the day, while Mr. Incredible faces his greatest challenge yet – taking care of the problems of his three children.',\n  'popularity': 30.701,\n  'poster_path': '/9lFKBtaVIhP7E2Pk0IY1CwTKTMZ.jpg',\n  'production_companies': [{'id': 2,\n    'logo_path': '/wdrCwmRnLFJhEoH8GSfymY85KHT.png',\n    'name': 'Walt Disney Pictures',\n    'origin_country': 'US'},\n   {'id': 3,\n    'logo_path': '/1TjvGVDMYsj6JBxOAkUHpPEwLf7.png',\n    'name': 'Pixar',\n    'origin_country': 'US'}],\n  'production_countries': [{'iso_3166_1': 'US',\n    'name': 'United States of America'}],\n  'release_date': '2018-06-14',\n  'revenue': 1241891456,\n  'runtime': 118,\n  'spoken_languages': [{'iso_639_1': 'en', 'name': 'English'}],\n  'status': 'Released',\n  'tagline': 'Back to work.',\n  'title': 'Incredibles 2',\n  'video': False,\n  'vote_average': 7.5,\n  'vote_count': 8147}]"
     },
     "execution_count": 9,
     "metadata": {},
     "output_type": "execute_result"
    }
   ],
   "source": [
    "data"
   ],
   "metadata": {
    "collapsed": false,
    "ExecuteTime": {
     "end_time": "2023-07-13T01:29:29.542424400Z",
     "start_time": "2023-07-13T01:29:29.501115300Z"
    }
   }
  },
  {
   "cell_type": "code",
   "execution_count": 10,
   "outputs": [],
   "source": [
    "df = pd.json_normalize(data, sep = \"_\")"
   ],
   "metadata": {
    "collapsed": false,
    "ExecuteTime": {
     "end_time": "2023-07-13T01:29:29.550463900Z",
     "start_time": "2023-07-13T01:29:29.533407200Z"
    }
   }
  },
  {
   "cell_type": "code",
   "execution_count": 11,
   "outputs": [
    {
     "data": {
      "text/plain": "    adult                     backdrop_path     budget  \\\n0   False  /orjiB3oUIsyz60hoEqkiGpy5CeO.jpg  356000000   \n1   False  /wcC7kCICL6x6zHUlUyNp9pWoqW1.jpg  237000000   \n2   False  /8BTsTfln4jlQrLXUBquXJ0ASQy9.jpg  245000000   \n3   False  /lmZFxXgJE3vgrciwuDib0N8CfQo.jpg  300000000   \n4   False  /6VmFqApQRyZZzmiGOQq2C92jyvH.jpg  200000000   \n5   False  /9OywzJLgobAbSGfhMXligzTylko.jpg  150000000   \n6   False  /nRXO2SnOA75OsWhNhXstHB8ZmI3.jpg  260000000   \n7   False  /v3A0T4fAz8xRugAkfUVkxGLd377.jpg  220000000   \n8   False  /7X6zOOEzXTQJkzDgBHVly1BgyYu.jpg  190000000   \n9   False  /4zmNJNQkugbalqJLnKp0wnlp8i3.jpg  250000000   \n10  False  /6ELJEzQJ3Y45HczvreC3dg0GV5R.jpg  200000000   \n11  False  /n5A7brJCjejceZmHyujwUTVgQNC.jpg  125000000   \n12  False  /5Iw7zQTHVRBOYpA0V6z0yypOPZh.jpg  200000000   \n13  False  /xJWPZIYOEFIjZpBL7SVBGnzRYXp.jpg  150000000   \n14  False  /3s9O5af2xWKWR5JzP2iJZpZeQQg.jpg  170000000   \n15  False  /fydUcbkqLyESCFa9U5XKqi8dIVj.jpg  150000000   \n16  False  /7QshG75xKCmClghQDU1ta2BTaja.jpg  160000000   \n17  False  /mabuNsGJgRuCTuGqjFkWe1xdu19.jpg  200000000   \n\n                                               genres  \\\n0   [{'id': 12, 'name': 'Adventure'}, {'id': 878, ...   \n1   [{'id': 28, 'name': 'Action'}, {'id': 12, 'nam...   \n2   [{'id': 28, 'name': 'Action'}, {'id': 12, 'nam...   \n3   [{'id': 12, 'name': 'Adventure'}, {'id': 28, '...   \n4   [{'id': 18, 'name': 'Drama'}, {'id': 10749, 'n...   \n5   [{'id': 28, 'name': 'Action'}, {'id': 12, 'nam...   \n6   [{'id': 12, 'name': 'Adventure'}, {'id': 10751...   \n7   [{'id': 878, 'name': 'Science Fiction'}, {'id'...   \n8   [{'id': 28, 'name': 'Action'}, {'id': 53, 'nam...   \n9   [{'id': 28, 'name': 'Action'}, {'id': 12, 'nam...   \n10  [{'id': 28, 'name': 'Action'}, {'id': 12, 'nam...   \n11  [{'id': 14, 'name': 'Fantasy'}, {'id': 12, 'na...   \n12  [{'id': 878, 'name': 'Science Fiction'}, {'id'...   \n13  [{'id': 16, 'name': 'Animation'}, {'id': 10751...   \n14  [{'id': 28, 'name': 'Action'}, {'id': 12, 'nam...   \n15  [{'id': 16, 'name': 'Animation'}, {'id': 12, '...   \n16  [{'id': 10751, 'name': 'Family'}, {'id': 14, '...   \n17  [{'id': 28, 'name': 'Action'}, {'id': 12, 'nam...   \n\n                                             homepage      id    imdb_id  \\\n0      https://www.marvel.com/movies/avengers-endgame  299534  tt4154796   \n1                         http://www.avatarmovie.com/   19995  tt0499549   \n2   http://www.starwars.com/films/star-wars-episod...  140607  tt2488496   \n3   https://www.marvel.com/movies/avengers-infinit...  299536  tt4154756   \n4                                                         597  tt0120338   \n5                       http://www.jurassicworld.com/  135397  tt0369610   \n6        https://movies.disney.com/the-lion-king-2019  420818  tt6105098   \n7                   http://marvel.com/avengers_movie/   24428  tt0848228   \n8                            http://www.furious7.com/  168259  tt2820852   \n9   http://marvel.com/movies/movie/193/avengers_ag...   99861  tt2395427   \n10  https://marvel.com/movies/movie/224/black_panther  284054  tt1825683   \n11  https://www.warnerbros.com/movies/harry-potter...   12445  tt1201607   \n12  https://www.starwars.com/films/star-wars-episo...  181808  tt2527336   \n13                 https://movies.disney.com/frozen-2  330457  tt4520988   \n14                       http://www.jurassicworld.com  351286  tt4881806   \n15                    http://movies.disney.com/frozen  109445  tt2294629   \n16  http://movies.disney.com/beauty-and-the-beast-...  321612  tt2771200   \n17            https://movies.disney.com/incredibles-2  260513  tt3606756   \n\n   original_language                                original_title  \\\n0                 en                             Avengers: Endgame   \n1                 en                                        Avatar   \n2                 en                  Star Wars: The Force Awakens   \n3                 en                        Avengers: Infinity War   \n4                 en                                       Titanic   \n5                 en                                Jurassic World   \n6                 en                                 The Lion King   \n7                 en                                  The Avengers   \n8                 en                                     Furious 7   \n9                 en                       Avengers: Age of Ultron   \n10                en                                 Black Panther   \n11                en  Harry Potter and the Deathly Hallows: Part 2   \n12                en                      Star Wars: The Last Jedi   \n13                en                                     Frozen II   \n14                en                Jurassic World: Fallen Kingdom   \n15                en                                        Frozen   \n16                en                          Beauty and the Beast   \n17                en                                 Incredibles 2   \n\n                                             overview  ...  \\\n0   After the devastating events of Avengers: Infi...  ...   \n1   In the 22nd century, a paraplegic Marine is di...  ...   \n2   Thirty years after defeating the Galactic Empi...  ...   \n3   As the Avengers and their allies have continue...  ...   \n4   101-year-old Rose DeWitt Bukater tells the sto...  ...   \n5   Twenty-two years after the events of Jurassic ...  ...   \n6   Simba idolizes his father, King Mufasa, and ta...  ...   \n7   When an unexpected enemy emerges and threatens...  ...   \n8   Deckard Shaw seeks revenge against Dominic Tor...  ...   \n9   When Tony Stark tries to jumpstart a dormant p...  ...   \n10  King T'Challa returns home from America to the...  ...   \n11  Harry, Ron and Hermione continue their quest t...  ...   \n12  Rey develops her newly discovered abilities wi...  ...   \n13  Elsa, Anna, Kristoff and Olaf head far into th...  ...   \n14  Three years after the demise of Jurassic World...  ...   \n15  Young princess Anna of Arendelle dreams about ...  ...   \n16  A live-action adaptation of Disney's version o...  ...   \n17  Elastigirl springs into action to save the day...  ...   \n\n                                              tagline  \\\n0                     Part of the journey is the end.   \n1                         Enter the World of Pandora.   \n2                       Every generation has a story.   \n3               An entire universe. Once and for all.   \n4           Nothing on Earth could come between them.   \n5                                   The park is open.   \n6                              The King has Returned.   \n7                             Some assembly required.   \n8                                 Vengeance Hits Home   \n9                                 A New Age Has Come.   \n10                                Long live the king.   \n11                                  It all ends here.   \n12             Darkness rises... and light to meet it   \n13                     The past is not what it seems.   \n14                                   The park is gone   \n15  Only the act of true love will thaw a frozen h...   \n16                                      Be our guest.   \n17                                      Back to work.   \n\n                                           title  video vote_average  \\\n0                              Avengers: Endgame  False          8.3   \n1                                         Avatar  False          7.4   \n2                   Star Wars: The Force Awakens  False          7.4   \n3                         Avengers: Infinity War  False          8.3   \n4                                        Titanic  False          7.8   \n5                                 Jurassic World  False          6.6   \n6                                  The Lion King  False          7.2   \n7                                   The Avengers  False          7.7   \n8                                      Furious 7  False          7.3   \n9                        Avengers: Age of Ultron  False          7.3   \n10                                 Black Panther  False          7.4   \n11  Harry Potter and the Deathly Hallows: Part 2  False          8.1   \n12                      Star Wars: The Last Jedi  False          7.0   \n13                                     Frozen II  False          7.2   \n14                Jurassic World: Fallen Kingdom  False          6.5   \n15                                        Frozen  False          7.3   \n16                          Beauty and the Beast  False          6.9   \n17                                 Incredibles 2  False          7.5   \n\n   vote_count  belongs_to_collection_id           belongs_to_collection_name  \\\n0       12607                   86311.0              The Avengers Collection   \n1       21000                   87096.0                    Avatar Collection   \n2       14205                      10.0                 Star Wars Collection   \n3       17718                   86311.0              The Avengers Collection   \n4       16661                       NaN                                  NaN   \n5       15399                     328.0             Jurassic Park Collection   \n6        5425                       NaN                                  NaN   \n7       22101                   86311.0              The Avengers Collection   \n8        7359                    9485.0  The Fast and the Furious Collection   \n9       15548                   86311.0              The Avengers Collection   \n10      14830                  529892.0             Black Panther Collection   \n11      13447                    1241.0              Harry Potter Collection   \n12      10304                      10.0                 Star Wars Collection   \n13       3982                  386382.0                    Frozen Collection   \n14       7337                     328.0             Jurassic Park Collection   \n15      11616                  386382.0                    Frozen Collection   \n16      12203                       NaN                                  NaN   \n17       8147                  468222.0           The Incredibles Collection   \n\n   belongs_to_collection_poster_path belongs_to_collection_backdrop_path  \\\n0   /yFSIUVTCvgYrpalUktulvk3Gi5Y.jpg    /zuW6fOiusv4X9nnW3paHGfXcSll.jpg   \n1   /nslJVsO58Etqkk17oXMuVK4gNOF.jpg    /8nCr9W7sKus2q9PLbYsnT7iCkuT.jpg   \n2   /r8Ph5MYXL04Qzu4QBbq2KjqwtkQ.jpg    /d8duYyyC9J5T825Hg7grmaabfxQ.jpg   \n3   /yFSIUVTCvgYrpalUktulvk3Gi5Y.jpg    /zuW6fOiusv4X9nnW3paHGfXcSll.jpg   \n4                                NaN                                 NaN   \n5   /qIm2nHXLpBBdMxi8dvfrnDkBUDh.jpg    /njFixYzIxX8jsn6KMSEtAzi4avi.jpg   \n6                                NaN                                 NaN   \n7   /yFSIUVTCvgYrpalUktulvk3Gi5Y.jpg    /zuW6fOiusv4X9nnW3paHGfXcSll.jpg   \n8   /uv63yAGg1zETAs1XQsOQpava87l.jpg    /z5A5W3WYJc3UVEWljSGwdjDgQ0j.jpg   \n9   /yFSIUVTCvgYrpalUktulvk3Gi5Y.jpg    /zuW6fOiusv4X9nnW3paHGfXcSll.jpg   \n10  /9ZSPIsxI3TZDgfg0Jzk0RZl4INg.jpg    /1Jj7Frjjbewb6Q6dl6YXhL3kuvL.jpg   \n11  /eVPs2Y0LyvTLZn6AP5Z6O2rtiGB.jpg    /wfnMt6LGqYHcNyOfsuusw5lX3bL.jpg   \n12  /r8Ph5MYXL04Qzu4QBbq2KjqwtkQ.jpg    /d8duYyyC9J5T825Hg7grmaabfxQ.jpg   \n13  /rpoXnE9UzCbjmINhxIi8bZF557B.jpg    /k21wXgC9AVnKoHW1lRPS0UUGCZ4.jpg   \n14  /qIm2nHXLpBBdMxi8dvfrnDkBUDh.jpg    /njFixYzIxX8jsn6KMSEtAzi4avi.jpg   \n15  /rpoXnE9UzCbjmINhxIi8bZF557B.jpg    /k21wXgC9AVnKoHW1lRPS0UUGCZ4.jpg   \n16                               NaN                                 NaN   \n17  /l7GqbzkJwowYRIXAtUz2iCPi64a.jpg    /9eDW2dVhnzPS2HvaRdK2OlAGaLq.jpg   \n\n   belongs_to_collection  \n0                    NaN  \n1                    NaN  \n2                    NaN  \n3                    NaN  \n4                    NaN  \n5                    NaN  \n6                    NaN  \n7                    NaN  \n8                    NaN  \n9                    NaN  \n10                   NaN  \n11                   NaN  \n12                   NaN  \n13                   NaN  \n14                   NaN  \n15                   NaN  \n16                   NaN  \n17                   NaN  \n\n[18 rows x 29 columns]",
      "text/html": "<div>\n<style scoped>\n    .dataframe tbody tr th:only-of-type {\n        vertical-align: middle;\n    }\n\n    .dataframe tbody tr th {\n        vertical-align: top;\n    }\n\n    .dataframe thead th {\n        text-align: right;\n    }\n</style>\n<table border=\"1\" class=\"dataframe\">\n  <thead>\n    <tr style=\"text-align: right;\">\n      <th></th>\n      <th>adult</th>\n      <th>backdrop_path</th>\n      <th>budget</th>\n      <th>genres</th>\n      <th>homepage</th>\n      <th>id</th>\n      <th>imdb_id</th>\n      <th>original_language</th>\n      <th>original_title</th>\n      <th>overview</th>\n      <th>...</th>\n      <th>tagline</th>\n      <th>title</th>\n      <th>video</th>\n      <th>vote_average</th>\n      <th>vote_count</th>\n      <th>belongs_to_collection_id</th>\n      <th>belongs_to_collection_name</th>\n      <th>belongs_to_collection_poster_path</th>\n      <th>belongs_to_collection_backdrop_path</th>\n      <th>belongs_to_collection</th>\n    </tr>\n  </thead>\n  <tbody>\n    <tr>\n      <th>0</th>\n      <td>False</td>\n      <td>/orjiB3oUIsyz60hoEqkiGpy5CeO.jpg</td>\n      <td>356000000</td>\n      <td>[{'id': 12, 'name': 'Adventure'}, {'id': 878, ...</td>\n      <td>https://www.marvel.com/movies/avengers-endgame</td>\n      <td>299534</td>\n      <td>tt4154796</td>\n      <td>en</td>\n      <td>Avengers: Endgame</td>\n      <td>After the devastating events of Avengers: Infi...</td>\n      <td>...</td>\n      <td>Part of the journey is the end.</td>\n      <td>Avengers: Endgame</td>\n      <td>False</td>\n      <td>8.3</td>\n      <td>12607</td>\n      <td>86311.0</td>\n      <td>The Avengers Collection</td>\n      <td>/yFSIUVTCvgYrpalUktulvk3Gi5Y.jpg</td>\n      <td>/zuW6fOiusv4X9nnW3paHGfXcSll.jpg</td>\n      <td>NaN</td>\n    </tr>\n    <tr>\n      <th>1</th>\n      <td>False</td>\n      <td>/wcC7kCICL6x6zHUlUyNp9pWoqW1.jpg</td>\n      <td>237000000</td>\n      <td>[{'id': 28, 'name': 'Action'}, {'id': 12, 'nam...</td>\n      <td>http://www.avatarmovie.com/</td>\n      <td>19995</td>\n      <td>tt0499549</td>\n      <td>en</td>\n      <td>Avatar</td>\n      <td>In the 22nd century, a paraplegic Marine is di...</td>\n      <td>...</td>\n      <td>Enter the World of Pandora.</td>\n      <td>Avatar</td>\n      <td>False</td>\n      <td>7.4</td>\n      <td>21000</td>\n      <td>87096.0</td>\n      <td>Avatar Collection</td>\n      <td>/nslJVsO58Etqkk17oXMuVK4gNOF.jpg</td>\n      <td>/8nCr9W7sKus2q9PLbYsnT7iCkuT.jpg</td>\n      <td>NaN</td>\n    </tr>\n    <tr>\n      <th>2</th>\n      <td>False</td>\n      <td>/8BTsTfln4jlQrLXUBquXJ0ASQy9.jpg</td>\n      <td>245000000</td>\n      <td>[{'id': 28, 'name': 'Action'}, {'id': 12, 'nam...</td>\n      <td>http://www.starwars.com/films/star-wars-episod...</td>\n      <td>140607</td>\n      <td>tt2488496</td>\n      <td>en</td>\n      <td>Star Wars: The Force Awakens</td>\n      <td>Thirty years after defeating the Galactic Empi...</td>\n      <td>...</td>\n      <td>Every generation has a story.</td>\n      <td>Star Wars: The Force Awakens</td>\n      <td>False</td>\n      <td>7.4</td>\n      <td>14205</td>\n      <td>10.0</td>\n      <td>Star Wars Collection</td>\n      <td>/r8Ph5MYXL04Qzu4QBbq2KjqwtkQ.jpg</td>\n      <td>/d8duYyyC9J5T825Hg7grmaabfxQ.jpg</td>\n      <td>NaN</td>\n    </tr>\n    <tr>\n      <th>3</th>\n      <td>False</td>\n      <td>/lmZFxXgJE3vgrciwuDib0N8CfQo.jpg</td>\n      <td>300000000</td>\n      <td>[{'id': 12, 'name': 'Adventure'}, {'id': 28, '...</td>\n      <td>https://www.marvel.com/movies/avengers-infinit...</td>\n      <td>299536</td>\n      <td>tt4154756</td>\n      <td>en</td>\n      <td>Avengers: Infinity War</td>\n      <td>As the Avengers and their allies have continue...</td>\n      <td>...</td>\n      <td>An entire universe. Once and for all.</td>\n      <td>Avengers: Infinity War</td>\n      <td>False</td>\n      <td>8.3</td>\n      <td>17718</td>\n      <td>86311.0</td>\n      <td>The Avengers Collection</td>\n      <td>/yFSIUVTCvgYrpalUktulvk3Gi5Y.jpg</td>\n      <td>/zuW6fOiusv4X9nnW3paHGfXcSll.jpg</td>\n      <td>NaN</td>\n    </tr>\n    <tr>\n      <th>4</th>\n      <td>False</td>\n      <td>/6VmFqApQRyZZzmiGOQq2C92jyvH.jpg</td>\n      <td>200000000</td>\n      <td>[{'id': 18, 'name': 'Drama'}, {'id': 10749, 'n...</td>\n      <td></td>\n      <td>597</td>\n      <td>tt0120338</td>\n      <td>en</td>\n      <td>Titanic</td>\n      <td>101-year-old Rose DeWitt Bukater tells the sto...</td>\n      <td>...</td>\n      <td>Nothing on Earth could come between them.</td>\n      <td>Titanic</td>\n      <td>False</td>\n      <td>7.8</td>\n      <td>16661</td>\n      <td>NaN</td>\n      <td>NaN</td>\n      <td>NaN</td>\n      <td>NaN</td>\n      <td>NaN</td>\n    </tr>\n    <tr>\n      <th>5</th>\n      <td>False</td>\n      <td>/9OywzJLgobAbSGfhMXligzTylko.jpg</td>\n      <td>150000000</td>\n      <td>[{'id': 28, 'name': 'Action'}, {'id': 12, 'nam...</td>\n      <td>http://www.jurassicworld.com/</td>\n      <td>135397</td>\n      <td>tt0369610</td>\n      <td>en</td>\n      <td>Jurassic World</td>\n      <td>Twenty-two years after the events of Jurassic ...</td>\n      <td>...</td>\n      <td>The park is open.</td>\n      <td>Jurassic World</td>\n      <td>False</td>\n      <td>6.6</td>\n      <td>15399</td>\n      <td>328.0</td>\n      <td>Jurassic Park Collection</td>\n      <td>/qIm2nHXLpBBdMxi8dvfrnDkBUDh.jpg</td>\n      <td>/njFixYzIxX8jsn6KMSEtAzi4avi.jpg</td>\n      <td>NaN</td>\n    </tr>\n    <tr>\n      <th>6</th>\n      <td>False</td>\n      <td>/nRXO2SnOA75OsWhNhXstHB8ZmI3.jpg</td>\n      <td>260000000</td>\n      <td>[{'id': 12, 'name': 'Adventure'}, {'id': 10751...</td>\n      <td>https://movies.disney.com/the-lion-king-2019</td>\n      <td>420818</td>\n      <td>tt6105098</td>\n      <td>en</td>\n      <td>The Lion King</td>\n      <td>Simba idolizes his father, King Mufasa, and ta...</td>\n      <td>...</td>\n      <td>The King has Returned.</td>\n      <td>The Lion King</td>\n      <td>False</td>\n      <td>7.2</td>\n      <td>5425</td>\n      <td>NaN</td>\n      <td>NaN</td>\n      <td>NaN</td>\n      <td>NaN</td>\n      <td>NaN</td>\n    </tr>\n    <tr>\n      <th>7</th>\n      <td>False</td>\n      <td>/v3A0T4fAz8xRugAkfUVkxGLd377.jpg</td>\n      <td>220000000</td>\n      <td>[{'id': 878, 'name': 'Science Fiction'}, {'id'...</td>\n      <td>http://marvel.com/avengers_movie/</td>\n      <td>24428</td>\n      <td>tt0848228</td>\n      <td>en</td>\n      <td>The Avengers</td>\n      <td>When an unexpected enemy emerges and threatens...</td>\n      <td>...</td>\n      <td>Some assembly required.</td>\n      <td>The Avengers</td>\n      <td>False</td>\n      <td>7.7</td>\n      <td>22101</td>\n      <td>86311.0</td>\n      <td>The Avengers Collection</td>\n      <td>/yFSIUVTCvgYrpalUktulvk3Gi5Y.jpg</td>\n      <td>/zuW6fOiusv4X9nnW3paHGfXcSll.jpg</td>\n      <td>NaN</td>\n    </tr>\n    <tr>\n      <th>8</th>\n      <td>False</td>\n      <td>/7X6zOOEzXTQJkzDgBHVly1BgyYu.jpg</td>\n      <td>190000000</td>\n      <td>[{'id': 28, 'name': 'Action'}, {'id': 53, 'nam...</td>\n      <td>http://www.furious7.com/</td>\n      <td>168259</td>\n      <td>tt2820852</td>\n      <td>en</td>\n      <td>Furious 7</td>\n      <td>Deckard Shaw seeks revenge against Dominic Tor...</td>\n      <td>...</td>\n      <td>Vengeance Hits Home</td>\n      <td>Furious 7</td>\n      <td>False</td>\n      <td>7.3</td>\n      <td>7359</td>\n      <td>9485.0</td>\n      <td>The Fast and the Furious Collection</td>\n      <td>/uv63yAGg1zETAs1XQsOQpava87l.jpg</td>\n      <td>/z5A5W3WYJc3UVEWljSGwdjDgQ0j.jpg</td>\n      <td>NaN</td>\n    </tr>\n    <tr>\n      <th>9</th>\n      <td>False</td>\n      <td>/4zmNJNQkugbalqJLnKp0wnlp8i3.jpg</td>\n      <td>250000000</td>\n      <td>[{'id': 28, 'name': 'Action'}, {'id': 12, 'nam...</td>\n      <td>http://marvel.com/movies/movie/193/avengers_ag...</td>\n      <td>99861</td>\n      <td>tt2395427</td>\n      <td>en</td>\n      <td>Avengers: Age of Ultron</td>\n      <td>When Tony Stark tries to jumpstart a dormant p...</td>\n      <td>...</td>\n      <td>A New Age Has Come.</td>\n      <td>Avengers: Age of Ultron</td>\n      <td>False</td>\n      <td>7.3</td>\n      <td>15548</td>\n      <td>86311.0</td>\n      <td>The Avengers Collection</td>\n      <td>/yFSIUVTCvgYrpalUktulvk3Gi5Y.jpg</td>\n      <td>/zuW6fOiusv4X9nnW3paHGfXcSll.jpg</td>\n      <td>NaN</td>\n    </tr>\n    <tr>\n      <th>10</th>\n      <td>False</td>\n      <td>/6ELJEzQJ3Y45HczvreC3dg0GV5R.jpg</td>\n      <td>200000000</td>\n      <td>[{'id': 28, 'name': 'Action'}, {'id': 12, 'nam...</td>\n      <td>https://marvel.com/movies/movie/224/black_panther</td>\n      <td>284054</td>\n      <td>tt1825683</td>\n      <td>en</td>\n      <td>Black Panther</td>\n      <td>King T'Challa returns home from America to the...</td>\n      <td>...</td>\n      <td>Long live the king.</td>\n      <td>Black Panther</td>\n      <td>False</td>\n      <td>7.4</td>\n      <td>14830</td>\n      <td>529892.0</td>\n      <td>Black Panther Collection</td>\n      <td>/9ZSPIsxI3TZDgfg0Jzk0RZl4INg.jpg</td>\n      <td>/1Jj7Frjjbewb6Q6dl6YXhL3kuvL.jpg</td>\n      <td>NaN</td>\n    </tr>\n    <tr>\n      <th>11</th>\n      <td>False</td>\n      <td>/n5A7brJCjejceZmHyujwUTVgQNC.jpg</td>\n      <td>125000000</td>\n      <td>[{'id': 14, 'name': 'Fantasy'}, {'id': 12, 'na...</td>\n      <td>https://www.warnerbros.com/movies/harry-potter...</td>\n      <td>12445</td>\n      <td>tt1201607</td>\n      <td>en</td>\n      <td>Harry Potter and the Deathly Hallows: Part 2</td>\n      <td>Harry, Ron and Hermione continue their quest t...</td>\n      <td>...</td>\n      <td>It all ends here.</td>\n      <td>Harry Potter and the Deathly Hallows: Part 2</td>\n      <td>False</td>\n      <td>8.1</td>\n      <td>13447</td>\n      <td>1241.0</td>\n      <td>Harry Potter Collection</td>\n      <td>/eVPs2Y0LyvTLZn6AP5Z6O2rtiGB.jpg</td>\n      <td>/wfnMt6LGqYHcNyOfsuusw5lX3bL.jpg</td>\n      <td>NaN</td>\n    </tr>\n    <tr>\n      <th>12</th>\n      <td>False</td>\n      <td>/5Iw7zQTHVRBOYpA0V6z0yypOPZh.jpg</td>\n      <td>200000000</td>\n      <td>[{'id': 878, 'name': 'Science Fiction'}, {'id'...</td>\n      <td>https://www.starwars.com/films/star-wars-episo...</td>\n      <td>181808</td>\n      <td>tt2527336</td>\n      <td>en</td>\n      <td>Star Wars: The Last Jedi</td>\n      <td>Rey develops her newly discovered abilities wi...</td>\n      <td>...</td>\n      <td>Darkness rises... and light to meet it</td>\n      <td>Star Wars: The Last Jedi</td>\n      <td>False</td>\n      <td>7.0</td>\n      <td>10304</td>\n      <td>10.0</td>\n      <td>Star Wars Collection</td>\n      <td>/r8Ph5MYXL04Qzu4QBbq2KjqwtkQ.jpg</td>\n      <td>/d8duYyyC9J5T825Hg7grmaabfxQ.jpg</td>\n      <td>NaN</td>\n    </tr>\n    <tr>\n      <th>13</th>\n      <td>False</td>\n      <td>/xJWPZIYOEFIjZpBL7SVBGnzRYXp.jpg</td>\n      <td>150000000</td>\n      <td>[{'id': 16, 'name': 'Animation'}, {'id': 10751...</td>\n      <td>https://movies.disney.com/frozen-2</td>\n      <td>330457</td>\n      <td>tt4520988</td>\n      <td>en</td>\n      <td>Frozen II</td>\n      <td>Elsa, Anna, Kristoff and Olaf head far into th...</td>\n      <td>...</td>\n      <td>The past is not what it seems.</td>\n      <td>Frozen II</td>\n      <td>False</td>\n      <td>7.2</td>\n      <td>3982</td>\n      <td>386382.0</td>\n      <td>Frozen Collection</td>\n      <td>/rpoXnE9UzCbjmINhxIi8bZF557B.jpg</td>\n      <td>/k21wXgC9AVnKoHW1lRPS0UUGCZ4.jpg</td>\n      <td>NaN</td>\n    </tr>\n    <tr>\n      <th>14</th>\n      <td>False</td>\n      <td>/3s9O5af2xWKWR5JzP2iJZpZeQQg.jpg</td>\n      <td>170000000</td>\n      <td>[{'id': 28, 'name': 'Action'}, {'id': 12, 'nam...</td>\n      <td>http://www.jurassicworld.com</td>\n      <td>351286</td>\n      <td>tt4881806</td>\n      <td>en</td>\n      <td>Jurassic World: Fallen Kingdom</td>\n      <td>Three years after the demise of Jurassic World...</td>\n      <td>...</td>\n      <td>The park is gone</td>\n      <td>Jurassic World: Fallen Kingdom</td>\n      <td>False</td>\n      <td>6.5</td>\n      <td>7337</td>\n      <td>328.0</td>\n      <td>Jurassic Park Collection</td>\n      <td>/qIm2nHXLpBBdMxi8dvfrnDkBUDh.jpg</td>\n      <td>/njFixYzIxX8jsn6KMSEtAzi4avi.jpg</td>\n      <td>NaN</td>\n    </tr>\n    <tr>\n      <th>15</th>\n      <td>False</td>\n      <td>/fydUcbkqLyESCFa9U5XKqi8dIVj.jpg</td>\n      <td>150000000</td>\n      <td>[{'id': 16, 'name': 'Animation'}, {'id': 12, '...</td>\n      <td>http://movies.disney.com/frozen</td>\n      <td>109445</td>\n      <td>tt2294629</td>\n      <td>en</td>\n      <td>Frozen</td>\n      <td>Young princess Anna of Arendelle dreams about ...</td>\n      <td>...</td>\n      <td>Only the act of true love will thaw a frozen h...</td>\n      <td>Frozen</td>\n      <td>False</td>\n      <td>7.3</td>\n      <td>11616</td>\n      <td>386382.0</td>\n      <td>Frozen Collection</td>\n      <td>/rpoXnE9UzCbjmINhxIi8bZF557B.jpg</td>\n      <td>/k21wXgC9AVnKoHW1lRPS0UUGCZ4.jpg</td>\n      <td>NaN</td>\n    </tr>\n    <tr>\n      <th>16</th>\n      <td>False</td>\n      <td>/7QshG75xKCmClghQDU1ta2BTaja.jpg</td>\n      <td>160000000</td>\n      <td>[{'id': 10751, 'name': 'Family'}, {'id': 14, '...</td>\n      <td>http://movies.disney.com/beauty-and-the-beast-...</td>\n      <td>321612</td>\n      <td>tt2771200</td>\n      <td>en</td>\n      <td>Beauty and the Beast</td>\n      <td>A live-action adaptation of Disney's version o...</td>\n      <td>...</td>\n      <td>Be our guest.</td>\n      <td>Beauty and the Beast</td>\n      <td>False</td>\n      <td>6.9</td>\n      <td>12203</td>\n      <td>NaN</td>\n      <td>NaN</td>\n      <td>NaN</td>\n      <td>NaN</td>\n      <td>NaN</td>\n    </tr>\n    <tr>\n      <th>17</th>\n      <td>False</td>\n      <td>/mabuNsGJgRuCTuGqjFkWe1xdu19.jpg</td>\n      <td>200000000</td>\n      <td>[{'id': 28, 'name': 'Action'}, {'id': 12, 'nam...</td>\n      <td>https://movies.disney.com/incredibles-2</td>\n      <td>260513</td>\n      <td>tt3606756</td>\n      <td>en</td>\n      <td>Incredibles 2</td>\n      <td>Elastigirl springs into action to save the day...</td>\n      <td>...</td>\n      <td>Back to work.</td>\n      <td>Incredibles 2</td>\n      <td>False</td>\n      <td>7.5</td>\n      <td>8147</td>\n      <td>468222.0</td>\n      <td>The Incredibles Collection</td>\n      <td>/l7GqbzkJwowYRIXAtUz2iCPi64a.jpg</td>\n      <td>/9eDW2dVhnzPS2HvaRdK2OlAGaLq.jpg</td>\n      <td>NaN</td>\n    </tr>\n  </tbody>\n</table>\n<p>18 rows × 29 columns</p>\n</div>"
     },
     "execution_count": 11,
     "metadata": {},
     "output_type": "execute_result"
    }
   ],
   "source": [
    "df"
   ],
   "metadata": {
    "collapsed": false,
    "ExecuteTime": {
     "end_time": "2023-07-13T01:29:29.634837400Z",
     "start_time": "2023-07-13T01:29:29.552469300Z"
    }
   }
  },
  {
   "cell_type": "code",
   "execution_count": 12,
   "outputs": [
    {
     "data": {
      "text/plain": "        id                                         title     revenue  \\\n0   299534                             Avengers: Endgame  2797800564   \n1    19995                                        Avatar  2787965087   \n2   140607                  Star Wars: The Force Awakens  2068223624   \n3   299536                        Avengers: Infinity War  2046239637   \n4      597                                       Titanic  1845034188   \n5   135397                                Jurassic World  1671713208   \n6   420818                                 The Lion King  1656943394   \n7    24428                                  The Avengers  1519557910   \n8   168259                                     Furious 7  1515047671   \n9    99861                       Avengers: Age of Ultron  1405403694   \n10  284054                                 Black Panther  1346739107   \n11   12445  Harry Potter and the Deathly Hallows: Part 2  1341511219   \n12  181808                      Star Wars: The Last Jedi  1332539889   \n13  330457                                     Frozen II  1330764959   \n14  351286                Jurassic World: Fallen Kingdom  1303459585   \n15  109445                                        Frozen  1274219009   \n16  321612                          Beauty and the Beast  1263521126   \n17  260513                                 Incredibles 2  1241891456   \n\n       budget           belongs_to_collection_name release_date  \n0   356000000              The Avengers Collection   2019-04-24  \n1   237000000                    Avatar Collection   2009-12-10  \n2   245000000                 Star Wars Collection   2015-12-15  \n3   300000000              The Avengers Collection   2018-04-25  \n4   200000000                                  NaN   1997-11-18  \n5   150000000             Jurassic Park Collection   2015-06-06  \n6   260000000                                  NaN   2019-07-12  \n7   220000000              The Avengers Collection   2012-04-25  \n8   190000000  The Fast and the Furious Collection   2015-04-01  \n9   250000000              The Avengers Collection   2015-04-22  \n10  200000000             Black Panther Collection   2018-02-13  \n11  125000000              Harry Potter Collection   2011-07-07  \n12  200000000                 Star Wars Collection   2017-12-13  \n13  150000000                    Frozen Collection   2019-11-20  \n14  170000000             Jurassic Park Collection   2018-06-06  \n15  150000000                    Frozen Collection   2013-11-27  \n16  160000000                                  NaN   2017-03-16  \n17  200000000           The Incredibles Collection   2018-06-14  ",
      "text/html": "<div>\n<style scoped>\n    .dataframe tbody tr th:only-of-type {\n        vertical-align: middle;\n    }\n\n    .dataframe tbody tr th {\n        vertical-align: top;\n    }\n\n    .dataframe thead th {\n        text-align: right;\n    }\n</style>\n<table border=\"1\" class=\"dataframe\">\n  <thead>\n    <tr style=\"text-align: right;\">\n      <th></th>\n      <th>id</th>\n      <th>title</th>\n      <th>revenue</th>\n      <th>budget</th>\n      <th>belongs_to_collection_name</th>\n      <th>release_date</th>\n    </tr>\n  </thead>\n  <tbody>\n    <tr>\n      <th>0</th>\n      <td>299534</td>\n      <td>Avengers: Endgame</td>\n      <td>2797800564</td>\n      <td>356000000</td>\n      <td>The Avengers Collection</td>\n      <td>2019-04-24</td>\n    </tr>\n    <tr>\n      <th>1</th>\n      <td>19995</td>\n      <td>Avatar</td>\n      <td>2787965087</td>\n      <td>237000000</td>\n      <td>Avatar Collection</td>\n      <td>2009-12-10</td>\n    </tr>\n    <tr>\n      <th>2</th>\n      <td>140607</td>\n      <td>Star Wars: The Force Awakens</td>\n      <td>2068223624</td>\n      <td>245000000</td>\n      <td>Star Wars Collection</td>\n      <td>2015-12-15</td>\n    </tr>\n    <tr>\n      <th>3</th>\n      <td>299536</td>\n      <td>Avengers: Infinity War</td>\n      <td>2046239637</td>\n      <td>300000000</td>\n      <td>The Avengers Collection</td>\n      <td>2018-04-25</td>\n    </tr>\n    <tr>\n      <th>4</th>\n      <td>597</td>\n      <td>Titanic</td>\n      <td>1845034188</td>\n      <td>200000000</td>\n      <td>NaN</td>\n      <td>1997-11-18</td>\n    </tr>\n    <tr>\n      <th>5</th>\n      <td>135397</td>\n      <td>Jurassic World</td>\n      <td>1671713208</td>\n      <td>150000000</td>\n      <td>Jurassic Park Collection</td>\n      <td>2015-06-06</td>\n    </tr>\n    <tr>\n      <th>6</th>\n      <td>420818</td>\n      <td>The Lion King</td>\n      <td>1656943394</td>\n      <td>260000000</td>\n      <td>NaN</td>\n      <td>2019-07-12</td>\n    </tr>\n    <tr>\n      <th>7</th>\n      <td>24428</td>\n      <td>The Avengers</td>\n      <td>1519557910</td>\n      <td>220000000</td>\n      <td>The Avengers Collection</td>\n      <td>2012-04-25</td>\n    </tr>\n    <tr>\n      <th>8</th>\n      <td>168259</td>\n      <td>Furious 7</td>\n      <td>1515047671</td>\n      <td>190000000</td>\n      <td>The Fast and the Furious Collection</td>\n      <td>2015-04-01</td>\n    </tr>\n    <tr>\n      <th>9</th>\n      <td>99861</td>\n      <td>Avengers: Age of Ultron</td>\n      <td>1405403694</td>\n      <td>250000000</td>\n      <td>The Avengers Collection</td>\n      <td>2015-04-22</td>\n    </tr>\n    <tr>\n      <th>10</th>\n      <td>284054</td>\n      <td>Black Panther</td>\n      <td>1346739107</td>\n      <td>200000000</td>\n      <td>Black Panther Collection</td>\n      <td>2018-02-13</td>\n    </tr>\n    <tr>\n      <th>11</th>\n      <td>12445</td>\n      <td>Harry Potter and the Deathly Hallows: Part 2</td>\n      <td>1341511219</td>\n      <td>125000000</td>\n      <td>Harry Potter Collection</td>\n      <td>2011-07-07</td>\n    </tr>\n    <tr>\n      <th>12</th>\n      <td>181808</td>\n      <td>Star Wars: The Last Jedi</td>\n      <td>1332539889</td>\n      <td>200000000</td>\n      <td>Star Wars Collection</td>\n      <td>2017-12-13</td>\n    </tr>\n    <tr>\n      <th>13</th>\n      <td>330457</td>\n      <td>Frozen II</td>\n      <td>1330764959</td>\n      <td>150000000</td>\n      <td>Frozen Collection</td>\n      <td>2019-11-20</td>\n    </tr>\n    <tr>\n      <th>14</th>\n      <td>351286</td>\n      <td>Jurassic World: Fallen Kingdom</td>\n      <td>1303459585</td>\n      <td>170000000</td>\n      <td>Jurassic Park Collection</td>\n      <td>2018-06-06</td>\n    </tr>\n    <tr>\n      <th>15</th>\n      <td>109445</td>\n      <td>Frozen</td>\n      <td>1274219009</td>\n      <td>150000000</td>\n      <td>Frozen Collection</td>\n      <td>2013-11-27</td>\n    </tr>\n    <tr>\n      <th>16</th>\n      <td>321612</td>\n      <td>Beauty and the Beast</td>\n      <td>1263521126</td>\n      <td>160000000</td>\n      <td>NaN</td>\n      <td>2017-03-16</td>\n    </tr>\n    <tr>\n      <th>17</th>\n      <td>260513</td>\n      <td>Incredibles 2</td>\n      <td>1241891456</td>\n      <td>200000000</td>\n      <td>The Incredibles Collection</td>\n      <td>2018-06-14</td>\n    </tr>\n  </tbody>\n</table>\n</div>"
     },
     "execution_count": 12,
     "metadata": {},
     "output_type": "execute_result"
    }
   ],
   "source": [
    "movies = df[[\"id\", \"title\", \"revenue\", \"budget\", \"belongs_to_collection_name\", \"release_date\"]].copy()\n",
    "movies"
   ],
   "metadata": {
    "collapsed": false,
    "ExecuteTime": {
     "end_time": "2023-07-13T01:29:29.635837800Z",
     "start_time": "2023-07-13T01:29:29.601281400Z"
    }
   }
  },
  {
   "cell_type": "code",
   "execution_count": 13,
   "outputs": [
    {
     "name": "stdout",
     "output_type": "stream",
     "text": [
      "<class 'pandas.core.frame.DataFrame'>\n",
      "RangeIndex: 18 entries, 0 to 17\n",
      "Data columns (total 6 columns):\n",
      " #   Column                      Non-Null Count  Dtype \n",
      "---  ------                      --------------  ----- \n",
      " 0   id                          18 non-null     int64 \n",
      " 1   title                       18 non-null     object\n",
      " 2   revenue                     18 non-null     int64 \n",
      " 3   budget                      18 non-null     int64 \n",
      " 4   belongs_to_collection_name  15 non-null     object\n",
      " 5   release_date                18 non-null     object\n",
      "dtypes: int64(3), object(3)\n",
      "memory usage: 992.0+ bytes\n"
     ]
    }
   ],
   "source": [
    "movies.info()"
   ],
   "metadata": {
    "collapsed": false,
    "ExecuteTime": {
     "end_time": "2023-07-13T01:29:29.637840900Z",
     "start_time": "2023-07-13T01:29:29.614302800Z"
    }
   }
  },
  {
   "cell_type": "markdown",
   "metadata": {},
   "source": [
    "3. __Load__ the datasets __into the database__ (each dataset should be a separate table in the database). __Name__ the tables \"Movies\", \"Votes\", \"Genres\", \"Prod\"."
   ]
  },
  {
   "cell_type": "code",
   "execution_count": 15,
   "metadata": {
    "ExecuteTime": {
     "end_time": "2023-07-13T01:30:17.911338100Z",
     "start_time": "2023-07-13T01:30:17.746677400Z"
    }
   },
   "outputs": [],
   "source": [
    "movies.release_date = pd.to_datetime(df.release_date)"
   ]
  },
  {
   "cell_type": "code",
   "execution_count": 16,
   "outputs": [],
   "source": [
    "movies.revenue = df.revenue/1000000\n",
    "movies.budget = df.budget/1000000"
   ],
   "metadata": {
    "collapsed": false,
    "ExecuteTime": {
     "end_time": "2023-07-13T01:30:42.957709700Z",
     "start_time": "2023-07-13T01:30:42.930690900Z"
    }
   }
  },
  {
   "cell_type": "code",
   "execution_count": 17,
   "outputs": [],
   "source": [
    "votes = df[[\"id\", \"vote_count\", \"vote_average\"]].copy()"
   ],
   "metadata": {
    "collapsed": false,
    "ExecuteTime": {
     "end_time": "2023-07-13T01:31:04.553501500Z",
     "start_time": "2023-07-13T01:31:04.525419100Z"
    }
   }
  },
  {
   "cell_type": "code",
   "execution_count": 18,
   "outputs": [],
   "source": [
    "genres = pd.json_normalize(data=data, record_path=\"genres\", meta=\"id\", record_prefix=\"genre_\")"
   ],
   "metadata": {
    "collapsed": false,
    "ExecuteTime": {
     "end_time": "2023-07-13T01:32:26.167702500Z",
     "start_time": "2023-07-13T01:32:26.149626500Z"
    }
   }
  },
  {
   "cell_type": "code",
   "execution_count": 19,
   "outputs": [
    {
     "data": {
      "text/plain": "    genre_id       genre_name      id\n0         12        Adventure  299534\n1        878  Science Fiction  299534\n2         28           Action  299534\n3         28           Action   19995\n4         12        Adventure   19995\n5         14          Fantasy   19995\n6        878  Science Fiction   19995\n7         28           Action  140607\n8         12        Adventure  140607\n9        878  Science Fiction  140607\n10        14          Fantasy  140607\n11        12        Adventure  299536\n12        28           Action  299536\n13       878  Science Fiction  299536\n14        18            Drama     597\n15     10749          Romance     597\n16        28           Action  135397\n17        12        Adventure  135397\n18       878  Science Fiction  135397\n19        53         Thriller  135397\n20        12        Adventure  420818\n21     10751           Family  420818\n22       878  Science Fiction   24428\n23        28           Action   24428\n24        12        Adventure   24428\n25        28           Action  168259\n26        53         Thriller  168259\n27        28           Action   99861\n28        12        Adventure   99861\n29       878  Science Fiction   99861\n30        28           Action  284054\n31        12        Adventure  284054\n32        14          Fantasy  284054\n33       878  Science Fiction  284054\n34        14          Fantasy   12445\n35        12        Adventure   12445\n36       878  Science Fiction  181808\n37        28           Action  181808\n38        12        Adventure  181808\n39        16        Animation  330457\n40     10751           Family  330457\n41        12        Adventure  330457\n42        28           Action  351286\n43        12        Adventure  351286\n44       878  Science Fiction  351286\n45        16        Animation  109445\n46        12        Adventure  109445\n47     10751           Family  109445\n48     10751           Family  321612\n49        14          Fantasy  321612\n50     10749          Romance  321612\n51        28           Action  260513\n52        12        Adventure  260513\n53        16        Animation  260513\n54     10751           Family  260513",
      "text/html": "<div>\n<style scoped>\n    .dataframe tbody tr th:only-of-type {\n        vertical-align: middle;\n    }\n\n    .dataframe tbody tr th {\n        vertical-align: top;\n    }\n\n    .dataframe thead th {\n        text-align: right;\n    }\n</style>\n<table border=\"1\" class=\"dataframe\">\n  <thead>\n    <tr style=\"text-align: right;\">\n      <th></th>\n      <th>genre_id</th>\n      <th>genre_name</th>\n      <th>id</th>\n    </tr>\n  </thead>\n  <tbody>\n    <tr>\n      <th>0</th>\n      <td>12</td>\n      <td>Adventure</td>\n      <td>299534</td>\n    </tr>\n    <tr>\n      <th>1</th>\n      <td>878</td>\n      <td>Science Fiction</td>\n      <td>299534</td>\n    </tr>\n    <tr>\n      <th>2</th>\n      <td>28</td>\n      <td>Action</td>\n      <td>299534</td>\n    </tr>\n    <tr>\n      <th>3</th>\n      <td>28</td>\n      <td>Action</td>\n      <td>19995</td>\n    </tr>\n    <tr>\n      <th>4</th>\n      <td>12</td>\n      <td>Adventure</td>\n      <td>19995</td>\n    </tr>\n    <tr>\n      <th>5</th>\n      <td>14</td>\n      <td>Fantasy</td>\n      <td>19995</td>\n    </tr>\n    <tr>\n      <th>6</th>\n      <td>878</td>\n      <td>Science Fiction</td>\n      <td>19995</td>\n    </tr>\n    <tr>\n      <th>7</th>\n      <td>28</td>\n      <td>Action</td>\n      <td>140607</td>\n    </tr>\n    <tr>\n      <th>8</th>\n      <td>12</td>\n      <td>Adventure</td>\n      <td>140607</td>\n    </tr>\n    <tr>\n      <th>9</th>\n      <td>878</td>\n      <td>Science Fiction</td>\n      <td>140607</td>\n    </tr>\n    <tr>\n      <th>10</th>\n      <td>14</td>\n      <td>Fantasy</td>\n      <td>140607</td>\n    </tr>\n    <tr>\n      <th>11</th>\n      <td>12</td>\n      <td>Adventure</td>\n      <td>299536</td>\n    </tr>\n    <tr>\n      <th>12</th>\n      <td>28</td>\n      <td>Action</td>\n      <td>299536</td>\n    </tr>\n    <tr>\n      <th>13</th>\n      <td>878</td>\n      <td>Science Fiction</td>\n      <td>299536</td>\n    </tr>\n    <tr>\n      <th>14</th>\n      <td>18</td>\n      <td>Drama</td>\n      <td>597</td>\n    </tr>\n    <tr>\n      <th>15</th>\n      <td>10749</td>\n      <td>Romance</td>\n      <td>597</td>\n    </tr>\n    <tr>\n      <th>16</th>\n      <td>28</td>\n      <td>Action</td>\n      <td>135397</td>\n    </tr>\n    <tr>\n      <th>17</th>\n      <td>12</td>\n      <td>Adventure</td>\n      <td>135397</td>\n    </tr>\n    <tr>\n      <th>18</th>\n      <td>878</td>\n      <td>Science Fiction</td>\n      <td>135397</td>\n    </tr>\n    <tr>\n      <th>19</th>\n      <td>53</td>\n      <td>Thriller</td>\n      <td>135397</td>\n    </tr>\n    <tr>\n      <th>20</th>\n      <td>12</td>\n      <td>Adventure</td>\n      <td>420818</td>\n    </tr>\n    <tr>\n      <th>21</th>\n      <td>10751</td>\n      <td>Family</td>\n      <td>420818</td>\n    </tr>\n    <tr>\n      <th>22</th>\n      <td>878</td>\n      <td>Science Fiction</td>\n      <td>24428</td>\n    </tr>\n    <tr>\n      <th>23</th>\n      <td>28</td>\n      <td>Action</td>\n      <td>24428</td>\n    </tr>\n    <tr>\n      <th>24</th>\n      <td>12</td>\n      <td>Adventure</td>\n      <td>24428</td>\n    </tr>\n    <tr>\n      <th>25</th>\n      <td>28</td>\n      <td>Action</td>\n      <td>168259</td>\n    </tr>\n    <tr>\n      <th>26</th>\n      <td>53</td>\n      <td>Thriller</td>\n      <td>168259</td>\n    </tr>\n    <tr>\n      <th>27</th>\n      <td>28</td>\n      <td>Action</td>\n      <td>99861</td>\n    </tr>\n    <tr>\n      <th>28</th>\n      <td>12</td>\n      <td>Adventure</td>\n      <td>99861</td>\n    </tr>\n    <tr>\n      <th>29</th>\n      <td>878</td>\n      <td>Science Fiction</td>\n      <td>99861</td>\n    </tr>\n    <tr>\n      <th>30</th>\n      <td>28</td>\n      <td>Action</td>\n      <td>284054</td>\n    </tr>\n    <tr>\n      <th>31</th>\n      <td>12</td>\n      <td>Adventure</td>\n      <td>284054</td>\n    </tr>\n    <tr>\n      <th>32</th>\n      <td>14</td>\n      <td>Fantasy</td>\n      <td>284054</td>\n    </tr>\n    <tr>\n      <th>33</th>\n      <td>878</td>\n      <td>Science Fiction</td>\n      <td>284054</td>\n    </tr>\n    <tr>\n      <th>34</th>\n      <td>14</td>\n      <td>Fantasy</td>\n      <td>12445</td>\n    </tr>\n    <tr>\n      <th>35</th>\n      <td>12</td>\n      <td>Adventure</td>\n      <td>12445</td>\n    </tr>\n    <tr>\n      <th>36</th>\n      <td>878</td>\n      <td>Science Fiction</td>\n      <td>181808</td>\n    </tr>\n    <tr>\n      <th>37</th>\n      <td>28</td>\n      <td>Action</td>\n      <td>181808</td>\n    </tr>\n    <tr>\n      <th>38</th>\n      <td>12</td>\n      <td>Adventure</td>\n      <td>181808</td>\n    </tr>\n    <tr>\n      <th>39</th>\n      <td>16</td>\n      <td>Animation</td>\n      <td>330457</td>\n    </tr>\n    <tr>\n      <th>40</th>\n      <td>10751</td>\n      <td>Family</td>\n      <td>330457</td>\n    </tr>\n    <tr>\n      <th>41</th>\n      <td>12</td>\n      <td>Adventure</td>\n      <td>330457</td>\n    </tr>\n    <tr>\n      <th>42</th>\n      <td>28</td>\n      <td>Action</td>\n      <td>351286</td>\n    </tr>\n    <tr>\n      <th>43</th>\n      <td>12</td>\n      <td>Adventure</td>\n      <td>351286</td>\n    </tr>\n    <tr>\n      <th>44</th>\n      <td>878</td>\n      <td>Science Fiction</td>\n      <td>351286</td>\n    </tr>\n    <tr>\n      <th>45</th>\n      <td>16</td>\n      <td>Animation</td>\n      <td>109445</td>\n    </tr>\n    <tr>\n      <th>46</th>\n      <td>12</td>\n      <td>Adventure</td>\n      <td>109445</td>\n    </tr>\n    <tr>\n      <th>47</th>\n      <td>10751</td>\n      <td>Family</td>\n      <td>109445</td>\n    </tr>\n    <tr>\n      <th>48</th>\n      <td>10751</td>\n      <td>Family</td>\n      <td>321612</td>\n    </tr>\n    <tr>\n      <th>49</th>\n      <td>14</td>\n      <td>Fantasy</td>\n      <td>321612</td>\n    </tr>\n    <tr>\n      <th>50</th>\n      <td>10749</td>\n      <td>Romance</td>\n      <td>321612</td>\n    </tr>\n    <tr>\n      <th>51</th>\n      <td>28</td>\n      <td>Action</td>\n      <td>260513</td>\n    </tr>\n    <tr>\n      <th>52</th>\n      <td>12</td>\n      <td>Adventure</td>\n      <td>260513</td>\n    </tr>\n    <tr>\n      <th>53</th>\n      <td>16</td>\n      <td>Animation</td>\n      <td>260513</td>\n    </tr>\n    <tr>\n      <th>54</th>\n      <td>10751</td>\n      <td>Family</td>\n      <td>260513</td>\n    </tr>\n  </tbody>\n</table>\n</div>"
     },
     "execution_count": 19,
     "metadata": {},
     "output_type": "execute_result"
    }
   ],
   "source": [
    "genres"
   ],
   "metadata": {
    "collapsed": false,
    "ExecuteTime": {
     "end_time": "2023-07-13T01:32:29.170329300Z",
     "start_time": "2023-07-13T01:32:29.147671900Z"
    }
   }
  },
  {
   "cell_type": "code",
   "execution_count": 20,
   "outputs": [],
   "source": [
    "prod = pd.json_normalize(data=data, record_path=\"production_companies\", meta=\"id\", record_prefix=\"comp_\")"
   ],
   "metadata": {
    "collapsed": false,
    "ExecuteTime": {
     "end_time": "2023-07-13T01:34:51.748328200Z",
     "start_time": "2023-07-13T01:34:51.722778900Z"
    }
   }
  },
  {
   "cell_type": "code",
   "execution_count": 21,
   "outputs": [
    {
     "data": {
      "text/plain": "    comp_id                    comp_logo_path  \\\n0       420  /hUzeosd33nzE5MCNsZxCGEKTXaQ.png   \n1       444  /42UPdZl6B2cFXgNUASR8hSt9mpS.png   \n2       574  /iB6GjNVHs5hOqcEYt2rcjBqIjki.png   \n3        25  /qZCc1lty5FzX30aOCVRBLzaVmcp.png   \n4       290   /Q8mw2AOQQc8Qg0uNwLWq86DVZv.png   \n5      1634                              None   \n6         1  /o86DbpburjxrqAzEDhXZcyE8pDb.png   \n7     11461  /p9FoEt5shEKRWRKVIlvFaEmRnun.png   \n8       420  /hUzeosd33nzE5MCNsZxCGEKTXaQ.png   \n9         4  /fycMZt242LVjagMByZOLUGbCvv3.png   \n10      574  /iB6GjNVHs5hOqcEYt2rcjBqIjki.png   \n11       25  /qZCc1lty5FzX30aOCVRBLzaVmcp.png   \n12     3341  /dTG5dXE1kU2mpmL9BNnraffckLU.png   \n13       56  /cEaxANEisCqeEoRvODv2dO1I0iI.png   \n14      923  /5UQsZrfbfG2dYJbx8DxfoTr2Bvu.png   \n15       33  /8lvHyhjr8oUKOOy2dKXoALWKdp0.png   \n16     1778  /69xm6sF3JxugGVjfZfm1YY6d7EE.png   \n17      862  /udTjbqPmcTbfrihMuLtLcizDEM1.png   \n18        2  /wdrCwmRnLFJhEoH8GSfymY85KHT.png   \n19     7297  /l29JYQVZbTcjZXoz4CUYFpKRmM3.png   \n20      420  /hUzeosd33nzE5MCNsZxCGEKTXaQ.png   \n21        4  /fycMZt242LVjagMByZOLUGbCvv3.png   \n22    87857                              None   \n23       33  /8lvHyhjr8oUKOOy2dKXoALWKdp0.png   \n24    40890                              None   \n25      333  /5xUJfzPZ8jWJUDzYtIeuPO4qPIa.png   \n26     3341  /dTG5dXE1kU2mpmL9BNnraffckLU.png   \n27    86352                              None   \n28    87858                              None   \n29     1778  /69xm6sF3JxugGVjfZfm1YY6d7EE.png   \n30     2531  /pC2iDCDCvV85vOBP7a5Ukxuc0Du.png   \n31     1225                              None   \n32      420  /hUzeosd33nzE5MCNsZxCGEKTXaQ.png   \n33      420  /hUzeosd33nzE5MCNsZxCGEKTXaQ.png   \n34        2  /wdrCwmRnLFJhEoH8GSfymY85KHT.png   \n35      174   /IuAlhI9eVC9Z8UQWOIDdWRKSEJ.png   \n36      437  /nu20mtwbEIhUNnQ5NXVhHsNknZj.png   \n37        1  /o86DbpburjxrqAzEDhXZcyE8pDb.png   \n38    11092                              None   \n39        2  /wdrCwmRnLFJhEoH8GSfymY85KHT.png   \n40     6125  /tVPmo07IHhBs4HuilrcV0yujsZ9.png   \n41        2  /wdrCwmRnLFJhEoH8GSfymY85KHT.png   \n42       56  /cEaxANEisCqeEoRvODv2dO1I0iI.png   \n43      923  /5UQsZrfbfG2dYJbx8DxfoTr2Bvu.png   \n44       33  /8lvHyhjr8oUKOOy2dKXoALWKdp0.png   \n45    10338  /el2ap6lvjcEDdbyJoB3oKiYgXu9.png   \n46        2  /wdrCwmRnLFJhEoH8GSfymY85KHT.png   \n47     6125  /tVPmo07IHhBs4HuilrcV0yujsZ9.png   \n48        2  /wdrCwmRnLFJhEoH8GSfymY85KHT.png   \n49    10227  /3YfRy3DBl4abcqkzGx4RVNz12yl.png   \n50        2  /wdrCwmRnLFJhEoH8GSfymY85KHT.png   \n51        3  /1TjvGVDMYsj6JBxOAkUHpPEwLf7.png   \n\n                                      comp_name comp_origin_country      id  \n0                                Marvel Studios                  US  299534  \n1                            Dune Entertainment                  US   19995  \n2                      Lightstorm Entertainment                  US   19995  \n3                              20th Century Fox                  US   19995  \n4                               Ingenious Media                  GB   19995  \n5                         Truenorth Productions                  IS  140607  \n6                                     Lucasfilm                  US  140607  \n7                                     Bad Robot                  US  140607  \n8                                Marvel Studios                  US  299536  \n9                                     Paramount                  US     597  \n10                     Lightstorm Entertainment                  US     597  \n11                             20th Century Fox                  US     597  \n12                      Fuji Television Network                  JP  135397  \n13                         Amblin Entertainment                  US  135397  \n14                      Legendary Entertainment                  US  135397  \n15                           Universal Pictures                  US  135397  \n16                                       Dentsu                  JP  135397  \n17                 The Kennedy/Marshall Company                  US  135397  \n18                         Walt Disney Pictures                  US  420818  \n19                       Fairview Entertainment                  US  420818  \n20                               Marvel Studios                  US   24428  \n21                                    Paramount                  US   24428  \n22                    Abu Dhabi Film Commission                      168259  \n23                           Universal Pictures                  US  168259  \n24                               China Film Co.                  CN  168259  \n25                                Original Film                  US  168259  \n26                      Fuji Television Network                  JP  168259  \n27        Québec Production Services Tax Credit                      168259  \n28  Colorado Office of Film, Television & Media                      168259  \n29                                       Dentsu                  JP  168259  \n30                         Media Rights Capital                  US  168259  \n31                                     One Race                  US  168259  \n32                               Marvel Studios                  US   99861  \n33                               Marvel Studios                  US  284054  \n34                         Walt Disney Pictures                  US  284054  \n35                        Warner Bros. Pictures                  US   12445  \n36                                 Heyday Films                  GB   12445  \n37                                    Lucasfilm                  US  181808  \n38                      Ram Bergman Productions                  US  181808  \n39                         Walt Disney Pictures                  US  181808  \n40                Walt Disney Animation Studios                  US  330457  \n41                         Walt Disney Pictures                  US  330457  \n42                         Amblin Entertainment                  US  351286  \n43                      Legendary Entertainment                  US  351286  \n44                           Universal Pictures                  US  351286  \n45                       Perfect World Pictures                  CN  351286  \n46                         Walt Disney Pictures                  US  109445  \n47                Walt Disney Animation Studios                  US  109445  \n48                         Walt Disney Pictures                  US  321612  \n49                             Mandeville Films                  US  321612  \n50                         Walt Disney Pictures                  US  260513  \n51                                        Pixar                  US  260513  ",
      "text/html": "<div>\n<style scoped>\n    .dataframe tbody tr th:only-of-type {\n        vertical-align: middle;\n    }\n\n    .dataframe tbody tr th {\n        vertical-align: top;\n    }\n\n    .dataframe thead th {\n        text-align: right;\n    }\n</style>\n<table border=\"1\" class=\"dataframe\">\n  <thead>\n    <tr style=\"text-align: right;\">\n      <th></th>\n      <th>comp_id</th>\n      <th>comp_logo_path</th>\n      <th>comp_name</th>\n      <th>comp_origin_country</th>\n      <th>id</th>\n    </tr>\n  </thead>\n  <tbody>\n    <tr>\n      <th>0</th>\n      <td>420</td>\n      <td>/hUzeosd33nzE5MCNsZxCGEKTXaQ.png</td>\n      <td>Marvel Studios</td>\n      <td>US</td>\n      <td>299534</td>\n    </tr>\n    <tr>\n      <th>1</th>\n      <td>444</td>\n      <td>/42UPdZl6B2cFXgNUASR8hSt9mpS.png</td>\n      <td>Dune Entertainment</td>\n      <td>US</td>\n      <td>19995</td>\n    </tr>\n    <tr>\n      <th>2</th>\n      <td>574</td>\n      <td>/iB6GjNVHs5hOqcEYt2rcjBqIjki.png</td>\n      <td>Lightstorm Entertainment</td>\n      <td>US</td>\n      <td>19995</td>\n    </tr>\n    <tr>\n      <th>3</th>\n      <td>25</td>\n      <td>/qZCc1lty5FzX30aOCVRBLzaVmcp.png</td>\n      <td>20th Century Fox</td>\n      <td>US</td>\n      <td>19995</td>\n    </tr>\n    <tr>\n      <th>4</th>\n      <td>290</td>\n      <td>/Q8mw2AOQQc8Qg0uNwLWq86DVZv.png</td>\n      <td>Ingenious Media</td>\n      <td>GB</td>\n      <td>19995</td>\n    </tr>\n    <tr>\n      <th>5</th>\n      <td>1634</td>\n      <td>None</td>\n      <td>Truenorth Productions</td>\n      <td>IS</td>\n      <td>140607</td>\n    </tr>\n    <tr>\n      <th>6</th>\n      <td>1</td>\n      <td>/o86DbpburjxrqAzEDhXZcyE8pDb.png</td>\n      <td>Lucasfilm</td>\n      <td>US</td>\n      <td>140607</td>\n    </tr>\n    <tr>\n      <th>7</th>\n      <td>11461</td>\n      <td>/p9FoEt5shEKRWRKVIlvFaEmRnun.png</td>\n      <td>Bad Robot</td>\n      <td>US</td>\n      <td>140607</td>\n    </tr>\n    <tr>\n      <th>8</th>\n      <td>420</td>\n      <td>/hUzeosd33nzE5MCNsZxCGEKTXaQ.png</td>\n      <td>Marvel Studios</td>\n      <td>US</td>\n      <td>299536</td>\n    </tr>\n    <tr>\n      <th>9</th>\n      <td>4</td>\n      <td>/fycMZt242LVjagMByZOLUGbCvv3.png</td>\n      <td>Paramount</td>\n      <td>US</td>\n      <td>597</td>\n    </tr>\n    <tr>\n      <th>10</th>\n      <td>574</td>\n      <td>/iB6GjNVHs5hOqcEYt2rcjBqIjki.png</td>\n      <td>Lightstorm Entertainment</td>\n      <td>US</td>\n      <td>597</td>\n    </tr>\n    <tr>\n      <th>11</th>\n      <td>25</td>\n      <td>/qZCc1lty5FzX30aOCVRBLzaVmcp.png</td>\n      <td>20th Century Fox</td>\n      <td>US</td>\n      <td>597</td>\n    </tr>\n    <tr>\n      <th>12</th>\n      <td>3341</td>\n      <td>/dTG5dXE1kU2mpmL9BNnraffckLU.png</td>\n      <td>Fuji Television Network</td>\n      <td>JP</td>\n      <td>135397</td>\n    </tr>\n    <tr>\n      <th>13</th>\n      <td>56</td>\n      <td>/cEaxANEisCqeEoRvODv2dO1I0iI.png</td>\n      <td>Amblin Entertainment</td>\n      <td>US</td>\n      <td>135397</td>\n    </tr>\n    <tr>\n      <th>14</th>\n      <td>923</td>\n      <td>/5UQsZrfbfG2dYJbx8DxfoTr2Bvu.png</td>\n      <td>Legendary Entertainment</td>\n      <td>US</td>\n      <td>135397</td>\n    </tr>\n    <tr>\n      <th>15</th>\n      <td>33</td>\n      <td>/8lvHyhjr8oUKOOy2dKXoALWKdp0.png</td>\n      <td>Universal Pictures</td>\n      <td>US</td>\n      <td>135397</td>\n    </tr>\n    <tr>\n      <th>16</th>\n      <td>1778</td>\n      <td>/69xm6sF3JxugGVjfZfm1YY6d7EE.png</td>\n      <td>Dentsu</td>\n      <td>JP</td>\n      <td>135397</td>\n    </tr>\n    <tr>\n      <th>17</th>\n      <td>862</td>\n      <td>/udTjbqPmcTbfrihMuLtLcizDEM1.png</td>\n      <td>The Kennedy/Marshall Company</td>\n      <td>US</td>\n      <td>135397</td>\n    </tr>\n    <tr>\n      <th>18</th>\n      <td>2</td>\n      <td>/wdrCwmRnLFJhEoH8GSfymY85KHT.png</td>\n      <td>Walt Disney Pictures</td>\n      <td>US</td>\n      <td>420818</td>\n    </tr>\n    <tr>\n      <th>19</th>\n      <td>7297</td>\n      <td>/l29JYQVZbTcjZXoz4CUYFpKRmM3.png</td>\n      <td>Fairview Entertainment</td>\n      <td>US</td>\n      <td>420818</td>\n    </tr>\n    <tr>\n      <th>20</th>\n      <td>420</td>\n      <td>/hUzeosd33nzE5MCNsZxCGEKTXaQ.png</td>\n      <td>Marvel Studios</td>\n      <td>US</td>\n      <td>24428</td>\n    </tr>\n    <tr>\n      <th>21</th>\n      <td>4</td>\n      <td>/fycMZt242LVjagMByZOLUGbCvv3.png</td>\n      <td>Paramount</td>\n      <td>US</td>\n      <td>24428</td>\n    </tr>\n    <tr>\n      <th>22</th>\n      <td>87857</td>\n      <td>None</td>\n      <td>Abu Dhabi Film Commission</td>\n      <td></td>\n      <td>168259</td>\n    </tr>\n    <tr>\n      <th>23</th>\n      <td>33</td>\n      <td>/8lvHyhjr8oUKOOy2dKXoALWKdp0.png</td>\n      <td>Universal Pictures</td>\n      <td>US</td>\n      <td>168259</td>\n    </tr>\n    <tr>\n      <th>24</th>\n      <td>40890</td>\n      <td>None</td>\n      <td>China Film Co.</td>\n      <td>CN</td>\n      <td>168259</td>\n    </tr>\n    <tr>\n      <th>25</th>\n      <td>333</td>\n      <td>/5xUJfzPZ8jWJUDzYtIeuPO4qPIa.png</td>\n      <td>Original Film</td>\n      <td>US</td>\n      <td>168259</td>\n    </tr>\n    <tr>\n      <th>26</th>\n      <td>3341</td>\n      <td>/dTG5dXE1kU2mpmL9BNnraffckLU.png</td>\n      <td>Fuji Television Network</td>\n      <td>JP</td>\n      <td>168259</td>\n    </tr>\n    <tr>\n      <th>27</th>\n      <td>86352</td>\n      <td>None</td>\n      <td>Québec Production Services Tax Credit</td>\n      <td></td>\n      <td>168259</td>\n    </tr>\n    <tr>\n      <th>28</th>\n      <td>87858</td>\n      <td>None</td>\n      <td>Colorado Office of Film, Television &amp; Media</td>\n      <td></td>\n      <td>168259</td>\n    </tr>\n    <tr>\n      <th>29</th>\n      <td>1778</td>\n      <td>/69xm6sF3JxugGVjfZfm1YY6d7EE.png</td>\n      <td>Dentsu</td>\n      <td>JP</td>\n      <td>168259</td>\n    </tr>\n    <tr>\n      <th>30</th>\n      <td>2531</td>\n      <td>/pC2iDCDCvV85vOBP7a5Ukxuc0Du.png</td>\n      <td>Media Rights Capital</td>\n      <td>US</td>\n      <td>168259</td>\n    </tr>\n    <tr>\n      <th>31</th>\n      <td>1225</td>\n      <td>None</td>\n      <td>One Race</td>\n      <td>US</td>\n      <td>168259</td>\n    </tr>\n    <tr>\n      <th>32</th>\n      <td>420</td>\n      <td>/hUzeosd33nzE5MCNsZxCGEKTXaQ.png</td>\n      <td>Marvel Studios</td>\n      <td>US</td>\n      <td>99861</td>\n    </tr>\n    <tr>\n      <th>33</th>\n      <td>420</td>\n      <td>/hUzeosd33nzE5MCNsZxCGEKTXaQ.png</td>\n      <td>Marvel Studios</td>\n      <td>US</td>\n      <td>284054</td>\n    </tr>\n    <tr>\n      <th>34</th>\n      <td>2</td>\n      <td>/wdrCwmRnLFJhEoH8GSfymY85KHT.png</td>\n      <td>Walt Disney Pictures</td>\n      <td>US</td>\n      <td>284054</td>\n    </tr>\n    <tr>\n      <th>35</th>\n      <td>174</td>\n      <td>/IuAlhI9eVC9Z8UQWOIDdWRKSEJ.png</td>\n      <td>Warner Bros. Pictures</td>\n      <td>US</td>\n      <td>12445</td>\n    </tr>\n    <tr>\n      <th>36</th>\n      <td>437</td>\n      <td>/nu20mtwbEIhUNnQ5NXVhHsNknZj.png</td>\n      <td>Heyday Films</td>\n      <td>GB</td>\n      <td>12445</td>\n    </tr>\n    <tr>\n      <th>37</th>\n      <td>1</td>\n      <td>/o86DbpburjxrqAzEDhXZcyE8pDb.png</td>\n      <td>Lucasfilm</td>\n      <td>US</td>\n      <td>181808</td>\n    </tr>\n    <tr>\n      <th>38</th>\n      <td>11092</td>\n      <td>None</td>\n      <td>Ram Bergman Productions</td>\n      <td>US</td>\n      <td>181808</td>\n    </tr>\n    <tr>\n      <th>39</th>\n      <td>2</td>\n      <td>/wdrCwmRnLFJhEoH8GSfymY85KHT.png</td>\n      <td>Walt Disney Pictures</td>\n      <td>US</td>\n      <td>181808</td>\n    </tr>\n    <tr>\n      <th>40</th>\n      <td>6125</td>\n      <td>/tVPmo07IHhBs4HuilrcV0yujsZ9.png</td>\n      <td>Walt Disney Animation Studios</td>\n      <td>US</td>\n      <td>330457</td>\n    </tr>\n    <tr>\n      <th>41</th>\n      <td>2</td>\n      <td>/wdrCwmRnLFJhEoH8GSfymY85KHT.png</td>\n      <td>Walt Disney Pictures</td>\n      <td>US</td>\n      <td>330457</td>\n    </tr>\n    <tr>\n      <th>42</th>\n      <td>56</td>\n      <td>/cEaxANEisCqeEoRvODv2dO1I0iI.png</td>\n      <td>Amblin Entertainment</td>\n      <td>US</td>\n      <td>351286</td>\n    </tr>\n    <tr>\n      <th>43</th>\n      <td>923</td>\n      <td>/5UQsZrfbfG2dYJbx8DxfoTr2Bvu.png</td>\n      <td>Legendary Entertainment</td>\n      <td>US</td>\n      <td>351286</td>\n    </tr>\n    <tr>\n      <th>44</th>\n      <td>33</td>\n      <td>/8lvHyhjr8oUKOOy2dKXoALWKdp0.png</td>\n      <td>Universal Pictures</td>\n      <td>US</td>\n      <td>351286</td>\n    </tr>\n    <tr>\n      <th>45</th>\n      <td>10338</td>\n      <td>/el2ap6lvjcEDdbyJoB3oKiYgXu9.png</td>\n      <td>Perfect World Pictures</td>\n      <td>CN</td>\n      <td>351286</td>\n    </tr>\n    <tr>\n      <th>46</th>\n      <td>2</td>\n      <td>/wdrCwmRnLFJhEoH8GSfymY85KHT.png</td>\n      <td>Walt Disney Pictures</td>\n      <td>US</td>\n      <td>109445</td>\n    </tr>\n    <tr>\n      <th>47</th>\n      <td>6125</td>\n      <td>/tVPmo07IHhBs4HuilrcV0yujsZ9.png</td>\n      <td>Walt Disney Animation Studios</td>\n      <td>US</td>\n      <td>109445</td>\n    </tr>\n    <tr>\n      <th>48</th>\n      <td>2</td>\n      <td>/wdrCwmRnLFJhEoH8GSfymY85KHT.png</td>\n      <td>Walt Disney Pictures</td>\n      <td>US</td>\n      <td>321612</td>\n    </tr>\n    <tr>\n      <th>49</th>\n      <td>10227</td>\n      <td>/3YfRy3DBl4abcqkzGx4RVNz12yl.png</td>\n      <td>Mandeville Films</td>\n      <td>US</td>\n      <td>321612</td>\n    </tr>\n    <tr>\n      <th>50</th>\n      <td>2</td>\n      <td>/wdrCwmRnLFJhEoH8GSfymY85KHT.png</td>\n      <td>Walt Disney Pictures</td>\n      <td>US</td>\n      <td>260513</td>\n    </tr>\n    <tr>\n      <th>51</th>\n      <td>3</td>\n      <td>/1TjvGVDMYsj6JBxOAkUHpPEwLf7.png</td>\n      <td>Pixar</td>\n      <td>US</td>\n      <td>260513</td>\n    </tr>\n  </tbody>\n</table>\n</div>"
     },
     "execution_count": 21,
     "metadata": {},
     "output_type": "execute_result"
    }
   ],
   "source": [
    "prod"
   ],
   "metadata": {
    "collapsed": false,
    "ExecuteTime": {
     "end_time": "2023-07-13T01:34:54.759166800Z",
     "start_time": "2023-07-13T01:34:54.731453Z"
    }
   }
  },
  {
   "cell_type": "code",
   "execution_count": 22,
   "outputs": [],
   "source": [
    "con = sq3.connect(\"movies.db\")"
   ],
   "metadata": {
    "collapsed": false,
    "ExecuteTime": {
     "end_time": "2023-07-13T01:35:28.008999800Z",
     "start_time": "2023-07-13T01:35:27.864222800Z"
    }
   }
  },
  {
   "cell_type": "code",
   "execution_count": 23,
   "outputs": [
    {
     "data": {
      "text/plain": "<sqlite3.Connection at 0x2be65ded8a0>"
     },
     "execution_count": 23,
     "metadata": {},
     "output_type": "execute_result"
    }
   ],
   "source": [
    "con"
   ],
   "metadata": {
    "collapsed": false,
    "ExecuteTime": {
     "end_time": "2023-07-13T01:35:30.685198100Z",
     "start_time": "2023-07-13T01:35:30.661404300Z"
    }
   }
  },
  {
   "cell_type": "code",
   "execution_count": 24,
   "outputs": [
    {
     "data": {
      "text/plain": "18"
     },
     "execution_count": 24,
     "metadata": {},
     "output_type": "execute_result"
    }
   ],
   "source": [
    "movies.to_sql(\"Movies\", con, index=False)"
   ],
   "metadata": {
    "collapsed": false,
    "ExecuteTime": {
     "end_time": "2023-07-13T01:35:51.623323500Z",
     "start_time": "2023-07-13T01:35:51.574566900Z"
    }
   }
  },
  {
   "cell_type": "code",
   "execution_count": 25,
   "outputs": [
    {
     "data": {
      "text/plain": "18"
     },
     "execution_count": 25,
     "metadata": {},
     "output_type": "execute_result"
    }
   ],
   "source": [
    "votes.to_sql(\"Votes\", con, index=False)"
   ],
   "metadata": {
    "collapsed": false,
    "ExecuteTime": {
     "end_time": "2023-07-13T01:36:04.713138600Z",
     "start_time": "2023-07-13T01:36:04.658556900Z"
    }
   }
  },
  {
   "cell_type": "code",
   "execution_count": 26,
   "outputs": [
    {
     "data": {
      "text/plain": "55"
     },
     "execution_count": 26,
     "metadata": {},
     "output_type": "execute_result"
    }
   ],
   "source": [
    "genres.to_sql(\"Genres\", con, index=False)"
   ],
   "metadata": {
    "collapsed": false,
    "ExecuteTime": {
     "end_time": "2023-07-13T01:36:18.038578800Z",
     "start_time": "2023-07-13T01:36:17.972802800Z"
    }
   }
  },
  {
   "cell_type": "code",
   "execution_count": 27,
   "outputs": [
    {
     "data": {
      "text/plain": "52"
     },
     "execution_count": 27,
     "metadata": {},
     "output_type": "execute_result"
    }
   ],
   "source": [
    "prod.to_sql(\"Prod\", con, index=False)"
   ],
   "metadata": {
    "collapsed": false,
    "ExecuteTime": {
     "end_time": "2023-07-13T01:36:34.795037700Z",
     "start_time": "2023-07-13T01:36:34.743082300Z"
    }
   }
  },
  {
   "cell_type": "code",
   "execution_count": 28,
   "outputs": [
    {
     "data": {
      "text/plain": "[('table',\n  'Table Name',\n  'Table Name',\n  2,\n  'CREATE TABLE \"Table Name\" (\\n\"adult\" INTEGER,\\n  \"backdrop_path\" TEXT,\\n  \"budget\" INTEGER,\\n  \"genres\" TEXT,\\n  \"homepage\" TEXT,\\n  \"id\" INTEGER,\\n  \"imdb_id\" TEXT,\\n  \"original_language\" TEXT,\\n  \"original_title\" TEXT,\\n  \"overview\" TEXT,\\n  \"popularity\" REAL,\\n  \"poster_path\" TEXT,\\n  \"production_companies\" TEXT,\\n  \"production_countries\" TEXT,\\n  \"release_date\" TEXT,\\n  \"revenue\" INTEGER,\\n  \"runtime\" INTEGER,\\n  \"spoken_languages\" TEXT,\\n  \"status\" TEXT,\\n  \"tagline\" TEXT,\\n  \"title\" TEXT,\\n  \"video\" INTEGER,\\n  \"vote_average\" REAL,\\n  \"vote_count\" INTEGER,\\n  \"belongs_to_collection_id\" REAL,\\n  \"belongs_to_collection_name\" TEXT,\\n  \"belongs_to_collection_poster_path\" TEXT,\\n  \"belongs_to_collection_backdrop_path\" TEXT,\\n  \"belongs_to_collection\" REAL\\n)'),\n ('table',\n  'Movies',\n  'Movies',\n  3,\n  'CREATE TABLE \"Movies\" (\\n\"id\" INTEGER,\\n  \"title\" TEXT,\\n  \"revenue\" REAL,\\n  \"budget\" REAL,\\n  \"belongs_to_collection_name\" TEXT,\\n  \"release_date\" TIMESTAMP\\n)'),\n ('table',\n  'Votes',\n  'Votes',\n  4,\n  'CREATE TABLE \"Votes\" (\\n\"id\" INTEGER,\\n  \"vote_count\" INTEGER,\\n  \"vote_average\" REAL\\n)'),\n ('table',\n  'Genres',\n  'Genres',\n  5,\n  'CREATE TABLE \"Genres\" (\\n\"genre_id\" INTEGER,\\n  \"genre_name\" TEXT,\\n  \"id\" INTEGER\\n)'),\n ('table',\n  'Prod',\n  'Prod',\n  6,\n  'CREATE TABLE \"Prod\" (\\n\"comp_id\" INTEGER,\\n  \"comp_logo_path\" TEXT,\\n  \"comp_name\" TEXT,\\n  \"comp_origin_country\" TEXT,\\n  \"id\" INTEGER\\n)')]"
     },
     "execution_count": 28,
     "metadata": {},
     "output_type": "execute_result"
    }
   ],
   "source": [
    "con.execute(\"Select * FROM sqlite_Master\").fetchall()"
   ],
   "metadata": {
    "collapsed": false,
    "ExecuteTime": {
     "end_time": "2023-07-13T01:37:00.192968900Z",
     "start_time": "2023-07-13T01:37:00.174952900Z"
    }
   }
  },
  {
   "cell_type": "code",
   "execution_count": 29,
   "outputs": [
    {
     "data": {
      "text/plain": "[('Genres',), ('Movies',), ('Prod',), ('Table Name',), ('Votes',)]"
     },
     "execution_count": 29,
     "metadata": {},
     "output_type": "execute_result"
    }
   ],
   "source": [
    "con.execute(\"SELECT name from sqlite_master WHERE type='table' ORDER BY name\").fetchall()"
   ],
   "metadata": {
    "collapsed": false,
    "ExecuteTime": {
     "end_time": "2023-07-13T01:37:38.735810100Z",
     "start_time": "2023-07-13T01:37:38.713032100Z"
    }
   }
  },
  {
   "cell_type": "code",
   "execution_count": 30,
   "outputs": [],
   "source": [
    "con.close()"
   ],
   "metadata": {
    "collapsed": false,
    "ExecuteTime": {
     "end_time": "2023-07-13T01:38:11.150640600Z",
     "start_time": "2023-07-13T01:38:11.122073Z"
    }
   }
  },
  {
   "cell_type": "markdown",
   "metadata": {},
   "source": [
    "## Loading Data from SQLite Databases into DataFrames"
   ]
  },
  {
   "cell_type": "markdown",
   "metadata": {},
   "source": [
    "4. __Load__ the full tables \"Movies\", \"Votes\", \"Genres\", \"Prod\" from \"movies.db\" into Pandas (four DataFrames). __Set__ \"id\" as Index. "
   ]
  },
  {
   "cell_type": "code",
   "execution_count": 13,
   "metadata": {
    "ExecuteTime": {
     "end_time": "2023-07-13T01:29:29.706083800Z",
     "start_time": "2023-07-13T01:29:29.641863700Z"
    }
   },
   "outputs": [],
   "source": []
  },
  {
   "cell_type": "markdown",
   "metadata": {},
   "source": [
    "##  Some Simple SQL Queries"
   ]
  },
  {
   "cell_type": "markdown",
   "metadata": {},
   "source": [
    "5. __Perform__ the following simple __SQL Queries__ and __store__ the results in DataFrames:"
   ]
  },
  {
   "cell_type": "markdown",
   "metadata": {},
   "source": [
    "__Load the full \"Movies\" Table__."
   ]
  },
  {
   "cell_type": "code",
   "execution_count": 13,
   "metadata": {
    "ExecuteTime": {
     "end_time": "2023-07-13T01:29:29.732183200Z",
     "start_time": "2023-07-13T01:29:29.657905200Z"
    }
   },
   "outputs": [],
   "source": []
  },
  {
   "cell_type": "markdown",
   "metadata": {},
   "source": [
    "__Load the columns \"id\", \"revenue\" and \"release_date\" from \"Movies\".__ "
   ]
  },
  {
   "cell_type": "code",
   "execution_count": 13,
   "metadata": {
    "ExecuteTime": {
     "end_time": "2023-07-13T01:29:29.904524900Z",
     "start_time": "2023-07-13T01:29:29.673977300Z"
    }
   },
   "outputs": [],
   "source": []
  },
  {
   "cell_type": "markdown",
   "metadata": {},
   "source": [
    "__Get the Total Revenue (sum) over all movies from \"Movies\".__"
   ]
  },
  {
   "cell_type": "code",
   "execution_count": 13,
   "metadata": {
    "ExecuteTime": {
     "end_time": "2023-07-13T01:29:29.934943900Z",
     "start_time": "2023-07-13T01:29:29.689002900Z"
    }
   },
   "outputs": [],
   "source": []
  },
  {
   "cell_type": "markdown",
   "metadata": {},
   "source": [
    "__Count the number of Movies in \"Movies\".__"
   ]
  },
  {
   "cell_type": "code",
   "execution_count": 13,
   "metadata": {
    "ExecuteTime": {
     "end_time": "2023-07-13T01:29:29.959982100Z",
     "start_time": "2023-07-13T01:29:29.704075700Z"
    }
   },
   "outputs": [],
   "source": []
  },
  {
   "cell_type": "markdown",
   "metadata": {},
   "source": [
    "__Count the number of Movies that do belong to a collection.__"
   ]
  },
  {
   "cell_type": "code",
   "execution_count": 13,
   "metadata": {
    "ExecuteTime": {
     "end_time": "2023-07-13T01:29:30.092681400Z",
     "start_time": "2023-07-13T01:29:29.718641300Z"
    }
   },
   "outputs": [],
   "source": []
  },
  {
   "cell_type": "markdown",
   "metadata": {},
   "source": [
    "__Get the average budget from \"Movies\"__."
   ]
  },
  {
   "cell_type": "code",
   "execution_count": 13,
   "metadata": {
    "ExecuteTime": {
     "end_time": "2023-07-13T01:29:30.140410200Z",
     "start_time": "2023-07-13T01:29:29.734693600Z"
    }
   },
   "outputs": [],
   "source": []
  },
  {
   "cell_type": "markdown",
   "metadata": {},
   "source": [
    "## Some more SQL Queries"
   ]
  },
  {
   "cell_type": "markdown",
   "metadata": {},
   "source": [
    "6. __Perform__ the following advanced __SQL Queries__ and __store__ the results in DataFrames:"
   ]
  },
  {
   "cell_type": "markdown",
   "metadata": {},
   "source": [
    "__Load all columns for the movie with movie id 597__."
   ]
  },
  {
   "cell_type": "code",
   "execution_count": 13,
   "metadata": {
    "ExecuteTime": {
     "end_time": "2023-07-13T01:29:30.145851300Z",
     "start_time": "2023-07-13T01:29:29.750233300Z"
    }
   },
   "outputs": [],
   "source": []
  },
  {
   "cell_type": "markdown",
   "metadata": {},
   "source": [
    "__Load all columns for all movies with a revenue greater than 2000 (MUSD).__"
   ]
  },
  {
   "cell_type": "code",
   "execution_count": 13,
   "metadata": {
    "ExecuteTime": {
     "end_time": "2023-07-13T01:29:30.146851600Z",
     "start_time": "2023-07-13T01:29:29.766287200Z"
    }
   },
   "outputs": [],
   "source": []
  },
  {
   "cell_type": "markdown",
   "metadata": {},
   "source": [
    "__Load all columns for all movies with a revenue greater than 1500 (MUSD) and a budget below 200 (MUSD).__"
   ]
  },
  {
   "cell_type": "code",
   "execution_count": 13,
   "metadata": {
    "ExecuteTime": {
     "end_time": "2023-07-13T01:29:30.147851800Z",
     "start_time": "2023-07-13T01:29:29.781679700Z"
    }
   },
   "outputs": [],
   "source": []
  },
  {
   "cell_type": "markdown",
   "metadata": {},
   "source": [
    "__Get the minimum budget from those movies with a revenue greater than 1250 (MUSD).__"
   ]
  },
  {
   "cell_type": "code",
   "execution_count": 13,
   "metadata": {
    "ExecuteTime": {
     "end_time": "2023-07-13T01:29:30.147851800Z",
     "start_time": "2023-07-13T01:29:29.798316400Z"
    }
   },
   "outputs": [],
   "source": []
  },
  {
   "cell_type": "markdown",
   "metadata": {},
   "source": [
    "__Get all unique collection Names from \"Movies\".__"
   ]
  },
  {
   "cell_type": "code",
   "execution_count": 13,
   "metadata": {
    "ExecuteTime": {
     "end_time": "2023-07-13T01:29:30.147851800Z",
     "start_time": "2023-07-13T01:29:29.812838Z"
    }
   },
   "outputs": [],
   "source": []
  },
  {
   "cell_type": "markdown",
   "metadata": {},
   "source": [
    "__Load all movies (all columns) and sort by budget from high to low.__"
   ]
  },
  {
   "cell_type": "code",
   "execution_count": 13,
   "metadata": {
    "ExecuteTime": {
     "end_time": "2023-07-13T01:29:30.147851800Z",
     "start_time": "2023-07-13T01:29:29.828878200Z"
    }
   },
   "outputs": [],
   "source": []
  },
  {
   "cell_type": "markdown",
   "metadata": {},
   "source": [
    "__Load all movies (all columns) that do not belong to a collection.__"
   ]
  },
  {
   "cell_type": "code",
   "execution_count": 13,
   "metadata": {
    "ExecuteTime": {
     "end_time": "2023-07-13T01:29:30.148854700Z",
     "start_time": "2023-07-13T01:29:29.845406900Z"
    }
   },
   "outputs": [],
   "source": []
  },
  {
   "cell_type": "markdown",
   "metadata": {},
   "source": [
    "__Load all movies (all columns) that belong to a collection.__"
   ]
  },
  {
   "cell_type": "code",
   "execution_count": 13,
   "metadata": {
    "ExecuteTime": {
     "end_time": "2023-07-13T01:29:30.148854700Z",
     "start_time": "2023-07-13T01:29:29.860412700Z"
    }
   },
   "outputs": [],
   "source": []
  },
  {
   "cell_type": "markdown",
   "metadata": {},
   "source": [
    "__Load all movies (all columns) where \"Avengers...\" is in the title__."
   ]
  },
  {
   "cell_type": "code",
   "execution_count": 13,
   "metadata": {
    "ExecuteTime": {
     "end_time": "2023-07-13T01:29:30.148854700Z",
     "start_time": "2023-07-13T01:29:29.875935100Z"
    }
   },
   "outputs": [],
   "source": []
  },
  {
   "cell_type": "markdown",
   "metadata": {},
   "source": [
    "## Join Queries"
   ]
  },
  {
   "cell_type": "markdown",
   "metadata": {},
   "source": [
    "7. __Perform__ the following __SQL Join Queries__ and __store__ the results in DataFrames:"
   ]
  },
  {
   "cell_type": "markdown",
   "metadata": {},
   "source": [
    "__Join \"Movies\" and \"Votes\"__ (all columns)."
   ]
  },
  {
   "cell_type": "code",
   "execution_count": 13,
   "metadata": {
    "ExecuteTime": {
     "end_time": "2023-07-13T01:29:30.148854700Z",
     "start_time": "2023-07-13T01:29:29.892483600Z"
    }
   },
   "outputs": [],
   "source": []
  },
  {
   "cell_type": "markdown",
   "metadata": {},
   "source": [
    "__Join \"Movies\" and \"Votes\" (only the columns \"id\", \"title\", \"vote_average\").__"
   ]
  },
  {
   "cell_type": "code",
   "execution_count": 13,
   "metadata": {
    "ExecuteTime": {
     "end_time": "2023-07-13T01:29:30.148854700Z",
     "start_time": "2023-07-13T01:29:29.906529700Z"
    }
   },
   "outputs": [],
   "source": []
  },
  {
   "cell_type": "markdown",
   "metadata": {},
   "source": [
    "__Join \"Movies\" and \"Votes\" (only the columns \"id\", \"title\", \"vote_average\") and return only those movies with vote_average > 8.__"
   ]
  },
  {
   "cell_type": "code",
   "execution_count": 13,
   "metadata": {
    "ExecuteTime": {
     "end_time": "2023-07-13T01:29:30.148854700Z",
     "start_time": "2023-07-13T01:29:29.923487100Z"
    }
   },
   "outputs": [],
   "source": []
  },
  {
   "cell_type": "markdown",
   "metadata": {},
   "source": [
    "__Join \"Movies\" and \"Votes\" (only the columns \"id\", \"title\", \"vote_average\") and return only those movies with vote_average > 8 and in ascending budget order__."
   ]
  },
  {
   "cell_type": "code",
   "execution_count": 13,
   "metadata": {
    "ExecuteTime": {
     "end_time": "2023-07-13T01:29:30.148854700Z",
     "start_time": "2023-07-13T01:29:29.948963300Z"
    }
   },
   "outputs": [],
   "source": []
  },
  {
   "cell_type": "markdown",
   "metadata": {},
   "source": [
    "## Final Case Study"
   ]
  },
  {
   "cell_type": "markdown",
   "metadata": {},
   "source": [
    "8. __Perform__ the following advanced __SQL Queries__ and __store__ the results in DataFrames:"
   ]
  },
  {
   "cell_type": "markdown",
   "metadata": {},
   "source": [
    "__Get the Total Revenue (sum) for each Production Company.__"
   ]
  },
  {
   "cell_type": "code",
   "execution_count": 13,
   "metadata": {
    "ExecuteTime": {
     "end_time": "2023-07-13T01:29:30.148854700Z",
     "start_time": "2023-07-13T01:29:29.954472100Z"
    }
   },
   "outputs": [],
   "source": []
  },
  {
   "cell_type": "markdown",
   "metadata": {},
   "source": [
    "__Get all Production Companies for the movie \"Titanic\".__"
   ]
  },
  {
   "cell_type": "code",
   "execution_count": 13,
   "metadata": {
    "ExecuteTime": {
     "end_time": "2023-07-13T01:29:30.186973Z",
     "start_time": "2023-07-13T01:29:29.971244500Z"
    }
   },
   "outputs": [],
   "source": []
  },
  {
   "cell_type": "markdown",
   "metadata": {},
   "source": [
    "__Get the Total Revenue (sum) for each Genre.__"
   ]
  },
  {
   "cell_type": "code",
   "execution_count": 13,
   "metadata": {
    "ExecuteTime": {
     "end_time": "2023-07-13T01:29:30.192491500Z",
     "start_time": "2023-07-13T01:29:29.986278600Z"
    }
   },
   "outputs": [],
   "source": []
  },
  {
   "cell_type": "markdown",
   "metadata": {},
   "source": [
    "__Get all Genres for the movie \"Frozen II\".__"
   ]
  },
  {
   "cell_type": "code",
   "execution_count": 13,
   "metadata": {
    "ExecuteTime": {
     "end_time": "2023-07-13T01:29:30.192491500Z",
     "start_time": "2023-07-13T01:29:30.001858700Z"
    }
   },
   "outputs": [],
   "source": []
  },
  {
   "cell_type": "code",
   "execution_count": 13,
   "metadata": {
    "ExecuteTime": {
     "end_time": "2023-07-13T01:29:30.193493400Z",
     "start_time": "2023-07-13T01:29:30.017939800Z"
    }
   },
   "outputs": [],
   "source": []
  },
  {
   "cell_type": "markdown",
   "metadata": {},
   "source": [
    "# +++++++++ See some Hints below +++++++++++++"
   ]
  },
  {
   "cell_type": "code",
   "execution_count": 13,
   "metadata": {
    "ExecuteTime": {
     "end_time": "2023-07-13T01:29:30.193493400Z",
     "start_time": "2023-07-13T01:29:30.033477400Z"
    }
   },
   "outputs": [],
   "source": []
  },
  {
   "cell_type": "code",
   "execution_count": 13,
   "metadata": {
    "ExecuteTime": {
     "end_time": "2023-07-13T01:29:30.193493400Z",
     "start_time": "2023-07-13T01:29:30.053160Z"
    }
   },
   "outputs": [],
   "source": []
  },
  {
   "cell_type": "code",
   "execution_count": 13,
   "metadata": {
    "ExecuteTime": {
     "end_time": "2023-07-13T01:29:30.193493400Z",
     "start_time": "2023-07-13T01:29:30.065076600Z"
    }
   },
   "outputs": [],
   "source": []
  },
  {
   "cell_type": "code",
   "execution_count": 13,
   "metadata": {
    "ExecuteTime": {
     "end_time": "2023-07-13T01:29:30.193493400Z",
     "start_time": "2023-07-13T01:29:30.082168Z"
    }
   },
   "outputs": [],
   "source": []
  },
  {
   "cell_type": "markdown",
   "metadata": {},
   "source": [
    "# ++++++++++++++++ Hints++++++++++++++++++++"
   ]
  },
  {
   "cell_type": "code",
   "execution_count": 13,
   "metadata": {
    "ExecuteTime": {
     "end_time": "2023-07-13T01:29:30.193493400Z",
     "start_time": "2023-07-13T01:29:30.101722500Z"
    }
   },
   "outputs": [],
   "source": []
  },
  {
   "cell_type": "markdown",
   "metadata": {},
   "source": [
    "__Hints for 1.__<br>\n",
    "You can do this with sq3.connect(\"database_name.db\")"
   ]
  },
  {
   "cell_type": "code",
   "execution_count": 13,
   "metadata": {
    "ExecuteTime": {
     "end_time": "2023-07-13T01:29:30.356364200Z",
     "start_time": "2023-07-13T01:29:30.111238400Z"
    }
   },
   "outputs": [],
   "source": []
  },
  {
   "cell_type": "markdown",
   "metadata": {},
   "source": [
    "__Hints for 2.__ <br>\n",
    "You have to use pd.json_normalize(data = ..., record_path = ..., meta = ..., record_prefix = ... ) for Datasets #3 and #4 "
   ]
  },
  {
   "cell_type": "code",
   "execution_count": 13,
   "metadata": {
    "ExecuteTime": {
     "end_time": "2023-07-13T01:29:30.356364200Z",
     "start_time": "2023-07-13T01:29:30.127787300Z"
    }
   },
   "outputs": [],
   "source": []
  },
  {
   "cell_type": "markdown",
   "metadata": {},
   "source": [
    "__Hints for 3.__<br>\n",
    "You can do this with: "
   ]
  },
  {
   "cell_type": "code",
   "execution_count": 14,
   "metadata": {
    "ExecuteTime": {
     "end_time": "2023-07-13T01:29:31.795755800Z",
     "start_time": "2023-07-13T01:29:30.143857100Z"
    }
   },
   "outputs": [
    {
     "ename": "InterfaceError",
     "evalue": "Error binding parameter 3 - probably unsupported type.",
     "output_type": "error",
     "traceback": [
      "\u001B[1;31m---------------------------------------------------------------------------\u001B[0m",
      "\u001B[1;31mInterfaceError\u001B[0m                            Traceback (most recent call last)",
      "Cell \u001B[1;32mIn[14], line 2\u001B[0m\n\u001B[0;32m      1\u001B[0m con \u001B[38;5;241m=\u001B[39m sq3\u001B[38;5;241m.\u001B[39mconnect(\u001B[38;5;124m\"\u001B[39m\u001B[38;5;124mmovies.db\u001B[39m\u001B[38;5;124m\"\u001B[39m)\n\u001B[1;32m----> 2\u001B[0m \u001B[43mdf\u001B[49m\u001B[38;5;241;43m.\u001B[39;49m\u001B[43mto_sql\u001B[49m\u001B[43m(\u001B[49m\u001B[38;5;124;43m\"\u001B[39;49m\u001B[38;5;124;43mTable Name\u001B[39;49m\u001B[38;5;124;43m\"\u001B[39;49m\u001B[43m,\u001B[49m\u001B[43m \u001B[49m\u001B[43mcon\u001B[49m\u001B[43m,\u001B[49m\u001B[43m \u001B[49m\u001B[43mindex\u001B[49m\u001B[43m \u001B[49m\u001B[38;5;241;43m=\u001B[39;49m\u001B[43m \u001B[49m\u001B[38;5;28;43;01mFalse\u001B[39;49;00m\u001B[43m)\u001B[49m\n",
      "File \u001B[1;32m~\\anaconda3\\envs\\python-data-science\\lib\\site-packages\\pandas\\core\\generic.py:2987\u001B[0m, in \u001B[0;36mNDFrame.to_sql\u001B[1;34m(self, name, con, schema, if_exists, index, index_label, chunksize, dtype, method)\u001B[0m\n\u001B[0;32m   2830\u001B[0m \u001B[38;5;124;03m\"\"\"\u001B[39;00m\n\u001B[0;32m   2831\u001B[0m \u001B[38;5;124;03mWrite records stored in a DataFrame to a SQL database.\u001B[39;00m\n\u001B[0;32m   2832\u001B[0m \n\u001B[1;32m   (...)\u001B[0m\n\u001B[0;32m   2983\u001B[0m \u001B[38;5;124;03m[(1,), (None,), (2,)]\u001B[39;00m\n\u001B[0;32m   2984\u001B[0m \u001B[38;5;124;03m\"\"\"\u001B[39;00m  \u001B[38;5;66;03m# noqa:E501\u001B[39;00m\n\u001B[0;32m   2985\u001B[0m \u001B[38;5;28;01mfrom\u001B[39;00m \u001B[38;5;21;01mpandas\u001B[39;00m\u001B[38;5;21;01m.\u001B[39;00m\u001B[38;5;21;01mio\u001B[39;00m \u001B[38;5;28;01mimport\u001B[39;00m sql\n\u001B[1;32m-> 2987\u001B[0m \u001B[38;5;28;01mreturn\u001B[39;00m \u001B[43msql\u001B[49m\u001B[38;5;241;43m.\u001B[39;49m\u001B[43mto_sql\u001B[49m\u001B[43m(\u001B[49m\n\u001B[0;32m   2988\u001B[0m \u001B[43m    \u001B[49m\u001B[38;5;28;43mself\u001B[39;49m\u001B[43m,\u001B[49m\n\u001B[0;32m   2989\u001B[0m \u001B[43m    \u001B[49m\u001B[43mname\u001B[49m\u001B[43m,\u001B[49m\n\u001B[0;32m   2990\u001B[0m \u001B[43m    \u001B[49m\u001B[43mcon\u001B[49m\u001B[43m,\u001B[49m\n\u001B[0;32m   2991\u001B[0m \u001B[43m    \u001B[49m\u001B[43mschema\u001B[49m\u001B[38;5;241;43m=\u001B[39;49m\u001B[43mschema\u001B[49m\u001B[43m,\u001B[49m\n\u001B[0;32m   2992\u001B[0m \u001B[43m    \u001B[49m\u001B[43mif_exists\u001B[49m\u001B[38;5;241;43m=\u001B[39;49m\u001B[43mif_exists\u001B[49m\u001B[43m,\u001B[49m\n\u001B[0;32m   2993\u001B[0m \u001B[43m    \u001B[49m\u001B[43mindex\u001B[49m\u001B[38;5;241;43m=\u001B[39;49m\u001B[43mindex\u001B[49m\u001B[43m,\u001B[49m\n\u001B[0;32m   2994\u001B[0m \u001B[43m    \u001B[49m\u001B[43mindex_label\u001B[49m\u001B[38;5;241;43m=\u001B[39;49m\u001B[43mindex_label\u001B[49m\u001B[43m,\u001B[49m\n\u001B[0;32m   2995\u001B[0m \u001B[43m    \u001B[49m\u001B[43mchunksize\u001B[49m\u001B[38;5;241;43m=\u001B[39;49m\u001B[43mchunksize\u001B[49m\u001B[43m,\u001B[49m\n\u001B[0;32m   2996\u001B[0m \u001B[43m    \u001B[49m\u001B[43mdtype\u001B[49m\u001B[38;5;241;43m=\u001B[39;49m\u001B[43mdtype\u001B[49m\u001B[43m,\u001B[49m\n\u001B[0;32m   2997\u001B[0m \u001B[43m    \u001B[49m\u001B[43mmethod\u001B[49m\u001B[38;5;241;43m=\u001B[39;49m\u001B[43mmethod\u001B[49m\u001B[43m,\u001B[49m\n\u001B[0;32m   2998\u001B[0m \u001B[43m\u001B[49m\u001B[43m)\u001B[49m\n",
      "File \u001B[1;32m~\\anaconda3\\envs\\python-data-science\\lib\\site-packages\\pandas\\io\\sql.py:695\u001B[0m, in \u001B[0;36mto_sql\u001B[1;34m(frame, name, con, schema, if_exists, index, index_label, chunksize, dtype, method, engine, **engine_kwargs)\u001B[0m\n\u001B[0;32m    690\u001B[0m \u001B[38;5;28;01melif\u001B[39;00m \u001B[38;5;129;01mnot\u001B[39;00m \u001B[38;5;28misinstance\u001B[39m(frame, DataFrame):\n\u001B[0;32m    691\u001B[0m     \u001B[38;5;28;01mraise\u001B[39;00m \u001B[38;5;167;01mNotImplementedError\u001B[39;00m(\n\u001B[0;32m    692\u001B[0m         \u001B[38;5;124m\"\u001B[39m\u001B[38;5;124m'\u001B[39m\u001B[38;5;124mframe\u001B[39m\u001B[38;5;124m'\u001B[39m\u001B[38;5;124m argument should be either a Series or a DataFrame\u001B[39m\u001B[38;5;124m\"\u001B[39m\n\u001B[0;32m    693\u001B[0m     )\n\u001B[1;32m--> 695\u001B[0m \u001B[38;5;28;01mreturn\u001B[39;00m \u001B[43mpandas_sql\u001B[49m\u001B[38;5;241;43m.\u001B[39;49m\u001B[43mto_sql\u001B[49m\u001B[43m(\u001B[49m\n\u001B[0;32m    696\u001B[0m \u001B[43m    \u001B[49m\u001B[43mframe\u001B[49m\u001B[43m,\u001B[49m\n\u001B[0;32m    697\u001B[0m \u001B[43m    \u001B[49m\u001B[43mname\u001B[49m\u001B[43m,\u001B[49m\n\u001B[0;32m    698\u001B[0m \u001B[43m    \u001B[49m\u001B[43mif_exists\u001B[49m\u001B[38;5;241;43m=\u001B[39;49m\u001B[43mif_exists\u001B[49m\u001B[43m,\u001B[49m\n\u001B[0;32m    699\u001B[0m \u001B[43m    \u001B[49m\u001B[43mindex\u001B[49m\u001B[38;5;241;43m=\u001B[39;49m\u001B[43mindex\u001B[49m\u001B[43m,\u001B[49m\n\u001B[0;32m    700\u001B[0m \u001B[43m    \u001B[49m\u001B[43mindex_label\u001B[49m\u001B[38;5;241;43m=\u001B[39;49m\u001B[43mindex_label\u001B[49m\u001B[43m,\u001B[49m\n\u001B[0;32m    701\u001B[0m \u001B[43m    \u001B[49m\u001B[43mschema\u001B[49m\u001B[38;5;241;43m=\u001B[39;49m\u001B[43mschema\u001B[49m\u001B[43m,\u001B[49m\n\u001B[0;32m    702\u001B[0m \u001B[43m    \u001B[49m\u001B[43mchunksize\u001B[49m\u001B[38;5;241;43m=\u001B[39;49m\u001B[43mchunksize\u001B[49m\u001B[43m,\u001B[49m\n\u001B[0;32m    703\u001B[0m \u001B[43m    \u001B[49m\u001B[43mdtype\u001B[49m\u001B[38;5;241;43m=\u001B[39;49m\u001B[43mdtype\u001B[49m\u001B[43m,\u001B[49m\n\u001B[0;32m    704\u001B[0m \u001B[43m    \u001B[49m\u001B[43mmethod\u001B[49m\u001B[38;5;241;43m=\u001B[39;49m\u001B[43mmethod\u001B[49m\u001B[43m,\u001B[49m\n\u001B[0;32m    705\u001B[0m \u001B[43m    \u001B[49m\u001B[43mengine\u001B[49m\u001B[38;5;241;43m=\u001B[39;49m\u001B[43mengine\u001B[49m\u001B[43m,\u001B[49m\n\u001B[0;32m    706\u001B[0m \u001B[43m    \u001B[49m\u001B[38;5;241;43m*\u001B[39;49m\u001B[38;5;241;43m*\u001B[39;49m\u001B[43mengine_kwargs\u001B[49m\u001B[43m,\u001B[49m\n\u001B[0;32m    707\u001B[0m \u001B[43m\u001B[49m\u001B[43m)\u001B[49m\n",
      "File \u001B[1;32m~\\anaconda3\\envs\\python-data-science\\lib\\site-packages\\pandas\\io\\sql.py:2188\u001B[0m, in \u001B[0;36mSQLiteDatabase.to_sql\u001B[1;34m(self, frame, name, if_exists, index, index_label, schema, chunksize, dtype, method, **kwargs)\u001B[0m\n\u001B[0;32m   2178\u001B[0m table \u001B[38;5;241m=\u001B[39m SQLiteTable(\n\u001B[0;32m   2179\u001B[0m     name,\n\u001B[0;32m   2180\u001B[0m     \u001B[38;5;28mself\u001B[39m,\n\u001B[1;32m   (...)\u001B[0m\n\u001B[0;32m   2185\u001B[0m     dtype\u001B[38;5;241m=\u001B[39mdtype,\n\u001B[0;32m   2186\u001B[0m )\n\u001B[0;32m   2187\u001B[0m table\u001B[38;5;241m.\u001B[39mcreate()\n\u001B[1;32m-> 2188\u001B[0m \u001B[38;5;28;01mreturn\u001B[39;00m \u001B[43mtable\u001B[49m\u001B[38;5;241;43m.\u001B[39;49m\u001B[43minsert\u001B[49m\u001B[43m(\u001B[49m\u001B[43mchunksize\u001B[49m\u001B[43m,\u001B[49m\u001B[43m \u001B[49m\u001B[43mmethod\u001B[49m\u001B[43m)\u001B[49m\n",
      "File \u001B[1;32m~\\anaconda3\\envs\\python-data-science\\lib\\site-packages\\pandas\\io\\sql.py:946\u001B[0m, in \u001B[0;36mSQLTable.insert\u001B[1;34m(self, chunksize, method)\u001B[0m\n\u001B[0;32m    943\u001B[0m     \u001B[38;5;28;01mbreak\u001B[39;00m\n\u001B[0;32m    945\u001B[0m chunk_iter \u001B[38;5;241m=\u001B[39m \u001B[38;5;28mzip\u001B[39m(\u001B[38;5;241m*\u001B[39m(arr[start_i:end_i] \u001B[38;5;28;01mfor\u001B[39;00m arr \u001B[38;5;129;01min\u001B[39;00m data_list))\n\u001B[1;32m--> 946\u001B[0m num_inserted \u001B[38;5;241m=\u001B[39m \u001B[43mexec_insert\u001B[49m\u001B[43m(\u001B[49m\u001B[43mconn\u001B[49m\u001B[43m,\u001B[49m\u001B[43m \u001B[49m\u001B[43mkeys\u001B[49m\u001B[43m,\u001B[49m\u001B[43m \u001B[49m\u001B[43mchunk_iter\u001B[49m\u001B[43m)\u001B[49m\n\u001B[0;32m    947\u001B[0m \u001B[38;5;66;03m# GH 46891\u001B[39;00m\n\u001B[0;32m    948\u001B[0m \u001B[38;5;28;01mif\u001B[39;00m is_integer(num_inserted):\n",
      "File \u001B[1;32m~\\anaconda3\\envs\\python-data-science\\lib\\site-packages\\pandas\\io\\sql.py:1894\u001B[0m, in \u001B[0;36mSQLiteTable._execute_insert\u001B[1;34m(self, conn, keys, data_iter)\u001B[0m\n\u001B[0;32m   1892\u001B[0m \u001B[38;5;28;01mdef\u001B[39;00m \u001B[38;5;21m_execute_insert\u001B[39m(\u001B[38;5;28mself\u001B[39m, conn, keys, data_iter) \u001B[38;5;241m-\u001B[39m\u001B[38;5;241m>\u001B[39m \u001B[38;5;28mint\u001B[39m:\n\u001B[0;32m   1893\u001B[0m     data_list \u001B[38;5;241m=\u001B[39m \u001B[38;5;28mlist\u001B[39m(data_iter)\n\u001B[1;32m-> 1894\u001B[0m     \u001B[43mconn\u001B[49m\u001B[38;5;241;43m.\u001B[39;49m\u001B[43mexecutemany\u001B[49m\u001B[43m(\u001B[49m\u001B[38;5;28;43mself\u001B[39;49m\u001B[38;5;241;43m.\u001B[39;49m\u001B[43minsert_statement\u001B[49m\u001B[43m(\u001B[49m\u001B[43mnum_rows\u001B[49m\u001B[38;5;241;43m=\u001B[39;49m\u001B[38;5;241;43m1\u001B[39;49m\u001B[43m)\u001B[49m\u001B[43m,\u001B[49m\u001B[43m \u001B[49m\u001B[43mdata_list\u001B[49m\u001B[43m)\u001B[49m\n\u001B[0;32m   1895\u001B[0m     \u001B[38;5;28;01mreturn\u001B[39;00m conn\u001B[38;5;241m.\u001B[39mrowcount\n",
      "\u001B[1;31mInterfaceError\u001B[0m: Error binding parameter 3 - probably unsupported type."
     ]
    }
   ],
   "source": [
    "con = sq3.connect(\"movies.db\")\n",
    "df.to_sql(\"Table Name\", con, index = False)"
   ]
  },
  {
   "cell_type": "code",
   "execution_count": null,
   "metadata": {},
   "outputs": [],
   "source": []
  },
  {
   "cell_type": "markdown",
   "metadata": {},
   "source": [
    "__Hints for 4.__<br>\n",
    "You can do this with:"
   ]
  },
  {
   "cell_type": "code",
   "execution_count": null,
   "metadata": {},
   "outputs": [],
   "source": [
    "con = sq3.connect(\"movies.db\")\n",
    "pd.read_sql(\"SELECT * FROM Table Name\", con, index_col = ...)"
   ]
  },
  {
   "cell_type": "code",
   "execution_count": null,
   "metadata": {},
   "outputs": [],
   "source": []
  },
  {
   "cell_type": "markdown",
   "metadata": {},
   "source": [
    "__Hints for 5., 6., 7., 8.__<br>\n",
    "You can do this with:"
   ]
  },
  {
   "cell_type": "code",
   "execution_count": null,
   "metadata": {},
   "outputs": [],
   "source": [
    "con = sq3.connect(\"movies.db\")\n",
    "df = pd.read_sql(\"insert the sql query here\", con)"
   ]
  }
 ],
 "metadata": {
  "kernelspec": {
   "display_name": "Python 3",
   "language": "python",
   "name": "python3"
  },
  "language_info": {
   "codemirror_mode": {
    "name": "ipython",
    "version": 3
   },
   "file_extension": ".py",
   "mimetype": "text/x-python",
   "name": "python",
   "nbconvert_exporter": "python",
   "pygments_lexer": "ipython3",
   "version": "3.7.4"
  }
 },
 "nbformat": 4,
 "nbformat_minor": 2
}
